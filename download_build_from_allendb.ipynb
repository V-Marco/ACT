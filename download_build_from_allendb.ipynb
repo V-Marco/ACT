{
  "cells": [
    {
      "cell_type": "markdown",
      "metadata": {
        "id": "ya_Dey7zuksy"
      },
      "source": [
        "# Downloading and building cells from AllenDB\n",
        "\n",
        "Useful links:\n",
        "1. [Database](http://celltypes.brain-map.org/data)\n",
        "2. [Downloading biophysical models](https://allensdk.readthedocs.io/en/latest/biophysical_models.html)\n",
        "3. [Example on building cells](https://alleninstitute.github.io/AllenSDK/_static/examples/nb/pulse_stimulus.html)"
      ]
    },
    {
      "cell_type": "code",
      "execution_count": 1,
      "metadata": {
        "id": "ni3ndt_-kYPm"
      },
      "outputs": [],
      "source": [
        "!pip install --quiet allensdk neuron"
      ]
    },
    {
      "cell_type": "code",
      "execution_count": 1,
      "metadata": {
        "id": "Fg6QlbRJvcha"
      },
      "outputs": [],
      "source": [
        "from allensdk.api.queries.biophysical_api import BiophysicalApi\n",
        "from allensdk.model.biophys_sim.config import Config\n",
        "from allensdk.model.biophysical.utils import Utils"
      ]
    },
    {
      "cell_type": "markdown",
      "metadata": {
        "id": "nLm0naZ1vfRB"
      },
      "source": [
        "## Download the cell"
      ]
    },
    {
      "cell_type": "code",
      "execution_count": 2,
      "metadata": {
        "colab": {
          "base_uri": "https://localhost:8080/"
        },
        "id": "jz0Svcsdlxk7",
        "outputId": "b5c48faf-bdd3-46a9-a559-bba31192f2e8"
      },
      "outputs": [
        {
          "data": {
            "text/plain": [
              "[{'id': 477878284,\n",
              "  'name': 'Biophysical - perisomatic_Sst-IRES-Cre;Ai14-188740.03.02.01',\n",
              "  'neuron_reconstruction_id': 491119369,\n",
              "  'neuronal_model_template_id': 329230710,\n",
              "  'specimen_id': 476686112},\n",
              " {'id': 497232660,\n",
              "  'name': 'Biophysical - all active_Sst-IRES-Cre;Ai14-188740.03.02.01',\n",
              "  'neuron_reconstruction_id': 491119369,\n",
              "  'neuronal_model_template_id': 491455321,\n",
              "  'specimen_id': 476686112}]"
            ]
          },
          "execution_count": 2,
          "metadata": {},
          "output_type": "execute_result"
        }
      ],
      "source": [
        "bp = BiophysicalApi()\n",
        "\n",
        "# Mouse L2/3 SST (Som) cell\n",
        "# http://celltypes.brain-map.org/mouse/experiment/electrophysiology/476686112\n",
        "bp.get_neuronal_models(476686112)"
      ]
    },
    {
      "cell_type": "code",
      "execution_count": 3,
      "metadata": {
        "colab": {
          "base_uri": "https://localhost:8080/"
        },
        "id": "TiL4l6WVl8eN",
        "outputId": "9d87e58f-179f-4912-cab0-82ef9ee9df37"
      },
      "outputs": [
        {
          "name": "stderr",
          "output_type": "stream",
          "text": [
            "2025-06-25 12:24:35,628 allensdk.api.api.retrieve_file_over_http INFO     Downloading URL: http://api.brain-map.org/api/v2/well_known_file_download/491216145\n",
            "2025-06-25 12:24:56,186 allensdk.api.api.retrieve_file_over_http INFO     Downloading URL: http://api.brain-map.org/api/v2/well_known_file_download/657210401\n",
            "2025-06-25 12:24:57,032 allensdk.api.api.retrieve_file_over_http INFO     Downloading URL: http://api.brain-map.org/api/v2/well_known_file_download/657210404\n",
            "2025-06-25 12:24:57,252 allensdk.api.api.retrieve_file_over_http INFO     Downloading URL: http://api.brain-map.org/api/v2/well_known_file_download/395337293\n",
            "2025-06-25 12:24:57,393 allensdk.api.api.retrieve_file_over_http INFO     Downloading URL: http://api.brain-map.org/api/v2/well_known_file_download/395337054\n",
            "2025-06-25 12:24:57,600 allensdk.api.api.retrieve_file_over_http INFO     Downloading URL: http://api.brain-map.org/api/v2/well_known_file_download/395337225\n",
            "2025-06-25 12:24:57,774 allensdk.api.api.retrieve_file_over_http INFO     Downloading URL: http://api.brain-map.org/api/v2/well_known_file_download/395337019\n",
            "2025-06-25 12:24:57,982 allensdk.api.api.retrieve_file_over_http INFO     Downloading URL: http://api.brain-map.org/api/v2/well_known_file_download/395337003\n",
            "2025-06-25 12:24:58,177 allensdk.api.api.retrieve_file_over_http INFO     Downloading URL: http://api.brain-map.org/api/v2/well_known_file_download/395337050\n",
            "2025-06-25 12:24:58,386 allensdk.api.api.retrieve_file_over_http INFO     Downloading URL: http://api.brain-map.org/api/v2/well_known_file_download/395337042\n",
            "2025-06-25 12:24:58,528 allensdk.api.api.retrieve_file_over_http INFO     Downloading URL: http://api.brain-map.org/api/v2/well_known_file_download/395337011\n",
            "2025-06-25 12:24:58,777 allensdk.api.api.retrieve_file_over_http INFO     Downloading URL: http://api.brain-map.org/api/v2/well_known_file_download/395337046\n",
            "2025-06-25 12:24:58,956 allensdk.api.api.retrieve_file_over_http INFO     Downloading URL: http://api.brain-map.org/api/v2/well_known_file_download/395337015\n",
            "2025-06-25 12:24:59,147 allensdk.api.api.retrieve_file_over_http INFO     Downloading URL: http://api.brain-map.org/api/v2/well_known_file_download/395337066\n",
            "2025-06-25 12:24:59,354 allensdk.api.api.retrieve_file_over_http INFO     Downloading URL: http://api.brain-map.org/api/v2/well_known_file_download/464138096\n",
            "2025-06-25 12:24:59,501 allensdk.api.api.retrieve_file_over_http INFO     Downloading URL: http://api.brain-map.org/api/v2/well_known_file_download/395337007\n",
            "2025-06-25 12:24:59,730 allensdk.api.api.retrieve_file_over_http INFO     Downloading URL: http://api.brain-map.org/api/v2/well_known_file_download/395337062\n",
            "2025-06-25 12:24:59,938 allensdk.api.api.retrieve_file_over_http INFO     Downloading URL: http://api.brain-map.org/api/v2/well_known_file_download/491113425\n",
            "2025-06-25 12:25:00,081 allensdk.api.api.retrieve_file_over_http INFO     Downloading URL: http://api.brain-map.org/api/v2/well_known_file_download/395337070\n",
            "2025-06-25 12:25:00,327 allensdk.api.api.retrieve_file_over_http INFO     Downloading URL: http://api.brain-map.org/api/v2/well_known_file_download/497236694\n"
          ]
        }
      ],
      "source": [
        "# Download the cell with passive dendrites\n",
        "bp.cache_stimulus = True # Change to False to not download the large stimulus NWB file\n",
        "bp.cache_data(477878284, working_directory = 'SOM')"
      ]
    },
    {
      "cell_type": "markdown",
      "metadata": {
        "id": "L6EW-xKqvmWg"
      },
      "source": [
        "## Build the cell\n",
        "\n",
        "(Can be used in a custom ACT builder)"
      ]
    },
    {
      "cell_type": "code",
      "execution_count": 5,
      "metadata": {
        "colab": {
          "base_uri": "https://localhost:8080/"
        },
        "id": "ohqoZc7OotdZ",
        "outputId": "e0940d2c-8d37-49c3-ce85-a015808489da"
      },
      "outputs": [
        {
          "name": "stdout",
          "output_type": "stream",
          "text": [
            "/content/SOM\n",
            "/usr/local/bin/nrnivmodl:10: DeprecationWarning: pkg_resources is deprecated as an API. See https://setuptools.pypa.io/en/latest/pkg_resources.html\n",
            "  from pkg_resources import working_set\n",
            "/content/SOM\n",
            "Mod files: \"modfiles/modfiles/CaDynamics.mod\" \"modfiles/modfiles/Ca_HVA.mod\" \"modfiles/modfiles/Ca_LVA.mod\" \"modfiles/modfiles/Ih.mod\" \"modfiles/modfiles/Im.mod\" \"modfiles/modfiles/Im_v2.mod\" \"modfiles/modfiles/Kd.mod\" \"modfiles/modfiles/K_P.mod\" \"modfiles/modfiles/K_T.mod\" \"modfiles/modfiles/Kv2like.mod\" \"modfiles/modfiles/Kv3_1.mod\" \"modfiles/modfiles/Nap.mod\" \"modfiles/modfiles/NaTa.mod\" \"modfiles/modfiles/NaTs.mod\" \"modfiles/modfiles/NaV.mod\" \"modfiles/modfiles/SK.mod\"\n",
            "\n",
            "Creating 'x86_64' directory for .o files.\n",
            "\n",
            " -> \u001b[32mCompiling\u001b[0m mod_func.cpp\n",
            " -> \u001b[32mNMODL\u001b[0m ../modfiles/Ca_HVA.mod\n",
            " -> \u001b[32mNMODL\u001b[0m ../modfiles/CaDynamics.mod\n",
            " -> \u001b[32mNMODL\u001b[0m ../modfiles/Ca_LVA.mod\n",
            "Translating Ca_HVA.mod into /content/SOM/x86_64/Ca_HVA.c\n",
            "Thread Safe\n",
            " -> \u001b[32mNMODL\u001b[0m ../modfiles/Ih.mod\n",
            "Translating Ca_LVA.mod into /content/SOM/x86_64/Ca_LVA.c\n",
            "Thread Safe\n",
            "Translating CaDynamics.mod into /content/SOM/x86_64/CaDynamics.c\n",
            "Translating Ih.mod into /content/SOM/x86_64/Ih.c\n",
            "Thread Safe\n",
            "Thread Safe\n",
            " -> \u001b[32mNMODL\u001b[0m ../modfiles/Im.mod\n",
            " -> \u001b[32mNMODL\u001b[0m ../modfiles/Im_v2.mod\n",
            "Translating Im.mod into /content/SOM/x86_64/Im.c\n",
            " -> \u001b[32mNMODL\u001b[0m ../modfiles/Kd.mod\n",
            "Thread Safe\n",
            " -> \u001b[32mNMODL\u001b[0m ../modfiles/K_P.mod\n",
            "Translating Im_v2.mod into /content/SOM/x86_64/Im_v2.c\n",
            "Thread Safe\n",
            " -> \u001b[32mNMODL\u001b[0m ../modfiles/K_T.mod\n",
            "Translating Kd.mod into /content/SOM/x86_64/Kd.c\n",
            "Translating K_T.mod into /content/SOM/x86_64/K_T.c\n",
            "Thread Safe\n",
            "Translating K_P.mod into /content/SOM/x86_64/K_P.c\n",
            "Thread Safe\n",
            " -> \u001b[32mNMODL\u001b[0m ../modfiles/Kv2like.mod\n",
            " -> \u001b[32mNMODL\u001b[0m ../modfiles/Kv3_1.mod\n",
            "Thread Safe\n",
            "Translating Kv3_1.mod into /content/SOM/x86_64/Kv3_1.c\n",
            "Thread Safe\n",
            " -> \u001b[32mNMODL\u001b[0m ../modfiles/Nap.mod\n",
            " -> \u001b[32mNMODL\u001b[0m ../modfiles/NaTa.mod\n",
            "Translating Kv2like.mod into /content/SOM/x86_64/Kv2like.c\n",
            "Translating NaTa.mod into /content/SOM/x86_64/NaTa.c\n",
            "Thread Safe\n",
            "Thread Safe\n",
            "Translating Nap.mod into /content/SOM/x86_64/Nap.c\n",
            "Thread Safe\n",
            " -> \u001b[32mNMODL\u001b[0m ../modfiles/NaTs.mod\n",
            " -> \u001b[32mNMODL\u001b[0m ../modfiles/NaV.mod\n",
            " -> \u001b[32mNMODL\u001b[0m ../modfiles/SK.mod\n",
            "Translating NaTs.mod into /content/SOM/x86_64/NaTs.c\n",
            "Thread Safe\n",
            "Translating NaV.mod into /content/SOM/x86_64/NaV.c\n",
            "NEURON's CVode method ignores conservation\n",
            " -> \u001b[32mCompiling\u001b[0m CaDynamics.c\n",
            "Notice: LINEAR is not thread safe.\n",
            "Translating SK.mod into /content/SOM/x86_64/SK.c\n",
            "Thread Safe\n",
            " -> \u001b[32mCompiling\u001b[0m Ca_HVA.c\n",
            " -> \u001b[32mCompiling\u001b[0m Ca_LVA.c\n",
            " -> \u001b[32mCompiling\u001b[0m Ih.c\n",
            " -> \u001b[32mCompiling\u001b[0m Im.c\n",
            " -> \u001b[32mCompiling\u001b[0m Im_v2.c\n",
            " -> \u001b[32mCompiling\u001b[0m Kd.c\n",
            " -> \u001b[32mCompiling\u001b[0m K_P.c\n",
            " -> \u001b[32mCompiling\u001b[0m K_T.c\n",
            " -> \u001b[32mCompiling\u001b[0m Kv2like.c\n",
            " -> \u001b[32mCompiling\u001b[0m Kv3_1.c\n",
            " -> \u001b[32mCompiling\u001b[0m Nap.c\n",
            " -> \u001b[32mCompiling\u001b[0m NaTa.c\n",
            " -> \u001b[32mCompiling\u001b[0m NaTs.c\n",
            " -> \u001b[32mCompiling\u001b[0m NaV.c\n",
            " -> \u001b[32mCompiling\u001b[0m SK.c\n",
            " => \u001b[32mLINKING\u001b[0m shared library ./libnrnmech.so\n",
            " => \u001b[32mLINKING\u001b[0m executable ./special LDFLAGS are:    -pthread\n",
            "Successfully created x86_64/special\n"
          ]
        }
      ],
      "source": [
        "%cd /content/SOM\n",
        "\n",
        "# Compile the modfiles\n",
        "!nrnivmodl modfiles\n",
        "\n",
        "# Create the h object\n",
        "description = Config().load('manifest.json')\n",
        "utils = Utils(description)\n",
        "h = utils.h"
      ]
    },
    {
      "cell_type": "code",
      "execution_count": 6,
      "metadata": {
        "colab": {
          "base_uri": "https://localhost:8080/"
        },
        "id": "I1YIh3VKpgTq",
        "outputId": "d50a9322-206e-46d9-b6ac-6656adaa1793"
      },
      "outputs": [
        {
          "name": "stdout",
          "output_type": "stream",
          "text": [
            "warning ./Sst-IRES-Cre_Ai14-188740.03.02.01_657210399_m.swc: more than one tree:\n",
            "  root at line 4\n",
            "  root at line 14504\n",
            "  root at line 14725\n",
            "  root at line 14798\n",
            "  root at line 15141\n",
            "  root at line 15144\n",
            "  root at line 15156\n",
            "  root at line 15211\n",
            "  root at line 15318\n",
            "  root at line 15496\n",
            "  root at line 15811\n",
            "  root at line 15857\n",
            "  root at line 15883\n",
            "  root at line 16161\n",
            "  root at line 16200\n",
            "  root at line 16210\n",
            "  root at line 16253\n",
            "  root at line 16286\n",
            "  root at line 16301\n",
            "  root at line 16326\n",
            "  root at line 16574\n",
            "  root at line 16613\n",
            "  root at line 16618\n",
            "  root at line 16645\n",
            "  root at line 16695\n",
            "  root at line 16751\n",
            "  root at line 16765\n",
            "  root at line 16768\n"
          ]
        }
      ],
      "source": [
        "# Configure morphology\n",
        "manifest = description.manifest\n",
        "morphology_path = description.manifest.get_path('MORPHOLOGY')\n",
        "utils.generate_morphology(morphology_path.encode('ascii', 'ignore'))\n",
        "utils.load_cell_parameters()"
      ]
    }
  ],
  "metadata": {
    "colab": {
      "provenance": []
    },
    "kernelspec": {
      "display_name": "simulations",
      "language": "python",
      "name": "python3"
    },
    "language_info": {
      "codemirror_mode": {
        "name": "ipython",
        "version": 3
      },
      "file_extension": ".py",
      "mimetype": "text/x-python",
      "name": "python",
      "nbconvert_exporter": "python",
      "pygments_lexer": "ipython3",
      "version": "3.10.13"
    }
  },
  "nbformat": 4,
  "nbformat_minor": 0
}
