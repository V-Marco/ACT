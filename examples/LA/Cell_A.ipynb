{
 "cells": [
  {
   "cell_type": "markdown",
   "id": "8ea2c844-9265-43b7-9a61-86ad838adf95",
   "metadata": {},
   "source": [
    "# LA Type A Cell Example"
   ]
  },
  {
   "cell_type": "markdown",
   "id": "425ec2f3-52e7-4310-91a3-4fee6af9631c",
   "metadata": {},
   "source": [
    "### Install dependencies for ACT and setup environment"
   ]
  },
  {
   "cell_type": "code",
   "execution_count": 1,
   "id": "7251b10c-54b7-40e9-a6b5-6897ad343fbf",
   "metadata": {},
   "outputs": [
    {
     "name": "stdout",
     "output_type": "stream",
     "text": [
      "Requirement already satisfied: act-neuron in /home/tyler/neuro-venv/lib/python3.10/site-packages (0.0.9)\n",
      "Requirement already satisfied: numpy in /home/tyler/neuro-venv/lib/python3.10/site-packages (from act-neuron) (1.25.1)\n",
      "Requirement already satisfied: matplotlib in /home/tyler/neuro-venv/lib/python3.10/site-packages (from act-neuron) (3.7.2)\n",
      "Requirement already satisfied: neuron>=8.2.0 in /home/tyler/neuro-venv/lib/python3.10/site-packages (from act-neuron) (8.2.2)\n",
      "Requirement already satisfied: torch in /home/tyler/neuro-venv/lib/python3.10/site-packages (from act-neuron) (2.0.1)\n",
      "Requirement already satisfied: cycler>=0.10 in /home/tyler/neuro-venv/lib/python3.10/site-packages (from matplotlib->act-neuron) (0.11.0)\n",
      "Requirement already satisfied: fonttools>=4.22.0 in /home/tyler/neuro-venv/lib/python3.10/site-packages (from matplotlib->act-neuron) (4.41.1)\n",
      "Requirement already satisfied: contourpy>=1.0.1 in /home/tyler/neuro-venv/lib/python3.10/site-packages (from matplotlib->act-neuron) (1.1.0)\n",
      "Requirement already satisfied: pyparsing<3.1,>=2.3.1 in /home/tyler/neuro-venv/lib/python3.10/site-packages (from matplotlib->act-neuron) (3.0.9)\n",
      "Requirement already satisfied: packaging>=20.0 in /home/tyler/neuro-venv/lib/python3.10/site-packages (from matplotlib->act-neuron) (23.1)\n",
      "Requirement already satisfied: kiwisolver>=1.0.1 in /home/tyler/neuro-venv/lib/python3.10/site-packages (from matplotlib->act-neuron) (1.4.4)\n",
      "Requirement already satisfied: pillow>=6.2.0 in /home/tyler/neuro-venv/lib/python3.10/site-packages (from matplotlib->act-neuron) (10.0.0)\n",
      "Requirement already satisfied: python-dateutil>=2.7 in /home/tyler/neuro-venv/lib/python3.10/site-packages (from matplotlib->act-neuron) (2.8.2)\n",
      "Requirement already satisfied: typing-extensions in /home/tyler/neuro-venv/lib/python3.10/site-packages (from torch->act-neuron) (4.7.1)\n",
      "Requirement already satisfied: nvidia-cufft-cu11==10.9.0.58 in /home/tyler/neuro-venv/lib/python3.10/site-packages (from torch->act-neuron) (10.9.0.58)\n",
      "Requirement already satisfied: filelock in /home/tyler/neuro-venv/lib/python3.10/site-packages (from torch->act-neuron) (3.12.2)\n",
      "Requirement already satisfied: networkx in /home/tyler/neuro-venv/lib/python3.10/site-packages (from torch->act-neuron) (3.1)\n",
      "Requirement already satisfied: nvidia-cuda-cupti-cu11==11.7.101 in /home/tyler/neuro-venv/lib/python3.10/site-packages (from torch->act-neuron) (11.7.101)\n",
      "Requirement already satisfied: jinja2 in /home/tyler/neuro-venv/lib/python3.10/site-packages (from torch->act-neuron) (3.1.2)\n",
      "Requirement already satisfied: nvidia-cusolver-cu11==11.4.0.1 in /home/tyler/neuro-venv/lib/python3.10/site-packages (from torch->act-neuron) (11.4.0.1)\n",
      "Requirement already satisfied: nvidia-nvtx-cu11==11.7.91 in /home/tyler/neuro-venv/lib/python3.10/site-packages (from torch->act-neuron) (11.7.91)\n",
      "Requirement already satisfied: nvidia-cuda-runtime-cu11==11.7.99 in /home/tyler/neuro-venv/lib/python3.10/site-packages (from torch->act-neuron) (11.7.99)\n",
      "Requirement already satisfied: nvidia-cusparse-cu11==11.7.4.91 in /home/tyler/neuro-venv/lib/python3.10/site-packages (from torch->act-neuron) (11.7.4.91)\n",
      "Requirement already satisfied: sympy in /home/tyler/neuro-venv/lib/python3.10/site-packages (from torch->act-neuron) (1.12)\n",
      "Requirement already satisfied: nvidia-curand-cu11==10.2.10.91 in /home/tyler/neuro-venv/lib/python3.10/site-packages (from torch->act-neuron) (10.2.10.91)\n",
      "Requirement already satisfied: triton==2.0.0 in /home/tyler/neuro-venv/lib/python3.10/site-packages (from torch->act-neuron) (2.0.0)\n",
      "Requirement already satisfied: nvidia-cuda-nvrtc-cu11==11.7.99 in /home/tyler/neuro-venv/lib/python3.10/site-packages (from torch->act-neuron) (11.7.99)\n",
      "Requirement already satisfied: nvidia-nccl-cu11==2.14.3 in /home/tyler/neuro-venv/lib/python3.10/site-packages (from torch->act-neuron) (2.14.3)\n",
      "Requirement already satisfied: nvidia-cublas-cu11==11.10.3.66 in /home/tyler/neuro-venv/lib/python3.10/site-packages (from torch->act-neuron) (11.10.3.66)\n",
      "Requirement already satisfied: nvidia-cudnn-cu11==8.5.0.96 in /home/tyler/neuro-venv/lib/python3.10/site-packages (from torch->act-neuron) (8.5.0.96)\n",
      "Requirement already satisfied: wheel in /home/tyler/neuro-venv/lib/python3.10/site-packages (from nvidia-cublas-cu11==11.10.3.66->torch->act-neuron) (0.41.0)\n",
      "Requirement already satisfied: setuptools in /home/tyler/neuro-venv/lib/python3.10/site-packages (from nvidia-cublas-cu11==11.10.3.66->torch->act-neuron) (68.0.0)\n",
      "Requirement already satisfied: lit in /home/tyler/neuro-venv/lib/python3.10/site-packages (from triton==2.0.0->torch->act-neuron) (16.0.6)\n",
      "Requirement already satisfied: cmake in /home/tyler/neuro-venv/lib/python3.10/site-packages (from triton==2.0.0->torch->act-neuron) (3.27.0)\n",
      "Requirement already satisfied: six>=1.5 in /home/tyler/neuro-venv/lib/python3.10/site-packages (from python-dateutil>=2.7->matplotlib->act-neuron) (1.16.0)\n",
      "Requirement already satisfied: MarkupSafe>=2.0 in /home/tyler/neuro-venv/lib/python3.10/site-packages (from jinja2->torch->act-neuron) (2.1.3)\n",
      "Requirement already satisfied: mpmath>=0.19 in /home/tyler/neuro-venv/lib/python3.10/site-packages (from sympy->torch->act-neuron) (1.3.0)\n"
     ]
    }
   ],
   "source": [
    "!pip install act-neuron\n",
    "\n",
    "import os\n",
    "import sys\n",
    "\n",
    "from act import simulator, analysis\n",
    "from IPython.display import Image\n",
    "import numpy as np\n",
    "\n",
    "# Download the repository with all relevant model files if in google colab\n",
    "IN_COLAB = \"google.colab\" in sys.modules\n",
    "if IN_COLAB:\n",
    "    !rm -rf ./ACT\n",
    "    !git clone https://github.com/V-Marco/ACT\n",
    "    base_dir = \"./ACT\"\n",
    "else:\n",
    "    base_dir = \"../..\""
   ]
  },
  {
   "cell_type": "markdown",
   "id": "f470d7c4",
   "metadata": {},
   "source": [
    "### The non-segregated approach\n",
    "\n",
    "Define a config file for ACT to run a simulation."
   ]
  },
  {
   "cell_type": "code",
   "execution_count": 5,
   "id": "3133379a",
   "metadata": {},
   "outputs": [],
   "source": [
    "config = {\n",
    "    \"cell\": {\n",
    "        \"hoc_file\": os.path.join(base_dir, \"data/LA/A/template.hoc\"),\n",
    "        \"modfiles_folder\": os.path.join(base_dir, \"data/LA/A/orig_modfiles\"),\n",
    "        \"name\": \"Cell_A\",\n",
    "    },\n",
    "    \"simulation_parameters\": {\n",
    "        \"h_v_init\": -70.0,  # (mV)\n",
    "        \"h_tstop\": 2000,  # (ms)\n",
    "        \"h_i_delay\": 500,  # (ms)\n",
    "        \"h_i_dur\": 1500,  # (ms)\n",
    "        \"h_dt\": 0.025,\n",
    "    },\n",
    "    \"optimization_parameters\": {\n",
    "        \"amps\": list(np.arange(-2, 10, 0.1)),\n",
    "        \"params\": [\n",
    "            {\"channel\": \"glbar_leak\", \"low\": 2.75e-5, \"high\": 1e-4}, # leak, passive\n",
    "            {\"channel\": \"ghdbar_hd\", \"low\": 1.15e-05, \"high\": 4.6e-05}, # hd, passive\n",
    "            {\"channel\": \"gbar_nap\", \"low\": 0.000071, \"high\": 0.000284}, # nap, lto and hto\n",
    "            {\"channel\": \"gmbar_im\", \"low\": 0.001, \"high\": 0.004}, # im, lto and hto\n",
    "            {\"channel\": \"gbar_na3\", \"low\": 0.015, \"high\": 0.06}, # na3, spiking/adaptation\n",
    "            {\"channel\": \"gkdrbar_kdr\", \"low\": 0.00075, \"high\": 0.003}, # kdr, spiking/adaptation\n",
    "            {\"channel\": \"gcabar_cadyn\", \"low\": 3e-5, \"high\": 1.2e-4}, # cadyn, spiking/adaptation\n",
    "            {\"channel\": \"gsAHPbar_sAHP\", \"low\": 0.0045, \"high\": 0.018}, # sahp, spiking/adaptation\n",
    "        ],\n",
    "        \"target_V\": None,  # Target voltages\n",
    "        \"target_params\": [5.5e-5, 2.3e-05, 0.000142, 0.002, 0.03, 0.0015, 6e-5, 0.009],\n",
    "        \"num_repeats\": 3,\n",
    "        \"num_amps_to_match\": 12,\n",
    "        \"num_epochs\": 5000,\n",
    "    },\n",
    "    \"summary_features\": {\n",
    "        \"spike_threshold\": 20,  # (mV)\n",
    "        # Target-sim match conditions (max abs diff between sim and target)\n",
    "        \"mc_num_spikes\": 1,\n",
    "        \"mc_interspike_time\": 200,  # (ms)\n",
    "        \"mc_min_v\": 1,  # (mV)\n",
    "        \"mc_mean_v\": 2,  # (mV)\n",
    "        \"mc_max_v\": 1,  # (mV)\n",
    "    },\n",
    "    \"segregation\": [\n",
    "        { # passive\n",
    "            \"params\": [\"glbar_leak\", \"ghdbar_hd\"],\n",
    "            \"voltage\": [-80, -67.5],\n",
    "        },\n",
    "        { # lto\n",
    "            \"params\": [\"gbar_nap\", \"gmbar_im\"],\n",
    "            \"voltage\": [-67.5, -57.5],\n",
    "        },\n",
    "        { # spking / adaptation\n",
    "            \"params\": [\"gbar_na3\", \"gkdrbar_kdr\", \"gcabar_cadyn\", \"gsAHPbar_sAHP\"],\n",
    "            \"voltage\": [-57.5, 0],\n",
    "        },\n",
    "        { # hto\n",
    "            \"params\": [\"gbar_nap\", \"gmbar_im\"],\n",
    "            \"voltage\": [-40, -30],\n",
    "        },\n",
    "    ],\n",
    "    \"output\": {\"folder\": \"output_LA_A\", \"produce_plots\": True},\n",
    "    \"run_mode\": \"original\",  # \"original\", \"segregated\"\n",
    "}"
   ]
  },
  {
   "cell_type": "code",
   "execution_count": 6,
   "id": "ad40fbb1",
   "metadata": {},
   "outputs": [
    {
     "name": "stderr",
     "output_type": "stream",
     "text": [
      "/home/tyler/neuro-venv/bin/nrnivmodl:10: DeprecationWarning: pkg_resources is deprecated as an API. See https://setuptools.pypa.io/en/latest/pkg_resources.html\n",
      "  from pkg_resources import working_set\n"
     ]
    },
    {
     "name": "stdout",
     "output_type": "stream",
     "text": [
      "INFO : Using neuron-nightly Package (Developer Version)\n",
      "/home/tyler/git_stage/ACT/examples/LA\n",
      "Mod files: \"../../data/LA/A/orig_modfiles/../../data/LA/A/orig_modfiles/cadyn.mod\" \"../../data/LA/A/orig_modfiles/../../data/LA/A/orig_modfiles/cal2.mod\" \"../../data/LA/A/orig_modfiles/../../data/LA/A/orig_modfiles/ca.mod\" \"../../data/LA/A/orig_modfiles/../../data/LA/A/orig_modfiles/capool.mod\" \"../../data/LA/A/orig_modfiles/../../data/LA/A/orig_modfiles/cat.mod\" \"../../data/LA/A/orig_modfiles/../../data/LA/A/orig_modfiles/currentclamp.mod\" \"../../data/LA/A/orig_modfiles/../../data/LA/A/orig_modfiles/function_TMonitor.mod\" \"../../data/LA/A/orig_modfiles/../../data/LA/A/orig_modfiles/h.mod\" \"../../data/LA/A/orig_modfiles/../../data/LA/A/orig_modfiles/ICat2.mod\" \"../../data/LA/A/orig_modfiles/../../data/LA/A/orig_modfiles/Ikleaksd.mod\" \"../../data/LA/A/orig_modfiles/../../data/LA/A/orig_modfiles/im.mod\" \"../../data/LA/A/orig_modfiles/../../data/LA/A/orig_modfiles/kadist.mod\" \"../../data/LA/A/orig_modfiles/../../data/LA/A/orig_modfiles/kaprox.mod\" \"../../data/LA/A/orig_modfiles/../../data/LA/A/orig_modfiles/kdrca1DA.mod\" \"../../data/LA/A/orig_modfiles/../../data/LA/A/orig_modfiles/kdrca1.mod\" \"../../data/LA/A/orig_modfiles/../../data/LA/A/orig_modfiles/kdrinter.mod\" \"../../data/LA/A/orig_modfiles/../../data/LA/A/orig_modfiles/kdtx.mod\" \"../../data/LA/A/orig_modfiles/../../data/LA/A/orig_modfiles/leakDA.mod\" \"../../data/LA/A/orig_modfiles/../../data/LA/A/orig_modfiles/leakinter.mod\" \"../../data/LA/A/orig_modfiles/../../data/LA/A/orig_modfiles/leak.mod\" \"../../data/LA/A/orig_modfiles/../../data/LA/A/orig_modfiles/na3DA.mod\" \"../../data/LA/A/orig_modfiles/../../data/LA/A/orig_modfiles/na3.mod\" \"../../data/LA/A/orig_modfiles/../../data/LA/A/orig_modfiles/nainter.mod\" \"../../data/LA/A/orig_modfiles/../../data/LA/A/orig_modfiles/na.mod\" \"../../data/LA/A/orig_modfiles/../../data/LA/A/orig_modfiles/nap.mod\" \"../../data/LA/A/orig_modfiles/../../data/LA/A/orig_modfiles/naxDA.mod\" \"../../data/LA/A/orig_modfiles/../../data/LA/A/orig_modfiles/nax.mod\" \"../../data/LA/A/orig_modfiles/../../data/LA/A/orig_modfiles/sahp.mod\" \"../../data/LA/A/orig_modfiles/../../data/LA/A/orig_modfiles/sahpNE.mod\"\n",
      "\n",
      " -> \u001b[32mCompiling\u001b[0m mod_func.cpp\n",
      " => \u001b[32mLINKING\u001b[0m shared library ./libnrnmech.so\n",
      "Successfully created x86_64/special\n"
     ]
    },
    {
     "name": "stderr",
     "output_type": "stream",
     "text": [
      "NEURON: The user defined name already exists: cadyn\n",
      " near line 0\n",
      " ^\n",
      "        nrn_load_dll(\"./x86_64/....\")\n"
     ]
    },
    {
     "name": "stdout",
     "output_type": "stream",
     "text": [
      "\n",
      "(2023-09-09 12:05:04.933514)-[START]\n",
      "(2023-09-09 12:05:04.933635)-[INFO]: Number of amplitudes: 120\n",
      "(2023-09-09 12:05:04.941207)-[INFO]: Mod files already loaded. Continuing.\n",
      "(2023-09-09 12:06:16.743045)-[INFO]: Target voltage shape: torch.Size([120, 80000])\n",
      "Skipping analytical setting of passive properties, no cell passive_properties specified in config.\n",
      "(2023-09-09 12:06:16.799075)-[INFO]: Matching 12 amplitudes.\n",
      "(2023-09-09 12:07:19.456886)-[INFO]: Total amplitudes matched: 10/12.\n"
     ]
    },
    {
     "ename": "KeyboardInterrupt",
     "evalue": "",
     "output_type": "error",
     "traceback": [
      "\u001b[0;31m---------------------------------------------------------------------------\u001b[0m",
      "\u001b[0;31mKeyboardInterrupt\u001b[0m                         Traceback (most recent call last)",
      "Cell \u001b[0;32mIn[6], line 3\u001b[0m\n\u001b[1;32m      1\u001b[0m \u001b[39m# Run the simulation\u001b[39;00m\n\u001b[0;32m----> 3\u001b[0m simulator\u001b[39m.\u001b[39;49mrun(config)\n",
      "File \u001b[0;32m~/git_stage/ACT/act/simulator.py:130\u001b[0m, in \u001b[0;36mrun\u001b[0;34m(config)\u001b[0m\n\u001b[1;32m    129\u001b[0m \u001b[39mdef\u001b[39;00m \u001b[39mrun\u001b[39m(config: SimulationConfig):\n\u001b[0;32m--> 130\u001b[0m     _run(config)\n",
      "File \u001b[0;32m~/git_stage/ACT/act/simulator.py:56\u001b[0m, in \u001b[0;36m_run\u001b[0;34m(config)\u001b[0m\n\u001b[1;32m     54\u001b[0m \u001b[39mif\u001b[39;00m config[\u001b[39m\"\u001b[39m\u001b[39mrun_mode\u001b[39m\u001b[39m\"\u001b[39m] \u001b[39m==\u001b[39m \u001b[39m\"\u001b[39m\u001b[39moriginal\u001b[39m\u001b[39m\"\u001b[39m:\n\u001b[1;32m     55\u001b[0m     optim \u001b[39m=\u001b[39m GeneralACTOptimizer(simulation_config\u001b[39m=\u001b[39mconfig, logger\u001b[39m=\u001b[39mlogger)\n\u001b[0;32m---> 56\u001b[0m     predictions \u001b[39m=\u001b[39m optim\u001b[39m.\u001b[39;49moptimize(target_V)\n\u001b[1;32m     57\u001b[0m \u001b[39melif\u001b[39;00m config[\u001b[39m\"\u001b[39m\u001b[39mrun_mode\u001b[39m\u001b[39m\"\u001b[39m] \u001b[39m==\u001b[39m \u001b[39m\"\u001b[39m\u001b[39msegregated\u001b[39m\u001b[39m\"\u001b[39m:\n\u001b[1;32m     58\u001b[0m     optim \u001b[39m=\u001b[39m GeneralACTOptimizer(simulation_config\u001b[39m=\u001b[39mconfig, logger\u001b[39m=\u001b[39mlogger)\n",
      "File \u001b[0;32m~/git_stage/ACT/act/optim.py:207\u001b[0m, in \u001b[0;36mGeneralACTOptimizer.optimize\u001b[0;34m(self, target_V)\u001b[0m\n\u001b[1;32m    205\u001b[0m \u001b[39mdef\u001b[39;00m \u001b[39moptimize\u001b[39m(\u001b[39mself\u001b[39m, target_V: torch\u001b[39m.\u001b[39mTensor) \u001b[39m-\u001b[39m\u001b[39m>\u001b[39m torch\u001b[39m.\u001b[39mTensor:\n\u001b[1;32m    206\u001b[0m     \u001b[39m# Get voltage with characteristics similar to target\u001b[39;00m\n\u001b[0;32m--> 207\u001b[0m     simulated_V_for_next_stage, param_samples_for_next_stage \u001b[39m=\u001b[39m \u001b[39mself\u001b[39;49m\u001b[39m.\u001b[39;49mmatch_voltage(\n\u001b[1;32m    208\u001b[0m         target_V\n\u001b[1;32m    209\u001b[0m     )\n\u001b[1;32m    211\u001b[0m     \u001b[39mself\u001b[39m\u001b[39m.\u001b[39mmodel \u001b[39m=\u001b[39m \u001b[39mself\u001b[39m\u001b[39m.\u001b[39minit_nn_model(\n\u001b[1;32m    212\u001b[0m         in_channels\u001b[39m=\u001b[39mtarget_V\u001b[39m.\u001b[39mshape[\u001b[39m1\u001b[39m], out_channels\u001b[39m=\u001b[39m\u001b[39mself\u001b[39m\u001b[39m.\u001b[39mnum_params\n\u001b[1;32m    213\u001b[0m     )\n\u001b[1;32m    215\u001b[0m     \u001b[39m# Resample to match the length of target data\u001b[39;00m\n",
      "File \u001b[0;32m~/git_stage/ACT/act/optim.py:414\u001b[0m, in \u001b[0;36mGeneralACTOptimizer.match_voltage\u001b[0;34m(self, target_V)\u001b[0m\n\u001b[1;32m    411\u001b[0m     \u001b[39mif\u001b[39;00m non_corresp[ind] \u001b[39m==\u001b[39m \u001b[39m1\u001b[39m:\n\u001b[1;32m    412\u001b[0m         \u001b[39m# For each current injection amplitude, sample random parameters\u001b[39;00m\n\u001b[1;32m    413\u001b[0m         param_samples \u001b[39m=\u001b[39m np\u001b[39m.\u001b[39mrandom\u001b[39m.\u001b[39muniform(low\u001b[39m=\u001b[39mlows, high\u001b[39m=\u001b[39mhighs)\n\u001b[0;32m--> 414\u001b[0m         simulated_V[ind] \u001b[39m=\u001b[39m \u001b[39mself\u001b[39;49m\u001b[39m.\u001b[39;49msimulate(amp, params, param_samples)\n\u001b[1;32m    415\u001b[0m         param_samples_for_next_stage[ind] \u001b[39m=\u001b[39m torch\u001b[39m.\u001b[39mTensor(param_samples)\n\u001b[1;32m    417\u001b[0m \u001b[39m# Compute summary features for simulated data\u001b[39;00m\n",
      "File \u001b[0;32m~/git_stage/ACT/act/optim.py:107\u001b[0m, in \u001b[0;36mACTOptimizer.simulate\u001b[0;34m(self, amp, parameter_names, parameter_values, i_dur, i_delay)\u001b[0m\n\u001b[1;32m    100\u001b[0m     i_delay \u001b[39m=\u001b[39m \u001b[39mself\u001b[39m\u001b[39m.\u001b[39mconfig[\u001b[39m\"\u001b[39m\u001b[39msimulation_parameters\u001b[39m\u001b[39m\"\u001b[39m][\u001b[39m\"\u001b[39m\u001b[39mh_i_delay\u001b[39m\u001b[39m\"\u001b[39m]\n\u001b[1;32m    101\u001b[0m \u001b[39mself\u001b[39m\u001b[39m.\u001b[39mcell\u001b[39m.\u001b[39mapply_current_injection(\n\u001b[1;32m    102\u001b[0m     amp,\n\u001b[1;32m    103\u001b[0m     i_dur,\n\u001b[1;32m    104\u001b[0m     i_delay,\n\u001b[1;32m    105\u001b[0m )\n\u001b[0;32m--> 107\u001b[0m h\u001b[39m.\u001b[39;49mrun()\n\u001b[1;32m    109\u001b[0m \u001b[39mreturn\u001b[39;00m torch\u001b[39m.\u001b[39mTensor(\u001b[39mself\u001b[39m\u001b[39m.\u001b[39mcell\u001b[39m.\u001b[39mVm\u001b[39m.\u001b[39mas_numpy()[:\u001b[39m-\u001b[39m\u001b[39m1\u001b[39m])\n",
      "\u001b[0;31mKeyboardInterrupt\u001b[0m: "
     ]
    }
   ],
   "source": [
    "# Run the simulation\n",
    "\n",
    "simulator.run(config)"
   ]
  },
  {
   "cell_type": "code",
   "execution_count": null,
   "id": "9721bdb8-e60f-4de1-849a-95759e73f441",
   "metadata": {},
   "outputs": [
    {
     "data": {
      "image/png": "[encoded data removed]",
      "text/plain": [
       "<IPython.core.display.Image object>"
      ]
     },
     "execution_count": 4,
     "metadata": {},
     "output_type": "execute_result"
    }
   ],
   "source": [
    "Image(filename=\"./output_LA_A/original/1000nA.png\")"
   ]
  },
  {
   "cell_type": "code",
   "execution_count": null,
   "id": "fe4fedac-8ded-4c0d-b905-a8235623e6a1",
   "metadata": {},
   "outputs": [
    {
     "name": "stdout",
     "output_type": "stream",
     "text": [
      "output_LA_A : original\n",
      "Med MSE: 51.6922 (71.3803)\n",
      "Med Corr: 0.8752 (0.1093)\n",
      "\n",
      "Predicted values:\n",
      "   glbar_leak  ghdbar_hd  gbar_nap  gmbar_im  gbar_na3  gkdrbar_kdr  \\\n",
      "0     0.00004   0.000044  0.000243     0.004      0.06        0.003   \n",
      "\n",
      "   gcabar_cadyn  gsAHPbar_sAHP  \n",
      "0       0.00012       0.008336  \n",
      "Target values:\n",
      "   glbar_leak  ghdbar_hd  gbar_nap  gmbar_im  gbar_na3  gkdrbar_kdr  \\\n",
      "0    0.000055   0.000023  0.000142     0.002      0.03       0.0015   \n",
      "\n",
      "   gcabar_cadyn  gsAHPbar_sAHP  \n",
      "0       0.00006          0.009  \n",
      "Error:\n",
      "   glbar_leak  ghdbar_hd  gbar_nap  gmbar_im  gbar_na3  gkdrbar_kdr  \\\n",
      "0   -0.000015   0.000021  0.000101     0.002      0.03       0.0015   \n",
      "\n",
      "   gcabar_cadyn  gsAHPbar_sAHP  \n",
      "0       0.00006      -0.000664  \n",
      "\n",
      "Pred MAE: 0.0043\n",
      "\n",
      "Passive properties:\n",
      "{\n",
      "  \"leak_conductance_variable\": null,\n",
      "  \"leak_reversal_variable\": null,\n",
      "  \"r_in\": 71.47682189941406,\n",
      "  \"tau\": 14.0,\n",
      "  \"v_rest\": -71.93914031982422\n",
      "}\n",
      "----------\n",
      "\n"
     ]
    }
   ],
   "source": [
    "analysis.print_run_stats(config)"
   ]
  },
  {
   "cell_type": "markdown",
   "id": "6bbdc4fb-d3b2-469f-bd02-7d2a5cab8cec",
   "metadata": {},
   "source": [
    "### Segregation with analytical setting of passive properties\n",
    "\n",
    "In this section, let's set the passive properties for the cell so they can be analytically determined instead of using a model network."
   ]
  },
  {
   "cell_type": "code",
   "execution_count": 3,
   "id": "7310cf7b",
   "metadata": {},
   "outputs": [],
   "source": [
    "config = {\n",
    "    \"cell\": {\n",
    "        \"hoc_file\": os.path.join(base_dir, \"data/LA/A/template.hoc\"),\n",
    "        \"modfiles_folder\": os.path.join(base_dir, \"data/LA/A/seg_modfiles\"),\n",
    "        \"name\": \"Cell_A\",\n",
    "        \"passive_properties\": {\n",
    "            \"v_rest\": -70,\n",
    "            \"r_in\": 141,\n",
    "            \"tau\": 30.88,\n",
    "            \"leak_conductance_variable\": \"glbar_leak\",  # eg: g_leak\n",
    "            \"leak_reversal_variable\": \"el_leak\",  # eg: e_leak\n",
    "        },\n",
    "    },\n",
    "    \"simulation_parameters\": {\n",
    "        \"h_v_init\": -70.0,  # (mV)\n",
    "        \"h_tstop\": 2000,  # (ms)\n",
    "        \"h_i_delay\": 500,  # (ms)\n",
    "        \"h_i_dur\": 1500,  # (ms)\n",
    "        \"h_dt\": 0.025,\n",
    "    },\n",
    "    \"optimization_parameters\": {\n",
    "        \"amps\": list(np.arange(-2, 10, 0.1)),\n",
    "        \"params\": [\n",
    "            {\"channel\": \"ghdbar_hd\", \"low\": 1.15e-05, \"high\": 4.6e-05}, # hd, passive\n",
    "            {\"channel\": \"gbar_nap\", \"low\": 0.000071, \"high\": 0.000284}, # nap, lto and hto\n",
    "            {\"channel\": \"gmbar_im\", \"low\": 0.001, \"high\": 0.004}, # im, lto and hto\n",
    "            {\"channel\": \"gbar_na3\", \"low\": 0.015, \"high\": 0.06}, # na3, spiking/adaptation\n",
    "            {\"channel\": \"gkdrbar_kdr\", \"low\": 0.00075, \"high\": 0.003}, # kdr, spiking/adaptation\n",
    "            {\"channel\": \"gcabar_cadyn\", \"low\": 3e-5, \"high\": 1.2e-4}, # cadyn, spiking/adaptation\n",
    "            {\"channel\": \"gsAHPbar_sAHP\", \"low\": 0.0045, \"high\": 0.018}, # sahp, spiking/adaptation\n",
    "        ],\n",
    "        \"target_V\": None,  # Target voltages\n",
    "        \"target_params\": [5.5e-5, 2.3e-05, 0.000142, 0.002, 0.03, 0.0015, 6e-5, 0.009],\n",
    "        \"num_repeats\": 3,\n",
    "        \"num_amps_to_match\": 12,\n",
    "        \"num_epochs\": 5000,\n",
    "    },\n",
    "    \"summary_features\": {\n",
    "        \"spike_threshold\": 20,  # (mV)\n",
    "        # Target-sim match conditions (max abs diff between sim and target)\n",
    "        \"mc_num_spikes\": 1,\n",
    "        \"mc_interspike_time\": 200,  # (ms)\n",
    "        \"mc_min_v\": 1,  # (mV)\n",
    "        \"mc_mean_v\": 2,  # (mV)\n",
    "        \"mc_max_v\": 1,  # (mV)\n",
    "    },\n",
    "    \"segregation\": [\n",
    "        #{ # passive\n",
    "        #    \"params\": [\"ghdbar_hd\"],\n",
    "        #    \"voltage\": [-80, -67.5],\n",
    "        #},\n",
    "        { # lto\n",
    "            \"params\": [\"gbar_nap\", \"gmbar_im\"],\n",
    "            \"voltage\": [-67.5, -57.5],\n",
    "        },\n",
    "        { # spking / adaptation\n",
    "            \"params\": [\"gbar_na3\", \"gkdrbar_kdr\", \"gcabar_cadyn\", \"gsAHPbar_sAHP\"],\n",
    "            \"voltage\": [-57.5, 0],\n",
    "        },\n",
    "        { # hto\n",
    "            \"params\": [\"gbar_nap\", \"gmbar_im\"],\n",
    "            \"voltage\": [-40, -30],\n",
    "        },\n",
    "    ],\n",
    "    \"output\": {\"folder\": \"output_LA_A\", \"produce_plots\": True},\n",
    "    \"run_mode\": \"segregated\",  # \"original\", \"segregated\"\n",
    "}"
   ]
  },
  {
   "cell_type": "code",
   "execution_count": 4,
   "id": "dd03c158",
   "metadata": {},
   "outputs": [
    {
     "name": "stderr",
     "output_type": "stream",
     "text": [
      "/home/tyler/neuro-venv/bin/nrnivmodl:10: DeprecationWarning: pkg_resources is deprecated as an API. See https://setuptools.pypa.io/en/latest/pkg_resources.html\n",
      "  from pkg_resources import working_set\n"
     ]
    },
    {
     "name": "stdout",
     "output_type": "stream",
     "text": [
      "INFO : Using neuron-nightly Package (Developer Version)\n",
      "/home/tyler/git_stage/ACT/examples/LA\n",
      "Mod files: \"../../data/LA/A/seg_modfiles/../../data/LA/A/seg_modfiles/cadyn.mod\" \"../../data/LA/A/seg_modfiles/../../data/LA/A/seg_modfiles/capool.mod\" \"../../data/LA/A/seg_modfiles/../../data/LA/A/seg_modfiles/currentclamp.mod\" \"../../data/LA/A/seg_modfiles/../../data/LA/A/seg_modfiles/h.mod\" \"../../data/LA/A/seg_modfiles/../../data/LA/A/seg_modfiles/im.mod\" \"../../data/LA/A/seg_modfiles/../../data/LA/A/seg_modfiles/kaprox.mod\" \"../../data/LA/A/seg_modfiles/../../data/LA/A/seg_modfiles/kdrca1DA.mod\" \"../../data/LA/A/seg_modfiles/../../data/LA/A/seg_modfiles/kdrca1.mod\" \"../../data/LA/A/seg_modfiles/../../data/LA/A/seg_modfiles/leakDA.mod\" \"../../data/LA/A/seg_modfiles/../../data/LA/A/seg_modfiles/leak.mod\" \"../../data/LA/A/seg_modfiles/../../data/LA/A/seg_modfiles/na3DA.mod\" \"../../data/LA/A/seg_modfiles/../../data/LA/A/seg_modfiles/na3.mod\" \"../../data/LA/A/seg_modfiles/../../data/LA/A/seg_modfiles/nap.mod\" \"../../data/LA/A/seg_modfiles/../../data/LA/A/seg_modfiles/nat.mod\" \"../../data/LA/A/seg_modfiles/../../data/LA/A/seg_modfiles/sahp.mod\" \"../../data/LA/A/seg_modfiles/../../data/LA/A/seg_modfiles/sahpNE.mod\"\n",
      "\n",
      " -> \u001b[32mCompiling\u001b[0m mod_func.cpp\n"
     ]
    },
    {
     "name": "stderr",
     "output_type": "stream",
     "text": [
      "NEURON: The user defined name already exists: cadyn\n",
      " near line 0\n",
      " objref hoc_obj_[2]\n",
      "                   ^\n",
      "        nrn_load_dll(\"./x86_64/....\")\n"
     ]
    },
    {
     "name": "stdout",
     "output_type": "stream",
     "text": [
      " => \u001b[32mLINKING\u001b[0m shared library ./libnrnmech.so\n",
      "Successfully created x86_64/special\n",
      "\n",
      "(2023-09-09 12:03:19.969338)-[START]\n",
      "(2023-09-09 12:03:19.969382)-[INFO]: Number of amplitudes: 120\n",
      "(2023-09-09 12:03:19.994264)-[INFO]: Mod files already loaded. Continuing.\n",
      "(2023-09-09 12:04:23.656721)-[INFO]: Target voltage shape: torch.Size([120, 80000])\n",
      "Setting el_leak = -70\n",
      "Setting Cell_A[0].soma[0].glbar_leak = 0.00007824\n",
      "Setting Cell_A[0].soma[0].cm = 2.41605906\n",
      "(2023-09-09 12:04:23.708695)-[INFO]: Matching 12 amplitudes.\n"
     ]
    },
    {
     "ename": "KeyboardInterrupt",
     "evalue": "",
     "output_type": "error",
     "traceback": [
      "\u001b[0;31m---------------------------------------------------------------------------\u001b[0m",
      "\u001b[0;31mKeyboardInterrupt\u001b[0m                         Traceback (most recent call last)",
      "Cell \u001b[0;32mIn[4], line 1\u001b[0m\n\u001b[0;32m----> 1\u001b[0m simulator\u001b[39m.\u001b[39;49mrun(config)\n",
      "File \u001b[0;32m~/git_stage/ACT/act/simulator.py:130\u001b[0m, in \u001b[0;36mrun\u001b[0;34m(config)\u001b[0m\n\u001b[1;32m    129\u001b[0m \u001b[39mdef\u001b[39;00m \u001b[39mrun\u001b[39m(config: SimulationConfig):\n\u001b[0;32m--> 130\u001b[0m     _run(config)\n",
      "File \u001b[0;32m~/git_stage/ACT/act/simulator.py:59\u001b[0m, in \u001b[0;36m_run\u001b[0;34m(config)\u001b[0m\n\u001b[1;32m     57\u001b[0m \u001b[39melif\u001b[39;00m config[\u001b[39m\"\u001b[39m\u001b[39mrun_mode\u001b[39m\u001b[39m\"\u001b[39m] \u001b[39m==\u001b[39m \u001b[39m\"\u001b[39m\u001b[39msegregated\u001b[39m\u001b[39m\"\u001b[39m:\n\u001b[1;32m     58\u001b[0m     optim \u001b[39m=\u001b[39m GeneralACTOptimizer(simulation_config\u001b[39m=\u001b[39mconfig, logger\u001b[39m=\u001b[39mlogger)\n\u001b[0;32m---> 59\u001b[0m     predictions \u001b[39m=\u001b[39m optim\u001b[39m.\u001b[39;49moptimize_with_segregation(target_V, \u001b[39m\"\u001b[39;49m\u001b[39mvoltage\u001b[39;49m\u001b[39m\"\u001b[39;49m)\n\u001b[1;32m     60\u001b[0m \u001b[39melse\u001b[39;00m:\n\u001b[1;32m     61\u001b[0m     \u001b[39mraise\u001b[39;00m \u001b[39mValueError\u001b[39;00m(\n\u001b[1;32m     62\u001b[0m         \u001b[39m\"\u001b[39m\u001b[39mrun mode not specified, \u001b[39m\u001b[39m'\u001b[39m\u001b[39moriginal\u001b[39m\u001b[39m'\u001b[39m\u001b[39m or \u001b[39m\u001b[39m'\u001b[39m\u001b[39msegregated\u001b[39m\u001b[39m'\u001b[39m\u001b[39m supported.\u001b[39m\u001b[39m\"\u001b[39m\n\u001b[1;32m     63\u001b[0m     )\n",
      "File \u001b[0;32m~/git_stage/ACT/act/optim.py:243\u001b[0m, in \u001b[0;36mGeneralACTOptimizer.optimize_with_segregation\u001b[0;34m(self, target_V, segregate_by)\u001b[0m\n\u001b[1;32m    240\u001b[0m     \u001b[39mraise\u001b[39;00m \u001b[39mValueError\u001b[39;00m(\u001b[39m\"\u001b[39m\u001b[39msegregate_by must be either \u001b[39m\u001b[39m'\u001b[39m\u001b[39mvoltage\u001b[39m\u001b[39m'\u001b[39m\u001b[39m or \u001b[39m\u001b[39m'\u001b[39m\u001b[39mtime\u001b[39m\u001b[39m'\u001b[39m\u001b[39m.\u001b[39m\u001b[39m\"\u001b[39m)\n\u001b[1;32m    242\u001b[0m \u001b[39m# Get voltage with characteristics similar to target\u001b[39;00m\n\u001b[0;32m--> 243\u001b[0m simulated_V_for_next_stage, param_samples_for_next_stage \u001b[39m=\u001b[39m \u001b[39mself\u001b[39;49m\u001b[39m.\u001b[39;49mmatch_voltage(\n\u001b[1;32m    244\u001b[0m     target_V\n\u001b[1;32m    245\u001b[0m )\n\u001b[1;32m    247\u001b[0m \u001b[39m# Resample to match the length of target data\u001b[39;00m\n\u001b[1;32m    248\u001b[0m resampled_data \u001b[39m=\u001b[39m \u001b[39mself\u001b[39m\u001b[39m.\u001b[39mresample_voltage(\n\u001b[1;32m    249\u001b[0m     simulated_V_for_next_stage, target_V\u001b[39m.\u001b[39mshape[\u001b[39m1\u001b[39m]\n\u001b[1;32m    250\u001b[0m )\n",
      "File \u001b[0;32m~/git_stage/ACT/act/optim.py:414\u001b[0m, in \u001b[0;36mGeneralACTOptimizer.match_voltage\u001b[0;34m(self, target_V)\u001b[0m\n\u001b[1;32m    411\u001b[0m     \u001b[39mif\u001b[39;00m non_corresp[ind] \u001b[39m==\u001b[39m \u001b[39m1\u001b[39m:\n\u001b[1;32m    412\u001b[0m         \u001b[39m# For each current injection amplitude, sample random parameters\u001b[39;00m\n\u001b[1;32m    413\u001b[0m         param_samples \u001b[39m=\u001b[39m np\u001b[39m.\u001b[39mrandom\u001b[39m.\u001b[39muniform(low\u001b[39m=\u001b[39mlows, high\u001b[39m=\u001b[39mhighs)\n\u001b[0;32m--> 414\u001b[0m         simulated_V[ind] \u001b[39m=\u001b[39m \u001b[39mself\u001b[39;49m\u001b[39m.\u001b[39;49msimulate(amp, params, param_samples)\n\u001b[1;32m    415\u001b[0m         param_samples_for_next_stage[ind] \u001b[39m=\u001b[39m torch\u001b[39m.\u001b[39mTensor(param_samples)\n\u001b[1;32m    417\u001b[0m \u001b[39m# Compute summary features for simulated data\u001b[39;00m\n",
      "File \u001b[0;32m~/git_stage/ACT/act/optim.py:107\u001b[0m, in \u001b[0;36mACTOptimizer.simulate\u001b[0;34m(self, amp, parameter_names, parameter_values, i_dur, i_delay)\u001b[0m\n\u001b[1;32m    100\u001b[0m     i_delay \u001b[39m=\u001b[39m \u001b[39mself\u001b[39m\u001b[39m.\u001b[39mconfig[\u001b[39m\"\u001b[39m\u001b[39msimulation_parameters\u001b[39m\u001b[39m\"\u001b[39m][\u001b[39m\"\u001b[39m\u001b[39mh_i_delay\u001b[39m\u001b[39m\"\u001b[39m]\n\u001b[1;32m    101\u001b[0m \u001b[39mself\u001b[39m\u001b[39m.\u001b[39mcell\u001b[39m.\u001b[39mapply_current_injection(\n\u001b[1;32m    102\u001b[0m     amp,\n\u001b[1;32m    103\u001b[0m     i_dur,\n\u001b[1;32m    104\u001b[0m     i_delay,\n\u001b[1;32m    105\u001b[0m )\n\u001b[0;32m--> 107\u001b[0m h\u001b[39m.\u001b[39;49mrun()\n\u001b[1;32m    109\u001b[0m \u001b[39mreturn\u001b[39;00m torch\u001b[39m.\u001b[39mTensor(\u001b[39mself\u001b[39m\u001b[39m.\u001b[39mcell\u001b[39m.\u001b[39mVm\u001b[39m.\u001b[39mas_numpy()[:\u001b[39m-\u001b[39m\u001b[39m1\u001b[39m])\n",
      "\u001b[0;31mKeyboardInterrupt\u001b[0m: "
     ]
    }
   ],
   "source": [
    "simulator.run(config)"
   ]
  },
  {
   "cell_type": "code",
   "execution_count": null,
   "id": "eedfdde8",
   "metadata": {},
   "outputs": [],
   "source": [
    "Image(filename=\"./output_LA_A/segregated/1000nA.png\")"
   ]
  },
  {
   "cell_type": "code",
   "execution_count": null,
   "id": "b9d071f8",
   "metadata": {},
   "outputs": [],
   "source": [
    "analysis.print_run_stats(config)"
   ]
  },
  {
   "cell_type": "code",
   "execution_count": null,
   "id": "4a83c530",
   "metadata": {},
   "outputs": [],
   "source": [
    "Image(filename=\"./output_LA_A/segregated/passive_-100nA.png\")"
   ]
  },
  {
   "cell_type": "code",
   "execution_count": null,
   "id": "5ee705d6",
   "metadata": {},
   "outputs": [],
   "source": []
  }
 ],
 "metadata": {
  "kernelspec": {
   "display_name": "Python 3 (ipykernel)",
   "language": "python",
   "name": "python3"
  },
  "language_info": {
   "codemirror_mode": {
    "name": "ipython",
    "version": 3
   },
   "file_extension": ".py",
   "mimetype": "text/x-python",
   "name": "python",
   "nbconvert_exporter": "python",
   "pygments_lexer": "ipython3",
   "version": "3.10.12"
  }
 },
 "nbformat": 4,
 "nbformat_minor": 5
}
