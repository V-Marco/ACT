{
 "cells": [
  {
   "cell_type": "markdown",
   "id": "8ea2c844-9265-43b7-9a61-86ad838adf95",
   "metadata": {},
   "source": [
    "# Pospischil sPYr Example"
   ]
  },
  {
   "cell_type": "markdown",
   "id": "425ec2f3-52e7-4310-91a3-4fee6af9631c",
   "metadata": {},
   "source": [
    "### Install dependencies for ACT"
   ]
  },
  {
   "cell_type": "code",
   "execution_count": 1,
   "id": "7251b10c-54b7-40e9-a6b5-6897ad343fbf",
   "metadata": {},
   "outputs": [
    {
     "name": "stdout",
     "output_type": "stream",
     "text": [
      "Requirement already satisfied: act-neuron in /home/tyler/neuro-venv/lib/python3.10/site-packages (0.0.2)\n",
      "Requirement already satisfied: neuron>=8.2.0 in /home/tyler/neuro-venv/lib/python3.10/site-packages (from act-neuron) (8.2.2)\n",
      "Requirement already satisfied: matplotlib in /home/tyler/neuro-venv/lib/python3.10/site-packages/matplotlib-3.8.0rc1-py3.10-linux-x86_64.egg (from act-neuron) (3.8.0rc1)\n",
      "Requirement already satisfied: torch in /home/tyler/neuro-venv/lib/python3.10/site-packages/torch-2.0.1-py3.10-linux-x86_64.egg (from act-neuron) (2.0.1)\n",
      "Requirement already satisfied: numpy in /home/tyler/neuro-venv/lib/python3.10/site-packages/numpy-1.26.0b1-py3.10-linux-x86_64.egg (from act-neuron) (1.26.0b1)\n",
      "Requirement already satisfied: contourpy>=1.0.1 in /home/tyler/neuro-venv/lib/python3.10/site-packages/contourpy-1.1.0-py3.10-linux-x86_64.egg (from matplotlib->act-neuron) (1.1.0)\n",
      "Requirement already satisfied: cycler>=0.10 in /home/tyler/neuro-venv/lib/python3.10/site-packages/cycler-0.11.0-py3.10.egg (from matplotlib->act-neuron) (0.11.0)\n",
      "Requirement already satisfied: fonttools>=4.22.0 in /home/tyler/neuro-venv/lib/python3.10/site-packages/fonttools-4.42.1-py3.10.egg (from matplotlib->act-neuron) (4.42.1)\n",
      "Requirement already satisfied: kiwisolver>=1.0.1 in /home/tyler/neuro-venv/lib/python3.10/site-packages/kiwisolver-1.4.4-py3.10-linux-x86_64.egg (from matplotlib->act-neuron) (1.4.4)\n",
      "Requirement already satisfied: packaging>=20.0 in /home/tyler/neuro-venv/lib/python3.10/site-packages/packaging-23.1-py3.10.egg (from matplotlib->act-neuron) (23.1)\n",
      "Requirement already satisfied: pillow>=6.2.0 in /home/tyler/neuro-venv/lib/python3.10/site-packages/Pillow-10.0.0-py3.10-linux-x86_64.egg (from matplotlib->act-neuron) (10.0.0)\n",
      "Requirement already satisfied: pyparsing>=2.3.1 in /home/tyler/neuro-venv/lib/python3.10/site-packages/pyparsing-3.1.1-py3.10.egg (from matplotlib->act-neuron) (3.1.1)\n",
      "Requirement already satisfied: python-dateutil>=2.7 in /home/tyler/neuro-venv/lib/python3.10/site-packages/python_dateutil-2.8.2-py3.10.egg (from matplotlib->act-neuron) (2.8.2)\n",
      "Requirement already satisfied: filelock in /home/tyler/neuro-venv/lib/python3.10/site-packages/filelock-3.12.2-py3.10.egg (from torch->act-neuron) (3.12.2)\n",
      "Requirement already satisfied: jinja2 in /home/tyler/neuro-venv/lib/python3.10/site-packages/Jinja2-3.1.2-py3.10.egg (from torch->act-neuron) (3.1.2)\n",
      "Requirement already satisfied: networkx in /home/tyler/neuro-venv/lib/python3.10/site-packages/networkx-3.1-py3.10.egg (from torch->act-neuron) (3.1)\n",
      "Requirement already satisfied: nvidia-cublas-cu11==11.10.3.66 in /home/tyler/neuro-venv/lib/python3.10/site-packages/nvidia_cublas_cu11-11.10.3.66-py3.10-linux-x86_64.egg (from torch->act-neuron) (11.10.3.66)\n",
      "Requirement already satisfied: nvidia-cuda-cupti-cu11==11.7.101 in /home/tyler/neuro-venv/lib/python3.10/site-packages/nvidia_cuda_cupti_cu11-11.7.101-py3.10-linux-x86_64.egg (from torch->act-neuron) (11.7.101)\n",
      "Requirement already satisfied: nvidia-cuda-nvrtc-cu11==11.7.99 in /home/tyler/neuro-venv/lib/python3.10/site-packages/nvidia_cuda_nvrtc_cu11-11.7.99-py3.10-linux-x86_64.egg (from torch->act-neuron) (11.7.99)\n",
      "Requirement already satisfied: nvidia-cuda-runtime-cu11==11.7.99 in /home/tyler/neuro-venv/lib/python3.10/site-packages/nvidia_cuda_runtime_cu11-11.7.99-py3.10-linux-x86_64.egg (from torch->act-neuron) (11.7.99)\n",
      "Requirement already satisfied: nvidia-cudnn-cu11==8.5.0.96 in /home/tyler/neuro-venv/lib/python3.10/site-packages/nvidia_cudnn_cu11-8.5.0.96-py3.10-linux-x86_64.egg (from torch->act-neuron) (8.5.0.96)\n",
      "Requirement already satisfied: nvidia-cufft-cu11==10.9.0.58 in /home/tyler/neuro-venv/lib/python3.10/site-packages/nvidia_cufft_cu11-10.9.0.58-py3.10-linux-x86_64.egg (from torch->act-neuron) (10.9.0.58)\n",
      "Requirement already satisfied: nvidia-curand-cu11==10.2.10.91 in /home/tyler/neuro-venv/lib/python3.10/site-packages/nvidia_curand_cu11-10.2.10.91-py3.10-linux-x86_64.egg (from torch->act-neuron) (10.2.10.91)\n",
      "Requirement already satisfied: nvidia-cusolver-cu11==11.4.0.1 in /home/tyler/neuro-venv/lib/python3.10/site-packages/nvidia_cusolver_cu11-11.4.0.1-py3.10-linux-x86_64.egg (from torch->act-neuron) (11.4.0.1)\n",
      "Requirement already satisfied: nvidia-cusparse-cu11==11.7.4.91 in /home/tyler/neuro-venv/lib/python3.10/site-packages/nvidia_cusparse_cu11-11.7.4.91-py3.10-linux-x86_64.egg (from torch->act-neuron) (11.7.4.91)\n",
      "Requirement already satisfied: nvidia-nccl-cu11==2.14.3 in /home/tyler/neuro-venv/lib/python3.10/site-packages/nvidia_nccl_cu11-2.14.3-py3.10-linux-x86_64.egg (from torch->act-neuron) (2.14.3)\n",
      "Requirement already satisfied: nvidia-nvtx-cu11==11.7.91 in /home/tyler/neuro-venv/lib/python3.10/site-packages/nvidia_nvtx_cu11-11.7.91-py3.10-linux-x86_64.egg (from torch->act-neuron) (11.7.91)\n",
      "Requirement already satisfied: sympy in /home/tyler/neuro-venv/lib/python3.10/site-packages/sympy-1.12-py3.10.egg (from torch->act-neuron) (1.12)\n",
      "Requirement already satisfied: triton==2.0.0 in /home/tyler/neuro-venv/lib/python3.10/site-packages/triton-2.0.0-py3.10-linux-x86_64.egg (from torch->act-neuron) (2.0.0)\n",
      "Requirement already satisfied: typing-extensions in /home/tyler/neuro-venv/lib/python3.10/site-packages/typing_extensions-4.7.1-py3.10.egg (from torch->act-neuron) (4.7.1)\n",
      "Requirement already satisfied: setuptools in /home/tyler/neuro-venv/lib/python3.10/site-packages (from nvidia-cublas-cu11==11.10.3.66->torch->act-neuron) (68.1.2)\n",
      "Requirement already satisfied: wheel in /home/tyler/neuro-venv/lib/python3.10/site-packages/wheel-0.41.2-py3.10.egg (from nvidia-cublas-cu11==11.10.3.66->torch->act-neuron) (0.41.2)\n",
      "Requirement already satisfied: cmake in /home/tyler/neuro-venv/lib/python3.10/site-packages/cmake-3.27.2-py3.10-linux-x86_64.egg (from triton==2.0.0->torch->act-neuron) (3.27.2)\n",
      "Requirement already satisfied: lit in /home/tyler/neuro-venv/lib/python3.10/site-packages/lit-17.0.0rc2-py3.10.egg (from triton==2.0.0->torch->act-neuron) (17.0.0rc2)\n",
      "Requirement already satisfied: six>=1.5 in /home/tyler/neuro-venv/lib/python3.10/site-packages/six-1.16.0-py3.10.egg (from python-dateutil>=2.7->matplotlib->act-neuron) (1.16.0)\n",
      "Requirement already satisfied: MarkupSafe>=2.0 in /home/tyler/neuro-venv/lib/python3.10/site-packages/MarkupSafe-2.1.3-py3.10-linux-x86_64.egg (from jinja2->torch->act-neuron) (2.1.3)\n",
      "Requirement already satisfied: mpmath>=0.19 in /home/tyler/neuro-venv/lib/python3.10/site-packages/mpmath-1.3.0-py3.10.egg (from sympy->torch->act-neuron) (1.3.0)\n"
     ]
    }
   ],
   "source": [
    "!pip install act-neuron"
   ]
  },
  {
   "cell_type": "markdown",
   "id": "9e5fd7be-12df-4b0c-8d62-069d99034f32",
   "metadata": {},
   "source": [
    "### Setup base directory and download cells"
   ]
  },
  {
   "cell_type": "code",
   "execution_count": 2,
   "id": "c5be2206-6407-4e73-a150-05c4fa890bfe",
   "metadata": {},
   "outputs": [],
   "source": [
    "import sys\n",
    "\n",
    "# Download the repository with all relevant model files if in google colab\n",
    "IN_COLAB = 'google.colab' in sys.modules\n",
    "if IN_COLAB:\n",
    "    !rm -rf ./ACT\n",
    "    !git clone https://github.com/V-Marco/ACT\n",
    "    base_dir = './ACT'\n",
    "else:\n",
    "    base_dir = '../..'"
   ]
  },
  {
   "cell_type": "markdown",
   "id": "5e284547-9f61-4b63-8ec2-8d4e54a83376",
   "metadata": {},
   "source": [
    "### Define a config file\n",
    "\n",
    "These settings are modifiable by the user of ACT. Tune your own cells by altering values here."
   ]
  },
  {
   "cell_type": "code",
   "execution_count": 3,
   "id": "5d7b0212-7620-498c-9bcb-4288a47d2a8c",
   "metadata": {},
   "outputs": [],
   "source": [
    "import os\n",
    "\n",
    "import numpy as np\n",
    "\n",
    "pospischilsPYr = {\n",
    "    \"cell\": {\n",
    "        \"hoc_file\": os.path.join(base_dir, \"data/Pospischil/sPyr/template.hoc\"),\n",
    "        \"modfiles_folder\": os.path.join(base_dir, \"data/Pospischil/sPyr/seg_modfiles\"),\n",
    "        \"name\": \"sPYr\",\n",
    "    },\n",
    "    \"simulation_parameters\": {\n",
    "        \"h_v_init\": -67.0,  # (mV)\n",
    "        \"h_tstop\": 2000,  # (ms)\n",
    "        \"h_i_delay\": 500,  # (ms)\n",
    "        \"h_i_dur\": 1500,  # (ms)\n",
    "        \"h_dt\": 0.025,\n",
    "    },\n",
    "    \"optimization_parameters\": {\n",
    "        \"amps\": list(np.arange(-2, 10, 0.1)),\n",
    "        \"params\": [\n",
    "            {\"channel\": \"g_pas\", \"low\": 5.0e-06, \"high\": 2.0e-05},\n",
    "            {\"channel\": \"gnabar_hh2\", \"low\": 2.5e-02, \"high\": 1.0e-01},\n",
    "            {\"channel\": \"gkbar_hh2\", \"low\": 2.5e-03, \"high\": 1.0e-02},\n",
    "            {\"channel\": \"gkbar_im\", \"low\": 1.5e-05, \"high\": 6.0e-05},\n",
    "            {\"channel\": \"gcabar_it\", \"low\": 5.0e-04, \"high\": 2.0e-03},\n",
    "        ],\n",
    "        \"target_V\": None,  # Target voltages\n",
    "        \"target_params\": [1e-5, 0.05, 0.005, 3e-5, 0.001],\n",
    "        \"num_repeats\": 3,\n",
    "        \"num_amps_to_match\": 12,\n",
    "        \"num_epochs\": 5000,\n",
    "    },\n",
    "    \"summary_features\": {\n",
    "        \"spike_threshold\": 20,  # (mV)\n",
    "        # Target-sim match conditions (max abs diff between sim and target)\n",
    "        \"mc_num_spikes\": 1,\n",
    "        \"mc_interspike_time\": 200,  # (ms)\n",
    "        \"mc_min_v\": 1,  # (mV)\n",
    "        \"mc_mean_v\": 2,  # (mV)\n",
    "        \"mc_max_v\": 1,  # (mV)\n",
    "    },\n",
    "    \"segregation\": [\n",
    "        {\n",
    "            \"params\": [\"g_pas\"],\n",
    "            \"voltage\": [-100, -65],\n",
    "            \"time\": [0, 500],\n",
    "        },\n",
    "        {\n",
    "            \"params\": [\"gnabar_hh2\", \"gkbar_hh2\", \"gkbar_im\", \"gcabar_it\"],\n",
    "            \"voltage\": [-65, 100],\n",
    "            \"time\": [0, 2000],\n",
    "        },\n",
    "    ],\n",
    "    \"output\": {\"folder\": \"output_Pospischil_sPYr\", \"produce_plots\": True},\n",
    "    \"run_mode\": \"segregated\",  # \"original\", \"segregated\"\n",
    "}"
   ]
  },
  {
   "cell_type": "markdown",
   "id": "91f2ea37-f300-405b-a861-18993a4409f4",
   "metadata": {},
   "source": [
    "### Run the simulation"
   ]
  },
  {
   "cell_type": "code",
   "execution_count": null,
   "id": "719018f3-5b59-4799-b89d-1f0ec151adaf",
   "metadata": {},
   "outputs": [
    {
     "name": "stderr",
     "output_type": "stream",
     "text": [
      "/home/tyler/neuro-venv/bin/nrnivmodl:10: DeprecationWarning: pkg_resources is deprecated as an API. See https://setuptools.pypa.io/en/latest/pkg_resources.html\n",
      "  from pkg_resources import working_set\n"
     ]
    },
    {
     "name": "stdout",
     "output_type": "stream",
     "text": [
      "/home/tyler/git_stage/ACT/examples/Pospischil_sPYr\n",
      "Mod files: \"../../data/Pospischil/sPyr/seg_modfiles/../../data/Pospischil/sPyr/seg_modfiles/cadecay_destexhe.mod\" \"../../data/Pospischil/sPyr/seg_modfiles/../../data/Pospischil/sPyr/seg_modfiles/HH_traub.mod\" \"../../data/Pospischil/sPyr/seg_modfiles/../../data/Pospischil/sPyr/seg_modfiles/IM_cortex.mod\" \"../../data/Pospischil/sPyr/seg_modfiles/../../data/Pospischil/sPyr/seg_modfiles/IT_huguenard.mod\"\n",
      "\n",
      " -> \u001b[32mCompiling\u001b[0m mod_func.cpp\n",
      " => \u001b[32mLINKING\u001b[0m shared library ./libnrnmech.so\n",
      "\n",
      "(2023-08-25 15:10:35.732120)-[START]\n",
      "(2023-08-25 15:10:35.758714)-[INFO]: Number of amplitudes: 120\n"
     ]
    },
    {
     "name": "stderr",
     "output_type": "stream",
     "text": [
      "NEURON: The user defined name already exists: cad\n",
      " near line 0\n",
      " objref hoc_obj_[2]\n",
      "                   ^\n",
      "        nrn_load_dll(\"./x86_64/....\")\n"
     ]
    },
    {
     "name": "stdout",
     "output_type": "stream",
     "text": [
      "(2023-08-25 15:10:35.865138)-[INFO]: Mod files already loaded. Continuing.\n",
      "Successfully created x86_64/special\n",
      "(2023-08-25 15:11:35.364298)-[INFO]: Target voltage shape: torch.Size([120, 80000])\n",
      "(2023-08-25 15:11:35.476813)-[INFO]: Matching 12 amplitudes.\n",
      "(2023-08-25 15:12:35.857944)-[INFO]: Total amplitudes matched: 5/12.\n",
      "(2023-08-25 15:13:33.548353)-[INFO]: Total amplitudes matched: 12/12.\n",
      "(2023-08-25 15:13:33.558549)-[INFO]: Matched amplitudes: [0.4 0.8 1.1 1.2 1.3 2.4 3.8 4.2 7.2 7.4 8.6 9.1]\n",
      "(2023-08-25 15:13:33.924434)-[INFO]: Training a model with SGD optimizer and lr = 1e-8.\n",
      "(2023-08-25 15:13:33.927113)-[INFO]: Number of trainable parameters: 20546305\n"
     ]
    },
    {
     "name": "stderr",
     "output_type": "stream",
     "text": [
      "/home/tyler/git_stage/ACT/act/optim.py:261: UserWarning: Using a target size (torch.Size([1])) that is different to the input size (torch.Size([0])). This will likely lead to incorrect results due to broadcasting. Please ensure they have the same size.\n",
      "  loss = torch.nn.functional.l1_loss(pred, target_params[i])\n"
     ]
    },
    {
     "name": "stdout",
     "output_type": "stream",
     "text": [
      "> \u001b[0;32m/home/tyler/git_stage/ACT/act/optim.py\u001b[0m(263)\u001b[0;36mtrain_model\u001b[0;34m()\u001b[0m\n",
      "\u001b[0;32m    261 \u001b[0;31m                \u001b[0mloss\u001b[0m \u001b[0;34m=\u001b[0m \u001b[0mtorch\u001b[0m\u001b[0;34m.\u001b[0m\u001b[0mnn\u001b[0m\u001b[0;34m.\u001b[0m\u001b[0mfunctional\u001b[0m\u001b[0;34m.\u001b[0m\u001b[0ml1_loss\u001b[0m\u001b[0;34m(\u001b[0m\u001b[0mpred\u001b[0m\u001b[0;34m,\u001b[0m \u001b[0mtarget_params\u001b[0m\u001b[0;34m[\u001b[0m\u001b[0mi\u001b[0m\u001b[0;34m]\u001b[0m\u001b[0;34m)\u001b[0m\u001b[0;34m\u001b[0m\u001b[0;34m\u001b[0m\u001b[0m\n",
      "\u001b[0m\u001b[0;32m    262 \u001b[0;31m                \u001b[0;32mimport\u001b[0m \u001b[0mpdb\u001b[0m\u001b[0;34m;\u001b[0m\u001b[0mpdb\u001b[0m\u001b[0;34m.\u001b[0m\u001b[0mset_trace\u001b[0m\u001b[0;34m(\u001b[0m\u001b[0;34m)\u001b[0m\u001b[0;34m\u001b[0m\u001b[0;34m\u001b[0m\u001b[0m\n",
      "\u001b[0m\u001b[0;32m--> 263 \u001b[0;31m                \u001b[0;32mif\u001b[0m \u001b[0mne\u001b[0m \u001b[0;34m%\u001b[0m \u001b[0;36m100\u001b[0m \u001b[0;34m==\u001b[0m \u001b[0;36m0\u001b[0m\u001b[0;34m:\u001b[0m\u001b[0;34m\u001b[0m\u001b[0;34m\u001b[0m\u001b[0m\n",
      "\u001b[0m\u001b[0;32m    264 \u001b[0;31m                    \u001b[0mself\u001b[0m\u001b[0;34m.\u001b[0m\u001b[0mlogger\u001b[0m\u001b[0;34m.\u001b[0m\u001b[0mepoch\u001b[0m\u001b[0;34m(\u001b[0m\u001b[0mne\u001b[0m\u001b[0;34m,\u001b[0m \u001b[0;34m\"l1_loss\"\u001b[0m\u001b[0;34m,\u001b[0m \u001b[0mfloat\u001b[0m\u001b[0;34m(\u001b[0m\u001b[0mloss\u001b[0m\u001b[0;34m.\u001b[0m\u001b[0mdetach\u001b[0m\u001b[0;34m(\u001b[0m\u001b[0;34m)\u001b[0m\u001b[0;34m.\u001b[0m\u001b[0mnumpy\u001b[0m\u001b[0;34m(\u001b[0m\u001b[0;34m)\u001b[0m\u001b[0;34m)\u001b[0m\u001b[0;34m)\u001b[0m\u001b[0;34m\u001b[0m\u001b[0;34m\u001b[0m\u001b[0m\n",
      "\u001b[0m\u001b[0;32m    265 \u001b[0;31m\u001b[0;34m\u001b[0m\u001b[0m\n",
      "\u001b[0m\n"
     ]
    }
   ],
   "source": [
    "from act import simulator\n",
    "\n",
    "simulator.run(pospischilsPYr)\n"
   ]
  },
  {
   "cell_type": "code",
   "execution_count": null,
   "id": "6862505d-3f43-4126-92b3-cbedc7df0f95",
   "metadata": {},
   "outputs": [],
   "source": []
  }
 ],
 "metadata": {
  "kernelspec": {
   "display_name": "Python 3 (ipykernel)",
   "language": "python",
   "name": "python3"
  },
  "language_info": {
   "codemirror_mode": {
    "name": "ipython",
    "version": 3
   },
   "file_extension": ".py",
   "mimetype": "text/x-python",
   "name": "python",
   "nbconvert_exporter": "python",
   "pygments_lexer": "ipython3",
   "version": "3.10.12"
  }
 },
 "nbformat": 4,
 "nbformat_minor": 5
}
