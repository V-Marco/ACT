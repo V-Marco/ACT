{
 "cells": [
  {
   "cell_type": "markdown",
   "id": "8ea2c844-9265-43b7-9a61-86ad838adf95",
   "metadata": {},
   "source": [
    "# Pospischil sPYr Example"
   ]
  },
  {
   "cell_type": "code",
   "execution_count": 1,
   "id": "7251b10c-54b7-40e9-a6b5-6897ad343fbf",
   "metadata": {},
   "outputs": [
    {
     "name": "stdout",
     "output_type": "stream",
     "text": [
      "Requirement already satisfied: act-neuron in /home/tyler/neuro-venv/lib/python3.10/site-packages (0.0.2)\n",
      "Requirement already satisfied: neuron>=8.2.0 in /home/tyler/neuro-venv/lib/python3.10/site-packages (from act-neuron) (8.2.2)\n",
      "Requirement already satisfied: matplotlib in /home/tyler/neuro-venv/lib/python3.10/site-packages/matplotlib-3.8.0rc1-py3.10-linux-x86_64.egg (from act-neuron) (3.8.0rc1)\n",
      "Requirement already satisfied: numpy in /home/tyler/neuro-venv/lib/python3.10/site-packages/numpy-1.26.0b1-py3.10-linux-x86_64.egg (from act-neuron) (1.26.0b1)\n",
      "Requirement already satisfied: torch in /home/tyler/neuro-venv/lib/python3.10/site-packages/torch-2.0.1-py3.10-linux-x86_64.egg (from act-neuron) (2.0.1)\n",
      "Requirement already satisfied: contourpy>=1.0.1 in /home/tyler/neuro-venv/lib/python3.10/site-packages/contourpy-1.1.0-py3.10-linux-x86_64.egg (from matplotlib->act-neuron) (1.1.0)\n",
      "Requirement already satisfied: cycler>=0.10 in /home/tyler/neuro-venv/lib/python3.10/site-packages/cycler-0.11.0-py3.10.egg (from matplotlib->act-neuron) (0.11.0)\n",
      "Requirement already satisfied: fonttools>=4.22.0 in /home/tyler/neuro-venv/lib/python3.10/site-packages/fonttools-4.42.1-py3.10.egg (from matplotlib->act-neuron) (4.42.1)\n",
      "Requirement already satisfied: kiwisolver>=1.0.1 in /home/tyler/neuro-venv/lib/python3.10/site-packages/kiwisolver-1.4.4-py3.10-linux-x86_64.egg (from matplotlib->act-neuron) (1.4.4)\n",
      "Requirement already satisfied: packaging>=20.0 in /home/tyler/neuro-venv/lib/python3.10/site-packages/packaging-23.1-py3.10.egg (from matplotlib->act-neuron) (23.1)\n",
      "Requirement already satisfied: pillow>=6.2.0 in /home/tyler/neuro-venv/lib/python3.10/site-packages/Pillow-10.0.0-py3.10-linux-x86_64.egg (from matplotlib->act-neuron) (10.0.0)\n",
      "Requirement already satisfied: pyparsing>=2.3.1 in /home/tyler/neuro-venv/lib/python3.10/site-packages/pyparsing-3.1.1-py3.10.egg (from matplotlib->act-neuron) (3.1.1)\n",
      "Requirement already satisfied: python-dateutil>=2.7 in /home/tyler/neuro-venv/lib/python3.10/site-packages/python_dateutil-2.8.2-py3.10.egg (from matplotlib->act-neuron) (2.8.2)\n",
      "Requirement already satisfied: filelock in /home/tyler/neuro-venv/lib/python3.10/site-packages/filelock-3.12.2-py3.10.egg (from torch->act-neuron) (3.12.2)\n",
      "Requirement already satisfied: jinja2 in /home/tyler/neuro-venv/lib/python3.10/site-packages/Jinja2-3.1.2-py3.10.egg (from torch->act-neuron) (3.1.2)\n",
      "Requirement already satisfied: networkx in /home/tyler/neuro-venv/lib/python3.10/site-packages/networkx-3.1-py3.10.egg (from torch->act-neuron) (3.1)\n",
      "Requirement already satisfied: nvidia-cublas-cu11==11.10.3.66 in /home/tyler/neuro-venv/lib/python3.10/site-packages/nvidia_cublas_cu11-11.10.3.66-py3.10-linux-x86_64.egg (from torch->act-neuron) (11.10.3.66)\n",
      "Requirement already satisfied: nvidia-cuda-cupti-cu11==11.7.101 in /home/tyler/neuro-venv/lib/python3.10/site-packages/nvidia_cuda_cupti_cu11-11.7.101-py3.10-linux-x86_64.egg (from torch->act-neuron) (11.7.101)\n",
      "Requirement already satisfied: nvidia-cuda-nvrtc-cu11==11.7.99 in /home/tyler/neuro-venv/lib/python3.10/site-packages/nvidia_cuda_nvrtc_cu11-11.7.99-py3.10-linux-x86_64.egg (from torch->act-neuron) (11.7.99)\n",
      "Requirement already satisfied: nvidia-cuda-runtime-cu11==11.7.99 in /home/tyler/neuro-venv/lib/python3.10/site-packages/nvidia_cuda_runtime_cu11-11.7.99-py3.10-linux-x86_64.egg (from torch->act-neuron) (11.7.99)\n",
      "Requirement already satisfied: nvidia-cudnn-cu11==8.5.0.96 in /home/tyler/neuro-venv/lib/python3.10/site-packages/nvidia_cudnn_cu11-8.5.0.96-py3.10-linux-x86_64.egg (from torch->act-neuron) (8.5.0.96)\n",
      "Requirement already satisfied: nvidia-cufft-cu11==10.9.0.58 in /home/tyler/neuro-venv/lib/python3.10/site-packages/nvidia_cufft_cu11-10.9.0.58-py3.10-linux-x86_64.egg (from torch->act-neuron) (10.9.0.58)\n",
      "Requirement already satisfied: nvidia-curand-cu11==10.2.10.91 in /home/tyler/neuro-venv/lib/python3.10/site-packages/nvidia_curand_cu11-10.2.10.91-py3.10-linux-x86_64.egg (from torch->act-neuron) (10.2.10.91)\n",
      "Requirement already satisfied: nvidia-cusolver-cu11==11.4.0.1 in /home/tyler/neuro-venv/lib/python3.10/site-packages/nvidia_cusolver_cu11-11.4.0.1-py3.10-linux-x86_64.egg (from torch->act-neuron) (11.4.0.1)\n",
      "Requirement already satisfied: nvidia-cusparse-cu11==11.7.4.91 in /home/tyler/neuro-venv/lib/python3.10/site-packages/nvidia_cusparse_cu11-11.7.4.91-py3.10-linux-x86_64.egg (from torch->act-neuron) (11.7.4.91)\n",
      "Requirement already satisfied: nvidia-nccl-cu11==2.14.3 in /home/tyler/neuro-venv/lib/python3.10/site-packages/nvidia_nccl_cu11-2.14.3-py3.10-linux-x86_64.egg (from torch->act-neuron) (2.14.3)\n",
      "Requirement already satisfied: nvidia-nvtx-cu11==11.7.91 in /home/tyler/neuro-venv/lib/python3.10/site-packages/nvidia_nvtx_cu11-11.7.91-py3.10-linux-x86_64.egg (from torch->act-neuron) (11.7.91)\n",
      "Requirement already satisfied: sympy in /home/tyler/neuro-venv/lib/python3.10/site-packages/sympy-1.12-py3.10.egg (from torch->act-neuron) (1.12)\n",
      "Requirement already satisfied: triton==2.0.0 in /home/tyler/neuro-venv/lib/python3.10/site-packages/triton-2.0.0-py3.10-linux-x86_64.egg (from torch->act-neuron) (2.0.0)\n",
      "Requirement already satisfied: typing-extensions in /home/tyler/neuro-venv/lib/python3.10/site-packages/typing_extensions-4.7.1-py3.10.egg (from torch->act-neuron) (4.7.1)\n",
      "Requirement already satisfied: setuptools in /home/tyler/neuro-venv/lib/python3.10/site-packages (from nvidia-cublas-cu11==11.10.3.66->torch->act-neuron) (68.1.2)\n",
      "Requirement already satisfied: wheel in /home/tyler/neuro-venv/lib/python3.10/site-packages/wheel-0.41.2-py3.10.egg (from nvidia-cublas-cu11==11.10.3.66->torch->act-neuron) (0.41.2)\n",
      "Requirement already satisfied: cmake in /home/tyler/neuro-venv/lib/python3.10/site-packages/cmake-3.27.2-py3.10-linux-x86_64.egg (from triton==2.0.0->torch->act-neuron) (3.27.2)\n",
      "Requirement already satisfied: lit in /home/tyler/neuro-venv/lib/python3.10/site-packages/lit-17.0.0rc2-py3.10.egg (from triton==2.0.0->torch->act-neuron) (17.0.0rc2)\n",
      "Requirement already satisfied: six>=1.5 in /home/tyler/neuro-venv/lib/python3.10/site-packages/six-1.16.0-py3.10.egg (from python-dateutil>=2.7->matplotlib->act-neuron) (1.16.0)\n",
      "Requirement already satisfied: MarkupSafe>=2.0 in /home/tyler/neuro-venv/lib/python3.10/site-packages/MarkupSafe-2.1.3-py3.10-linux-x86_64.egg (from jinja2->torch->act-neuron) (2.1.3)\n",
      "Requirement already satisfied: mpmath>=0.19 in /home/tyler/neuro-venv/lib/python3.10/site-packages/mpmath-1.3.0-py3.10.egg (from sympy->torch->act-neuron) (1.3.0)\n"
     ]
    }
   ],
   "source": [
    "!pip install act-neuron"
   ]
  },
  {
   "cell_type": "code",
   "execution_count": 1,
   "id": "c5be2206-6407-4e73-a150-05c4fa890bfe",
   "metadata": {},
   "outputs": [],
   "source": [
    "import sys\n",
    "\n",
    "# Download the repository with all relevant model files if in google colab\n",
    "IN_COLAB = 'google.colab' in sys.modules\n",
    "if IN_COLAB:\n",
    "    !rm -rf ./ACT\n",
    "    !git clone https://github.com/V-Marco/ACT\n",
    "    base_dir = './ACT/examples/Pospischil_sPYr'\n",
    "else:\n",
    "    base_dir = '.'"
   ]
  },
  {
   "cell_type": "code",
   "execution_count": null,
   "id": "5d7b0212-7620-498c-9bcb-4288a47d2a8c",
   "metadata": {},
   "outputs": [],
   "source": [
    "# Define a few variables\n",
    "modfiles_folder = \n",
    "\n",
    "# Compile modfiles\n",
    "    os.system(f\"nrnivmodl {constants.modfiles_folder}\")\n",
    "    h.nrn_load_dll(\"./x86_64/.libs/libnrnmech.so\")"
   ]
  }
 ],
 "metadata": {
  "kernelspec": {
   "display_name": "Python 3 (ipykernel)",
   "language": "python",
   "name": "python3"
  },
  "language_info": {
   "codemirror_mode": {
    "name": "ipython",
    "version": 3
   },
   "file_extension": ".py",
   "mimetype": "text/x-python",
   "name": "python",
   "nbconvert_exporter": "python",
   "pygments_lexer": "ipython3",
   "version": "3.10.12"
  }
 },
 "nbformat": 4,
 "nbformat_minor": 5
}
