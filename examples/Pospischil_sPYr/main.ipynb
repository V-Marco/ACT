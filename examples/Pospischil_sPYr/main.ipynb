{
 "cells": [
  {
   "cell_type": "markdown",
   "id": "8ea2c844-9265-43b7-9a61-86ad838adf95",
   "metadata": {},
   "source": [
    "# Pospischil sPYr Example"
   ]
  },
  {
   "cell_type": "markdown",
   "id": "425ec2f3-52e7-4310-91a3-4fee6af9631c",
   "metadata": {},
   "source": [
    "### Install dependencies for ACT"
   ]
  },
  {
   "cell_type": "code",
   "execution_count": null,
   "id": "7251b10c-54b7-40e9-a6b5-6897ad343fbf",
   "metadata": {},
   "outputs": [],
   "source": [
    "!pip install act-neuron"
   ]
  },
  {
   "cell_type": "markdown",
   "id": "9e5fd7be-12df-4b0c-8d62-069d99034f32",
   "metadata": {},
   "source": [
    "### Setup base directory and download cells"
   ]
  },
  {
   "cell_type": "code",
   "execution_count": 2,
   "id": "c5be2206-6407-4e73-a150-05c4fa890bfe",
   "metadata": {},
   "outputs": [],
   "source": [
    "import sys\n",
    "\n",
    "# Download the repository with all relevant model files if in google colab\n",
    "IN_COLAB = 'google.colab' in sys.modules\n",
    "if IN_COLAB:\n",
    "    !rm -rf ./ACT\n",
    "    !git clone https://github.com/V-Marco/ACT\n",
    "    base_dir = './ACT'\n",
    "else:\n",
    "    base_dir = '../..'"
   ]
  },
  {
   "cell_type": "markdown",
   "id": "5e284547-9f61-4b63-8ec2-8d4e54a83376",
   "metadata": {},
   "source": [
    "### Define a config file\n",
    "\n",
    "These settings are modifiable by the user of ACT. Tune your own cells by altering values here."
   ]
  },
  {
   "cell_type": "code",
   "execution_count": 3,
   "id": "5d7b0212-7620-498c-9bcb-4288a47d2a8c",
   "metadata": {},
   "outputs": [],
   "source": [
    "import numpy as np\n",
    "\n",
    "pospischilsPYr = {\n",
    "    \"cell\": {\n",
    "        \"cell_hoc_file\": base_dir + \"/data/Pospischil/sPyr/template.hoc\",\n",
    "        \"cell_name\": \"sPYr\",\n",
    "    },\n",
    "    \"simulation_parameters\": {\n",
    "        \"h_v_init\": -67.0,  # (mV)\n",
    "        \"h_tstop\": 2000,  # (ms)\n",
    "        \"h_i_delay\": 500,  # (ms)\n",
    "        \"h_i_dur\": 1500,  # (ms)\n",
    "        \"h_dt\": 0.025,\n",
    "    },\n",
    "    \"optimization_parameters\": {\n",
    "        \"amps\": list(np.arange(-2, 10, 0.1)),\n",
    "        \"params\": [\n",
    "            {\"channel\": \"g_pas\", \"low\": 5.0e-06, \"high\": 2.0e-05},\n",
    "            {\"channel\": \"gnabar_hh2\", \"low\": 2.5e-02, \"high\": 1.0e-01},\n",
    "            {\"channel\": \"gkbar_hh2\", \"low\": 2.5e-03, \"high\": 1.0e-02},\n",
    "            {\"channel\": \"gkbar_im\", \"low\": 1.5e-05, \"high\": 6.0e-05},\n",
    "            {\"channel\": \"gcabar_it\", \"low\": 5.0e-04, \"high\": 2.0e-03},\n",
    "        ],\n",
    "    },\n",
    "    \"summary_features\": {\n",
    "        \"spike_threshold\": 20,  # (mV)\n",
    "        # Target-sim match conditions (max abs diff between sim and target)\n",
    "        \"mc_num_spikes\": 1,\n",
    "        \"mc_interspike_time\": 200,  # (ms)\n",
    "        \"mc_min_v\": 1,  # (mV)\n",
    "        \"mc_mean_v\": 2,  # (mV)\n",
    "        \"mc_max_v\": 1,  # (mV)\n",
    "    },\n",
    "    \"segregation\": {\n",
    "        \"segr_param_inds\": [[0], [1, 2, 3, 4]],\n",
    "        \"segr_voltage_bounds\": [[-100, -65], [-65, 100]],\n",
    "        \"segr_time_bounds\": [[0, 500], [0, 2000]],\n",
    "        # Target voltage\n",
    "        \"target_V\": None,\n",
    "        \"target_params\": [1e-5, 0.05, 0.005, 3e-5, 0.001],\n",
    "    },\n",
    "    \"output\": {\"output_folder\": \"output_Pospischil_sPyr\", \"produce_plots\": True},\n",
    "    \"run_mode\": \"segregated\",  # \"original\", \"segregated\"\n",
    "    \"modfiles_mode\": \"segregated\",  # Used only for the output folder name\n",
    "    \"modfiles_folder\": base_dir + \"/data/Pospischil/sPyr/seg_modfiles\",\n",
    "    \"num_repeats\": 3, \n",
    "    \"num_amps_to_match\": 12,\n",
    "    \"num_epochs\": 5000,\n",
    "}\n"
   ]
  },
  {
   "cell_type": "markdown",
   "id": "91f2ea37-f300-405b-a861-18993a4409f4",
   "metadata": {},
   "source": [
    "### Run the simulation"
   ]
  },
  {
   "cell_type": "code",
   "execution_count": null,
   "id": "719018f3-5b59-4799-b89d-1f0ec151adaf",
   "metadata": {},
   "outputs": [],
   "source": [
    "from act import simulator\n",
    "\n",
    "simulator.run(pospischilsPYr)\n"
   ]
  },
  {
   "cell_type": "code",
   "execution_count": null,
   "id": "6862505d-3f43-4126-92b3-cbedc7df0f95",
   "metadata": {},
   "outputs": [],
   "source": []
  }
 ],
 "metadata": {
  "kernelspec": {
   "display_name": "Python 3 (ipykernel)",
   "language": "python",
   "name": "python3"
  },
  "language_info": {
   "codemirror_mode": {
    "name": "ipython",
    "version": 3
   },
   "file_extension": ".py",
   "mimetype": "text/x-python",
   "name": "python",
   "nbconvert_exporter": "python",
   "pygments_lexer": "ipython3",
   "version": "3.10.12"
  }
 },
 "nbformat": 4,
 "nbformat_minor": 5
}
