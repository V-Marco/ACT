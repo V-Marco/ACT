{
 "cells": [
  {
   "cell_type": "markdown",
   "id": "8ea2c844-9265-43b7-9a61-86ad838adf95",
   "metadata": {},
   "source": [
    "# Pospischil sPYr Example"
   ]
  },
  {
   "cell_type": "code",
   "execution_count": 1,
   "id": "7251b10c-54b7-40e9-a6b5-6897ad343fbf",
   "metadata": {},
   "outputs": [
    {
     "name": "stdout",
     "output_type": "stream",
     "text": [
      "Requirement already satisfied: act-neuron in /home/tyler/neuro-venv/lib/python3.10/site-packages (0.0.2)\n",
      "Requirement already satisfied: neuron>=8.2.0 in /home/tyler/neuro-venv/lib/python3.10/site-packages (from act-neuron) (8.2.2)\n",
      "Requirement already satisfied: matplotlib in /home/tyler/neuro-venv/lib/python3.10/site-packages/matplotlib-3.8.0rc1-py3.10-linux-x86_64.egg (from act-neuron) (3.8.0rc1)\n",
      "Requirement already satisfied: numpy in /home/tyler/neuro-venv/lib/python3.10/site-packages/numpy-1.26.0b1-py3.10-linux-x86_64.egg (from act-neuron) (1.26.0b1)\n",
      "Requirement already satisfied: torch in /home/tyler/neuro-venv/lib/python3.10/site-packages/torch-2.0.1-py3.10-linux-x86_64.egg (from act-neuron) (2.0.1)\n",
      "Requirement already satisfied: contourpy>=1.0.1 in /home/tyler/neuro-venv/lib/python3.10/site-packages/contourpy-1.1.0-py3.10-linux-x86_64.egg (from matplotlib->act-neuron) (1.1.0)\n",
      "Requirement already satisfied: cycler>=0.10 in /home/tyler/neuro-venv/lib/python3.10/site-packages/cycler-0.11.0-py3.10.egg (from matplotlib->act-neuron) (0.11.0)\n",
      "Requirement already satisfied: fonttools>=4.22.0 in /home/tyler/neuro-venv/lib/python3.10/site-packages/fonttools-4.42.1-py3.10.egg (from matplotlib->act-neuron) (4.42.1)\n",
      "Requirement already satisfied: kiwisolver>=1.0.1 in /home/tyler/neuro-venv/lib/python3.10/site-packages/kiwisolver-1.4.4-py3.10-linux-x86_64.egg (from matplotlib->act-neuron) (1.4.4)\n",
      "Requirement already satisfied: packaging>=20.0 in /home/tyler/neuro-venv/lib/python3.10/site-packages/packaging-23.1-py3.10.egg (from matplotlib->act-neuron) (23.1)\n",
      "Requirement already satisfied: pillow>=6.2.0 in /home/tyler/neuro-venv/lib/python3.10/site-packages/Pillow-10.0.0-py3.10-linux-x86_64.egg (from matplotlib->act-neuron) (10.0.0)\n",
      "Requirement already satisfied: pyparsing>=2.3.1 in /home/tyler/neuro-venv/lib/python3.10/site-packages/pyparsing-3.1.1-py3.10.egg (from matplotlib->act-neuron) (3.1.1)\n",
      "Requirement already satisfied: python-dateutil>=2.7 in /home/tyler/neuro-venv/lib/python3.10/site-packages/python_dateutil-2.8.2-py3.10.egg (from matplotlib->act-neuron) (2.8.2)\n",
      "Requirement already satisfied: filelock in /home/tyler/neuro-venv/lib/python3.10/site-packages/filelock-3.12.2-py3.10.egg (from torch->act-neuron) (3.12.2)\n",
      "Requirement already satisfied: jinja2 in /home/tyler/neuro-venv/lib/python3.10/site-packages/Jinja2-3.1.2-py3.10.egg (from torch->act-neuron) (3.1.2)\n",
      "Requirement already satisfied: networkx in /home/tyler/neuro-venv/lib/python3.10/site-packages/networkx-3.1-py3.10.egg (from torch->act-neuron) (3.1)\n",
      "Requirement already satisfied: nvidia-cublas-cu11==11.10.3.66 in /home/tyler/neuro-venv/lib/python3.10/site-packages/nvidia_cublas_cu11-11.10.3.66-py3.10-linux-x86_64.egg (from torch->act-neuron) (11.10.3.66)\n",
      "Requirement already satisfied: nvidia-cuda-cupti-cu11==11.7.101 in /home/tyler/neuro-venv/lib/python3.10/site-packages/nvidia_cuda_cupti_cu11-11.7.101-py3.10-linux-x86_64.egg (from torch->act-neuron) (11.7.101)\n",
      "Requirement already satisfied: nvidia-cuda-nvrtc-cu11==11.7.99 in /home/tyler/neuro-venv/lib/python3.10/site-packages/nvidia_cuda_nvrtc_cu11-11.7.99-py3.10-linux-x86_64.egg (from torch->act-neuron) (11.7.99)\n",
      "Requirement already satisfied: nvidia-cuda-runtime-cu11==11.7.99 in /home/tyler/neuro-venv/lib/python3.10/site-packages/nvidia_cuda_runtime_cu11-11.7.99-py3.10-linux-x86_64.egg (from torch->act-neuron) (11.7.99)\n",
      "Requirement already satisfied: nvidia-cudnn-cu11==8.5.0.96 in /home/tyler/neuro-venv/lib/python3.10/site-packages/nvidia_cudnn_cu11-8.5.0.96-py3.10-linux-x86_64.egg (from torch->act-neuron) (8.5.0.96)\n",
      "Requirement already satisfied: nvidia-cufft-cu11==10.9.0.58 in /home/tyler/neuro-venv/lib/python3.10/site-packages/nvidia_cufft_cu11-10.9.0.58-py3.10-linux-x86_64.egg (from torch->act-neuron) (10.9.0.58)\n",
      "Requirement already satisfied: nvidia-curand-cu11==10.2.10.91 in /home/tyler/neuro-venv/lib/python3.10/site-packages/nvidia_curand_cu11-10.2.10.91-py3.10-linux-x86_64.egg (from torch->act-neuron) (10.2.10.91)\n",
      "Requirement already satisfied: nvidia-cusolver-cu11==11.4.0.1 in /home/tyler/neuro-venv/lib/python3.10/site-packages/nvidia_cusolver_cu11-11.4.0.1-py3.10-linux-x86_64.egg (from torch->act-neuron) (11.4.0.1)\n",
      "Requirement already satisfied: nvidia-cusparse-cu11==11.7.4.91 in /home/tyler/neuro-venv/lib/python3.10/site-packages/nvidia_cusparse_cu11-11.7.4.91-py3.10-linux-x86_64.egg (from torch->act-neuron) (11.7.4.91)\n",
      "Requirement already satisfied: nvidia-nccl-cu11==2.14.3 in /home/tyler/neuro-venv/lib/python3.10/site-packages/nvidia_nccl_cu11-2.14.3-py3.10-linux-x86_64.egg (from torch->act-neuron) (2.14.3)\n",
      "Requirement already satisfied: nvidia-nvtx-cu11==11.7.91 in /home/tyler/neuro-venv/lib/python3.10/site-packages/nvidia_nvtx_cu11-11.7.91-py3.10-linux-x86_64.egg (from torch->act-neuron) (11.7.91)\n",
      "Requirement already satisfied: sympy in /home/tyler/neuro-venv/lib/python3.10/site-packages/sympy-1.12-py3.10.egg (from torch->act-neuron) (1.12)\n",
      "Requirement already satisfied: triton==2.0.0 in /home/tyler/neuro-venv/lib/python3.10/site-packages/triton-2.0.0-py3.10-linux-x86_64.egg (from torch->act-neuron) (2.0.0)\n",
      "Requirement already satisfied: typing-extensions in /home/tyler/neuro-venv/lib/python3.10/site-packages/typing_extensions-4.7.1-py3.10.egg (from torch->act-neuron) (4.7.1)\n",
      "Requirement already satisfied: setuptools in /home/tyler/neuro-venv/lib/python3.10/site-packages (from nvidia-cublas-cu11==11.10.3.66->torch->act-neuron) (68.1.2)\n",
      "Requirement already satisfied: wheel in /home/tyler/neuro-venv/lib/python3.10/site-packages/wheel-0.41.2-py3.10.egg (from nvidia-cublas-cu11==11.10.3.66->torch->act-neuron) (0.41.2)\n",
      "Requirement already satisfied: cmake in /home/tyler/neuro-venv/lib/python3.10/site-packages/cmake-3.27.2-py3.10-linux-x86_64.egg (from triton==2.0.0->torch->act-neuron) (3.27.2)\n",
      "Requirement already satisfied: lit in /home/tyler/neuro-venv/lib/python3.10/site-packages/lit-17.0.0rc2-py3.10.egg (from triton==2.0.0->torch->act-neuron) (17.0.0rc2)\n",
      "Requirement already satisfied: six>=1.5 in /home/tyler/neuro-venv/lib/python3.10/site-packages/six-1.16.0-py3.10.egg (from python-dateutil>=2.7->matplotlib->act-neuron) (1.16.0)\n",
      "Requirement already satisfied: MarkupSafe>=2.0 in /home/tyler/neuro-venv/lib/python3.10/site-packages/MarkupSafe-2.1.3-py3.10-linux-x86_64.egg (from jinja2->torch->act-neuron) (2.1.3)\n",
      "Requirement already satisfied: mpmath>=0.19 in /home/tyler/neuro-venv/lib/python3.10/site-packages/mpmath-1.3.0-py3.10.egg (from sympy->torch->act-neuron) (1.3.0)\n"
     ]
    }
   ],
   "source": [
    "!pip install act-neuron"
   ]
  },
  {
   "cell_type": "code",
   "execution_count": 1,
   "id": "c5be2206-6407-4e73-a150-05c4fa890bfe",
   "metadata": {},
   "outputs": [],
   "source": [
    "import sys\n",
    "\n",
    "# Download the repository with all relevant model files if in google colab\n",
    "IN_COLAB = 'google.colab' in sys.modules\n",
    "if IN_COLAB:\n",
    "    !rm -rf ./ACT\n",
    "    !git clone https://github.com/V-Marco/ACT\n",
    "    base_dir = './ACT'\n",
    "else:\n",
    "    base_dir = '../..'"
   ]
  },
  {
   "cell_type": "code",
   "execution_count": 2,
   "id": "5d7b0212-7620-498c-9bcb-4288a47d2a8c",
   "metadata": {},
   "outputs": [],
   "source": [
    "import numpy as np\n",
    "\n",
    "pospischilsPYr = {\n",
    "    \"cell\": {\n",
    "        \"cell_hoc_file\": base_dir + \"/data/Pospischil/sPYr/template.hoc\",\n",
    "        \"cell_name\": \"sPYr\",\n",
    "    },\n",
    "    \"simulation_parameters\": {\n",
    "        \"h_v_init\": -67.0,  # (mV)\n",
    "        \"h_tstop\": 2000,  # (ms)\n",
    "        \"h_i_delay\": 500,  # (ms)\n",
    "        \"h_i_dur\": 1500,  # (ms)\n",
    "        \"h_dt\": 0.025,\n",
    "    },\n",
    "    \"optimization_parameters\": {\n",
    "        \"amps\": list(np.arange(-2, 10, 0.1)),\n",
    "        \"params\": [\n",
    "            {\"channel\": \"g_pas\", \"low\": 5.0e-06, \"high\": 2.0e-05},\n",
    "            {\"channel\": \"gnabar_hh2\", \"low\": 2.5e-02, \"high\": 1.0e-01},\n",
    "            {\"channel\": \"gkbar_hh2\", \"low\": 2.5e-03, \"high\": 1.0e-02},\n",
    "            {\"channel\": \"gkbar_im\", \"low\": 1.5e-05, \"high\": 6.0e-05},\n",
    "            {\"channel\": \"gcabar_it\", \"low\": 5.0e-04, \"high\": 2.0e-03},\n",
    "        ],\n",
    "    },\n",
    "    \"summary_features\": {\n",
    "        \"spike_threshold\": 20,  # (mV)\n",
    "        # Target-sim match conditions (max abs diff between sim and target)\n",
    "        \"mc_num_spikes\": 1,\n",
    "        \"mc_interspike_time\": 200,  # (ms)\n",
    "        \"mc_min_v\": 1,  # (mV)\n",
    "        \"mc_mean_v\": 2,  # (mV)\n",
    "        \"mc_max_v\": 1,  # (mV)\n",
    "    },\n",
    "    \"segregation\": {\n",
    "        \"segr_param_inds\": [[0], [1, 2, 3, 4]],\n",
    "        \"segr_voltage_bounds\": [[-100, -65], [-65, 100]],\n",
    "        \"segr_time_bounds\": [[0, 500], [0, 2000]],\n",
    "        # Target voltage\n",
    "        \"target_V\": None,\n",
    "        \"target_params\": [1e-5, 0.05, 0.005, 3e-5, 0.001],\n",
    "    },\n",
    "    \"output\": {\"output_folder\": \"output_Pospischil_sPYr\", \"produce_plots\": True},\n",
    "    \"run_mode\": \"segregated\",  # \"original\", \"segregated\"\n",
    "    \"modfiles_mode\": \"segregated\",  # Used only for the output folder name\n",
    "    \"modfiles_folder\": base_dir + \"/data/Pospischil/sPYr/seg_modfiles\",\n",
    "    \"num_repeats\": 3,\n",
    "    \"num_amps_to_match\": 12,\n",
    "    \"num_epochs\": 5000,\n",
    "}\n"
   ]
  },
  {
   "cell_type": "code",
   "execution_count": 4,
   "id": "719018f3-5b59-4799-b89d-1f0ec151adaf",
   "metadata": {},
   "outputs": [
    {
     "name": "stderr",
     "output_type": "stream",
     "text": [
      "/home/tyler/neuro-venv/bin/nrnivmodl:10: DeprecationWarning: pkg_resources is deprecated as an API. See https://setuptools.pypa.io/en/latest/pkg_resources.html\n",
      "  from pkg_resources import working_set\n",
      "Translating cadecay_destexhe.mod into /home/tyler/git_stage/ACT/examples/Pospischil_sPYr/x86_64/cadecay_destexhe.c\n",
      "Translating HH_traub.mod into /home/tyler/git_stage/ACT/examples/Pospischil_sPYr/x86_64/HH_traub.c\n",
      "Notice: VERBATIM blocks are not thread safe\n",
      "Translating IM_cortex.mod into /home/tyler/git_stage/ACT/examples/Pospischil_sPYr/x86_64/IM_cortex.c\n",
      "Thread Safe\n",
      "Thread Safe\n",
      "Notice: This mechanism cannot be used with CVODE\n",
      "Translating IT_huguenard.mod into /home/tyler/git_stage/ACT/examples/Pospischil_sPYr/x86_64/IT_huguenard.c\n",
      "Thread Safe\n"
     ]
    },
    {
     "name": "stdout",
     "output_type": "stream",
     "text": [
      "/home/tyler/git_stage/ACT/examples/Pospischil_sPYr\n",
      "Mod files: \"../../data/Pospischil/sPYr/seg_modfiles/../../data/Pospischil/sPYr/seg_modfiles/cadecay_destexhe.mod\" \"../../data/Pospischil/sPYr/seg_modfiles/../../data/Pospischil/sPYr/seg_modfiles/HH_traub.mod\" \"../../data/Pospischil/sPYr/seg_modfiles/../../data/Pospischil/sPYr/seg_modfiles/IM_cortex.mod\" \"../../data/Pospischil/sPYr/seg_modfiles/../../data/Pospischil/sPYr/seg_modfiles/IT_huguenard.mod\"\n",
      "\n",
      "Creating 'x86_64' directory for .o files.\n",
      "\n",
      " -> \u001b[32mCompiling\u001b[0m mod_func.cpp\n",
      " -> \u001b[32mNMODL\u001b[0m ../../../data/Pospischil/sPYr/seg_modfiles/cadecay_destexhe.mod\n",
      " -> \u001b[32mNMODL\u001b[0m ../../../data/Pospischil/sPYr/seg_modfiles/HH_traub.mod\n",
      " -> \u001b[32mNMODL\u001b[0m ../../../data/Pospischil/sPYr/seg_modfiles/IM_cortex.mod\n",
      "Warning: Default 36 of PARAMETER celsius will be ignored and set by NEURON.\n",
      " -> \u001b[32mNMODL\u001b[0m ../../../data/Pospischil/sPYr/seg_modfiles/IT_huguenard.mod\n",
      " -> \u001b[32mCompiling\u001b[0m cadecay_destexhe.c\n",
      "Warning: Default 36 of PARAMETER celsius will be ignored and set by NEURON.\n",
      "Warning: Default -90 of PARAMETER ek will be ignored and set by NEURON.\n",
      "Warning: Default 50 of PARAMETER ena will be ignored and set by NEURON.\n",
      " -> \u001b[32mCompiling\u001b[0m IM_cortex.c\n",
      "Warning: Default 36 of PARAMETER celsius will be ignored and set by NEURON.\n",
      "Warning: Default 2 of PARAMETER cao will be ignored and set by NEURON.\n",
      "Warning: Default 0.00024 of PARAMETER cai will be ignored and set by NEURON.\n",
      " -> \u001b[32mCompiling\u001b[0m HH_traub.c\n",
      " -> \u001b[32mCompiling\u001b[0m IT_huguenard.c\n",
      " => \u001b[32mLINKING\u001b[0m shared library ./libnrnmech.so\n",
      " => \u001b[32mLINKING\u001b[0m executable ./special LDFLAGS are:    -pthread\n"
     ]
    },
    {
     "name": "stderr",
     "output_type": "stream",
     "text": [
      "NEURON: The user defined name already exists: cad\n",
      " near line 0\n",
      " ^\n",
      "        nrn_load_dll(\"./x86_64/....\")\n"
     ]
    },
    {
     "name": "stdout",
     "output_type": "stream",
     "text": [
      "Successfully created x86_64/special\n"
     ]
    },
    {
     "ename": "RuntimeError",
     "evalue": "hocobj_call error",
     "output_type": "error",
     "traceback": [
      "\u001b[0;31m---------------------------------------------------------------------------\u001b[0m",
      "\u001b[0;31mRuntimeError\u001b[0m                              Traceback (most recent call last)",
      "Cell \u001b[0;32mIn[4], line 3\u001b[0m\n\u001b[1;32m      1\u001b[0m \u001b[38;5;28;01mfrom\u001b[39;00m \u001b[38;5;21;01mact\u001b[39;00m \u001b[38;5;28;01mimport\u001b[39;00m simulator\n\u001b[0;32m----> 3\u001b[0m \u001b[43msimulator\u001b[49m\u001b[38;5;241;43m.\u001b[39;49m\u001b[43mrun\u001b[49m\u001b[43m(\u001b[49m\u001b[43mpospischilsPYr\u001b[49m\u001b[43m)\u001b[49m\n",
      "File \u001b[0;32m~/git_stage/ACT/act/simulator.py:33\u001b[0m, in \u001b[0;36mrun\u001b[0;34m(constants)\u001b[0m\n\u001b[1;32m     30\u001b[0m     os\u001b[38;5;241m.\u001b[39msystem(\u001b[38;5;124m\"\u001b[39m\u001b[38;5;124mrm -r x86_64\u001b[39m\u001b[38;5;124m\"\u001b[39m)\n\u001b[1;32m     32\u001b[0m os\u001b[38;5;241m.\u001b[39msystem(\u001b[38;5;124mf\u001b[39m\u001b[38;5;124m\"\u001b[39m\u001b[38;5;124mnrnivmodl \u001b[39m\u001b[38;5;132;01m{\u001b[39;00mconstants[\u001b[38;5;124m'\u001b[39m\u001b[38;5;124mmodfiles_folder\u001b[39m\u001b[38;5;124m'\u001b[39m]\u001b[38;5;132;01m}\u001b[39;00m\u001b[38;5;124m\"\u001b[39m)\n\u001b[0;32m---> 33\u001b[0m \u001b[43mh\u001b[49m\u001b[38;5;241;43m.\u001b[39;49m\u001b[43mnrn_load_dll\u001b[49m\u001b[43m(\u001b[49m\u001b[38;5;124;43m\"\u001b[39;49m\u001b[38;5;124;43m./x86_64/.libs/libnrnmech.so\u001b[39;49m\u001b[38;5;124;43m\"\u001b[39;49m\u001b[43m)\u001b[49m\n\u001b[1;32m     35\u001b[0m logger \u001b[38;5;241m=\u001b[39m ACTLogger()\n\u001b[1;32m     36\u001b[0m logger\u001b[38;5;241m.\u001b[39minfo(\n\u001b[1;32m     37\u001b[0m     \u001b[38;5;124mf\u001b[39m\u001b[38;5;124m\"\u001b[39m\u001b[38;5;124mNumber of amplitudes: \u001b[39m\u001b[38;5;132;01m{\u001b[39;00m\u001b[38;5;28mlen\u001b[39m(constants[\u001b[38;5;124m'\u001b[39m\u001b[38;5;124moptimization_parameters\u001b[39m\u001b[38;5;124m'\u001b[39m][\u001b[38;5;124m'\u001b[39m\u001b[38;5;124mamps\u001b[39m\u001b[38;5;124m'\u001b[39m])\u001b[38;5;132;01m}\u001b[39;00m\u001b[38;5;124m\"\u001b[39m\n\u001b[1;32m     38\u001b[0m )\n",
      "\u001b[0;31mRuntimeError\u001b[0m: hocobj_call error"
     ]
    }
   ],
   "source": [
    "from act import simulator\n",
    "\n",
    "simulator.run(pospischilsPYr)"
   ]
  },
  {
   "cell_type": "code",
   "execution_count": null,
   "id": "38830a14-fe47-4fe6-9889-181b065153c7",
   "metadata": {},
   "outputs": [],
   "source": [
    "!ls ../../data/Pospischil/"
   ]
  },
  {
   "cell_type": "code",
   "execution_count": null,
   "id": "6aa49d35-fb68-413c-8498-42e915a382a2",
   "metadata": {},
   "outputs": [],
   "source": []
  }
 ],
 "metadata": {
  "kernelspec": {
   "display_name": "Python 3 (ipykernel)",
   "language": "python",
   "name": "python3"
  },
  "language_info": {
   "codemirror_mode": {
    "name": "ipython",
    "version": 3
   },
   "file_extension": ".py",
   "mimetype": "text/x-python",
   "name": "python",
   "nbconvert_exporter": "python",
   "pygments_lexer": "ipython3",
   "version": "3.10.12"
  }
 },
 "nbformat": 4,
 "nbformat_minor": 5
}
