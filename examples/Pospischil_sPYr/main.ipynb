{
 "cells": [
  {
   "cell_type": "markdown",
   "id": "8ea2c844-9265-43b7-9a61-86ad838adf95",
   "metadata": {},
   "source": [
    "# Pospischil sPYr Example"
   ]
  },
  {
   "cell_type": "markdown",
   "id": "425ec2f3-52e7-4310-91a3-4fee6af9631c",
   "metadata": {},
   "source": [
    "### Install dependencies for ACT and setup environment"
   ]
  },
  {
   "cell_type": "code",
   "execution_count": 1,
   "id": "7251b10c-54b7-40e9-a6b5-6897ad343fbf",
   "metadata": {},
   "outputs": [
    {
     "name": "stdout",
     "output_type": "stream",
     "text": [
      "Requirement already satisfied: act-neuron in /home/tyler/neuro-venv/lib/python3.10/site-packages (0.0.9)\n",
      "Requirement already satisfied: torch in /home/tyler/neuro-venv/lib/python3.10/site-packages (from act-neuron) (2.0.1)\n",
      "Requirement already satisfied: numpy in /home/tyler/neuro-venv/lib/python3.10/site-packages (from act-neuron) (1.25.1)\n",
      "Requirement already satisfied: matplotlib in /home/tyler/neuro-venv/lib/python3.10/site-packages (from act-neuron) (3.7.2)\n",
      "Requirement already satisfied: neuron>=8.2.0 in /home/tyler/neuro-venv/lib/python3.10/site-packages (from act-neuron) (8.2.2)\n",
      "Requirement already satisfied: pillow>=6.2.0 in /home/tyler/neuro-venv/lib/python3.10/site-packages (from matplotlib->act-neuron) (10.0.0)\n",
      "Requirement already satisfied: fonttools>=4.22.0 in /home/tyler/neuro-venv/lib/python3.10/site-packages (from matplotlib->act-neuron) (4.41.1)\n",
      "Requirement already satisfied: python-dateutil>=2.7 in /home/tyler/neuro-venv/lib/python3.10/site-packages (from matplotlib->act-neuron) (2.8.2)\n",
      "Requirement already satisfied: packaging>=20.0 in /home/tyler/neuro-venv/lib/python3.10/site-packages (from matplotlib->act-neuron) (23.1)\n",
      "Requirement already satisfied: cycler>=0.10 in /home/tyler/neuro-venv/lib/python3.10/site-packages (from matplotlib->act-neuron) (0.11.0)\n",
      "Requirement already satisfied: pyparsing<3.1,>=2.3.1 in /home/tyler/neuro-venv/lib/python3.10/site-packages (from matplotlib->act-neuron) (3.0.9)\n",
      "Requirement already satisfied: kiwisolver>=1.0.1 in /home/tyler/neuro-venv/lib/python3.10/site-packages (from matplotlib->act-neuron) (1.4.4)\n",
      "Requirement already satisfied: contourpy>=1.0.1 in /home/tyler/neuro-venv/lib/python3.10/site-packages (from matplotlib->act-neuron) (1.1.0)\n",
      "Requirement already satisfied: filelock in /home/tyler/neuro-venv/lib/python3.10/site-packages (from torch->act-neuron) (3.12.2)\n",
      "Requirement already satisfied: triton==2.0.0 in /home/tyler/neuro-venv/lib/python3.10/site-packages (from torch->act-neuron) (2.0.0)\n",
      "Requirement already satisfied: sympy in /home/tyler/neuro-venv/lib/python3.10/site-packages (from torch->act-neuron) (1.12)\n",
      "Requirement already satisfied: nvidia-cuda-nvrtc-cu11==11.7.99 in /home/tyler/neuro-venv/lib/python3.10/site-packages (from torch->act-neuron) (11.7.99)\n",
      "Requirement already satisfied: networkx in /home/tyler/neuro-venv/lib/python3.10/site-packages (from torch->act-neuron) (3.1)\n",
      "Requirement already satisfied: typing-extensions in /home/tyler/neuro-venv/lib/python3.10/site-packages (from torch->act-neuron) (4.7.1)\n",
      "Requirement already satisfied: nvidia-cuda-runtime-cu11==11.7.99 in /home/tyler/neuro-venv/lib/python3.10/site-packages (from torch->act-neuron) (11.7.99)\n",
      "Requirement already satisfied: nvidia-cufft-cu11==10.9.0.58 in /home/tyler/neuro-venv/lib/python3.10/site-packages (from torch->act-neuron) (10.9.0.58)\n",
      "Requirement already satisfied: nvidia-curand-cu11==10.2.10.91 in /home/tyler/neuro-venv/lib/python3.10/site-packages (from torch->act-neuron) (10.2.10.91)\n",
      "Requirement already satisfied: nvidia-cusolver-cu11==11.4.0.1 in /home/tyler/neuro-venv/lib/python3.10/site-packages (from torch->act-neuron) (11.4.0.1)\n",
      "Requirement already satisfied: nvidia-cuda-cupti-cu11==11.7.101 in /home/tyler/neuro-venv/lib/python3.10/site-packages (from torch->act-neuron) (11.7.101)\n",
      "Requirement already satisfied: nvidia-cudnn-cu11==8.5.0.96 in /home/tyler/neuro-venv/lib/python3.10/site-packages (from torch->act-neuron) (8.5.0.96)\n",
      "Requirement already satisfied: nvidia-cusparse-cu11==11.7.4.91 in /home/tyler/neuro-venv/lib/python3.10/site-packages (from torch->act-neuron) (11.7.4.91)\n",
      "Requirement already satisfied: nvidia-nccl-cu11==2.14.3 in /home/tyler/neuro-venv/lib/python3.10/site-packages (from torch->act-neuron) (2.14.3)\n",
      "Requirement already satisfied: nvidia-nvtx-cu11==11.7.91 in /home/tyler/neuro-venv/lib/python3.10/site-packages (from torch->act-neuron) (11.7.91)\n",
      "Requirement already satisfied: jinja2 in /home/tyler/neuro-venv/lib/python3.10/site-packages (from torch->act-neuron) (3.1.2)\n",
      "Requirement already satisfied: nvidia-cublas-cu11==11.10.3.66 in /home/tyler/neuro-venv/lib/python3.10/site-packages (from torch->act-neuron) (11.10.3.66)\n",
      "Requirement already satisfied: wheel in /home/tyler/neuro-venv/lib/python3.10/site-packages (from nvidia-cublas-cu11==11.10.3.66->torch->act-neuron) (0.41.0)\n",
      "Requirement already satisfied: setuptools in /home/tyler/neuro-venv/lib/python3.10/site-packages (from nvidia-cublas-cu11==11.10.3.66->torch->act-neuron) (68.0.0)\n",
      "Requirement already satisfied: lit in /home/tyler/neuro-venv/lib/python3.10/site-packages (from triton==2.0.0->torch->act-neuron) (16.0.6)\n",
      "Requirement already satisfied: cmake in /home/tyler/neuro-venv/lib/python3.10/site-packages (from triton==2.0.0->torch->act-neuron) (3.27.0)\n",
      "Requirement already satisfied: six>=1.5 in /home/tyler/neuro-venv/lib/python3.10/site-packages (from python-dateutil>=2.7->matplotlib->act-neuron) (1.16.0)\n",
      "Requirement already satisfied: MarkupSafe>=2.0 in /home/tyler/neuro-venv/lib/python3.10/site-packages (from jinja2->torch->act-neuron) (2.1.3)\n",
      "Requirement already satisfied: mpmath>=0.19 in /home/tyler/neuro-venv/lib/python3.10/site-packages (from sympy->torch->act-neuron) (1.3.0)\n"
     ]
    }
   ],
   "source": [
    "!pip install act-neuron\n",
    "\n",
    "import os\n",
    "import sys\n",
    "\n",
    "from act import simulator, analysis\n",
    "from IPython.display import Image\n",
    "import numpy as np\n",
    "\n",
    "# Download the repository with all relevant model files if in google colab\n",
    "IN_COLAB = \"google.colab\" in sys.modules\n",
    "if IN_COLAB:\n",
    "    !rm -rf ./ACT\n",
    "    !git clone https://github.com/V-Marco/ACT\n",
    "    base_dir = \"./ACT\"\n",
    "else:\n",
    "    base_dir = \"../..\""
   ]
  },
  {
   "cell_type": "markdown",
   "id": "5e284547-9f61-4b63-8ec2-8d4e54a83376",
   "metadata": {},
   "source": [
    "### Define a config file\n",
    "\n",
    "These settings are modifiable by the user of ACT. Tune your own cells by altering values here."
   ]
  },
  {
   "cell_type": "code",
   "execution_count": 2,
   "id": "5d7b0212-7620-498c-9bcb-4288a47d2a8c",
   "metadata": {},
   "outputs": [],
   "source": [
    "config = {\n",
    "    \"cell\": {\n",
    "        \"hoc_file\": os.path.join(base_dir, \"data/Pospischil/sPyr/template.hoc\"),\n",
    "        \"modfiles_folder\": os.path.join(base_dir, \"data/Pospischil/sPyr/seg_modfiles\"),\n",
    "        \"name\": \"sPYr\",\n",
    "    },\n",
    "    \"simulation_parameters\": {\n",
    "        \"h_v_init\": -60.0,  # (mV)\n",
    "        \"h_tstop\": 2000,  # (ms)\n",
    "        \"h_i_delay\": 500,  # (ms)\n",
    "        \"h_i_dur\": 1500,  # (ms)\n",
    "        \"h_dt\": 0.025,\n",
    "    },\n",
    "    \"optimization_parameters\": {\n",
    "        \"amps\": list(np.arange(-2, 10, 0.1)),\n",
    "        \"params\": [\n",
    "            {\"channel\": \"g_pas\", \"low\": 5.0e-06, \"high\": 2.0e-05},\n",
    "            {\"channel\": \"gnabar_hh2\", \"low\": 2.5e-02, \"high\": 1.0e-01},\n",
    "            {\"channel\": \"gkbar_hh2\", \"low\": 2.5e-03, \"high\": 1.0e-02},\n",
    "            {\"channel\": \"gkbar_im\", \"low\": 1.5e-05, \"high\": 6.0e-05},\n",
    "            {\"channel\": \"gcabar_it\", \"low\": 5.0e-04, \"high\": 2.0e-03},\n",
    "        ],\n",
    "        \"target_V\": None,  # Target voltages\n",
    "        \"target_params\": [1e-5, 0.05, 0.005, 3e-5, 0.001],\n",
    "        \"num_repeats\": 3,\n",
    "        \"num_amps_to_match\": 12,\n",
    "        \"num_epochs\": 5000,\n",
    "    },\n",
    "    \"summary_features\": {\n",
    "        \"spike_threshold\": 20,  # (mV)\n",
    "        # Target-sim match conditions (max abs diff between sim and target)\n",
    "        \"mc_num_spikes\": 1,\n",
    "        \"mc_interspike_time\": 200,  # (ms)\n",
    "        \"mc_min_v\": 1,  # (mV)\n",
    "        \"mc_mean_v\": 2,  # (mV)\n",
    "        \"mc_max_v\": 1,  # (mV)\n",
    "    },\n",
    "    \"segregation\": [\n",
    "        {\n",
    "            \"params\": [\"g_pas\"],\n",
    "            \"voltage\": [-100, -65],\n",
    "            \"time\": [0, 500],\n",
    "        },\n",
    "        {\n",
    "            \"params\": [\"gnabar_hh2\", \"gkbar_hh2\", \"gkbar_im\", \"gcabar_it\"],\n",
    "            \"voltage\": [-65, 100],\n",
    "            \"time\": [0, 2000],\n",
    "        },\n",
    "    ],\n",
    "    \"output\": {\"folder\": \"output_Pospischil_sPYr\", \"produce_plots\": True},\n",
    "    \"run_mode\": \"segregated\",  # \"original\", \"segregated\"\n",
    "}"
   ]
  },
  {
   "cell_type": "markdown",
   "id": "91f2ea37-f300-405b-a861-18993a4409f4",
   "metadata": {},
   "source": [
    "### Run the simulation"
   ]
  },
  {
   "cell_type": "code",
   "execution_count": 3,
   "id": "719018f3-5b59-4799-b89d-1f0ec151adaf",
   "metadata": {},
   "outputs": [
    {
     "name": "stderr",
     "output_type": "stream",
     "text": [
      "/home/tyler/neuro-venv/bin/nrnivmodl:10: DeprecationWarning: pkg_resources is deprecated as an API. See https://setuptools.pypa.io/en/latest/pkg_resources.html\n",
      "  from pkg_resources import working_set\n"
     ]
    },
    {
     "name": "stdout",
     "output_type": "stream",
     "text": [
      "INFO : Using neuron-nightly Package (Developer Version)\n",
      "/home/tyler/git_stage/ACT/examples/Pospischil_sPYr\n",
      "Mod files: \"../../data/Pospischil/sPyr/seg_modfiles/../../data/Pospischil/sPyr/seg_modfiles/cadecay_destexhe.mod\" \"../../data/Pospischil/sPyr/seg_modfiles/../../data/Pospischil/sPyr/seg_modfiles/HH_traub.mod\" \"../../data/Pospischil/sPyr/seg_modfiles/../../data/Pospischil/sPyr/seg_modfiles/IM_cortex.mod\" \"../../data/Pospischil/sPyr/seg_modfiles/../../data/Pospischil/sPyr/seg_modfiles/IT_huguenard.mod\"\n",
      "\n",
      " -> \u001b[32mCompiling\u001b[0m mod_func.cpp\n",
      " => \u001b[32mLINKING\u001b[0m shared library ./libnrnmech.so\n",
      "Successfully created x86_64/special\n"
     ]
    },
    {
     "name": "stderr",
     "output_type": "stream",
     "text": [
      "NEURON: The user defined name already exists: cad\n",
      " near line 0\n",
      " objref hoc_obj_[2]\n",
      "                   ^\n",
      "        nrn_load_dll(\"./x86_64/....\")\n"
     ]
    },
    {
     "name": "stdout",
     "output_type": "stream",
     "text": [
      "\n",
      "(2023-09-03 17:42:42.019499)-[START]\n",
      "(2023-09-03 17:42:42.019582)-[INFO]: Number of amplitudes: 120\n",
      "(2023-09-03 17:42:42.043671)-[INFO]: Mod files already loaded. Continuing.\n",
      "Skipping analytical setting of passive properties, no cell passive_properties specified in config.\n",
      "(2023-09-03 17:43:20.906994)-[INFO]: Target voltage shape: torch.Size([120, 80000])\n",
      "Skipping analytical setting of passive properties, no cell passive_properties specified in config.\n",
      "(2023-09-03 17:43:20.958211)-[INFO]: Matching 12 amplitudes.\n",
      "(2023-09-03 17:43:59.811930)-[INFO]: Total amplitudes matched: 8/12.\n",
      "(2023-09-03 17:44:36.558453)-[INFO]: Total amplitudes matched: 13/12.\n",
      "(2023-09-03 17:44:36.562531)-[INFO]: Matched amplitudes: [0.7 2.  2.9 3.1 4.1 4.6 4.7 5.  5.2 6.  6.2 8.6 9.1]\n",
      "(2023-09-03 17:44:36.805453)-[INFO]: Training a model with SGD optimizer and lr = 1e-8.\n",
      "(2023-09-03 17:44:36.805536)-[INFO]: Number of trainable parameters: 20546305\n",
      "(2023-09-03 17:44:36.809518)-[EPOCH 0]: l1_loss = 0.0\n",
      "(2023-09-03 17:44:36.856010)-[EPOCH 0]: l1_loss = 0.0\n",
      "(2023-09-03 17:44:36.909954)-[EPOCH 0]: l1_loss = 0.0\n",
      "(2023-09-03 17:44:36.968661)-[EPOCH 0]: l1_loss = 1e-05\n",
      "(2023-09-03 17:44:37.028333)-[EPOCH 0]: l1_loss = 1e-05\n",
      "(2023-09-03 17:44:37.087071)-[EPOCH 0]: l1_loss = 1e-05\n",
      "(2023-09-03 17:44:37.145426)-[EPOCH 0]: l1_loss = 0.0\n",
      "(2023-09-03 17:44:37.205311)-[EPOCH 0]: l1_loss = 1e-05\n",
      "(2023-09-03 17:44:37.268181)-[EPOCH 0]: l1_loss = 0.0\n",
      "(2023-09-03 17:44:37.327629)-[EPOCH 0]: l1_loss = 1e-05\n",
      "(2023-09-03 17:44:37.386316)-[EPOCH 0]: l1_loss = 1e-05\n",
      "(2023-09-03 17:44:37.444616)-[EPOCH 0]: l1_loss = 0.0\n",
      "(2023-09-03 17:44:37.503928)-[EPOCH 0]: l1_loss = 1e-05\n",
      "(2023-09-03 17:44:37.887967)-[INFO]: Training a model with SGD optimizer and lr = 1e-8.\n",
      "(2023-09-03 17:44:37.888053)-[INFO]: Number of trainable parameters: 20547076\n",
      "(2023-09-03 17:44:37.891612)-[EPOCH 0]: l1_loss = 0.0066\n",
      "(2023-09-03 17:44:43.169423)-[EPOCH 100]: l1_loss = 0.00635\n",
      "(2023-09-03 17:44:48.472934)-[EPOCH 200]: l1_loss = 0.00511\n",
      "(2023-09-03 17:44:52.663275)-[EPOCH 0]: l1_loss = 0.01255\n",
      "(2023-09-03 17:44:52.722157)-[EPOCH 0]: l1_loss = 0.01434\n",
      "(2023-09-03 17:44:58.029750)-[EPOCH 100]: l1_loss = 0.01427\n",
      "(2023-09-03 17:45:03.352757)-[EPOCH 200]: l1_loss = 0.01412\n",
      "(2023-09-03 17:45:08.676614)-[EPOCH 300]: l1_loss = 0.0138\n",
      "(2023-09-03 17:45:13.995371)-[EPOCH 400]: l1_loss = 0.013\n",
      "(2023-09-03 17:45:19.329544)-[EPOCH 500]: l1_loss = 0.01029\n",
      "(2023-09-03 17:45:24.662062)-[EPOCH 600]: l1_loss = 0.00181\n",
      "(2023-09-03 17:45:25.520779)-[EPOCH 0]: l1_loss = 0.0119\n",
      "(2023-09-03 17:45:30.863859)-[EPOCH 100]: l1_loss = 0.01054\n",
      "(2023-09-03 17:45:36.230118)-[EPOCH 200]: l1_loss = 0.0043\n",
      "(2023-09-03 17:45:37.737859)-[EPOCH 0]: l1_loss = 0.00082\n",
      "(2023-09-03 17:45:38.650912)-[EPOCH 0]: l1_loss = 0.0023\n",
      "(2023-09-03 17:45:38.709761)-[EPOCH 0]: l1_loss = 0.00773\n",
      "(2023-09-03 17:45:44.071556)-[EPOCH 100]: l1_loss = 0.00679\n",
      "(2023-09-03 17:45:49.476669)-[EPOCH 200]: l1_loss = 0.00288\n",
      "(2023-09-03 17:45:51.105342)-[EPOCH 0]: l1_loss = 0.01091\n",
      "(2023-09-03 17:45:56.520278)-[EPOCH 100]: l1_loss = 0.00221\n",
      "(2023-09-03 17:45:56.903704)-[EPOCH 0]: l1_loss = 0.00931\n",
      "(2023-09-03 17:45:56.962914)-[EPOCH 0]: l1_loss = 0.0128\n",
      "(2023-09-03 17:45:57.022110)-[EPOCH 0]: l1_loss = 0.00725\n",
      "(2023-09-03 17:45:57.080315)-[EPOCH 0]: l1_loss = 0.00203\n",
      "(2023-09-03 17:45:57.139809)-[EPOCH 0]: l1_loss = 0.0002\n",
      "Skipping analytical setting of passive properties, no cell passive_properties specified in config.\n",
      "(2023-09-03 17:46:37.342789)-[INFO]: Matching 12 amplitudes.\n",
      "(2023-09-03 17:47:17.064340)-[INFO]: Total amplitudes matched: 1/12.\n",
      "(2023-09-03 17:47:56.446084)-[INFO]: Total amplitudes matched: 8/12.\n",
      "(2023-09-03 17:48:34.477369)-[INFO]: Total amplitudes matched: 16/12.\n",
      "(2023-09-03 17:48:34.482884)-[INFO]: Matched amplitudes: [-0.1  0.4  0.6  1.2  1.4  1.5  2.9  3.   3.7  4.7  5.6  7.2  7.3  7.6\n",
      "  8.1  8.8]\n",
      "(2023-09-03 17:48:34.862054)-[INFO]: Training a model with SGD optimizer and lr = 1e-8.\n",
      "(2023-09-03 17:48:34.862204)-[INFO]: Number of trainable parameters: 20546305\n",
      "(2023-09-03 17:48:34.866752)-[EPOCH 0]: l1_loss = 1e-05\n",
      "(2023-09-03 17:48:34.908566)-[EPOCH 0]: l1_loss = 1e-05\n",
      "(2023-09-03 17:48:34.975100)-[EPOCH 0]: l1_loss = 1e-05\n",
      "(2023-09-03 17:48:35.039460)-[EPOCH 0]: l1_loss = 0.0\n",
      "(2023-09-03 17:48:35.106610)-[EPOCH 0]: l1_loss = 1e-05\n",
      "(2023-09-03 17:48:35.172913)-[EPOCH 0]: l1_loss = 1e-05\n",
      "(2023-09-03 17:48:35.236924)-[EPOCH 0]: l1_loss = 0.0\n",
      "(2023-09-03 17:48:35.302551)-[EPOCH 0]: l1_loss = 1e-05\n",
      "(2023-09-03 17:48:35.371102)-[EPOCH 0]: l1_loss = 1e-05\n",
      "(2023-09-03 17:48:35.438333)-[EPOCH 0]: l1_loss = 1e-05\n",
      "(2023-09-03 17:48:35.505381)-[EPOCH 0]: l1_loss = 1e-05\n",
      "(2023-09-03 17:48:35.573708)-[EPOCH 0]: l1_loss = 1e-05\n",
      "(2023-09-03 17:48:35.649192)-[EPOCH 0]: l1_loss = 1e-05\n",
      "(2023-09-03 17:48:35.712664)-[EPOCH 0]: l1_loss = 0.0\n",
      "(2023-09-03 17:48:35.780303)-[EPOCH 0]: l1_loss = 1e-05\n",
      "(2023-09-03 17:48:35.847335)-[EPOCH 0]: l1_loss = 1e-05\n",
      "(2023-09-03 17:48:36.257566)-[INFO]: Training a model with SGD optimizer and lr = 1e-8.\n",
      "(2023-09-03 17:48:36.257672)-[INFO]: Number of trainable parameters: 20547076\n",
      "(2023-09-03 17:48:36.261295)-[EPOCH 0]: l1_loss = 0.01462\n",
      "(2023-09-03 17:48:36.293618)-[EPOCH 0]: l1_loss = 0.00957\n",
      "(2023-09-03 17:48:41.928045)-[EPOCH 100]: l1_loss = 0.0095\n",
      "(2023-09-03 17:48:47.741445)-[EPOCH 200]: l1_loss = 0.00921\n",
      "(2023-09-03 17:48:53.957746)-[EPOCH 300]: l1_loss = 0.00832\n",
      "(2023-09-03 17:48:59.816205)-[EPOCH 400]: l1_loss = 0.00492\n",
      "(2023-09-03 17:49:02.317436)-[EPOCH 0]: l1_loss = 0.01798\n",
      "(2023-09-03 17:49:07.769103)-[EPOCH 100]: l1_loss = 0.01793\n",
      "(2023-09-03 17:49:13.134612)-[EPOCH 200]: l1_loss = 0.01785\n",
      "(2023-09-03 17:49:18.508647)-[EPOCH 300]: l1_loss = 0.01768\n",
      "(2023-09-03 17:49:24.026645)-[EPOCH 400]: l1_loss = 0.01731\n",
      "(2023-09-03 17:49:29.701871)-[EPOCH 500]: l1_loss = 0.01626\n",
      "(2023-09-03 17:49:35.322039)-[EPOCH 600]: l1_loss = 0.01165\n"
     ]
    }
   ],
   "source": [
    "simulator.run(config)"
   ]
  },
  {
   "cell_type": "code",
   "execution_count": null,
   "id": "9de81bb7-20eb-4e9d-a9ee-3db367acd707",
   "metadata": {},
   "outputs": [],
   "source": [
    "Image(filename=\"./output_Pospischil_sPYr/segregated/1000nA.png\")"
   ]
  },
  {
   "cell_type": "code",
   "execution_count": null,
   "id": "1e9d760b-28dc-41ab-b6ca-1300dcb90a01",
   "metadata": {},
   "outputs": [],
   "source": [
    "analysis.print_run_stats(config)"
   ]
  },
  {
   "cell_type": "markdown",
   "id": "f470d7c4",
   "metadata": {},
   "source": [
    "### Compare with the non-segregated approach"
   ]
  },
  {
   "cell_type": "code",
   "execution_count": null,
   "id": "ad40fbb1",
   "metadata": {},
   "outputs": [],
   "source": [
    "# Update our config to use the original mod files\n",
    "config[\"cell\"][\"modfiles_folder\"] = os.path.join(\n",
    "    base_dir, \"data/Pospischil/sPyr/orig_modfiles\"\n",
    ")\n",
    "\n",
    "# Change the run mode to original (instead of segregated)\n",
    "config[\"run_mode\"] = \"original\"\n",
    "\n",
    "# Re-run\n",
    "\n",
    "simulator.run(config)"
   ]
  },
  {
   "cell_type": "code",
   "execution_count": null,
   "id": "9721bdb8-e60f-4de1-849a-95759e73f441",
   "metadata": {},
   "outputs": [],
   "source": [
    "Image(filename=\"./output_Pospischil_sPYr/original/1000nA.png\")"
   ]
  },
  {
   "cell_type": "code",
   "execution_count": null,
   "id": "fe4fedac-8ded-4c0d-b905-a8235623e6a1",
   "metadata": {},
   "outputs": [],
   "source": [
    "analysis.print_run_stats(config)"
   ]
  },
  {
   "cell_type": "markdown",
   "id": "6bbdc4fb-d3b2-469f-bd02-7d2a5cab8cec",
   "metadata": {},
   "source": [
    "### Analytical setting of passive properties\n",
    "\n",
    "In this section, let's set the passive properties for the cell so they can be analytically determined instead of using a model network."
   ]
  },
  {
   "cell_type": "code",
   "execution_count": null,
   "id": "7310cf7b",
   "metadata": {},
   "outputs": [],
   "source": [
    "config = {\n",
    "    \"cell\": {\n",
    "        \"hoc_file\": os.path.join(base_dir, \"data/Pospischil/sPyr/template.hoc\"),\n",
    "        \"modfiles_folder\": os.path.join(base_dir, \"data/Pospischil/sPyr/seg_modfiles\"),\n",
    "        \"name\": \"sPYr\",\n",
    "        \"passive_properties\": {\n",
    "            \"v_rest\": -60,\n",
    "            \"r_in\": 393.45,\n",
    "            \"tau\": 117.425,\n",
    "            \"leak_conductance_variable\": \"g_pas\",  # eg: g_leak\n",
    "            \"leak_reversal_variable\": \"e_pas\",  # eg: e_leak\n",
    "        },\n",
    "    },\n",
    "    \"simulation_parameters\": {\n",
    "        \"h_v_init\": -60.0,  # (mV)\n",
    "        \"h_tstop\": 2000,  # (ms)\n",
    "        \"h_i_delay\": 500,  # (ms)\n",
    "        \"h_i_dur\": 1500,  # (ms)\n",
    "        \"h_dt\": 0.025,\n",
    "    },\n",
    "    \"optimization_parameters\": {\n",
    "        \"amps\": list(np.arange(-2, 10, 0.1)),\n",
    "        \"params\": [\n",
    "            {\"channel\": \"gnabar_hh2\", \"low\": 2.5e-02, \"high\": 1.0e-01},\n",
    "            {\"channel\": \"gkbar_hh2\", \"low\": 2.5e-03, \"high\": 1.0e-02},\n",
    "            {\"channel\": \"gkbar_im\", \"low\": 1.5e-05, \"high\": 6.0e-05},\n",
    "            {\"channel\": \"gcabar_it\", \"low\": 5.0e-04, \"high\": 2.0e-03},\n",
    "        ],\n",
    "        \"target_V\": None,  # Target voltages\n",
    "        \"target_params\": [0.05, 0.005, 3e-5, 0.001],\n",
    "        \"num_repeats\": 3,\n",
    "        \"num_amps_to_match\": 12,\n",
    "        \"num_epochs\": 5000,\n",
    "    },\n",
    "    \"summary_features\": {\n",
    "        \"spike_threshold\": 20,  # (mV)\n",
    "        # Target-sim match conditions (max abs diff between sim and target)\n",
    "        \"mc_num_spikes\": 1,\n",
    "        \"mc_interspike_time\": 200,  # (ms)\n",
    "        \"mc_min_v\": 1,  # (mV)\n",
    "        \"mc_mean_v\": 2,  # (mV)\n",
    "        \"mc_max_v\": 1,  # (mV)\n",
    "    },\n",
    "    \"segregation\": [\n",
    "        {\n",
    "            \"params\": [\"gnabar_hh2\", \"gkbar_hh2\", \"gkbar_im\", \"gcabar_it\"],\n",
    "            \"voltage\": [-65, 100],\n",
    "            \"time\": [0, 2000],\n",
    "        },\n",
    "    ],\n",
    "    \"output\": {\"folder\": \"output_Pospischil_sPYr_p\", \"produce_plots\": True},\n",
    "    \"run_mode\": \"segregated\",  # \"original\", \"segregated\"\n",
    "}"
   ]
  },
  {
   "cell_type": "code",
   "execution_count": null,
   "id": "dd03c158",
   "metadata": {},
   "outputs": [],
   "source": [
    "simulator.run(config)"
   ]
  },
  {
   "cell_type": "code",
   "execution_count": null,
   "id": "eedfdde8",
   "metadata": {},
   "outputs": [],
   "source": [
    "Image(filename=\"./output_Pospischil_sPYr_p/segregated/1000nA.png\")"
   ]
  },
  {
   "cell_type": "code",
   "execution_count": null,
   "id": "b9d071f8",
   "metadata": {},
   "outputs": [],
   "source": [
    "analysis.print_run_stats(config)"
   ]
  }
 ],
 "metadata": {
  "kernelspec": {
   "display_name": "Python 3 (ipykernel)",
   "language": "python",
   "name": "python3"
  },
  "language_info": {
   "codemirror_mode": {
    "name": "ipython",
    "version": 3
   },
   "file_extension": ".py",
   "mimetype": "text/x-python",
   "name": "python",
   "nbconvert_exporter": "python",
   "pygments_lexer": "ipython3",
   "version": "3.10.12"
  }
 },
 "nbformat": 4,
 "nbformat_minor": 5
}
