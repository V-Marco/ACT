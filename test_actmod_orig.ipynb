{
 "cells": [
  {
   "cell_type": "code",
   "execution_count": 1,
   "metadata": {},
   "outputs": [
    {
     "name": "stderr",
     "output_type": "stream",
     "text": [
      "/home/mwsrgf/act-venv/lib64/python3.9/site-packages/torch/__init__.py:955: UserWarning: torch.set_default_tensor_type() is deprecated as of PyTorch 2.1, please use torch.set_default_dtype() and torch.set_default_device() as alternatives. (Triggered internally at ../torch/csrc/tensor/python_tensor.cpp:432.)\n",
      "  _C._set_default_tensor_type(t)\n",
      "Warning: no DISPLAY environment variable.\n",
      "--No graphics will be displayed.\n"
     ]
    },
    {
     "name": "stdout",
     "output_type": "stream",
     "text": [
      "Blocking: []\n",
      "Total number of jobs: 3\n",
      "Total number of proccessors: 192\n",
      "/home/mwsrgf/proj/ACT/model/original/synthetic_0.1_0.2_0.3_\n"
     ]
    }
   ],
   "source": [
    "from act.SyntheticGenerator import SyntheticGenerator\n",
    "from act.act_types import SimParams, OptimizationParameters\n",
    "from act.cell_model import TargetCell, ModuleParameters\n",
    "\n",
    "target_cell = TargetCell(\n",
    "    hoc_file=\"/home/mwsrgf/proj/ACT/data/Burster/Izhikevich_p307_orig/template.hoc\",\n",
    "    mod_folder=\"/home/mwsrgf/proj/ACT/data/Burster/Izhikevich_p307_orig/modfiles\",\n",
    "    cell_name=\"Burster_Izh\",\n",
    "    g_names = [\"gbar_nap\", \"gkdrbar_kdr\", \"gbar_na3\", \"gmbar_im\", \"glbar_leak\"]\n",
    ")\n",
    "\n",
    "sg = SyntheticGenerator(\n",
    "    ModuleParameters(\n",
    "        module_folder_name=\"original\",\n",
    "        cell= target_cell,\n",
    "        sim_params= SimParams(\n",
    "            h_v_init = -70,\n",
    "            h_tstop = 300,\n",
    "            h_dt = 0.01,\n",
    "            h_celsius = 37,\n",
    "            CI_type = \"constant\",\n",
    "            CI_amps = [0.1, 0.2, 0.3],\n",
    "            CI_dur = 290,\n",
    "            CI_delay = 10,\n",
    "            set_g_to=[]\n",
    "        ),\n",
    "        optim_params = OptimizationParameters(\n",
    "            blocked_channels= []\n",
    "        )\n",
    "    )\n",
    ")\n",
    "\n",
    "sg.generate_synthetic_target_data(\"target_data.csv\")"
   ]
  },
  {
   "cell_type": "code",
   "execution_count": 2,
   "metadata": {},
   "outputs": [
    {
     "name": "stdout",
     "output_type": "stream",
     "text": [
      "Blocking: ['gbar_nap', 'gkdrbar_kdr', 'gbar_na3', 'gmbar_im']\n",
      "Total number of jobs: 1\n",
      "Total number of proccessors: 192\n",
      "MECHANISMS already loaded.\n",
      "/home/mwsrgf/proj/ACT/model/original/synthetic_-0.1_\n"
     ]
    }
   ],
   "source": [
    "sg_passive = SyntheticGenerator(\n",
    "    ModuleParameters(\n",
    "        module_folder_name=\"original\",\n",
    "        cell= target_cell,\n",
    "        sim_params= SimParams(\n",
    "            h_v_init = -70,\n",
    "            h_tstop = 1000,\n",
    "            h_dt = 0.01,\n",
    "            h_celsius = 37,\n",
    "            CI_type = \"constant\",\n",
    "            CI_amps = [-0.1],    ##################### NEGATIVE CURRENT INJECTION ###################\n",
    "            CI_dur = 600,\n",
    "            CI_delay = 200,\n",
    "            set_g_to=[]\n",
    "        ),\n",
    "        optim_params = OptimizationParameters(\n",
    "            blocked_channels= [\"gbar_nap\", \"gkdrbar_kdr\", \"gbar_na3\", \"gmbar_im\"]\n",
    "        )\n",
    "    )\n",
    ")\n",
    "\n",
    "sg_passive.generate_synthetic_target_data(\"passive_data.csv\")"
   ]
  },
  {
   "cell_type": "code",
   "execution_count": 3,
   "metadata": {},
   "outputs": [
    {
     "name": "stdout",
     "output_type": "stream",
     "text": [
      "(1000,)\n"
     ]
    },
    {
     "data": {
      "text/plain": [
       "[<matplotlib.lines.Line2D at 0x7fbb60220e50>]"
      ]
     },
     "execution_count": 3,
     "metadata": {},
     "output_type": "execute_result"
    },
    {
     "data": {
      "image/png": "[encoded data removed]",
      "text/plain": [
       "<Figure size 640x480 with 1 Axes>"
      ]
     },
     "metadata": {},
     "output_type": "display_data"
    }
   ],
   "source": [
    "import numpy as np\n",
    "dataset = np.loadtxt('./model/original/target/passive_data.csv', delimiter=',', skiprows=1)\n",
    "\n",
    "V = dataset[:,0]\n",
    "print(V.shape)\n",
    "\n",
    "from matplotlib import pyplot as plt\n",
    "\n",
    "plt.plot(V)\n"
   ]
  },
  {
   "cell_type": "code",
   "execution_count": 4,
   "metadata": {},
   "outputs": [],
   "source": [
    "from act.PassivePropertiesModule import PassivePropertiesModule\n",
    "from act.act_types import SimParams\n",
    "from act.cell_model import TrainCell\n",
    "\n",
    "train_cell = TrainCell(\n",
    "    hoc_file=\"/home/mwsrgf/proj/ACT/data/Burster/Izhikevich_p307_orig/template.hoc\",\n",
    "    mod_folder=\"/home/mwsrgf/proj/ACT/data/Burster/Izhikevich_p307_orig/modfiles\",\n",
    "    cell_name=\"Burster_Izh\",\n",
    "    g_names = [\"gbar_nap\", \"gkdrbar_kdr\", \"gbar_na3\", \"gmbar_im\", \"glbar_leak\"]\n",
    ")\n",
    "\n",
    "passive_mod = PassivePropertiesModule(\n",
    "    train_cell=train_cell,\n",
    "    sim_params=SimParams(\n",
    "            h_v_init = -70,\n",
    "            h_tstop = 1000,\n",
    "            h_dt = 1,    # sim forces 1ms dt\n",
    "            h_celsius = 37,\n",
    "            CI_type = \"constant\",\n",
    "            CI_amps = [-0.1],    \n",
    "            CI_dur = 600,\n",
    "            CI_delay = 200,\n",
    "            set_g_to=[]\n",
    "        ),\n",
    "    trace_filepath='./model/original/target/passive_data.csv',\n",
    "    leak_conductance_variable=\"glbar_leak\",\n",
    "    leak_reversal_variable=\"el_leak\"\n",
    ")"
   ]
  },
  {
   "cell_type": "code",
   "execution_count": 5,
   "metadata": {},
   "outputs": [
    {
     "name": "stdout",
     "output_type": "stream",
     "text": [
      "MECHANISMS already loaded.\n",
      "Found 1 section(s) in this cell. Calculating the total surface area of the cell.\n"
     ]
    }
   ],
   "source": [
    "passive_mod.set_passive_properties()"
   ]
  },
  {
   "cell_type": "code",
   "execution_count": 6,
   "metadata": {},
   "outputs": [
    {
     "name": "stdout",
     "output_type": "stream",
     "text": [
      "PassiveProperties(V_rest=-70.0, R_in=315.12453555963333, tau=72.0, Cm=0.22848109834460956, g_bar_leak=3.500798782496618e-05, cell_area=9.064641486925113e-05, leak_conductance_variable='glbar_leak', leak_reversal_variable='el_leak')\n"
     ]
    }
   ],
   "source": [
    "print(train_cell.passive_properties)"
   ]
  },
  {
   "cell_type": "code",
   "execution_count": 7,
   "metadata": {},
   "outputs": [],
   "source": [
    "from act.ACTModule import ACTModule\n",
    "from act.SyntheticGenerator import SyntheticGenerator\n",
    "from act.act_types import  Cell, SimParams, OptimizationParameters, OptimizationParam\n",
    "from act.cell_model import ModuleParameters\n",
    "from act.PassivePropertiesModule import PassivePropertiesModule\n",
    "from act.act_types import SimParams\n",
    "from act.cell_model import TrainCell\n",
    "\n",
    "mod = ACTModule(\n",
    "    ModuleParameters(\n",
    "        module_folder_name=\"original\",\n",
    "        cell= train_cell,\n",
    "        target_traces_file = \"target_data.csv\",\n",
    "        sim_params= SimParams(\n",
    "            h_v_init = -70,\n",
    "            h_tstop = 300,\n",
    "            h_dt = 1, # sim forces 1ms dt\n",
    "            h_celsius = 37,\n",
    "            CI_type = \"constant\",\n",
    "            CI_amps = [0.1, 0.2, 0.3],\n",
    "            CI_dur = 290,\n",
    "            CI_delay = 10,\n",
    "            set_g_to=[]\n",
    "        ),\n",
    "        optim_params= OptimizationParameters(\n",
    "            g_ranges_slices= [\n",
    "                OptimizationParam(param=\"gbar_nap\", low=0.0001, high=0.0006, n_slices=3),\n",
    "                OptimizationParam(param=\"gkdrbar_kdr\", low=0.01, high=0.056, n_slices=3),\n",
    "                OptimizationParam(param=\"gbar_na3\", low=0.01, high=0.06, n_slices=2),\n",
    "                OptimizationParam(param=\"gmbar_im\", low=0.00066667, high=0.0033, n_slices=3),\n",
    "                OptimizationParam(param=\"glbar_leak\", prediction=train_cell.passive_properties.g_bar_leak, bounds_variation=0.0, n_slices=1)\n",
    "            ]\n",
    "        )\n",
    "    )\n",
    ")"
   ]
  },
  {
   "cell_type": "code",
   "execution_count": 8,
   "metadata": {},
   "outputs": [
    {
     "name": "stdout",
     "output_type": "stream",
     "text": [
      "RUNNING THE MODULE\n",
      "LOADING TARGET TRACES\n",
      "SIMULATING TRAINING DATA\n",
      "Total number of jobs: 162\n",
      "Total number of proccessors: 192\n",
      "MECHANISMS already loaded.\n",
      "/home/mwsrgf/proj/ACT/model/original/train\n",
      "TRAINING RANDOM FOREST REGRESSOR\n",
      "-------------------------------------------------\n",
      "GENERATING ARIMA STATS\n",
      "-------------------------------------------------\n",
      "ARIMA order set to (4, 0, 4)\n"
     ]
    },
    {
     "name": "stderr",
     "output_type": "stream",
     "text": [
      "100%|██████████| 3/3 [00:00<00:00,  4.08it/s]"
     ]
    },
    {
     "name": "stdout",
     "output_type": "stream",
     "text": [
      "-------------------------------------------------\n",
      "GENERATING ARIMA STATS\n",
      "-------------------------------------------------\n",
      "ARIMA order set to (4, 0, 4)\n"
     ]
    },
    {
     "name": "stderr",
     "output_type": "stream",
     "text": [
      "\n",
      "100%|██████████| 162/162 [00:21<00:00,  7.47it/s]\n"
     ]
    },
    {
     "name": "stdout",
     "output_type": "stream",
     "text": [
      "Evaluating random forest\n",
      "MAE: 0.003325 (0.000643)\n",
      "Predicted Conductances for each current injection intensity: [[1.37750000e-04 2.82160000e-02 3.11000000e-02 2.93265046e-03\n",
      "  3.50079878e-05]\n",
      " [2.63750000e-04 2.34780000e-02 1.07500000e-02 2.67063413e-03\n",
      "  3.50079878e-05]\n",
      " [3.18250000e-04 1.02070000e-02 3.35000000e-02 1.76740194e-03\n",
      "  3.50079878e-05]]\n",
      "SIMULATING PREDICTIONS\n",
      "Total number of jobs: 9\n",
      "Total number of proccessors: 192\n",
      "MECHANISMS already loaded.\n",
      "/home/mwsrgf/proj/ACT/model/original/prediction_eval0\n",
      "/home/mwsrgf/proj/ACT/model/original/prediction_eval1\n",
      "/home/mwsrgf/proj/ACT/model/original/prediction_eval2\n",
      "SELECTING BEST PREDICTION\n",
      "{'gbar_nap': 0.0002637499999999959, 'gkdrbar_kdr': 0.02347800000000029, 'gbar_na3': 0.010749999999999833, 'gmbar_im': 0.0026706341299999868, 'glbar_leak': 3.500798782496661e-05}\n"
     ]
    }
   ],
   "source": [
    "predicted_g_data_folder = mod.run()"
   ]
  },
  {
   "cell_type": "code",
   "execution_count": 9,
   "metadata": {},
   "outputs": [
    {
     "name": "stdout",
     "output_type": "stream",
     "text": [
      "{'gbar_nap': 0.0002637499999999959, 'gkdrbar_kdr': 0.02347800000000029, 'gbar_na3': 0.010749999999999833, 'gmbar_im': 0.0026706341299999868, 'glbar_leak': 3.500798782496661e-05}\n"
     ]
    }
   ],
   "source": [
    "print(train_cell.predicted_g)"
   ]
  },
  {
   "cell_type": "code",
   "execution_count": 10,
   "metadata": {},
   "outputs": [],
   "source": [
    "from act import ACTPlot\n",
    "ACTPlot.plot_v_comparison(predicted_g_data_folder, \"./model/original/target\", \"./model/original\", [0.1, 0.2, 0.3])\n",
    "ACTPlot.plot_fi_comparison(\"./model/original/results/frequency_data_1.npy\", [0.1, 0.2, 0.3])"
   ]
  }
 ],
 "metadata": {
  "kernelspec": {
   "display_name": "Python 3.9 (act-venv)",
   "language": "python",
   "name": "act-venv"
  },
  "language_info": {
   "codemirror_mode": {
    "name": "ipython",
    "version": 3
   },
   "file_extension": ".py",
   "mimetype": "text/x-python",
   "name": "python",
   "nbconvert_exporter": "python",
   "pygments_lexer": "ipython3",
   "version": "3.9.19"
  }
 },
 "nbformat": 4,
 "nbformat_minor": 4
}
