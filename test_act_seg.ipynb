{
 "cells": [
  {
   "cell_type": "code",
   "execution_count": 1,
   "metadata": {},
   "outputs": [
    {
     "name": "stderr",
     "output_type": "stream",
     "text": [
      "/home/mwsrgf/act-venv/lib64/python3.9/site-packages/torch/__init__.py:614: UserWarning: torch.set_default_tensor_type() is deprecated as of PyTorch 2.1, please use torch.set_default_dtype() and torch.set_default_device() as alternatives. (Triggered internally at ../torch/csrc/tensor/python_tensor.cpp:451.)\n",
      "  _C._set_default_tensor_type(t)\n",
      "Warning: no DISPLAY environment variable.\n",
      "--No graphics will be displayed.\n"
     ]
    }
   ],
   "source": [
    "from act.ACTModule import ACTModule\n",
    "from act.act_types import ModuleParameters, Cell, PassiveProperties, SimParams, OptimizationParameters, OptimizationParam, LearnedVariability\n",
    "\n",
    "mod = ACTModule(\n",
    "    ModuleParameters(\n",
    "        module_folder_name=\"original\",\n",
    "        cell= Cell(\n",
    "            hoc_file=\"/home/mwsrgf/proj/ACT/data/Burster/Izhikevich_p307_orig/template.hoc\",\n",
    "            mod_folder=\"/home/mwsrgf/proj/ACT/data/Burster/Izhikevich_p307_orig/modfiles\",\n",
    "            cell_name=\"Burster_Izh\",\n",
    "            g_names = [\"gbar_nap\", \"gkdrbar_kdr\", \"gbar_na3\", \"gmbar_im\", \"glbar_leak\"]\n",
    "        ),\n",
    "        passive_properties= None,\n",
    "        sim_params= SimParams(\n",
    "            h_v_init = -70,\n",
    "            h_tstop = 300,\n",
    "            h_dt = 0.01,\n",
    "            h_celsius = 37,\n",
    "            CI_type = \"constant\",\n",
    "            CI_amps = [0.1, 0.2, 0.3],\n",
    "            CI_dur = 290,\n",
    "            CI_delay = 10\n",
    "        ),\n",
    "        optim_params= OptimizationParameters(\n",
    "            g_ranges_slices= [\n",
    "                OptimizationParam(param=\"gbar_nap\", low=0.0001, high=0.0006, n_slices=3),\n",
    "                OptimizationParam(param=\"gkdrbar_kdr\", low=0.01, high=0.056, n_slices=3),\n",
    "                OptimizationParam(param=\"gbar_na3\", low=0.01, high=0.06, n_slices=2),\n",
    "                OptimizationParam(param=\"gmbar_im\", low=0.00066667, high=0.0033, n_slices=3),\n",
    "                OptimizationParam(param=\"glbar_leak\", low=0.0001, high=0.0006, n_slices=1)\n",
    "            ],\n",
    "            learned_variability=None,\n",
    "            blocked_channels=None,\n",
    "            random_seed=42\n",
    "        )\n",
    "    )\n",
    ")\n",
    "\n",
    "\n"
   ]
  },
  {
   "cell_type": "code",
   "execution_count": 2,
   "metadata": {},
   "outputs": [
    {
     "name": "stdout",
     "output_type": "stream",
     "text": [
      "RUNNING THE MODULE\n",
      "SIMULATING TARGET DATA\n",
      "Total number of jobs: 3\n",
      "Total number of proccessors: 192\n",
      "/home/mwsrgf/proj/ACT/model/original/target\n",
      "GETTING PASSIVE PROPERTIES\n",
      "Total number of jobs: 1\n",
      "Total number of proccessors: 192\n",
      "MECHANISMS already loaded.\n",
      "Found 1 section(s) in this cell. Calculating the total surface area of the cell.\n",
      "SIMULATING TRAINING DATA\n",
      "Total number of jobs: 162\n",
      "Total number of proccessors: 192\n",
      "MECHANISMS already loaded.\n",
      "/home/mwsrgf/proj/ACT/model/original/train\n",
      "TRAINING RANDOM FOREST REGRESSOR\n",
      "-------------------------------------------------\n",
      "GENERATING ARIMA STATS\n",
      "-------------------------------------------------\n",
      "ARIMA order set to (4, 0, 4)\n"
     ]
    },
    {
     "name": "stderr",
     "output_type": "stream",
     "text": [
      "100%|██████████| 3/3 [00:00<00:00,  4.11it/s]"
     ]
    },
    {
     "name": "stdout",
     "output_type": "stream",
     "text": [
      "-------------------------------------------------\n",
      "GENERATING ARIMA STATS\n",
      "-------------------------------------------------\n",
      "ARIMA order set to (4, 0, 4)\n"
     ]
    },
    {
     "name": "stderr",
     "output_type": "stream",
     "text": [
      "\n",
      "100%|██████████| 162/162 [00:06<00:00, 23.86it/s]\n"
     ]
    },
    {
     "name": "stdout",
     "output_type": "stream",
     "text": [
      "Evaluating random forest\n",
      "MAE: 0.003365 (0.000922)\n",
      "Predicted Conductances: [[0.00015675 0.035162   0.02775    0.0025179  0.0001    ]\n",
      " [0.00048125 0.033989   0.0595     0.00291817 0.0001    ]\n",
      " [0.0003525  0.013059   0.06       0.00225193 0.0001    ]]\n",
      "SIMULATING PREDICTIONS\n",
      "Total number of jobs: 9\n",
      "Total number of proccessors: 192\n",
      "MECHANISMS already loaded.\n",
      "/home/mwsrgf/proj/ACT/model/original/test0\n",
      "/home/mwsrgf/proj/ACT/model/original/test1\n",
      "/home/mwsrgf/proj/ACT/model/original/test2\n",
      "SELECTING BEST PREDICTION\n",
      "[0.00015675 0.035162   0.02775    0.0025179  0.0001    ]\n"
     ]
    }
   ],
   "source": [
    "g_final_idx, final_prediction, FI_predicted, target_frequencies = mod.run_module()"
   ]
  },
  {
   "cell_type": "code",
   "execution_count": 3,
   "metadata": {},
   "outputs": [],
   "source": [
    "mod.plot_results(g_final_idx, FI_predicted, target_frequencies)"
   ]
  }
 ],
 "metadata": {
  "kernelspec": {
   "display_name": "act-venv",
   "language": "python",
   "name": "python3"
  },
  "language_info": {
   "codemirror_mode": {
    "name": "ipython",
    "version": 3
   },
   "file_extension": ".py",
   "mimetype": "text/x-python",
   "name": "python",
   "nbconvert_exporter": "python",
   "pygments_lexer": "ipython3",
   "version": "3.9.19"
  }
 },
 "nbformat": 4,
 "nbformat_minor": 2
}
