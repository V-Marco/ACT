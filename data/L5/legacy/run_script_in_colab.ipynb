{
  "nbformat": 4,
  "nbformat_minor": 0,
  "metadata": {
    "colab": {
      "provenance": [],
      "authorship_tag": "ABX9TyMn+M4WoFBNyoeQwbTZ6PET",
      "include_colab_link": true
    },
    "kernelspec": {
      "name": "python3",
      "display_name": "Python 3"
    },
    "language_info": {
      "name": "python"
    }
  },
  "cells": [
    {
      "cell_type": "markdown",
      "metadata": {
        "id": "view-in-github",
        "colab_type": "text"
      },
      "source": [
        "<a href=\"https://colab.research.google.com/github/davidfague/Neural-Modeling/blob/main/run_script_in_colab.ipynb\" target=\"_parent\"><img src=\"https://colab.research.google.com/assets/colab-badge.svg\" alt=\"Open In Colab\"/></a>"
      ]
    },
    {
      "cell_type": "code",
      "execution_count": 1,
      "metadata": {
        "id": "0xF6eTfOhNA1"
      },
      "outputs": [],
      "source": [
        "is_colab = 'google.colab' in str(get_ipython())"
      ]
    },
    {
      "cell_type": "code",
      "execution_count": 2,
      "metadata": {
        "colab": {
          "base_uri": "https://localhost:8080/"
        },
        "id": "ZUb0xOo7w7gt",
        "outputId": "097bd509-e643-4398-df78-416c2252e2b9"
      },
      "outputs": [
        {
          "output_type": "stream",
          "name": "stdout",
          "text": [
            "Collecting neuron\n",
            "  Downloading NEURON-8.2.2-cp310-cp310-manylinux_2_17_x86_64.manylinux2014_x86_64.whl (14.9 MB)\n",
            "\u001b[2K     \u001b[90m━━━━━━━━━━━━━━━━━━━━━━━━━━━━━━━━━━━━━━━━\u001b[0m \u001b[32m14.9/14.9 MB\u001b[0m \u001b[31m16.5 MB/s\u001b[0m eta \u001b[36m0:00:00\u001b[0m\n",
            "\u001b[?25hRequirement already satisfied: numpy>=1.9.3 in /usr/local/lib/python3.10/dist-packages (from neuron) (1.22.4)\n",
            "Installing collected packages: neuron\n",
            "Successfully installed neuron-8.2.2\n",
            "Collecting neuron_reduce\n",
            "  Downloading neuron_reduce-0.0.7-py3-none-any.whl (18 kB)\n",
            "Installing collected packages: neuron_reduce\n",
            "Successfully installed neuron_reduce-0.0.7\n",
            "Cloning into 'Neural-Modeling'...\n",
            "remote: Enumerating objects: 2281, done.\u001b[K\n",
            "remote: Counting objects: 100% (409/409), done.\u001b[K\n",
            "remote: Compressing objects: 100% (130/130), done.\u001b[K\n",
            "remote: Total 2281 (delta 317), reused 347 (delta 275), pack-reused 1872\u001b[K\n",
            "Receiving objects: 100% (2281/2281), 32.03 MiB | 24.37 MiB/s, done.\n",
            "Resolving deltas: 100% (1528/1528), done.\n"
          ]
        }
      ],
      "source": [
        "if is_colab:\n",
        "    !pip install neuron\n",
        "    !pip install neuron_reduce\n",
        "    !git clone https://github.com/davidfague/Neural-Modeling.git"
      ]
    },
    {
      "cell_type": "code",
      "source": [
        "# !git clone https://github.com/chenziao/Stylized-Single-Cell-and-Extracellular-Potential.git &> /dev/null ~/Neural-Modeling/\n",
        "!git clone https://github.com/chenziao/Stylized-Single-Cell-and-Extracellular-Potential.git"
      ],
      "metadata": {
        "colab": {
          "base_uri": "https://localhost:8080/"
        },
        "id": "dW07Y1iJSBv9",
        "outputId": "5fb64491-85dd-40ea-e65f-66b3aa5af60f"
      },
      "execution_count": 3,
      "outputs": [
        {
          "output_type": "stream",
          "name": "stdout",
          "text": [
            "Cloning into 'Stylized-Single-Cell-and-Extracellular-Potential'...\n",
            "remote: Enumerating objects: 82, done.\u001b[K\n",
            "remote: Counting objects: 100% (15/15), done.\u001b[K\n",
            "remote: Compressing objects: 100% (15/15), done.\u001b[K\n",
            "remote: Total 82 (delta 3), reused 4 (delta 0), pack-reused 67\u001b[K\n",
            "Receiving objects: 100% (82/82), 417.04 KiB | 4.53 MiB/s, done.\n",
            "Resolving deltas: 100% (18/18), done.\n"
          ]
        }
      ]
    },
    {
      "cell_type": "code",
      "source": [
        "%cd /content/Neural-Modeling/"
      ],
      "metadata": {
        "colab": {
          "base_uri": "https://localhost:8080/"
        },
        "id": "_2LjovohSsPL",
        "outputId": "17733418-214a-458f-a31b-29d077527de6"
      },
      "execution_count": 4,
      "outputs": [
        {
          "output_type": "stream",
          "name": "stdout",
          "text": [
            "/content/Neural-Modeling\n"
          ]
        }
      ]
    },
    {
      "cell_type": "code",
      "source": [
        "# move cell_inference to Neural-Modeling directory"
      ],
      "metadata": {
        "id": "LEHXl6eNVeVL"
      },
      "execution_count": null,
      "outputs": []
    },
    {
      "cell_type": "code",
      "source": [
        "%cd scripts"
      ],
      "metadata": {
        "colab": {
          "base_uri": "https://localhost:8080/"
        },
        "id": "_dknZkaMTmnd",
        "outputId": "7b3a19dd-a40a-4d55-d18d-009baa8ae45d"
      },
      "execution_count": 5,
      "outputs": [
        {
          "output_type": "stream",
          "name": "stdout",
          "text": [
            "/content/Neural-Modeling/scripts\n"
          ]
        }
      ]
    },
    {
      "cell_type": "code",
      "source": [
        "!python sim_func_groups.py"
      ],
      "metadata": {
        "colab": {
          "base_uri": "https://localhost:8080/"
        },
        "id": "-TkHetyTSt9I",
        "outputId": "0441bacd-1ae6-4e6d-905c-498931194894"
      },
      "execution_count": null,
      "outputs": [
        {
          "output_type": "stream",
          "name": "stdout",
          "text": [
            "Warning: no DISPLAY environment variable.\n",
            "--No graphics will be displayed.\n",
            "/content/Neural-Modeling/scripts\n",
            "Mod files: \"../modfiles/../modfiles/AMPA_NMDA.mod\" \"../modfiles/../modfiles/AMPA_NMDA_STP_LTP.mod\" \"../modfiles/../modfiles/AMPA_NMDA_STP.mod\" \"../modfiles/../modfiles/CaDynamics_E2.mod\" \"../modfiles/../modfiles/Ca_HVA.mod\" \"../modfiles/../modfiles/Ca_LVAst.mod\" \"../modfiles/../modfiles/epsp.mod\" \"../modfiles/../modfiles/GABA_AB.mod\" \"../modfiles/../modfiles/GABA_AB_STP.mod\" \"../modfiles/../modfiles/Ih.mod\" \"../modfiles/../modfiles/Im.mod\" \"../modfiles/../modfiles/int2pyr.mod\" \"../modfiles/../modfiles/K_Pst.mod\" \"../modfiles/../modfiles/K_Tst.mod\" \"../modfiles/../modfiles/Nap_Et2.mod\" \"../modfiles/../modfiles/NaTa_t.mod\" \"../modfiles/../modfiles/NaTs2_t.mod\" \"../modfiles/../modfiles/pyr2pyr.mod\" \"../modfiles/../modfiles/SK_E2.mod\" \"../modfiles/../modfiles/SKv3_1.mod\" \"../modfiles/../modfiles/vecevent.mod\"\n",
            "\n",
            "Creating 'x86_64' directory for .o files.\n",
            "\n",
            " -> \u001b[32mCompiling\u001b[0m mod_func.cpp\n",
            " -> \u001b[32mNMODL\u001b[0m ../../modfiles/AMPA_NMDA.mod\n",
            " -> \u001b[32mNMODL\u001b[0m ../../modfiles/AMPA_NMDA_STP_LTP.mod\n",
            " -> \u001b[32mNMODL\u001b[0m ../../modfiles/AMPA_NMDA_STP.mod\n",
            "Translating AMPA_NMDA.mod into /content/Neural-Modeling/scripts/x86_64/AMPA_NMDA.c\n",
            "Translating AMPA_NMDA_STP_LTP.mod into /content/Neural-Modeling/scripts/x86_64/AMPA_NMDA_STP_LTP.c\n",
            "Thread Safe\n",
            "Translating AMPA_NMDA_STP.mod into /content/Neural-Modeling/scripts/x86_64/AMPA_NMDA_STP.c\n",
            " -> \u001b[32mNMODL\u001b[0m ../../modfiles/CaDynamics_E2.mod\n",
            "Thread Safe\n",
            " -> \u001b[32mNMODL\u001b[0m ../../modfiles/Ca_HVA.mod\n",
            "Thread Safe\n",
            " -> \u001b[32mNMODL\u001b[0m ../../modfiles/Ca_LVAst.mod\n",
            "Translating Ca_HVA.mod into /content/Neural-Modeling/scripts/x86_64/Ca_HVA.c\n",
            "Translating CaDynamics_E2.mod into /content/Neural-Modeling/scripts/x86_64/CaDynamics_E2.c\n",
            "Thread Safe\n",
            "Thread Safe\n",
            " -> \u001b[32mNMODL\u001b[0m ../../modfiles/epsp.mod\n",
            " -> \u001b[32mNMODL\u001b[0m ../../modfiles/GABA_AB.mod\n",
            "Translating Ca_LVAst.mod into /content/Neural-Modeling/scripts/x86_64/Ca_LVAst.c\n",
            "Translating epsp.mod into /content/Neural-Modeling/scripts/x86_64/epsp.c\n",
            "Thread Safe\n",
            "Thread Safe\n",
            " -> \u001b[32mNMODL\u001b[0m ../../modfiles/GABA_AB_STP.mod\n",
            "Translating GABA_AB.mod into /content/Neural-Modeling/scripts/x86_64/GABA_AB.c\n",
            " -> \u001b[32mNMODL\u001b[0m ../../modfiles/Ih.mod\n",
            "Thread Safe\n",
            "Translating GABA_AB_STP.mod into /content/Neural-Modeling/scripts/x86_64/GABA_AB_STP.c\n",
            "Translating Ih.mod into /content/Neural-Modeling/scripts/x86_64/Ih.c\n",
            "Thread Safe\n",
            " -> \u001b[32mNMODL\u001b[0m ../../modfiles/Im.mod\n",
            "Thread Safe\n",
            " -> \u001b[32mNMODL\u001b[0m ../../modfiles/int2pyr.mod\n",
            " -> \u001b[32mNMODL\u001b[0m ../../modfiles/K_Pst.mod\n",
            "Translating Im.mod into /content/Neural-Modeling/scripts/x86_64/Im.c\n",
            "Translating int2pyr.mod into /content/Neural-Modeling/scripts/x86_64/int2pyr.c\n",
            "Thread Safe\n",
            "Translating K_Pst.mod into /content/Neural-Modeling/scripts/x86_64/K_Pst.c\n",
            "Thread Safe\n",
            " -> \u001b[32mNMODL\u001b[0m ../../modfiles/K_Tst.mod\n",
            " -> \u001b[32mNMODL\u001b[0m ../../modfiles/Nap_Et2.mod\n",
            "Translating K_Tst.mod into /content/Neural-Modeling/scripts/x86_64/K_Tst.c\n",
            "Thread Safe\n",
            "WARNING: Dimensions may be wrong for READ ica with POINT_PROCESS\n",
            "WARNING: Dimensions may be wrong for READ ica with POINT_PROCESS\n",
            " -> \u001b[32mNMODL\u001b[0m ../../modfiles/NaTa_t.mod\n",
            "WARNING: Dimensions may be wrong for READ ica with POINT_PROCESS\n",
            "WARNING: Dimensions may be wrong for READ ica with POINT_PROCESS\n",
            "WARNING: Dimensions may be wrong for READ ica with POINT_PROCESS\n",
            "Thread Safe\n",
            "Translating NaTa_t.mod into /content/Neural-Modeling/scripts/x86_64/NaTa_t.c\n",
            "Translating Nap_Et2.mod into /content/Neural-Modeling/scripts/x86_64/Nap_Et2.c\n",
            "Thread Safe\n",
            " -> \u001b[32mNMODL\u001b[0m ../../modfiles/NaTs2_t.mod\n",
            " -> \u001b[32mNMODL\u001b[0m ../../modfiles/pyr2pyr.mod\n",
            "Thread Safe\n",
            " -> \u001b[32mNMODL\u001b[0m ../../modfiles/SK_E2.mod\n",
            "Translating NaTs2_t.mod into /content/Neural-Modeling/scripts/x86_64/NaTs2_t.c\n",
            "Translating pyr2pyr.mod into /content/Neural-Modeling/scripts/x86_64/pyr2pyr.c\n",
            "Thread Safe\n",
            "Thread Safe\n",
            " -> \u001b[32mNMODL\u001b[0m ../../modfiles/SKv3_1.mod\n",
            "Translating SK_E2.mod into /content/Neural-Modeling/scripts/x86_64/SK_E2.c\n",
            "Thread Safe\n",
            " -> \u001b[32mNMODL\u001b[0m ../../modfiles/vecevent.mod\n",
            " -> \u001b[32mCompiling\u001b[0m AMPA_NMDA.c\n",
            "Translating SKv3_1.mod into /content/Neural-Modeling/scripts/x86_64/SKv3_1.c\n",
            "Thread Safe\n",
            " -> \u001b[32mCompiling\u001b[0m AMPA_NMDA_STP_LTP.c\n",
            "Translating vecevent.mod into /content/Neural-Modeling/scripts/x86_64/vecevent.c\n",
            "Notice: Use of POINTER is not thread safe.\n",
            "Notice: VERBATIM blocks are not thread safe\n",
            "Notice: ARTIFICIAL_CELL is a synonym for POINT_PROCESS which hints that it\n",
            "only affects and is affected by discrete events. As such it is not\n",
            "located in a section and is not associated with an integrator\n",
            " -> \u001b[32mCompiling\u001b[0m AMPA_NMDA_STP.c\n",
            " -> \u001b[32mCompiling\u001b[0m CaDynamics_E2.c\n",
            " -> \u001b[32mCompiling\u001b[0m Ca_HVA.c\n",
            " -> \u001b[32mCompiling\u001b[0m Ca_LVAst.c\n",
            " -> \u001b[32mCompiling\u001b[0m epsp.c\n",
            " -> \u001b[32mCompiling\u001b[0m GABA_AB.c\n",
            " -> \u001b[32mCompiling\u001b[0m GABA_AB_STP.c\n",
            " -> \u001b[32mCompiling\u001b[0m Ih.c\n",
            " -> \u001b[32mCompiling\u001b[0m Im.c\n",
            " -> \u001b[32mCompiling\u001b[0m int2pyr.c\n",
            " -> \u001b[32mCompiling\u001b[0m K_Pst.c\n",
            " -> \u001b[32mCompiling\u001b[0m K_Tst.c\n",
            " -> \u001b[32mCompiling\u001b[0m Nap_Et2.c\n",
            " -> \u001b[32mCompiling\u001b[0m NaTa_t.c\n",
            " -> \u001b[32mCompiling\u001b[0m NaTs2_t.c\n",
            " -> \u001b[32mCompiling\u001b[0m pyr2pyr.c\n",
            " -> \u001b[32mCompiling\u001b[0m SK_E2.c\n",
            " -> \u001b[32mCompiling\u001b[0m SKv3_1.c\n",
            " -> \u001b[32mCompiling\u001b[0m vecevent.c\n",
            " => \u001b[32mLINKING\u001b[0m shared library ./libnrnmech.so\n",
            " => \u001b[32mLINKING\u001b[0m executable ./special LDFLAGS are:    -pthread\n",
            "Successfully created x86_64/special\n",
            "Running for seeds (123, 1); CI = None...\n",
            "Reductor: 22 terminal tuft branches in complex_cell\n"
          ]
        }
      ]
    }
  ]
}