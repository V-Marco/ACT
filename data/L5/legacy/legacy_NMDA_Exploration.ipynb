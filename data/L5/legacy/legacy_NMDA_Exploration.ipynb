{
  "cells": [
    {
      "cell_type": "markdown",
      "metadata": {
        "id": "view-in-github",
        "colab_type": "text"
      },
      "source": [
        "<a href=\"https://colab.research.google.com/github/davidfague/Neural-Modeling/blob/main/NMDAExploration.ipynb\" target=\"_parent\"><img src=\"https://colab.research.google.com/assets/colab-badge.svg\" alt=\"Open In Colab\"/></a>"
      ]
    },
    {
      "cell_type": "code",
      "source": [
        "is_colab = 'google.colab' in str(get_ipython())"
      ],
      "metadata": {
        "id": "85kqbVbXgLEj"
      },
      "execution_count": 1,
      "outputs": []
    },
    {
      "cell_type": "code",
      "source": [
        "if is_colab:\n",
        "    !git clone https://github.com/davidfague/Neural-Modeling.git\n",
        "    from google.colab import drive\n",
        "    drive.mount('/content/drive')\n",
        "    %cd /content/drive/MyDrive/"
      ],
      "metadata": {
        "colab": {
          "base_uri": "https://localhost:8080/"
        },
        "id": "15zNvRPpgvPT",
        "outputId": "d6450311-f6b2-47a8-aef5-d808d3228104"
      },
      "execution_count": 2,
      "outputs": [
        {
          "output_type": "stream",
          "name": "stdout",
          "text": [
            "Cloning into 'Neural-Modeling'...\n",
            "remote: Enumerating objects: 910, done.\u001b[K\n",
            "remote: Counting objects: 100% (467/467), done.\u001b[K\n",
            "remote: Compressing objects: 100% (202/202), done.\u001b[K\n",
            "remote: Total 910 (delta 308), reused 396 (delta 264), pack-reused 443\u001b[K\n",
            "Receiving objects: 100% (910/910), 5.67 MiB | 21.19 MiB/s, done.\n",
            "Resolving deltas: 100% (579/579), done.\n",
            "Mounted at /content/drive\n",
            "/content/drive/MyDrive\n"
          ]
        }
      ]
    },
    {
      "cell_type": "code",
      "source": [
        "import pandas as pd\n",
        "import h5py\n",
        "import numpy as np\n",
        "import matplotlib.pyplot as plt\n",
        "import seaborn as sns\n",
        "import scipy.signal as ss\n",
        "from mpl_toolkits import mplot3d\n",
        "import pdb #python debugger"
      ],
      "metadata": {
        "id": "1OdJsKr8hYn-"
      },
      "execution_count": 3,
      "outputs": []
    },
    {
      "cell_type": "markdown",
      "source": [
        "Specify output folder and read data"
      ],
      "metadata": {
        "id": "JLRK47ZlleGU"
      }
    },
    {
      "cell_type": "code",
      "source": [
        "output_folder = 'L5PCtemplate[0]_45e-1Hz_196nseg_2000ms_108nbranch_29068NCs_29068nsyn'\n",
        "\n",
        "# output_folder = 'L5PCtemplate[0]_15e-1Hz_642nseg_2000ms_108nbranch_29068NCs_29068nsyn'\n",
        "\n",
        "v = h5py.File('./{}/Vm_report.h5'.format(output_folder),'r') #read segment voltage traces\n",
        "\n",
        "gNaTa = h5py.File('./{}/gNaTa_T_data_report.h5'.format(output_folder),'r') #read segment voltage traces\n",
        "iampa = h5py.File('./{}/i_AMPA_report.h5'.format(output_folder),'r') #read segment voltage traces\n",
        "inmda = h5py.File('./{}/i_NMDA_report.h5'.format(output_folder),'r') #read segment voltage traces\n",
        "igaba = h5py.File('./{}/i_GABA_report.h5'.format(output_folder),'r') #read segment voltage traces\n",
        "icah = h5py.File('./{}/icah_data_report.h5'.format(output_folder),'r') #read segment voltage traces\n",
        "ical = h5py.File('./{}/ical_data_report.h5'.format(output_folder),'r') #read segment voltage traces\n",
        "ih = h5py.File('./{}/ih_data_report.h5'.format(output_folder),'r') #read segment voltage traces\n",
        "ina = h5py.File('./{}/ina_data_report.h5'.format(output_folder),'r') #read segment voltage traces\n",
        "\n",
        "spikes = h5py.File('./{}/spikes_report.h5'.format(output_folder),'r') #read segment voltage traces\n",
        "\n",
        "segs = pd.read_csv('./{}/seg_info.csv'.format(output_folder)) # read segment values"
      ],
      "metadata": {
        "id": "vl5xhs1bg1Td"
      },
      "execution_count": 4,
      "outputs": []
    },
    {
      "cell_type": "code",
      "source": [
        "v=v['report']['biophysical']['data']\n",
        "gNaTa=gNaTa['report']['biophysical']['data']\n",
        "iampa=iampa['report']['biophysical']['data']\n",
        "inmda=inmda['report']['biophysical']['data']\n",
        "igaba=igaba['report']['biophysical']['data']\n",
        "icah=icah['report']['biophysical']['data']\n",
        "ical=ical['report']['biophysical']['data']\n",
        "ih=ih['report']['biophysical']['data']\n",
        "ina=ina['report']['biophysical']['data']\n",
        "spikes=spikes['report']['biophysical']['data']"
      ],
      "metadata": {
        "id": "VVg8caBuiMmW"
      },
      "execution_count": 5,
      "outputs": []
    },
    {
      "cell_type": "markdown",
      "source": [
        "Voltage and current criterion"
      ],
      "metadata": {
        "id": "ZziKDAGFlmU-"
      }
    },
    {
      "cell_type": "code",
      "execution_count": 6,
      "metadata": {
        "id": "E2Jp8o0E4vac"
      },
      "outputs": [],
      "source": [
        "def voltage_criterion(data=None, v_thresh=-40, time_thresh=260):\n",
        "    threshold_crossings = np.diff(data > v_thresh, prepend=False)\n",
        "    upward_crossings = np.argwhere(threshold_crossings)[::2,0]\n",
        "    downward_crossings = np.argwhere(threshold_crossings)[1::2,0]\n",
        "    # If length of threshold_crossings is not even\n",
        "    if np.mod(np.argwhere(threshold_crossings).reshape(-1,).shape[0],2)!=0:\n",
        "        legit_up_crossings = upward_crossings[:-1][np.diff(np.argwhere(threshold_crossings).reshape(-1,))[::2]>time_thresh]\n",
        "        legit_down_crossings = downward_crossings[np.diff(np.argwhere(threshold_crossings).reshape(-1,))[::2]>time_thresh]\n",
        "    else:\n",
        "        legit_up_crossings = upward_crossings[np.diff(np.argwhere(threshold_crossings).reshape(-1,))[::2]>time_thresh]\n",
        "        legit_down_crossings = downward_crossings[np.diff(np.argwhere(threshold_crossings).reshape(-1,))[::2]>time_thresh]\n",
        "    return upward_crossings, legit_up_crossings, legit_down_crossings\n",
        "\n",
        "# Input: upward and downward crossings\n",
        "# Output: bounds of NMDA spikes meeting current criterion\n",
        "def current_criterion(legit_uc_iso=[], legit_dc_iso=[], p=1, control_inmda=np.array([1])):\n",
        "    bounds = []\n",
        "    sum_current = []\n",
        "\n",
        "\n",
        "    for ind1 in np.arange(0,len(legit_uc_iso)):\n",
        "        e1 = control_inmda[legit_uc_iso[ind1], p] #current @ up_crossing[ind1]\n",
        "        #all the indices where current crosses 130% of e1\n",
        "        x30 = np.argwhere(np.diff(control_inmda[legit_uc_iso[ind1]:legit_dc_iso[ind1], p] < 1.3*e1, prepend=False))\n",
        "        #all the indices where current crosses 115% of e1\n",
        "        x15 = np.argwhere(np.diff(control_inmda[legit_uc_iso[ind1]:legit_dc_iso[ind1], p] < 1.15*e1, prepend=False))\n",
        "\n",
        "        if len(x30)>0:\n",
        "\n",
        "            x15_copy = x15\n",
        "            x30_copy = x30\n",
        "\n",
        "            try:\n",
        "                i = x30[0][0]\n",
        "            except:\n",
        "                import pdb; pdb.set_trace()\n",
        "\n",
        "            n = 0\n",
        "\n",
        "\n",
        "            while n==0:\n",
        "                if len(np.sort(x15[x15>i]))!=0:\n",
        "                    b1 = i\n",
        "                    b2 = np.sort(x15[x15>i])[0]\n",
        "                    bounds.append([legit_uc_iso[ind1]+b1,legit_uc_iso[ind1]+b2])\n",
        "                    sum_current.append(np.sum(control_inmda[legit_uc_iso[ind1]+b1:legit_uc_iso[ind1]+b2,p])/10)\n",
        "                else:\n",
        "                    b1 = i\n",
        "                    b2 = (legit_dc_iso[ind1]-legit_uc_iso[ind1])\n",
        "                    bounds.append([legit_uc_iso[ind1]+b1,legit_uc_iso[ind1]+b2])\n",
        "                    sum_current.append(np.sum(control_inmda[legit_uc_iso[ind1]+b1:legit_uc_iso[ind1]+b2,p])/10)\n",
        "                    n=1\n",
        "\n",
        "                x30_copy = x30_copy[x30_copy>legit_uc_iso[ind1]+b2]\n",
        "                #import pdb; pdb.set_trace()\n",
        "\n",
        "                if len(x30_copy)!=0:\n",
        "                    i = x30_copy[x30_copy>b2][0]\n",
        "                else:\n",
        "                    n=1\n",
        "    return bounds, sum_current\n"
      ]
    },
    {
      "cell_type": "markdown",
      "source": [
        "Separate segment elec distance and distance into quantiles"
      ],
      "metadata": {
        "id": "8H5l4iUblvKC"
      }
    },
    {
      "cell_type": "code",
      "source": [
        "import ast\n",
        "\n",
        "def try_literal_eval(s):\n",
        "    try:\n",
        "        return ast.literal_eval(s)\n",
        "    except ValueError:\n",
        "        return s\n",
        "\n",
        "segs['seg elec distance'] = segs['seg elec distance'].apply(try_literal_eval)"
      ],
      "metadata": {
        "id": "TENEotkp3IQj"
      },
      "execution_count": 7,
      "outputs": []
    },
    {
      "cell_type": "code",
      "source": [
        "# Define a function to retrieve a value from the nested dictionary\n",
        "def get_value_from_nested_dict(row, key1, key2):\n",
        "    return row['seg elec distance'].get(key1, {}).get(key2, None)  # return None if any key not found\n",
        "\n",
        "# Apply the function to each row of the DataFrame to create a new column\n",
        "segs['Elec_distance'] = segs.apply(get_value_from_nested_dict, args=('beta', 'passive_soma',), axis=1)"
      ],
      "metadata": {
        "id": "U8FngC1B4hur"
      },
      "execution_count": 8,
      "outputs": []
    },
    {
      "cell_type": "code",
      "execution_count": 9,
      "metadata": {
        "colab": {
          "base_uri": "https://localhost:8080/"
        },
        "id": "0BpOPokH4vag",
        "outputId": "2685bbdf-d6aa-4d65-b9cf-08abdb2d3989"
      },
      "outputs": [
        {
          "output_type": "stream",
          "name": "stdout",
          "text": [
            "Segment Degrees Missing\n",
            "Segment Degrees Missing\n",
            "20001\n",
            "20001\n"
          ]
        }
      ],
      "source": [
        "try:\n",
        "  segs_degrees = pd.read_csv(degrees_f).groupby(['Sec ID','Type'])['Degrees'].max().reset_index() #degrees_f is segment degrees .csv file\n",
        "except:\n",
        "  print('Segment Degrees Missing')\n",
        "\n",
        "segs['segmentID'] = segs.index\n",
        "\n",
        "try:\n",
        "  segs = segs.set_index(['Type','Sec ID']).join(segs_degrees.set_index(['Type','Sec ID'])).reset_index()\n",
        "except:\n",
        "  print('Segment Degrees Missing')\n",
        "\n",
        "segs['sec index'] = segs['sec index'].astype(int)\n",
        "segs['x'] = segs['x'].astype(float)\n",
        "segs['Distance'] = segs['seg h.distance']\n",
        "segs['Elec DistanceQ'] = None\n",
        "segs['DistanceQ'] = None\n",
        "\n",
        "#get simulation time\n",
        "v_len=len(v[:,0])\n",
        "tstop=2000.1 #simulation stop\n",
        "dt=0.1 #timestep\n",
        "t=np.arange(0,tstop,dt) #time array\n",
        "print(v_len) #should be equivalnt to (tstop=1000ms)/(dt=0.1ms)=10000\n",
        "print(len(t))\n",
        "if len(t)!=v_len:\n",
        "  raise ValueError('Update Time array')\n",
        "\n",
        "segs.loc[segs.Type=='dend','Elec DistanceQ'] = pd.qcut(segs.loc[segs.Type=='dend','Elec_distance'], 10, labels=False, duplicates = 'drop')\n",
        "segs.loc[segs.Type=='apic','Elec DistanceQ'] = pd.qcut(segs.loc[segs.Type=='apic','Elec_distance'], 10, labels=False, duplicates = 'drop')\n",
        "segs.loc[segs.Type=='dend','DistanceQ'] = pd.qcut(segs.loc[segs.Type=='dend','seg h.distance'], 10, labels=False, duplicates = 'drop')\n",
        "segs.loc[segs.Type=='apic','DistanceQ'] = pd.qcut(segs.loc[segs.Type=='apic','seg h.distance'], 10, labels=False, duplicates = 'drop')\n",
        "\n",
        "save_dfs = False"
      ]
    },
    {
      "cell_type": "code",
      "source": [
        "!git clone https://github.com/davidfague/Neural-Modeling.git"
      ],
      "metadata": {
        "id": "EMpFPckzljHh",
        "colab": {
          "base_uri": "https://localhost:8080/"
        },
        "outputId": "0f97a9ca-c2b1-4f5c-e980-241621fe4a0f"
      },
      "execution_count": 10,
      "outputs": [
        {
          "output_type": "stream",
          "name": "stdout",
          "text": [
            "fatal: destination path 'Neural-Modeling' already exists and is not an empty directory.\n"
          ]
        }
      ]
    },
    {
      "cell_type": "code",
      "source": [
        "%cd Neural-Modeling/"
      ],
      "metadata": {
        "id": "di-9XP_MliE-",
        "colab": {
          "base_uri": "https://localhost:8080/"
        },
        "outputId": "bbd54560-2cfe-4494-ad10-66f4f12308da"
      },
      "execution_count": 11,
      "outputs": [
        {
          "output_type": "stream",
          "name": "stdout",
          "text": [
            "/content/drive/MyDrive/Neural-Modeling\n"
          ]
        }
      ]
    },
    {
      "cell_type": "code",
      "source": [
        "from Modules.segment import Segment"
      ],
      "metadata": {
        "id": "QYZRYbzNlg9H"
      },
      "execution_count": 12,
      "outputs": []
    },
    {
      "cell_type": "code",
      "source": [
        "%cd .."
      ],
      "metadata": {
        "colab": {
          "base_uri": "https://localhost:8080/"
        },
        "id": "K2hP8yYE7Xgo",
        "outputId": "31489a8d-72db-4c2d-84b4-c885a98d77ba"
      },
      "execution_count": 13,
      "outputs": [
        {
          "output_type": "stream",
          "name": "stdout",
          "text": [
            "/content/drive/MyDrive\n"
          ]
        }
      ]
    },
    {
      "cell_type": "code",
      "source": [
        "segments=[]\n",
        "\n",
        "# Use Segment() class to store segment info and recorded data\n",
        "for i in range(len(segs)):\n",
        "    # assuming v, gNaTa etc. are pre-defined arrays or lists\n",
        "    seg_data = {\n",
        "        'v': v[:,i],\n",
        "        'gNaTa': gNaTa[:,i],\n",
        "        'iampa': iampa[:,i],\n",
        "        'inmda': inmda[:,i],\n",
        "        'icah': icah[:,i],\n",
        "        'ical': ical[:,i],\n",
        "        'ih': ih[:,i],\n",
        "        'ina': ina[:,i],\n",
        "        'igaba': igaba[:,i]\n",
        "    }\n",
        "    newprobe = Segment(seg_info = segs.iloc[i], seg_data = seg_data)\n",
        "    segments.append(newprobe)"
      ],
      "metadata": {
        "id": "sQUPQUKZlcWg"
      },
      "execution_count": 14,
      "outputs": []
    },
    {
      "cell_type": "code",
      "execution_count": 15,
      "metadata": {
        "id": "GqAaIDem4vah"
      },
      "outputs": [],
      "source": [
        "# segs['segmentID'] = segs.groupby(['Type','sec index']).cumcount()+1"
      ]
    },
    {
      "cell_type": "code",
      "source": [
        "# %ls"
      ],
      "metadata": {
        "id": "AmkF5wGx5Ewz"
      },
      "execution_count": 16,
      "outputs": []
    },
    {
      "cell_type": "code",
      "execution_count": 17,
      "metadata": {
        "id": "CxkFxWNLtXA1",
        "colab": {
          "base_uri": "https://localhost:8080/"
        },
        "outputId": "18654342-f3eb-4dd2-b9c8-77680607ca89"
      },
      "outputs": [
        {
          "output_type": "execute_result",
          "data": {
            "text/plain": [
              "array([False, False, False, ..., False, False, False])"
            ]
          },
          "metadata": {},
          "execution_count": 17
        }
      ],
      "source": [
        "v_thresh = -40\n",
        "np.diff(v[:-10000,1]> v_thresh, prepend=False) # not sure what this does"
      ]
    },
    {
      "cell_type": "code",
      "execution_count": 18,
      "metadata": {
        "id": "JrQxbXCr4vai"
      },
      "outputs": [],
      "source": [
        "# spktimes = spks['spikes']['biophysical']['timestamps'][:] # old data saving\n",
        "spiketimes = spikes[:] # (ms)\n",
        "spiketimestamps = np.sort((spiketimes/dt).astype(int)) # index in time array"
      ]
    },
    {
      "cell_type": "code",
      "source": [
        "dendritic_segs=[]\n",
        "for seg in segments:\n",
        "  if seg.Type in ['apic','dend']:\n",
        "    dendritic_segs.append(seg)"
      ],
      "metadata": {
        "id": "IFKA8rK0oBla"
      },
      "execution_count": 19,
      "outputs": []
    },
    {
      "cell_type": "code",
      "source": [
        "print(dendritic_segs)"
      ],
      "metadata": {
        "colab": {
          "base_uri": "https://localhost:8080/"
        },
        "id": "M6RA_Z8Qu8i_",
        "outputId": "f7f09860-d3fc-4f41-b25a-fdeaaadf25fc"
      },
      "execution_count": 20,
      "outputs": [
        {
          "output_type": "stream",
          "name": "stdout",
          "text": [
            "[<Modules.segment.Segment object at 0x7f9cb8aef0a0>, <Modules.segment.Segment object at 0x7f9c79e623b0>, <Modules.segment.Segment object at 0x7f9c79e637c0>, <Modules.segment.Segment object at 0x7f9c79e63dc0>, <Modules.segment.Segment object at 0x7f9c79e60ca0>, <Modules.segment.Segment object at 0x7f9c79e62a10>, <Modules.segment.Segment object at 0x7f9c79e63790>, <Modules.segment.Segment object at 0x7f9c79e620b0>, <Modules.segment.Segment object at 0x7f9c79e61f90>, <Modules.segment.Segment object at 0x7f9c79e61d80>, <Modules.segment.Segment object at 0x7f9c79e62020>, <Modules.segment.Segment object at 0x7f9c79e61c30>, <Modules.segment.Segment object at 0x7f9c79e60df0>, <Modules.segment.Segment object at 0x7f9c79e63b80>, <Modules.segment.Segment object at 0x7f9c79e61ab0>, <Modules.segment.Segment object at 0x7f9cb8aeeaa0>, <Modules.segment.Segment object at 0x7f9cb8aee080>, <Modules.segment.Segment object at 0x7f9cb8aef100>, <Modules.segment.Segment object at 0x7f9c79e63820>, <Modules.segment.Segment object at 0x7f9c79e629e0>, <Modules.segment.Segment object at 0x7f9c79e61e10>, <Modules.segment.Segment object at 0x7f9c79e62530>, <Modules.segment.Segment object at 0x7f9c79e60880>, <Modules.segment.Segment object at 0x7f9c79e60190>, <Modules.segment.Segment object at 0x7f9c79e61ff0>, <Modules.segment.Segment object at 0x7f9c79e60910>, <Modules.segment.Segment object at 0x7f9c79e63cd0>, <Modules.segment.Segment object at 0x7f9c79e62380>, <Modules.segment.Segment object at 0x7f9c79e63850>, <Modules.segment.Segment object at 0x7f9c79e62a40>, <Modules.segment.Segment object at 0x7f9c79e60dc0>, <Modules.segment.Segment object at 0x7f9c79e62470>, <Modules.segment.Segment object at 0x7f9c79e62bc0>, <Modules.segment.Segment object at 0x7f9c79e61150>, <Modules.segment.Segment object at 0x7f9c79e62410>, <Modules.segment.Segment object at 0x7f9c79e61270>, <Modules.segment.Segment object at 0x7f9c79e63040>, <Modules.segment.Segment object at 0x7f9c79e63640>, <Modules.segment.Segment object at 0x7f9c79e628f0>, <Modules.segment.Segment object at 0x7f9c79e631c0>, <Modules.segment.Segment object at 0x7f9c79e63ca0>, <Modules.segment.Segment object at 0x7f9c79e62a70>, <Modules.segment.Segment object at 0x7f9c79e61de0>, <Modules.segment.Segment object at 0x7f9c79e62ce0>, <Modules.segment.Segment object at 0x7f9c79e63310>, <Modules.segment.Segment object at 0x7f9c79e61db0>, <Modules.segment.Segment object at 0x7f9c79e61360>, <Modules.segment.Segment object at 0x7f9c79e61120>, <Modules.segment.Segment object at 0x7f9c79e62770>, <Modules.segment.Segment object at 0x7f9c79e62b30>, <Modules.segment.Segment object at 0x7f9c79e622f0>, <Modules.segment.Segment object at 0x7f9c79e62b90>, <Modules.segment.Segment object at 0x7f9c79e63190>, <Modules.segment.Segment object at 0x7f9c79e633a0>, <Modules.segment.Segment object at 0x7f9c79e634f0>, <Modules.segment.Segment object at 0x7f9c79e63370>, <Modules.segment.Segment object at 0x7f9c79e62860>, <Modules.segment.Segment object at 0x7f9c79e63be0>, <Modules.segment.Segment object at 0x7f9c79e63580>, <Modules.segment.Segment object at 0x7f9c79e60460>, <Modules.segment.Segment object at 0x7f9c79e60a00>, <Modules.segment.Segment object at 0x7f9c79e60e20>, <Modules.segment.Segment object at 0x7f9c79e63fd0>, <Modules.segment.Segment object at 0x7f9c79e61d20>, <Modules.segment.Segment object at 0x7f9c79e60ac0>, <Modules.segment.Segment object at 0x7f9c79e60b20>, <Modules.segment.Segment object at 0x7f9c79e61c90>, <Modules.segment.Segment object at 0x7f9c79e62500>, <Modules.segment.Segment object at 0x7f9c79e61e70>, <Modules.segment.Segment object at 0x7f9c79e63fa0>, <Modules.segment.Segment object at 0x7f9c79e609a0>, <Modules.segment.Segment object at 0x7f9c79e60a90>, <Modules.segment.Segment object at 0x7f9c79e634c0>, <Modules.segment.Segment object at 0x7f9c79e61cf0>, <Modules.segment.Segment object at 0x7f9c79e62200>, <Modules.segment.Segment object at 0x7f9c79e60550>, <Modules.segment.Segment object at 0x7f9c79e63ac0>, <Modules.segment.Segment object at 0x7f9c79e63a90>, <Modules.segment.Segment object at 0x7f9c79e60850>, <Modules.segment.Segment object at 0x7f9c79e62d40>, <Modules.segment.Segment object at 0x7f9c79e60a60>, <Modules.segment.Segment object at 0x7f9c79e63e50>, <Modules.segment.Segment object at 0x7f9c79e63a60>, <Modules.segment.Segment object at 0x7f9c79e60af0>, <Modules.segment.Segment object at 0x7f9c79e617b0>, <Modules.segment.Segment object at 0x7f9c79e63b20>, <Modules.segment.Segment object at 0x7f9c79e61570>, <Modules.segment.Segment object at 0x7f9c79e62140>, <Modules.segment.Segment object at 0x7f9c79e63220>, <Modules.segment.Segment object at 0x7f9c79e618a0>, <Modules.segment.Segment object at 0x7f9c79e629b0>, <Modules.segment.Segment object at 0x7f9c79e62f80>, <Modules.segment.Segment object at 0x7f9c79e61930>, <Modules.segment.Segment object at 0x7f9c79e62fb0>, <Modules.segment.Segment object at 0x7f9c79e61cc0>, <Modules.segment.Segment object at 0x7f9c79e60820>, <Modules.segment.Segment object at 0x7f9c79e60790>, <Modules.segment.Segment object at 0x7f9c79e60250>, <Modules.segment.Segment object at 0x7f9c79e63af0>, <Modules.segment.Segment object at 0x7f9c79e61a20>, <Modules.segment.Segment object at 0x7f9c79e60430>, <Modules.segment.Segment object at 0x7f9c79e63280>, <Modules.segment.Segment object at 0x7f9c79e63a00>, <Modules.segment.Segment object at 0x7f9c79e619f0>, <Modules.segment.Segment object at 0x7f9c79e61540>, <Modules.segment.Segment object at 0x7f9c79e621d0>, <Modules.segment.Segment object at 0x7f9c79e62080>, <Modules.segment.Segment object at 0x7f9c79e62950>, <Modules.segment.Segment object at 0x7f9c79e61780>, <Modules.segment.Segment object at 0x7f9c79e632e0>, <Modules.segment.Segment object at 0x7f9c79e61750>, <Modules.segment.Segment object at 0x7f9c79e61fc0>, <Modules.segment.Segment object at 0x7f9c79e609d0>, <Modules.segment.Segment object at 0x7f9c79e61e40>, <Modules.segment.Segment object at 0x7f9c79e62170>, <Modules.segment.Segment object at 0x7f9c79e620e0>, <Modules.segment.Segment object at 0x7f9c79e61f00>, <Modules.segment.Segment object at 0x7f9c79e636a0>, <Modules.segment.Segment object at 0x7f9c79e636d0>, <Modules.segment.Segment object at 0x7f9c79e63700>, <Modules.segment.Segment object at 0x7f9c79e63760>, <Modules.segment.Segment object at 0x7f9c79e63730>, <Modules.segment.Segment object at 0x7f9c79e603d0>, <Modules.segment.Segment object at 0x7f9c79e62050>, <Modules.segment.Segment object at 0x7f9c79e621a0>, <Modules.segment.Segment object at 0x7f9c79e60280>, <Modules.segment.Segment object at 0x7f9c79e603a0>, <Modules.segment.Segment object at 0x7f9c79e60370>, <Modules.segment.Segment object at 0x7f9c79e604c0>, <Modules.segment.Segment object at 0x7f9c79e61d50>, <Modules.segment.Segment object at 0x7f9c79e62f20>, <Modules.segment.Segment object at 0x7f9c79e605e0>, <Modules.segment.Segment object at 0x7f9c79e60580>, <Modules.segment.Segment object at 0x7f9c79e60700>, <Modules.segment.Segment object at 0x7f9c79e60400>, <Modules.segment.Segment object at 0x7f9c79e605b0>, <Modules.segment.Segment object at 0x7f9c79e60220>, <Modules.segment.Segment object at 0x7f9c79e61f30>, <Modules.segment.Segment object at 0x7f9c79e61f60>, <Modules.segment.Segment object at 0x7f9c79e62ef0>, <Modules.segment.Segment object at 0x7f9c79e602b0>, <Modules.segment.Segment object at 0x7f9c79e62cb0>, <Modules.segment.Segment object at 0x7f9c79e62e00>, <Modules.segment.Segment object at 0x7f9c79e62dd0>, <Modules.segment.Segment object at 0x7f9c79e63250>, <Modules.segment.Segment object at 0x7f9c79e624d0>, <Modules.segment.Segment object at 0x7f9c79e62350>, <Modules.segment.Segment object at 0x7f9c79e60130>, <Modules.segment.Segment object at 0x7f9c79e61960>, <Modules.segment.Segment object at 0x7f9c79e615a0>, <Modules.segment.Segment object at 0x7f9c79e61ba0>, <Modules.segment.Segment object at 0x7f9c79e60490>, <Modules.segment.Segment object at 0x7f9c79e62e60>, <Modules.segment.Segment object at 0x7f9c79e62ec0>, <Modules.segment.Segment object at 0x7f9c79e62f50>, <Modules.segment.Segment object at 0x7f9c79e61090>, <Modules.segment.Segment object at 0x7f9c79e60a30>, <Modules.segment.Segment object at 0x7f9c79e61840>, <Modules.segment.Segment object at 0x7f9c79e63550>, <Modules.segment.Segment object at 0x7f9c79e60c10>, <Modules.segment.Segment object at 0x7f9c79e63970>, <Modules.segment.Segment object at 0x7f9c79e63e80>, <Modules.segment.Segment object at 0x7f9c79e63eb0>, <Modules.segment.Segment object at 0x7f9c79e639a0>, <Modules.segment.Segment object at 0x7f9c79e627a0>, <Modules.segment.Segment object at 0x7f9c79e62e30>, <Modules.segment.Segment object at 0x7f9c79e63f70>, <Modules.segment.Segment object at 0x7f9c79e61b10>, <Modules.segment.Segment object at 0x7f9c79e62710>, <Modules.segment.Segment object at 0x7f9c79e63df0>, <Modules.segment.Segment object at 0x7f9c79e62c50>, <Modules.segment.Segment object at 0x7f9c79e63100>, <Modules.segment.Segment object at 0x7f9c79e63940>, <Modules.segment.Segment object at 0x7f9c79e60340>, <Modules.segment.Segment object at 0x7f9c79e613c0>, <Modules.segment.Segment object at 0x7f9c79e61390>, <Modules.segment.Segment object at 0x7f9c79e60d30>, <Modules.segment.Segment object at 0x7f9c79e61450>, <Modules.segment.Segment object at 0x7f9c79e62c80>, <Modules.segment.Segment object at 0x7f9c79e639d0>, <Modules.segment.Segment object at 0x7f9c79e62da0>, <Modules.segment.Segment object at 0x7f9c79e63490>, <Modules.segment.Segment object at 0x7f9c79e62d10>, <Modules.segment.Segment object at 0x7f9c79e62ad0>, <Modules.segment.Segment object at 0x7f9c79ecb370>, <Modules.segment.Segment object at 0x7f9c79ecba90>, <Modules.segment.Segment object at 0x7f9c79ecace0>, <Modules.segment.Segment object at 0x7f9c79ecb1c0>, <Modules.segment.Segment object at 0x7f9c79ec96f0>, <Modules.segment.Segment object at 0x7f9c79ec8970>, <Modules.segment.Segment object at 0x7f9c79ec90f0>, <Modules.segment.Segment object at 0x7f9c79eca530>, <Modules.segment.Segment object at 0x7f9c79ec8700>]\n"
          ]
        }
      ]
    },
    {
      "cell_type": "code",
      "source": [
        "print(spiketimestamps)"
      ],
      "metadata": {
        "colab": {
          "base_uri": "https://localhost:8080/"
        },
        "id": "bruutidP_ya5",
        "outputId": "aa22f90c-8efd-4a84-a364-0511db34a2f9"
      },
      "execution_count": 21,
      "outputs": [
        {
          "output_type": "stream",
          "name": "stdout",
          "text": [
            "[ 1041  4589  5464  6021  7283  9986 11018 15664 18202]\n"
          ]
        }
      ]
    },
    {
      "cell_type": "code",
      "execution_count": 22,
      "metadata": {
        "id": "7EMfd8Hw4vai"
      },
      "outputs": [],
      "source": [
        "na_df = pd.DataFrame(columns=['seg_index','na_lower_bound'])\n",
        "# na_df1 = pd.DataFrame(columns=['segmentID','na_lower_bound'])\n",
        "\n",
        "for seg in dendritic_segs:\n",
        "    seg_index=seg.seg_index # index in all segments list\n",
        "    threshold_crossings = np.diff(gNaTa[:,seg_index] > (0.003/1000), prepend=False)\n",
        "    upward_crossings = np.argwhere(threshold_crossings)[::2,0]\n",
        "    downward_crossings = np.argwhere(threshold_crossings)[1::2,0]\n",
        "    # Only count if not within 2 ms after a somatic spike\n",
        "    na_spks = [i for i in upward_crossings if ~np.any((i-spiketimestamps < 2/dt))]\n",
        "\n",
        "    if len(na_spks)>0:\n",
        "        na_df = pd.concat([na_df,pd.DataFrame({'seg_index':np.tile(seg_index,len(na_spks)),\n",
        "                                                'na_lower_bound':na_spks})],axis=0, join='outer')\n",
        "    else:\n",
        "        na_df = pd.concat([na_df,pd.DataFrame({'seg_index':seg_index,\n",
        "                                        'na_lower_bound':np.array([np.nan])})],axis=0, join='outer')\n",
        "\n",
        "# print(na_df==na_df1)"
      ]
    },
    {
      "cell_type": "code",
      "execution_count": 23,
      "metadata": {
        "id": "P_AErLdR4vai"
      },
      "outputs": [],
      "source": [
        "if save_dfs==True:\n",
        "    na_df.to_csv(output_folder+'/'+'na_df.csv')\n",
        "    na_df = pd.read_csv(output_folder+'/'+'na_df.csv')"
      ]
    },
    {
      "cell_type": "code",
      "source": [
        "def reshape_pad(v, fillval=np.nan):\n",
        "    lens = np.array([len(item) for item in v])\n",
        "    mask = lens[:,None] > np.arange(lens.max())\n",
        "    out = np.full(mask.shape,fillval)\n",
        "    out[mask] = np.concatenate(v)\n",
        "    return out"
      ],
      "metadata": {
        "id": "Y1GPro00v2YH"
      },
      "execution_count": 24,
      "outputs": []
    },
    {
      "cell_type": "code",
      "execution_count": 25,
      "metadata": {
        "id": "pSnsZWvzUIlx",
        "colab": {
          "base_uri": "https://localhost:8080/",
          "height": 725
        },
        "outputId": "e5ce9c68-9489-404e-aab5-695e4fd502fb"
      },
      "outputs": [
        {
          "output_type": "stream",
          "name": "stdout",
          "text": [
            "(357, 3)\n",
            "   seg_index na_lower_bound  peak_value\n",
            "0         85          19205    0.000006\n",
            "0         86          18364    0.000005\n",
            "1         86          18501    0.000004\n",
            "2         86          18817    0.000004\n",
            "3         86          18926    0.000004\n",
            "..       ...            ...         ...\n",
            "6        193          19407    0.000004\n",
            "7        193          19557    0.000036\n",
            "8        193          19656    0.000037\n",
            "9        193          19938    0.000005\n",
            "10       193          19988    0.000009\n",
            "\n",
            "[357 rows x 3 columns]\n"
          ]
        },
        {
          "output_type": "execute_result",
          "data": {
            "text/plain": [
              "<Axes: >"
            ]
          },
          "metadata": {},
          "execution_count": 25
        },
        {
          "output_type": "display_data",
          "data": {
            "text/plain": [
              "<Figure size 640x480 with 1 Axes>"
            ],
            "image/png": "[encoded data removed]"
          },
          "metadata": {}
        }
      ],
      "source": [
        "#* investigate\n",
        "# get the value of the conductance at the peak\n",
        "df = pd.DataFrame(columns=['seg_index','na_lower_bound','peak_value'])\n",
        "\n",
        "for s in na_df[~pd.isnull(na_df.na_lower_bound)].seg_index.unique():\n",
        "    inds = na_df[na_df.seg_index==s]['na_lower_bound'].astype(int).values # indices where gmax begins to be high\n",
        "\n",
        "\n",
        "    L = np.split(gNaTa[:,s], inds) # list of gmaxes between indices\n",
        "\n",
        "    X = reshape_pad(L) # make all timeframes in L have same length by appending nan to the end\n",
        "\n",
        "    peak_vals = np.max(X[:,0:10], axis=1) # peak value of only the first 1 ms after crossing bound\n",
        "\n",
        "    df = pd.concat((df,pd.DataFrame({'seg_index': s*np.ones((inds.shape[0],)).astype(int),\n",
        "                                     'na_lower_bound': inds,\n",
        "                                     'peak_value': peak_vals[1:]})))\n",
        "\n",
        "\n",
        "\n",
        "print(df.shape)\n",
        "print(df)\n",
        "df.groupby('seg_index')['peak_value'].mean().hist() # plot\n",
        "df_gb = df.groupby('seg_index')['na_lower_bound'].count().sort_values().reset_index() #count unique lower bounds\n",
        "outliers = df_gb[df_gb.na_lower_bound>1000]['seg_index'].values\n",
        "df_noout = df[(df.seg_index.isin(outliers))&(df.peak_value>0.006)]\n",
        "na_df_new = pd.concat((df_noout[['seg_index','na_lower_bound','peak_value']],na_df.loc[~na_df.seg_index.isin(outliers),['seg_index','na_lower_bound']]))\n",
        "na_df_new.to_csv('na_df.csv',index=False)\n",
        "\n",
        "df.loc[df.seg_index==936,'peak_value'].hist(bins=np.arange(0.003,0.01,0.001))"
      ]
    },
    {
      "cell_type": "code",
      "source": [
        "na_df=na_df_new"
      ],
      "metadata": {
        "id": "4UwdTUfcLAR6"
      },
      "execution_count": 26,
      "outputs": []
    },
    {
      "cell_type": "code",
      "source": [
        "na_df=na_df.reset_index(drop=True)"
      ],
      "metadata": {
        "id": "6mnECZ7pLZXL"
      },
      "execution_count": 27,
      "outputs": []
    },
    {
      "cell_type": "code",
      "source": [
        "# print(na_df.loc[4,'na_lower_bound'])"
      ],
      "metadata": {
        "id": "XJ9EXbI7K4s_"
      },
      "execution_count": 28,
      "outputs": []
    },
    {
      "cell_type": "code",
      "execution_count": 29,
      "metadata": {
        "id": "b7lOX8Uq4vai"
      },
      "outputs": [],
      "source": [
        "# #could try to make this recursive in the case that the random choice fails\n",
        "\n",
        "for i in na_df.seg_index.unique():\n",
        "    seg = na_df.loc[i,'seg_index']\n",
        "    if not pd.isnull(na_df.loc[i,'na_lower_bound']):\n",
        "        spkt = int(na_df.loc[i,'na_lower_bound'])\n",
        "        trace = gNaTa[spkt-10:spkt+10,seg]\n",
        "        peak_value = np.max(trace)\n",
        "        half_peak = peak_value/2\n",
        "        # duration = np.arange(0,20)[trace>half_peak] + spkt - 10 #gave occasional error\n",
        "        duration = np.arange(0,len(trace))[trace>half_peak] + spkt - 10\n",
        "        na_df.loc[i,'duration_low'] = duration[0]\n",
        "        na_df.loc[i,'duration_high'] = duration[-1]\n",
        "        na_df.loc[i,'peak_value'] = peak_value\n",
        "    else:\n",
        "        na_df.loc[i,'duration_low'] = np.nan\n",
        "        na_df.loc[i,'duration_high'] = np.nan\n",
        "        na_df.loc[i,'peak_value'] = np.nan"
      ]
    },
    {
      "cell_type": "code",
      "execution_count": 30,
      "metadata": {
        "id": "BI9Bf8hl4vai"
      },
      "outputs": [],
      "source": [
        "na_df['duration'] = (na_df['duration_high'] - na_df['duration_low'] + 1)/10"
      ]
    },
    {
      "cell_type": "code",
      "execution_count": 31,
      "metadata": {
        "id": "FnJPbRFl4vaj"
      },
      "outputs": [],
      "source": [
        "segs_na_df = segs.join(na_df.set_index('seg_index')).reset_index()\n",
        "# segs_na_df = segs.set_index('seg_index').join(na_df.set_index('seg_index')).reset_index()\n",
        "# display(segs_na_df.Type.to_string())\n",
        "# display(segs_na_df.Elec_distance.to_string())\n",
        "\n",
        "\n",
        "segs_na_df = segs_na_df.fillna(value=np.nan)\n",
        "\n",
        "\n",
        "# segs_na_df[(~pd.isnull(segs_na_df.na_lower_bound))&(segs_na_df.Type=='apic')]"
      ]
    },
    {
      "cell_type": "code",
      "source": [
        "print(segs_na_df)"
      ],
      "metadata": {
        "colab": {
          "base_uri": "https://localhost:8080/"
        },
        "id": "rJlxwhhFNumQ",
        "outputId": "32475749-4708-48f9-df1f-784339faa31c"
      },
      "execution_count": 32,
      "outputs": [
        {
          "output_type": "stream",
          "name": "stdout",
          "text": [
            "     index                             seg  seg index      p0 x3d     p0 y3d  \\\n",
            "0        0    L5PCtemplate[0].soma[0](0.5)          0   34.163384  17.621519   \n",
            "1        1    L5PCtemplate[0].dend[0](0.5)          1   60.067916  24.460821   \n",
            "2        2    L5PCtemplate[0].dend[1](0.5)          2   75.043081  18.176627   \n",
            "3        3    L5PCtemplate[0].dend[2](0.5)          3  122.409150  46.734807   \n",
            "4        4    L5PCtemplate[0].dend[3](0.5)          4   86.410004  19.889999   \n",
            "..     ...                             ...        ...         ...        ...   \n",
            "483    193  L5PCtemplate[0].apic[108](0.5)        193    1.757957  73.813991   \n",
            "484    193  L5PCtemplate[0].apic[108](0.5)        193    1.757957  73.813991   \n",
            "485    193  L5PCtemplate[0].apic[108](0.5)        193    1.757957  73.813991   \n",
            "486    194    L5PCtemplate[0].axon[0](0.5)        194   45.725559  18.343678   \n",
            "487    195    L5PCtemplate[0].axon[1](0.5)        195   45.725559  48.343678   \n",
            "\n",
            "        p0 z3d    p0.5 x3d   p0.5 y3d   p0.5 z3d      p1 x3d  ...  \\\n",
            "0   -50.250000   45.725557  18.343678 -50.250000   57.287731  ...   \n",
            "1   -61.353874   66.929149  21.040891 -51.991813   73.790382  ...   \n",
            "2   -44.915674   81.006490  20.137203 -40.647341   86.969898  ...   \n",
            "3    47.312976  125.219392  65.340469 -26.140698  128.029634  ...   \n",
            "4   -44.299999   88.896599  20.192551 -41.539216   91.383194  ...   \n",
            "..         ...         ...        ...        ...         ...  ...   \n",
            "483 -76.846571   -6.608136  72.501664 -89.272675  -14.974230  ...   \n",
            "484 -76.846571   -6.608136  72.501664 -89.272675  -14.974230  ...   \n",
            "485 -76.846571   -6.608136  72.501664 -89.272675  -14.974230  ...   \n",
            "486 -50.250000   45.725559  33.343678 -50.250000   45.725559  ...   \n",
            "487 -50.250000   45.725559  63.343676 -50.250000   45.725559  ...   \n",
            "\n",
            "     Elec_distance  segmentID    Distance  Elec DistanceQ  DistanceQ  \\\n",
            "0         1.000000          0    0.000000             NaN        NaN   \n",
            "1         0.790003          1   12.100439             9.0        0.0   \n",
            "2         0.534257          2   31.791976             7.0        1.0   \n",
            "3         0.090679          3  115.208601             3.0        7.0   \n",
            "4         0.418009          4   43.110891             7.0        2.0   \n",
            "..             ...        ...         ...             ...        ...   \n",
            "483       0.168892        193  106.602393             6.0        0.0   \n",
            "484       0.168892        193  106.602393             6.0        0.0   \n",
            "485       0.168892        193  106.602393             6.0        0.0   \n",
            "486       0.695620        194   15.000000             NaN        NaN   \n",
            "487       0.398412        195   44.999998             NaN        NaN   \n",
            "\n",
            "    na_lower_bound peak_value  duration_low  duration_high  duration  \n",
            "0              NaN        NaN           NaN            NaN       NaN  \n",
            "1              NaN        NaN           NaN            NaN       NaN  \n",
            "2              NaN        NaN           NaN            NaN       NaN  \n",
            "3              NaN        NaN           NaN            NaN       NaN  \n",
            "4              NaN        NaN           NaN            NaN       NaN  \n",
            "..             ...        ...           ...            ...       ...  \n",
            "483        19656.0        NaN           NaN            NaN       NaN  \n",
            "484        19938.0        NaN           NaN            NaN       NaN  \n",
            "485        19988.0        NaN           NaN            NaN       NaN  \n",
            "486            NaN        NaN           NaN            NaN       NaN  \n",
            "487            NaN        NaN           NaN            NaN       NaN  \n",
            "\n",
            "[488 rows x 42 columns]\n"
          ]
        }
      ]
    },
    {
      "cell_type": "code",
      "source": [
        "segs_na_df[(~pd.isnull(segs_na_df.na_lower_bound))&\n",
        "                                       (segs_na_df.Type=='dend')]['Elec_distance'].unique()"
      ],
      "metadata": {
        "colab": {
          "base_uri": "https://localhost:8080/"
        },
        "id": "fLIaq2cmuCSM",
        "outputId": "9b36852f-3eb8-4a51-ba20-524666f910f8"
      },
      "execution_count": 33,
      "outputs": [
        {
          "output_type": "execute_result",
          "data": {
            "text/plain": [
              "array([], dtype=float64)"
            ]
          },
          "metadata": {},
          "execution_count": 33
        }
      ]
    },
    {
      "cell_type": "code",
      "source": [
        "segs_na_df[(segs_na_df.Type=='dend')]"
      ],
      "metadata": {
        "colab": {
          "base_uri": "https://localhost:8080/",
          "height": 678
        },
        "id": "6D2h6i_MuTbZ",
        "outputId": "6463110d-0bef-40d8-862d-c2e34e11e649"
      },
      "execution_count": 34,
      "outputs": [
        {
          "output_type": "execute_result",
          "data": {
            "text/plain": [
              "    index                            seg  seg index      p0 x3d     p0 y3d  \\\n",
              "1       1   L5PCtemplate[0].dend[0](0.5)          1   60.067916  24.460821   \n",
              "2       2   L5PCtemplate[0].dend[1](0.5)          2   75.043081  18.176627   \n",
              "3       3   L5PCtemplate[0].dend[2](0.5)          3  122.409150  46.734807   \n",
              "4       4   L5PCtemplate[0].dend[3](0.5)          4   86.410004  19.889999   \n",
              "5       5   L5PCtemplate[0].dend[4](0.5)          5   89.834455  13.122621   \n",
              "..    ...                            ...        ...         ...        ...   \n",
              "80     80  L5PCtemplate[0].dend[79](0.5)         80   34.038256  20.670000   \n",
              "81     81  L5PCtemplate[0].dend[80](0.5)         81   23.348647  27.516749   \n",
              "82     82  L5PCtemplate[0].dend[81](0.5)         82   22.145066  22.970209   \n",
              "83     83  L5PCtemplate[0].dend[82](0.5)         83  -29.049999   9.438713   \n",
              "84     84  L5PCtemplate[0].dend[83](0.5)         84    8.957144  14.332267   \n",
              "\n",
              "        p0 z3d    p0.5 x3d   p0.5 y3d   p0.5 z3d      p1 x3d  ...  \\\n",
              "1   -61.353874   66.929149  21.040891 -51.991813   73.790382  ...   \n",
              "2   -44.915674   81.006490  20.137203 -40.647341   86.969898  ...   \n",
              "3    47.312976  125.219392  65.340469 -26.140698  128.029634  ...   \n",
              "4   -44.299999   88.896599  20.192551 -41.539216   91.383194  ...   \n",
              "5   -45.705895  109.872517   9.458511  -4.141231  129.910578  ...   \n",
              "..         ...         ...        ...        ...         ...  ...   \n",
              "80  -54.308283   28.211931  20.670000 -59.625083   22.385605  ...   \n",
              "81  -60.383930   -0.834634  31.600465 -82.908192  -25.017914  ...   \n",
              "82  -64.484819   16.732515  20.009496 -76.050098   11.319964  ...   \n",
              "83 -140.770945  -29.049999 -28.704780 -84.747666  -29.049999  ...   \n",
              "84  -82.225015    7.619937  12.487844 -90.547978    6.282729  ...   \n",
              "\n",
              "    Elec_distance  segmentID    Distance  Elec DistanceQ  DistanceQ  \\\n",
              "1        0.790003          1   12.100439             9.0        0.0   \n",
              "2        0.534257          2   31.791976             7.0        1.0   \n",
              "3        0.090679          3  115.208601             3.0        7.0   \n",
              "4        0.418009          4   43.110891             7.0        2.0   \n",
              "5        0.125385          5   93.126621             4.0        6.0   \n",
              "..            ...        ...         ...             ...        ...   \n",
              "80       0.857077         80    7.887613             9.0        0.0   \n",
              "81       0.071385         81   49.074627             2.0        2.0   \n",
              "82       0.568610         82   28.883132             8.0        1.0   \n",
              "83       0.029419         83  109.766651             0.0        6.0   \n",
              "84       0.358642         84   50.620160             6.0        3.0   \n",
              "\n",
              "   na_lower_bound peak_value  duration_low  duration_high  duration  \n",
              "1             NaN        NaN           NaN            NaN       NaN  \n",
              "2             NaN        NaN           NaN            NaN       NaN  \n",
              "3             NaN        NaN           NaN            NaN       NaN  \n",
              "4             NaN        NaN           NaN            NaN       NaN  \n",
              "5             NaN        NaN           NaN            NaN       NaN  \n",
              "..            ...        ...           ...            ...       ...  \n",
              "80            NaN        NaN           NaN            NaN       NaN  \n",
              "81            NaN        NaN           NaN            NaN       NaN  \n",
              "82            NaN        NaN           NaN            NaN       NaN  \n",
              "83            NaN        NaN           NaN            NaN       NaN  \n",
              "84            NaN        NaN           NaN            NaN       NaN  \n",
              "\n",
              "[84 rows x 42 columns]"
            ],
            "text/html": [
              "\n",
              "  <div id=\"df-9234cd29-5501-45c7-b1a0-01c3e9fad19a\">\n",
              "    <div class=\"colab-df-container\">\n",
              "      <div>\n",
              "<style scoped>\n",
              "    .dataframe tbody tr th:only-of-type {\n",
              "        vertical-align: middle;\n",
              "    }\n",
              "\n",
              "    .dataframe tbody tr th {\n",
              "        vertical-align: top;\n",
              "    }\n",
              "\n",
              "    .dataframe thead th {\n",
              "        text-align: right;\n",
              "    }\n",
              "</style>\n",
              "<table border=\"1\" class=\"dataframe\">\n",
              "  <thead>\n",
              "    <tr style=\"text-align: right;\">\n",
              "      <th></th>\n",
              "      <th>index</th>\n",
              "      <th>seg</th>\n",
              "      <th>seg index</th>\n",
              "      <th>p0 x3d</th>\n",
              "      <th>p0 y3d</th>\n",
              "      <th>p0 z3d</th>\n",
              "      <th>p0.5 x3d</th>\n",
              "      <th>p0.5 y3d</th>\n",
              "      <th>p0.5 z3d</th>\n",
              "      <th>p1 x3d</th>\n",
              "      <th>...</th>\n",
              "      <th>Elec_distance</th>\n",
              "      <th>segmentID</th>\n",
              "      <th>Distance</th>\n",
              "      <th>Elec DistanceQ</th>\n",
              "      <th>DistanceQ</th>\n",
              "      <th>na_lower_bound</th>\n",
              "      <th>peak_value</th>\n",
              "      <th>duration_low</th>\n",
              "      <th>duration_high</th>\n",
              "      <th>duration</th>\n",
              "    </tr>\n",
              "  </thead>\n",
              "  <tbody>\n",
              "    <tr>\n",
              "      <th>1</th>\n",
              "      <td>1</td>\n",
              "      <td>L5PCtemplate[0].dend[0](0.5)</td>\n",
              "      <td>1</td>\n",
              "      <td>60.067916</td>\n",
              "      <td>24.460821</td>\n",
              "      <td>-61.353874</td>\n",
              "      <td>66.929149</td>\n",
              "      <td>21.040891</td>\n",
              "      <td>-51.991813</td>\n",
              "      <td>73.790382</td>\n",
              "      <td>...</td>\n",
              "      <td>0.790003</td>\n",
              "      <td>1</td>\n",
              "      <td>12.100439</td>\n",
              "      <td>9.0</td>\n",
              "      <td>0.0</td>\n",
              "      <td>NaN</td>\n",
              "      <td>NaN</td>\n",
              "      <td>NaN</td>\n",
              "      <td>NaN</td>\n",
              "      <td>NaN</td>\n",
              "    </tr>\n",
              "    <tr>\n",
              "      <th>2</th>\n",
              "      <td>2</td>\n",
              "      <td>L5PCtemplate[0].dend[1](0.5)</td>\n",
              "      <td>2</td>\n",
              "      <td>75.043081</td>\n",
              "      <td>18.176627</td>\n",
              "      <td>-44.915674</td>\n",
              "      <td>81.006490</td>\n",
              "      <td>20.137203</td>\n",
              "      <td>-40.647341</td>\n",
              "      <td>86.969898</td>\n",
              "      <td>...</td>\n",
              "      <td>0.534257</td>\n",
              "      <td>2</td>\n",
              "      <td>31.791976</td>\n",
              "      <td>7.0</td>\n",
              "      <td>1.0</td>\n",
              "      <td>NaN</td>\n",
              "      <td>NaN</td>\n",
              "      <td>NaN</td>\n",
              "      <td>NaN</td>\n",
              "      <td>NaN</td>\n",
              "    </tr>\n",
              "    <tr>\n",
              "      <th>3</th>\n",
              "      <td>3</td>\n",
              "      <td>L5PCtemplate[0].dend[2](0.5)</td>\n",
              "      <td>3</td>\n",
              "      <td>122.409150</td>\n",
              "      <td>46.734807</td>\n",
              "      <td>47.312976</td>\n",
              "      <td>125.219392</td>\n",
              "      <td>65.340469</td>\n",
              "      <td>-26.140698</td>\n",
              "      <td>128.029634</td>\n",
              "      <td>...</td>\n",
              "      <td>0.090679</td>\n",
              "      <td>3</td>\n",
              "      <td>115.208601</td>\n",
              "      <td>3.0</td>\n",
              "      <td>7.0</td>\n",
              "      <td>NaN</td>\n",
              "      <td>NaN</td>\n",
              "      <td>NaN</td>\n",
              "      <td>NaN</td>\n",
              "      <td>NaN</td>\n",
              "    </tr>\n",
              "    <tr>\n",
              "      <th>4</th>\n",
              "      <td>4</td>\n",
              "      <td>L5PCtemplate[0].dend[3](0.5)</td>\n",
              "      <td>4</td>\n",
              "      <td>86.410004</td>\n",
              "      <td>19.889999</td>\n",
              "      <td>-44.299999</td>\n",
              "      <td>88.896599</td>\n",
              "      <td>20.192551</td>\n",
              "      <td>-41.539216</td>\n",
              "      <td>91.383194</td>\n",
              "      <td>...</td>\n",
              "      <td>0.418009</td>\n",
              "      <td>4</td>\n",
              "      <td>43.110891</td>\n",
              "      <td>7.0</td>\n",
              "      <td>2.0</td>\n",
              "      <td>NaN</td>\n",
              "      <td>NaN</td>\n",
              "      <td>NaN</td>\n",
              "      <td>NaN</td>\n",
              "      <td>NaN</td>\n",
              "    </tr>\n",
              "    <tr>\n",
              "      <th>5</th>\n",
              "      <td>5</td>\n",
              "      <td>L5PCtemplate[0].dend[4](0.5)</td>\n",
              "      <td>5</td>\n",
              "      <td>89.834455</td>\n",
              "      <td>13.122621</td>\n",
              "      <td>-45.705895</td>\n",
              "      <td>109.872517</td>\n",
              "      <td>9.458511</td>\n",
              "      <td>-4.141231</td>\n",
              "      <td>129.910578</td>\n",
              "      <td>...</td>\n",
              "      <td>0.125385</td>\n",
              "      <td>5</td>\n",
              "      <td>93.126621</td>\n",
              "      <td>4.0</td>\n",
              "      <td>6.0</td>\n",
              "      <td>NaN</td>\n",
              "      <td>NaN</td>\n",
              "      <td>NaN</td>\n",
              "      <td>NaN</td>\n",
              "      <td>NaN</td>\n",
              "    </tr>\n",
              "    <tr>\n",
              "      <th>...</th>\n",
              "      <td>...</td>\n",
              "      <td>...</td>\n",
              "      <td>...</td>\n",
              "      <td>...</td>\n",
              "      <td>...</td>\n",
              "      <td>...</td>\n",
              "      <td>...</td>\n",
              "      <td>...</td>\n",
              "      <td>...</td>\n",
              "      <td>...</td>\n",
              "      <td>...</td>\n",
              "      <td>...</td>\n",
              "      <td>...</td>\n",
              "      <td>...</td>\n",
              "      <td>...</td>\n",
              "      <td>...</td>\n",
              "      <td>...</td>\n",
              "      <td>...</td>\n",
              "      <td>...</td>\n",
              "      <td>...</td>\n",
              "      <td>...</td>\n",
              "    </tr>\n",
              "    <tr>\n",
              "      <th>80</th>\n",
              "      <td>80</td>\n",
              "      <td>L5PCtemplate[0].dend[79](0.5)</td>\n",
              "      <td>80</td>\n",
              "      <td>34.038256</td>\n",
              "      <td>20.670000</td>\n",
              "      <td>-54.308283</td>\n",
              "      <td>28.211931</td>\n",
              "      <td>20.670000</td>\n",
              "      <td>-59.625083</td>\n",
              "      <td>22.385605</td>\n",
              "      <td>...</td>\n",
              "      <td>0.857077</td>\n",
              "      <td>80</td>\n",
              "      <td>7.887613</td>\n",
              "      <td>9.0</td>\n",
              "      <td>0.0</td>\n",
              "      <td>NaN</td>\n",
              "      <td>NaN</td>\n",
              "      <td>NaN</td>\n",
              "      <td>NaN</td>\n",
              "      <td>NaN</td>\n",
              "    </tr>\n",
              "    <tr>\n",
              "      <th>81</th>\n",
              "      <td>81</td>\n",
              "      <td>L5PCtemplate[0].dend[80](0.5)</td>\n",
              "      <td>81</td>\n",
              "      <td>23.348647</td>\n",
              "      <td>27.516749</td>\n",
              "      <td>-60.383930</td>\n",
              "      <td>-0.834634</td>\n",
              "      <td>31.600465</td>\n",
              "      <td>-82.908192</td>\n",
              "      <td>-25.017914</td>\n",
              "      <td>...</td>\n",
              "      <td>0.071385</td>\n",
              "      <td>81</td>\n",
              "      <td>49.074627</td>\n",
              "      <td>2.0</td>\n",
              "      <td>2.0</td>\n",
              "      <td>NaN</td>\n",
              "      <td>NaN</td>\n",
              "      <td>NaN</td>\n",
              "      <td>NaN</td>\n",
              "      <td>NaN</td>\n",
              "    </tr>\n",
              "    <tr>\n",
              "      <th>82</th>\n",
              "      <td>82</td>\n",
              "      <td>L5PCtemplate[0].dend[81](0.5)</td>\n",
              "      <td>82</td>\n",
              "      <td>22.145066</td>\n",
              "      <td>22.970209</td>\n",
              "      <td>-64.484819</td>\n",
              "      <td>16.732515</td>\n",
              "      <td>20.009496</td>\n",
              "      <td>-76.050098</td>\n",
              "      <td>11.319964</td>\n",
              "      <td>...</td>\n",
              "      <td>0.568610</td>\n",
              "      <td>82</td>\n",
              "      <td>28.883132</td>\n",
              "      <td>8.0</td>\n",
              "      <td>1.0</td>\n",
              "      <td>NaN</td>\n",
              "      <td>NaN</td>\n",
              "      <td>NaN</td>\n",
              "      <td>NaN</td>\n",
              "      <td>NaN</td>\n",
              "    </tr>\n",
              "    <tr>\n",
              "      <th>83</th>\n",
              "      <td>83</td>\n",
              "      <td>L5PCtemplate[0].dend[82](0.5)</td>\n",
              "      <td>83</td>\n",
              "      <td>-29.049999</td>\n",
              "      <td>9.438713</td>\n",
              "      <td>-140.770945</td>\n",
              "      <td>-29.049999</td>\n",
              "      <td>-28.704780</td>\n",
              "      <td>-84.747666</td>\n",
              "      <td>-29.049999</td>\n",
              "      <td>...</td>\n",
              "      <td>0.029419</td>\n",
              "      <td>83</td>\n",
              "      <td>109.766651</td>\n",
              "      <td>0.0</td>\n",
              "      <td>6.0</td>\n",
              "      <td>NaN</td>\n",
              "      <td>NaN</td>\n",
              "      <td>NaN</td>\n",
              "      <td>NaN</td>\n",
              "      <td>NaN</td>\n",
              "    </tr>\n",
              "    <tr>\n",
              "      <th>84</th>\n",
              "      <td>84</td>\n",
              "      <td>L5PCtemplate[0].dend[83](0.5)</td>\n",
              "      <td>84</td>\n",
              "      <td>8.957144</td>\n",
              "      <td>14.332267</td>\n",
              "      <td>-82.225015</td>\n",
              "      <td>7.619937</td>\n",
              "      <td>12.487844</td>\n",
              "      <td>-90.547978</td>\n",
              "      <td>6.282729</td>\n",
              "      <td>...</td>\n",
              "      <td>0.358642</td>\n",
              "      <td>84</td>\n",
              "      <td>50.620160</td>\n",
              "      <td>6.0</td>\n",
              "      <td>3.0</td>\n",
              "      <td>NaN</td>\n",
              "      <td>NaN</td>\n",
              "      <td>NaN</td>\n",
              "      <td>NaN</td>\n",
              "      <td>NaN</td>\n",
              "    </tr>\n",
              "  </tbody>\n",
              "</table>\n",
              "<p>84 rows × 42 columns</p>\n",
              "</div>\n",
              "      <button class=\"colab-df-convert\" onclick=\"convertToInteractive('df-9234cd29-5501-45c7-b1a0-01c3e9fad19a')\"\n",
              "              title=\"Convert this dataframe to an interactive table.\"\n",
              "              style=\"display:none;\">\n",
              "        \n",
              "  <svg xmlns=\"http://www.w3.org/2000/svg\" height=\"24px\"viewBox=\"0 0 24 24\"\n",
              "       width=\"24px\">\n",
              "    <path d=\"M0 0h24v24H0V0z\" fill=\"none\"/>\n",
              "    <path d=\"M18.56 5.44l.94 2.06.94-2.06 2.06-.94-2.06-.94-.94-2.06-.94 2.06-2.06.94zm-11 1L8.5 8.5l.94-2.06 2.06-.94-2.06-.94L8.5 2.5l-.94 2.06-2.06.94zm10 10l.94 2.06.94-2.06 2.06-.94-2.06-.94-.94-2.06-.94 2.06-2.06.94z\"/><path d=\"M17.41 7.96l-1.37-1.37c-.4-.4-.92-.59-1.43-.59-.52 0-1.04.2-1.43.59L10.3 9.45l-7.72 7.72c-.78.78-.78 2.05 0 2.83L4 21.41c.39.39.9.59 1.41.59.51 0 1.02-.2 1.41-.59l7.78-7.78 2.81-2.81c.8-.78.8-2.07 0-2.86zM5.41 20L4 18.59l7.72-7.72 1.47 1.35L5.41 20z\"/>\n",
              "  </svg>\n",
              "      </button>\n",
              "      \n",
              "  <style>\n",
              "    .colab-df-container {\n",
              "      display:flex;\n",
              "      flex-wrap:wrap;\n",
              "      gap: 12px;\n",
              "    }\n",
              "\n",
              "    .colab-df-convert {\n",
              "      background-color: #E8F0FE;\n",
              "      border: none;\n",
              "      border-radius: 50%;\n",
              "      cursor: pointer;\n",
              "      display: none;\n",
              "      fill: #1967D2;\n",
              "      height: 32px;\n",
              "      padding: 0 0 0 0;\n",
              "      width: 32px;\n",
              "    }\n",
              "\n",
              "    .colab-df-convert:hover {\n",
              "      background-color: #E2EBFA;\n",
              "      box-shadow: 0px 1px 2px rgba(60, 64, 67, 0.3), 0px 1px 3px 1px rgba(60, 64, 67, 0.15);\n",
              "      fill: #174EA6;\n",
              "    }\n",
              "\n",
              "    [theme=dark] .colab-df-convert {\n",
              "      background-color: #3B4455;\n",
              "      fill: #D2E3FC;\n",
              "    }\n",
              "\n",
              "    [theme=dark] .colab-df-convert:hover {\n",
              "      background-color: #434B5C;\n",
              "      box-shadow: 0px 1px 3px 1px rgba(0, 0, 0, 0.15);\n",
              "      filter: drop-shadow(0px 1px 2px rgba(0, 0, 0, 0.3));\n",
              "      fill: #FFFFFF;\n",
              "    }\n",
              "  </style>\n",
              "\n",
              "      <script>\n",
              "        const buttonEl =\n",
              "          document.querySelector('#df-9234cd29-5501-45c7-b1a0-01c3e9fad19a button.colab-df-convert');\n",
              "        buttonEl.style.display =\n",
              "          google.colab.kernel.accessAllowed ? 'block' : 'none';\n",
              "\n",
              "        async function convertToInteractive(key) {\n",
              "          const element = document.querySelector('#df-9234cd29-5501-45c7-b1a0-01c3e9fad19a');\n",
              "          const dataTable =\n",
              "            await google.colab.kernel.invokeFunction('convertToInteractive',\n",
              "                                                     [key], {});\n",
              "          if (!dataTable) return;\n",
              "\n",
              "          const docLinkHtml = 'Like what you see? Visit the ' +\n",
              "            '<a target=\"_blank\" href=https://colab.research.google.com/notebooks/data_table.ipynb>data table notebook</a>'\n",
              "            + ' to learn more about interactive tables.';\n",
              "          element.innerHTML = '';\n",
              "          dataTable['output_type'] = 'display_data';\n",
              "          await google.colab.output.renderOutput(dataTable, element);\n",
              "          const docLink = document.createElement('div');\n",
              "          docLink.innerHTML = docLinkHtml;\n",
              "          element.appendChild(docLink);\n",
              "        }\n",
              "      </script>\n",
              "    </div>\n",
              "  </div>\n",
              "  "
            ]
          },
          "metadata": {},
          "execution_count": 34
        }
      ]
    },
    {
      "cell_type": "code",
      "execution_count": 35,
      "metadata": {
        "id": "sB1diydHZvEg"
      },
      "outputs": [],
      "source": [
        "#pd.set_option(\"display.max_rows\", None, \"display.max_columns\", None)\n",
        "\n",
        "#print(na_df)"
      ]
    },
    {
      "cell_type": "code",
      "source": [
        "spiketimes"
      ],
      "metadata": {
        "colab": {
          "base_uri": "https://localhost:8080/"
        },
        "id": "pmhN-JK70Eo1",
        "outputId": "1da18729-181b-4ba1-ba2b-85c99930c20f"
      },
      "execution_count": 36,
      "outputs": [
        {
          "output_type": "execute_result",
          "data": {
            "text/plain": [
              "array([ 104.1,  458.9,  546.4,  602.1,  728.4,  998.7, 1101.9, 1566.5,\n",
              "       1820.3])"
            ]
          },
          "metadata": {},
          "execution_count": 36
        }
      ]
    },
    {
      "cell_type": "code",
      "source": [
        "segs['Elec_distance']"
      ],
      "metadata": {
        "colab": {
          "base_uri": "https://localhost:8080/"
        },
        "id": "0RuugcyL051o",
        "outputId": "3cb481e5-b31f-4253-b729-3b805c594d8b"
      },
      "execution_count": 37,
      "outputs": [
        {
          "output_type": "execute_result",
          "data": {
            "text/plain": [
              "0      1.000000\n",
              "1      0.790003\n",
              "2      0.534257\n",
              "3      0.090679\n",
              "4      0.418009\n",
              "         ...   \n",
              "191    0.357719\n",
              "192    0.159107\n",
              "193    0.168892\n",
              "194    0.695620\n",
              "195    0.398412\n",
              "Name: Elec_distance, Length: 196, dtype: float64"
            ]
          },
          "metadata": {},
          "execution_count": 37
        }
      ]
    },
    {
      "cell_type": "code",
      "execution_count": 42,
      "metadata": {
        "id": "2EvZxPFY4vaj"
      },
      "outputs": [],
      "source": [
        "def get_sta(segs_na_df, spiketimes):\n",
        "    # Initializing dendritic and apical spike-triggered averages (STA) to zero matrices of shape (10, 39)\n",
        "    na_dend = np.zeros((10, 39,))\n",
        "    na_apic = np.zeros((10, 39,))\n",
        "\n",
        "    # Try to calculate quantiles of electric distances for dendritic segments\n",
        "    try:\n",
        "        edges_dend=np.quantile(segs_na_df[(~pd.isnull(segs_na_df.na_lower_bound))&\n",
        "                                        (segs_na_df.Type=='dend')]['Elec_distance'].unique(),np.arange(0,1.1,0.1))\n",
        "    except:\n",
        "        edges_dend = [0]*100\n",
        "\n",
        "    # Calculate quantiles of electric distances for apical segments\n",
        "    edges_apic=np.quantile(segs_na_df[(~pd.isnull(segs_na_df.na_lower_bound))&\n",
        "                                       (segs_na_df.Type=='apic')]['Elec_distance'].unique(),np.arange(0,1.1,0.1))\n",
        "\n",
        "    # Create an empty list to store actual spike times\n",
        "    actual_spktimes = []\n",
        "    prev_spiketime = 0\n",
        "    for spiketime in np.sort(spiketimes):\n",
        "        # exclude bursts\n",
        "        if spiketime-prev_spiketime > 10:\n",
        "            for e in np.arange(0,10):\n",
        "                # Filter dendritic segments within specific electric distance ranges\n",
        "                na_inds = segs_na_df[(~pd.isnull(segs_na_df.na_lower_bound))&\n",
        "                                     (segs_na_df.Type=='dend')&\n",
        "                                     (segs_na_df.Elec_distance>edges_dend[e])&\n",
        "                                     (segs_na_df.Elec_distance<=edges_dend[e+1])]['na_lower_bound'].values.astype(int)\n",
        "\n",
        "                # Calculate histogram of spike times around the current spike for dendritic segments\n",
        "                x2, _ = np.histogram(na_inds/10,bins=np.arange(np.floor(spiketime)-20,np.floor(spiketime)+20,1))\n",
        "                na_dend[e] += x2\n",
        "\n",
        "                # Filter apical segments within specific electric distance ranges\n",
        "                na_inds = segs_na_df[(~pd.isnull(segs_na_df.na_lower_bound))&\n",
        "                                     (segs_na_df.Type=='apic')&\n",
        "                                     (segs_na_df.Elec_distance>edges_apic[e])&\n",
        "                                     (segs_na_df.Elec_distance<=edges_apic[e+1])]['na_lower_bound'].values.astype(int)\n",
        "\n",
        "                # Calculate histogram of spike times around the current spike for apical segments\n",
        "                x2, _ = np.histogram(na_inds/10,bins=np.arange(np.floor(spiketime)-20,np.floor(spiketime)+20,1))\n",
        "                na_apic[e] += x2\n",
        "\n",
        "            actual_spktimes.append(spiketime)\n",
        "        prev_spiketime = spiketime\n",
        "\n",
        "    return na_dend, na_apic"
      ]
    },
    {
      "cell_type": "code",
      "execution_count": 43,
      "metadata": {
        "id": "PTdNlzPK9z_Y"
      },
      "outputs": [],
      "source": [
        "na_dend, na_apic = get_sta(segs_na_df, spiketimes)\n",
        "rand_spktimes = np.sort(np.random.choice(np.arange(0,150000), spiketimes.shape[0]))\n",
        "na_dend_rand, na_apic_rand = get_sta(segs_na_df, rand_spktimes)"
      ]
    },
    {
      "cell_type": "code",
      "execution_count": 44,
      "metadata": {
        "id": "2--OhaH54vaj",
        "colab": {
          "base_uri": "https://localhost:8080/",
          "height": 815
        },
        "outputId": "f60e8369-9f20-41fe-8610-7889fb25b99b"
      },
      "outputs": [
        {
          "output_type": "display_data",
          "data": {
            "text/plain": [
              "<Figure size 1000x1000 with 4 Axes>"
            ],
            "image/png": "[encoded data removed]"
          },
          "metadata": {}
        }
      ],
      "source": [
        "plt.figure(figsize=(10,10))\n",
        "plt.subplot(2,1,1)\n",
        "plt.title('Na spikes - apical')\n",
        "# plt.imshow((na_dend-na_dend_rand)/len(spiketimes),cmap='jet',vmin=-0.4, vmax=0.6)\n",
        "plt.imshow((na_apic-na_apic_rand)/len(spiketimes),cmap='jet')\n",
        "plt.colorbar(label='additional events per AP')\n",
        "plt.xticks(ticks=np.arange(0,40,5)-0.5,labels=['{}'.format(i) for i in np.arange(-20,20,5)])\n",
        "plt.yticks(ticks=[0,9],labels=['further','closer'])\n",
        "plt.xlim(5,35)\n",
        "\n",
        "plt.subplot(2,1,2)\n",
        "plt.title('Na spikes - basal')\n",
        "plt.imshow((na_dend-na_dend_rand)/len(spiketimes),cmap='jet',vmin=-0.2, vmax=0.2)\n",
        "# plt.imshow((na_dend-na_dend_rand)/len(spktimes),cmap='jet')\n",
        "plt.colorbar(label='additional events per AP')\n",
        "plt.xticks(ticks=np.arange(0,40,5)-0.5,labels=['{}'.format(i) for i in np.arange(-20,20,5)])\n",
        "plt.yticks(ticks=[0,9],labels=['further','closer'])\n",
        "plt.xlabel('time(ms)')\n",
        "plt.xlim(5,35)\n",
        "plt.savefig(output_folder+'/NaSpikestoAP.png')\n",
        "\n",
        "plt.show()"
      ]
    },
    {
      "cell_type": "markdown",
      "metadata": {
        "id": "2mh6u46u4vak"
      },
      "source": [
        "----------"
      ]
    },
    {
      "cell_type": "code",
      "source": [],
      "metadata": {
        "id": "NkC9nj7L7twB"
      },
      "execution_count": null,
      "outputs": []
    },
    {
      "cell_type": "code",
      "execution_count": 68,
      "metadata": {
        "id": "o36hLzYo4vak"
      },
      "outputs": [],
      "source": [
        "ca_df = pd.DataFrame(columns=['segmentID','ca_lower_bound'])\n",
        "lowery, uppery = 500, 1500\n",
        "segs['segmentID'] = segs.index\n",
        "\n",
        "CAsegIDs = segs[(segs.Type=='apic')&(segs['p0.5 y3d']>lowery)&(segs['p0.5 y3d']<uppery)]['segmentID']\n",
        "\n",
        "for p in CAsegIDs:\n",
        "    trace = icah[:,p]+\\\n",
        "                ical[:,p]+\\\n",
        "                ih[:,p]\n",
        "    m = np.mean(trace)\n",
        "    s = np.std(trace)\n",
        "\n",
        "    legit_uc = voltage_criterion(data=v[:,p],v_thresh=-40, time_thresh=200)[1]\n",
        "    legit_dc = voltage_criterion(data=v[:,p],v_thresh=-40, time_thresh=200)[-1]\n",
        "\n",
        "    legit_uc_iso = legit_uc\n",
        "\n",
        "    legit_dc_iso = legit_dc\n",
        "\n",
        "\n",
        "\n",
        "    if (len(legit_uc_iso)!=0) & (np.min(trace)!=0):\n",
        "        bnds, sum_curr = current_criterion(legit_uc_iso=legit_uc_iso,\n",
        "                                           legit_dc_iso=legit_dc_iso,\n",
        "                                           p=p,\n",
        "                                           control_inmda=icah)\n",
        "        ca_df = pd.concat([ca_df,pd.DataFrame({'segmentID':np.tile(p,len(bnds)),\n",
        "                                               'ca_lower_bound':np.array(bnds).reshape(-1,2)[:,0],\n",
        "                                               'ca_upper_bound':np.array(bnds).reshape(-1,2)[:,1],\n",
        "                                               'mag':sum_curr})],axis=0, join='outer')\n",
        "\n",
        "    else:\n",
        "        ca_df = pd.concat([ca_df,pd.DataFrame({'segmentID':np.tile(p,1),\n",
        "                                               'ca_lower_bound':np.nan,\n",
        "                                               'ca_upper_bound':np.nan,\n",
        "                                               'mag':np.nan})],axis=0, join='outer')"
      ]
    },
    {
      "cell_type": "code",
      "execution_count": null,
      "metadata": {
        "id": "qOf83soDjiCm"
      },
      "outputs": [],
      "source": [
        "#print(ca_df)"
      ]
    },
    {
      "cell_type": "code",
      "execution_count": null,
      "metadata": {
        "id": "C36RU9wM4vak"
      },
      "outputs": [],
      "source": [
        "if save_dfs==True:\n",
        "    ca_df.to_csv(output_folder+'/'+'ca_df.csv')\n",
        "    ca_df = pd.read_csv(output_folder+'/'+'ca_df.csv')"
      ]
    },
    {
      "cell_type": "markdown",
      "metadata": {
        "id": "TvfdmW7E4vak"
      },
      "source": [
        "# durations"
      ]
    },
    {
      "cell_type": "code",
      "execution_count": 54,
      "metadata": {
        "id": "k-VESnKr4vak",
        "colab": {
          "base_uri": "https://localhost:8080/",
          "height": 528
        },
        "outputId": "772521c1-4c26-42f1-f7f2-89e6c18d13de"
      },
      "outputs": [
        {
          "output_type": "error",
          "ename": "KeyError",
          "evalue": "ignored",
          "traceback": [
            "\u001b[0;31m---------------------------------------------------------------------------\u001b[0m",
            "\u001b[0;31mKeyError\u001b[0m                                  Traceback (most recent call last)",
            "\u001b[0;32m/usr/local/lib/python3.10/dist-packages/pandas/core/indexes/base.py\u001b[0m in \u001b[0;36mget_loc\u001b[0;34m(self, key, method, tolerance)\u001b[0m\n\u001b[1;32m   3801\u001b[0m             \u001b[0;32mtry\u001b[0m\u001b[0;34m:\u001b[0m\u001b[0;34m\u001b[0m\u001b[0;34m\u001b[0m\u001b[0m\n\u001b[0;32m-> 3802\u001b[0;31m                 \u001b[0;32mreturn\u001b[0m \u001b[0mself\u001b[0m\u001b[0;34m.\u001b[0m\u001b[0m_engine\u001b[0m\u001b[0;34m.\u001b[0m\u001b[0mget_loc\u001b[0m\u001b[0;34m(\u001b[0m\u001b[0mcasted_key\u001b[0m\u001b[0;34m)\u001b[0m\u001b[0;34m\u001b[0m\u001b[0;34m\u001b[0m\u001b[0m\n\u001b[0m\u001b[1;32m   3803\u001b[0m             \u001b[0;32mexcept\u001b[0m \u001b[0mKeyError\u001b[0m \u001b[0;32mas\u001b[0m \u001b[0merr\u001b[0m\u001b[0;34m:\u001b[0m\u001b[0;34m\u001b[0m\u001b[0;34m\u001b[0m\u001b[0m\n",
            "\u001b[0;32m/usr/local/lib/python3.10/dist-packages/pandas/_libs/index.pyx\u001b[0m in \u001b[0;36mpandas._libs.index.IndexEngine.get_loc\u001b[0;34m()\u001b[0m\n",
            "\u001b[0;32m/usr/local/lib/python3.10/dist-packages/pandas/_libs/index.pyx\u001b[0m in \u001b[0;36mpandas._libs.index.IndexEngine.get_loc\u001b[0;34m()\u001b[0m\n",
            "\u001b[0;32mpandas/_libs/hashtable_class_helper.pxi\u001b[0m in \u001b[0;36mpandas._libs.hashtable.PyObjectHashTable.get_item\u001b[0;34m()\u001b[0m\n",
            "\u001b[0;32mpandas/_libs/hashtable_class_helper.pxi\u001b[0m in \u001b[0;36mpandas._libs.hashtable.PyObjectHashTable.get_item\u001b[0;34m()\u001b[0m\n",
            "\u001b[0;31mKeyError\u001b[0m: 'Coord Y'",
            "\nThe above exception was the direct cause of the following exception:\n",
            "\u001b[0;31mKeyError\u001b[0m                                  Traceback (most recent call last)",
            "\u001b[0;32m<ipython-input-54-43839ce86880>\u001b[0m in \u001b[0;36m<cell line: 1>\u001b[0;34m()\u001b[0m\n\u001b[0;32m----> 1\u001b[0;31m np.random.choice(segs[(segs['Coord Y']<-50)&\n\u001b[0m\u001b[1;32m      2\u001b[0m      \u001b[0;34m(\u001b[0m\u001b[0msegs\u001b[0m\u001b[0;34m[\u001b[0m\u001b[0;34m'Coord Y'\u001b[0m\u001b[0;34m]\u001b[0m\u001b[0;34m>\u001b[0m\u001b[0;34m-\u001b[0m\u001b[0;36m100\u001b[0m\u001b[0;34m)\u001b[0m\u001b[0;34m&\u001b[0m\u001b[0;34m\u001b[0m\u001b[0;34m\u001b[0m\u001b[0m\n\u001b[1;32m      3\u001b[0m      \u001b[0;34m(\u001b[0m\u001b[0msegs\u001b[0m\u001b[0;34m[\u001b[0m\u001b[0;34m'Coord X'\u001b[0m\u001b[0;34m]\u001b[0m\u001b[0;34m>\u001b[0m\u001b[0;34m-\u001b[0m\u001b[0;36m50\u001b[0m\u001b[0;34m)\u001b[0m\u001b[0;34m&\u001b[0m\u001b[0;34m\u001b[0m\u001b[0;34m\u001b[0m\u001b[0m\n\u001b[1;32m      4\u001b[0m      \u001b[0;34m(\u001b[0m\u001b[0msegs\u001b[0m\u001b[0;34m[\u001b[0m\u001b[0;34m'Coord X'\u001b[0m\u001b[0;34m]\u001b[0m\u001b[0;34m<\u001b[0m\u001b[0;36m50\u001b[0m\u001b[0;34m)\u001b[0m\u001b[0;34m&\u001b[0m\u001b[0;34m\u001b[0m\u001b[0;34m\u001b[0m\u001b[0m\n\u001b[1;32m      5\u001b[0m      (segs['Type']=='dend')]['segmentID'])\n",
            "\u001b[0;32m/usr/local/lib/python3.10/dist-packages/pandas/core/frame.py\u001b[0m in \u001b[0;36m__getitem__\u001b[0;34m(self, key)\u001b[0m\n\u001b[1;32m   3805\u001b[0m             \u001b[0;32mif\u001b[0m \u001b[0mself\u001b[0m\u001b[0;34m.\u001b[0m\u001b[0mcolumns\u001b[0m\u001b[0;34m.\u001b[0m\u001b[0mnlevels\u001b[0m \u001b[0;34m>\u001b[0m \u001b[0;36m1\u001b[0m\u001b[0;34m:\u001b[0m\u001b[0;34m\u001b[0m\u001b[0;34m\u001b[0m\u001b[0m\n\u001b[1;32m   3806\u001b[0m                 \u001b[0;32mreturn\u001b[0m \u001b[0mself\u001b[0m\u001b[0;34m.\u001b[0m\u001b[0m_getitem_multilevel\u001b[0m\u001b[0;34m(\u001b[0m\u001b[0mkey\u001b[0m\u001b[0;34m)\u001b[0m\u001b[0;34m\u001b[0m\u001b[0;34m\u001b[0m\u001b[0m\n\u001b[0;32m-> 3807\u001b[0;31m             \u001b[0mindexer\u001b[0m \u001b[0;34m=\u001b[0m \u001b[0mself\u001b[0m\u001b[0;34m.\u001b[0m\u001b[0mcolumns\u001b[0m\u001b[0;34m.\u001b[0m\u001b[0mget_loc\u001b[0m\u001b[0;34m(\u001b[0m\u001b[0mkey\u001b[0m\u001b[0;34m)\u001b[0m\u001b[0;34m\u001b[0m\u001b[0;34m\u001b[0m\u001b[0m\n\u001b[0m\u001b[1;32m   3808\u001b[0m             \u001b[0;32mif\u001b[0m \u001b[0mis_integer\u001b[0m\u001b[0;34m(\u001b[0m\u001b[0mindexer\u001b[0m\u001b[0;34m)\u001b[0m\u001b[0;34m:\u001b[0m\u001b[0;34m\u001b[0m\u001b[0;34m\u001b[0m\u001b[0m\n\u001b[1;32m   3809\u001b[0m                 \u001b[0mindexer\u001b[0m \u001b[0;34m=\u001b[0m \u001b[0;34m[\u001b[0m\u001b[0mindexer\u001b[0m\u001b[0;34m]\u001b[0m\u001b[0;34m\u001b[0m\u001b[0;34m\u001b[0m\u001b[0m\n",
            "\u001b[0;32m/usr/local/lib/python3.10/dist-packages/pandas/core/indexes/base.py\u001b[0m in \u001b[0;36mget_loc\u001b[0;34m(self, key, method, tolerance)\u001b[0m\n\u001b[1;32m   3802\u001b[0m                 \u001b[0;32mreturn\u001b[0m \u001b[0mself\u001b[0m\u001b[0;34m.\u001b[0m\u001b[0m_engine\u001b[0m\u001b[0;34m.\u001b[0m\u001b[0mget_loc\u001b[0m\u001b[0;34m(\u001b[0m\u001b[0mcasted_key\u001b[0m\u001b[0;34m)\u001b[0m\u001b[0;34m\u001b[0m\u001b[0;34m\u001b[0m\u001b[0m\n\u001b[1;32m   3803\u001b[0m             \u001b[0;32mexcept\u001b[0m \u001b[0mKeyError\u001b[0m \u001b[0;32mas\u001b[0m \u001b[0merr\u001b[0m\u001b[0;34m:\u001b[0m\u001b[0;34m\u001b[0m\u001b[0;34m\u001b[0m\u001b[0m\n\u001b[0;32m-> 3804\u001b[0;31m                 \u001b[0;32mraise\u001b[0m \u001b[0mKeyError\u001b[0m\u001b[0;34m(\u001b[0m\u001b[0mkey\u001b[0m\u001b[0;34m)\u001b[0m \u001b[0;32mfrom\u001b[0m \u001b[0merr\u001b[0m\u001b[0;34m\u001b[0m\u001b[0;34m\u001b[0m\u001b[0m\n\u001b[0m\u001b[1;32m   3805\u001b[0m             \u001b[0;32mexcept\u001b[0m \u001b[0mTypeError\u001b[0m\u001b[0;34m:\u001b[0m\u001b[0;34m\u001b[0m\u001b[0;34m\u001b[0m\u001b[0m\n\u001b[1;32m   3806\u001b[0m                 \u001b[0;31m# If we have a listlike key, _check_indexing_error will raise\u001b[0m\u001b[0;34m\u001b[0m\u001b[0;34m\u001b[0m\u001b[0m\n",
            "\u001b[0;31mKeyError\u001b[0m: 'Coord Y'"
          ]
        }
      ],
      "source": [
        "np.random.choice(segs[(segs['p0.5 y3d']<-50)&\n",
        "     (segs['p0.5 y3d']>-100)&\n",
        "     (segs['p0.5 x3d']>-50)&\n",
        "     (segs['p0.5 x3d']<50)&\n",
        "     (segs['Type']=='dend')]['segmentID'])"
      ]
    },
    {
      "cell_type": "markdown",
      "metadata": {
        "id": "mUUMQV414val"
      },
      "source": [
        "## Plotting morphology as heat maps"
      ]
    },
    {
      "cell_type": "code",
      "execution_count": 70,
      "metadata": {
        "id": "Vnjms8KJ4val",
        "colab": {
          "base_uri": "https://localhost:8080/",
          "height": 814
        },
        "outputId": "24946dbd-e825-41e1-82be-0a894edde0f8"
      },
      "outputs": [
        {
          "output_type": "display_data",
          "data": {
            "text/plain": [
              "<Figure size 400x1000 with 2 Axes>"
            ],
            "image/png": "[encoded data removed]"
          },
          "metadata": {}
        }
      ],
      "source": [
        "plt.figure(figsize=(4,10))\n",
        "ax = plt.scatter(segs['p0.5 x3d'], segs['p0.5 y3d'],c=100*segs['Elec_distance'],s=4,cmap='jet', norm='log')\n",
        "plt.vlines(110,400,500)\n",
        "plt.text(0,450,'100 um')\n",
        "plt.hlines(400,110,210)\n",
        "plt.text(110,350,'100 um')\n",
        "plt.xticks([])\n",
        "plt.yticks([])\n",
        "cbar = plt.colorbar()\n",
        "cbar.ax.set_ylabel('Percentage of Somatic signal', rotation=270)\n",
        "\n",
        "#ax2.ax.set_title('log(elec_distance)',rotation=270)\n",
        "plt.box(False)\n",
        "plt.savefig(output_folder+'/Elec_distance.png')"
      ]
    },
    {
      "cell_type": "markdown",
      "metadata": {
        "id": "tJFXhTRg4val"
      },
      "source": [
        "## Plotting morphology and voltage traces"
      ]
    },
    {
      "cell_type": "code",
      "execution_count": null,
      "metadata": {
        "id": "PWAxSjgM4vam"
      },
      "outputs": [],
      "source": [
        "# x = ca_df[~pd.isnull(ca_df.ca_lower_bound)].reset_index()\n",
        "# i = np.random.choice(x.index)"
      ]
    },
    {
      "cell_type": "code",
      "execution_count": 56,
      "metadata": {
        "id": "8mkUlMNO4van"
      },
      "outputs": [],
      "source": [
        "ca_df.reset_index(inplace=True)"
      ]
    },
    {
      "cell_type": "code",
      "execution_count": 57,
      "metadata": {
        "id": "jjypwBwsjbTg",
        "colab": {
          "base_uri": "https://localhost:8080/",
          "height": 423
        },
        "outputId": "e89ddd78-4a3b-4e85-be3e-320cc9e52bc3"
      },
      "outputs": [
        {
          "output_type": "execute_result",
          "data": {
            "text/plain": [
              "     index segmentID ca_lower_bound  ca_upper_bound       mag\n",
              "0        0       122             88           336.0 -0.919103\n",
              "1        1       122           1980          2442.0 -1.020238\n",
              "2        2       122           3199          3450.0 -0.516013\n",
              "3        3       122           4296          4699.0 -0.845217\n",
              "4        4       122           5655          6221.0 -0.514827\n",
              "..     ...       ...            ...             ...       ...\n",
              "280     15       159          15759         16031.0 -0.029868\n",
              "281     16       159          16281         17274.0 -0.114891\n",
              "282     17       159          17517         18398.0 -0.096829\n",
              "283     18       159          18531         18708.0 -0.017145\n",
              "284     19       159          18803         19313.0 -0.063681\n",
              "\n",
              "[285 rows x 5 columns]"
            ],
            "text/html": [
              "\n",
              "  <div id=\"df-11f5e364-306c-4c65-a569-04b5043c3e97\">\n",
              "    <div class=\"colab-df-container\">\n",
              "      <div>\n",
              "<style scoped>\n",
              "    .dataframe tbody tr th:only-of-type {\n",
              "        vertical-align: middle;\n",
              "    }\n",
              "\n",
              "    .dataframe tbody tr th {\n",
              "        vertical-align: top;\n",
              "    }\n",
              "\n",
              "    .dataframe thead th {\n",
              "        text-align: right;\n",
              "    }\n",
              "</style>\n",
              "<table border=\"1\" class=\"dataframe\">\n",
              "  <thead>\n",
              "    <tr style=\"text-align: right;\">\n",
              "      <th></th>\n",
              "      <th>index</th>\n",
              "      <th>segmentID</th>\n",
              "      <th>ca_lower_bound</th>\n",
              "      <th>ca_upper_bound</th>\n",
              "      <th>mag</th>\n",
              "    </tr>\n",
              "  </thead>\n",
              "  <tbody>\n",
              "    <tr>\n",
              "      <th>0</th>\n",
              "      <td>0</td>\n",
              "      <td>122</td>\n",
              "      <td>88</td>\n",
              "      <td>336.0</td>\n",
              "      <td>-0.919103</td>\n",
              "    </tr>\n",
              "    <tr>\n",
              "      <th>1</th>\n",
              "      <td>1</td>\n",
              "      <td>122</td>\n",
              "      <td>1980</td>\n",
              "      <td>2442.0</td>\n",
              "      <td>-1.020238</td>\n",
              "    </tr>\n",
              "    <tr>\n",
              "      <th>2</th>\n",
              "      <td>2</td>\n",
              "      <td>122</td>\n",
              "      <td>3199</td>\n",
              "      <td>3450.0</td>\n",
              "      <td>-0.516013</td>\n",
              "    </tr>\n",
              "    <tr>\n",
              "      <th>3</th>\n",
              "      <td>3</td>\n",
              "      <td>122</td>\n",
              "      <td>4296</td>\n",
              "      <td>4699.0</td>\n",
              "      <td>-0.845217</td>\n",
              "    </tr>\n",
              "    <tr>\n",
              "      <th>4</th>\n",
              "      <td>4</td>\n",
              "      <td>122</td>\n",
              "      <td>5655</td>\n",
              "      <td>6221.0</td>\n",
              "      <td>-0.514827</td>\n",
              "    </tr>\n",
              "    <tr>\n",
              "      <th>...</th>\n",
              "      <td>...</td>\n",
              "      <td>...</td>\n",
              "      <td>...</td>\n",
              "      <td>...</td>\n",
              "      <td>...</td>\n",
              "    </tr>\n",
              "    <tr>\n",
              "      <th>280</th>\n",
              "      <td>15</td>\n",
              "      <td>159</td>\n",
              "      <td>15759</td>\n",
              "      <td>16031.0</td>\n",
              "      <td>-0.029868</td>\n",
              "    </tr>\n",
              "    <tr>\n",
              "      <th>281</th>\n",
              "      <td>16</td>\n",
              "      <td>159</td>\n",
              "      <td>16281</td>\n",
              "      <td>17274.0</td>\n",
              "      <td>-0.114891</td>\n",
              "    </tr>\n",
              "    <tr>\n",
              "      <th>282</th>\n",
              "      <td>17</td>\n",
              "      <td>159</td>\n",
              "      <td>17517</td>\n",
              "      <td>18398.0</td>\n",
              "      <td>-0.096829</td>\n",
              "    </tr>\n",
              "    <tr>\n",
              "      <th>283</th>\n",
              "      <td>18</td>\n",
              "      <td>159</td>\n",
              "      <td>18531</td>\n",
              "      <td>18708.0</td>\n",
              "      <td>-0.017145</td>\n",
              "    </tr>\n",
              "    <tr>\n",
              "      <th>284</th>\n",
              "      <td>19</td>\n",
              "      <td>159</td>\n",
              "      <td>18803</td>\n",
              "      <td>19313.0</td>\n",
              "      <td>-0.063681</td>\n",
              "    </tr>\n",
              "  </tbody>\n",
              "</table>\n",
              "<p>285 rows × 5 columns</p>\n",
              "</div>\n",
              "      <button class=\"colab-df-convert\" onclick=\"convertToInteractive('df-11f5e364-306c-4c65-a569-04b5043c3e97')\"\n",
              "              title=\"Convert this dataframe to an interactive table.\"\n",
              "              style=\"display:none;\">\n",
              "        \n",
              "  <svg xmlns=\"http://www.w3.org/2000/svg\" height=\"24px\"viewBox=\"0 0 24 24\"\n",
              "       width=\"24px\">\n",
              "    <path d=\"M0 0h24v24H0V0z\" fill=\"none\"/>\n",
              "    <path d=\"M18.56 5.44l.94 2.06.94-2.06 2.06-.94-2.06-.94-.94-2.06-.94 2.06-2.06.94zm-11 1L8.5 8.5l.94-2.06 2.06-.94-2.06-.94L8.5 2.5l-.94 2.06-2.06.94zm10 10l.94 2.06.94-2.06 2.06-.94-2.06-.94-.94-2.06-.94 2.06-2.06.94z\"/><path d=\"M17.41 7.96l-1.37-1.37c-.4-.4-.92-.59-1.43-.59-.52 0-1.04.2-1.43.59L10.3 9.45l-7.72 7.72c-.78.78-.78 2.05 0 2.83L4 21.41c.39.39.9.59 1.41.59.51 0 1.02-.2 1.41-.59l7.78-7.78 2.81-2.81c.8-.78.8-2.07 0-2.86zM5.41 20L4 18.59l7.72-7.72 1.47 1.35L5.41 20z\"/>\n",
              "  </svg>\n",
              "      </button>\n",
              "      \n",
              "  <style>\n",
              "    .colab-df-container {\n",
              "      display:flex;\n",
              "      flex-wrap:wrap;\n",
              "      gap: 12px;\n",
              "    }\n",
              "\n",
              "    .colab-df-convert {\n",
              "      background-color: #E8F0FE;\n",
              "      border: none;\n",
              "      border-radius: 50%;\n",
              "      cursor: pointer;\n",
              "      display: none;\n",
              "      fill: #1967D2;\n",
              "      height: 32px;\n",
              "      padding: 0 0 0 0;\n",
              "      width: 32px;\n",
              "    }\n",
              "\n",
              "    .colab-df-convert:hover {\n",
              "      background-color: #E2EBFA;\n",
              "      box-shadow: 0px 1px 2px rgba(60, 64, 67, 0.3), 0px 1px 3px 1px rgba(60, 64, 67, 0.15);\n",
              "      fill: #174EA6;\n",
              "    }\n",
              "\n",
              "    [theme=dark] .colab-df-convert {\n",
              "      background-color: #3B4455;\n",
              "      fill: #D2E3FC;\n",
              "    }\n",
              "\n",
              "    [theme=dark] .colab-df-convert:hover {\n",
              "      background-color: #434B5C;\n",
              "      box-shadow: 0px 1px 3px 1px rgba(0, 0, 0, 0.15);\n",
              "      filter: drop-shadow(0px 1px 2px rgba(0, 0, 0, 0.3));\n",
              "      fill: #FFFFFF;\n",
              "    }\n",
              "  </style>\n",
              "\n",
              "      <script>\n",
              "        const buttonEl =\n",
              "          document.querySelector('#df-11f5e364-306c-4c65-a569-04b5043c3e97 button.colab-df-convert');\n",
              "        buttonEl.style.display =\n",
              "          google.colab.kernel.accessAllowed ? 'block' : 'none';\n",
              "\n",
              "        async function convertToInteractive(key) {\n",
              "          const element = document.querySelector('#df-11f5e364-306c-4c65-a569-04b5043c3e97');\n",
              "          const dataTable =\n",
              "            await google.colab.kernel.invokeFunction('convertToInteractive',\n",
              "                                                     [key], {});\n",
              "          if (!dataTable) return;\n",
              "\n",
              "          const docLinkHtml = 'Like what you see? Visit the ' +\n",
              "            '<a target=\"_blank\" href=https://colab.research.google.com/notebooks/data_table.ipynb>data table notebook</a>'\n",
              "            + ' to learn more about interactive tables.';\n",
              "          element.innerHTML = '';\n",
              "          dataTable['output_type'] = 'display_data';\n",
              "          await google.colab.output.renderOutput(dataTable, element);\n",
              "          const docLink = document.createElement('div');\n",
              "          docLink.innerHTML = docLinkHtml;\n",
              "          element.appendChild(docLink);\n",
              "        }\n",
              "      </script>\n",
              "    </div>\n",
              "  </div>\n",
              "  "
            ]
          },
          "metadata": {},
          "execution_count": 57
        }
      ],
      "source": [
        "ca_df"
      ]
    },
    {
      "cell_type": "code",
      "execution_count": 60,
      "metadata": {
        "id": "dtBzzaBz4van"
      },
      "outputs": [],
      "source": [
        "for i in np.random.choice(ca_df[(ca_df.ca_lower_bound>20) & (ca_df.ca_lower_bound<1400000)].index,100):\n",
        "    seg = ca_df.loc[i,'segmentID']\n",
        "    if not pd.isnull(ca_df.loc[i,'ca_lower_bound']):\n",
        "        spkt = int(ca_df.loc[i,'ca_lower_bound'])\n",
        "        if spkt>100:\n",
        "\n",
        "          trace = -(icah[spkt-100:spkt+200,seg] + \\\n",
        "                  ical[spkt-100:spkt+200,seg] + \\\n",
        "                  ih[spkt-100:spkt+200,seg])\n",
        "          try:\n",
        "            peak_value = np.max(trace) # may recieve error here if trace is empty. in that case, check segmentID and seg\n",
        "          except:\n",
        "            pdb.set_trace()\n",
        "          half_peak = peak_value/2\n",
        "          duration = np.arange(0,300)[trace>half_peak] + spkt - 10\n",
        "          ca_df.loc[i,'duration_low'] = duration[0]\n",
        "          ca_df.loc[i,'duration_high'] = duration[-1]\n",
        "          ca_df.loc[i,'peak_value'] = peak_value\n",
        "    else:\n",
        "        ca_df.loc[i,'duration_low'] = np.nan\n",
        "        ca_df.loc[i,'duration_high'] = np.nan\n",
        "        ca_df.loc[i,'peak_value'] = np.nan"
      ]
    },
    {
      "cell_type": "markdown",
      "metadata": {
        "id": "HBev4JNL4vao"
      },
      "source": [
        "----------"
      ]
    },
    {
      "cell_type": "code",
      "execution_count": 61,
      "metadata": {
        "id": "R71f8PX94vao"
      },
      "outputs": [],
      "source": [
        "segs_ca_df = segs.set_index('segmentID').join(ca_df.set_index('segmentID')).reset_index()"
      ]
    },
    {
      "cell_type": "code",
      "execution_count": null,
      "metadata": {
        "id": "iqcIqkju9z_g"
      },
      "outputs": [],
      "source": [
        "# segs_ca_df['logElec_distance']=np.log(segs_ca_df['Elec_distance'])"
      ]
    },
    {
      "cell_type": "code",
      "execution_count": 71,
      "metadata": {
        "id": "LyMAEk3i4vao"
      },
      "outputs": [],
      "source": [
        "def get_ca_sta(segs_ca_df, spktimes):\n",
        "\n",
        "    ca_apic = np.zeros((10,27,))\n",
        "\n",
        "    edges_apic=np.quantile(segs_ca_df[(~pd.isnull(segs_ca_df.ca_lower_bound))&\n",
        "                                       (segs_ca_df.Type=='apic')]['Elec_distance'].unique(),np.arange(0,1.1,0.1)) #split apical segments into 10 groups with equally spaced electrotonic distance\n",
        "\n",
        "\n",
        "\n",
        "    actual_spktimes = []\n",
        "    c = 0\n",
        "    for i in np.sort(spktimes):\n",
        "        # excludes bursts\n",
        "        if i-c > 10:\n",
        "            for e in np.arange(0,10):\n",
        "                ca_inds = segs_ca_df[(~pd.isnull(segs_ca_df.ca_lower_bound))&\n",
        "                                     (segs_ca_df.Type=='apic')&\n",
        "                                     (segs_ca_df.Elec_distance>edges_apic[e])&\n",
        "                                     (segs_ca_df.Elec_distance<=edges_apic[e+1])]['ca_lower_bound'].values.astype(int) #get spikes within the electrotonic distance groups\n",
        "\n",
        "                x2, _ = np.histogram(ca_inds/10,bins=np.arange(np.floor(i)-100,np.floor(i)+40,5)) #bin the spikes based on time\n",
        "                ca_apic[e] += x2\n",
        "\n",
        "\n",
        "\n",
        "            actual_spktimes.append(i)\n",
        "        c = i\n",
        "    return ca_apic"
      ]
    },
    {
      "cell_type": "code",
      "execution_count": 72,
      "metadata": {
        "id": "kQYQ-85F4vao"
      },
      "outputs": [],
      "source": [
        "ca_apic = get_ca_sta(segs_ca_df, spiketimes)"
      ]
    },
    {
      "cell_type": "code",
      "execution_count": 73,
      "metadata": {
        "id": "Yl3731-G4vao"
      },
      "outputs": [],
      "source": [
        "rand_spktimes = np.sort(np.random.choice(np.arange(0,150000), spiketimes.shape[0]))\n",
        "ca_apic_rand = get_ca_sta(segs_ca_df, rand_spktimes)"
      ]
    },
    {
      "cell_type": "code",
      "execution_count": 74,
      "metadata": {
        "id": "n5K1ytuF4vao",
        "colab": {
          "base_uri": "https://localhost:8080/",
          "height": 395
        },
        "outputId": "11b2d465-3ae1-4771-df23-a77226a63f9e"
      },
      "outputs": [
        {
          "output_type": "display_data",
          "data": {
            "text/plain": [
              "<Figure size 1000x1000 with 2 Axes>"
            ],
            "image/png": "[encoded data removed]"
          },
          "metadata": {}
        }
      ],
      "source": [
        "plt.figure(figsize=(10,10))\n",
        "plt.subplot(2,1,1)\n",
        "plt.title('Ca2+ Spikes - Nexus')\n",
        "plt.imshow((ca_apic-ca_apic_rand)/len(spiketimes),cmap='jet')\n",
        "# plt.imshow((ca_apic-ca_apic_rand)/len(spktimes),cmap='jet',vmin=-1.5,vmax=1.5)\n",
        "# plt.imshow((ca_apic-ca_apic_rand)/len(spiketimes),cmap='jet',vmin=None,vmax=None)\n",
        "# plt.xticks(ticks=np.arange(0,40,2)-0.5,labels=['{}'.format(i) for i in np.arange(-20,20,2)])\n",
        "plt.xticks(ticks=np.arange(0,26,4)-0.5,labels=['{}'.format(i) for i in np.arange(-100,40,20)])\n",
        "plt.colorbar(label='Additional events per AP')\n",
        "# plt.yticks(ticks=[0,9],labels=['further','closer'])\n",
        "plt.yticks(ticks=[0,9],labels=['further','closer'])\n",
        "plt.savefig(output_folder+'/DetailedCaSpikes.png')\n",
        "plt.show()"
      ]
    },
    {
      "cell_type": "markdown",
      "metadata": {
        "id": "Gng6B9sn4vao"
      },
      "source": [
        "----------------------"
      ]
    },
    {
      "cell_type": "code",
      "execution_count": null,
      "metadata": {
        "id": "BMeGyYxP4vao"
      },
      "outputs": [],
      "source": [
        "#apic_exc = segs_conns[(segs_conns['Source Population']=='exc_stim')&(segs_conns.Type=='apic')].groupby('segmentID')['Conductance'].sum().reset_index()\n",
        "\n",
        "#basal_exc = segs_conns[(segs_conns['Source Population']=='exc_stim')&(segs_conns.Type=='dend')].groupby('segmentID')['Conductance'].sum().reset_index()\n"
      ]
    },
    {
      "cell_type": "code",
      "execution_count": null,
      "metadata": {
        "id": "R7QuYb4C9z_h"
      },
      "outputs": [],
      "source": []
    },
    {
      "cell_type": "code",
      "execution_count": null,
      "metadata": {
        "id": "6Qva4P0Y9z_h"
      },
      "outputs": [],
      "source": []
    },
    {
      "cell_type": "code",
      "execution_count": 75,
      "metadata": {
        "id": "MfzXuS744vao"
      },
      "outputs": [],
      "source": [
        "nmda_df = pd.DataFrame(columns=['segmentID','nmda_lower_bound', 'nmda_upper_bound', 'mag'])\n",
        "for p in segs[(segs.Type=='dend')|(segs.Type=='apic')].index: #(segs.Type=='dend')|(segs.Type=='apic')\n",
        "    #print(p)\n",
        "    legit_uc = voltage_criterion(data=v[:,p],v_thresh=-40, time_thresh=260)[1]\n",
        "    legit_dc = voltage_criterion(data=v[:,p],v_thresh=-40, time_thresh=260)[-1]\n",
        "\n",
        "    legit_uc_iso = legit_uc\n",
        "\n",
        "    legit_dc_iso = legit_dc\n",
        "\n",
        "    #print(legit_uc)\n",
        "    #print(legit_dc)\n",
        "\n",
        "    if (len(legit_uc_iso)!=0) & (np.min(inmda[:,p])!=0):\n",
        "        bnds, sum_curr = current_criterion(legit_uc_iso=legit_uc_iso,\n",
        "                                           legit_dc_iso=legit_dc_iso,\n",
        "                                           p=p,\n",
        "                                           control_inmda=inmda)\n",
        "\n",
        "\n",
        "        # nmda_df = nmda_df.append(pd.DataFrame({'segmentID':np.tile(p,len(bnds)),\n",
        "        #                                        'nmda_lower_bound':np.array(bnds).reshape(-1,2)[:,0],\n",
        "        #                                        'nmda_upper_bound':np.array(bnds).reshape(-1,2)[:,1],\n",
        "        #                                        'mag':sum_curr}))\n",
        "        nmda_df = pd.concat([nmda_df,pd.DataFrame({'segmentID':np.tile(p,len(bnds)),\n",
        "                                               'nmda_lower_bound':np.array(bnds).reshape(-1,2)[:,0],\n",
        "                                               'nmda_upper_bound':np.array(bnds).reshape(-1,2)[:,1],\n",
        "                                               'mag':sum_curr})],axis=0, join='outer')\n",
        "        #print(nmda_df.mag)\n",
        "\n",
        "    else:\n",
        "        #print('else')\n",
        "        # nmda_df = nmda_df.append(pd.DataFrame({'segmentID':np.tile(p,1),\n",
        "        #                                        'nmda_lower_bound':np.nan,\n",
        "        #                                        'nmda_upper_bound':np.nan,\n",
        "        #                                        'mag':np.nan}))\n",
        "        nmda_df = pd.concat([nmda_df,pd.DataFrame({'segmentID':np.tile(p,1),\n",
        "                                               'nmda_lower_bound':np.nan,\n",
        "                                               'nmda_upper_bound':np.nan,\n",
        "                                               'mag':np.nan})],axis=0, join='outer')\n",
        "\n",
        "\n",
        "#display(nmda_df.mag.to_string())\n",
        "\n",
        "\n",
        "#min(nmda_df.mag)"
      ]
    },
    {
      "cell_type": "code",
      "source": [
        "nmda_df['duration'] = nmda_df['nmda_upper_bound'] - nmda_df['nmda_lower_bound']"
      ],
      "metadata": {
        "id": "shZXe81kDxZC"
      },
      "execution_count": 76,
      "outputs": []
    },
    {
      "cell_type": "code",
      "execution_count": null,
      "metadata": {
        "id": "aJjsh-nm4vao"
      },
      "outputs": [],
      "source": [
        "if save_dfs==True:\n",
        "    nmda_df.to_csv(output_folder+'/'+'nmda_df.csv')\n",
        "    nmda_df = pd.read_csv(output_folder+'/'+'nmda_df.csv')"
      ]
    },
    {
      "cell_type": "code",
      "execution_count": null,
      "metadata": {
        "id": "uIBW0Pcvm_9_"
      },
      "outputs": [],
      "source": [
        "#mda_df.mag <= -0.000000001"
      ]
    },
    {
      "cell_type": "code",
      "execution_count": null,
      "metadata": {
        "id": "K6VLU3bijMpa"
      },
      "outputs": [],
      "source": [
        "#segs_nmda_df[:]"
      ]
    },
    {
      "cell_type": "code",
      "execution_count": null,
      "metadata": {
        "id": "OmMMqHsd4vao"
      },
      "outputs": [],
      "source": [
        "#nmda_df.rename(columns={'seg_id':'segmentID'},inplace=True)"
      ]
    },
    {
      "cell_type": "code",
      "execution_count": 77,
      "metadata": {
        "id": "uV6HLncB4vao"
      },
      "outputs": [],
      "source": [
        "segs_nmda_df = segs.join(nmda_df.set_index('segmentID')).reset_index()"
      ]
    },
    {
      "cell_type": "code",
      "execution_count": 78,
      "metadata": {
        "id": "BelzXR-DaPcv",
        "colab": {
          "base_uri": "https://localhost:8080/",
          "height": 678
        },
        "outputId": "e8fbc6ba-bb62-42fe-dac5-32e862d1d938"
      },
      "outputs": [
        {
          "output_type": "execute_result",
          "data": {
            "text/plain": [
              "     index                            seg  seg index      p0 x3d     p0 y3d  \\\n",
              "3        3   L5PCtemplate[0].dend[2](0.5)          3  122.409150  46.734807   \n",
              "6        6   L5PCtemplate[0].dend[5](0.5)          6   81.836153  34.973080   \n",
              "7        6   L5PCtemplate[0].dend[5](0.5)          6   81.836153  34.973080   \n",
              "15      14  L5PCtemplate[0].dend[13](0.5)         14   80.492425 -24.000000   \n",
              "16      14  L5PCtemplate[0].dend[13](0.5)         14   80.492425 -24.000000   \n",
              "..     ...                            ...        ...         ...        ...   \n",
              "135     83  L5PCtemplate[0].dend[82](0.5)         83  -29.049999   9.438713   \n",
              "136     83  L5PCtemplate[0].dend[82](0.5)         83  -29.049999   9.438713   \n",
              "137     83  L5PCtemplate[0].dend[82](0.5)         83  -29.049999   9.438713   \n",
              "138     83  L5PCtemplate[0].dend[82](0.5)         83  -29.049999   9.438713   \n",
              "139     83  L5PCtemplate[0].dend[82](0.5)         83  -29.049999   9.438713   \n",
              "\n",
              "         p0 z3d    p0.5 x3d   p0.5 y3d    p0.5 z3d      p1 x3d  ...  \\\n",
              "3     47.312976  125.219392  65.340469  -26.140698  128.029634  ...   \n",
              "6    -37.586238  169.944181  -3.649640  -46.034921  258.052208  ...   \n",
              "7    -37.586238  169.944181  -3.649640  -46.034921  258.052208  ...   \n",
              "15   -88.793069  152.996014 -24.000000 -102.184145  225.499602  ...   \n",
              "16   -88.793069  152.996014 -24.000000 -102.184145  225.499602  ...   \n",
              "..          ...         ...        ...         ...         ...  ...   \n",
              "135 -140.770945  -29.049999 -28.704780  -84.747666  -29.049999  ...   \n",
              "136 -140.770945  -29.049999 -28.704780  -84.747666  -29.049999  ...   \n",
              "137 -140.770945  -29.049999 -28.704780  -84.747666  -29.049999  ...   \n",
              "138 -140.770945  -29.049999 -28.704780  -84.747666  -29.049999  ...   \n",
              "139 -140.770945  -29.049999 -28.704780  -84.747666  -29.049999  ...   \n",
              "\n",
              "                             netcon_SA_density_per_seg  Elec_distance  \\\n",
              "3    {'exc': 0.9510291497601382, 'inh': 0.174355344...       0.090679   \n",
              "6    {'exc': 1.1884863685616842, 'inh': 0.166010794...       0.072225   \n",
              "7    {'exc': 1.1884863685616842, 'inh': 0.166010794...       0.072225   \n",
              "15   {'exc': 1.0550426012490102, 'inh': 0.168806816...       0.028633   \n",
              "16   {'exc': 1.0550426012490102, 'inh': 0.168806816...       0.028633   \n",
              "..                                                 ...            ...   \n",
              "135  {'exc': 1.4170551106752627, 'inh': 0.178144071...       0.029419   \n",
              "136  {'exc': 1.4170551106752627, 'inh': 0.178144071...       0.029419   \n",
              "137  {'exc': 1.4170551106752627, 'inh': 0.178144071...       0.029419   \n",
              "138  {'exc': 1.4170551106752627, 'inh': 0.178144071...       0.029419   \n",
              "139  {'exc': 1.4170551106752627, 'inh': 0.178144071...       0.029419   \n",
              "\n",
              "     segmentID    Distance  Elec DistanceQ DistanceQ nmda_lower_bound  \\\n",
              "3            3  115.208601               3         7            11315   \n",
              "6            6  143.410543               2         9             1674   \n",
              "7            6  143.410543               2         9             3828   \n",
              "15          14  136.850509               0         8              994   \n",
              "16          14  136.850509               0         8             2790   \n",
              "..         ...         ...             ...       ...              ...   \n",
              "135         83  109.766651               0         6            10404   \n",
              "136         83  109.766651               0         6            10761   \n",
              "137         83  109.766651               0         6            11784   \n",
              "138         83  109.766651               0         6            14155   \n",
              "139         83  109.766651               0         6            19644   \n",
              "\n",
              "     nmda_upper_bound          mag  duration  \n",
              "3               11434 -1019.128878       119  \n",
              "6                1785  -974.033285       111  \n",
              "7                3989 -1728.538211       161  \n",
              "15               1346 -1298.386381       352  \n",
              "16               2843  -275.773091        53  \n",
              "..                ...          ...       ...  \n",
              "135             10493  -692.406878        89  \n",
              "136             10824  -421.266668        63  \n",
              "137             11809  -123.690245        25  \n",
              "138             14160   -37.885716         5  \n",
              "139             19648   -18.196191         4  \n",
              "\n",
              "[75 rows x 41 columns]"
            ],
            "text/html": [
              "\n",
              "  <div id=\"df-1962e210-181a-4282-9783-81eb229b2d28\">\n",
              "    <div class=\"colab-df-container\">\n",
              "      <div>\n",
              "<style scoped>\n",
              "    .dataframe tbody tr th:only-of-type {\n",
              "        vertical-align: middle;\n",
              "    }\n",
              "\n",
              "    .dataframe tbody tr th {\n",
              "        vertical-align: top;\n",
              "    }\n",
              "\n",
              "    .dataframe thead th {\n",
              "        text-align: right;\n",
              "    }\n",
              "</style>\n",
              "<table border=\"1\" class=\"dataframe\">\n",
              "  <thead>\n",
              "    <tr style=\"text-align: right;\">\n",
              "      <th></th>\n",
              "      <th>index</th>\n",
              "      <th>seg</th>\n",
              "      <th>seg index</th>\n",
              "      <th>p0 x3d</th>\n",
              "      <th>p0 y3d</th>\n",
              "      <th>p0 z3d</th>\n",
              "      <th>p0.5 x3d</th>\n",
              "      <th>p0.5 y3d</th>\n",
              "      <th>p0.5 z3d</th>\n",
              "      <th>p1 x3d</th>\n",
              "      <th>...</th>\n",
              "      <th>netcon_SA_density_per_seg</th>\n",
              "      <th>Elec_distance</th>\n",
              "      <th>segmentID</th>\n",
              "      <th>Distance</th>\n",
              "      <th>Elec DistanceQ</th>\n",
              "      <th>DistanceQ</th>\n",
              "      <th>nmda_lower_bound</th>\n",
              "      <th>nmda_upper_bound</th>\n",
              "      <th>mag</th>\n",
              "      <th>duration</th>\n",
              "    </tr>\n",
              "  </thead>\n",
              "  <tbody>\n",
              "    <tr>\n",
              "      <th>3</th>\n",
              "      <td>3</td>\n",
              "      <td>L5PCtemplate[0].dend[2](0.5)</td>\n",
              "      <td>3</td>\n",
              "      <td>122.409150</td>\n",
              "      <td>46.734807</td>\n",
              "      <td>47.312976</td>\n",
              "      <td>125.219392</td>\n",
              "      <td>65.340469</td>\n",
              "      <td>-26.140698</td>\n",
              "      <td>128.029634</td>\n",
              "      <td>...</td>\n",
              "      <td>{'exc': 0.9510291497601382, 'inh': 0.174355344...</td>\n",
              "      <td>0.090679</td>\n",
              "      <td>3</td>\n",
              "      <td>115.208601</td>\n",
              "      <td>3</td>\n",
              "      <td>7</td>\n",
              "      <td>11315</td>\n",
              "      <td>11434</td>\n",
              "      <td>-1019.128878</td>\n",
              "      <td>119</td>\n",
              "    </tr>\n",
              "    <tr>\n",
              "      <th>6</th>\n",
              "      <td>6</td>\n",
              "      <td>L5PCtemplate[0].dend[5](0.5)</td>\n",
              "      <td>6</td>\n",
              "      <td>81.836153</td>\n",
              "      <td>34.973080</td>\n",
              "      <td>-37.586238</td>\n",
              "      <td>169.944181</td>\n",
              "      <td>-3.649640</td>\n",
              "      <td>-46.034921</td>\n",
              "      <td>258.052208</td>\n",
              "      <td>...</td>\n",
              "      <td>{'exc': 1.1884863685616842, 'inh': 0.166010794...</td>\n",
              "      <td>0.072225</td>\n",
              "      <td>6</td>\n",
              "      <td>143.410543</td>\n",
              "      <td>2</td>\n",
              "      <td>9</td>\n",
              "      <td>1674</td>\n",
              "      <td>1785</td>\n",
              "      <td>-974.033285</td>\n",
              "      <td>111</td>\n",
              "    </tr>\n",
              "    <tr>\n",
              "      <th>7</th>\n",
              "      <td>6</td>\n",
              "      <td>L5PCtemplate[0].dend[5](0.5)</td>\n",
              "      <td>6</td>\n",
              "      <td>81.836153</td>\n",
              "      <td>34.973080</td>\n",
              "      <td>-37.586238</td>\n",
              "      <td>169.944181</td>\n",
              "      <td>-3.649640</td>\n",
              "      <td>-46.034921</td>\n",
              "      <td>258.052208</td>\n",
              "      <td>...</td>\n",
              "      <td>{'exc': 1.1884863685616842, 'inh': 0.166010794...</td>\n",
              "      <td>0.072225</td>\n",
              "      <td>6</td>\n",
              "      <td>143.410543</td>\n",
              "      <td>2</td>\n",
              "      <td>9</td>\n",
              "      <td>3828</td>\n",
              "      <td>3989</td>\n",
              "      <td>-1728.538211</td>\n",
              "      <td>161</td>\n",
              "    </tr>\n",
              "    <tr>\n",
              "      <th>15</th>\n",
              "      <td>14</td>\n",
              "      <td>L5PCtemplate[0].dend[13](0.5)</td>\n",
              "      <td>14</td>\n",
              "      <td>80.492425</td>\n",
              "      <td>-24.000000</td>\n",
              "      <td>-88.793069</td>\n",
              "      <td>152.996014</td>\n",
              "      <td>-24.000000</td>\n",
              "      <td>-102.184145</td>\n",
              "      <td>225.499602</td>\n",
              "      <td>...</td>\n",
              "      <td>{'exc': 1.0550426012490102, 'inh': 0.168806816...</td>\n",
              "      <td>0.028633</td>\n",
              "      <td>14</td>\n",
              "      <td>136.850509</td>\n",
              "      <td>0</td>\n",
              "      <td>8</td>\n",
              "      <td>994</td>\n",
              "      <td>1346</td>\n",
              "      <td>-1298.386381</td>\n",
              "      <td>352</td>\n",
              "    </tr>\n",
              "    <tr>\n",
              "      <th>16</th>\n",
              "      <td>14</td>\n",
              "      <td>L5PCtemplate[0].dend[13](0.5)</td>\n",
              "      <td>14</td>\n",
              "      <td>80.492425</td>\n",
              "      <td>-24.000000</td>\n",
              "      <td>-88.793069</td>\n",
              "      <td>152.996014</td>\n",
              "      <td>-24.000000</td>\n",
              "      <td>-102.184145</td>\n",
              "      <td>225.499602</td>\n",
              "      <td>...</td>\n",
              "      <td>{'exc': 1.0550426012490102, 'inh': 0.168806816...</td>\n",
              "      <td>0.028633</td>\n",
              "      <td>14</td>\n",
              "      <td>136.850509</td>\n",
              "      <td>0</td>\n",
              "      <td>8</td>\n",
              "      <td>2790</td>\n",
              "      <td>2843</td>\n",
              "      <td>-275.773091</td>\n",
              "      <td>53</td>\n",
              "    </tr>\n",
              "    <tr>\n",
              "      <th>...</th>\n",
              "      <td>...</td>\n",
              "      <td>...</td>\n",
              "      <td>...</td>\n",
              "      <td>...</td>\n",
              "      <td>...</td>\n",
              "      <td>...</td>\n",
              "      <td>...</td>\n",
              "      <td>...</td>\n",
              "      <td>...</td>\n",
              "      <td>...</td>\n",
              "      <td>...</td>\n",
              "      <td>...</td>\n",
              "      <td>...</td>\n",
              "      <td>...</td>\n",
              "      <td>...</td>\n",
              "      <td>...</td>\n",
              "      <td>...</td>\n",
              "      <td>...</td>\n",
              "      <td>...</td>\n",
              "      <td>...</td>\n",
              "      <td>...</td>\n",
              "    </tr>\n",
              "    <tr>\n",
              "      <th>135</th>\n",
              "      <td>83</td>\n",
              "      <td>L5PCtemplate[0].dend[82](0.5)</td>\n",
              "      <td>83</td>\n",
              "      <td>-29.049999</td>\n",
              "      <td>9.438713</td>\n",
              "      <td>-140.770945</td>\n",
              "      <td>-29.049999</td>\n",
              "      <td>-28.704780</td>\n",
              "      <td>-84.747666</td>\n",
              "      <td>-29.049999</td>\n",
              "      <td>...</td>\n",
              "      <td>{'exc': 1.4170551106752627, 'inh': 0.178144071...</td>\n",
              "      <td>0.029419</td>\n",
              "      <td>83</td>\n",
              "      <td>109.766651</td>\n",
              "      <td>0</td>\n",
              "      <td>6</td>\n",
              "      <td>10404</td>\n",
              "      <td>10493</td>\n",
              "      <td>-692.406878</td>\n",
              "      <td>89</td>\n",
              "    </tr>\n",
              "    <tr>\n",
              "      <th>136</th>\n",
              "      <td>83</td>\n",
              "      <td>L5PCtemplate[0].dend[82](0.5)</td>\n",
              "      <td>83</td>\n",
              "      <td>-29.049999</td>\n",
              "      <td>9.438713</td>\n",
              "      <td>-140.770945</td>\n",
              "      <td>-29.049999</td>\n",
              "      <td>-28.704780</td>\n",
              "      <td>-84.747666</td>\n",
              "      <td>-29.049999</td>\n",
              "      <td>...</td>\n",
              "      <td>{'exc': 1.4170551106752627, 'inh': 0.178144071...</td>\n",
              "      <td>0.029419</td>\n",
              "      <td>83</td>\n",
              "      <td>109.766651</td>\n",
              "      <td>0</td>\n",
              "      <td>6</td>\n",
              "      <td>10761</td>\n",
              "      <td>10824</td>\n",
              "      <td>-421.266668</td>\n",
              "      <td>63</td>\n",
              "    </tr>\n",
              "    <tr>\n",
              "      <th>137</th>\n",
              "      <td>83</td>\n",
              "      <td>L5PCtemplate[0].dend[82](0.5)</td>\n",
              "      <td>83</td>\n",
              "      <td>-29.049999</td>\n",
              "      <td>9.438713</td>\n",
              "      <td>-140.770945</td>\n",
              "      <td>-29.049999</td>\n",
              "      <td>-28.704780</td>\n",
              "      <td>-84.747666</td>\n",
              "      <td>-29.049999</td>\n",
              "      <td>...</td>\n",
              "      <td>{'exc': 1.4170551106752627, 'inh': 0.178144071...</td>\n",
              "      <td>0.029419</td>\n",
              "      <td>83</td>\n",
              "      <td>109.766651</td>\n",
              "      <td>0</td>\n",
              "      <td>6</td>\n",
              "      <td>11784</td>\n",
              "      <td>11809</td>\n",
              "      <td>-123.690245</td>\n",
              "      <td>25</td>\n",
              "    </tr>\n",
              "    <tr>\n",
              "      <th>138</th>\n",
              "      <td>83</td>\n",
              "      <td>L5PCtemplate[0].dend[82](0.5)</td>\n",
              "      <td>83</td>\n",
              "      <td>-29.049999</td>\n",
              "      <td>9.438713</td>\n",
              "      <td>-140.770945</td>\n",
              "      <td>-29.049999</td>\n",
              "      <td>-28.704780</td>\n",
              "      <td>-84.747666</td>\n",
              "      <td>-29.049999</td>\n",
              "      <td>...</td>\n",
              "      <td>{'exc': 1.4170551106752627, 'inh': 0.178144071...</td>\n",
              "      <td>0.029419</td>\n",
              "      <td>83</td>\n",
              "      <td>109.766651</td>\n",
              "      <td>0</td>\n",
              "      <td>6</td>\n",
              "      <td>14155</td>\n",
              "      <td>14160</td>\n",
              "      <td>-37.885716</td>\n",
              "      <td>5</td>\n",
              "    </tr>\n",
              "    <tr>\n",
              "      <th>139</th>\n",
              "      <td>83</td>\n",
              "      <td>L5PCtemplate[0].dend[82](0.5)</td>\n",
              "      <td>83</td>\n",
              "      <td>-29.049999</td>\n",
              "      <td>9.438713</td>\n",
              "      <td>-140.770945</td>\n",
              "      <td>-29.049999</td>\n",
              "      <td>-28.704780</td>\n",
              "      <td>-84.747666</td>\n",
              "      <td>-29.049999</td>\n",
              "      <td>...</td>\n",
              "      <td>{'exc': 1.4170551106752627, 'inh': 0.178144071...</td>\n",
              "      <td>0.029419</td>\n",
              "      <td>83</td>\n",
              "      <td>109.766651</td>\n",
              "      <td>0</td>\n",
              "      <td>6</td>\n",
              "      <td>19644</td>\n",
              "      <td>19648</td>\n",
              "      <td>-18.196191</td>\n",
              "      <td>4</td>\n",
              "    </tr>\n",
              "  </tbody>\n",
              "</table>\n",
              "<p>75 rows × 41 columns</p>\n",
              "</div>\n",
              "      <button class=\"colab-df-convert\" onclick=\"convertToInteractive('df-1962e210-181a-4282-9783-81eb229b2d28')\"\n",
              "              title=\"Convert this dataframe to an interactive table.\"\n",
              "              style=\"display:none;\">\n",
              "        \n",
              "  <svg xmlns=\"http://www.w3.org/2000/svg\" height=\"24px\"viewBox=\"0 0 24 24\"\n",
              "       width=\"24px\">\n",
              "    <path d=\"M0 0h24v24H0V0z\" fill=\"none\"/>\n",
              "    <path d=\"M18.56 5.44l.94 2.06.94-2.06 2.06-.94-2.06-.94-.94-2.06-.94 2.06-2.06.94zm-11 1L8.5 8.5l.94-2.06 2.06-.94-2.06-.94L8.5 2.5l-.94 2.06-2.06.94zm10 10l.94 2.06.94-2.06 2.06-.94-2.06-.94-.94-2.06-.94 2.06-2.06.94z\"/><path d=\"M17.41 7.96l-1.37-1.37c-.4-.4-.92-.59-1.43-.59-.52 0-1.04.2-1.43.59L10.3 9.45l-7.72 7.72c-.78.78-.78 2.05 0 2.83L4 21.41c.39.39.9.59 1.41.59.51 0 1.02-.2 1.41-.59l7.78-7.78 2.81-2.81c.8-.78.8-2.07 0-2.86zM5.41 20L4 18.59l7.72-7.72 1.47 1.35L5.41 20z\"/>\n",
              "  </svg>\n",
              "      </button>\n",
              "      \n",
              "  <style>\n",
              "    .colab-df-container {\n",
              "      display:flex;\n",
              "      flex-wrap:wrap;\n",
              "      gap: 12px;\n",
              "    }\n",
              "\n",
              "    .colab-df-convert {\n",
              "      background-color: #E8F0FE;\n",
              "      border: none;\n",
              "      border-radius: 50%;\n",
              "      cursor: pointer;\n",
              "      display: none;\n",
              "      fill: #1967D2;\n",
              "      height: 32px;\n",
              "      padding: 0 0 0 0;\n",
              "      width: 32px;\n",
              "    }\n",
              "\n",
              "    .colab-df-convert:hover {\n",
              "      background-color: #E2EBFA;\n",
              "      box-shadow: 0px 1px 2px rgba(60, 64, 67, 0.3), 0px 1px 3px 1px rgba(60, 64, 67, 0.15);\n",
              "      fill: #174EA6;\n",
              "    }\n",
              "\n",
              "    [theme=dark] .colab-df-convert {\n",
              "      background-color: #3B4455;\n",
              "      fill: #D2E3FC;\n",
              "    }\n",
              "\n",
              "    [theme=dark] .colab-df-convert:hover {\n",
              "      background-color: #434B5C;\n",
              "      box-shadow: 0px 1px 3px 1px rgba(0, 0, 0, 0.15);\n",
              "      filter: drop-shadow(0px 1px 2px rgba(0, 0, 0, 0.3));\n",
              "      fill: #FFFFFF;\n",
              "    }\n",
              "  </style>\n",
              "\n",
              "      <script>\n",
              "        const buttonEl =\n",
              "          document.querySelector('#df-1962e210-181a-4282-9783-81eb229b2d28 button.colab-df-convert');\n",
              "        buttonEl.style.display =\n",
              "          google.colab.kernel.accessAllowed ? 'block' : 'none';\n",
              "\n",
              "        async function convertToInteractive(key) {\n",
              "          const element = document.querySelector('#df-1962e210-181a-4282-9783-81eb229b2d28');\n",
              "          const dataTable =\n",
              "            await google.colab.kernel.invokeFunction('convertToInteractive',\n",
              "                                                     [key], {});\n",
              "          if (!dataTable) return;\n",
              "\n",
              "          const docLinkHtml = 'Like what you see? Visit the ' +\n",
              "            '<a target=\"_blank\" href=https://colab.research.google.com/notebooks/data_table.ipynb>data table notebook</a>'\n",
              "            + ' to learn more about interactive tables.';\n",
              "          element.innerHTML = '';\n",
              "          dataTable['output_type'] = 'display_data';\n",
              "          await google.colab.output.renderOutput(dataTable, element);\n",
              "          const docLink = document.createElement('div');\n",
              "          docLink.innerHTML = docLinkHtml;\n",
              "          element.appendChild(docLink);\n",
              "        }\n",
              "      </script>\n",
              "    </div>\n",
              "  </div>\n",
              "  "
            ]
          },
          "metadata": {},
          "execution_count": 78
        }
      ],
      "source": [
        "segs_nmda_df[(segs_nmda_df.mag<-0.0001)&\n",
        "                                  (segs_nmda_df.Type=='dend')]"
      ]
    },
    {
      "cell_type": "code",
      "execution_count": null,
      "metadata": {
        "id": "KqVpKnXVhEvv"
      },
      "outputs": [],
      "source": [
        "#min(segs_nmda_df.mag)"
      ]
    },
    {
      "cell_type": "code",
      "execution_count": null,
      "metadata": {
        "id": "daMclJ5hn1Sd"
      },
      "outputs": [],
      "source": [
        "#segs_nmda_df[(segs_nmda_df.mag<-0.0001)]"
      ]
    },
    {
      "cell_type": "code",
      "execution_count": 79,
      "metadata": {
        "id": "UERHIibr4vao"
      },
      "outputs": [],
      "source": [
        "def get_nmda_sta(segs_nmda_df, spktimes):\n",
        "    nmda_dend = np.zeros((10,27,))\n",
        "    nmda_apic = np.zeros((10,27,))\n",
        "\n",
        "    edges_dend=np.quantile(segs_nmda_df[(segs_nmda_df.mag<-0.0001)&\n",
        "                                  (segs_nmda_df.Type=='dend')]['Elec_distance'].unique(),np.arange(0,1.1,0.1))\n",
        "    edges_apic=np.quantile(segs_nmda_df[(segs_nmda_df.mag<-0.00001)&\n",
        "                                   (segs_nmda_df.Type=='apic')]['Elec_distance'].unique(),np.arange(0,1.1,0.1))\n",
        "\n",
        "    actual_spktimes = []\n",
        "    c = 0\n",
        "    for i in np.sort(spktimes):\n",
        "        # excludes bursts\n",
        "        if i-c > 10:\n",
        "            for e in np.arange(0,10):\n",
        "                nmda_inds = segs_nmda_df[(segs_nmda_df.mag<-0.0001)&\n",
        "                                     (segs_nmda_df.Type=='dend')&\n",
        "                                     (segs_nmda_df.Elec_distance>edges_dend[e])&\n",
        "                                     (segs_nmda_df.Elec_distance<=edges_dend[e+1])]['nmda_lower_bound'].values.astype(int)\n",
        "\n",
        "                x2, _ = np.histogram(nmda_inds/10,bins=np.arange(np.floor(i)-100,np.floor(i)+40,5))\n",
        "                nmda_dend[e] += x2\n",
        "\n",
        "                nmda_inds = segs_nmda_df[(segs_nmda_df.mag<-0.0001)&\n",
        "                                     (segs_nmda_df.Type=='apic')&\n",
        "                                     (segs_nmda_df.Elec_distance>edges_apic[e])&\n",
        "                                     (segs_nmda_df.Elec_distance<=edges_apic[e+1])]['nmda_lower_bound'].values.astype(int)\n",
        "\n",
        "                x2, _ = np.histogram(nmda_inds/10,bins=np.arange(np.floor(i)-100,np.floor(i)+40,5))\n",
        "                nmda_apic[e] += x2\n",
        "\n",
        "            actual_spktimes.append(i)\n",
        "        c = i\n",
        "\n",
        "    return nmda_dend, nmda_apic"
      ]
    },
    {
      "cell_type": "code",
      "execution_count": 80,
      "metadata": {
        "id": "tW8SvGK54vap"
      },
      "outputs": [],
      "source": [
        "nmda_dend, nmda_apic = get_nmda_sta(segs_nmda_df, spiketimes)"
      ]
    },
    {
      "cell_type": "code",
      "execution_count": 81,
      "metadata": {
        "id": "rwHm5TI-4vap"
      },
      "outputs": [],
      "source": [
        "rand_spktimes = np.sort(np.random.choice(np.arange(0,150000), spiketimes.shape[0]))"
      ]
    },
    {
      "cell_type": "code",
      "execution_count": 82,
      "metadata": {
        "id": "fWaFLebh4vap"
      },
      "outputs": [],
      "source": [
        "nmda_dend_rand, nmda_apic_rand = get_nmda_sta(segs_nmda_df, rand_spktimes)"
      ]
    },
    {
      "cell_type": "code",
      "execution_count": 84,
      "metadata": {
        "id": "Xn3bcESa4vap",
        "colab": {
          "base_uri": "https://localhost:8080/",
          "height": 828
        },
        "outputId": "cd3da529-096f-471a-b80b-f9c7e59f5e03"
      },
      "outputs": [
        {
          "output_type": "display_data",
          "data": {
            "text/plain": [
              "<Figure size 1000x1000 with 4 Axes>"
            ],
            "image/png": "[encoded data removed]"
          },
          "metadata": {}
        }
      ],
      "source": [
        "plt.figure(num=3,figsize=(10,10))\n",
        "plt.subplot(2,1,1)\n",
        "plt.title('NMDA spikes - apical')\n",
        "plt.imshow((nmda_apic-nmda_apic_rand)/len(spiketimes),cmap='jet')\n",
        "# plt.imshow((nmda_apic-nmda_apic_rand)/len(spktimes),cmap='jet',vmin=-0.6,vmax=0.6)\n",
        "plt.xticks(ticks=np.arange(0,26,4)-0.5,labels=['{}'.format(i) for i in np.arange(-100,40,20)])\n",
        "plt.yticks(ticks=[0,9],labels=['further','closer'])\n",
        "plt.yticks(ticks=[0,9],labels=[str(segs_nmda_df[segs_nmda_df.Type=='apic']['Elec_distance'].max()),str(segs_nmda_df[segs_nmda_df.Type=='apic']['Elec_distance'].min())])\n",
        "plt.colorbar(label='additional events per AP')\n",
        "plt.xlabel('time (ms)')\n",
        "plt.xlim(5,26)\n",
        "\n",
        "plt.subplot(2,1,2)\n",
        "plt.title('NMDA spikes - basal')\n",
        "plt.imshow((nmda_dend-nmda_dend_rand)/len(spiketimes),cmap='jet')\n",
        "# plt.imshow((nmda_dend-nmda_dend_rand)/len(spktimes),cmap='jet', vmin=-0.6, vmax=0.6)\n",
        "plt.xticks(ticks=np.arange(0,26,4)-0.5,labels=['{}'.format(i) for i in np.arange(-100,40,20)])\n",
        "plt.yticks(ticks=[0,9],labels=['further','closer'])\n",
        "plt.yticks(ticks=[0,9],labels=[str(segs_nmda_df[segs_nmda_df.Type=='dend']['Elec_distance'].max()),str(segs_nmda_df[segs_nmda_df.Type=='dend']['Elec_distance'].min())])\n",
        "plt.colorbar(label='additional events per AP')\n",
        "plt.xlim(5,26)\n",
        "\n",
        "plt.xlabel('time (ms)')\n",
        "plt.savefig(output_folder+'/NMDASpikes.png')\n",
        "plt.show(plt.figure(num=3)) #test"
      ]
    },
    {
      "cell_type": "code",
      "execution_count": 85,
      "metadata": {
        "id": "tRJwv3z0ZJuF",
        "colab": {
          "base_uri": "https://localhost:8080/"
        },
        "outputId": "1d273851-7a2d-424c-8beb-dd751558158b"
      },
      "outputs": [
        {
          "output_type": "execute_result",
          "data": {
            "text/plain": [
              "6652"
            ]
          },
          "metadata": {},
          "execution_count": 85
        }
      ],
      "source": [
        "sum(segs_nmda_df['segmentID'][segs_nmda_df.Type=='dend'])"
      ]
    },
    {
      "cell_type": "code",
      "execution_count": null,
      "metadata": {
        "id": "qjid5JcothuP"
      },
      "outputs": [],
      "source": [
        "segs.Type"
      ]
    },
    {
      "cell_type": "code",
      "execution_count": 87,
      "metadata": {
        "id": "kTTHWoHn9z_k",
        "colab": {
          "base_uri": "https://localhost:8080/",
          "height": 603
        },
        "outputId": "7b72d7fd-c4dc-4e56-eeb0-85ddbb1ee76e"
      },
      "outputs": [
        {
          "output_type": "stream",
          "name": "stderr",
          "text": [
            "<ipython-input-87-cf621ee1d578>:5: MatplotlibDeprecationWarning: The get_cmap function was deprecated in Matplotlib 3.7 and will be removed two minor releases later. Use ``matplotlib.colormaps[name]`` or ``matplotlib.colormaps.get_cmap(obj)`` instead.\n",
            "  cmap = matplotlib.cm.get_cmap('jet')\n"
          ]
        },
        {
          "output_type": "error",
          "ename": "KeyError",
          "evalue": "ignored",
          "traceback": [
            "\u001b[0;31m---------------------------------------------------------------------------\u001b[0m",
            "\u001b[0;31mKeyError\u001b[0m                                  Traceback (most recent call last)",
            "\u001b[0;32m/usr/local/lib/python3.10/dist-packages/pandas/core/indexes/base.py\u001b[0m in \u001b[0;36mget_loc\u001b[0;34m(self, key, method, tolerance)\u001b[0m\n\u001b[1;32m   3801\u001b[0m             \u001b[0;32mtry\u001b[0m\u001b[0;34m:\u001b[0m\u001b[0;34m\u001b[0m\u001b[0;34m\u001b[0m\u001b[0m\n\u001b[0;32m-> 3802\u001b[0;31m                 \u001b[0;32mreturn\u001b[0m \u001b[0mself\u001b[0m\u001b[0;34m.\u001b[0m\u001b[0m_engine\u001b[0m\u001b[0;34m.\u001b[0m\u001b[0mget_loc\u001b[0m\u001b[0;34m(\u001b[0m\u001b[0mcasted_key\u001b[0m\u001b[0;34m)\u001b[0m\u001b[0;34m\u001b[0m\u001b[0;34m\u001b[0m\u001b[0m\n\u001b[0m\u001b[1;32m   3803\u001b[0m             \u001b[0;32mexcept\u001b[0m \u001b[0mKeyError\u001b[0m \u001b[0;32mas\u001b[0m \u001b[0merr\u001b[0m\u001b[0;34m:\u001b[0m\u001b[0;34m\u001b[0m\u001b[0;34m\u001b[0m\u001b[0m\n",
            "\u001b[0;32m/usr/local/lib/python3.10/dist-packages/pandas/_libs/index.pyx\u001b[0m in \u001b[0;36mpandas._libs.index.IndexEngine.get_loc\u001b[0;34m()\u001b[0m\n",
            "\u001b[0;32m/usr/local/lib/python3.10/dist-packages/pandas/_libs/index.pyx\u001b[0m in \u001b[0;36mpandas._libs.index.IndexEngine.get_loc\u001b[0;34m()\u001b[0m\n",
            "\u001b[0;32mpandas/_libs/hashtable_class_helper.pxi\u001b[0m in \u001b[0;36mpandas._libs.hashtable.PyObjectHashTable.get_item\u001b[0;34m()\u001b[0m\n",
            "\u001b[0;32mpandas/_libs/hashtable_class_helper.pxi\u001b[0m in \u001b[0;36mpandas._libs.hashtable.PyObjectHashTable.get_item\u001b[0;34m()\u001b[0m\n",
            "\u001b[0;31mKeyError\u001b[0m: 'num_syns_exc'",
            "\nThe above exception was the direct cause of the following exception:\n",
            "\u001b[0;31mKeyError\u001b[0m                                  Traceback (most recent call last)",
            "\u001b[0;32m<ipython-input-87-cf621ee1d578>\u001b[0m in \u001b[0;36m<cell line: 38>\u001b[0;34m()\u001b[0m\n\u001b[1;32m     36\u001b[0m     \u001b[0mplt\u001b[0m\u001b[0;34m.\u001b[0m\u001b[0msavefig\u001b[0m\u001b[0;34m(\u001b[0m\u001b[0moutput_folder\u001b[0m\u001b[0;34m+\u001b[0m\u001b[0mstr\u001b[0m\u001b[0;34m(\u001b[0m\u001b[0mcolor_field\u001b[0m\u001b[0;34m)\u001b[0m\u001b[0;34m+\u001b[0m\u001b[0;34m'.png'\u001b[0m\u001b[0;34m)\u001b[0m\u001b[0;34m\u001b[0m\u001b[0;34m\u001b[0m\u001b[0m\n\u001b[1;32m     37\u001b[0m \u001b[0;34m\u001b[0m\u001b[0m\n\u001b[0;32m---> 38\u001b[0;31m \u001b[0mplot_colorfield\u001b[0m\u001b[0;34m(\u001b[0m\u001b[0mcolor_field\u001b[0m\u001b[0;34m=\u001b[0m\u001b[0;34m'num_syns_exc'\u001b[0m\u001b[0;34m,\u001b[0m\u001b[0mvmax\u001b[0m\u001b[0;34m=\u001b[0m\u001b[0;36m2.2\u001b[0m\u001b[0;34m,\u001b[0m\u001b[0mvmin\u001b[0m\u001b[0;34m=\u001b[0m\u001b[0;36m0\u001b[0m\u001b[0;34m,\u001b[0m\u001b[0mlw\u001b[0m\u001b[0;34m=\u001b[0m\u001b[0;36m5\u001b[0m\u001b[0;34m)\u001b[0m\u001b[0;34m\u001b[0m\u001b[0;34m\u001b[0m\u001b[0m\n\u001b[0m\u001b[1;32m     39\u001b[0m \u001b[0mplot_colorfield\u001b[0m\u001b[0;34m(\u001b[0m\u001b[0mcolor_field\u001b[0m\u001b[0;34m=\u001b[0m\u001b[0;34m'num_syns_inh'\u001b[0m\u001b[0;34m,\u001b[0m\u001b[0mvmax\u001b[0m\u001b[0;34m=\u001b[0m\u001b[0;36m0.3\u001b[0m\u001b[0;34m,\u001b[0m\u001b[0mvmin\u001b[0m\u001b[0;34m=\u001b[0m\u001b[0;36m0\u001b[0m\u001b[0;34m,\u001b[0m\u001b[0mlw\u001b[0m\u001b[0;34m=\u001b[0m\u001b[0;36m5\u001b[0m\u001b[0;34m)\u001b[0m\u001b[0;34m\u001b[0m\u001b[0;34m\u001b[0m\u001b[0m\n",
            "\u001b[0;32m<ipython-input-87-cf621ee1d578>\u001b[0m in \u001b[0;36mplot_colorfield\u001b[0;34m(color_field, vmin, vmax, lw)\u001b[0m\n\u001b[1;32m     10\u001b[0m         plt.plot(segs[(segs.Type=='apic')&(segs['sec index']==i)]['p0.5 x3d'],\n\u001b[1;32m     11\u001b[0m                 \u001b[0msegs\u001b[0m\u001b[0;34m[\u001b[0m\u001b[0;34m(\u001b[0m\u001b[0msegs\u001b[0m\u001b[0;34m.\u001b[0m\u001b[0mType\u001b[0m\u001b[0;34m==\u001b[0m\u001b[0;34m'apic'\u001b[0m\u001b[0;34m)\u001b[0m\u001b[0;34m&\u001b[0m\u001b[0;34m(\u001b[0m\u001b[0msegs\u001b[0m\u001b[0;34m[\u001b[0m\u001b[0;34m'sec index'\u001b[0m\u001b[0;34m]\u001b[0m\u001b[0;34m==\u001b[0m\u001b[0mi\u001b[0m\u001b[0;34m)\u001b[0m\u001b[0;34m]\u001b[0m\u001b[0;34m[\u001b[0m\u001b[0;34m'p0.5 y3d'\u001b[0m\u001b[0;34m]\u001b[0m\u001b[0;34m,\u001b[0m\u001b[0;34m\u001b[0m\u001b[0;34m\u001b[0m\u001b[0m\n\u001b[0;32m---> 12\u001b[0;31m                 \u001b[0mcolor\u001b[0m\u001b[0;34m=\u001b[0m\u001b[0mcmap\u001b[0m\u001b[0;34m(\u001b[0m\u001b[0mnorm\u001b[0m\u001b[0;34m(\u001b[0m\u001b[0msegs\u001b[0m\u001b[0;34m[\u001b[0m\u001b[0;34m(\u001b[0m\u001b[0msegs\u001b[0m\u001b[0;34m.\u001b[0m\u001b[0mType\u001b[0m\u001b[0;34m==\u001b[0m\u001b[0;34m'apic'\u001b[0m\u001b[0;34m)\u001b[0m\u001b[0;34m&\u001b[0m\u001b[0;34m(\u001b[0m\u001b[0msegs\u001b[0m\u001b[0;34m[\u001b[0m\u001b[0;34m'sec index'\u001b[0m\u001b[0;34m]\u001b[0m\u001b[0;34m==\u001b[0m\u001b[0mi\u001b[0m\u001b[0;34m)\u001b[0m\u001b[0;34m]\u001b[0m\u001b[0;34m[\u001b[0m\u001b[0mcolor_field\u001b[0m\u001b[0;34m]\u001b[0m\u001b[0;34m.\u001b[0m\u001b[0msum\u001b[0m\u001b[0;34m(\u001b[0m\u001b[0;34m)\u001b[0m\u001b[0;34m/\u001b[0m\u001b[0msection_L\u001b[0m\u001b[0;34m)\u001b[0m\u001b[0;34m)\u001b[0m\u001b[0;34m,\u001b[0m\u001b[0;34m\u001b[0m\u001b[0;34m\u001b[0m\u001b[0m\n\u001b[0m\u001b[1;32m     13\u001b[0m                 linewidth = lw*segs[(segs.Type=='apic')&(segs['sec index']==i)]['sec diam'].unique())\n\u001b[1;32m     14\u001b[0m \u001b[0;34m\u001b[0m\u001b[0m\n",
            "\u001b[0;32m/usr/local/lib/python3.10/dist-packages/pandas/core/frame.py\u001b[0m in \u001b[0;36m__getitem__\u001b[0;34m(self, key)\u001b[0m\n\u001b[1;32m   3805\u001b[0m             \u001b[0;32mif\u001b[0m \u001b[0mself\u001b[0m\u001b[0;34m.\u001b[0m\u001b[0mcolumns\u001b[0m\u001b[0;34m.\u001b[0m\u001b[0mnlevels\u001b[0m \u001b[0;34m>\u001b[0m \u001b[0;36m1\u001b[0m\u001b[0;34m:\u001b[0m\u001b[0;34m\u001b[0m\u001b[0;34m\u001b[0m\u001b[0m\n\u001b[1;32m   3806\u001b[0m                 \u001b[0;32mreturn\u001b[0m \u001b[0mself\u001b[0m\u001b[0;34m.\u001b[0m\u001b[0m_getitem_multilevel\u001b[0m\u001b[0;34m(\u001b[0m\u001b[0mkey\u001b[0m\u001b[0;34m)\u001b[0m\u001b[0;34m\u001b[0m\u001b[0;34m\u001b[0m\u001b[0m\n\u001b[0;32m-> 3807\u001b[0;31m             \u001b[0mindexer\u001b[0m \u001b[0;34m=\u001b[0m \u001b[0mself\u001b[0m\u001b[0;34m.\u001b[0m\u001b[0mcolumns\u001b[0m\u001b[0;34m.\u001b[0m\u001b[0mget_loc\u001b[0m\u001b[0;34m(\u001b[0m\u001b[0mkey\u001b[0m\u001b[0;34m)\u001b[0m\u001b[0;34m\u001b[0m\u001b[0;34m\u001b[0m\u001b[0m\n\u001b[0m\u001b[1;32m   3808\u001b[0m             \u001b[0;32mif\u001b[0m \u001b[0mis_integer\u001b[0m\u001b[0;34m(\u001b[0m\u001b[0mindexer\u001b[0m\u001b[0;34m)\u001b[0m\u001b[0;34m:\u001b[0m\u001b[0;34m\u001b[0m\u001b[0;34m\u001b[0m\u001b[0m\n\u001b[1;32m   3809\u001b[0m                 \u001b[0mindexer\u001b[0m \u001b[0;34m=\u001b[0m \u001b[0;34m[\u001b[0m\u001b[0mindexer\u001b[0m\u001b[0;34m]\u001b[0m\u001b[0;34m\u001b[0m\u001b[0;34m\u001b[0m\u001b[0m\n",
            "\u001b[0;32m/usr/local/lib/python3.10/dist-packages/pandas/core/indexes/base.py\u001b[0m in \u001b[0;36mget_loc\u001b[0;34m(self, key, method, tolerance)\u001b[0m\n\u001b[1;32m   3802\u001b[0m                 \u001b[0;32mreturn\u001b[0m \u001b[0mself\u001b[0m\u001b[0;34m.\u001b[0m\u001b[0m_engine\u001b[0m\u001b[0;34m.\u001b[0m\u001b[0mget_loc\u001b[0m\u001b[0;34m(\u001b[0m\u001b[0mcasted_key\u001b[0m\u001b[0;34m)\u001b[0m\u001b[0;34m\u001b[0m\u001b[0;34m\u001b[0m\u001b[0m\n\u001b[1;32m   3803\u001b[0m             \u001b[0;32mexcept\u001b[0m \u001b[0mKeyError\u001b[0m \u001b[0;32mas\u001b[0m \u001b[0merr\u001b[0m\u001b[0;34m:\u001b[0m\u001b[0;34m\u001b[0m\u001b[0;34m\u001b[0m\u001b[0m\n\u001b[0;32m-> 3804\u001b[0;31m                 \u001b[0;32mraise\u001b[0m \u001b[0mKeyError\u001b[0m\u001b[0;34m(\u001b[0m\u001b[0mkey\u001b[0m\u001b[0;34m)\u001b[0m \u001b[0;32mfrom\u001b[0m \u001b[0merr\u001b[0m\u001b[0;34m\u001b[0m\u001b[0;34m\u001b[0m\u001b[0m\n\u001b[0m\u001b[1;32m   3805\u001b[0m             \u001b[0;32mexcept\u001b[0m \u001b[0mTypeError\u001b[0m\u001b[0;34m:\u001b[0m\u001b[0;34m\u001b[0m\u001b[0;34m\u001b[0m\u001b[0m\n\u001b[1;32m   3806\u001b[0m                 \u001b[0;31m# If we have a listlike key, _check_indexing_error will raise\u001b[0m\u001b[0;34m\u001b[0m\u001b[0;34m\u001b[0m\u001b[0m\n",
            "\u001b[0;31mKeyError\u001b[0m: 'num_syns_exc'"
          ]
        },
        {
          "output_type": "display_data",
          "data": {
            "text/plain": [
              "<Figure size 1000x1600 with 0 Axes>"
            ]
          },
          "metadata": {}
        }
      ],
      "source": [
        "# i believe this was plotting synapse density\n",
        "\n",
        "def plot_colorfield(color_field=str,vmin = None,vmax = None,lw=1):\n",
        "    ax = plt.figure(figsize=(10,16))\n",
        "    import matplotlib\n",
        "    from matplotlib.colors import Normalize\n",
        "    cmap = matplotlib.cm.get_cmap('jet')\n",
        "    norm = matplotlib.colors.Normalize(vmin = vmin, vmax = vmax)\n",
        "\n",
        "    for i in segs[segs.Type=='apic']['sec index'].unique():\n",
        "        section_L = segs[(segs.Type=='apic')&(segs['sec index']==i)]['sec L'].unique()[0]\n",
        "        plt.plot(segs[(segs.Type=='apic')&(segs['sec index']==i)]['p0.5 x3d'],\n",
        "                segs[(segs.Type=='apic')&(segs['sec index']==i)]['p0.5 y3d'],\n",
        "                color=cmap(norm(segs[(segs.Type=='apic')&(segs['sec index']==i)][color_field].sum()/section_L)),\n",
        "                linewidth = lw*segs[(segs.Type=='apic')&(segs['sec index']==i)]['sec diam'].unique())\n",
        "\n",
        "    for i in segs[segs.Type=='dend']['sec index'].unique():\n",
        "        section_L = segs[(segs.Type=='dend')&(segs['sec index']==i)]['Section_L'].unique()[0]\n",
        "        plt.plot(segs[(segs.Type=='dend')&(segs['sec index']==i)]['p0.5 x3d'],\n",
        "                segs[(segs.Type=='dend')&(segs['sec index']==i)]['p0.5 y3d'],\n",
        "                color=cmap(norm(segs[(segs.Type=='dend')&(segs['sec index']==i)][color_field].sum()/section_L)),\n",
        "                linewidth = lw*segs[(segs.Type=='dend')&(segs['sec index']==i)]['sec diam'].unique())\n",
        "    #\n",
        "    #\n",
        "    plt.scatter(segs[(segs.Type=='soma')&(segs['sec index']==0)].loc[0,'p0.5 x3d'],\n",
        "            segs[(segs.Type=='soma')&(segs['sec index']==0)].loc[0,'p0.5 y3d'],color='k',s=100)\n",
        "    plt.vlines(110,400,500)\n",
        "    plt.text(0,450,'100 um')\n",
        "    plt.hlines(400,110,210)\n",
        "    plt.text(110,350,'100 um')\n",
        "    plt.xticks([])\n",
        "    plt.yticks([])\n",
        "    cbar = plt.colorbar(matplotlib.cm.ScalarMappable(norm=norm, cmap=cmap))\n",
        "    #cbar.ax.set_ylabel('log(elec_distance)', rotation=270)\n",
        "\n",
        "    #ax2.ax.set_title('log(elec_distance)',rotation=270)\n",
        "    plt.box(False)\n",
        "    plt.savefig(output_folder+str(color_field)+'.png')\n",
        "\n",
        "plot_colorfield(color_field='num_syns_exc',vmax=2.2,vmin=0,lw=5)\n",
        "plot_colorfield(color_field='num_syns_inh',vmax=0.3,vmin=0,lw=5)"
      ]
    },
    {
      "cell_type": "code",
      "execution_count": 88,
      "metadata": {
        "id": "RS0tai6w9z_k",
        "colab": {
          "base_uri": "https://localhost:8080/",
          "height": 528
        },
        "outputId": "dfe5ec0e-15fb-487d-97bf-6351685953c4"
      },
      "outputs": [
        {
          "output_type": "error",
          "ename": "KeyError",
          "evalue": "ignored",
          "traceback": [
            "\u001b[0;31m---------------------------------------------------------------------------\u001b[0m",
            "\u001b[0;31mKeyError\u001b[0m                                  Traceback (most recent call last)",
            "\u001b[0;32m/usr/local/lib/python3.10/dist-packages/pandas/core/indexes/base.py\u001b[0m in \u001b[0;36mget_loc\u001b[0;34m(self, key, method, tolerance)\u001b[0m\n\u001b[1;32m   3801\u001b[0m             \u001b[0;32mtry\u001b[0m\u001b[0;34m:\u001b[0m\u001b[0;34m\u001b[0m\u001b[0;34m\u001b[0m\u001b[0m\n\u001b[0;32m-> 3802\u001b[0;31m                 \u001b[0;32mreturn\u001b[0m \u001b[0mself\u001b[0m\u001b[0;34m.\u001b[0m\u001b[0m_engine\u001b[0m\u001b[0;34m.\u001b[0m\u001b[0mget_loc\u001b[0m\u001b[0;34m(\u001b[0m\u001b[0mcasted_key\u001b[0m\u001b[0;34m)\u001b[0m\u001b[0;34m\u001b[0m\u001b[0;34m\u001b[0m\u001b[0m\n\u001b[0m\u001b[1;32m   3803\u001b[0m             \u001b[0;32mexcept\u001b[0m \u001b[0mKeyError\u001b[0m \u001b[0;32mas\u001b[0m \u001b[0merr\u001b[0m\u001b[0;34m:\u001b[0m\u001b[0;34m\u001b[0m\u001b[0;34m\u001b[0m\u001b[0m\n",
            "\u001b[0;32m/usr/local/lib/python3.10/dist-packages/pandas/_libs/index.pyx\u001b[0m in \u001b[0;36mpandas._libs.index.IndexEngine.get_loc\u001b[0;34m()\u001b[0m\n",
            "\u001b[0;32m/usr/local/lib/python3.10/dist-packages/pandas/_libs/index.pyx\u001b[0m in \u001b[0;36mpandas._libs.index.IndexEngine.get_loc\u001b[0;34m()\u001b[0m\n",
            "\u001b[0;32mpandas/_libs/hashtable_class_helper.pxi\u001b[0m in \u001b[0;36mpandas._libs.hashtable.PyObjectHashTable.get_item\u001b[0;34m()\u001b[0m\n",
            "\u001b[0;32mpandas/_libs/hashtable_class_helper.pxi\u001b[0m in \u001b[0;36mpandas._libs.hashtable.PyObjectHashTable.get_item\u001b[0;34m()\u001b[0m\n",
            "\u001b[0;31mKeyError\u001b[0m: 'Elec_distance_nexus'",
            "\nThe above exception was the direct cause of the following exception:\n",
            "\u001b[0;31mKeyError\u001b[0m                                  Traceback (most recent call last)",
            "\u001b[0;32m<ipython-input-88-e51aa6c9e476>\u001b[0m in \u001b[0;36m<cell line: 36>\u001b[0;34m()\u001b[0m\n\u001b[1;32m     34\u001b[0m \u001b[0;34m\u001b[0m\u001b[0m\n\u001b[1;32m     35\u001b[0m     \u001b[0;32mreturn\u001b[0m \u001b[0mnmda_dend\u001b[0m\u001b[0;34m,\u001b[0m \u001b[0mnmda_apic\u001b[0m\u001b[0;34m\u001b[0m\u001b[0;34m\u001b[0m\u001b[0m\n\u001b[0;32m---> 36\u001b[0;31m \u001b[0medges_apic\u001b[0m\u001b[0;34m=\u001b[0m\u001b[0mnp\u001b[0m\u001b[0;34m.\u001b[0m\u001b[0mquantile\u001b[0m\u001b[0;34m(\u001b[0m\u001b[0msegs_nmda_df\u001b[0m\u001b[0;34m[\u001b[0m\u001b[0;34m(\u001b[0m\u001b[0msegs_nmda_df\u001b[0m\u001b[0;34m.\u001b[0m\u001b[0mType\u001b[0m\u001b[0;34m==\u001b[0m\u001b[0;34m'apic'\u001b[0m\u001b[0;34m)\u001b[0m\u001b[0;34m]\u001b[0m\u001b[0;34m[\u001b[0m\u001b[0;34m'Elec_distance_nexus'\u001b[0m\u001b[0;34m]\u001b[0m\u001b[0;34m.\u001b[0m\u001b[0munique\u001b[0m\u001b[0;34m(\u001b[0m\u001b[0;34m)\u001b[0m\u001b[0;34m,\u001b[0m\u001b[0mnp\u001b[0m\u001b[0;34m.\u001b[0m\u001b[0marange\u001b[0m\u001b[0;34m(\u001b[0m\u001b[0;36m0\u001b[0m\u001b[0;34m,\u001b[0m\u001b[0;36m1.1\u001b[0m\u001b[0;34m,\u001b[0m\u001b[0;36m0.1\u001b[0m\u001b[0;34m)\u001b[0m\u001b[0;34m)\u001b[0m\u001b[0;34m\u001b[0m\u001b[0;34m\u001b[0m\u001b[0m\n\u001b[0m",
            "\u001b[0;32m/usr/local/lib/python3.10/dist-packages/pandas/core/frame.py\u001b[0m in \u001b[0;36m__getitem__\u001b[0;34m(self, key)\u001b[0m\n\u001b[1;32m   3805\u001b[0m             \u001b[0;32mif\u001b[0m \u001b[0mself\u001b[0m\u001b[0;34m.\u001b[0m\u001b[0mcolumns\u001b[0m\u001b[0;34m.\u001b[0m\u001b[0mnlevels\u001b[0m \u001b[0;34m>\u001b[0m \u001b[0;36m1\u001b[0m\u001b[0;34m:\u001b[0m\u001b[0;34m\u001b[0m\u001b[0;34m\u001b[0m\u001b[0m\n\u001b[1;32m   3806\u001b[0m                 \u001b[0;32mreturn\u001b[0m \u001b[0mself\u001b[0m\u001b[0;34m.\u001b[0m\u001b[0m_getitem_multilevel\u001b[0m\u001b[0;34m(\u001b[0m\u001b[0mkey\u001b[0m\u001b[0;34m)\u001b[0m\u001b[0;34m\u001b[0m\u001b[0;34m\u001b[0m\u001b[0m\n\u001b[0;32m-> 3807\u001b[0;31m             \u001b[0mindexer\u001b[0m \u001b[0;34m=\u001b[0m \u001b[0mself\u001b[0m\u001b[0;34m.\u001b[0m\u001b[0mcolumns\u001b[0m\u001b[0;34m.\u001b[0m\u001b[0mget_loc\u001b[0m\u001b[0;34m(\u001b[0m\u001b[0mkey\u001b[0m\u001b[0;34m)\u001b[0m\u001b[0;34m\u001b[0m\u001b[0;34m\u001b[0m\u001b[0m\n\u001b[0m\u001b[1;32m   3808\u001b[0m             \u001b[0;32mif\u001b[0m \u001b[0mis_integer\u001b[0m\u001b[0;34m(\u001b[0m\u001b[0mindexer\u001b[0m\u001b[0;34m)\u001b[0m\u001b[0;34m:\u001b[0m\u001b[0;34m\u001b[0m\u001b[0;34m\u001b[0m\u001b[0m\n\u001b[1;32m   3809\u001b[0m                 \u001b[0mindexer\u001b[0m \u001b[0;34m=\u001b[0m \u001b[0;34m[\u001b[0m\u001b[0mindexer\u001b[0m\u001b[0;34m]\u001b[0m\u001b[0;34m\u001b[0m\u001b[0;34m\u001b[0m\u001b[0m\n",
            "\u001b[0;32m/usr/local/lib/python3.10/dist-packages/pandas/core/indexes/base.py\u001b[0m in \u001b[0;36mget_loc\u001b[0;34m(self, key, method, tolerance)\u001b[0m\n\u001b[1;32m   3802\u001b[0m                 \u001b[0;32mreturn\u001b[0m \u001b[0mself\u001b[0m\u001b[0;34m.\u001b[0m\u001b[0m_engine\u001b[0m\u001b[0;34m.\u001b[0m\u001b[0mget_loc\u001b[0m\u001b[0;34m(\u001b[0m\u001b[0mcasted_key\u001b[0m\u001b[0;34m)\u001b[0m\u001b[0;34m\u001b[0m\u001b[0;34m\u001b[0m\u001b[0m\n\u001b[1;32m   3803\u001b[0m             \u001b[0;32mexcept\u001b[0m \u001b[0mKeyError\u001b[0m \u001b[0;32mas\u001b[0m \u001b[0merr\u001b[0m\u001b[0;34m:\u001b[0m\u001b[0;34m\u001b[0m\u001b[0;34m\u001b[0m\u001b[0m\n\u001b[0;32m-> 3804\u001b[0;31m                 \u001b[0;32mraise\u001b[0m \u001b[0mKeyError\u001b[0m\u001b[0;34m(\u001b[0m\u001b[0mkey\u001b[0m\u001b[0;34m)\u001b[0m \u001b[0;32mfrom\u001b[0m \u001b[0merr\u001b[0m\u001b[0;34m\u001b[0m\u001b[0;34m\u001b[0m\u001b[0m\n\u001b[0m\u001b[1;32m   3805\u001b[0m             \u001b[0;32mexcept\u001b[0m \u001b[0mTypeError\u001b[0m\u001b[0;34m:\u001b[0m\u001b[0;34m\u001b[0m\u001b[0;34m\u001b[0m\u001b[0m\n\u001b[1;32m   3806\u001b[0m                 \u001b[0;31m# If we have a listlike key, _check_indexing_error will raise\u001b[0m\u001b[0;34m\u001b[0m\u001b[0;34m\u001b[0m\u001b[0m\n",
            "\u001b[0;31mKeyError\u001b[0m: 'Elec_distance_nexus'"
          ]
        }
      ],
      "source": [
        "#NMDA effect on calcium\n",
        "#ca_spktimes = segs_ca_df[segs_ca_df.segmentID==1738]['ca_lower_bound']/10\n",
        "def get_nmda_sta_calcium(segs_nmda_df, spktimes):\n",
        "    nmda_dend = np.zeros((10,27,))\n",
        "    nmda_apic = np.zeros((10,27,))\n",
        "\n",
        "    edges_dend=np.quantile(segs_nmda_df[(segs_nmda_df.Type=='dend')]['Elec_distance_nexus'].unique(),np.arange(0,1.1,0.1))\n",
        "    edges_apic=np.quantile(segs_nmda_df[(segs_nmda_df.Type=='apic')]['Elec_distance_nexus'].unique(),np.arange(0,1.1,0.1))\n",
        "\n",
        "    actual_spktimes = []\n",
        "    c = 0\n",
        "    for i in np.sort(spktimes):\n",
        "        # excludes bursts\n",
        "        if i-c > 10:\n",
        "            for e in np.arange(0,10):\n",
        "                nmda_inds = segs_nmda_df[(segs_nmda_df.mag<-0.1)&\n",
        "                                     (segs_nmda_df.Type=='dend')&\n",
        "                                     (segs_nmda_df.Elec_distance_nexus>edges_dend[e])&\n",
        "                                     (segs_nmda_df.Elec_distance_nexus<=edges_dend[e+1])]['nmda_lower_bound'].values.astype(int)\n",
        "\n",
        "                x2, _ = np.histogram(nmda_inds/10,bins=np.arange(np.floor(i)-100,np.floor(i)+40,5))\n",
        "                nmda_dend[e] += x2\n",
        "\n",
        "                nmda_inds = segs_nmda_df[(segs_nmda_df.mag<-0.1)&\n",
        "                                     (segs_nmda_df.Type=='apic')&\n",
        "                                     (segs_nmda_df.Elec_distance_nexus>edges_apic[e])&\n",
        "                                     (segs_nmda_df.Elec_distance_nexus<=edges_apic[e+1])]['nmda_lower_bound'].values.astype(int)\n",
        "\n",
        "                x2, _ = np.histogram(nmda_inds/10,bins=np.arange(np.floor(i)-100,np.floor(i)+40,5))\n",
        "                nmda_apic[e] += x2\n",
        "\n",
        "            actual_spktimes.append(i)\n",
        "        c = i\n",
        "\n",
        "    return nmda_dend, nmda_apic\n",
        "edges_apic=np.quantile(segs_nmda_df[(segs_nmda_df.Type=='apic')]['Elec_distance_nexus'].unique(),np.arange(0,1.1,0.1))\n"
      ]
    },
    {
      "cell_type": "code",
      "execution_count": null,
      "metadata": {
        "id": "vxmXSB7P9z_l"
      },
      "outputs": [],
      "source": [
        "ca_spktimes = segs_ca_df[(segs_ca_df['Sec Name']=='disttrunk')]['ca_lower_bound']/10"
      ]
    },
    {
      "cell_type": "code",
      "execution_count": null,
      "metadata": {
        "id": "pM8WWGxn9z_l"
      },
      "outputs": [],
      "source": [
        "ca_spktimes_nodupes = np.sort(ca_spktimes[1:])[np.diff(np.sort(ca_spktimes))>100]\n",
        "nmda_dend, nmda_apic = get_nmda_sta_calcium(segs_nmda_df,ca_spktimes_nodupes)\n",
        "rand_spktimes = np.sort(np.random.choice(np.arange(0,150000), ca_spktimes_nodupes.shape[0]))\n",
        "nmda_dend_rand, nmda_apic_rand = get_nmda_sta_calcium(segs_nmda_df, rand_spktimes)\n",
        "plt.figure(figsize=(10,10))\n",
        "plt.subplot(2,1,1)\n",
        "plt.title('NMDA spikes - apical')\n",
        "x = (nmda_apic-nmda_apic_rand)/ca_spktimes_nodupes.shape[0]\n",
        "# plt.imshow(x,cmap='jet',vmin = -1, vmax = 5)\n",
        "plt.imshow(x,cmap='jet',vmin = None, vmax = None)\n",
        "plt.xticks(ticks=np.arange(0,26,4)+0.5,labels=['{}'.format(i) for i in np.arange(-100,40,20)])\n",
        "plt.yticks(ticks=[0,9],labels=['further','closer'])\n",
        "plt.colorbar(label='additional events per Ca2+ spike')\n",
        "plt.xlabel('time (ms)')\n",
        "plt.xlim(5,26)\n",
        "\n",
        "plt.subplot(2,1,2)\n",
        "plt.title('NMDA spikes - basal')\n",
        "x = (nmda_dend-nmda_dend_rand)/ca_spktimes_nodupes.shape[0]\n",
        "plt.imshow(x,cmap='jet',vmin = -1, vmax = 5)\n",
        "plt.xticks(ticks=np.arange(0,26,4)+0.5,labels=['{}'.format(i) for i in np.arange(-100,40,20)])\n",
        "plt.yticks(ticks=[0,9],labels=['further','closer'])\n",
        "plt.colorbar(label='additional events per Ca2+ spike')\n",
        "plt.xlim(5,26)\n",
        "\n",
        "plt.xlabel('time (ms)')\n",
        "plt.savefig(output_folder+'/nmdaspikes.png')\n",
        "plt.show()"
      ]
    },
    {
      "cell_type": "code",
      "execution_count": null,
      "metadata": {
        "id": "Vjftq5wT9z_l"
      },
      "outputs": [],
      "source": [
        "segs_nmda_df['Elec_distance_nexus']"
      ]
    },
    {
      "cell_type": "code",
      "execution_count": null,
      "metadata": {
        "id": "k29syMroudLK"
      },
      "outputs": [],
      "source": [
        "# print(segs_nmda_df[segs_nmda_df['nmda_lower_bound']>8000]) #get every index where nmda_lower_bound>8000\n",
        "# print(segs[segs['Seg_L']>5]) #show segs with this condition\n",
        "totallength=sum(segs['seg L'])"
      ]
    },
    {
      "cell_type": "code",
      "execution_count": 90,
      "metadata": {
        "id": "p8xAAj5CXXXj",
        "colab": {
          "base_uri": "https://localhost:8080/",
          "height": 697
        },
        "outputId": "10f7e1ef-8053-4d14-bf61-f90bd8c84187"
      },
      "outputs": [
        {
          "output_type": "error",
          "ename": "NameError",
          "evalue": "ignored",
          "traceback": [
            "\u001b[0;31m---------------------------------------------------------------------------\u001b[0m",
            "\u001b[0;31mNameError\u001b[0m                                 Traceback (most recent call last)",
            "\u001b[0;32m<ipython-input-90-63f1ee7a6aac>\u001b[0m in \u001b[0;36m<cell line: 26>\u001b[0;34m()\u001b[0m\n\u001b[1;32m     24\u001b[0m \u001b[0;31m# creating the bar plot\u001b[0m\u001b[0;34m\u001b[0m\u001b[0;34m\u001b[0m\u001b[0m\n\u001b[1;32m     25\u001b[0m \u001b[0mplt\u001b[0m\u001b[0;34m.\u001b[0m\u001b[0mbarh\u001b[0m\u001b[0;34m(\u001b[0m\u001b[0mgroup\u001b[0m\u001b[0;34m,\u001b[0m \u001b[0mvalue\u001b[0m\u001b[0;34m,\u001b[0m \u001b[0mcolor\u001b[0m \u001b[0;34m=\u001b[0m\u001b[0;34m'lightseagreen'\u001b[0m\u001b[0;34m)\u001b[0m\u001b[0;34m\u001b[0m\u001b[0;34m\u001b[0m\u001b[0m\n\u001b[0;32m---> 26\u001b[0;31m \u001b[0;32mif\u001b[0m \u001b[0mDetailed\u001b[0m\u001b[0;34m==\u001b[0m\u001b[0;32mTrue\u001b[0m\u001b[0;34m:\u001b[0m\u001b[0;34m\u001b[0m\u001b[0;34m\u001b[0m\u001b[0m\n\u001b[0m\u001b[1;32m     27\u001b[0m     \u001b[0mplt\u001b[0m\u001b[0;34m.\u001b[0m\u001b[0msavefig\u001b[0m\u001b[0;34m(\u001b[0m\u001b[0moutput_folder\u001b[0m\u001b[0;34m+\u001b[0m\u001b[0;34m'/DetailedNMDASpikesPerUmPerSec.png'\u001b[0m\u001b[0;34m)\u001b[0m\u001b[0;34m\u001b[0m\u001b[0;34m\u001b[0m\u001b[0m\n\u001b[1;32m     28\u001b[0m \u001b[0;32melse\u001b[0m\u001b[0;34m:\u001b[0m\u001b[0;34m\u001b[0m\u001b[0;34m\u001b[0m\u001b[0m\n",
            "\u001b[0;31mNameError\u001b[0m: name 'Detailed' is not defined"
          ]
        },
        {
          "output_type": "display_data",
          "data": {
            "text/plain": [
              "<Figure size 1000x500 with 1 Axes>"
            ],
            "image/png": "[encoded data removed]"
          },
          "metadata": {}
        }
      ],
      "source": [
        "total_basal_nmda = sum(segs_nmda_df['segmentID'][segs_nmda_df.Type=='dend'][~pd.isnull(segs_nmda_df.mag)])\n",
        "# num_basal_seg = len(segs[segs.Type=='dend'])\n",
        "basal_length = sum(segs['seg L'][segs.Type=='dend'])\n",
        "\n",
        "total_apic_nmda = sum(segs_nmda_df['segmentID'][segs_nmda_df.Type=='apic'][~pd.isnull(segs_nmda_df.mag)])\n",
        "# num_apic_seg = len(segs[segs.Type=='apic'])\n",
        "apic_length = sum(segs['seg L'][segs.Type=='apic'])\n",
        "\n",
        "# apic_nmda_perSeg_perSec = (total_apic_nmda / num_apic_seg)/(tstop/dt)\n",
        "# basal_ndma_perSeg_perSec = (total_basal_nmda / num_basal_seg)/(tstop/dt)\n",
        "apic_nmda_perUM_perSec = (total_apic_nmda / apic_length)/(tstop/1000) # Can divide by x microns to get per X microns\n",
        "basal_ndma_perUM_perSec = (total_basal_nmda / basal_length)/(tstop/1000) # Can divide by x microns to get per X microns\n",
        "\n",
        "# data = {'basal':basal_ndma_perSeg_perSec, 'apic':apic_nmda_perSeg_perSec}\n",
        "data = {'basal':basal_ndma_perUM_perSec, 'apic':apic_nmda_perUM_perSec}\n",
        "group = list(data.keys())\n",
        "value = list(data.values())\n",
        "\n",
        "fig = plt.figure(figsize = (10, 5))\n",
        "# plt.title('NMDA spikes per segment per second')\n",
        "plt.title('NMDA spikes per micron per second')\n",
        "\n",
        "\n",
        "# creating the bar plot\n",
        "plt.barh(group, value, color ='lightseagreen')\n",
        "plt.savefig(output_folder+'/NMDASpikesPerUmPerSec.png')"
      ]
    },
    {
      "cell_type": "code",
      "execution_count": 91,
      "metadata": {
        "id": "k9-SY0ioXYnh",
        "colab": {
          "base_uri": "https://localhost:8080/",
          "height": 468
        },
        "outputId": "f5281c1f-aad3-4806-d4ee-9eabce38c5c3"
      },
      "outputs": [
        {
          "output_type": "display_data",
          "data": {
            "text/plain": [
              "<Figure size 1000x500 with 1 Axes>"
            ],
            "image/png": "[encoded data removed]"
          },
          "metadata": {}
        }
      ],
      "source": [
        "total_basal_na = sum(segs_na_df['segmentID'][segs_na_df.Type=='dend'][~pd.isnull(segs_na_df.duration_high)])\n",
        "# num_basal_seg = len(segs[segs.Type=='dend'])\n",
        "basal_length = sum(segs['seg L'][segs.Type=='dend'])\n",
        "\n",
        "total_apic_na = sum(segs_na_df['segmentID'][segs_na_df.Type=='apic'][~pd.isnull(segs_na_df.duration_high)])\n",
        "# num_apic_seg = len(segs[segs.Type=='apic'])\n",
        "apic_length = sum(segs['seg L'][segs.Type=='apic'])\n",
        "\n",
        "# apic_na_perSeg_perSec = (total_apic_na / num_apic_seg)/(tstop/dt)\n",
        "# basal_na_perSeg_perSec = (total_basal_na / num_basal_seg)/(tstop/dt)\n",
        "apic_na_perUM_perSec = (total_apic_na / apic_length)/(tstop/1000) # Can divide by x microns to get per X microns\n",
        "basal_na_perUM_perSec = (total_basal_na / basal_length)/(tstop/1000) # Can divide by x microns to get per X microns\n",
        "\n",
        "# data = {'basal':basal_na_perSeg_perSec, 'apic':apic_na_perSeg_perSec}\n",
        "data = {'basal':basal_na_perUM_perSec, 'apic':apic_na_perUM_perSec}\n",
        "group = list(data.keys())\n",
        "value = list(data.values())\n",
        "\n",
        "fig = plt.figure(figsize = (10, 5))\n",
        "# plt.title('Na spikes per segment per second')\n",
        "plt.title('Na spikes per micron per second')\n",
        "\n",
        "\n",
        "# creating the bar plot\n",
        "plt.barh(group, value, color ='powderblue')\n",
        "plt.savefig(output_folder+'/NASpikesPerUmPerSec.png')"
      ]
    },
    {
      "cell_type": "code",
      "execution_count": 92,
      "metadata": {
        "id": "lGeNOKN4aPrg",
        "colab": {
          "base_uri": "https://localhost:8080/",
          "height": 486
        },
        "outputId": "2fbfcbf6-3214-48c6-965b-424605785720"
      },
      "outputs": [
        {
          "output_type": "stream",
          "name": "stdout",
          "text": [
            "0\n"
          ]
        },
        {
          "output_type": "display_data",
          "data": {
            "text/plain": [
              "<Figure size 1000x500 with 1 Axes>"
            ],
            "image/png": "[encoded data removed]"
          },
          "metadata": {}
        }
      ],
      "source": [
        "total_basal_ca = sum(segs_ca_df['index'][segs_ca_df.Type=='dend'][~pd.isnull(segs_ca_df.duration_high)])\n",
        "# num_basal_seg = len(segs[segs.Type=='dend'])\n",
        "basal_length = sum(segs['seg L'][segs.Type=='dend'])\n",
        "\n",
        "print(total_basal_ca)\n",
        "\n",
        "total_apic_ca = sum(segs_ca_df['index'][segs_ca_df.Type=='apic'][~pd.isnull(segs_ca_df.duration_high)])\n",
        "# num_apic_seg = len(segs[segs.Type=='apic'])\n",
        "apic_length = sum(segs['seg L'][segs.Type=='apic'])\n",
        "\n",
        "# apic_ca_perSeg_perSec = (total_apic_ca / num_apic_seg)(tstop/dt)\n",
        "# basal_ca_perSeg_perSec = (total_basal_ca / num_basal_seg)(tstop/dt)\n",
        "\n",
        "apic_ca_perUM_perSec = (total_apic_ca / apic_length)/(tstop/1000) # Can divide by x microns to get per X microns\n",
        "basal_ca_perUM_perSec = (total_basal_ca / basal_length)/(tstop/1000) # Can divide by x microns to get per X microns\n",
        "\n",
        "\n",
        "# data = {'basal':basal_ca_perSeg_perSec, 'apic':apic_ca_perSeg_perSec}\n",
        "data = {'basal':basal_ca_perUM_perSec, 'apic':apic_ca_perUM_perSec}\n",
        "group = list(data.keys())\n",
        "value = list(data.values())\n",
        "\n",
        "fig = plt.figure(figsize = (10, 5))\n",
        "\n",
        "# plt.title('Calcium spikes per segment per second')\n",
        "plt.title('Calcium spikes per UM per second')\n",
        "\n",
        "\n",
        "# creating the bar plot\n",
        "plt.barh(group, value, color ='tomato')\n",
        "\n",
        "plt.savefig(output_folder+'/CaSpikesPerUmPerSec.png')"
      ]
    },
    {
      "cell_type": "code",
      "execution_count": null,
      "metadata": {
        "id": "VYOFvfWp9z_m"
      },
      "outputs": [],
      "source": [
        "# segs.head() # segs does not have number of spikes\n",
        "# print(segs_ca_df)"
      ]
    },
    {
      "cell_type": "code",
      "execution_count": null,
      "metadata": {
        "id": "Vq-aKbWW9z_m"
      },
      "outputs": [],
      "source": [
        "# segs_ca_df[~pd.isnull(segs_ca_df.duration_high)].head()\n",
        "segs_ca_df.head()"
      ]
    },
    {
      "cell_type": "code",
      "execution_count": null,
      "metadata": {
        "id": "IMWvIeMu9z_m"
      },
      "outputs": [],
      "source": [
        "all_ca=pd.DataFrame()\n",
        "all_ca['NumSpikes'] = segs_ca_df['index'][~pd.isnull(segs_ca_df.duration_high)]\n",
        "# print(segs_ca_df[~pd.isnull(segs_ca_df.duration_high)])\n",
        "print(all_ca) # segment id and number of spikes\n",
        "# print(sum(all_ca))\n",
        "# plt.figure(figsize=(4,10))\n",
        "# ax = plt.scatter(segs['Coord X'], segs['Coord Y'],c=all_ca)\n",
        "# plt.vlines(110,400,500)\n",
        "# plt.text(0,450,'100 um')\n",
        "# plt.hlines(400,110,210)\n",
        "# plt.text(110,350,'100 um')\n",
        "# plt.xticks([])\n",
        "# plt.yticks([])\n",
        "# cbar = plt.colorbar()\n",
        "# cbar.ax.set_ylabel('log(elec_distance)', rotation=270)\n",
        "\n",
        "# #ax2.ax.set_title('log(elec_distance)',rotation=270)\n",
        "# plt.box(False)\n",
        "# plt.savefig('Elec_distance.png')\n",
        "# # all_ca_perUM_perSec = (all_ca / segs['Seg_L'])/(tstop/dt) # Can divide by x microns to get per X microns\n",
        "# # # print(all_ca_perUM_perSec)\n",
        "# # for i in range(len(all_ca_perUM_perSec)):\n",
        "# #     if np.isnan(all_ca_perUM_perSec[i])==True:\n",
        "# #         all_ca_perUM_perSec[i]=0\n",
        "# # print(all_ca_perUM_perSec)"
      ]
    },
    {
      "cell_type": "code",
      "execution_count": null,
      "metadata": {
        "id": "Y6ecjQg64vap"
      },
      "outputs": [],
      "source": [
        "for i in np.arange(0,10):\n",
        "    plt.plot(np.arange(-40,95,5),nmda_dend[i]/np.sum(nmda_dend[i]))\n"
      ]
    },
    {
      "cell_type": "code",
      "execution_count": null,
      "metadata": {
        "id": "nvS-77j54vap"
      },
      "outputs": [],
      "source": [
        "# segs_conns[(segs_conns['Sec ID']==80) & (segs_conns.Type=='dend')]['Source Population'].value_counts()"
      ]
    },
    {
      "cell_type": "markdown",
      "metadata": {
        "id": "ZDksdcux4geV"
      },
      "source": []
    },
    {
      "cell_type": "code",
      "execution_count": 93,
      "metadata": {
        "id": "Wx2PiJh94vap",
        "colab": {
          "base_uri": "https://localhost:8080/",
          "height": 854
        },
        "outputId": "2c793429-6472-4735-ce83-d4a72b1ec341"
      },
      "outputs": [
        {
          "output_type": "execute_result",
          "data": {
            "text/plain": [
              "(-150.0, 150.0)"
            ]
          },
          "metadata": {},
          "execution_count": 93
        },
        {
          "output_type": "display_data",
          "data": {
            "text/plain": [
              "<Figure size 1000x1000 with 1 Axes>"
            ],
            "image/png": "[encoded data removed]"
          },
          "metadata": {}
        }
      ],
      "source": [
        "plt.figure(figsize=(10,10))\n",
        "ind = 55\n",
        "plt.plot(segs['p0.5 x3d'], segs['p0.5 y3d'], 'b.')\n",
        "plt.plot(segs.loc[0,'p0.5 x3d'], segs.loc[0,'p0.5 y3d'], 'k.',markersize=20)\n",
        "\n",
        "plt.plot(segs.loc[ind,'p0.5 x3d'], segs.loc[ind,'p0.5 y3d'], 'r*',markersize=20)\n",
        "\n",
        "# for i in segs_conns[(segs_conns.Type=='dend')&(segs_conns['Sec ID']==2)]['Sec ID'].unique():\n",
        "#     plt.plot(segs[(segs['Sec ID']==i)&(segs['Type']=='dend')]['Coord X'],\n",
        "#              segs[(segs['Sec ID']==i)&(segs['Type']=='dend')]['Coord Y'],color='r')\n",
        "\n",
        "#for i in segs_conns[(segs_conns.Type=='dend')&(segs_conns['Sec ID']==7)]['Sec ID'].unique():\n",
        "#    plt.plot(segs[(segs['Sec ID']==i)&(segs['Type']=='dend')]['Coord X'],\n",
        "#             segs[(segs['Sec ID']==i)&(segs['Type']=='dend')]['Coord Y'],color='c')\n",
        "\n",
        "#plt.plot(segs[segs.segmentID==119]['Coord X'], segs[segs.segmentID==119]['Coord Y'],'r*',markersize=14)\n",
        "#plt.plot(segs[segs.segmentID==110]['Coord X'], segs[segs.segmentID==110]['Coord Y'],'r*',markersize=14)\n",
        "#plt.plot(segs[segs.segmentID==103]['Coord X'], segs[segs.segmentID==103]['Coord Y'],'r*',markersize=14)\n",
        "\n",
        "#plt.plot(segs[segs.segmentID==134]['Coord X'], segs[segs.segmentID==134]['Coord Y'],'c*',markersize=14)\n",
        "plt.ylim(-25,50)\n",
        "plt.xlim(-150,150)"
      ]
    },
    {
      "cell_type": "code",
      "execution_count": null,
      "metadata": {
        "id": "iskhzr3R4vap"
      },
      "outputs": [],
      "source": [
        "# plt.figure(figsize=(10,10))\n",
        "# plt.plot(f['report']['biophysical']['data'][:,119],color='b')\n",
        "# plt.plot(f['report']['biophysical']['data'][:,110],color='b',alpha=0.5)\n",
        "# plt.plot(f['report']['biophysical']['data'][:,104],color='b',alpha=0.1)\n",
        "\n",
        "# plt.plot(f['report']['biophysical']['data'][:,134],color='c',alpha=1)\n",
        "# plt.plot(f['report']['biophysical']['data'][:,0],'k')\n",
        "# plt.twinx()\n",
        "# plt.plot(h['report']['biophysical']['data'][:,119],color='r')\n",
        "# plt.plot(h['report']['biophysical']['data'][:,110],color='r',alpha=0.5)\n",
        "# plt.plot(h['report']['biophysical']['data'][:,103],color='r',alpha=0.1)\n",
        "\n",
        "# plt.xlim(526519-100,526519+1000)"
      ]
    },
    {
      "cell_type": "code",
      "execution_count": 94,
      "metadata": {
        "id": "xsQ5PRlP4vap",
        "colab": {
          "base_uri": "https://localhost:8080/"
        },
        "outputId": "12769473-23a9-4693-dd9a-91e46f0153bb"
      },
      "outputs": [
        {
          "output_type": "stream",
          "name": "stdout",
          "text": [
            "segs_nmda_df \"DataFrame\" object has no attribute \"Degrees\"\n"
          ]
        }
      ],
      "source": [
        "nmda2 = np.zeros((79,))\n",
        "try:\n",
        "  for i in spiketimes:\n",
        "      nmda_inds2 = np.sort(segs_nmda_df[(segs_nmda_df.Degrees<=3)&\n",
        "              (~pd.isnull(segs_nmda_df.nmda_lower_bound))&\n",
        "              (segs_nmda_df.mag<-0.1)&\n",
        "                  (segs_nmda_df.Type=='dend')]['nmda_lower_bound'].values.astype(int))\n",
        "\n",
        "      x2, _ = np.histogram(nmda_inds2/10,bins=np.arange(i-40,i+40,1))\n",
        "      nmda2 += x2\n",
        "except:\n",
        "  print('segs_nmda_df \"DataFrame\" object has no attribute \"Degrees\"')\n",
        "\n",
        "    #na_inds3 = segs_na_df[(segs_na_df.Degrees==3)&(~pd.isnull(segs_na_df.na_lower_bound))]['na_lower_bound'].values.astype(int)\n",
        "    #x3, _ = np.histogram(na_inds3/10,bins=np.arange(i-20,i+20,1))\n",
        "    #na3 += x3\n",
        "\n",
        "    #na_inds4 = segs_na_df[(segs_na_df.Degrees==4)&(~pd.isnull(segs_na_df.na_lower_bound))]['na_lower_bound'].values.astype(int)\n",
        "    #x4, _ = np.histogram(na_inds4/10,bins=np.arange(i-20,i+20,1))\n",
        "    #na4 += x4\n",
        "\n",
        "    #na_inds5 = segs_na_df[(segs_na_df.Degrees==5)&(~pd.isnull(segs_na_df.na_lower_bound))]['na_lower_bound'].values.astype(int)\n",
        "    #x5, _ = np.histogram(na_inds5/10,bins=np.arange(i-20,i+20,1))\n",
        "    #na5 += x5\n"
      ]
    },
    {
      "cell_type": "code",
      "execution_count": null,
      "metadata": {
        "id": "vUUqHx824vap"
      },
      "outputs": [],
      "source": [
        "plt.plot(nmda2)"
      ]
    },
    {
      "cell_type": "code",
      "execution_count": null,
      "metadata": {
        "id": "pKC4GG6k9z_n"
      },
      "outputs": [],
      "source": [
        "segs_ca_df.head()\n",
        "# segs_na_df.head()\n",
        "# segs_nmda_df.head()"
      ]
    },
    {
      "cell_type": "code",
      "execution_count": null,
      "metadata": {
        "id": "DxS1w_3p9z_n"
      },
      "outputs": [],
      "source": [
        "segs.head()"
      ]
    },
    {
      "cell_type": "code",
      "execution_count": null,
      "metadata": {
        "id": "qfbKVx3w9z_o"
      },
      "outputs": [],
      "source": [
        "#calculate segment spikes per second\n"
      ]
    },
    {
      "cell_type": "code",
      "execution_count": null,
      "metadata": {
        "id": "LtCXJTG94vap"
      },
      "outputs": [],
      "source": []
    },
    {
      "cell_type": "code",
      "execution_count": null,
      "metadata": {
        "id": "2H2GkHjg4vap"
      },
      "outputs": [],
      "source": []
    },
    {
      "cell_type": "code",
      "execution_count": null,
      "metadata": {
        "id": "plFcK6PZ4vap"
      },
      "outputs": [],
      "source": [
        "# import matplotlib\n",
        "# font = {'family' : 'normal',\n",
        "#         'weight' : 'normal',\n",
        "#         'size'   : 16}\n",
        "\n",
        "# matplotlib.rc('font', **font)\n",
        "\n",
        "# ind = 1139\n",
        "# plt.figure(figsize=(12,10))\n",
        "# plt.plot(np.arange(0,60000,.1),f['report']['biophysical']['data'][:,ind],color='b',label='dend voltage')\n",
        "# plt.plot(np.arange(0,60000,.1),f['report']['biophysical']['data'][:,0],color='k',alpha=0.3,label='soma voltage')\n",
        "# plt.legend(loc='lower left')\n",
        "# plt.hlines(-40,0,60000,linestyle='dashed')\n",
        "# plt.ylabel('voltage (mV)')\n",
        "# plt.ylim(-85,25)\n",
        "# plt.xlabel('time (ms)')\n",
        "# plt.twinx()\n",
        "# plt.plot(np.arange(0,60000,.1),h['report']['biophysical']['data'][:,ind],color='r',label='inmda dend')\n",
        "# plt.legend(loc='upper right')\n",
        "# plt.plot(np.arange(0,60000,.1)[nmda_df[nmda_df.seg_id==ind]['nmda_lower_bound'].values.astype(int)],\n",
        "#          h['report']['biophysical']['data'][nmda_df[nmda_df.seg_id==ind]['nmda_lower_bound'].values.astype(int),ind],'m*',markersize=20)\n",
        "# plt.plot(np.arange(0,60000,.1)[nmda_df[nmda_df.seg_id==ind]['nmda_upper_bound'].values.astype(int)],\n",
        "#          h['report']['biophysical']['data'][nmda_df[nmda_df.seg_id==ind]['nmda_upper_bound'].values.astype(int),ind],'k*',markersize=20)\n",
        "# plt.ylim(-0.009,0.001)\n",
        "# plt.xlim(37000,39000)\n",
        "# plt.ylabel('current (nA)')\n"
      ]
    },
    {
      "cell_type": "code",
      "execution_count": null,
      "metadata": {
        "id": "QYx2H4314vap"
      },
      "outputs": [],
      "source": [
        "# import matplotlib\n",
        "# font = {'family' : 'normal',\n",
        "#         'weight' : 'normal',\n",
        "#         'size'   : 16}\n",
        "\n",
        "# matplotlib.rc('font', **font)\n",
        "\n",
        "# plt.figure(figsize=(12,10))\n",
        "# plt.plot(np.arange(0,60000,.1),f['report']['biophysical']['data'][:,175],color='b',label='dend voltage')\n",
        "# plt.plot(np.arange(0,60000,.1),f['report']['biophysical']['data'][:,0],color='k',alpha=0.3,label='soma voltage')\n",
        "# plt.legend(loc='lower left')\n",
        "# plt.hlines(-40,0,60000,linestyle='dashed')\n",
        "# plt.ylabel('voltage (mV)')\n",
        "# plt.ylim(-85,25)\n",
        "# plt.xlabel('time (ms)')\n",
        "# plt.twinx()\n",
        "# plt.plot(np.arange(0,60000,.1),h['report']['biophysical']['data'][:,175],color='r',label='inmda dend')\n",
        "# plt.legend(loc='upper right')\n",
        "# plt.plot(np.arange(0,60000,.1)[nmda_df[nmda_df.seg_id==175]['nmda_lower_bound'].values.astype(int)],\n",
        "#          h['report']['biophysical']['data'][nmda_df[nmda_df.seg_id==175]['nmda_lower_bound'].values.astype(int),175],'m*',markersize=20)\n",
        "# plt.plot(np.arange(0,60000,.1)[nmda_df[nmda_df.seg_id==175]['nmda_upper_bound'].values.astype(int)],\n",
        "#          h['report']['biophysical']['data'][nmda_df[nmda_df.seg_id==175]['nmda_upper_bound'].values.astype(int),175],'k*',markersize=20)\n",
        "# plt.xlim(32000,32400)\n",
        "# plt.ylim(-0.009,0.001)\n",
        "# plt.ylabel('current (nA)')\n"
      ]
    },
    {
      "cell_type": "code",
      "execution_count": null,
      "metadata": {
        "id": "zvXGNGGT4vaq"
      },
      "outputs": [],
      "source": [
        "nmda_spktimes = nmda_df[nmda_df.mag<-0.1]['nmda_lower_bound']/10\n",
        "n = np.zeros((12,))\n",
        "for i in spktimes:\n",
        "    x,y = np.histogram(nmda_spktimes[(nmda_spktimes>i-30) & (nmda_spktimes<i+30)]-i,bins=np.arange(-30,31,5))\n",
        "    n+=x"
      ]
    },
    {
      "cell_type": "code",
      "execution_count": null,
      "metadata": {
        "id": "gikT0cOM4vaq"
      },
      "outputs": [],
      "source": [
        "np.arange(-30,31,5).shape"
      ]
    },
    {
      "cell_type": "code",
      "execution_count": null,
      "metadata": {
        "id": "61dFsyAl4vaq"
      },
      "outputs": [],
      "source": [
        "plt.plot(np.arange(-30,30,5),n)"
      ]
    },
    {
      "cell_type": "code",
      "execution_count": null,
      "metadata": {
        "id": "hihbEY_D4vaq"
      },
      "outputs": [],
      "source": [
        "na_spktimes = na_df[~pd.isnull(na_df.na_lower_bound)]['na_lower_bound']/10\n",
        "na = np.zeros((20,))\n",
        "for i in spiketimes:\n",
        "    x,y = np.histogram(na_spktimes[(na_spktimes>i-10) & (na_spktimes<i+10)]-i,bins=np.arange(-10,11,1))\n",
        "    na+=x"
      ]
    },
    {
      "cell_type": "code",
      "execution_count": null,
      "metadata": {
        "id": "O6lnaEw54vaq"
      },
      "outputs": [],
      "source": [
        "# plt.plot(na_df[~pd.isnull(na_df.na_lower_bound)]['na_lower_bound']/10,\n",
        "#          na_df[~pd.isnull(na_df.na_lower_bound)]['seg_id'],'*')"
      ]
    },
    {
      "cell_type": "code",
      "execution_count": null,
      "metadata": {
        "id": "mCYyq4QZ4vaq"
      },
      "outputs": [],
      "source": []
    },
    {
      "cell_type": "code",
      "execution_count": null,
      "metadata": {
        "id": "wosrKFbn4vaq"
      },
      "outputs": [],
      "source": []
    },
    {
      "cell_type": "code",
      "execution_count": null,
      "metadata": {
        "id": "AX2hpqhx4vaq"
      },
      "outputs": [],
      "source": [
        "plt.plot(nmda_spktimes,np.random.randint(low=0,high=100,size=len(nmda_spktimes)),'.')\n",
        "plt.plot(spiketimes,np.tile(40,len(spiketimes)),'r*')"
      ]
    },
    {
      "cell_type": "code",
      "execution_count": null,
      "metadata": {
        "id": "BInnvuzU4vaq"
      },
      "outputs": [],
      "source": [
        "x1,_=np.histogram(spiketimes,bins=np.arange(0,10000,100))\n",
        "x2,_=np.histogram(nmda_spktimes,bins=np.arange(0,10000,100))"
      ]
    },
    {
      "cell_type": "code",
      "execution_count": null,
      "metadata": {
        "id": "cLJIEXrs4vaq"
      },
      "outputs": [],
      "source": [
        "# plt.figure(figsize=(10,8))\n",
        "# plt.plot(np.arange(0,10000,.1),control_v[:,176],color='b')\n",
        "# plt.plot(np.arange(0,10000,.1)[nmda_df.loc[nmda_df.seg_id==175,'nmda_lower_bound'].values.astype(int)],control_v[nmda_df.loc[nmda_df.seg_id==175,'nmda_lower_bound'].values.astype(int),176],'m*')\n",
        "# plt.plot(np.arange(0,10000,.1),control_v[:,0],color='k')\n",
        "# plt.xlim(6000,7000)"
      ]
    },
    {
      "cell_type": "code",
      "execution_count": null,
      "metadata": {
        "id": "sSAq2Kj64vaq"
      },
      "outputs": [],
      "source": []
    },
    {
      "cell_type": "code",
      "execution_count": null,
      "metadata": {
        "id": "RQXnGrXg4vaq"
      },
      "outputs": [],
      "source": []
    },
    {
      "cell_type": "code",
      "execution_count": null,
      "metadata": {
        "id": "EZB7_ygG4vaq"
      },
      "outputs": [],
      "source": []
    },
    {
      "cell_type": "code",
      "execution_count": null,
      "metadata": {
        "id": "yJUmMwPj4vaq"
      },
      "outputs": [],
      "source": []
    },
    {
      "cell_type": "code",
      "execution_count": null,
      "metadata": {
        "id": "PCmw_39l4vaq"
      },
      "outputs": [],
      "source": [
        "# # ind1 = 3 sent to Drew\n",
        "# ind1 = 2\n",
        "# e1 = control_inmda[legit_uc_iso[ind1], p]\n",
        "# e2 = control_inmda[legit_dc_iso[ind1], p]\n",
        "# x30 = np.argwhere(np.diff(control_inmda[legit_uc_iso[ind1]:legit_dc_iso[ind1], p] < 1.3*e1, prepend=False))\n",
        "# x15 = np.argwhere(np.diff(control_inmda[legit_uc_iso[ind1]:legit_dc_iso[ind1], p] < 1.15*e1, prepend=False))"
      ]
    },
    {
      "cell_type": "code",
      "execution_count": null,
      "metadata": {
        "id": "GMx0qX0y4vaq"
      },
      "outputs": [],
      "source": [
        "# import matplotlib\n",
        "# font = {'family' : 'normal',\n",
        "#         'weight' : 'normal',\n",
        "#         'size'   : 16}\n",
        "\n",
        "# matplotlib.rc('font', **font)\n",
        "\n",
        "# plt.figure(figsize=(12,10))\n",
        "# plt.plot(np.arange(0,(legit_dc_iso[ind1]-legit_uc_iso[ind1])/10, 0.1),\n",
        "#          control_inmda[legit_uc_iso[ind1]:legit_dc_iso[ind1], p],color='r',label='inmda @ dend.')\n",
        "# plt.hlines(1.3*e1,0,np.max(np.arange(0,(legit_dc_iso[ind1]-legit_uc_iso[ind1])/10, 0.1)),color='r',alpha=0.2)\n",
        "# plt.hlines(1.15*e1,0,np.max(np.arange(0,(legit_dc_iso[ind1]-legit_uc_iso[ind1])/10, 0.1)),color='r',alpha=0.2)\n",
        "# plt.ylabel('current (nA)')\n",
        "# plt.ylim(-0.010,0)\n",
        "# plt.legend(loc='upper center')\n",
        "# plt.xlabel('time (ms)')\n",
        "# plt.twinx()\n",
        "# plt.plot(np.arange(0,(legit_dc_iso[ind1]-legit_uc_iso[ind1])/10, 0.1),\n",
        "#          control_v[legit_uc_iso[ind1]:legit_dc_iso[ind1],p],color='b',label='dend. volt.')\n",
        "# plt.plot(np.arange(0,(legit_dc_iso[ind1]-legit_uc_iso[ind1])/10, 0.1),\n",
        "#          control_v[legit_uc_iso[ind1]:legit_dc_iso[ind1],0], color='k',label='soma volt.')\n",
        "\n",
        "\n",
        "# for i in np.arange(0,len(bounds)):\n",
        "#     plt.fill_between(np.array([bounds[i][0]/10,bounds[i][1]/10]).reshape(2,),-70,20,color='k',alpha=0.2)\n",
        "#     plt.text(bounds[i][0]/10,-20-(i*10),'{x:.2f}'.format(x=sum_current[i]))\n",
        "##plt.fill_between(np.array([bounds[1][0]/10,bounds[1][1]/10]).reshape(2,),-70,20,color='k',alpha=0.2)\n",
        "##plt.fill_between(np.array([bounds[2][0]/10,bounds[2][1]/10]).reshape(2,),-70,20,color='k',alpha=0.2)\n",
        "#plt.hlines(-40,0,np.max(np.arange(0,(legit_uc_iso[ind1+1]-legit_uc_iso[ind1])/10, 0.1)),linestyle='dashed')\n",
        "##plt.text(1.5,14,'NMDA\\nspike')\n",
        "#plt.ylabel('voltage (mV)')\n",
        "#plt.legend()"
      ]
    },
    {
      "cell_type": "code",
      "execution_count": null,
      "metadata": {
        "id": "Jy1JT1Nq4vaq"
      },
      "outputs": [],
      "source": [
        "# plt.figure(figsize=(12,10))\n",
        "# plt.plot(np.arange(0,10000,.1),control_v[:,p],label='control dend. v')\n",
        "# plt.plot(np.arange(0,10000,.1),NMDAblock_v[:,p],label='NMDA block dend. v')\n",
        "# plt.plot(np.arange(0,10000,.1),control_v[:,0],color='k',label='control soma v')\n",
        "\n",
        "# uc = voltage_criterion(control_v[:,p],-40)[0]\n",
        "\n",
        "\n",
        "# plt.plot(np.arange(0,10000,.1)[uc],control_v[uc,p],'*')\n",
        "# plt.plot(np.arange(0,10000,.1)[legit_uc],control_v[legit_uc,p],'m*')\n",
        "\n",
        "\n",
        "# center = np.floor(legit_uc[np.random.choice(np.arange(0,legit_uc.shape[0]))]/10)\n",
        "\n",
        "# plt.plot([center,center+26],[-80,-80],color='k')\n",
        "# plt.legend(loc='lower left')\n",
        "\n",
        "# plt.twinx()\n",
        "# plt.plot(np.arange(0,10000,.1),control_inmda[:,p],color='r',label='NMDA current')\n",
        "# plt.plot(np.arange(0,10000,.1)[legit_uc],control_inmda[legit_uc, p],'*')\n",
        "# #plt.plot(np.arange(0,10000,.1),control_gna[:,p],color='r',alpha=0.2, label='gNa')\n",
        "# plt.xlim(center-100,center+100)\n",
        "\n",
        "# plt.legend(loc='lower right')\n",
        "# plt.title('{}'.format(legit_uc))"
      ]
    },
    {
      "cell_type": "code",
      "execution_count": null,
      "metadata": {
        "id": "nMgTL3Kh4vaq"
      },
      "outputs": [],
      "source": [
        "# p = np.random.choice(segs[segs.Type=='apic'].index)\n",
        "# for i in spktimes:\n",
        "#     plt.plot(np.arange(0,20,.1), control_v[int(i*10)-100:int(i*10)+100,p])\n",
        "# plt.vlines(10,-65,0,color='k')\n",
        "# plt.ylim(-65,0)"
      ]
    },
    {
      "cell_type": "code",
      "execution_count": null,
      "metadata": {
        "id": "UkNA5PUa4vaq"
      },
      "outputs": [],
      "source": [
        "# p = 829#np.random.choice(segs[segs.Type=='dend'].index)\n",
        "# plt.title('dend {}'.format(p))\n",
        "# plt.plot(control_v[7200:7700,p],label='dend')\n",
        "# plt.plot(control_v[7200:7700,0],label='soma')\n",
        "# plt.hlines(-40,0,500)\n",
        "# plt.twinx()\n",
        "# plt.plot(control_inmda[7200:7700,p],color='r')\n",
        "# plt.legend()"
      ]
    },
    {
      "cell_type": "code",
      "execution_count": null,
      "metadata": {
        "id": "PTz_OD204vaq"
      },
      "outputs": [],
      "source": [
        "# control_v[10000,0]"
      ]
    },
    {
      "cell_type": "code",
      "execution_count": null,
      "metadata": {
        "id": "0j1tXS3E4var"
      },
      "outputs": [],
      "source": [
        "# plt.hist(control_v[10000,:])"
      ]
    },
    {
      "cell_type": "code",
      "execution_count": null,
      "metadata": {
        "id": "xc3yqYuK4var"
      },
      "outputs": [],
      "source": [
        "# plt.plot(control_v[:,1200])\n",
        "# plt.plot(NMDAblock_v[:,1200])"
      ]
    },
    {
      "cell_type": "code",
      "execution_count": null,
      "metadata": {
        "id": "yL_5vEQb4var"
      },
      "outputs": [],
      "source": [
        "# df = ids_pos.set_index(['BMTK ID', 'X']).join(segs.set_index(['BMTK ID', 'X'])).reset_index()"
      ]
    },
    {
      "cell_type": "code",
      "execution_count": null,
      "metadata": {
        "id": "-SAxAuK34var"
      },
      "outputs": [],
      "source": [
        "# df.loc[0,'Distance'], np.mean(f['report']['biophysical']['data'],axis=0)[0]"
      ]
    },
    {
      "cell_type": "code",
      "execution_count": null,
      "metadata": {
        "id": "tcCgvLcV4var"
      },
      "outputs": [],
      "source": [
        "# df[(df.Distance>900) & (df.Distance<1000)]"
      ]
    },
    {
      "cell_type": "code",
      "execution_count": null,
      "metadata": {
        "id": "iSQt7tgD4var"
      },
      "outputs": [],
      "source": [
        "# plt.scatter(np.arange(0,df.shape[0]), np.mean(f['report']['biophysical']['data'],axis=0))\n",
        "# plt.xlim(1740,1760)"
      ]
    },
    {
      "cell_type": "code",
      "execution_count": null,
      "metadata": {
        "id": "q5Lf7TbC4var"
      },
      "outputs": [],
      "source": [
        "# plt.figure(figsize=(10,6))\n",
        "# plt.scatter(df['Elec_distance'],np.mean(f['report']['biophysical']['data'],axis=0),alpha=0.2)\n",
        "# plt.scatter(df.loc[0,'Distance'], np.mean(f['report']['biophysical']['data'],axis=0)[0],color='r', marker='*', s=75)\n",
        "# plt.scatter(df.loc[1452,'Distance'], np.mean(f['report']['biophysical']['data'],axis=0)[1452],color='m',marker='*', s=75)\n",
        "# plt.scatter(df.loc[1754,'Distance'], np.mean(f['report']['biophysical']['data'],axis=0)[1754],color='k',marker='*', s=75)\n",
        "# plt.xlabel('distance from soma')\n",
        "# plt.ylabel('mean potential of segment (mV)')"
      ]
    },
    {
      "cell_type": "code",
      "execution_count": null,
      "metadata": {
        "id": "yVPunG4e4var"
      },
      "outputs": [],
      "source": [
        "# #plt.scatter(np.arange(0,f['report']['biophysical']['data'].shape[1]),np.mean(f['report']['biophysical']['data'],axis=0))\n",
        "\n",
        "# plt.figure(figsize=(10,6))\n",
        "\n",
        "# plt.plot(np.arange(0,2,0.0001),f['report']['biophysical']['data'][:,0],color='r')\n",
        "# plt.plot(np.arange(0,2,0.0001),f['report']['biophysical']['data'][:,1452],color='m')\n",
        "# plt.plot(np.arange(0,2,0.0001),f['report']['biophysical']['data'][:,1754],color='k')\n",
        "# plt.xlim(1.75,2)\n",
        "# plt.xlabel('time (s)')\n",
        "# plt.ylabel('membrane potential (mV)')"
      ]
    },
    {
      "cell_type": "code",
      "execution_count": null,
      "metadata": {
        "id": "WeeWcSCF4var"
      },
      "outputs": [],
      "source": []
    }
  ],
  "metadata": {
    "colab": {
      "provenance": [],
      "include_colab_link": true
    },
    "kernelspec": {
      "display_name": "Python 3.9.7 ('base': conda)",
      "language": "python",
      "name": "python3"
    },
    "language_info": {
      "codemirror_mode": {
        "name": "ipython",
        "version": 3
      },
      "file_extension": ".py",
      "mimetype": "text/x-python",
      "name": "python",
      "nbconvert_exporter": "python",
      "pygments_lexer": "ipython3",
      "version": "3.9.7"
    },
    "vscode": {
      "interpreter": {
        "hash": "8f3619f4fa641ed177aec79a1937dab9841a35bf4719b57c8f69b2dc3d4e9503"
      }
    }
  },
  "nbformat": 4,
  "nbformat_minor": 0
}