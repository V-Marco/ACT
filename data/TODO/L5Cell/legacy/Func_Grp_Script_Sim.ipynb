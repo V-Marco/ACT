{
  "nbformat": 4,
  "nbformat_minor": 0,
  "metadata": {
    "colab": {
      "provenance": [],
      "authorship_tag": "ABX9TyMZGhO3TeJuP+rPaQGpBEql",
      "include_colab_link": true
    },
    "kernelspec": {
      "name": "python3",
      "display_name": "Python 3"
    },
    "language_info": {
      "name": "python"
    }
  },
  "cells": [
    {
      "cell_type": "markdown",
      "metadata": {
        "id": "view-in-github",
        "colab_type": "text"
      },
      "source": [
        "<a href=\"https://colab.research.google.com/github/davidfague/Neural-Modeling/blob/main/Func_Grp_Script_Sim.ipynb\" target=\"_parent\"><img src=\"https://colab.research.google.com/assets/colab-badge.svg\" alt=\"Open In Colab\"/></a>"
      ]
    },
    {
      "cell_type": "code",
      "execution_count": 1,
      "metadata": {
        "id": "0xF6eTfOhNA1"
      },
      "outputs": [],
      "source": [
        "is_colab = 'google.colab' in str(get_ipython())"
      ]
    },
    {
      "cell_type": "code",
      "execution_count": 2,
      "metadata": {
        "colab": {
          "base_uri": "https://localhost:8080/"
        },
        "id": "ZUb0xOo7w7gt",
        "outputId": "b57df86d-e92c-488f-afae-7bb2b3bef852"
      },
      "outputs": [
        {
          "output_type": "stream",
          "name": "stdout",
          "text": [
            "Collecting neuron\n",
            "  Downloading NEURON-8.2.2-cp310-cp310-manylinux_2_17_x86_64.manylinux2014_x86_64.whl (14.9 MB)\n",
            "\u001b[?25l     \u001b[90m━━━━━━━━━━━━━━━━━━━━━━━━━━━━━━━━━━━━━━━━\u001b[0m \u001b[32m0.0/14.9 MB\u001b[0m \u001b[31m?\u001b[0m eta \u001b[36m-:--:--\u001b[0m\r\u001b[2K     \u001b[91m━━━━━━━━━━\u001b[0m\u001b[91m╸\u001b[0m\u001b[90m━━━━━━━━━━━━━━━━━━━━━━━━━━━━━\u001b[0m \u001b[32m3.9/14.9 MB\u001b[0m \u001b[31m116.4 MB/s\u001b[0m eta \u001b[36m0:00:01\u001b[0m\r\u001b[2K     \u001b[91m━━━━━━━━━━━━━━━━━━━━\u001b[0m\u001b[91m╸\u001b[0m\u001b[90m━━━━━━━━━━━━━━━━━━━\u001b[0m \u001b[32m7.7/14.9 MB\u001b[0m \u001b[31m110.3 MB/s\u001b[0m eta \u001b[36m0:00:01\u001b[0m\r\u001b[2K     \u001b[91m━━━━━━━━━━━━━━━━━━━━━━━━━━━━━━━\u001b[0m\u001b[90m╺\u001b[0m\u001b[90m━━━━━━━\u001b[0m \u001b[32m12.0/14.9 MB\u001b[0m \u001b[31m117.9 MB/s\u001b[0m eta \u001b[36m0:00:01\u001b[0m\r\u001b[2K     \u001b[91m━━━━━━━━━━━━━━━━━━━━━━━━━━━━━━━━━━━━━━\u001b[0m\u001b[91m╸\u001b[0m \u001b[32m14.9/14.9 MB\u001b[0m \u001b[31m118.2 MB/s\u001b[0m eta \u001b[36m0:00:01\u001b[0m\r\u001b[2K     \u001b[91m━━━━━━━━━━━━━━━━━━━━━━━━━━━━━━━━━━━━━━\u001b[0m\u001b[91m╸\u001b[0m \u001b[32m14.9/14.9 MB\u001b[0m \u001b[31m118.2 MB/s\u001b[0m eta \u001b[36m0:00:01\u001b[0m\r\u001b[2K     \u001b[90m━━━━━━━━━━━━━━━━━━━━━━━━━━━━━━━━━━━━━━━━\u001b[0m \u001b[32m14.9/14.9 MB\u001b[0m \u001b[31m71.8 MB/s\u001b[0m eta \u001b[36m0:00:00\u001b[0m\n",
            "\u001b[?25hRequirement already satisfied: numpy>=1.9.3 in /usr/local/lib/python3.10/dist-packages (from neuron) (1.22.4)\n",
            "Installing collected packages: neuron\n",
            "Successfully installed neuron-8.2.2\n",
            "Collecting neuron_reduce\n",
            "  Downloading neuron_reduce-0.0.7-py3-none-any.whl (18 kB)\n",
            "Installing collected packages: neuron_reduce\n",
            "Successfully installed neuron_reduce-0.0.7\n",
            "Cloning into 'Neural-Modeling'...\n",
            "remote: Enumerating objects: 1726, done.\u001b[K\n",
            "remote: Counting objects: 100% (637/637), done.\u001b[K\n",
            "remote: Compressing objects: 100% (248/248), done.\u001b[K\n",
            "remote: Total 1726 (delta 425), reused 567 (delta 379), pack-reused 1089\u001b[K\n",
            "Receiving objects: 100% (1726/1726), 24.59 MiB | 32.04 MiB/s, done.\n",
            "Resolving deltas: 100% (1135/1135), done.\n",
            "/content/Neural-Modeling/scripts\n"
          ]
        }
      ],
      "source": [
        "import os\n",
        "import sys\n",
        "\n",
        "if is_colab:\n",
        "    !pip install neuron\n",
        "    !pip install neuron_reduce\n",
        "    os.chdir('/content')\n",
        "    !git clone https://github.com/davidfague/Neural-Modeling.git\n",
        "    !git clone https://github.com/chenziao/Stylized-Single-Cell-and-Extracellular-Potential.git &> /dev/null\n",
        "    # This will copy the contents of the second repository into the first one\n",
        "    !cp -r Stylized-Single-Cell-and-Extracellular-Potential/* Neural-Modeling/\n",
        "    !cp -r Neural-Modeling/scripts/* Neural-Modeling/\n",
        "    # Then remove the second directory\n",
        "    !rm -rf Stylized-Single-Cell-and-Extracellular-Potential\n",
        "    %cd Neural-Modeling/scripts/"
      ]
    },
    {
      "cell_type": "code",
      "source": [
        "os.mkdir('output')"
      ],
      "metadata": {
        "id": "J1iJ1zDN7UN5"
      },
      "execution_count": 3,
      "outputs": []
    },
    {
      "cell_type": "code",
      "source": [
        "!pwd"
      ],
      "metadata": {
        "colab": {
          "base_uri": "https://localhost:8080/"
        },
        "id": "tiCy0ni278e4",
        "outputId": "eeabcbd8-5040-4fc0-f06d-f6eac89b5e52"
      },
      "execution_count": 4,
      "outputs": [
        {
          "output_type": "stream",
          "name": "stdout",
          "text": [
            "/content/Neural-Modeling/scripts\n"
          ]
        }
      ]
    },
    {
      "cell_type": "code",
      "source": [
        "!python 'func_group_script.py'"
      ],
      "metadata": {
        "colab": {
          "base_uri": "https://localhost:8080/"
        },
        "id": "GFp8uJkA19Am",
        "outputId": "dbda257a-7da9-4c92-b58a-790560068e93"
      },
      "execution_count": 5,
      "outputs": [
        {
          "output_type": "stream",
          "name": "stdout",
          "text": [
            "Warning: no DISPLAY environment variable.\n",
            "--No graphics will be displayed.\n",
            "/content/Neural-Modeling/scripts\n",
            "Mod files: \"../modfiles/../modfiles/AMPA_NMDA.mod\" \"../modfiles/../modfiles/AMPA_NMDA_STP_LTP.mod\" \"../modfiles/../modfiles/AMPA_NMDA_STP.mod\" \"../modfiles/../modfiles/CaDynamics_E2.mod\" \"../modfiles/../modfiles/Ca_HVA.mod\" \"../modfiles/../modfiles/Ca_LVAst.mod\" \"../modfiles/../modfiles/epsp.mod\" \"../modfiles/../modfiles/GABA_AB.mod\" \"../modfiles/../modfiles/GABA_AB_STP.mod\" \"../modfiles/../modfiles/Ih.mod\" \"../modfiles/../modfiles/Im.mod\" \"../modfiles/../modfiles/int2pyr.mod\" \"../modfiles/../modfiles/K_Pst.mod\" \"../modfiles/../modfiles/K_Tst.mod\" \"../modfiles/../modfiles/Nap_Et2.mod\" \"../modfiles/../modfiles/NaTa_t.mod\" \"../modfiles/../modfiles/NaTs2_t.mod\" \"../modfiles/../modfiles/pyr2pyr.mod\" \"../modfiles/../modfiles/SK_E2.mod\" \"../modfiles/../modfiles/SKv3_1.mod\" \"../modfiles/../modfiles/vecevent.mod\"\n",
            "\n",
            "Creating 'x86_64' directory for .o files.\n",
            "\n",
            " -> \u001b[32mCompiling\u001b[0m mod_func.cpp\n",
            " -> \u001b[32mNMODL\u001b[0m ../../modfiles/AMPA_NMDA.mod\n",
            " -> \u001b[32mNMODL\u001b[0m ../../modfiles/AMPA_NMDA_STP_LTP.mod\n",
            " -> \u001b[32mNMODL\u001b[0m ../../modfiles/AMPA_NMDA_STP.mod\n",
            "Translating AMPA_NMDA.mod into /content/Neural-Modeling/scripts/x86_64/AMPA_NMDA.c\n",
            "Translating AMPA_NMDA_STP_LTP.mod into /content/Neural-Modeling/scripts/x86_64/AMPA_NMDA_STP_LTP.c\n",
            "Thread Safe\n",
            "Translating AMPA_NMDA_STP.mod into /content/Neural-Modeling/scripts/x86_64/AMPA_NMDA_STP.c\n",
            "Thread Safe\n",
            "Thread Safe\n",
            " -> \u001b[32mNMODL\u001b[0m ../../modfiles/CaDynamics_E2.mod\n",
            " -> \u001b[32mNMODL\u001b[0m ../../modfiles/Ca_HVA.mod\n",
            " -> \u001b[32mNMODL\u001b[0m ../../modfiles/Ca_LVAst.mod\n",
            "Translating Ca_HVA.mod into /content/Neural-Modeling/scripts/x86_64/Ca_HVA.c\n",
            "Thread Safe\n",
            "Translating Ca_LVAst.mod into /content/Neural-Modeling/scripts/x86_64/Ca_LVAst.c\n",
            "Translating CaDynamics_E2.mod into /content/Neural-Modeling/scripts/x86_64/CaDynamics_E2.c\n",
            "Thread Safe\n",
            "Thread Safe\n",
            " -> \u001b[32mNMODL\u001b[0m ../../modfiles/epsp.mod\n",
            " -> \u001b[32mNMODL\u001b[0m ../../modfiles/GABA_AB.mod\n",
            " -> \u001b[32mNMODL\u001b[0m ../../modfiles/GABA_AB_STP.mod\n",
            "Translating epsp.mod into /content/Neural-Modeling/scripts/x86_64/epsp.c\n",
            "Translating GABA_AB.mod into /content/Neural-Modeling/scripts/x86_64/GABA_AB.c\n",
            "Thread Safe\n",
            " -> \u001b[32mNMODL\u001b[0m ../../modfiles/Ih.mod\n",
            "Thread Safe\n",
            "Translating GABA_AB_STP.mod into /content/Neural-Modeling/scripts/x86_64/GABA_AB_STP.c\n",
            " -> \u001b[32mNMODL\u001b[0m ../../modfiles/Im.mod\n",
            "Translating Ih.mod into /content/Neural-Modeling/scripts/x86_64/Ih.c\n",
            "Thread Safe\n",
            "Thread Safe\n",
            " -> \u001b[32mNMODL\u001b[0m ../../modfiles/int2pyr.mod\n",
            "Translating Im.mod into /content/Neural-Modeling/scripts/x86_64/Im.c\n",
            " -> \u001b[32mNMODL\u001b[0m ../../modfiles/K_Pst.mod\n",
            "Thread Safe\n",
            " -> \u001b[32mNMODL\u001b[0m ../../modfiles/K_Tst.mod\n",
            "Translating int2pyr.mod into /content/Neural-Modeling/scripts/x86_64/int2pyr.c\n",
            "Translating K_Tst.mod into /content/Neural-Modeling/scripts/x86_64/K_Tst.c\n",
            "Thread Safe\n",
            " -> \u001b[32mNMODL\u001b[0m ../../modfiles/Nap_Et2.mod\n",
            "Translating Nap_Et2.mod into /content/Neural-Modeling/scripts/x86_64/Nap_Et2.c\n",
            "Translating K_Pst.mod into /content/Neural-Modeling/scripts/x86_64/K_Pst.c\n",
            "Thread Safe\n",
            "Thread Safe\n",
            " -> \u001b[32mNMODL\u001b[0m ../../modfiles/NaTa_t.mod\n",
            " -> \u001b[32mNMODL\u001b[0m ../../modfiles/NaTs2_t.mod\n",
            "WARNING: Dimensions may be wrong for READ ica with POINT_PROCESS\n",
            "WARNING: Dimensions may be wrong for READ ica with POINT_PROCESS\n",
            "WARNING: Dimensions may be wrong for READ ica with POINT_PROCESS\n",
            "WARNING: Dimensions may be wrong for READ ica with POINT_PROCESS\n",
            "WARNING: Dimensions may be wrong for READ ica with POINT_PROCESS\n",
            "Thread Safe\n",
            "Translating NaTs2_t.mod into /content/Neural-Modeling/scripts/x86_64/NaTs2_t.c\n",
            "Translating NaTa_t.mod into /content/Neural-Modeling/scripts/x86_64/NaTa_t.c\n",
            "Thread Safe\n",
            "Thread Safe\n",
            " -> \u001b[32mNMODL\u001b[0m ../../modfiles/pyr2pyr.mod\n",
            " -> \u001b[32mNMODL\u001b[0m ../../modfiles/SK_E2.mod\n",
            " -> \u001b[32mNMODL\u001b[0m ../../modfiles/SKv3_1.mod\n",
            "Translating pyr2pyr.mod into /content/Neural-Modeling/scripts/x86_64/pyr2pyr.c\n",
            "Translating SK_E2.mod into /content/Neural-Modeling/scripts/x86_64/SK_E2.c\n",
            "Thread Safe\n",
            " -> \u001b[32mNMODL\u001b[0m ../../modfiles/vecevent.mod\n",
            "Thread Safe\n",
            " -> \u001b[32mCompiling\u001b[0m AMPA_NMDA.c\n",
            "Translating SKv3_1.mod into /content/Neural-Modeling/scripts/x86_64/SKv3_1.c\n",
            "Translating vecevent.mod into /content/Neural-Modeling/scripts/x86_64/vecevent.c\n",
            "Notice: Use of POINTER is not thread safe.\n",
            "Notice: VERBATIM blocks are not thread safe\n",
            "Thread Safe\n",
            "Notice: ARTIFICIAL_CELL is a synonym for POINT_PROCESS which hints that it\n",
            "only affects and is affected by discrete events. As such it is not\n",
            "located in a section and is not associated with an integrator\n",
            " -> \u001b[32mCompiling\u001b[0m AMPA_NMDA_STP_LTP.c\n",
            " -> \u001b[32mCompiling\u001b[0m AMPA_NMDA_STP.c\n",
            " -> \u001b[32mCompiling\u001b[0m CaDynamics_E2.c\n",
            " -> \u001b[32mCompiling\u001b[0m Ca_HVA.c\n",
            " -> \u001b[32mCompiling\u001b[0m Ca_LVAst.c\n",
            " -> \u001b[32mCompiling\u001b[0m epsp.c\n",
            " -> \u001b[32mCompiling\u001b[0m GABA_AB.c\n",
            " -> \u001b[32mCompiling\u001b[0m GABA_AB_STP.c\n",
            " -> \u001b[32mCompiling\u001b[0m Ih.c\n",
            " -> \u001b[32mCompiling\u001b[0m Im.c\n",
            " -> \u001b[32mCompiling\u001b[0m int2pyr.c\n",
            " -> \u001b[32mCompiling\u001b[0m K_Pst.c\n",
            " -> \u001b[32mCompiling\u001b[0m K_Tst.c\n",
            " -> \u001b[32mCompiling\u001b[0m Nap_Et2.c\n",
            " -> \u001b[32mCompiling\u001b[0m NaTa_t.c\n",
            " -> \u001b[32mCompiling\u001b[0m NaTs2_t.c\n",
            " -> \u001b[32mCompiling\u001b[0m pyr2pyr.c\n",
            " -> \u001b[32mCompiling\u001b[0m SK_E2.c\n",
            " -> \u001b[32mCompiling\u001b[0m SKv3_1.c\n",
            " -> \u001b[32mCompiling\u001b[0m vecevent.c\n",
            " => \u001b[32mLINKING\u001b[0m shared library ./libnrnmech.so\n",
            " => \u001b[32mLINKING\u001b[0m executable ./special LDFLAGS are:    -pthread\n",
            "Successfully created x86_64/special\n",
            "Running for seeds (123, 1)...\n",
            "^C\n"
          ]
        }
      ]
    }
  ]
}