{
  "cells": [
    {
      "cell_type": "markdown",
      "metadata": {
        "id": "view-in-github",
        "colab_type": "text"
      },
      "source": [
        "<a href=\"https://colab.research.google.com/github/davidfague/Neural-Modeling/blob/main/Postsynaptic_Currents.ipynb\" target=\"_parent\"><img src=\"https://colab.research.google.com/assets/colab-badge.svg\" alt=\"Open In Colab\"/></a>"
      ]
    },
    {
      "cell_type": "code",
      "execution_count": 1,
      "metadata": {
        "id": "0xF6eTfOhNA1"
      },
      "outputs": [],
      "source": [
        "is_colab = 'google.colab' in str(get_ipython())"
      ]
    },
    {
      "cell_type": "code",
      "execution_count": 2,
      "metadata": {
        "colab": {
          "base_uri": "https://localhost:8080/"
        },
        "id": "ZUb0xOo7w7gt",
        "outputId": "bc3ecd0f-379d-4dd9-9595-d916da984fc5"
      },
      "outputs": [
        {
          "output_type": "stream",
          "name": "stdout",
          "text": [
            "Collecting neuron\n",
            "  Downloading NEURON-8.2.2-cp310-cp310-manylinux_2_17_x86_64.manylinux2014_x86_64.whl (14.9 MB)\n",
            "\u001b[2K     \u001b[90m━━━━━━━━━━━━━━━━━━━━━━━━━━━━━━━━━━━━━━━━\u001b[0m \u001b[32m14.9/14.9 MB\u001b[0m \u001b[31m43.8 MB/s\u001b[0m eta \u001b[36m0:00:00\u001b[0m\n",
            "\u001b[?25hRequirement already satisfied: numpy>=1.9.3 in /usr/local/lib/python3.10/dist-packages (from neuron) (1.22.4)\n",
            "Installing collected packages: neuron\n",
            "Successfully installed neuron-8.2.2\n",
            "Collecting neuron_reduce\n",
            "  Downloading neuron_reduce-0.0.7-py3-none-any.whl (18 kB)\n",
            "Installing collected packages: neuron_reduce\n",
            "Successfully installed neuron_reduce-0.0.7\n",
            "Cloning into 'Neural-Modeling'...\n",
            "remote: Enumerating objects: 951, done.\u001b[K\n",
            "remote: Counting objects: 100% (508/508), done.\u001b[K\n",
            "remote: Compressing objects: 100% (241/241), done.\u001b[K\n",
            "remote: Total 951 (delta 331), reused 396 (delta 264), pack-reused 443\u001b[K\n",
            "Receiving objects: 100% (951/951), 5.88 MiB | 23.25 MiB/s, done.\n",
            "Resolving deltas: 100% (602/602), done.\n"
          ]
        }
      ],
      "source": [
        "if is_colab:\n",
        "    !pip install neuron\n",
        "    !pip install neuron_reduce\n",
        "    !git clone https://github.com/davidfague/Neural-Modeling.git"
      ]
    },
    {
      "cell_type": "code",
      "execution_count": 3,
      "metadata": {
        "colab": {
          "base_uri": "https://localhost:8080/"
        },
        "id": "A7K-oURLxTiQ",
        "outputId": "eceed0a3-2fb9-4715-b184-af6b771b48c3"
      },
      "outputs": [
        {
          "output_type": "stream",
          "name": "stdout",
          "text": [
            "/content/Neural-Modeling\n"
          ]
        }
      ],
      "source": [
        "if is_colab:\n",
        "    %cd Neural-Modeling/\n",
        "\n",
        "from Modules.synapse_generator import SynapseGenerator\n",
        "from Modules.reduction import Reductor\n",
        "from Modules.recorder import Recorder\n",
        "from Modules.cell_model import CellModel\n",
        "from Modules.spike_generator import SpikeGenerator\n",
        "from Modules.complex_cell import build_L5_cell\n",
        "from Modules.functional_group import FunctionalGroup, Cluster, generate_excitatory_functional_groups, generate_inhibitory_functional_groups\n",
        "from Modules.cell_utils import get_segments_and_len_per_segment, calc_seg_coords\n",
        "\n",
        "import numpy as np\n",
        "from functools import partial\n",
        "import scipy.stats as st\n",
        "\n",
        "from neuron import h\n",
        "\n",
        "import ipywidgets as widgets\n",
        "from ipywidgets import interactive_output, HBox, VBox, Layout\n",
        "from Modules.plotting_utils import plot_morphology\n",
        "import matplotlib.pyplot as plt\n",
        "from Modules.plotting_utils import plot_simulation_results"
      ]
    },
    {
      "cell_type": "code",
      "source": [
        "np.random.seed(123)"
      ],
      "metadata": {
        "id": "acF99nma0LvH"
      },
      "execution_count": 4,
      "outputs": []
    },
    {
      "cell_type": "code",
      "execution_count": 5,
      "metadata": {
        "id": "owr4OLYxhNA5"
      },
      "outputs": [],
      "source": [
        "# Global vars\n",
        "reduce_cell = False\n",
        "expand_cable = False\n",
        "choose_branches = 22\n",
        "\n",
        "complex_cell_folder = 'complex_cells/L5PC/'\n",
        "\n",
        "# Simulation params\n",
        "h_celcius = 37 # Sim runtime\n",
        "h_tstop = 2000\n",
        "h_dt = 0.1 # Timestep (ms)\n",
        "\n",
        "# Time vector for generating inputs\n",
        "t = np.arange(0, h_tstop, 1)"
      ]
    },
    {
      "cell_type": "markdown",
      "metadata": {
        "id": "9SyUE-Vc7Fy_"
      },
      "source": [
        "## Build Complex Cell"
      ]
    },
    {
      "cell_type": "markdown",
      "metadata": {
        "id": "rgqP23TO90vl"
      },
      "source": [
        "### Compile modfiles"
      ]
    },
    {
      "cell_type": "code",
      "execution_count": 6,
      "metadata": {
        "id": "s30Jrqug93Kr"
      },
      "outputs": [],
      "source": [
        "%%capture\n",
        "\n",
        "# If this cell doesn't work, delete the compiled modfiles and restart the kernel\n",
        "!nrnivmodl modfiles\n",
        "h.load_file('stdrun.hoc')\n",
        "h.nrn_load_dll('./x86_64/.libs/libnrnmech.so') # load modfiles"
      ]
    },
    {
      "cell_type": "markdown",
      "metadata": {
        "id": "5xR1869j93lm"
      },
      "source": [
        "### Build cell"
      ]
    },
    {
      "cell_type": "code",
      "execution_count": 7,
      "metadata": {
        "id": "DY2Dyw3D7GEp"
      },
      "outputs": [],
      "source": [
        "complex_cell = build_L5_cell(cell_folder=complex_cell_folder, biophys='L5PCbiophys3ActiveBasal.hoc')\n",
        "\n",
        "h.celsius = h_celcius\n",
        "h.v_init = complex_cell.soma[0].e_pas\n",
        "\n",
        "# Sim runtime\n",
        "h.tstop = h_tstop\n",
        "\n",
        "# Timestep (ms)\n",
        "h.dt = h_dt\n",
        "h.steps_per_ms = 1 / h.dt"
      ]
    },
    {
      "cell_type": "code",
      "execution_count": 8,
      "metadata": {
        "id": "e2jZTzkWBIsF"
      },
      "outputs": [],
      "source": [
        "# Reductor(cell = complex_cell, method = 'lambda') # reduce cell nseg to 10 segments per length constant"
      ]
    },
    {
      "cell_type": "code",
      "source": [
        "class SEClamp(object):\n",
        "    def __init__(self, amplitudes, durations, seg, rs=None):\n",
        "        self._seclamp_amps = amplitudes\n",
        "        self._seclamp_durs = durations\n",
        "        self._seclamp_rs = rs\n",
        "        self._stim = None\n",
        "        self.attach_current(seg)\n",
        "        self.setup_recorder()\n",
        "\n",
        "    def attach_current(self, seg):\n",
        "        self._stim = h.SEClamp(seg)\n",
        "        self._stim.dur1 = self._seclamp_durs[0]\n",
        "        self._stim.dur2 = self._seclamp_durs[1]\n",
        "        self._stim.dur3 = self._seclamp_durs[2]\n",
        "\n",
        "        self._stim.amp1 = self._seclamp_amps[0]\n",
        "        self._stim.amp2 = self._seclamp_amps[1]\n",
        "        self._stim.amp3 = self._seclamp_amps[2]\n",
        "\n",
        "        if self._seclamp_rs != None:\n",
        "            self._stim.rs = self._seclamp_rs\n",
        "\n",
        "    def setup_recorder(self):\n",
        "        size = [round(h.tstop / h.dt) + 1]\n",
        "        self.rec_vec = h.Vector(*size).record(self._stim._ref_i)\n",
        "\n",
        "soma_seg = complex_cell.soma[0](0.5)\n",
        "holding_v=0 # mV # clamp at opposing synapse reversal potential\n",
        "N=1\n",
        "amps = [holding_v, holding_v, holding_v]\n",
        "durations = [500, 0, 0]\n",
        "rs = 0.01\n",
        "clamp = SEClamp(amplitudes = amps,\n",
        "        durations = durations,\n",
        "        seg = soma_seg,\n",
        "        rs = rs)"
      ],
      "metadata": {
        "id": "zSNHynAclPfH"
      },
      "execution_count": 9,
      "outputs": []
    },
    {
      "cell_type": "code",
      "source": [
        "cell=CellModel(complex_cell)"
      ],
      "metadata": {
        "colab": {
          "base_uri": "https://localhost:8080/"
        },
        "id": "T2XCkQtmtiR4",
        "outputId": "4a6ba997-56eb-4785-827a-8d297fe20501"
      },
      "execution_count": 10,
      "outputs": [
        {
          "output_type": "stream",
          "name": "stdout",
          "text": [
            "Generating 3D coordinates for L5PCtemplate[0].axon[0]\n",
            "Generating 3D coordinates for L5PCtemplate[0].axon[1]\n"
          ]
        }
      ]
    },
    {
      "cell_type": "code",
      "source": [
        "synapse_generator = SynapseGenerator()"
      ],
      "metadata": {
        "id": "DRhvCxfJuBQD"
      },
      "execution_count": 11,
      "outputs": []
    },
    {
      "cell_type": "code",
      "source": [
        "synapse_generator.add_synapses_to_cell(cell=cell,segments=[soma_seg], syn_mod='GABA_AB',number_of_synapses=1, record = True, gmax = 1.65)"
      ],
      "metadata": {
        "id": "ILaGJnS9uE-j"
      },
      "execution_count": 12,
      "outputs": []
    },
    {
      "cell_type": "code",
      "source": [
        "cell.synapses"
      ],
      "metadata": {
        "colab": {
          "base_uri": "https://localhost:8080/"
        },
        "id": "2Og6U6EAu8AX",
        "outputId": "759ad266-43c9-4283-ca4f-fc32c4001fd0"
      },
      "execution_count": 13,
      "outputs": [
        {
          "output_type": "execute_result",
          "data": {
            "text/plain": [
              "[<Modules.synapse.Synapse at 0x7f3a026e75b0>]"
            ]
          },
          "metadata": {},
          "execution_count": 13
        }
      ]
    },
    {
      "cell_type": "code",
      "source": [
        "spike_generator=SpikeGenerator()"
      ],
      "metadata": {
        "id": "Ohi4Bcchtsfi"
      },
      "execution_count": 14,
      "outputs": []
    },
    {
      "cell_type": "code",
      "source": [
        "# Proximal inh mean_fr distribution\n",
        "mean_fr, std_fr = 16.9, 14.3\n",
        "a, b = (0 - mean_fr) / std_fr, (100 - mean_fr) / std_fr\n",
        "proximal_inh_dist = partial(st.truncnorm.rvs, a = a, b = b, loc = mean_fr, scale = std_fr)"
      ],
      "metadata": {
        "id": "8YuQpfK7voLu"
      },
      "execution_count": 15,
      "outputs": []
    },
    {
      "cell_type": "code",
      "source": [
        "spike_generator.generate_inputs_to_cell(cell = cell, synapses = cell.synapses, t = np.arange(0,(h.tstop+h.dt),h.dt),\n",
        "                                        mean_firing_rate = proximal_inh_dist,\n",
        "                                        method='1f_noise', # will need to update to actual method\n",
        "                                        origin=\"same_presynaptic_cell\") # origin should not matter with only one synapse"
      ],
      "metadata": {
        "id": "O57XcBtKtvm-"
      },
      "execution_count": 16,
      "outputs": []
    },
    {
      "cell_type": "code",
      "source": [
        "# Record time points\n",
        "t_vec = h.Vector(round(h.tstop / h.dt) + 1).record(h._ref_t)\n",
        "\n",
        "# Record membrane voltage of all segments\n",
        "V_rec = Recorder([soma_seg])"
      ],
      "metadata": {
        "id": "0AACGjVtsErO"
      },
      "execution_count": 18,
      "outputs": []
    },
    {
      "cell_type": "code",
      "source": [
        "h.run()"
      ],
      "metadata": {
        "colab": {
          "base_uri": "https://localhost:8080/"
        },
        "id": "VQCU6Kdpqh9P",
        "outputId": "17e1ec5e-16d4-4096-8e87-a516d8fe9049"
      },
      "execution_count": 19,
      "outputs": [
        {
          "output_type": "execute_result",
          "data": {
            "text/plain": [
              "0.0"
            ]
          },
          "metadata": {},
          "execution_count": 19
        }
      ]
    },
    {
      "cell_type": "code",
      "source": [
        "# Get results\n",
        "t = t_vec.as_numpy().copy()  # time array (ms)\n",
        "# Soma membrane potential\n",
        "Vm = V_rec.as_numpy()\n",
        "# Voltage clamp current\n",
        "SEclamp_current = np.array(clamp.rec_vec)"
      ],
      "metadata": {
        "id": "9VSkHiCAsMeQ"
      },
      "execution_count": 20,
      "outputs": []
    },
    {
      "cell_type": "code",
      "source": [
        "v_soma = Vm[0]\n",
        "\n",
        "plt.figure(figsize=(10, 4))\n",
        "plt.plot(t, v_soma, label='Soma')\n",
        "plt.ylabel('Membrane potential (mV)')\n",
        "plt.xlabel('time (ms)')\n",
        "plt.xlim(t[[0, -1]])\n",
        "plt.legend()\n",
        "plt.savefig('Vm')"
      ],
      "metadata": {
        "colab": {
          "base_uri": "https://localhost:8080/",
          "height": 388
        },
        "id": "PDXF58U4tI9n",
        "outputId": "83627bba-a4f5-4138-d9ca-01b4e41490ce"
      },
      "execution_count": 21,
      "outputs": [
        {
          "output_type": "display_data",
          "data": {
            "text/plain": [
              "<Figure size 1000x400 with 1 Axes>"
            ],
            "image/png": "[encoded data removed]"
          },
          "metadata": {}
        }
      ]
    },
    {
      "cell_type": "code",
      "source": [
        "plt.figure()\n",
        "plt.plot(t[1:],SEclamp_current[1:])"
      ],
      "metadata": {
        "colab": {
          "base_uri": "https://localhost:8080/",
          "height": 448
        },
        "id": "XfIvjscPq11L",
        "outputId": "6e9290e5-2ff5-43b1-868b-b6d1d1eab883"
      },
      "execution_count": 22,
      "outputs": [
        {
          "output_type": "execute_result",
          "data": {
            "text/plain": [
              "[<matplotlib.lines.Line2D at 0x7f3a0002c190>]"
            ]
          },
          "metadata": {},
          "execution_count": 22
        },
        {
          "output_type": "display_data",
          "data": {
            "text/plain": [
              "<Figure size 640x480 with 1 Axes>"
            ],
            "image/png": "[encoded data removed]"
          },
          "metadata": {}
        }
      ]
    },
    {
      "cell_type": "markdown",
      "source": [
        "# TO DO:\n",
        " zoom in on spike arrival (use spike_generator.spike_trains[0])\n",
        "\n",
        " implement excitatory synapses\n",
        "\n",
        "repeat simulation with vary conductance values\n",
        "\n",
        "\n",
        "\n",
        "Below is code from the full simulation."
      ],
      "metadata": {
        "id": "5xzHiR06GDCl"
      }
    },
    {
      "cell_type": "markdown",
      "metadata": {
        "id": "M8zHftvchNBG"
      },
      "source": [
        "#### Excitatory"
      ]
    },
    {
      "cell_type": "code",
      "execution_count": null,
      "metadata": {
        "id": "LnYE6blI8nOl"
      },
      "outputs": [],
      "source": [
        "# Excitatory gmax distribution\n",
        "exc_gmax_mean_0 = 0.2\n",
        "exc_gmax_std_0 = 0.345\n",
        "\n",
        "gmax_mean = np.log(exc_gmax_mean_0) - 0.5 * np.log((exc_gmax_std_0 / exc_gmax_mean_0) ** 2 + 1)\n",
        "gmax_std = np.sqrt(np.log((exc_gmax_std_0 / exc_gmax_mean_0) ** 2 + 1))\n",
        "\n",
        "# gmax distribution\n",
        "def log_norm_dist(gmax_mean, gmax_std, size):\n",
        "\ts = float(np.clip(np.random.lognormal(gmax_mean, gmax_std, size), 0, 5))\n",
        "\treturn s\n",
        "\n",
        "gmax_exc_dist = partial(log_norm_dist, gmax_mean, gmax_std, size = 1)\n",
        "\n",
        "# Excitatory firing rate distribution\n",
        "def exp_levy_dist(alpha = 1.37, beta = -1.00, loc = 0.92, scale = 0.44, size = 1):\n",
        "\treturn np.exp(st.levy_stable.rvs(alpha = alpha, beta = beta, loc = loc, scale = scale, size = size)) + 1e-15"
      ]
    },
    {
      "cell_type": "code",
      "execution_count": null,
      "metadata": {
        "id": "3MMaeMeahNBH"
      },
      "outputs": [],
      "source": [
        "spike_generator = SpikeGenerator()\n",
        "synapse_generator = SynapseGenerator()"
      ]
    },
    {
      "cell_type": "code",
      "execution_count": null,
      "metadata": {
        "id": "YyTuAQoOhNBH"
      },
      "outputs": [],
      "source": [
        "synaptic_density = 2.12\n",
        "functional_group_span = 100\n",
        "cluster_span = 10\n",
        "synapses_per_cluster = 5\n",
        "\n",
        "number_of_groups = int(sum(all_len_per_segment) / functional_group_span)\n",
        "\n",
        "# Number of presynaptic cells\n",
        "cells_per_group = int(functional_group_span*synaptic_density / synapses_per_cluster)\n",
        "\n",
        "# Distribution of mean firing rates\n",
        "mean_fr_dist = partial(exp_levy_dist, alpha = 1.37, beta = -1.00, loc = 0.92, scale = 0.44, size = 1)\n",
        "\n",
        "# Distribution of release probability\n",
        "\n",
        "\n",
        "adjusted_no_soma_len_per_segment=[]# new list to change probabilty of exc functional group nearing soma\n",
        "for i,seg in enumerate(no_soma_segments):\n",
        "  if h.distance(seg, complex_cell.soma[0](0.5))<100:\n",
        "    adjusted_no_soma_len_per_segment.append(no_soma_len_per_segment[i]/10)\n",
        "  else:\n",
        "    adjusted_no_soma_len_per_segment.append(no_soma_len_per_segment[i])"
      ]
    },
    {
      "cell_type": "code",
      "execution_count": null,
      "metadata": {
        "id": "NIClLEpHhNBH"
      },
      "outputs": [],
      "source": [
        "exc_functional_groups = generate_excitatory_functional_groups(\n",
        "                                                              all_segments = no_soma_segments,\n",
        "                                                              #  all_len_per_segment = all_len_per_segment,\n",
        "                                                              all_len_per_segment = adjusted_no_soma_len_per_segment,\n",
        "                                                              # all_len_per_segment = all_SA_per_segment,\n",
        "                                                              all_segments_centers=no_soma_segments_center,\n",
        "                                                              number_of_groups = number_of_groups,\n",
        "                                                              cells_per_group = cells_per_group,\n",
        "                                                              synapses_per_cluster = synapses_per_cluster,\n",
        "                                                              functional_group_span = functional_group_span,\n",
        "                                                              cluster_span = cluster_span,\n",
        "                                                              gmax_dist = gmax_exc_dist,\n",
        "                                                              mean_fr_dist = mean_fr_dist,\n",
        "                                                              spike_generator = spike_generator,\n",
        "                                                              synapse_generator = synapse_generator,\n",
        "                                                              t = t, record = True,\n",
        "                                                              # syn_params = {\"P_0\": 0.6}, syn_mod='pyr2pyr'\n",
        "                                                              syn_mod='AMPA_NMDA'\n",
        "                                                              )"
      ]
    },
    {
      "cell_type": "code",
      "source": [
        "exc_spikes = spike_generator.spike_trains"
      ],
      "metadata": {
        "id": "ZROipDwsnVK8"
      },
      "execution_count": null,
      "outputs": []
    },
    {
      "cell_type": "markdown",
      "metadata": {
        "id": "2WtbYMI7hNBI"
      },
      "source": [
        "#### Inhibitory"
      ]
    },
    {
      "cell_type": "code",
      "execution_count": null,
      "metadata": {
        "id": "06AG9jiPv5BR"
      },
      "outputs": [],
      "source": [
        "synaptic_density = 0.22\n",
        "cluster_span = 10\n",
        "\n",
        "synapses = synaptic_density * sum(all_len_per_segment)\n",
        "number_of_clusters = int(sum(all_len_per_segment) / cluster_span)\n",
        "synapses_per_cluster = int(cluster_span * synaptic_density) # 12 # synapses/number_of_clusters\n",
        "# synapses_per_node=5\n",
        "# number_of_clusters=int(synapses / (cluster_span * synaptic_density)) # number of presynaptic cells\n",
        "\n",
        "# Proximal inh mean_fr distribution\n",
        "mean_fr, std_fr = 16.9, 14.3\n",
        "a, b = (0 - mean_fr) / std_fr, (100 - mean_fr) / std_fr\n",
        "proximal_inh_dist = partial(st.truncnorm.rvs, a = a, b = b, loc = mean_fr, scale = std_fr)\n",
        "\n",
        "# Distal inh mean_fr distribution\n",
        "mean_fr, std_fr = 3.9, 4.3\n",
        "a, b = (0 - mean_fr) / std_fr, (100 - mean_fr) / std_fr\n",
        "distal_inh_dist = partial(st.truncnorm.rvs, a=a, b=b, loc=mean_fr, scale=std_fr)\n",
        "\n",
        "gmax_dist = 1.65 # need inh gmax distribution\n",
        "number_of_groups = 1\n",
        "\n",
        "inhibitory_functional_groups = generate_inhibitory_functional_groups(cell=complex_cell,\n",
        "                                                                     all_segments = all_segments,\n",
        "                                                                      all_len_per_segment = all_len_per_segment,\n",
        "                                                                    #  all_len_per_segment = all_SA_per_segment,\n",
        "                                                                     all_segments_centers=all_segments_center,\n",
        "                                                                     number_of_groups = 1,\n",
        "                                                                     cells_per_group = number_of_clusters,\n",
        "                                                                     synapses_per_cluster = synapses_per_cluster,\n",
        "                                                                     functional_group_span = functional_group_span,\n",
        "                                                                     cluster_span = cluster_span,\n",
        "                                                                     gmax_dist = gmax_dist,\n",
        "                                                                     proximal_inh_dist = proximal_inh_dist,\n",
        "                                                                     distal_inh_dist = distal_inh_dist,\n",
        "                                                                     spike_generator = spike_generator,\n",
        "                                                                     synapse_generator = synapse_generator,\n",
        "                                                                     t = t, f_group_name_prefix = \"diffuse_inh_\",\n",
        "                                                                     spike_trains_to_delay = exc_spikes, fr_time_shift = 4,\n",
        "                                                                     record = True,\n",
        "                                                                    #  syn_params={\"P_0\": 0.25},syn_mod = 'int2pyr'\n",
        "                                                                     syn_mod = 'GABA_AB')"
      ]
    },
    {
      "cell_type": "code",
      "execution_count": null,
      "metadata": {
        "id": "yygFGml3Xhc1"
      },
      "outputs": [],
      "source": [
        "# # 150 soma inh synapses\n",
        "\n",
        "number_of_clusters = 30 # number of presynaptic cells\n",
        "cluster_span = 10\n",
        "synapses_per_cluster = 10\n",
        "\n",
        "soma_inhibitory_functional_groups = generate_inhibitory_functional_groups(cell=complex_cell,\n",
        "\t\t\t\t\t\t\t\t\t\t\t\t\t\t\t\t\t\t\tall_segments = soma_segments,\n",
        "\t\t\t\t\t\t\t\t\t\t\t\t\t\t\t\t\t\t\t#  all_len_per_segment = all_len_per_segment,\n",
        "\t\t\t\t\t\t\t\t\t\t\t\t\t\t\t\t\t\t\tall_len_per_segment = soma_SA_per_segment,\n",
        "\t\t\t\t\t\t\t\t\t\t\t\t\t\t\t\t\t\t\tall_segments_centers=soma_segments_center,\n",
        "\t\t\t\t\t\t\t\t\t\t\t\t\t\t\t\t\t\t  number_of_groups = 1,\n",
        "\t\t\t\t\t\t\t\t\t\t\t\t\t\t\t\t\t\t  cells_per_group = number_of_clusters,\n",
        "\t\t\t\t\t\t\t\t\t\t\t\t\t\t\t\t\t\t  synapses_per_cluster = synapses_per_cluster,\n",
        "\t\t\t\t\t\t\t\t\t\t\t\t\t\t\t\t\t\t  functional_group_span = functional_group_span,\n",
        "\t\t\t\t\t\t\t\t\t\t\t\t\t\t\t\t\t\t  cluster_span = cluster_span,\n",
        "\t\t\t\t\t\t\t\t\t\t\t\t\t\t\t\t\t\t  gmax_dist = gmax_dist,\n",
        "\t\t\t\t\t\t\t\t\t\t\t\t\t\t\t\t\t\t  proximal_inh_dist = proximal_inh_dist,\n",
        "\t\t\t\t\t\t\t\t\t\t\t\t\t\t\t\t\t\t  distal_inh_dist = distal_inh_dist,\n",
        "\t\t\t\t\t\t\t\t\t\t\t\t\t\t\t\t\t\t  spike_generator = spike_generator,\n",
        "\t\t\t\t\t\t\t\t\t\t\t\t\t\t\t\t\t\t  synapse_generator = synapse_generator,\n",
        "\t\t\t\t\t\t\t\t\t\t\t\t\t\t\t\t\t\t  t = t, f_group_name_prefix = \"soma_inh_\",\n",
        "\t\t\t\t\t\t\t\t\t\t\t\t\t\t\t\t\t\t  spike_trains_to_delay = exc_spikes, fr_time_shift = 4,\n",
        "\t\t\t\t\t\t\t\t\t\t\t\t\t\t\t\t\t\t  record = True,\n",
        "\t\t\t\t\t\t\t\t\t\t\t\t\t\t\t\t\t\t\t#  syn_params={\"P_0\": 0.25},syn_mod = 'int2pyr'\n",
        "                                      syn_mod = 'GABA_AB')\n"
      ]
    },
    {
      "cell_type": "code",
      "execution_count": null,
      "metadata": {
        "id": "iOOKIqGTVGG8"
      },
      "outputs": [],
      "source": [
        "all_syns=[]\n",
        "for synapse_list in synapse_generator.synapses: # synapse_generator.synapses is a list of synapse lists\n",
        "    for synapse in synapse_list:\n",
        "        all_syns.append(synapse)"
      ]
    },
    {
      "cell_type": "code",
      "execution_count": null,
      "metadata": {
        "colab": {
          "base_uri": "https://localhost:8080/"
        },
        "id": "x0KJoAsKUhyu",
        "outputId": "53f6a1d4-cf06-4259-cf94-5a4f8d791f4f"
      },
      "outputs": [
        {
          "output_type": "stream",
          "name": "stdout",
          "text": [
            "Generating 3D coordinates for L5PCtemplate[0].axon[0]\n",
            "Generating 3D coordinates for L5PCtemplate[0].axon[1]\n"
          ]
        }
      ],
      "source": [
        "cell = CellModel(hoc_model = complex_cell, synapses = all_syns,\n",
        "                 netcons = spike_generator.netcons, spike_trains = spike_generator.spike_trains,\n",
        "                 spike_threshold = 10)"
      ]
    },
    {
      "cell_type": "markdown",
      "metadata": {
        "id": "1pWNQy5_PBw_"
      },
      "source": [
        "### Reduce Cell"
      ]
    },
    {
      "cell_type": "code",
      "execution_count": null,
      "metadata": {
        "id": "hJHtZEcupk5x"
      },
      "outputs": [],
      "source": [
        "# Reduce cell and store new things: can update CellModel module to do this stuff\n",
        "\n",
        "def find_distal_sections(cell, region=str):\n",
        "  '''\n",
        "  Finds all terminal sections then gathers terminal apical sections that are greater than 800 microns from the soma in path length\n",
        "  '''\n",
        "  # find distal tuft sections:\n",
        "  parent_sections=[]\n",
        "  for sec in cell.all: # find non-terminal sections\n",
        "    if sec.parentseg() is not None:\n",
        "      if sec.parentseg().sec not in parent_sections:\n",
        "        parent_sections.append(sec.parentseg().sec)\n",
        "  terminal_sections=[]\n",
        "  for sec in getattr(cell,region):  # check if the section is a terminal section and if it is apical tuft\n",
        "    # print(h.distance(sec(0.5)))\n",
        "    if region=='apic':\n",
        "      if (sec not in parent_sections) and (h.distance(cell.soma[0](0.5),sec(0.5)) > 800):\n",
        "        terminal_sections.append(sec)\n",
        "    else:\n",
        "      if (sec not in parent_sections):\n",
        "        terminal_sections.append(sec)\n",
        "\n",
        "      # print(sec, 'is a terminal section of the tuft'\n",
        "\n",
        "  return terminal_sections\n",
        "\n",
        "#reduce cell\n",
        "if reduce_cell==True:\n",
        "  #reduce complex dendritic trees to cables\n",
        "  reduced_cell, synapses_list, netcons_list, txt_nr = subtree_reductor(complex_cell, synapses_list, netcons_list, reduction_frequency=0,return_seg_to_seg=True)\n",
        "  print(\"synapses_list after NR reduction:\", synapses_list)\n",
        "  if expand_cable==True:\n",
        "    #expand cable to idealized dendritic trees\n",
        "    sections_to_expand = [reduced_cell.hoc_model.apic[0]]\n",
        "    furcations_x=[0.289004]\n",
        "    nbranches=[choose_branches]\n",
        "    reduced_dendritic_cell, synapses_list, netcons_list, txt_ce = cable_expander(reduced_cell, sections_to_expand, furcations_x, nbranches,\n",
        "                                                                              synapses_list, netcons_list, reduction_frequency=0,return_seg_to_seg=True)\n",
        "    #remove basal dend 3d coordinates because they seem off\n",
        "    for sec in reduced_dendritic_cell.dend:\n",
        "      sec.pt3dclear()\n",
        "\n",
        "    cell = CellModel(reduced_dendritic_cell,synapses_list=synapses_list,netcons_list=netcons_list,spike_threshold = 10) #NR model with apical cable converted to tree\n",
        "    tufts=find_distal_sections(cell, 'apic')\n",
        "    basals=find_distal_sections(cell, 'dend')\n",
        "    cell._nbranch=len(tufts)\n",
        "\n",
        "    print(cell._nbranch, \"terminal tuft branches in reduced_dendritic_cell\")\n",
        "  else:\n",
        "    #workaround since cell.all was not attribute (can update cell_model class to include this list formation)\n",
        "    reduced_cell.all =[]\n",
        "    for sec in [reduced_cell.soma]:\n",
        "      reduced_cell.all.append(sec)\n",
        "    for sec in [reduced_cell.apic]:\n",
        "      reduced_cell.all.append(sec)\n",
        "    for sec in reduced_cell.dend:\n",
        "      reduced_cell.all.append(sec)\n",
        "    for sec in reduced_cell.axon:\n",
        "      reduced_cell.all.append(sec)\n",
        "    #make apic sec a list (can update cell_model class to include this) (cell_model class expects cell.apic to be iterable)\n",
        "    reduced_cell.apic=[reduced_cell.apic]\n",
        "    #use cell_model python class\n",
        "    cell=CellModel(reduced_cell,synapses_list=synapses_list,netcons_list=netcons_list,spike_threshold = 10) # neuron_reduce model\n",
        "    tufts=cell.apic # Vm plot may return middle segment of trunk since it is the distal apical section.\n",
        "    basals=find_distal_sections(cell, 'dend')\n",
        "    cell._nbranch=len(tufts)\n",
        "    print(cell._nbranch, \"terminal tuft branches in reduced_cell\")\n",
        "else:\n",
        "  basals=find_distal_sections(cell, 'dend')\n",
        "  tufts=find_distal_sections(cell, 'apic')\n",
        "  # cell = cell_model(complex_cell,synapses_list=synapses_list,netcons_list=netcons_list,spike_threshold = 10) # original cell\n",
        "  # original cell should already be defined\n",
        "  pass"
      ]
    },
    {
      "cell_type": "markdown",
      "metadata": {
        "id": "rPxOd7iC-kyL"
      },
      "source": [
        "### Prepare Simulation"
      ]
    },
    {
      "cell_type": "code",
      "execution_count": null,
      "metadata": {
        "colab": {
          "base_uri": "https://localhost:8080/"
        },
        "id": "D6vyubrwOvA_",
        "outputId": "3c760e6d-3d58-48a7-964d-5dd9550a5739"
      },
      "outputs": [
        {
          "output_type": "stream",
          "name": "stdout",
          "text": [
            "\u001b[0m\u001b[01;34mcell_inference\u001b[0m/  Stylized_Single_Cell_Extracellular_Potential_Tutorial.ipynb\n"
          ]
        }
      ],
      "source": [
        "import os\n",
        "\n",
        "if is_colab:\n",
        "    os.chdir('/content')\n",
        "    if not os.path.isdir('Stylized-Single-Cell-and-Extracellular-Potential'):\n",
        "        !git clone https://github.com/chenziao/Stylized-Single-Cell-and-Extracellular-Potential.git &> /dev/null\n",
        "    os.chdir('Stylized-Single-Cell-and-Extracellular-Potential')\n",
        "    %ls"
      ]
    },
    {
      "cell_type": "code",
      "execution_count": null,
      "metadata": {
        "id": "X7p40K3RO1RQ"
      },
      "outputs": [],
      "source": [
        "from cell_inference.config import params, paths\n",
        "from cell_inference.cells.activecell_axon import ReducedOrderL5Cell, ReducedOrderL5CellPassiveDendrite\n",
        "from cell_inference.utils.currents.ecp import EcpMod\n",
        "from cell_inference.utils.currents.recorder import Recorder\n",
        "#from cell_inference.utils.plotting.plot_morphology import plot_morphology\n",
        "from cell_inference.utils.plotting.plot_results import plot_lfp_heatmap, plot_lfp_traces\n",
        "from cell_inference.utils.plotting.plot_variable_with_morphology import plot_variable_with_morphology\n",
        "from cell_inference.utils.metrics.measure_segment_distance import measure_segment_distance"
      ]
    },
    {
      "cell_type": "code",
      "execution_count": null,
      "metadata": {
        "id": "m_npKvVUO4JD"
      },
      "outputs": [],
      "source": [
        "# Record time points\n",
        "t_vec = h.Vector(round(h.tstop / h.dt) + 1).record(h._ref_t)\n",
        "\n",
        "# Record membrane voltage of all segments\n",
        "V_rec = Recorder(cell.segments)"
      ]
    },
    {
      "cell_type": "markdown",
      "metadata": {
        "id": "22d6f6e6"
      },
      "source": [
        "#### Add electrodes (Neuropixel)\n",
        "A probe with 384 electrodes [https://www.neuropixels.org/probe](https://www.neuropixels.org/probe). The coordinates of each electrode is a row in the array printed below."
      ]
    },
    {
      "cell_type": "code",
      "execution_count": null,
      "metadata": {
        "id": "8fdb0017"
      },
      "outputs": [],
      "source": [
        "elec_pos = params.ELECTRODE_POSITION\n",
        "ecp = EcpMod(cell, elec_pos, min_distance=params.MIN_DISTANCE)  # create an ECP object for extracellular potential\n",
        "\n",
        "# coordinates (x, y, z) of electrodes\n",
        "# print(params.ELECTRODE_POSITION.shape)\n",
        "# print(params.ELECTRODE_POSITION)"
      ]
    },
    {
      "cell_type": "markdown",
      "metadata": {
        "id": "c5323608"
      },
      "source": [
        "#### Custom settings\n",
        "\n",
        "Using the interactive tools below, you can change the position of the cell, and change the synapse strength and location on the cell.\n",
        "\n",
        "**Cell position parameters (`x`, `y`, `z`, `alpha`, `h`, `phi`)**\n",
        "\n",
        "Starting with soma at the origin, apical dendrite along y-axis, rotate and translate the cell to the desired position determined by 6 parameters. First, rotate alpha about the y-axis (spin), then rotate beta=arccos(h) about the x-axis (elevation), then rotate phi about the y-axis (azimuth). Finally translate the cell by (x,y,z).\n",
        "\n",
        "Use the sliders to change the 6 position parameters. Use the sliders 'elev' and 'azim' to change view of the 3D plot.\n",
        "\n",
        "Set azim to -90 in order to focus on zy plane view. 2D plot is of xy plane."
      ]
    },
    {
      "cell_type": "code",
      "execution_count": null,
      "metadata": {
        "colab": {
          "base_uri": "https://localhost:8080/",
          "height": 813,
          "referenced_widgets": [
            "ee1fecbb7821465f85bcd8b744faa84f",
            "d24c1fa858bf4d199ab4fb70a1155a2f",
            "df88dfe7a0064a8f86b2be2892f29ae8",
            "11b49bb7654f4fb69dd0c5c126993a30",
            "042ad02a1bd84d31817e3a48b7602ff8",
            "0933baa04ba94591bd6cdc02b1036c50",
            "08b78312dbc4482dad111e218b988900",
            "8ba14f3335a04036a7a759a6e661352e",
            "73df8e25bfdd4bc8bed29222af20462c",
            "8050f6d68a16491082e8b7e8d0685018",
            "93d157f8a3de4ac4a9abe1dbac0787f9",
            "2e9965e3f890417f8178761fe3f41b4a",
            "88180711bdb449b5b065991d374d1e56",
            "5e4502ee691a44d59a0f31b1a5f65c94",
            "ee4be5466e144540af2a597af58add71",
            "b6ce4c551f69433b91affe33852f5a98",
            "a6615cf1a6f84b52aeda7c9def6cba81",
            "80de58e1035b48f7826c4b35503402ee",
            "17fbe0b8a7d048b69b870e183f363e56",
            "f62c9c40cb3342a38922b6356e87846d",
            "85aea699a8af46cb98b29d3d1f2e3264",
            "ac5b680d9c8c4a3698f0f441cac80e5a",
            "ce824c1ad9ed49469802323ca4538987",
            "ae2e124a63ca4d1fba4d6e3223f52197",
            "204d47ea34874f30a65edc95aa707a3a",
            "5369e6d240f14874b4d08bdb81bf4816",
            "957e455967c04828b81e95777c506292",
            "7c04123867b24262a3519746d0ca95ff",
            "6fc378ff23fe430f86fd2de8d326d7ce",
            "a4c901efdd4f4333a750ef54549d99d0",
            "d6b7126ddafc4a96b62feceb2bb0db16",
            "0a5cddbbbee34c16aba5e88a69e74f96",
            "a365ede7df034807a5d80e152b494503",
            "fa1d7229c79044db95f0aa93cc530ee9",
            "3b9ed3e0e5ae447d981719acef18e255",
            "01d35c19d62a45c1b7146b4dbdd946d5",
            "aac0001e26ea4715ad418252703c5a66",
            "f198233144a847dcba1bca101a17deb2",
            "ff89a0909c514a06aa15e7faac5cb8ec",
            "8c6d64dcaf554f45ab39a1e7e51f91e4",
            "7ee8979a8b3c4391aacc7df77e801d57"
          ]
        },
        "id": "a3df63ce",
        "outputId": "27595d5f-b9e3-461d-a064-b90476d9083b"
      },
      "outputs": [
        {
          "output_type": "display_data",
          "data": {
            "text/plain": [
              "VBox(children=(Button(button_style='primary', description='Reset', icon='history', style=ButtonStyle()), HBox(…"
            ],
            "application/vnd.jupyter.widget-view+json": {
              "version_major": 2,
              "version_minor": 0,
              "model_id": "ee1fecbb7821465f85bcd8b744faa84f"
            }
          },
          "metadata": {}
        }
      ],
      "source": [
        "# Default position parameters\n",
        "loc_param_default = [0., 0., 80., 0., 1., 0.]\n",
        "\n",
        "# Default view\n",
        "elev, azim = 10, 90\n",
        "\n",
        "clr = []\n",
        "clr.extend(['black' for i in range(len([cell.soma]))]) # Soma color\n",
        "clr.extend(['red' for i in range(len(cell.dend))]) # Dend colors\n",
        "clr.extend(['purple' for i  in range(len(cell.axon))]) # Axon colors\n",
        "clr.extend(['blue']) # Trunk color\n",
        "clr.extend(['green' for i in range(len(cell.apic)-1)]) # Branch colors\n",
        "\n",
        "def interactive_plot(x, y, z, alpha, beta, phi, elev, azim):\n",
        "    global loc_param\n",
        "    loc_param = (x, y, z, np.pi / 180 * alpha, np.cos(np.pi / 180 * beta), np.pi / 180 * phi)\n",
        "    _ = plot_morphology(cell = cell, electrodes = elec_pos, move_cell = loc_param, elev = -elev, azim = -azim, figsize = (12, 8), clr = clr)\n",
        "    plt.show()\n",
        "\n",
        "xslider = Layout(width = '500px')\n",
        "yslider = Layout(height = '350px')\n",
        "w_reset = widgets.Button(description = 'Reset', icon = 'history', button_style = 'primary')\n",
        "w_x = widgets.FloatSlider(value=loc_param_default[0], min = -200, max = 200, step = 1, description='x (um)', continuous_update = False, readout_format = '.0f')\n",
        "w_y = widgets.FloatSlider(value=loc_param_default[1], min=-1000, max=1000, step=1, description='y (um)', continuous_update=False, readout_format='.0f')\n",
        "w_z = widgets.FloatSlider(value=loc_param_default[2], min=20, max=400, step=1, description='z (um)', continuous_update=False, readout_format='.0f')\n",
        "w_alpha = widgets.FloatSlider(value=180/np.pi*loc_param_default[3], min=-180, max=180, step=1, description='alpha (deg)', continuous_update=False, readout_format='.0f')\n",
        "w_beta = widgets.FloatSlider(value=180/np.pi*np.arccos(loc_param_default[4]), min=0, max=180, step=1, description='beta (deg)', continuous_update=False, readout_format='.0f')\n",
        "w_phi = widgets.FloatSlider(value=180/np.pi*loc_param_default[5], min=-180, max=180, step=1, description='phi (deg)', continuous_update=False, readout_format='.0f')\n",
        "w_elev = widgets.FloatSlider(value=-elev, min=-90, max=90, step=1, description='elev (deg)', continuous_update=False, readout_format='.0f', orientation='vertical', layout=yslider)\n",
        "w_azim = widgets.FloatSlider(value=-azim, min=-180, max=180, step=1, description='azim (deg)', continuous_update=False, readout_format='.0f', layout=xslider)\n",
        "\n",
        "def reset_default(*args):\n",
        "    w_x.value, w_y.value, w_z.value = loc_param_default[:3]\n",
        "    w_alpha.value = 180 / np.pi * loc_param_default[3]\n",
        "    w_beta.value = 180 / np.pi * np.arccos(loc_param_default[4])\n",
        "    w_phi.value = 180 / np.pi * loc_param_default[5]\n",
        "    w_elev.value, w_azim.value = -elev, -azim\n",
        "w_reset.on_click(reset_default)\n",
        "\n",
        "out = interactive_output(interactive_plot, {'x': w_x, 'y': w_y, 'z': w_z, 'alpha': w_alpha, 'beta': w_beta, 'phi': w_phi, 'elev': w_elev, 'azim': w_azim})\n",
        "ui = VBox([w_reset, HBox([ VBox([w_x, w_y, w_z]), VBox([w_alpha, w_beta, w_phi]) ]), HBox([ VBox([out, w_azim]), w_elev])])\n",
        "\n",
        "display(ui)"
      ]
    },
    {
      "cell_type": "code",
      "execution_count": null,
      "metadata": {
        "colab": {
          "base_uri": "https://localhost:8080/",
          "height": 813,
          "referenced_widgets": [
            "169a0b840ca0497fb25d2470e24af3e5",
            "86eed6718be94de08bc89df860bc5d12",
            "735bd47e6f634ec5ad8df8162dfa59cf",
            "55d4629a8bee4512adf919485374c764",
            "6c078a2ce2654a86bd58f5c1605d8bdd",
            "fdfb4f6514674418946651f986d93c8c",
            "9d7b1a1b5e4648aa919ae79573789281",
            "510e9ff9ad4f47b6b3bcafe6c02ee346",
            "1d01a891abff4119bbd7429194914411",
            "965f89c345c94450bab431ed8d75791d",
            "1ebc9909ff7e4ff2864d281211a916b8",
            "bdcaedfcc4a24f10b3fc7038fe4473a7",
            "8f331b4522aa4e69a7579f61119a5e45",
            "bc7f545d2d6846e3921a7e2333e35cc1",
            "47560c3b86304bf3ba4ff719f7ea525c",
            "0ec2c5c9a6934903a157a0bc8246dbc4",
            "c33f580077f44cb2900ea4d1afda6b99",
            "15d9a12d4254402b938e9b4146ed7028",
            "c8c19b6d5f954d10af3e57fc9aa26801",
            "8512284d5b454b0f9e38a8f49dee557d",
            "4e0bd24156be4551a834de2ed9defb39",
            "d3dd0bc7d64c470a8419b7a36af271f8",
            "7cd60eadcbb14d83905dd3cf287d9231",
            "0504da6f7d5a4ab6a792baab83b4f6c0",
            "1e53b631eff340b69461052e456f1caf",
            "a72e67f3db204a508a322665be047075",
            "8d1bfbb1c93b4ae2ac52f7d4c80df43d",
            "d42326ceece5498397f36ac4ad7e6db2",
            "7519d3b3d4f84e089b6fa68decf0f43d",
            "85f7455b96614937a45824386ed1d10b",
            "f8b6b50c15eb42569be553535eb80018",
            "e86dc434499c4163afa682a639e340d8",
            "ea85bb6d3ce74e039cf93440f3e5463c",
            "a6fa64ebca3d4baf8eb974fe9f8c7485",
            "a3f87327b49046a48878eadfbfab6fbc",
            "64efb0b37809470fac44ec2aee4aa45b",
            "315c57ade1244e8ab8e298679349251f",
            "b12879fe06f24f6a879606a1a98336f1",
            "1770e856a2514c75b573cdc6eee771d0",
            "dce9ebae59634e6f850954a22e704942",
            "61c142eefc7a468798529b9a6ec03a24"
          ]
        },
        "id": "RxRWZYn-WeHU",
        "outputId": "c0c45dce-82a0-4836-99b0-8cc134b7220f"
      },
      "outputs": [
        {
          "output_type": "display_data",
          "data": {
            "text/plain": [
              "VBox(children=(Button(button_style='primary', description='Reset', icon='history', style=ButtonStyle()), HBox(…"
            ],
            "application/vnd.jupyter.widget-view+json": {
              "version_major": 2,
              "version_minor": 0,
              "model_id": "169a0b840ca0497fb25d2470e24af3e5"
            }
          },
          "metadata": {}
        }
      ],
      "source": [
        "def get_nested_property(seg, properties):\n",
        "    if properties:\n",
        "        property = properties[0]\n",
        "        remaining_properties = properties[1:]\n",
        "        if property in seg:\n",
        "            if isinstance(seg[property], dict):\n",
        "                if remaining_properties:\n",
        "                    return get_nested_property(seg[property], remaining_properties)\n",
        "                else:\n",
        "                    return seg[property]\n",
        "            elif len(remaining_properties) == 0:\n",
        "                return seg[property]\n",
        "            else:\n",
        "                raise ValueError(\"Property list contains too many items for the depth of the target\")\n",
        "        else:\n",
        "            raise ValueError(f\"Property '{property}' not found in segment. Please specify a proper path in seg_info.\")\n",
        "    else:\n",
        "        raise ValueError(\"Empty property list\")\n",
        "\n",
        "#identify the property being used #check cell.seg_info[0] for dictionary of properties (some are nested)\n",
        "property_list = ['netcon_density_per_seg','exc']\n",
        "# property_list = ['seg_elec_info','beta','passive_soma']\n",
        "seg_prop = [get_nested_property(seg, property_list) for seg in cell.seg_info]\n",
        "\n",
        "label = '_'.join(property_list)\n",
        "\n",
        "# seg_prop=[seg['Center Z Coord'] for seg in cell.seg_info]\n",
        "# seg_prop=[seg['seg_elec_info']['delta']['active_soma'] for seg in cell.seg_info]\n",
        "# seg_prop=[seg['netcons_per_seg']['exc'] for seg in cell.seg_info]\n",
        "seg_prop=np.array(seg_prop)\n",
        "#normalized_seg_prop = (seg_prop - min(seg_prop)) / (max(seg_prop) - min(seg_prop))\n",
        "# Define your percentile thresholds\n",
        "lower, upper = np.percentile(seg_prop, [1, 99]) # you can adjust these percentiles to your needs\n",
        "# Define normalization function based on these percentiles\n",
        "robust_norm = plt.Normalize(vmin=lower, vmax=upper)\n",
        "# Apply robust normalization to segment property\n",
        "normalized_seg_prop = robust_norm(seg_prop)\n",
        "cmap = plt.get_cmap('jet')\n",
        "segment_colors = cmap(normalized_seg_prop)\n",
        "# Create a ScalarMappable object to represent the colormap\n",
        "# sm = plt.cm.ScalarMappable(cmap=cmap, norm=plt.Normalize(vmin=min(seg_prop), vmax=max(seg_prop)))\n",
        "sm = plt.cm.ScalarMappable(cmap=cmap, norm=robust_norm)\n",
        "\n",
        "\n",
        "def interactive_plot(x, y, z, alpha, beta, phi, elev, azim):\n",
        "    global loc_param\n",
        "    loc_param = (x, y, z, np.pi/180*alpha, np.cos(np.pi/180*beta), np.pi/180*phi)\n",
        "    fig, ax = plot_morphology(cell=cell, electrodes=elec_pos, move_cell=loc_param, elev=-elev, azim=-azim, figsize=(12, 8),\n",
        "                              clr = clr, seg_property = label, segment_colors = segment_colors, sm = sm)\n",
        "    plt.show()\n",
        "\n",
        "xslider = Layout(width='500px')\n",
        "yslider = Layout(height='350px')\n",
        "w_reset = widgets.Button(description='Reset', icon='history', button_style='primary')\n",
        "w_x = widgets.FloatSlider(value=loc_param_default[0], min=-200, max=200, step=1, description='x (um)', continuous_update=False, readout_format='.0f')\n",
        "w_y = widgets.FloatSlider(value=loc_param_default[1], min=-1000, max=1000, step=1, description='y (um)', continuous_update=False, readout_format='.0f')\n",
        "w_z = widgets.FloatSlider(value=loc_param_default[2], min=20, max=400, step=1, description='z (um)', continuous_update=False, readout_format='.0f')\n",
        "w_alpha = widgets.FloatSlider(value=180/np.pi*loc_param_default[3], min=-180, max=180, step=1, description='alpha (deg)', continuous_update=False, readout_format='.0f')\n",
        "w_beta = widgets.FloatSlider(value=180/np.pi*np.arccos(loc_param_default[4]), min=0, max=180, step=1, description='beta (deg)', continuous_update=False, readout_format='.0f')\n",
        "w_phi = widgets.FloatSlider(value=180/np.pi*loc_param_default[5], min=-180, max=180, step=1, description='phi (deg)', continuous_update=False, readout_format='.0f')\n",
        "w_elev = widgets.FloatSlider(value=-elev, min=-90, max=90, step=1, description='elev (deg)', continuous_update=False, readout_format='.0f', orientation='vertical', layout=yslider)\n",
        "w_azim = widgets.FloatSlider(value=-azim, min=-180, max=180, step=1, description='azim (deg)', continuous_update=False, readout_format='.0f', layout=xslider)\n",
        "\n",
        "def reset_default(*args):\n",
        "    w_x.value, w_y.value, w_z.value = loc_param_default[:3]\n",
        "    w_alpha.value = 180 / np.pi * loc_param_default[3]\n",
        "    w_beta.value = 180 / np.pi * np.arccos(loc_param_default[4])\n",
        "    w_phi.value = 180 / np.pi * loc_param_default[5]\n",
        "    w_elev.value, w_azim.value = -elev, -azim\n",
        "w_reset.on_click(reset_default)\n",
        "\n",
        "out = interactive_output(interactive_plot, {'x': w_x, 'y': w_y, 'z': w_z, 'alpha': w_alpha, 'beta': w_beta, 'phi': w_phi, 'elev': w_elev, 'azim': w_azim})\n",
        "ui = VBox([ w_reset, HBox([ VBox([w_x, w_y, w_z]), VBox([w_alpha, w_beta, w_phi]) ]), HBox([ VBox([out, w_azim]), w_elev]) ])\n",
        "\n",
        "display(ui)"
      ]
    },
    {
      "cell_type": "markdown",
      "metadata": {
        "id": "2ca15375"
      },
      "source": [
        "#### Run simulation and plot results\n",
        "\n",
        "Run the codes below to simulate and display results everytime after you change the parameters above."
      ]
    },
    {
      "cell_type": "code",
      "execution_count": null,
      "metadata": {
        "colab": {
          "base_uri": "https://localhost:8080/",
          "height": 1000
        },
        "id": "f81ec874",
        "outputId": "33e39460-3183-4f5a-ea9f-1a12273f0098"
      },
      "outputs": [
        {
          "output_type": "stream",
          "name": "stdout",
          "text": [
            "Plotting L5PCtemplate[0].soma[0](0.5) Voltage| y coordinate of this seg: 18.34367764312554\n",
            "Plotting L5PCtemplate[0].apic[39](0.5) Voltage| y coordinate of this seg: 931.3700758816855\n",
            "Plotting L5PCtemplate[0].apic[36](0.961538) Voltage| y coordinate of this seg: 931.3700758816855\n"
          ]
        },
        {
          "output_type": "display_data",
          "data": {
            "text/plain": [
              "<Figure size 1000x400 with 1 Axes>"
            ],
            "image/png": "[encoded data removed]"
          },
          "metadata": {}
        },
        {
          "output_type": "display_data",
          "data": {
            "text/plain": [
              "<Figure size 1200x500 with 2 Axes>"
            ],
            "image/png": "[encoded data removed]"
          },
          "metadata": {}
        },
        {
          "output_type": "display_data",
          "data": {
            "text/plain": [
              "<Figure size 800x500 with 2 Axes>"
            ],
            "image/png": "[encoded data removed]"
          },
          "metadata": {}
        }
      ],
      "source": [
        "# Run simulation\n",
        "# if original_syns:\n",
        "#   set_synapse()\n",
        "# else: # View synapses\n",
        "#   for syn in cell.synapse:\n",
        "#     if syn.gmax_var == '_nc_weight':\n",
        "#       print(syn.syn, [nc.weight[0] for nc in syn.ncs])\n",
        "#     else:\n",
        "#       print('synapse',syn.syn,':',syn.get_segment(),'weight:',syn.syn.initW, 'ncs:',syn.ncs)\n",
        "\n",
        "h.run()\n",
        "# Get results\n",
        "t = t_vec.as_numpy().copy()  # time array (ms)\n",
        "# Soma membrane potential\n",
        "Vm = V_rec.as_numpy()\n",
        "\n",
        "soma_seg_index = cell.segments.index(cell.soma[0](0.5))\n",
        "axon_seg_index = cell.segments.index(cell.axon[-1](0.9))\n",
        "basal_seg_index = cell.segments.index(basals[0](0.5))\n",
        "\n",
        "# Choose a tuft to plot voltage\n",
        "if (reduce_cell == True) and (expand_cable == True): # Dendritic reduced model\n",
        "\ttuft_seg_index = tuft_seg_index=cell.segments.index(tufts[0](0.5)) # in this case tufts[0] will be truly tuft section and the segment in the middle of section is fine\n",
        "\tnexus_seg_index = cell.segments.index(cell.apic[0](0.99))\n",
        "elif (reduce_cell == True) and (expand_cable == False): # NR model\n",
        "\ttuft_seg_index = cell.segments.index(tufts[0](0.9)) # tufts[0] will be the cable that is both trunk and tuft in this case, so we have to specify near end of cable\n",
        "\tnexus_seg_index = cell.segments.index(cell.apic[0](0.289004))\n",
        "else: # Complex cell\n",
        "\ttuft_seg_index=cell.segments.index(tufts[0](0.5)) # Otherwise tufts[0] will be truly tuft section and the segment in the middle of section is fine\n",
        "\tnexus_seg_index=cell.segments.index(cell.apic[36](0.961538))\n",
        "\n",
        "\n",
        "print(\"Plotting\",cell.segments[soma_seg_index],\"Voltage| y coordinate of this seg:\", cell.seg_coords['pc'][soma_seg_index][1])\n",
        "print(\"Plotting\",cell.segments[tuft_seg_index],\"Voltage| y coordinate of this seg:\", cell.seg_coords['pc'][tuft_seg_index][1])\n",
        "print(\"Plotting\",cell.segments[nexus_seg_index],\"Voltage| y coordinate of this seg:\", cell.seg_coords['pc'][tuft_seg_index][1])\n",
        "\n",
        "# lfp array\n",
        "lfp = ecp.calc_ecp(move_cell=loc_param).T  # unit: mV\n",
        "\n",
        "plot_simulation_results(t, Vm, soma_seg_index, axon_seg_index, basal_seg_index, tuft_seg_index, nexus_seg_index,\n",
        "\t\t\t\t\t\tloc_param, lfp, elec_pos, plot_lfp_heatmap, plot_lfp_traces)"
      ]
    },
    {
      "cell_type": "markdown",
      "metadata": {
        "id": "BKw84pXiPBxM"
      },
      "source": [
        "### Store Simulation Data"
      ]
    },
    {
      "cell_type": "code",
      "source": [
        "# exc_spike_trains=[]\n",
        "# inh_spike_trains=[]\n",
        "# for i,synapse in enumerate(cell.synapses):\n",
        "#   seg=synapse.get_segment()\n",
        "#   syn=synapse.synapse_neuron_obj\n",
        "#   if \"AMPA\" in str(syn):\n",
        "#     exc_spike_trains.append(spike_generator.spike_trains[i])\n",
        "#   elif \"GABA\" in str(syn):\n",
        "#     inh_spike_trains.append(spike_generator.spike_trains[i])"
      ],
      "metadata": {
        "id": "xHEdgBbw75r4"
      },
      "execution_count": null,
      "outputs": []
    },
    {
      "cell_type": "code",
      "source": [
        "# for i,spike_train in enumerate(inh_spike_trains):\n",
        "#   y=np.zeros(len(spike_train))+i\n",
        "#   plt.scatter(spike_train,y)"
      ],
      "metadata": {
        "id": "5PvlWR689XFz"
      },
      "execution_count": null,
      "outputs": []
    },
    {
      "cell_type": "code",
      "source": [
        "# for i,spike_train in enumerate(exc_spike_trains):\n",
        "#   y=np.zeros(len(spike_train))*i\n",
        "#   plt.scatter(spike_train,y)"
      ],
      "metadata": {
        "id": "OBV1ZZVt91Fb"
      },
      "execution_count": null,
      "outputs": []
    },
    {
      "cell_type": "code",
      "source": [
        "# close_exc_syns=[]\n",
        "# close_inh_syns=[]\n",
        "# for synapse in cell.synapses:\n",
        "#   seg=synapse.get_segment()\n",
        "#   syn=synapse.synapse_neuron_obj\n",
        "#   if \"AMPA\" in str(syn):\n",
        "#     if h.distance(seg,cell.soma[0](0.5))<200:\n",
        "#       close_exc_syns.append(syn)\n",
        "#   elif \"GABA\" in str(syn):\n",
        "#     if h.distance(seg,cell.soma[0](0.5))<200:\n",
        "#       close_inh_syns.append(syn)\n",
        "# print(len(close_exc_syns))\n",
        "# print(len(close_inh_syns))"
      ],
      "metadata": {
        "id": "WZzaNyqgcRrJ"
      },
      "execution_count": null,
      "outputs": []
    },
    {
      "cell_type": "code",
      "source": [
        "# #pyr2pyr\n",
        "# gbar_nmda = .5e-3 #(uS)\n",
        "# gbar_ampa = 1e-3 #(uS)\n",
        "\n",
        "# # AMPA_NMDA\n",
        "# gmax = .001       # (uS)  : Weight conversion factor (from nS to uS)"
      ],
      "metadata": {
        "id": "afQ_8_Pnd_zG"
      },
      "execution_count": null,
      "outputs": []
    },
    {
      "cell_type": "code",
      "source": [
        "# gmax/gbar_nmda"
      ],
      "metadata": {
        "id": "BNl5hGqWfNPh"
      },
      "execution_count": null,
      "outputs": []
    },
    {
      "cell_type": "code",
      "source": [
        "# #int2pyr\n",
        "# gbar_gaba = 0.6e-3 #(uS)\n",
        "\n",
        "# #GABA_AB\n",
        "# gmax         = .001  #(uS) : weight conversion factor (from nS to uS)"
      ],
      "metadata": {
        "id": "J5FTLISchX4W"
      },
      "execution_count": null,
      "outputs": []
    },
    {
      "cell_type": "code",
      "source": [
        "# gmax/gbar_gaba"
      ],
      "metadata": {
        "id": "_DSb9cRShgYp"
      },
      "execution_count": null,
      "outputs": []
    },
    {
      "cell_type": "code",
      "execution_count": null,
      "metadata": {
        "colab": {
          "base_uri": "https://localhost:8080/"
        },
        "id": "qJzhpk_S0QmJ",
        "outputId": "3c75b5dd-a9b3-4816-d5fa-9fca833a1028"
      },
      "outputs": [
        {
          "output_type": "stream",
          "name": "stdout",
          "text": [
            "Mounted at /content/drive/\n"
          ]
        }
      ],
      "source": [
        "if is_colab:\n",
        "  from google.colab import drive\n",
        "  drive.mount('/content/drive/')"
      ]
    },
    {
      "cell_type": "code",
      "execution_count": null,
      "metadata": {
        "colab": {
          "base_uri": "https://localhost:8080/"
        },
        "id": "Xn2PI2961FZ5",
        "outputId": "5e15a797-3dd4-4a07-9cb6-afadd34e07c9"
      },
      "outputs": [
        {
          "output_type": "stream",
          "name": "stdout",
          "text": [
            "/content\n"
          ]
        }
      ],
      "source": [
        "if is_colab:\n",
        "  %cd .."
      ]
    },
    {
      "cell_type": "code",
      "execution_count": null,
      "metadata": {
        "colab": {
          "base_uri": "https://localhost:8080/"
        },
        "id": "e5RsD5vZ1GXB",
        "outputId": "5bb80f20-3ad7-423c-c4f5-840dc85c4e3b"
      },
      "outputs": [
        {
          "output_type": "stream",
          "name": "stdout",
          "text": [
            "/content/drive/MyDrive\n"
          ]
        }
      ],
      "source": [
        "if is_colab:\n",
        "  %cd drive/MyDrive/"
      ]
    },
    {
      "cell_type": "markdown",
      "source": [
        "Write data to output folder"
      ],
      "metadata": {
        "id": "cnoI7g98WldM"
      }
    },
    {
      "cell_type": "code",
      "execution_count": null,
      "metadata": {
        "colab": {
          "base_uri": "https://localhost:8080/"
        },
        "id": "KMXJnnQey76q",
        "outputId": "f186f561-721e-480a-b03e-3d39d9de9ddc"
      },
      "outputs": [
        {
          "output_type": "stream",
          "name": "stdout",
          "text": [
            "Outputting data to  L5PCtemplate[0]_60e-1Hz_642nseg_2000ms_108nbranch_29068NCs_29068nsyn\n"
          ]
        }
      ],
      "source": [
        "data_dict=cell.get_recorder_data() # creates new output folder with recorded data"
      ]
    },
    {
      "cell_type": "markdown",
      "metadata": {
        "id": "oS4bDEmh__8s"
      },
      "source": [
        "Write seg_info to csv"
      ]
    },
    {
      "cell_type": "code",
      "execution_count": null,
      "metadata": {
        "id": "m8i0GgIbzZr2"
      },
      "outputs": [],
      "source": [
        "cell.write_seg_info_to_csv() # creates csv of all seg information"
      ]
    }
  ],
  "metadata": {
    "colab": {
      "provenance": [],
      "include_colab_link": true
    },
    "kernelspec": {
      "display_name": "Python 3",
      "name": "python3"
    },
    "language_info": {
      "codemirror_mode": {
        "name": "ipython",
        "version": 3
      },
      "file_extension": ".py",
      "mimetype": "text/x-python",
      "name": "python",
      "nbconvert_exporter": "python",
      "pygments_lexer": "ipython3",
      "version": "3.8.16"
    },
    "widgets": {
      "application/vnd.jupyter.widget-state+json": {
        "ee1fecbb7821465f85bcd8b744faa84f": {
          "model_module": "@jupyter-widgets/controls",
          "model_name": "VBoxModel",
          "model_module_version": "1.5.0",
          "state": {
            "_dom_classes": [],
            "_model_module": "@jupyter-widgets/controls",
            "_model_module_version": "1.5.0",
            "_model_name": "VBoxModel",
            "_view_count": null,
            "_view_module": "@jupyter-widgets/controls",
            "_view_module_version": "1.5.0",
            "_view_name": "VBoxView",
            "box_style": "",
            "children": [
              "IPY_MODEL_d24c1fa858bf4d199ab4fb70a1155a2f",
              "IPY_MODEL_df88dfe7a0064a8f86b2be2892f29ae8",
              "IPY_MODEL_11b49bb7654f4fb69dd0c5c126993a30"
            ],
            "layout": "IPY_MODEL_042ad02a1bd84d31817e3a48b7602ff8"
          }
        },
        "d24c1fa858bf4d199ab4fb70a1155a2f": {
          "model_module": "@jupyter-widgets/controls",
          "model_name": "ButtonModel",
          "model_module_version": "1.5.0",
          "state": {
            "_dom_classes": [],
            "_model_module": "@jupyter-widgets/controls",
            "_model_module_version": "1.5.0",
            "_model_name": "ButtonModel",
            "_view_count": null,
            "_view_module": "@jupyter-widgets/controls",
            "_view_module_version": "1.5.0",
            "_view_name": "ButtonView",
            "button_style": "primary",
            "description": "Reset",
            "disabled": false,
            "icon": "history",
            "layout": "IPY_MODEL_0933baa04ba94591bd6cdc02b1036c50",
            "style": "IPY_MODEL_08b78312dbc4482dad111e218b988900",
            "tooltip": ""
          }
        },
        "df88dfe7a0064a8f86b2be2892f29ae8": {
          "model_module": "@jupyter-widgets/controls",
          "model_name": "HBoxModel",
          "model_module_version": "1.5.0",
          "state": {
            "_dom_classes": [],
            "_model_module": "@jupyter-widgets/controls",
            "_model_module_version": "1.5.0",
            "_model_name": "HBoxModel",
            "_view_count": null,
            "_view_module": "@jupyter-widgets/controls",
            "_view_module_version": "1.5.0",
            "_view_name": "HBoxView",
            "box_style": "",
            "children": [
              "IPY_MODEL_8ba14f3335a04036a7a759a6e661352e",
              "IPY_MODEL_73df8e25bfdd4bc8bed29222af20462c"
            ],
            "layout": "IPY_MODEL_8050f6d68a16491082e8b7e8d0685018"
          }
        },
        "11b49bb7654f4fb69dd0c5c126993a30": {
          "model_module": "@jupyter-widgets/controls",
          "model_name": "HBoxModel",
          "model_module_version": "1.5.0",
          "state": {
            "_dom_classes": [],
            "_model_module": "@jupyter-widgets/controls",
            "_model_module_version": "1.5.0",
            "_model_name": "HBoxModel",
            "_view_count": null,
            "_view_module": "@jupyter-widgets/controls",
            "_view_module_version": "1.5.0",
            "_view_name": "HBoxView",
            "box_style": "",
            "children": [
              "IPY_MODEL_93d157f8a3de4ac4a9abe1dbac0787f9",
              "IPY_MODEL_2e9965e3f890417f8178761fe3f41b4a"
            ],
            "layout": "IPY_MODEL_88180711bdb449b5b065991d374d1e56"
          }
        },
        "042ad02a1bd84d31817e3a48b7602ff8": {
          "model_module": "@jupyter-widgets/base",
          "model_name": "LayoutModel",
          "model_module_version": "1.2.0",
          "state": {
            "_model_module": "@jupyter-widgets/base",
            "_model_module_version": "1.2.0",
            "_model_name": "LayoutModel",
            "_view_count": null,
            "_view_module": "@jupyter-widgets/base",
            "_view_module_version": "1.2.0",
            "_view_name": "LayoutView",
            "align_content": null,
            "align_items": null,
            "align_self": null,
            "border": null,
            "bottom": null,
            "display": null,
            "flex": null,
            "flex_flow": null,
            "grid_area": null,
            "grid_auto_columns": null,
            "grid_auto_flow": null,
            "grid_auto_rows": null,
            "grid_column": null,
            "grid_gap": null,
            "grid_row": null,
            "grid_template_areas": null,
            "grid_template_columns": null,
            "grid_template_rows": null,
            "height": null,
            "justify_content": null,
            "justify_items": null,
            "left": null,
            "margin": null,
            "max_height": null,
            "max_width": null,
            "min_height": null,
            "min_width": null,
            "object_fit": null,
            "object_position": null,
            "order": null,
            "overflow": null,
            "overflow_x": null,
            "overflow_y": null,
            "padding": null,
            "right": null,
            "top": null,
            "visibility": null,
            "width": null
          }
        },
        "0933baa04ba94591bd6cdc02b1036c50": {
          "model_module": "@jupyter-widgets/base",
          "model_name": "LayoutModel",
          "model_module_version": "1.2.0",
          "state": {
            "_model_module": "@jupyter-widgets/base",
            "_model_module_version": "1.2.0",
            "_model_name": "LayoutModel",
            "_view_count": null,
            "_view_module": "@jupyter-widgets/base",
            "_view_module_version": "1.2.0",
            "_view_name": "LayoutView",
            "align_content": null,
            "align_items": null,
            "align_self": null,
            "border": null,
            "bottom": null,
            "display": null,
            "flex": null,
            "flex_flow": null,
            "grid_area": null,
            "grid_auto_columns": null,
            "grid_auto_flow": null,
            "grid_auto_rows": null,
            "grid_column": null,
            "grid_gap": null,
            "grid_row": null,
            "grid_template_areas": null,
            "grid_template_columns": null,
            "grid_template_rows": null,
            "height": null,
            "justify_content": null,
            "justify_items": null,
            "left": null,
            "margin": null,
            "max_height": null,
            "max_width": null,
            "min_height": null,
            "min_width": null,
            "object_fit": null,
            "object_position": null,
            "order": null,
            "overflow": null,
            "overflow_x": null,
            "overflow_y": null,
            "padding": null,
            "right": null,
            "top": null,
            "visibility": null,
            "width": null
          }
        },
        "08b78312dbc4482dad111e218b988900": {
          "model_module": "@jupyter-widgets/controls",
          "model_name": "ButtonStyleModel",
          "model_module_version": "1.5.0",
          "state": {
            "_model_module": "@jupyter-widgets/controls",
            "_model_module_version": "1.5.0",
            "_model_name": "ButtonStyleModel",
            "_view_count": null,
            "_view_module": "@jupyter-widgets/base",
            "_view_module_version": "1.2.0",
            "_view_name": "StyleView",
            "button_color": null,
            "font_weight": ""
          }
        },
        "8ba14f3335a04036a7a759a6e661352e": {
          "model_module": "@jupyter-widgets/controls",
          "model_name": "VBoxModel",
          "model_module_version": "1.5.0",
          "state": {
            "_dom_classes": [],
            "_model_module": "@jupyter-widgets/controls",
            "_model_module_version": "1.5.0",
            "_model_name": "VBoxModel",
            "_view_count": null,
            "_view_module": "@jupyter-widgets/controls",
            "_view_module_version": "1.5.0",
            "_view_name": "VBoxView",
            "box_style": "",
            "children": [
              "IPY_MODEL_5e4502ee691a44d59a0f31b1a5f65c94",
              "IPY_MODEL_ee4be5466e144540af2a597af58add71",
              "IPY_MODEL_b6ce4c551f69433b91affe33852f5a98"
            ],
            "layout": "IPY_MODEL_a6615cf1a6f84b52aeda7c9def6cba81"
          }
        },
        "73df8e25bfdd4bc8bed29222af20462c": {
          "model_module": "@jupyter-widgets/controls",
          "model_name": "VBoxModel",
          "model_module_version": "1.5.0",
          "state": {
            "_dom_classes": [],
            "_model_module": "@jupyter-widgets/controls",
            "_model_module_version": "1.5.0",
            "_model_name": "VBoxModel",
            "_view_count": null,
            "_view_module": "@jupyter-widgets/controls",
            "_view_module_version": "1.5.0",
            "_view_name": "VBoxView",
            "box_style": "",
            "children": [
              "IPY_MODEL_80de58e1035b48f7826c4b35503402ee",
              "IPY_MODEL_17fbe0b8a7d048b69b870e183f363e56",
              "IPY_MODEL_f62c9c40cb3342a38922b6356e87846d"
            ],
            "layout": "IPY_MODEL_85aea699a8af46cb98b29d3d1f2e3264"
          }
        },
        "8050f6d68a16491082e8b7e8d0685018": {
          "model_module": "@jupyter-widgets/base",
          "model_name": "LayoutModel",
          "model_module_version": "1.2.0",
          "state": {
            "_model_module": "@jupyter-widgets/base",
            "_model_module_version": "1.2.0",
            "_model_name": "LayoutModel",
            "_view_count": null,
            "_view_module": "@jupyter-widgets/base",
            "_view_module_version": "1.2.0",
            "_view_name": "LayoutView",
            "align_content": null,
            "align_items": null,
            "align_self": null,
            "border": null,
            "bottom": null,
            "display": null,
            "flex": null,
            "flex_flow": null,
            "grid_area": null,
            "grid_auto_columns": null,
            "grid_auto_flow": null,
            "grid_auto_rows": null,
            "grid_column": null,
            "grid_gap": null,
            "grid_row": null,
            "grid_template_areas": null,
            "grid_template_columns": null,
            "grid_template_rows": null,
            "height": null,
            "justify_content": null,
            "justify_items": null,
            "left": null,
            "margin": null,
            "max_height": null,
            "max_width": null,
            "min_height": null,
            "min_width": null,
            "object_fit": null,
            "object_position": null,
            "order": null,
            "overflow": null,
            "overflow_x": null,
            "overflow_y": null,
            "padding": null,
            "right": null,
            "top": null,
            "visibility": null,
            "width": null
          }
        },
        "93d157f8a3de4ac4a9abe1dbac0787f9": {
          "model_module": "@jupyter-widgets/controls",
          "model_name": "VBoxModel",
          "model_module_version": "1.5.0",
          "state": {
            "_dom_classes": [],
            "_model_module": "@jupyter-widgets/controls",
            "_model_module_version": "1.5.0",
            "_model_name": "VBoxModel",
            "_view_count": null,
            "_view_module": "@jupyter-widgets/controls",
            "_view_module_version": "1.5.0",
            "_view_name": "VBoxView",
            "box_style": "",
            "children": [
              "IPY_MODEL_ac5b680d9c8c4a3698f0f441cac80e5a",
              "IPY_MODEL_ce824c1ad9ed49469802323ca4538987"
            ],
            "layout": "IPY_MODEL_ae2e124a63ca4d1fba4d6e3223f52197"
          }
        },
        "2e9965e3f890417f8178761fe3f41b4a": {
          "model_module": "@jupyter-widgets/controls",
          "model_name": "FloatSliderModel",
          "model_module_version": "1.5.0",
          "state": {
            "_dom_classes": [],
            "_model_module": "@jupyter-widgets/controls",
            "_model_module_version": "1.5.0",
            "_model_name": "FloatSliderModel",
            "_view_count": null,
            "_view_module": "@jupyter-widgets/controls",
            "_view_module_version": "1.5.0",
            "_view_name": "FloatSliderView",
            "continuous_update": false,
            "description": "elev (deg)",
            "description_tooltip": null,
            "disabled": false,
            "layout": "IPY_MODEL_204d47ea34874f30a65edc95aa707a3a",
            "max": 90,
            "min": -90,
            "orientation": "vertical",
            "readout": true,
            "readout_format": ".0f",
            "step": 1,
            "style": "IPY_MODEL_5369e6d240f14874b4d08bdb81bf4816",
            "value": -10
          }
        },
        "88180711bdb449b5b065991d374d1e56": {
          "model_module": "@jupyter-widgets/base",
          "model_name": "LayoutModel",
          "model_module_version": "1.2.0",
          "state": {
            "_model_module": "@jupyter-widgets/base",
            "_model_module_version": "1.2.0",
            "_model_name": "LayoutModel",
            "_view_count": null,
            "_view_module": "@jupyter-widgets/base",
            "_view_module_version": "1.2.0",
            "_view_name": "LayoutView",
            "align_content": null,
            "align_items": null,
            "align_self": null,
            "border": null,
            "bottom": null,
            "display": null,
            "flex": null,
            "flex_flow": null,
            "grid_area": null,
            "grid_auto_columns": null,
            "grid_auto_flow": null,
            "grid_auto_rows": null,
            "grid_column": null,
            "grid_gap": null,
            "grid_row": null,
            "grid_template_areas": null,
            "grid_template_columns": null,
            "grid_template_rows": null,
            "height": null,
            "justify_content": null,
            "justify_items": null,
            "left": null,
            "margin": null,
            "max_height": null,
            "max_width": null,
            "min_height": null,
            "min_width": null,
            "object_fit": null,
            "object_position": null,
            "order": null,
            "overflow": null,
            "overflow_x": null,
            "overflow_y": null,
            "padding": null,
            "right": null,
            "top": null,
            "visibility": null,
            "width": null
          }
        },
        "5e4502ee691a44d59a0f31b1a5f65c94": {
          "model_module": "@jupyter-widgets/controls",
          "model_name": "FloatSliderModel",
          "model_module_version": "1.5.0",
          "state": {
            "_dom_classes": [],
            "_model_module": "@jupyter-widgets/controls",
            "_model_module_version": "1.5.0",
            "_model_name": "FloatSliderModel",
            "_view_count": null,
            "_view_module": "@jupyter-widgets/controls",
            "_view_module_version": "1.5.0",
            "_view_name": "FloatSliderView",
            "continuous_update": false,
            "description": "x (um)",
            "description_tooltip": null,
            "disabled": false,
            "layout": "IPY_MODEL_957e455967c04828b81e95777c506292",
            "max": 200,
            "min": -200,
            "orientation": "horizontal",
            "readout": true,
            "readout_format": ".0f",
            "step": 1,
            "style": "IPY_MODEL_7c04123867b24262a3519746d0ca95ff",
            "value": 0
          }
        },
        "ee4be5466e144540af2a597af58add71": {
          "model_module": "@jupyter-widgets/controls",
          "model_name": "FloatSliderModel",
          "model_module_version": "1.5.0",
          "state": {
            "_dom_classes": [],
            "_model_module": "@jupyter-widgets/controls",
            "_model_module_version": "1.5.0",
            "_model_name": "FloatSliderModel",
            "_view_count": null,
            "_view_module": "@jupyter-widgets/controls",
            "_view_module_version": "1.5.0",
            "_view_name": "FloatSliderView",
            "continuous_update": false,
            "description": "y (um)",
            "description_tooltip": null,
            "disabled": false,
            "layout": "IPY_MODEL_6fc378ff23fe430f86fd2de8d326d7ce",
            "max": 1000,
            "min": -1000,
            "orientation": "horizontal",
            "readout": true,
            "readout_format": ".0f",
            "step": 1,
            "style": "IPY_MODEL_a4c901efdd4f4333a750ef54549d99d0",
            "value": 0
          }
        },
        "b6ce4c551f69433b91affe33852f5a98": {
          "model_module": "@jupyter-widgets/controls",
          "model_name": "FloatSliderModel",
          "model_module_version": "1.5.0",
          "state": {
            "_dom_classes": [],
            "_model_module": "@jupyter-widgets/controls",
            "_model_module_version": "1.5.0",
            "_model_name": "FloatSliderModel",
            "_view_count": null,
            "_view_module": "@jupyter-widgets/controls",
            "_view_module_version": "1.5.0",
            "_view_name": "FloatSliderView",
            "continuous_update": false,
            "description": "z (um)",
            "description_tooltip": null,
            "disabled": false,
            "layout": "IPY_MODEL_d6b7126ddafc4a96b62feceb2bb0db16",
            "max": 400,
            "min": 20,
            "orientation": "horizontal",
            "readout": true,
            "readout_format": ".0f",
            "step": 1,
            "style": "IPY_MODEL_0a5cddbbbee34c16aba5e88a69e74f96",
            "value": 80
          }
        },
        "a6615cf1a6f84b52aeda7c9def6cba81": {
          "model_module": "@jupyter-widgets/base",
          "model_name": "LayoutModel",
          "model_module_version": "1.2.0",
          "state": {
            "_model_module": "@jupyter-widgets/base",
            "_model_module_version": "1.2.0",
            "_model_name": "LayoutModel",
            "_view_count": null,
            "_view_module": "@jupyter-widgets/base",
            "_view_module_version": "1.2.0",
            "_view_name": "LayoutView",
            "align_content": null,
            "align_items": null,
            "align_self": null,
            "border": null,
            "bottom": null,
            "display": null,
            "flex": null,
            "flex_flow": null,
            "grid_area": null,
            "grid_auto_columns": null,
            "grid_auto_flow": null,
            "grid_auto_rows": null,
            "grid_column": null,
            "grid_gap": null,
            "grid_row": null,
            "grid_template_areas": null,
            "grid_template_columns": null,
            "grid_template_rows": null,
            "height": null,
            "justify_content": null,
            "justify_items": null,
            "left": null,
            "margin": null,
            "max_height": null,
            "max_width": null,
            "min_height": null,
            "min_width": null,
            "object_fit": null,
            "object_position": null,
            "order": null,
            "overflow": null,
            "overflow_x": null,
            "overflow_y": null,
            "padding": null,
            "right": null,
            "top": null,
            "visibility": null,
            "width": null
          }
        },
        "80de58e1035b48f7826c4b35503402ee": {
          "model_module": "@jupyter-widgets/controls",
          "model_name": "FloatSliderModel",
          "model_module_version": "1.5.0",
          "state": {
            "_dom_classes": [],
            "_model_module": "@jupyter-widgets/controls",
            "_model_module_version": "1.5.0",
            "_model_name": "FloatSliderModel",
            "_view_count": null,
            "_view_module": "@jupyter-widgets/controls",
            "_view_module_version": "1.5.0",
            "_view_name": "FloatSliderView",
            "continuous_update": false,
            "description": "alpha (deg)",
            "description_tooltip": null,
            "disabled": false,
            "layout": "IPY_MODEL_a365ede7df034807a5d80e152b494503",
            "max": 180,
            "min": -180,
            "orientation": "horizontal",
            "readout": true,
            "readout_format": ".0f",
            "step": 1,
            "style": "IPY_MODEL_fa1d7229c79044db95f0aa93cc530ee9",
            "value": 0
          }
        },
        "17fbe0b8a7d048b69b870e183f363e56": {
          "model_module": "@jupyter-widgets/controls",
          "model_name": "FloatSliderModel",
          "model_module_version": "1.5.0",
          "state": {
            "_dom_classes": [],
            "_model_module": "@jupyter-widgets/controls",
            "_model_module_version": "1.5.0",
            "_model_name": "FloatSliderModel",
            "_view_count": null,
            "_view_module": "@jupyter-widgets/controls",
            "_view_module_version": "1.5.0",
            "_view_name": "FloatSliderView",
            "continuous_update": false,
            "description": "beta (deg)",
            "description_tooltip": null,
            "disabled": false,
            "layout": "IPY_MODEL_3b9ed3e0e5ae447d981719acef18e255",
            "max": 180,
            "min": 0,
            "orientation": "horizontal",
            "readout": true,
            "readout_format": ".0f",
            "step": 1,
            "style": "IPY_MODEL_01d35c19d62a45c1b7146b4dbdd946d5",
            "value": 0
          }
        },
        "f62c9c40cb3342a38922b6356e87846d": {
          "model_module": "@jupyter-widgets/controls",
          "model_name": "FloatSliderModel",
          "model_module_version": "1.5.0",
          "state": {
            "_dom_classes": [],
            "_model_module": "@jupyter-widgets/controls",
            "_model_module_version": "1.5.0",
            "_model_name": "FloatSliderModel",
            "_view_count": null,
            "_view_module": "@jupyter-widgets/controls",
            "_view_module_version": "1.5.0",
            "_view_name": "FloatSliderView",
            "continuous_update": false,
            "description": "phi (deg)",
            "description_tooltip": null,
            "disabled": false,
            "layout": "IPY_MODEL_aac0001e26ea4715ad418252703c5a66",
            "max": 180,
            "min": -180,
            "orientation": "horizontal",
            "readout": true,
            "readout_format": ".0f",
            "step": 1,
            "style": "IPY_MODEL_f198233144a847dcba1bca101a17deb2",
            "value": 0
          }
        },
        "85aea699a8af46cb98b29d3d1f2e3264": {
          "model_module": "@jupyter-widgets/base",
          "model_name": "LayoutModel",
          "model_module_version": "1.2.0",
          "state": {
            "_model_module": "@jupyter-widgets/base",
            "_model_module_version": "1.2.0",
            "_model_name": "LayoutModel",
            "_view_count": null,
            "_view_module": "@jupyter-widgets/base",
            "_view_module_version": "1.2.0",
            "_view_name": "LayoutView",
            "align_content": null,
            "align_items": null,
            "align_self": null,
            "border": null,
            "bottom": null,
            "display": null,
            "flex": null,
            "flex_flow": null,
            "grid_area": null,
            "grid_auto_columns": null,
            "grid_auto_flow": null,
            "grid_auto_rows": null,
            "grid_column": null,
            "grid_gap": null,
            "grid_row": null,
            "grid_template_areas": null,
            "grid_template_columns": null,
            "grid_template_rows": null,
            "height": null,
            "justify_content": null,
            "justify_items": null,
            "left": null,
            "margin": null,
            "max_height": null,
            "max_width": null,
            "min_height": null,
            "min_width": null,
            "object_fit": null,
            "object_position": null,
            "order": null,
            "overflow": null,
            "overflow_x": null,
            "overflow_y": null,
            "padding": null,
            "right": null,
            "top": null,
            "visibility": null,
            "width": null
          }
        },
        "ac5b680d9c8c4a3698f0f441cac80e5a": {
          "model_module": "@jupyter-widgets/output",
          "model_name": "OutputModel",
          "model_module_version": "1.0.0",
          "state": {
            "_dom_classes": [],
            "_model_module": "@jupyter-widgets/output",
            "_model_module_version": "1.0.0",
            "_model_name": "OutputModel",
            "_view_count": null,
            "_view_module": "@jupyter-widgets/output",
            "_view_module_version": "1.0.0",
            "_view_name": "OutputView",
            "layout": "IPY_MODEL_7ee8979a8b3c4391aacc7df77e801d57",
            "msg_id": "",
            "outputs": [
              {
                "output_type": "display_data",
                "data": {
                  "text/plain": "<Figure size 1200x800 with 2 Axes>",
                  "image/png": "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\n"
                },
                "metadata": {}
              }
            ]
          }
        },
        "ce824c1ad9ed49469802323ca4538987": {
          "model_module": "@jupyter-widgets/controls",
          "model_name": "FloatSliderModel",
          "model_module_version": "1.5.0",
          "state": {
            "_dom_classes": [],
            "_model_module": "@jupyter-widgets/controls",
            "_model_module_version": "1.5.0",
            "_model_name": "FloatSliderModel",
            "_view_count": null,
            "_view_module": "@jupyter-widgets/controls",
            "_view_module_version": "1.5.0",
            "_view_name": "FloatSliderView",
            "continuous_update": false,
            "description": "azim (deg)",
            "description_tooltip": null,
            "disabled": false,
            "layout": "IPY_MODEL_ff89a0909c514a06aa15e7faac5cb8ec",
            "max": 180,
            "min": -180,
            "orientation": "horizontal",
            "readout": true,
            "readout_format": ".0f",
            "step": 1,
            "style": "IPY_MODEL_8c6d64dcaf554f45ab39a1e7e51f91e4",
            "value": -90
          }
        },
        "ae2e124a63ca4d1fba4d6e3223f52197": {
          "model_module": "@jupyter-widgets/base",
          "model_name": "LayoutModel",
          "model_module_version": "1.2.0",
          "state": {
            "_model_module": "@jupyter-widgets/base",
            "_model_module_version": "1.2.0",
            "_model_name": "LayoutModel",
            "_view_count": null,
            "_view_module": "@jupyter-widgets/base",
            "_view_module_version": "1.2.0",
            "_view_name": "LayoutView",
            "align_content": null,
            "align_items": null,
            "align_self": null,
            "border": null,
            "bottom": null,
            "display": null,
            "flex": null,
            "flex_flow": null,
            "grid_area": null,
            "grid_auto_columns": null,
            "grid_auto_flow": null,
            "grid_auto_rows": null,
            "grid_column": null,
            "grid_gap": null,
            "grid_row": null,
            "grid_template_areas": null,
            "grid_template_columns": null,
            "grid_template_rows": null,
            "height": null,
            "justify_content": null,
            "justify_items": null,
            "left": null,
            "margin": null,
            "max_height": null,
            "max_width": null,
            "min_height": null,
            "min_width": null,
            "object_fit": null,
            "object_position": null,
            "order": null,
            "overflow": null,
            "overflow_x": null,
            "overflow_y": null,
            "padding": null,
            "right": null,
            "top": null,
            "visibility": null,
            "width": null
          }
        },
        "204d47ea34874f30a65edc95aa707a3a": {
          "model_module": "@jupyter-widgets/base",
          "model_name": "LayoutModel",
          "model_module_version": "1.2.0",
          "state": {
            "_model_module": "@jupyter-widgets/base",
            "_model_module_version": "1.2.0",
            "_model_name": "LayoutModel",
            "_view_count": null,
            "_view_module": "@jupyter-widgets/base",
            "_view_module_version": "1.2.0",
            "_view_name": "LayoutView",
            "align_content": null,
            "align_items": null,
            "align_self": null,
            "border": null,
            "bottom": null,
            "display": null,
            "flex": null,
            "flex_flow": null,
            "grid_area": null,
            "grid_auto_columns": null,
            "grid_auto_flow": null,
            "grid_auto_rows": null,
            "grid_column": null,
            "grid_gap": null,
            "grid_row": null,
            "grid_template_areas": null,
            "grid_template_columns": null,
            "grid_template_rows": null,
            "height": "350px",
            "justify_content": null,
            "justify_items": null,
            "left": null,
            "margin": null,
            "max_height": null,
            "max_width": null,
            "min_height": null,
            "min_width": null,
            "object_fit": null,
            "object_position": null,
            "order": null,
            "overflow": null,
            "overflow_x": null,
            "overflow_y": null,
            "padding": null,
            "right": null,
            "top": null,
            "visibility": null,
            "width": null
          }
        },
        "5369e6d240f14874b4d08bdb81bf4816": {
          "model_module": "@jupyter-widgets/controls",
          "model_name": "SliderStyleModel",
          "model_module_version": "1.5.0",
          "state": {
            "_model_module": "@jupyter-widgets/controls",
            "_model_module_version": "1.5.0",
            "_model_name": "SliderStyleModel",
            "_view_count": null,
            "_view_module": "@jupyter-widgets/base",
            "_view_module_version": "1.2.0",
            "_view_name": "StyleView",
            "description_width": "",
            "handle_color": null
          }
        },
        "957e455967c04828b81e95777c506292": {
          "model_module": "@jupyter-widgets/base",
          "model_name": "LayoutModel",
          "model_module_version": "1.2.0",
          "state": {
            "_model_module": "@jupyter-widgets/base",
            "_model_module_version": "1.2.0",
            "_model_name": "LayoutModel",
            "_view_count": null,
            "_view_module": "@jupyter-widgets/base",
            "_view_module_version": "1.2.0",
            "_view_name": "LayoutView",
            "align_content": null,
            "align_items": null,
            "align_self": null,
            "border": null,
            "bottom": null,
            "display": null,
            "flex": null,
            "flex_flow": null,
            "grid_area": null,
            "grid_auto_columns": null,
            "grid_auto_flow": null,
            "grid_auto_rows": null,
            "grid_column": null,
            "grid_gap": null,
            "grid_row": null,
            "grid_template_areas": null,
            "grid_template_columns": null,
            "grid_template_rows": null,
            "height": null,
            "justify_content": null,
            "justify_items": null,
            "left": null,
            "margin": null,
            "max_height": null,
            "max_width": null,
            "min_height": null,
            "min_width": null,
            "object_fit": null,
            "object_position": null,
            "order": null,
            "overflow": null,
            "overflow_x": null,
            "overflow_y": null,
            "padding": null,
            "right": null,
            "top": null,
            "visibility": null,
            "width": null
          }
        },
        "7c04123867b24262a3519746d0ca95ff": {
          "model_module": "@jupyter-widgets/controls",
          "model_name": "SliderStyleModel",
          "model_module_version": "1.5.0",
          "state": {
            "_model_module": "@jupyter-widgets/controls",
            "_model_module_version": "1.5.0",
            "_model_name": "SliderStyleModel",
            "_view_count": null,
            "_view_module": "@jupyter-widgets/base",
            "_view_module_version": "1.2.0",
            "_view_name": "StyleView",
            "description_width": "",
            "handle_color": null
          }
        },
        "6fc378ff23fe430f86fd2de8d326d7ce": {
          "model_module": "@jupyter-widgets/base",
          "model_name": "LayoutModel",
          "model_module_version": "1.2.0",
          "state": {
            "_model_module": "@jupyter-widgets/base",
            "_model_module_version": "1.2.0",
            "_model_name": "LayoutModel",
            "_view_count": null,
            "_view_module": "@jupyter-widgets/base",
            "_view_module_version": "1.2.0",
            "_view_name": "LayoutView",
            "align_content": null,
            "align_items": null,
            "align_self": null,
            "border": null,
            "bottom": null,
            "display": null,
            "flex": null,
            "flex_flow": null,
            "grid_area": null,
            "grid_auto_columns": null,
            "grid_auto_flow": null,
            "grid_auto_rows": null,
            "grid_column": null,
            "grid_gap": null,
            "grid_row": null,
            "grid_template_areas": null,
            "grid_template_columns": null,
            "grid_template_rows": null,
            "height": null,
            "justify_content": null,
            "justify_items": null,
            "left": null,
            "margin": null,
            "max_height": null,
            "max_width": null,
            "min_height": null,
            "min_width": null,
            "object_fit": null,
            "object_position": null,
            "order": null,
            "overflow": null,
            "overflow_x": null,
            "overflow_y": null,
            "padding": null,
            "right": null,
            "top": null,
            "visibility": null,
            "width": null
          }
        },
        "a4c901efdd4f4333a750ef54549d99d0": {
          "model_module": "@jupyter-widgets/controls",
          "model_name": "SliderStyleModel",
          "model_module_version": "1.5.0",
          "state": {
            "_model_module": "@jupyter-widgets/controls",
            "_model_module_version": "1.5.0",
            "_model_name": "SliderStyleModel",
            "_view_count": null,
            "_view_module": "@jupyter-widgets/base",
            "_view_module_version": "1.2.0",
            "_view_name": "StyleView",
            "description_width": "",
            "handle_color": null
          }
        },
        "d6b7126ddafc4a96b62feceb2bb0db16": {
          "model_module": "@jupyter-widgets/base",
          "model_name": "LayoutModel",
          "model_module_version": "1.2.0",
          "state": {
            "_model_module": "@jupyter-widgets/base",
            "_model_module_version": "1.2.0",
            "_model_name": "LayoutModel",
            "_view_count": null,
            "_view_module": "@jupyter-widgets/base",
            "_view_module_version": "1.2.0",
            "_view_name": "LayoutView",
            "align_content": null,
            "align_items": null,
            "align_self": null,
            "border": null,
            "bottom": null,
            "display": null,
            "flex": null,
            "flex_flow": null,
            "grid_area": null,
            "grid_auto_columns": null,
            "grid_auto_flow": null,
            "grid_auto_rows": null,
            "grid_column": null,
            "grid_gap": null,
            "grid_row": null,
            "grid_template_areas": null,
            "grid_template_columns": null,
            "grid_template_rows": null,
            "height": null,
            "justify_content": null,
            "justify_items": null,
            "left": null,
            "margin": null,
            "max_height": null,
            "max_width": null,
            "min_height": null,
            "min_width": null,
            "object_fit": null,
            "object_position": null,
            "order": null,
            "overflow": null,
            "overflow_x": null,
            "overflow_y": null,
            "padding": null,
            "right": null,
            "top": null,
            "visibility": null,
            "width": null
          }
        },
        "0a5cddbbbee34c16aba5e88a69e74f96": {
          "model_module": "@jupyter-widgets/controls",
          "model_name": "SliderStyleModel",
          "model_module_version": "1.5.0",
          "state": {
            "_model_module": "@jupyter-widgets/controls",
            "_model_module_version": "1.5.0",
            "_model_name": "SliderStyleModel",
            "_view_count": null,
            "_view_module": "@jupyter-widgets/base",
            "_view_module_version": "1.2.0",
            "_view_name": "StyleView",
            "description_width": "",
            "handle_color": null
          }
        },
        "a365ede7df034807a5d80e152b494503": {
          "model_module": "@jupyter-widgets/base",
          "model_name": "LayoutModel",
          "model_module_version": "1.2.0",
          "state": {
            "_model_module": "@jupyter-widgets/base",
            "_model_module_version": "1.2.0",
            "_model_name": "LayoutModel",
            "_view_count": null,
            "_view_module": "@jupyter-widgets/base",
            "_view_module_version": "1.2.0",
            "_view_name": "LayoutView",
            "align_content": null,
            "align_items": null,
            "align_self": null,
            "border": null,
            "bottom": null,
            "display": null,
            "flex": null,
            "flex_flow": null,
            "grid_area": null,
            "grid_auto_columns": null,
            "grid_auto_flow": null,
            "grid_auto_rows": null,
            "grid_column": null,
            "grid_gap": null,
            "grid_row": null,
            "grid_template_areas": null,
            "grid_template_columns": null,
            "grid_template_rows": null,
            "height": null,
            "justify_content": null,
            "justify_items": null,
            "left": null,
            "margin": null,
            "max_height": null,
            "max_width": null,
            "min_height": null,
            "min_width": null,
            "object_fit": null,
            "object_position": null,
            "order": null,
            "overflow": null,
            "overflow_x": null,
            "overflow_y": null,
            "padding": null,
            "right": null,
            "top": null,
            "visibility": null,
            "width": null
          }
        },
        "fa1d7229c79044db95f0aa93cc530ee9": {
          "model_module": "@jupyter-widgets/controls",
          "model_name": "SliderStyleModel",
          "model_module_version": "1.5.0",
          "state": {
            "_model_module": "@jupyter-widgets/controls",
            "_model_module_version": "1.5.0",
            "_model_name": "SliderStyleModel",
            "_view_count": null,
            "_view_module": "@jupyter-widgets/base",
            "_view_module_version": "1.2.0",
            "_view_name": "StyleView",
            "description_width": "",
            "handle_color": null
          }
        },
        "3b9ed3e0e5ae447d981719acef18e255": {
          "model_module": "@jupyter-widgets/base",
          "model_name": "LayoutModel",
          "model_module_version": "1.2.0",
          "state": {
            "_model_module": "@jupyter-widgets/base",
            "_model_module_version": "1.2.0",
            "_model_name": "LayoutModel",
            "_view_count": null,
            "_view_module": "@jupyter-widgets/base",
            "_view_module_version": "1.2.0",
            "_view_name": "LayoutView",
            "align_content": null,
            "align_items": null,
            "align_self": null,
            "border": null,
            "bottom": null,
            "display": null,
            "flex": null,
            "flex_flow": null,
            "grid_area": null,
            "grid_auto_columns": null,
            "grid_auto_flow": null,
            "grid_auto_rows": null,
            "grid_column": null,
            "grid_gap": null,
            "grid_row": null,
            "grid_template_areas": null,
            "grid_template_columns": null,
            "grid_template_rows": null,
            "height": null,
            "justify_content": null,
            "justify_items": null,
            "left": null,
            "margin": null,
            "max_height": null,
            "max_width": null,
            "min_height": null,
            "min_width": null,
            "object_fit": null,
            "object_position": null,
            "order": null,
            "overflow": null,
            "overflow_x": null,
            "overflow_y": null,
            "padding": null,
            "right": null,
            "top": null,
            "visibility": null,
            "width": null
          }
        },
        "01d35c19d62a45c1b7146b4dbdd946d5": {
          "model_module": "@jupyter-widgets/controls",
          "model_name": "SliderStyleModel",
          "model_module_version": "1.5.0",
          "state": {
            "_model_module": "@jupyter-widgets/controls",
            "_model_module_version": "1.5.0",
            "_model_name": "SliderStyleModel",
            "_view_count": null,
            "_view_module": "@jupyter-widgets/base",
            "_view_module_version": "1.2.0",
            "_view_name": "StyleView",
            "description_width": "",
            "handle_color": null
          }
        },
        "aac0001e26ea4715ad418252703c5a66": {
          "model_module": "@jupyter-widgets/base",
          "model_name": "LayoutModel",
          "model_module_version": "1.2.0",
          "state": {
            "_model_module": "@jupyter-widgets/base",
            "_model_module_version": "1.2.0",
            "_model_name": "LayoutModel",
            "_view_count": null,
            "_view_module": "@jupyter-widgets/base",
            "_view_module_version": "1.2.0",
            "_view_name": "LayoutView",
            "align_content": null,
            "align_items": null,
            "align_self": null,
            "border": null,
            "bottom": null,
            "display": null,
            "flex": null,
            "flex_flow": null,
            "grid_area": null,
            "grid_auto_columns": null,
            "grid_auto_flow": null,
            "grid_auto_rows": null,
            "grid_column": null,
            "grid_gap": null,
            "grid_row": null,
            "grid_template_areas": null,
            "grid_template_columns": null,
            "grid_template_rows": null,
            "height": null,
            "justify_content": null,
            "justify_items": null,
            "left": null,
            "margin": null,
            "max_height": null,
            "max_width": null,
            "min_height": null,
            "min_width": null,
            "object_fit": null,
            "object_position": null,
            "order": null,
            "overflow": null,
            "overflow_x": null,
            "overflow_y": null,
            "padding": null,
            "right": null,
            "top": null,
            "visibility": null,
            "width": null
          }
        },
        "f198233144a847dcba1bca101a17deb2": {
          "model_module": "@jupyter-widgets/controls",
          "model_name": "SliderStyleModel",
          "model_module_version": "1.5.0",
          "state": {
            "_model_module": "@jupyter-widgets/controls",
            "_model_module_version": "1.5.0",
            "_model_name": "SliderStyleModel",
            "_view_count": null,
            "_view_module": "@jupyter-widgets/base",
            "_view_module_version": "1.2.0",
            "_view_name": "StyleView",
            "description_width": "",
            "handle_color": null
          }
        },
        "ff89a0909c514a06aa15e7faac5cb8ec": {
          "model_module": "@jupyter-widgets/base",
          "model_name": "LayoutModel",
          "model_module_version": "1.2.0",
          "state": {
            "_model_module": "@jupyter-widgets/base",
            "_model_module_version": "1.2.0",
            "_model_name": "LayoutModel",
            "_view_count": null,
            "_view_module": "@jupyter-widgets/base",
            "_view_module_version": "1.2.0",
            "_view_name": "LayoutView",
            "align_content": null,
            "align_items": null,
            "align_self": null,
            "border": null,
            "bottom": null,
            "display": null,
            "flex": null,
            "flex_flow": null,
            "grid_area": null,
            "grid_auto_columns": null,
            "grid_auto_flow": null,
            "grid_auto_rows": null,
            "grid_column": null,
            "grid_gap": null,
            "grid_row": null,
            "grid_template_areas": null,
            "grid_template_columns": null,
            "grid_template_rows": null,
            "height": null,
            "justify_content": null,
            "justify_items": null,
            "left": null,
            "margin": null,
            "max_height": null,
            "max_width": null,
            "min_height": null,
            "min_width": null,
            "object_fit": null,
            "object_position": null,
            "order": null,
            "overflow": null,
            "overflow_x": null,
            "overflow_y": null,
            "padding": null,
            "right": null,
            "top": null,
            "visibility": null,
            "width": "500px"
          }
        },
        "8c6d64dcaf554f45ab39a1e7e51f91e4": {
          "model_module": "@jupyter-widgets/controls",
          "model_name": "SliderStyleModel",
          "model_module_version": "1.5.0",
          "state": {
            "_model_module": "@jupyter-widgets/controls",
            "_model_module_version": "1.5.0",
            "_model_name": "SliderStyleModel",
            "_view_count": null,
            "_view_module": "@jupyter-widgets/base",
            "_view_module_version": "1.2.0",
            "_view_name": "StyleView",
            "description_width": "",
            "handle_color": null
          }
        },
        "7ee8979a8b3c4391aacc7df77e801d57": {
          "model_module": "@jupyter-widgets/base",
          "model_name": "LayoutModel",
          "model_module_version": "1.2.0",
          "state": {
            "_model_module": "@jupyter-widgets/base",
            "_model_module_version": "1.2.0",
            "_model_name": "LayoutModel",
            "_view_count": null,
            "_view_module": "@jupyter-widgets/base",
            "_view_module_version": "1.2.0",
            "_view_name": "LayoutView",
            "align_content": null,
            "align_items": null,
            "align_self": null,
            "border": null,
            "bottom": null,
            "display": null,
            "flex": null,
            "flex_flow": null,
            "grid_area": null,
            "grid_auto_columns": null,
            "grid_auto_flow": null,
            "grid_auto_rows": null,
            "grid_column": null,
            "grid_gap": null,
            "grid_row": null,
            "grid_template_areas": null,
            "grid_template_columns": null,
            "grid_template_rows": null,
            "height": null,
            "justify_content": null,
            "justify_items": null,
            "left": null,
            "margin": null,
            "max_height": null,
            "max_width": null,
            "min_height": null,
            "min_width": null,
            "object_fit": null,
            "object_position": null,
            "order": null,
            "overflow": null,
            "overflow_x": null,
            "overflow_y": null,
            "padding": null,
            "right": null,
            "top": null,
            "visibility": null,
            "width": null
          }
        },
        "169a0b840ca0497fb25d2470e24af3e5": {
          "model_module": "@jupyter-widgets/controls",
          "model_name": "VBoxModel",
          "model_module_version": "1.5.0",
          "state": {
            "_dom_classes": [],
            "_model_module": "@jupyter-widgets/controls",
            "_model_module_version": "1.5.0",
            "_model_name": "VBoxModel",
            "_view_count": null,
            "_view_module": "@jupyter-widgets/controls",
            "_view_module_version": "1.5.0",
            "_view_name": "VBoxView",
            "box_style": "",
            "children": [
              "IPY_MODEL_86eed6718be94de08bc89df860bc5d12",
              "IPY_MODEL_735bd47e6f634ec5ad8df8162dfa59cf",
              "IPY_MODEL_55d4629a8bee4512adf919485374c764"
            ],
            "layout": "IPY_MODEL_6c078a2ce2654a86bd58f5c1605d8bdd"
          }
        },
        "86eed6718be94de08bc89df860bc5d12": {
          "model_module": "@jupyter-widgets/controls",
          "model_name": "ButtonModel",
          "model_module_version": "1.5.0",
          "state": {
            "_dom_classes": [],
            "_model_module": "@jupyter-widgets/controls",
            "_model_module_version": "1.5.0",
            "_model_name": "ButtonModel",
            "_view_count": null,
            "_view_module": "@jupyter-widgets/controls",
            "_view_module_version": "1.5.0",
            "_view_name": "ButtonView",
            "button_style": "primary",
            "description": "Reset",
            "disabled": false,
            "icon": "history",
            "layout": "IPY_MODEL_fdfb4f6514674418946651f986d93c8c",
            "style": "IPY_MODEL_9d7b1a1b5e4648aa919ae79573789281",
            "tooltip": ""
          }
        },
        "735bd47e6f634ec5ad8df8162dfa59cf": {
          "model_module": "@jupyter-widgets/controls",
          "model_name": "HBoxModel",
          "model_module_version": "1.5.0",
          "state": {
            "_dom_classes": [],
            "_model_module": "@jupyter-widgets/controls",
            "_model_module_version": "1.5.0",
            "_model_name": "HBoxModel",
            "_view_count": null,
            "_view_module": "@jupyter-widgets/controls",
            "_view_module_version": "1.5.0",
            "_view_name": "HBoxView",
            "box_style": "",
            "children": [
              "IPY_MODEL_510e9ff9ad4f47b6b3bcafe6c02ee346",
              "IPY_MODEL_1d01a891abff4119bbd7429194914411"
            ],
            "layout": "IPY_MODEL_965f89c345c94450bab431ed8d75791d"
          }
        },
        "55d4629a8bee4512adf919485374c764": {
          "model_module": "@jupyter-widgets/controls",
          "model_name": "HBoxModel",
          "model_module_version": "1.5.0",
          "state": {
            "_dom_classes": [],
            "_model_module": "@jupyter-widgets/controls",
            "_model_module_version": "1.5.0",
            "_model_name": "HBoxModel",
            "_view_count": null,
            "_view_module": "@jupyter-widgets/controls",
            "_view_module_version": "1.5.0",
            "_view_name": "HBoxView",
            "box_style": "",
            "children": [
              "IPY_MODEL_1ebc9909ff7e4ff2864d281211a916b8",
              "IPY_MODEL_bdcaedfcc4a24f10b3fc7038fe4473a7"
            ],
            "layout": "IPY_MODEL_8f331b4522aa4e69a7579f61119a5e45"
          }
        },
        "6c078a2ce2654a86bd58f5c1605d8bdd": {
          "model_module": "@jupyter-widgets/base",
          "model_name": "LayoutModel",
          "model_module_version": "1.2.0",
          "state": {
            "_model_module": "@jupyter-widgets/base",
            "_model_module_version": "1.2.0",
            "_model_name": "LayoutModel",
            "_view_count": null,
            "_view_module": "@jupyter-widgets/base",
            "_view_module_version": "1.2.0",
            "_view_name": "LayoutView",
            "align_content": null,
            "align_items": null,
            "align_self": null,
            "border": null,
            "bottom": null,
            "display": null,
            "flex": null,
            "flex_flow": null,
            "grid_area": null,
            "grid_auto_columns": null,
            "grid_auto_flow": null,
            "grid_auto_rows": null,
            "grid_column": null,
            "grid_gap": null,
            "grid_row": null,
            "grid_template_areas": null,
            "grid_template_columns": null,
            "grid_template_rows": null,
            "height": null,
            "justify_content": null,
            "justify_items": null,
            "left": null,
            "margin": null,
            "max_height": null,
            "max_width": null,
            "min_height": null,
            "min_width": null,
            "object_fit": null,
            "object_position": null,
            "order": null,
            "overflow": null,
            "overflow_x": null,
            "overflow_y": null,
            "padding": null,
            "right": null,
            "top": null,
            "visibility": null,
            "width": null
          }
        },
        "fdfb4f6514674418946651f986d93c8c": {
          "model_module": "@jupyter-widgets/base",
          "model_name": "LayoutModel",
          "model_module_version": "1.2.0",
          "state": {
            "_model_module": "@jupyter-widgets/base",
            "_model_module_version": "1.2.0",
            "_model_name": "LayoutModel",
            "_view_count": null,
            "_view_module": "@jupyter-widgets/base",
            "_view_module_version": "1.2.0",
            "_view_name": "LayoutView",
            "align_content": null,
            "align_items": null,
            "align_self": null,
            "border": null,
            "bottom": null,
            "display": null,
            "flex": null,
            "flex_flow": null,
            "grid_area": null,
            "grid_auto_columns": null,
            "grid_auto_flow": null,
            "grid_auto_rows": null,
            "grid_column": null,
            "grid_gap": null,
            "grid_row": null,
            "grid_template_areas": null,
            "grid_template_columns": null,
            "grid_template_rows": null,
            "height": null,
            "justify_content": null,
            "justify_items": null,
            "left": null,
            "margin": null,
            "max_height": null,
            "max_width": null,
            "min_height": null,
            "min_width": null,
            "object_fit": null,
            "object_position": null,
            "order": null,
            "overflow": null,
            "overflow_x": null,
            "overflow_y": null,
            "padding": null,
            "right": null,
            "top": null,
            "visibility": null,
            "width": null
          }
        },
        "9d7b1a1b5e4648aa919ae79573789281": {
          "model_module": "@jupyter-widgets/controls",
          "model_name": "ButtonStyleModel",
          "model_module_version": "1.5.0",
          "state": {
            "_model_module": "@jupyter-widgets/controls",
            "_model_module_version": "1.5.0",
            "_model_name": "ButtonStyleModel",
            "_view_count": null,
            "_view_module": "@jupyter-widgets/base",
            "_view_module_version": "1.2.0",
            "_view_name": "StyleView",
            "button_color": null,
            "font_weight": ""
          }
        },
        "510e9ff9ad4f47b6b3bcafe6c02ee346": {
          "model_module": "@jupyter-widgets/controls",
          "model_name": "VBoxModel",
          "model_module_version": "1.5.0",
          "state": {
            "_dom_classes": [],
            "_model_module": "@jupyter-widgets/controls",
            "_model_module_version": "1.5.0",
            "_model_name": "VBoxModel",
            "_view_count": null,
            "_view_module": "@jupyter-widgets/controls",
            "_view_module_version": "1.5.0",
            "_view_name": "VBoxView",
            "box_style": "",
            "children": [
              "IPY_MODEL_bc7f545d2d6846e3921a7e2333e35cc1",
              "IPY_MODEL_47560c3b86304bf3ba4ff719f7ea525c",
              "IPY_MODEL_0ec2c5c9a6934903a157a0bc8246dbc4"
            ],
            "layout": "IPY_MODEL_c33f580077f44cb2900ea4d1afda6b99"
          }
        },
        "1d01a891abff4119bbd7429194914411": {
          "model_module": "@jupyter-widgets/controls",
          "model_name": "VBoxModel",
          "model_module_version": "1.5.0",
          "state": {
            "_dom_classes": [],
            "_model_module": "@jupyter-widgets/controls",
            "_model_module_version": "1.5.0",
            "_model_name": "VBoxModel",
            "_view_count": null,
            "_view_module": "@jupyter-widgets/controls",
            "_view_module_version": "1.5.0",
            "_view_name": "VBoxView",
            "box_style": "",
            "children": [
              "IPY_MODEL_15d9a12d4254402b938e9b4146ed7028",
              "IPY_MODEL_c8c19b6d5f954d10af3e57fc9aa26801",
              "IPY_MODEL_8512284d5b454b0f9e38a8f49dee557d"
            ],
            "layout": "IPY_MODEL_4e0bd24156be4551a834de2ed9defb39"
          }
        },
        "965f89c345c94450bab431ed8d75791d": {
          "model_module": "@jupyter-widgets/base",
          "model_name": "LayoutModel",
          "model_module_version": "1.2.0",
          "state": {
            "_model_module": "@jupyter-widgets/base",
            "_model_module_version": "1.2.0",
            "_model_name": "LayoutModel",
            "_view_count": null,
            "_view_module": "@jupyter-widgets/base",
            "_view_module_version": "1.2.0",
            "_view_name": "LayoutView",
            "align_content": null,
            "align_items": null,
            "align_self": null,
            "border": null,
            "bottom": null,
            "display": null,
            "flex": null,
            "flex_flow": null,
            "grid_area": null,
            "grid_auto_columns": null,
            "grid_auto_flow": null,
            "grid_auto_rows": null,
            "grid_column": null,
            "grid_gap": null,
            "grid_row": null,
            "grid_template_areas": null,
            "grid_template_columns": null,
            "grid_template_rows": null,
            "height": null,
            "justify_content": null,
            "justify_items": null,
            "left": null,
            "margin": null,
            "max_height": null,
            "max_width": null,
            "min_height": null,
            "min_width": null,
            "object_fit": null,
            "object_position": null,
            "order": null,
            "overflow": null,
            "overflow_x": null,
            "overflow_y": null,
            "padding": null,
            "right": null,
            "top": null,
            "visibility": null,
            "width": null
          }
        },
        "1ebc9909ff7e4ff2864d281211a916b8": {
          "model_module": "@jupyter-widgets/controls",
          "model_name": "VBoxModel",
          "model_module_version": "1.5.0",
          "state": {
            "_dom_classes": [],
            "_model_module": "@jupyter-widgets/controls",
            "_model_module_version": "1.5.0",
            "_model_name": "VBoxModel",
            "_view_count": null,
            "_view_module": "@jupyter-widgets/controls",
            "_view_module_version": "1.5.0",
            "_view_name": "VBoxView",
            "box_style": "",
            "children": [
              "IPY_MODEL_d3dd0bc7d64c470a8419b7a36af271f8",
              "IPY_MODEL_7cd60eadcbb14d83905dd3cf287d9231"
            ],
            "layout": "IPY_MODEL_0504da6f7d5a4ab6a792baab83b4f6c0"
          }
        },
        "bdcaedfcc4a24f10b3fc7038fe4473a7": {
          "model_module": "@jupyter-widgets/controls",
          "model_name": "FloatSliderModel",
          "model_module_version": "1.5.0",
          "state": {
            "_dom_classes": [],
            "_model_module": "@jupyter-widgets/controls",
            "_model_module_version": "1.5.0",
            "_model_name": "FloatSliderModel",
            "_view_count": null,
            "_view_module": "@jupyter-widgets/controls",
            "_view_module_version": "1.5.0",
            "_view_name": "FloatSliderView",
            "continuous_update": false,
            "description": "elev (deg)",
            "description_tooltip": null,
            "disabled": false,
            "layout": "IPY_MODEL_1e53b631eff340b69461052e456f1caf",
            "max": 90,
            "min": -90,
            "orientation": "vertical",
            "readout": true,
            "readout_format": ".0f",
            "step": 1,
            "style": "IPY_MODEL_a72e67f3db204a508a322665be047075",
            "value": -10
          }
        },
        "8f331b4522aa4e69a7579f61119a5e45": {
          "model_module": "@jupyter-widgets/base",
          "model_name": "LayoutModel",
          "model_module_version": "1.2.0",
          "state": {
            "_model_module": "@jupyter-widgets/base",
            "_model_module_version": "1.2.0",
            "_model_name": "LayoutModel",
            "_view_count": null,
            "_view_module": "@jupyter-widgets/base",
            "_view_module_version": "1.2.0",
            "_view_name": "LayoutView",
            "align_content": null,
            "align_items": null,
            "align_self": null,
            "border": null,
            "bottom": null,
            "display": null,
            "flex": null,
            "flex_flow": null,
            "grid_area": null,
            "grid_auto_columns": null,
            "grid_auto_flow": null,
            "grid_auto_rows": null,
            "grid_column": null,
            "grid_gap": null,
            "grid_row": null,
            "grid_template_areas": null,
            "grid_template_columns": null,
            "grid_template_rows": null,
            "height": null,
            "justify_content": null,
            "justify_items": null,
            "left": null,
            "margin": null,
            "max_height": null,
            "max_width": null,
            "min_height": null,
            "min_width": null,
            "object_fit": null,
            "object_position": null,
            "order": null,
            "overflow": null,
            "overflow_x": null,
            "overflow_y": null,
            "padding": null,
            "right": null,
            "top": null,
            "visibility": null,
            "width": null
          }
        },
        "bc7f545d2d6846e3921a7e2333e35cc1": {
          "model_module": "@jupyter-widgets/controls",
          "model_name": "FloatSliderModel",
          "model_module_version": "1.5.0",
          "state": {
            "_dom_classes": [],
            "_model_module": "@jupyter-widgets/controls",
            "_model_module_version": "1.5.0",
            "_model_name": "FloatSliderModel",
            "_view_count": null,
            "_view_module": "@jupyter-widgets/controls",
            "_view_module_version": "1.5.0",
            "_view_name": "FloatSliderView",
            "continuous_update": false,
            "description": "x (um)",
            "description_tooltip": null,
            "disabled": false,
            "layout": "IPY_MODEL_8d1bfbb1c93b4ae2ac52f7d4c80df43d",
            "max": 200,
            "min": -200,
            "orientation": "horizontal",
            "readout": true,
            "readout_format": ".0f",
            "step": 1,
            "style": "IPY_MODEL_d42326ceece5498397f36ac4ad7e6db2",
            "value": 0
          }
        },
        "47560c3b86304bf3ba4ff719f7ea525c": {
          "model_module": "@jupyter-widgets/controls",
          "model_name": "FloatSliderModel",
          "model_module_version": "1.5.0",
          "state": {
            "_dom_classes": [],
            "_model_module": "@jupyter-widgets/controls",
            "_model_module_version": "1.5.0",
            "_model_name": "FloatSliderModel",
            "_view_count": null,
            "_view_module": "@jupyter-widgets/controls",
            "_view_module_version": "1.5.0",
            "_view_name": "FloatSliderView",
            "continuous_update": false,
            "description": "y (um)",
            "description_tooltip": null,
            "disabled": false,
            "layout": "IPY_MODEL_7519d3b3d4f84e089b6fa68decf0f43d",
            "max": 1000,
            "min": -1000,
            "orientation": "horizontal",
            "readout": true,
            "readout_format": ".0f",
            "step": 1,
            "style": "IPY_MODEL_85f7455b96614937a45824386ed1d10b",
            "value": 0
          }
        },
        "0ec2c5c9a6934903a157a0bc8246dbc4": {
          "model_module": "@jupyter-widgets/controls",
          "model_name": "FloatSliderModel",
          "model_module_version": "1.5.0",
          "state": {
            "_dom_classes": [],
            "_model_module": "@jupyter-widgets/controls",
            "_model_module_version": "1.5.0",
            "_model_name": "FloatSliderModel",
            "_view_count": null,
            "_view_module": "@jupyter-widgets/controls",
            "_view_module_version": "1.5.0",
            "_view_name": "FloatSliderView",
            "continuous_update": false,
            "description": "z (um)",
            "description_tooltip": null,
            "disabled": false,
            "layout": "IPY_MODEL_f8b6b50c15eb42569be553535eb80018",
            "max": 400,
            "min": 20,
            "orientation": "horizontal",
            "readout": true,
            "readout_format": ".0f",
            "step": 1,
            "style": "IPY_MODEL_e86dc434499c4163afa682a639e340d8",
            "value": 80
          }
        },
        "c33f580077f44cb2900ea4d1afda6b99": {
          "model_module": "@jupyter-widgets/base",
          "model_name": "LayoutModel",
          "model_module_version": "1.2.0",
          "state": {
            "_model_module": "@jupyter-widgets/base",
            "_model_module_version": "1.2.0",
            "_model_name": "LayoutModel",
            "_view_count": null,
            "_view_module": "@jupyter-widgets/base",
            "_view_module_version": "1.2.0",
            "_view_name": "LayoutView",
            "align_content": null,
            "align_items": null,
            "align_self": null,
            "border": null,
            "bottom": null,
            "display": null,
            "flex": null,
            "flex_flow": null,
            "grid_area": null,
            "grid_auto_columns": null,
            "grid_auto_flow": null,
            "grid_auto_rows": null,
            "grid_column": null,
            "grid_gap": null,
            "grid_row": null,
            "grid_template_areas": null,
            "grid_template_columns": null,
            "grid_template_rows": null,
            "height": null,
            "justify_content": null,
            "justify_items": null,
            "left": null,
            "margin": null,
            "max_height": null,
            "max_width": null,
            "min_height": null,
            "min_width": null,
            "object_fit": null,
            "object_position": null,
            "order": null,
            "overflow": null,
            "overflow_x": null,
            "overflow_y": null,
            "padding": null,
            "right": null,
            "top": null,
            "visibility": null,
            "width": null
          }
        },
        "15d9a12d4254402b938e9b4146ed7028": {
          "model_module": "@jupyter-widgets/controls",
          "model_name": "FloatSliderModel",
          "model_module_version": "1.5.0",
          "state": {
            "_dom_classes": [],
            "_model_module": "@jupyter-widgets/controls",
            "_model_module_version": "1.5.0",
            "_model_name": "FloatSliderModel",
            "_view_count": null,
            "_view_module": "@jupyter-widgets/controls",
            "_view_module_version": "1.5.0",
            "_view_name": "FloatSliderView",
            "continuous_update": false,
            "description": "alpha (deg)",
            "description_tooltip": null,
            "disabled": false,
            "layout": "IPY_MODEL_ea85bb6d3ce74e039cf93440f3e5463c",
            "max": 180,
            "min": -180,
            "orientation": "horizontal",
            "readout": true,
            "readout_format": ".0f",
            "step": 1,
            "style": "IPY_MODEL_a6fa64ebca3d4baf8eb974fe9f8c7485",
            "value": 0
          }
        },
        "c8c19b6d5f954d10af3e57fc9aa26801": {
          "model_module": "@jupyter-widgets/controls",
          "model_name": "FloatSliderModel",
          "model_module_version": "1.5.0",
          "state": {
            "_dom_classes": [],
            "_model_module": "@jupyter-widgets/controls",
            "_model_module_version": "1.5.0",
            "_model_name": "FloatSliderModel",
            "_view_count": null,
            "_view_module": "@jupyter-widgets/controls",
            "_view_module_version": "1.5.0",
            "_view_name": "FloatSliderView",
            "continuous_update": false,
            "description": "beta (deg)",
            "description_tooltip": null,
            "disabled": false,
            "layout": "IPY_MODEL_a3f87327b49046a48878eadfbfab6fbc",
            "max": 180,
            "min": 0,
            "orientation": "horizontal",
            "readout": true,
            "readout_format": ".0f",
            "step": 1,
            "style": "IPY_MODEL_64efb0b37809470fac44ec2aee4aa45b",
            "value": 0
          }
        },
        "8512284d5b454b0f9e38a8f49dee557d": {
          "model_module": "@jupyter-widgets/controls",
          "model_name": "FloatSliderModel",
          "model_module_version": "1.5.0",
          "state": {
            "_dom_classes": [],
            "_model_module": "@jupyter-widgets/controls",
            "_model_module_version": "1.5.0",
            "_model_name": "FloatSliderModel",
            "_view_count": null,
            "_view_module": "@jupyter-widgets/controls",
            "_view_module_version": "1.5.0",
            "_view_name": "FloatSliderView",
            "continuous_update": false,
            "description": "phi (deg)",
            "description_tooltip": null,
            "disabled": false,
            "layout": "IPY_MODEL_315c57ade1244e8ab8e298679349251f",
            "max": 180,
            "min": -180,
            "orientation": "horizontal",
            "readout": true,
            "readout_format": ".0f",
            "step": 1,
            "style": "IPY_MODEL_b12879fe06f24f6a879606a1a98336f1",
            "value": 0
          }
        },
        "4e0bd24156be4551a834de2ed9defb39": {
          "model_module": "@jupyter-widgets/base",
          "model_name": "LayoutModel",
          "model_module_version": "1.2.0",
          "state": {
            "_model_module": "@jupyter-widgets/base",
            "_model_module_version": "1.2.0",
            "_model_name": "LayoutModel",
            "_view_count": null,
            "_view_module": "@jupyter-widgets/base",
            "_view_module_version": "1.2.0",
            "_view_name": "LayoutView",
            "align_content": null,
            "align_items": null,
            "align_self": null,
            "border": null,
            "bottom": null,
            "display": null,
            "flex": null,
            "flex_flow": null,
            "grid_area": null,
            "grid_auto_columns": null,
            "grid_auto_flow": null,
            "grid_auto_rows": null,
            "grid_column": null,
            "grid_gap": null,
            "grid_row": null,
            "grid_template_areas": null,
            "grid_template_columns": null,
            "grid_template_rows": null,
            "height": null,
            "justify_content": null,
            "justify_items": null,
            "left": null,
            "margin": null,
            "max_height": null,
            "max_width": null,
            "min_height": null,
            "min_width": null,
            "object_fit": null,
            "object_position": null,
            "order": null,
            "overflow": null,
            "overflow_x": null,
            "overflow_y": null,
            "padding": null,
            "right": null,
            "top": null,
            "visibility": null,
            "width": null
          }
        },
        "d3dd0bc7d64c470a8419b7a36af271f8": {
          "model_module": "@jupyter-widgets/output",
          "model_name": "OutputModel",
          "model_module_version": "1.0.0",
          "state": {
            "_dom_classes": [],
            "_model_module": "@jupyter-widgets/output",
            "_model_module_version": "1.0.0",
            "_model_name": "OutputModel",
            "_view_count": null,
            "_view_module": "@jupyter-widgets/output",
            "_view_module_version": "1.0.0",
            "_view_name": "OutputView",
            "layout": "IPY_MODEL_61c142eefc7a468798529b9a6ec03a24",
            "msg_id": "",
            "outputs": [
              {
                "output_type": "display_data",
                "data": {
                  "text/plain": "<Figure size 1200x800 with 2 Axes>",
                  "image/png": "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\n"
                },
                "metadata": {}
              }
            ]
          }
        },
        "7cd60eadcbb14d83905dd3cf287d9231": {
          "model_module": "@jupyter-widgets/controls",
          "model_name": "FloatSliderModel",
          "model_module_version": "1.5.0",
          "state": {
            "_dom_classes": [],
            "_model_module": "@jupyter-widgets/controls",
            "_model_module_version": "1.5.0",
            "_model_name": "FloatSliderModel",
            "_view_count": null,
            "_view_module": "@jupyter-widgets/controls",
            "_view_module_version": "1.5.0",
            "_view_name": "FloatSliderView",
            "continuous_update": false,
            "description": "azim (deg)",
            "description_tooltip": null,
            "disabled": false,
            "layout": "IPY_MODEL_1770e856a2514c75b573cdc6eee771d0",
            "max": 180,
            "min": -180,
            "orientation": "horizontal",
            "readout": true,
            "readout_format": ".0f",
            "step": 1,
            "style": "IPY_MODEL_dce9ebae59634e6f850954a22e704942",
            "value": -90
          }
        },
        "0504da6f7d5a4ab6a792baab83b4f6c0": {
          "model_module": "@jupyter-widgets/base",
          "model_name": "LayoutModel",
          "model_module_version": "1.2.0",
          "state": {
            "_model_module": "@jupyter-widgets/base",
            "_model_module_version": "1.2.0",
            "_model_name": "LayoutModel",
            "_view_count": null,
            "_view_module": "@jupyter-widgets/base",
            "_view_module_version": "1.2.0",
            "_view_name": "LayoutView",
            "align_content": null,
            "align_items": null,
            "align_self": null,
            "border": null,
            "bottom": null,
            "display": null,
            "flex": null,
            "flex_flow": null,
            "grid_area": null,
            "grid_auto_columns": null,
            "grid_auto_flow": null,
            "grid_auto_rows": null,
            "grid_column": null,
            "grid_gap": null,
            "grid_row": null,
            "grid_template_areas": null,
            "grid_template_columns": null,
            "grid_template_rows": null,
            "height": null,
            "justify_content": null,
            "justify_items": null,
            "left": null,
            "margin": null,
            "max_height": null,
            "max_width": null,
            "min_height": null,
            "min_width": null,
            "object_fit": null,
            "object_position": null,
            "order": null,
            "overflow": null,
            "overflow_x": null,
            "overflow_y": null,
            "padding": null,
            "right": null,
            "top": null,
            "visibility": null,
            "width": null
          }
        },
        "1e53b631eff340b69461052e456f1caf": {
          "model_module": "@jupyter-widgets/base",
          "model_name": "LayoutModel",
          "model_module_version": "1.2.0",
          "state": {
            "_model_module": "@jupyter-widgets/base",
            "_model_module_version": "1.2.0",
            "_model_name": "LayoutModel",
            "_view_count": null,
            "_view_module": "@jupyter-widgets/base",
            "_view_module_version": "1.2.0",
            "_view_name": "LayoutView",
            "align_content": null,
            "align_items": null,
            "align_self": null,
            "border": null,
            "bottom": null,
            "display": null,
            "flex": null,
            "flex_flow": null,
            "grid_area": null,
            "grid_auto_columns": null,
            "grid_auto_flow": null,
            "grid_auto_rows": null,
            "grid_column": null,
            "grid_gap": null,
            "grid_row": null,
            "grid_template_areas": null,
            "grid_template_columns": null,
            "grid_template_rows": null,
            "height": "350px",
            "justify_content": null,
            "justify_items": null,
            "left": null,
            "margin": null,
            "max_height": null,
            "max_width": null,
            "min_height": null,
            "min_width": null,
            "object_fit": null,
            "object_position": null,
            "order": null,
            "overflow": null,
            "overflow_x": null,
            "overflow_y": null,
            "padding": null,
            "right": null,
            "top": null,
            "visibility": null,
            "width": null
          }
        },
        "a72e67f3db204a508a322665be047075": {
          "model_module": "@jupyter-widgets/controls",
          "model_name": "SliderStyleModel",
          "model_module_version": "1.5.0",
          "state": {
            "_model_module": "@jupyter-widgets/controls",
            "_model_module_version": "1.5.0",
            "_model_name": "SliderStyleModel",
            "_view_count": null,
            "_view_module": "@jupyter-widgets/base",
            "_view_module_version": "1.2.0",
            "_view_name": "StyleView",
            "description_width": "",
            "handle_color": null
          }
        },
        "8d1bfbb1c93b4ae2ac52f7d4c80df43d": {
          "model_module": "@jupyter-widgets/base",
          "model_name": "LayoutModel",
          "model_module_version": "1.2.0",
          "state": {
            "_model_module": "@jupyter-widgets/base",
            "_model_module_version": "1.2.0",
            "_model_name": "LayoutModel",
            "_view_count": null,
            "_view_module": "@jupyter-widgets/base",
            "_view_module_version": "1.2.0",
            "_view_name": "LayoutView",
            "align_content": null,
            "align_items": null,
            "align_self": null,
            "border": null,
            "bottom": null,
            "display": null,
            "flex": null,
            "flex_flow": null,
            "grid_area": null,
            "grid_auto_columns": null,
            "grid_auto_flow": null,
            "grid_auto_rows": null,
            "grid_column": null,
            "grid_gap": null,
            "grid_row": null,
            "grid_template_areas": null,
            "grid_template_columns": null,
            "grid_template_rows": null,
            "height": null,
            "justify_content": null,
            "justify_items": null,
            "left": null,
            "margin": null,
            "max_height": null,
            "max_width": null,
            "min_height": null,
            "min_width": null,
            "object_fit": null,
            "object_position": null,
            "order": null,
            "overflow": null,
            "overflow_x": null,
            "overflow_y": null,
            "padding": null,
            "right": null,
            "top": null,
            "visibility": null,
            "width": null
          }
        },
        "d42326ceece5498397f36ac4ad7e6db2": {
          "model_module": "@jupyter-widgets/controls",
          "model_name": "SliderStyleModel",
          "model_module_version": "1.5.0",
          "state": {
            "_model_module": "@jupyter-widgets/controls",
            "_model_module_version": "1.5.0",
            "_model_name": "SliderStyleModel",
            "_view_count": null,
            "_view_module": "@jupyter-widgets/base",
            "_view_module_version": "1.2.0",
            "_view_name": "StyleView",
            "description_width": "",
            "handle_color": null
          }
        },
        "7519d3b3d4f84e089b6fa68decf0f43d": {
          "model_module": "@jupyter-widgets/base",
          "model_name": "LayoutModel",
          "model_module_version": "1.2.0",
          "state": {
            "_model_module": "@jupyter-widgets/base",
            "_model_module_version": "1.2.0",
            "_model_name": "LayoutModel",
            "_view_count": null,
            "_view_module": "@jupyter-widgets/base",
            "_view_module_version": "1.2.0",
            "_view_name": "LayoutView",
            "align_content": null,
            "align_items": null,
            "align_self": null,
            "border": null,
            "bottom": null,
            "display": null,
            "flex": null,
            "flex_flow": null,
            "grid_area": null,
            "grid_auto_columns": null,
            "grid_auto_flow": null,
            "grid_auto_rows": null,
            "grid_column": null,
            "grid_gap": null,
            "grid_row": null,
            "grid_template_areas": null,
            "grid_template_columns": null,
            "grid_template_rows": null,
            "height": null,
            "justify_content": null,
            "justify_items": null,
            "left": null,
            "margin": null,
            "max_height": null,
            "max_width": null,
            "min_height": null,
            "min_width": null,
            "object_fit": null,
            "object_position": null,
            "order": null,
            "overflow": null,
            "overflow_x": null,
            "overflow_y": null,
            "padding": null,
            "right": null,
            "top": null,
            "visibility": null,
            "width": null
          }
        },
        "85f7455b96614937a45824386ed1d10b": {
          "model_module": "@jupyter-widgets/controls",
          "model_name": "SliderStyleModel",
          "model_module_version": "1.5.0",
          "state": {
            "_model_module": "@jupyter-widgets/controls",
            "_model_module_version": "1.5.0",
            "_model_name": "SliderStyleModel",
            "_view_count": null,
            "_view_module": "@jupyter-widgets/base",
            "_view_module_version": "1.2.0",
            "_view_name": "StyleView",
            "description_width": "",
            "handle_color": null
          }
        },
        "f8b6b50c15eb42569be553535eb80018": {
          "model_module": "@jupyter-widgets/base",
          "model_name": "LayoutModel",
          "model_module_version": "1.2.0",
          "state": {
            "_model_module": "@jupyter-widgets/base",
            "_model_module_version": "1.2.0",
            "_model_name": "LayoutModel",
            "_view_count": null,
            "_view_module": "@jupyter-widgets/base",
            "_view_module_version": "1.2.0",
            "_view_name": "LayoutView",
            "align_content": null,
            "align_items": null,
            "align_self": null,
            "border": null,
            "bottom": null,
            "display": null,
            "flex": null,
            "flex_flow": null,
            "grid_area": null,
            "grid_auto_columns": null,
            "grid_auto_flow": null,
            "grid_auto_rows": null,
            "grid_column": null,
            "grid_gap": null,
            "grid_row": null,
            "grid_template_areas": null,
            "grid_template_columns": null,
            "grid_template_rows": null,
            "height": null,
            "justify_content": null,
            "justify_items": null,
            "left": null,
            "margin": null,
            "max_height": null,
            "max_width": null,
            "min_height": null,
            "min_width": null,
            "object_fit": null,
            "object_position": null,
            "order": null,
            "overflow": null,
            "overflow_x": null,
            "overflow_y": null,
            "padding": null,
            "right": null,
            "top": null,
            "visibility": null,
            "width": null
          }
        },
        "e86dc434499c4163afa682a639e340d8": {
          "model_module": "@jupyter-widgets/controls",
          "model_name": "SliderStyleModel",
          "model_module_version": "1.5.0",
          "state": {
            "_model_module": "@jupyter-widgets/controls",
            "_model_module_version": "1.5.0",
            "_model_name": "SliderStyleModel",
            "_view_count": null,
            "_view_module": "@jupyter-widgets/base",
            "_view_module_version": "1.2.0",
            "_view_name": "StyleView",
            "description_width": "",
            "handle_color": null
          }
        },
        "ea85bb6d3ce74e039cf93440f3e5463c": {
          "model_module": "@jupyter-widgets/base",
          "model_name": "LayoutModel",
          "model_module_version": "1.2.0",
          "state": {
            "_model_module": "@jupyter-widgets/base",
            "_model_module_version": "1.2.0",
            "_model_name": "LayoutModel",
            "_view_count": null,
            "_view_module": "@jupyter-widgets/base",
            "_view_module_version": "1.2.0",
            "_view_name": "LayoutView",
            "align_content": null,
            "align_items": null,
            "align_self": null,
            "border": null,
            "bottom": null,
            "display": null,
            "flex": null,
            "flex_flow": null,
            "grid_area": null,
            "grid_auto_columns": null,
            "grid_auto_flow": null,
            "grid_auto_rows": null,
            "grid_column": null,
            "grid_gap": null,
            "grid_row": null,
            "grid_template_areas": null,
            "grid_template_columns": null,
            "grid_template_rows": null,
            "height": null,
            "justify_content": null,
            "justify_items": null,
            "left": null,
            "margin": null,
            "max_height": null,
            "max_width": null,
            "min_height": null,
            "min_width": null,
            "object_fit": null,
            "object_position": null,
            "order": null,
            "overflow": null,
            "overflow_x": null,
            "overflow_y": null,
            "padding": null,
            "right": null,
            "top": null,
            "visibility": null,
            "width": null
          }
        },
        "a6fa64ebca3d4baf8eb974fe9f8c7485": {
          "model_module": "@jupyter-widgets/controls",
          "model_name": "SliderStyleModel",
          "model_module_version": "1.5.0",
          "state": {
            "_model_module": "@jupyter-widgets/controls",
            "_model_module_version": "1.5.0",
            "_model_name": "SliderStyleModel",
            "_view_count": null,
            "_view_module": "@jupyter-widgets/base",
            "_view_module_version": "1.2.0",
            "_view_name": "StyleView",
            "description_width": "",
            "handle_color": null
          }
        },
        "a3f87327b49046a48878eadfbfab6fbc": {
          "model_module": "@jupyter-widgets/base",
          "model_name": "LayoutModel",
          "model_module_version": "1.2.0",
          "state": {
            "_model_module": "@jupyter-widgets/base",
            "_model_module_version": "1.2.0",
            "_model_name": "LayoutModel",
            "_view_count": null,
            "_view_module": "@jupyter-widgets/base",
            "_view_module_version": "1.2.0",
            "_view_name": "LayoutView",
            "align_content": null,
            "align_items": null,
            "align_self": null,
            "border": null,
            "bottom": null,
            "display": null,
            "flex": null,
            "flex_flow": null,
            "grid_area": null,
            "grid_auto_columns": null,
            "grid_auto_flow": null,
            "grid_auto_rows": null,
            "grid_column": null,
            "grid_gap": null,
            "grid_row": null,
            "grid_template_areas": null,
            "grid_template_columns": null,
            "grid_template_rows": null,
            "height": null,
            "justify_content": null,
            "justify_items": null,
            "left": null,
            "margin": null,
            "max_height": null,
            "max_width": null,
            "min_height": null,
            "min_width": null,
            "object_fit": null,
            "object_position": null,
            "order": null,
            "overflow": null,
            "overflow_x": null,
            "overflow_y": null,
            "padding": null,
            "right": null,
            "top": null,
            "visibility": null,
            "width": null
          }
        },
        "64efb0b37809470fac44ec2aee4aa45b": {
          "model_module": "@jupyter-widgets/controls",
          "model_name": "SliderStyleModel",
          "model_module_version": "1.5.0",
          "state": {
            "_model_module": "@jupyter-widgets/controls",
            "_model_module_version": "1.5.0",
            "_model_name": "SliderStyleModel",
            "_view_count": null,
            "_view_module": "@jupyter-widgets/base",
            "_view_module_version": "1.2.0",
            "_view_name": "StyleView",
            "description_width": "",
            "handle_color": null
          }
        },
        "315c57ade1244e8ab8e298679349251f": {
          "model_module": "@jupyter-widgets/base",
          "model_name": "LayoutModel",
          "model_module_version": "1.2.0",
          "state": {
            "_model_module": "@jupyter-widgets/base",
            "_model_module_version": "1.2.0",
            "_model_name": "LayoutModel",
            "_view_count": null,
            "_view_module": "@jupyter-widgets/base",
            "_view_module_version": "1.2.0",
            "_view_name": "LayoutView",
            "align_content": null,
            "align_items": null,
            "align_self": null,
            "border": null,
            "bottom": null,
            "display": null,
            "flex": null,
            "flex_flow": null,
            "grid_area": null,
            "grid_auto_columns": null,
            "grid_auto_flow": null,
            "grid_auto_rows": null,
            "grid_column": null,
            "grid_gap": null,
            "grid_row": null,
            "grid_template_areas": null,
            "grid_template_columns": null,
            "grid_template_rows": null,
            "height": null,
            "justify_content": null,
            "justify_items": null,
            "left": null,
            "margin": null,
            "max_height": null,
            "max_width": null,
            "min_height": null,
            "min_width": null,
            "object_fit": null,
            "object_position": null,
            "order": null,
            "overflow": null,
            "overflow_x": null,
            "overflow_y": null,
            "padding": null,
            "right": null,
            "top": null,
            "visibility": null,
            "width": null
          }
        },
        "b12879fe06f24f6a879606a1a98336f1": {
          "model_module": "@jupyter-widgets/controls",
          "model_name": "SliderStyleModel",
          "model_module_version": "1.5.0",
          "state": {
            "_model_module": "@jupyter-widgets/controls",
            "_model_module_version": "1.5.0",
            "_model_name": "SliderStyleModel",
            "_view_count": null,
            "_view_module": "@jupyter-widgets/base",
            "_view_module_version": "1.2.0",
            "_view_name": "StyleView",
            "description_width": "",
            "handle_color": null
          }
        },
        "1770e856a2514c75b573cdc6eee771d0": {
          "model_module": "@jupyter-widgets/base",
          "model_name": "LayoutModel",
          "model_module_version": "1.2.0",
          "state": {
            "_model_module": "@jupyter-widgets/base",
            "_model_module_version": "1.2.0",
            "_model_name": "LayoutModel",
            "_view_count": null,
            "_view_module": "@jupyter-widgets/base",
            "_view_module_version": "1.2.0",
            "_view_name": "LayoutView",
            "align_content": null,
            "align_items": null,
            "align_self": null,
            "border": null,
            "bottom": null,
            "display": null,
            "flex": null,
            "flex_flow": null,
            "grid_area": null,
            "grid_auto_columns": null,
            "grid_auto_flow": null,
            "grid_auto_rows": null,
            "grid_column": null,
            "grid_gap": null,
            "grid_row": null,
            "grid_template_areas": null,
            "grid_template_columns": null,
            "grid_template_rows": null,
            "height": null,
            "justify_content": null,
            "justify_items": null,
            "left": null,
            "margin": null,
            "max_height": null,
            "max_width": null,
            "min_height": null,
            "min_width": null,
            "object_fit": null,
            "object_position": null,
            "order": null,
            "overflow": null,
            "overflow_x": null,
            "overflow_y": null,
            "padding": null,
            "right": null,
            "top": null,
            "visibility": null,
            "width": "500px"
          }
        },
        "dce9ebae59634e6f850954a22e704942": {
          "model_module": "@jupyter-widgets/controls",
          "model_name": "SliderStyleModel",
          "model_module_version": "1.5.0",
          "state": {
            "_model_module": "@jupyter-widgets/controls",
            "_model_module_version": "1.5.0",
            "_model_name": "SliderStyleModel",
            "_view_count": null,
            "_view_module": "@jupyter-widgets/base",
            "_view_module_version": "1.2.0",
            "_view_name": "StyleView",
            "description_width": "",
            "handle_color": null
          }
        },
        "61c142eefc7a468798529b9a6ec03a24": {
          "model_module": "@jupyter-widgets/base",
          "model_name": "LayoutModel",
          "model_module_version": "1.2.0",
          "state": {
            "_model_module": "@jupyter-widgets/base",
            "_model_module_version": "1.2.0",
            "_model_name": "LayoutModel",
            "_view_count": null,
            "_view_module": "@jupyter-widgets/base",
            "_view_module_version": "1.2.0",
            "_view_name": "LayoutView",
            "align_content": null,
            "align_items": null,
            "align_self": null,
            "border": null,
            "bottom": null,
            "display": null,
            "flex": null,
            "flex_flow": null,
            "grid_area": null,
            "grid_auto_columns": null,
            "grid_auto_flow": null,
            "grid_auto_rows": null,
            "grid_column": null,
            "grid_gap": null,
            "grid_row": null,
            "grid_template_areas": null,
            "grid_template_columns": null,
            "grid_template_rows": null,
            "height": null,
            "justify_content": null,
            "justify_items": null,
            "left": null,
            "margin": null,
            "max_height": null,
            "max_width": null,
            "min_height": null,
            "min_width": null,
            "object_fit": null,
            "object_position": null,
            "order": null,
            "overflow": null,
            "overflow_x": null,
            "overflow_y": null,
            "padding": null,
            "right": null,
            "top": null,
            "visibility": null,
            "width": null
          }
        }
      }
    }
  },
  "nbformat": 4,
  "nbformat_minor": 0
}