{
 "cells": [
  {
   "cell_type": "markdown",
   "metadata": {},
   "source": [
    "# LAC Segregation"
   ]
  },
  {
   "cell_type": "code",
   "execution_count": null,
   "metadata": {},
   "outputs": [],
   "source": [
    "from act.cell_model import ACTCellModel\n",
    "from act.simulator import ACTSimulator\n",
    "from act.segregation import ACTSegregator\n",
    "from act.act_types import SimulationParameters, CurrentInjection, PassiveProperties\n",
    "\n",
    "import matplotlib.pyplot as plt\n",
    "import numpy as np"
   ]
  },
  {
   "cell_type": "markdown",
   "metadata": {},
   "source": [
    "### LAC\n",
    "\n",
    "Parameters (both original and segregated):\n",
    "- Cm = 1\n",
    "- gl = .0003 (S/cm2)\n",
    "- el = -54.3 (mV)\n",
    "\n",
    "Modules:\n",
    "- Spiking: [gnabar, gkbar], (-77.017; +inf)\n",
    "- Bursting/Adapting: []"
   ]
  },
  {
   "cell_type": "code",
   "execution_count": null,
   "metadata": {},
   "outputs": [],
   "source": [
    "# From ACT/data/Spiker/orig/modfiles/hh.mod\n",
    "def vtrap(x,y):\n",
    "    if np.any(np.abs(x/y) < 1e-6):\n",
    "        vtrap = y * (1 - x/y/2)\n",
    "    else:\n",
    "        vtrap = x / (np.exp(x/y) - 1)\n",
    "    return vtrap\n",
    "\n",
    "def Na(v):\n",
    "    aNa = 0.1 * vtrap(-(v + 40), 10)\n",
    "    bNa =  4 * np.exp(-(v + 65) / 18)\n",
    "    return aNa / (aNa + bNa)\n",
    "\n",
    "def Kdr(v):\n",
    "    aK = 0.01 * vtrap(-(v + 55),10) \n",
    "    bK = 0.125 * np.exp(-(v + 65) / 80)\n",
    "    return aK / (aK + bK)\n",
    "\n",
    "v = np.linspace(-150, 80, 1000)\n",
    "\n",
    "plt.plot(v, Na(v), label = 'Na')\n",
    "plt.plot(v, Kdr(v), label = 'Kdr')\n",
    "plt.title(\"Original activation curves\")\n",
    "plt.axvline(-54.3, color = 'black', ls = '--', label = \"E-leak\")\n",
    "plt.axhline(0.16, color = 'salmon', ls = '--')\n",
    "plt.legend()"
   ]
  },
  {
   "cell_type": "code",
   "execution_count": null,
   "metadata": {},
   "outputs": [],
   "source": [
    "segregator = ACTSegregator()\n",
    "seg_Na, seg_Kdr = segregator.segregate(v, [Na(v), Kdr(v)])"
   ]
  },
  {
   "cell_type": "code",
   "execution_count": null,
   "metadata": {},
   "outputs": [],
   "source": [
    "segregated_bursting = segregator.segregate(v, [KA(v), CaT(v), CaS(v)])"
   ]
  },
  {
   "cell_type": "code",
   "execution_count": null,
   "metadata": {},
   "outputs": [],
   "source": [
    "plt.plot(v, seg_Na, label = 'Na')\n",
    "plt.plot(v, seg_Kdr, label = 'Kdr')\n",
    "plt.title(\"Segregated activation curves\")\n",
    "plt.axvline(-54.3, color = 'black', ls = '--', label = \"E-leak\")\n",
    "plt.axhline(0.16, color = 'salmon', ls = '--')\n",
    "plt.legend()"
   ]
  }
 ],
 "metadata": {
  "kernelspec": {
   "display_name": "act-venv",
   "language": "python",
   "name": "python3"
  },
  "language_info": {
   "name": "python",
   "version": "3.9.20"
  }
 },
 "nbformat": 4,
 "nbformat_minor": 2
}
