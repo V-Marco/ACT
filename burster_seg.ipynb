{
 "cells": [
  {
   "cell_type": "markdown",
   "metadata": {},
   "source": [
    "# Burster Izhikevich - Segregated Pipeline"
   ]
  },
  {
   "cell_type": "code",
   "execution_count": 1,
   "metadata": {},
   "outputs": [
    {
     "name": "stderr",
     "output_type": "stream",
     "text": [
      "/home/mwsrgf/act-venv/lib64/python3.9/site-packages/torch/__init__.py:955: UserWarning: torch.set_default_tensor_type() is deprecated as of PyTorch 2.1, please use torch.set_default_dtype() and torch.set_default_device() as alternatives. (Triggered internally at ../torch/csrc/tensor/python_tensor.cpp:432.)\n",
      "  _C._set_default_tensor_type(t)\n",
      "Warning: no DISPLAY environment variable.\n",
      "--No graphics will be displayed.\n"
     ]
    }
   ],
   "source": [
    "from act.SyntheticGenerator import SyntheticGenerator\n",
    "from act.act_types import SimParams, OptimizationParameters\n",
    "from act.cell_model import TargetCell, ModuleParameters\n",
    "\n",
    "random_seed = 43\n",
    "num_slices = 4\n",
    "experiment_folder = f\"output/bursterIzh_seg_filtered_sl-{num_slices}/{random_seed}\"\n",
    "target_folder = experiment_folder + \"/target\"\n",
    "\n",
    "# module 1 is for spiking, module 2 for bursting, final for refining all channels\n",
    "module_1_folder = experiment_folder + \"/module_1\"\n",
    "module_2_folder = experiment_folder + \"/module_2\"\n",
    "module_final_folder = experiment_folder + \"/module_final\"\n",
    "\n",
    "target_cell = TargetCell(\n",
    "    hoc_file=\"/home/mwsrgf/proj/ACT/data/Burster_Izhikevich/seg/template.hoc\",\n",
    "    mod_folder=\"/home/mwsrgf/proj/ACT/data/Burster_Izhikevich/seg\",\n",
    "    cell_name=\"Burster_Izh\",\n",
    "    g_names = [\"gbar_na3\", \"gkdrbar_kdr\",\"gbar_nap\",\"gmbar_im\", \"glbar_leak\"]\n",
    ")\n",
    "\n",
    "sim_par= SimParams(\n",
    "            h_v_init=-67.0,  # Consistent with nrngui settings\n",
    "            h_tstop=500,     # Simulation time in ms\n",
    "            h_dt=0.1,      # Time step in ms\n",
    "            h_celsius=6.3,   # Temperature in degrees Celsius\n",
    "            CI_type=\"constant\",\n",
    "            CI_amps=[0.1,0.2,0.3],   # Current injection amplitude\n",
    "            CI_dur=300,      # Duration of current injection\n",
    "            CI_delay=100,     # Delay before current injection\n",
    "            set_g_to=[]\n",
    "        )"
   ]
  },
  {
   "cell_type": "markdown",
   "metadata": {},
   "source": [
    "# Generate Synthetic Data"
   ]
  },
  {
   "cell_type": "code",
   "execution_count": 2,
   "metadata": {},
   "outputs": [
    {
     "name": "stdout",
     "output_type": "stream",
     "text": [
      "Blocking: []\n",
      "Total number of jobs: 3\n",
      "Total number of proccessors: 192\n",
      "/home/mwsrgf/proj/ACT/output/bursterIzh_seg_filtered_sl-4/43/target/synthetic_0.1_0.2_0.3_\n"
     ]
    }
   ],
   "source": [
    "sg = SyntheticGenerator(\n",
    "    ModuleParameters(\n",
    "        module_folder_name=target_folder,\n",
    "        cell= target_cell,\n",
    "        sim_params= sim_par,\n",
    "        optim_params = OptimizationParameters(\n",
    "            blocked_channels= []\n",
    "        )\n",
    "    )\n",
    ")\n",
    "\n",
    "sg.generate_synthetic_target_data(\"target_data.csv\")"
   ]
  },
  {
   "cell_type": "code",
   "execution_count": 3,
   "metadata": {},
   "outputs": [],
   "source": [
    "#import matplotlib.pyplot as plt\n",
    "#import numpy as np\n",
    "\n",
    "#data = np.load(\"/home/mwsrgf/proj/ACT/output/bursterIzh_seg_filtered_sl-10/42/module_1/train/combined_out.npy\")\n",
    "\n",
    "#Volt = data[:,:,0]\n",
    "\n",
    "#plt.plot(Volt[1,:])"
   ]
  },
  {
   "cell_type": "code",
   "execution_count": 4,
   "metadata": {},
   "outputs": [
    {
     "name": "stdout",
     "output_type": "stream",
     "text": [
      "Blocking: []\n",
      "Total number of jobs: 1\n",
      "Total number of proccessors: 192\n",
      "MECHANISMS already loaded.\n",
      "/home/mwsrgf/proj/ACT/output/bursterIzh_seg_filtered_sl-4/43/target/synthetic_-1_\n"
     ]
    }
   ],
   "source": [
    "passive_sim_par = SimParams(\n",
    "            h_v_init = -67,\n",
    "            h_tstop = 1500,\n",
    "            h_dt = 0.001,\n",
    "            h_celsius = 6.3,\n",
    "            CI_type = \"constant\",\n",
    "            CI_amps = [-1],    ##################### NEGATIVE CURRENT INJECTION ###################\n",
    "            CI_dur = 1000,\n",
    "            CI_delay = 500,\n",
    "            set_g_to=[]\n",
    "        )\n",
    "\n",
    "sg_passive = SyntheticGenerator(\n",
    "    ModuleParameters(\n",
    "        module_folder_name=target_folder,\n",
    "        cell= target_cell,\n",
    "        sim_params= passive_sim_par,\n",
    "        optim_params = OptimizationParameters(\n",
    "            blocked_channels= []\n",
    "        )\n",
    "    )\n",
    ")\n",
    "\n",
    "sg_passive.generate_synthetic_target_data(\"passive_data.csv\")"
   ]
  },
  {
   "cell_type": "markdown",
   "metadata": {},
   "source": [
    "# Get Passive Properties"
   ]
  },
  {
   "cell_type": "code",
   "execution_count": 5,
   "metadata": {},
   "outputs": [],
   "source": [
    "from act.PassivePropertiesModule import PassivePropertiesModule\n",
    "from act.act_types import SimParams\n",
    "from act.cell_model import TrainCell\n",
    "\n",
    "train_cell = TrainCell(\n",
    "    hoc_file=\"/home/mwsrgf/proj/ACT/data/Burster_Izhikevich/seg/template.hoc\",\n",
    "    mod_folder=\"/home/mwsrgf/proj/ACT/data/Burster_Izhikevich/seg\",\n",
    "    cell_name=\"Burster_Izh\",\n",
    "    g_names = [\"gbar_na3\", \"gkdrbar_kdr\",\"gbar_nap\",\"gmbar_im\", \"glbar_leak\"]\n",
    ")\n",
    "\n",
    "passive_mod = PassivePropertiesModule(\n",
    "    train_cell=train_cell,\n",
    "    sim_params=passive_sim_par,\n",
    "    trace_filepath=f\"{target_folder}/passive_data.csv\",\n",
    "    leak_conductance_variable=\"glbar_leak\",\n",
    "    leak_reversal_variable=\"el_leak\"\n",
    ")"
   ]
  },
  {
   "cell_type": "code",
   "execution_count": 6,
   "metadata": {},
   "outputs": [
    {
     "name": "stdout",
     "output_type": "stream",
     "text": [
      "MECHANISMS already loaded.\n",
      "Found 1 section(s) in this cell. Calculating the total surface area of the cell.\n",
      "PassiveProperties(V_rest=-70.07262004640518, R_in=306.36820650467416, tau=69.423, Cm=2.499821798209222, g_bar_leak=3.60085533354828e-05, cell_area=9.064641486925113e-05, leak_conductance_variable='glbar_leak', leak_reversal_variable='el_leak')\n"
     ]
    }
   ],
   "source": [
    "passive_mod.set_passive_properties()\n",
    "print(train_cell.passive_properties)"
   ]
  },
  {
   "cell_type": "markdown",
   "metadata": {},
   "source": [
    "## Run Module 1 (Spiking)"
   ]
  },
  {
   "cell_type": "code",
   "execution_count": 7,
   "metadata": {},
   "outputs": [],
   "source": [
    "from act.ACTModule import ACTModule\n",
    "from act.act_types import OptimizationParameters, OptimizationParam\n",
    "from act.cell_model import ModuleParameters\n",
    "\n",
    "'''\n",
    "OptimizationParam(param=\"gbar_na3\", low=0.025, high=0.075, n_slices=num_slices),\n",
    "OptimizationParam(param=\"gkdrbar_kdr\", low=0.015, high=0.045, n_slices=num_slices),\n",
    "OptimizationParam(param=\"gbar_nap\", low=0.0002, high=0.0006, n_slices=num_slices),\n",
    "OptimizationParam(param=\"gmbar_im\", low=0.0019, high=0.0057, n_slices=num_slices),\n",
    "OptimizationParam(param=\"glbar_leak\", prediction=train_cell.passive_properties.g_bar_leak, bounds_variation=0.0, n_slices=1)\n",
    "'''\n",
    "\n",
    "# gmbar_im = 0.0038, gkdrbar_kdr= 0.03, gbar_nap= 0.0004, gbar_na3= 0.05, glbar_leak= 3.6e-5\n",
    "mod1 = ACTModule(\n",
    "    ModuleParameters(\n",
    "        module_folder_name=module_1_folder,\n",
    "        cell= train_cell,\n",
    "        target_traces_file = f\"{target_folder}/target_data.csv\",\n",
    "        sim_params= sim_par,\n",
    "        optim_params= OptimizationParameters(\n",
    "            g_ranges_slices= [\n",
    "                OptimizationParam(param=\"gbar_na3\", low=0.025, high=0.075, n_slices=num_slices),\n",
    "                OptimizationParam(param=\"gkdrbar_kdr\", low=0.015, high=0.045, n_slices=num_slices),\n",
    "                OptimizationParam(param=\"gbar_nap\", blocked=True),\n",
    "                OptimizationParam(param=\"gmbar_im\", blocked=True),\n",
    "                OptimizationParam(param=\"glbar_leak\", prediction=train_cell.passive_properties.g_bar_leak, bounds_variation=0.0, n_slices=1)\n",
    "            ],\n",
    "            filtered_out_features = [\"no_spikes\", \"saturated\"],\n",
    "            train_features=[\"i_trace_stats\", \"number_of_spikes\", \"spike_times\", \"spike_height_stats\", \"number_of_troughs\", \"trough_times\", \"trough_height_stats\"],\n",
    "            prediction_eval_method='fi_curve',\n",
    "            spike_threshold=0,\n",
    "            saturation_threshold=-55,\n",
    "            window_of_inspection=(120,400),\n",
    "            first_n_spikes=20,\n",
    "            random_state=random_seed,\n",
    "            save_file=f\"{module_1_folder}/results/saved_metrics.json\"\n",
    "        )\n",
    "    )\n",
    ")"
   ]
  },
  {
   "cell_type": "code",
   "execution_count": 8,
   "metadata": {},
   "outputs": [
    {
     "name": "stdout",
     "output_type": "stream",
     "text": [
      "RUNNING THE MODULE\n",
      "LOADING TARGET TRACES\n",
      "SIMULATING TRAINING DATA\n",
      "Total number of jobs: 48\n",
      "Total number of proccessors: 192\n",
      "MECHANISMS already loaded.\n",
      "/home/mwsrgf/proj/ACT/output/bursterIzh_seg_filtered_sl-4/43/module_1/train\n",
      "FILTERING DATA\n",
      "Dropping 0 traces where: All values in the window (1200:4000) are saturated (above -55 mV).\n",
      "Dropping 0 traces where: No spikes are in the voltage trace.\n",
      "Dataset size after filtering: 48. Saving to /home/mwsrgf/proj/ACT/output/bursterIzh_seg_filtered_sl-4/43/module_1/train/filtered_out.npy\n",
      "TRAINING RANDOM FOREST REGRESSOR\n",
      "Training Random Forest on Filtered Data\n",
      "Extracting features: ['I_mean', 'I_stdev', 'Num Spikes', 'Spike Time 1', 'Spike Time 2', 'Spike Time 3', 'Spike Time 4', 'Spike Time 5', 'Spike Time 6', 'Spike Time 7', 'Spike Time 8', 'Spike Time 9', 'Spike Time 10', 'Spike Time 11', 'Spike Time 12', 'Spike Time 13', 'Spike Time 14', 'Spike Time 15', 'Spike Time 16', 'Spike Time 17', 'Spike Time 18', 'Spike Time 19', 'Spike Time 20', 'Min Spike Height', 'Max Spike Height', 'Avg Spike Height', 'Std Spike Height', 'Num Troughs', 'Trough Time 1', 'Trough Time 2', 'Trough Time 3', 'Trough Time 4', 'Trough Time 5', 'Trough Time 6', 'Trough Time 7', 'Trough Time 8', 'Trough Time 9', 'Trough Time 10', 'Trough Time 11', 'Trough Time 12', 'Trough Time 13', 'Trough Time 14', 'Trough Time 15', 'Trough Time 16', 'Trough Time 17', 'Trough Time 18', 'Trough Time 19', 'Trough Time 20', 'Min Trough Height', 'Max Trough Height', 'Avg Trough Height', 'Std Trough Height']\n",
      "Evaluating random forest\n",
      "MAE: 0.001935 (0.000479)\n",
      "Saving rf mean/stdev scores to output/bursterIzh_seg_filtered_sl-4/43/module_1/results/saved_metrics.json\n",
      "Predicted Conductances for each current injection intensity: \n",
      "[[3.96666667e-02 1.97200000e-02 0.00000000e+00 0.00000000e+00\n",
      "  3.60085533e-05]\n",
      " [3.86333333e-02 1.94600000e-02 0.00000000e+00 0.00000000e+00\n",
      "  3.60085533e-05]\n",
      " [3.86000000e-02 1.99300000e-02 0.00000000e+00 0.00000000e+00\n",
      "  3.60085533e-05]]\n",
      "SIMULATING PREDICTIONS\n",
      "Total number of jobs: 9\n",
      "Total number of proccessors: 192\n",
      "MECHANISMS already loaded.\n",
      "/home/mwsrgf/proj/ACT/output/bursterIzh_seg_filtered_sl-4/43/module_1/prediction_eval0\n",
      "/home/mwsrgf/proj/ACT/output/bursterIzh_seg_filtered_sl-4/43/module_1/prediction_eval1\n",
      "/home/mwsrgf/proj/ACT/output/bursterIzh_seg_filtered_sl-4/43/module_1/prediction_eval2\n",
      "SELECTING BEST PREDICTION\n",
      "FI curve MAE for each prediction: \n",
      "[16.666666666666668, 16.666666666666668, 16.666666666666668]\n",
      "{'gbar_na3': 0.03966666666666647, 'gkdrbar_kdr': 0.019720000000000154, 'gbar_nap': 0.0, 'gmbar_im': 0.0, 'glbar_leak': 3.600855333548278e-05}\n",
      "Module runtime: 0:00:11.668849\n"
     ]
    }
   ],
   "source": [
    "predicted_g_data_file = mod1.run()"
   ]
  },
  {
   "cell_type": "code",
   "execution_count": 9,
   "metadata": {},
   "outputs": [
    {
     "name": "stdout",
     "output_type": "stream",
     "text": [
      "{'gbar_na3': 0.03966666666666647, 'gkdrbar_kdr': 0.019720000000000154, 'gbar_nap': 0.0, 'gmbar_im': 0.0, 'glbar_leak': 3.600855333548278e-05}\n"
     ]
    }
   ],
   "source": [
    "mod1.pickle_rf(mod1.rf_model,f\"{module_1_folder}/trained_rf.pkl\")\n",
    "print(train_cell.predicted_g)"
   ]
  },
  {
   "cell_type": "code",
   "execution_count": 10,
   "metadata": {},
   "outputs": [
    {
     "name": "stdout",
     "output_type": "stream",
     "text": [
      "hoc_file: /home/mwsrgf/proj/ACT/data/Burster_Izhikevich/seg/template.hoc\n",
      "mod_folder: /home/mwsrgf/proj/ACT/data/Burster_Izhikevich/seg\n",
      "cell_name: Burster_Izh\n",
      "passive_properties: PassiveProperties(V_rest=-70.07262004640518, R_in=306.36820650467416, tau=69.423, Cm=2.499821798209222, g_bar_leak=3.60085533354828e-05, cell_area=9.064641486925113e-05, leak_conductance_variable='glbar_leak', leak_reversal_variable='el_leak')\n",
      "cell_area: None\n",
      "CI: []\n",
      "g_names: ['gbar_na3', 'gkdrbar_kdr', 'gbar_nap', 'gmbar_im', 'glbar_leak']\n",
      "gleak_var: None\n",
      "g_bar_leak: None\n",
      "predicted_g: {'gbar_na3': 0.03966666666666647, 'gkdrbar_kdr': 0.019720000000000154, 'gbar_nap': 0.0, 'gmbar_im': 0.0, 'glbar_leak': 3.600855333548278e-05}\n"
     ]
    }
   ],
   "source": [
    "if hasattr(train_cell, '__dict__'):\n",
    "    # Print all keys and values\n",
    "    for key, value in train_cell.__dict__.items():\n",
    "        print(f\"{key}: {value}\")\n",
    "else:\n",
    "    print(\"This object does not have a __dict__ attribute.\")"
   ]
  },
  {
   "cell_type": "markdown",
   "metadata": {},
   "source": [
    "## Run Module 2 (Bursting)"
   ]
  },
  {
   "cell_type": "code",
   "execution_count": 11,
   "metadata": {},
   "outputs": [],
   "source": [
    "from act.ACTModule import ACTModule\n",
    "from act.act_types import OptimizationParameters, OptimizationParam\n",
    "from act.cell_model import ModuleParameters\n",
    "\n",
    "'''\n",
    "OptimizationParam(param=\"gbar_na3\", low=0.025, high=0.075, n_slices=num_slices), # Real: 0.05\n",
    "OptimizationParam(param=\"gkdrbar_kdr\", low=0.015, high=0.045, n_slices=num_slices), # Real: 0.03\n",
    "OptimizationParam(param=\"gbar_nap\", low=0.0002, high=0.0006, n_slices=num_slices),  # Real: 0.0004\n",
    "OptimizationParam(param=\"gmbar_im\", low=0.0019, high=0.0057, n_slices=num_slices),  # Real: 0.0038\n",
    "OptimizationParam(param=\"glbar_leak\", prediction=train_cell.passive_properties.g_bar_leak, bounds_variation=0.0, n_slices=1)\n",
    "'''\n",
    "# Allow all channels to vary by 20% their predicted value in the previous module\n",
    "bounds_variation = 0.2\n",
    "\n",
    "# gmbar_im = 0.0038, gkdrbar_kdr= 0.03, gbar_nap= 0.0004, gbar_na3= 0.05, glbar_leak= 3.6e-5\n",
    "mod2 = ACTModule(\n",
    "    ModuleParameters(\n",
    "        module_folder_name=module_2_folder,\n",
    "        cell= train_cell,\n",
    "        target_traces_file = f\"{target_folder}/target_data.csv\",\n",
    "        sim_params= sim_par,\n",
    "        optim_params= OptimizationParameters(\n",
    "            g_ranges_slices= [\n",
    "                OptimizationParam(param=\"gbar_na3\", prediction=train_cell.predicted_g[\"gbar_na3\"], bounds_variation=bounds_variation, n_slices=num_slices),\n",
    "                OptimizationParam(param=\"gkdrbar_kdr\", prediction=train_cell.predicted_g[\"gkdrbar_kdr\"], bounds_variation=bounds_variation, n_slices=num_slices),\n",
    "                OptimizationParam(param=\"gbar_nap\", low=0.0002, high=0.0006, n_slices=num_slices),\n",
    "                OptimizationParam(param=\"gmbar_im\", low=0.0019, high=0.0057, n_slices=num_slices),\n",
    "                OptimizationParam(param=\"glbar_leak\", prediction=train_cell.passive_properties.g_bar_leak, bounds_variation=0.0, n_slices=1)\n",
    "            ],\n",
    "            filtered_out_features = [\"no_spikes\", \"saturated\"],\n",
    "            train_features=[\"i_trace_stats\", \"number_of_spikes\", \"spike_times\", \"spike_height_stats\", \"number_of_troughs\", \"trough_times\", \"trough_height_stats\"],\n",
    "            prediction_eval_method='fi_curve',\n",
    "            spike_threshold=0,\n",
    "            saturation_threshold=-67,\n",
    "            first_n_spikes=20,\n",
    "            random_state=random_seed,\n",
    "            save_file=f\"{module_2_folder}/results/saved_metrics.json\"\n",
    "        )\n",
    "    )\n",
    ")"
   ]
  },
  {
   "cell_type": "code",
   "execution_count": 12,
   "metadata": {},
   "outputs": [
    {
     "name": "stdout",
     "output_type": "stream",
     "text": [
      "RUNNING THE MODULE\n",
      "LOADING TARGET TRACES\n",
      "SIMULATING TRAINING DATA\n",
      "Total number of jobs: 768\n",
      "Total number of proccessors: 192\n",
      "MECHANISMS already loaded.\n",
      "/home/mwsrgf/proj/ACT/output/bursterIzh_seg_filtered_sl-4/43/module_2/train\n",
      "FILTERING DATA\n",
      "Dropping 414 traces where: All values in the window (3100:4000) are saturated (above -67 mV).\n",
      "Dropping 0 traces where: No spikes are in the voltage trace.\n",
      "Dataset size after filtering: 354. Saving to /home/mwsrgf/proj/ACT/output/bursterIzh_seg_filtered_sl-4/43/module_2/train/filtered_out.npy\n",
      "TRAINING RANDOM FOREST REGRESSOR\n",
      "Training Random Forest on Filtered Data\n",
      "Extracting features: ['I_mean', 'I_stdev', 'Num Spikes', 'Spike Time 1', 'Spike Time 2', 'Spike Time 3', 'Spike Time 4', 'Spike Time 5', 'Spike Time 6', 'Spike Time 7', 'Spike Time 8', 'Spike Time 9', 'Spike Time 10', 'Spike Time 11', 'Spike Time 12', 'Spike Time 13', 'Spike Time 14', 'Spike Time 15', 'Spike Time 16', 'Spike Time 17', 'Spike Time 18', 'Spike Time 19', 'Spike Time 20', 'Min Spike Height', 'Max Spike Height', 'Avg Spike Height', 'Std Spike Height', 'Num Troughs', 'Trough Time 1', 'Trough Time 2', 'Trough Time 3', 'Trough Time 4', 'Trough Time 5', 'Trough Time 6', 'Trough Time 7', 'Trough Time 8', 'Trough Time 9', 'Trough Time 10', 'Trough Time 11', 'Trough Time 12', 'Trough Time 13', 'Trough Time 14', 'Trough Time 15', 'Trough Time 16', 'Trough Time 17', 'Trough Time 18', 'Trough Time 19', 'Trough Time 20', 'Min Trough Height', 'Max Trough Height', 'Avg Trough Height', 'Std Trough Height']\n",
      "Evaluating random forest\n",
      "MAE: 0.000707 (0.000087)\n",
      "Saving rf mean/stdev scores to output/bursterIzh_seg_filtered_sl-4/43/module_2/results/saved_metrics.json\n",
      "Predicted Conductances for each current injection intensity: \n",
      "[[4.54368444e-02 2.11450987e-02 3.38000000e-04 3.08180000e-03\n",
      "  3.60085533e-05]\n",
      " [4.74836444e-02 2.30908053e-02 4.29466667e-04 3.34780000e-03\n",
      "  3.60085533e-05]\n",
      " [4.74254667e-02 2.31854613e-02 4.14133333e-04 3.16033333e-03\n",
      "  3.60085533e-05]]\n",
      "SIMULATING PREDICTIONS\n",
      "Total number of jobs: 9\n",
      "Total number of proccessors: 192\n",
      "MECHANISMS already loaded.\n",
      "/home/mwsrgf/proj/ACT/output/bursterIzh_seg_filtered_sl-4/43/module_2/prediction_eval0\n",
      "/home/mwsrgf/proj/ACT/output/bursterIzh_seg_filtered_sl-4/43/module_2/prediction_eval1\n",
      "/home/mwsrgf/proj/ACT/output/bursterIzh_seg_filtered_sl-4/43/module_2/prediction_eval2\n",
      "SELECTING BEST PREDICTION\n",
      "FI curve MAE for each prediction: \n",
      "[2.2222222222222223, 0.0, 0.0]\n",
      "{'gbar_na3': 0.04748364444444491, 'gkdrbar_kdr': 0.023090805333333405, 'gbar_nap': 0.00042946666666666896, 'gmbar_im': 0.003347800000000019, 'glbar_leak': 3.600855333548278e-05}\n",
      "Module runtime: 0:00:16.931214\n"
     ]
    }
   ],
   "source": [
    "predicted_g_data_file = mod2.run()"
   ]
  },
  {
   "cell_type": "code",
   "execution_count": 13,
   "metadata": {},
   "outputs": [
    {
     "name": "stdout",
     "output_type": "stream",
     "text": [
      "{'gbar_na3': 0.04748364444444491, 'gkdrbar_kdr': 0.023090805333333405, 'gbar_nap': 0.00042946666666666896, 'gmbar_im': 0.003347800000000019, 'glbar_leak': 3.600855333548278e-05}\n"
     ]
    }
   ],
   "source": [
    "mod2.pickle_rf(mod2.rf_model,f\"{module_2_folder}/trained_rf.pkl\")\n",
    "print(train_cell.predicted_g)"
   ]
  },
  {
   "cell_type": "code",
   "execution_count": 14,
   "metadata": {},
   "outputs": [
    {
     "name": "stdout",
     "output_type": "stream",
     "text": [
      "hoc_file: /home/mwsrgf/proj/ACT/data/Burster_Izhikevich/seg/template.hoc\n",
      "mod_folder: /home/mwsrgf/proj/ACT/data/Burster_Izhikevich/seg\n",
      "cell_name: Burster_Izh\n",
      "passive_properties: PassiveProperties(V_rest=-70.07262004640518, R_in=306.36820650467416, tau=69.423, Cm=2.499821798209222, g_bar_leak=3.60085533354828e-05, cell_area=9.064641486925113e-05, leak_conductance_variable='glbar_leak', leak_reversal_variable='el_leak')\n",
      "cell_area: None\n",
      "CI: []\n",
      "g_names: ['gbar_na3', 'gkdrbar_kdr', 'gbar_nap', 'gmbar_im', 'glbar_leak']\n",
      "gleak_var: None\n",
      "g_bar_leak: None\n",
      "predicted_g: {'gbar_na3': 0.04748364444444491, 'gkdrbar_kdr': 0.023090805333333405, 'gbar_nap': 0.00042946666666666896, 'gmbar_im': 0.003347800000000019, 'glbar_leak': 3.600855333548278e-05}\n"
     ]
    }
   ],
   "source": [
    "if hasattr(train_cell, '__dict__'):\n",
    "    # Print all keys and values\n",
    "    for key, value in train_cell.__dict__.items():\n",
    "        print(f\"{key}: {value}\")\n",
    "else:\n",
    "    print(\"This object does not have a __dict__ attribute.\")"
   ]
  },
  {
   "cell_type": "markdown",
   "metadata": {},
   "source": [
    "## Run Fine Tuning Module"
   ]
  },
  {
   "cell_type": "code",
   "execution_count": 15,
   "metadata": {},
   "outputs": [],
   "source": [
    "from act.ACTModule import ACTModule\n",
    "from act.act_types import OptimizationParameters, OptimizationParam\n",
    "from act.cell_model import ModuleParameters\n",
    "\n",
    "'''\n",
    "OptimizationParam(param=\"gbar_na3\", low=0.025, high=0.075, n_slices=num_slices),\n",
    "OptimizationParam(param=\"gkdrbar_kdr\", low=0.015, high=0.045, n_slices=num_slices),\n",
    "OptimizationParam(param=\"gbar_nap\", low=0.0002, high=0.0006, n_slices=num_slices),\n",
    "OptimizationParam(param=\"gmbar_im\", low=0.0019, high=0.0057, n_slices=num_slices),\n",
    "OptimizationParam(param=\"glbar_leak\", prediction=train_cell.passive_properties.g_bar_leak, bounds_variation=0.0, n_slices=1)\n",
    "'''\n",
    "bounds_variation = 0.15\n",
    "\n",
    "final_mod = ACTModule(\n",
    "    ModuleParameters(\n",
    "        module_folder_name=module_final_folder,\n",
    "        cell= train_cell,\n",
    "        target_traces_file = f\"{target_folder}/target_data.csv\",\n",
    "        sim_params= sim_par,\n",
    "        optim_params= OptimizationParameters(\n",
    "            g_ranges_slices= [\n",
    "                OptimizationParam(param=\"gbar_na3\", prediction=train_cell.predicted_g[\"gbar_na3\"], bounds_variation=bounds_variation, n_slices=num_slices),\n",
    "                OptimizationParam(param=\"gkdrbar_kdr\", prediction=train_cell.predicted_g[\"gkdrbar_kdr\"], bounds_variation=bounds_variation, n_slices=num_slices),\n",
    "                OptimizationParam(param=\"gbar_nap\", prediction=train_cell.predicted_g[\"gbar_nap\"], bounds_variation=bounds_variation, n_slices=num_slices),\n",
    "                OptimizationParam(param=\"gmbar_im\", prediction=train_cell.predicted_g[\"gmbar_im\"], bounds_variation=bounds_variation, n_slices=num_slices),\n",
    "                OptimizationParam(param=\"glbar_leak\", prediction=train_cell.passive_properties.g_bar_leak, bounds_variation=0.0, n_slices=1)\n",
    "            ],\n",
    "            filtered_out_features = [\"no_spikes\", \"saturated\"],\n",
    "            train_features=[\"i_trace_stats\", \"number_of_spikes\", \"spike_times\", \"spike_height_stats\", \"number_of_troughs\", \"trough_times\", \"trough_height_stats\"],\n",
    "            spike_threshold=0,\n",
    "            saturation_threshold=-65,\n",
    "            first_n_spikes=20,\n",
    "            prediction_eval_method='fi_curve',\n",
    "            random_state=random_seed,\n",
    "            save_file=f\"{module_final_folder}/results/saved_metrics.json\"\n",
    "        )\n",
    "    )\n",
    ")"
   ]
  },
  {
   "cell_type": "code",
   "execution_count": 16,
   "metadata": {},
   "outputs": [
    {
     "name": "stdout",
     "output_type": "stream",
     "text": [
      "RUNNING THE MODULE\n",
      "LOADING TARGET TRACES\n",
      "SIMULATING TRAINING DATA\n",
      "Total number of jobs: 768\n",
      "Total number of proccessors: 192\n",
      "MECHANISMS already loaded.\n",
      "/home/mwsrgf/proj/ACT/output/bursterIzh_seg_filtered_sl-4/43/module_final/train\n",
      "FILTERING DATA\n",
      "Dropping 88 traces where: All values in the window (3100:4000) are saturated (above -65 mV).\n",
      "Dropping 0 traces where: No spikes are in the voltage trace.\n",
      "Dataset size after filtering: 680. Saving to /home/mwsrgf/proj/ACT/output/bursterIzh_seg_filtered_sl-4/43/module_final/train/filtered_out.npy\n",
      "TRAINING RANDOM FOREST REGRESSOR\n",
      "Training Random Forest on Filtered Data\n",
      "Extracting features: ['I_mean', 'I_stdev', 'Num Spikes', 'Spike Time 1', 'Spike Time 2', 'Spike Time 3', 'Spike Time 4', 'Spike Time 5', 'Spike Time 6', 'Spike Time 7', 'Spike Time 8', 'Spike Time 9', 'Spike Time 10', 'Spike Time 11', 'Spike Time 12', 'Spike Time 13', 'Spike Time 14', 'Spike Time 15', 'Spike Time 16', 'Spike Time 17', 'Spike Time 18', 'Spike Time 19', 'Spike Time 20', 'Min Spike Height', 'Max Spike Height', 'Avg Spike Height', 'Std Spike Height', 'Num Troughs', 'Trough Time 1', 'Trough Time 2', 'Trough Time 3', 'Trough Time 4', 'Trough Time 5', 'Trough Time 6', 'Trough Time 7', 'Trough Time 8', 'Trough Time 9', 'Trough Time 10', 'Trough Time 11', 'Trough Time 12', 'Trough Time 13', 'Trough Time 14', 'Trough Time 15', 'Trough Time 16', 'Trough Time 17', 'Trough Time 18', 'Trough Time 19', 'Trough Time 20', 'Min Trough Height', 'Max Trough Height', 'Avg Trough Height', 'Std Trough Height']\n",
      "Evaluating random forest\n",
      "MAE: 0.000304 (0.000026)\n",
      "Saving rf mean/stdev scores to output/bursterIzh_seg_filtered_sl-4/43/module_final/results/saved_metrics.json\n",
      "Predicted Conductances for each current injection intensity: \n",
      "[[4.68948473e-02 2.29845876e-02 3.91330027e-04 3.46396866e-03\n",
      "  3.60085533e-05]\n",
      " [4.68568603e-02 2.28922244e-02 4.04901173e-04 3.31097420e-03\n",
      "  3.60085533e-05]\n",
      " [4.82861180e-02 2.51943777e-02 4.10140667e-04 3.37458240e-03\n",
      "  3.60085533e-05]]\n",
      "SIMULATING PREDICTIONS\n",
      "Total number of jobs: 9\n",
      "Total number of proccessors: 192\n",
      "MECHANISMS already loaded.\n",
      "/home/mwsrgf/proj/ACT/output/bursterIzh_seg_filtered_sl-4/43/module_final/prediction_eval0\n",
      "/home/mwsrgf/proj/ACT/output/bursterIzh_seg_filtered_sl-4/43/module_final/prediction_eval1\n",
      "/home/mwsrgf/proj/ACT/output/bursterIzh_seg_filtered_sl-4/43/module_final/prediction_eval2\n",
      "SELECTING BEST PREDICTION\n",
      "FI curve MAE for each prediction: \n",
      "[0.0, 0.0, 0.0]\n",
      "{'gbar_na3': 0.046894847253333254, 'gkdrbar_kdr': 0.02298458762880047, 'gbar_nap': 0.00039133002666666736, 'gmbar_im': 0.0034639686600000277, 'glbar_leak': 3.600855333548278e-05}\n",
      "Module runtime: 0:00:24.575329\n"
     ]
    }
   ],
   "source": [
    "final_predicted_g_data_file = final_mod.run()"
   ]
  },
  {
   "cell_type": "code",
   "execution_count": 17,
   "metadata": {},
   "outputs": [
    {
     "name": "stdout",
     "output_type": "stream",
     "text": [
      "{'gbar_na3': 0.046894847253333254, 'gkdrbar_kdr': 0.02298458762880047, 'gbar_nap': 0.00039133002666666736, 'gmbar_im': 0.0034639686600000277, 'glbar_leak': 3.600855333548278e-05}\n"
     ]
    }
   ],
   "source": [
    "final_mod.pickle_rf(final_mod.rf_model,f\"{module_final_folder}/trained_rf.pkl\")\n",
    "print(train_cell.predicted_g)"
   ]
  },
  {
   "cell_type": "code",
   "execution_count": 18,
   "metadata": {},
   "outputs": [
    {
     "name": "stdout",
     "output_type": "stream",
     "text": [
      "hoc_file: /home/mwsrgf/proj/ACT/data/Burster_Izhikevich/seg/template.hoc\n",
      "mod_folder: /home/mwsrgf/proj/ACT/data/Burster_Izhikevich/seg\n",
      "cell_name: Burster_Izh\n",
      "passive_properties: PassiveProperties(V_rest=-70.07262004640518, R_in=306.36820650467416, tau=69.423, Cm=2.499821798209222, g_bar_leak=3.60085533354828e-05, cell_area=9.064641486925113e-05, leak_conductance_variable='glbar_leak', leak_reversal_variable='el_leak')\n",
      "cell_area: None\n",
      "CI: []\n",
      "g_names: ['gbar_na3', 'gkdrbar_kdr', 'gbar_nap', 'gmbar_im', 'glbar_leak']\n",
      "gleak_var: None\n",
      "g_bar_leak: None\n",
      "predicted_g: {'gbar_na3': 0.046894847253333254, 'gkdrbar_kdr': 0.02298458762880047, 'gbar_nap': 0.00039133002666666736, 'gmbar_im': 0.0034639686600000277, 'glbar_leak': 3.600855333548278e-05}\n"
     ]
    }
   ],
   "source": [
    "if hasattr(train_cell, '__dict__'):\n",
    "    # Print all keys and values\n",
    "    for key, value in train_cell.__dict__.items():\n",
    "        print(f\"{key}: {value}\")\n",
    "else:\n",
    "    print(\"This object does not have a __dict__ attribute.\")"
   ]
  },
  {
   "cell_type": "markdown",
   "metadata": {},
   "source": [
    "# Results & Metrics"
   ]
  },
  {
   "cell_type": "code",
   "execution_count": 19,
   "metadata": {},
   "outputs": [],
   "source": [
    "from act import ACTPlot\n",
    "ACTPlot.plot_v_comparison(\n",
    "    final_predicted_g_data_file, \n",
    "    module_final_folder, \n",
    "    sim_par[\"CI_amps\"],\n",
    "    sim_par[\"h_dt\"]\n",
    "    )\n",
    "\n",
    "ACTPlot.plot_fi_comparison(\n",
    "    module_final_folder, \n",
    "    sim_par[\"CI_amps\"]\n",
    "    )"
   ]
  },
  {
   "cell_type": "code",
   "execution_count": 20,
   "metadata": {},
   "outputs": [
    {
     "name": "stdout",
     "output_type": "stream",
     "text": [
      "Interspike times (Target): [[2.610e+01 2.180e+02 1.000e+06 1.000e+06]\n",
      " [2.200e+01 3.780e+01 1.976e+02 1.000e+06]\n",
      " [1.970e+01 2.320e+01 1.000e+06 1.000e+06]]\n",
      "Interspike times (Prediction): [[2.450e+01 2.219e+02 1.000e+06 1.000e+06]\n",
      " [2.110e+01 3.040e+01 1.945e+02 1.000e+06]\n",
      " [1.910e+01 2.210e+01 1.000e+06 1.000e+06]]\n",
      "MAE for each I injection: [1.3749999999999858, 2.8499999999999908, 0.4249999999999936]\n",
      "Mean interspike-interval MAE: 1.54999999999999\n",
      "Standard Deviation interspike-interval MAE: 0.9977057014303693\n",
      "MAE of final g prediction: 0.002093054996907013\n"
     ]
    }
   ],
   "source": [
    "from act.Metrics import Metrics\n",
    "\n",
    "metrics = Metrics()\n",
    "\n",
    "mean, stdev = metrics.print_interspike_interval_comparison(\n",
    "    module_final_folder,\n",
    "    final_predicted_g_data_file,\n",
    "    sim_par[\"CI_amps\"], \n",
    "    sim_par[\"h_dt\"],\n",
    "    first_n_spikes=5,\n",
    "    save_file=f\"{module_final_folder}/results/saved_metrics.json\"\n",
    ")\n",
    "\n",
    "metrics.print_prediction_g_mae(\n",
    "    actual_g={\"gbar_na3\": 0.05, \"gkdrbar_kdr\": 0.03,\"gbar_nap\": 0.0004,\"gmbar_im\": 0.0038, \"glbar_leak\": 3.6e-5},\n",
    "    save_file=f\"{module_final_folder}/results/saved_metrics.json\"\n",
    ")"
   ]
  }
 ],
 "metadata": {
  "kernelspec": {
   "display_name": "Python 3.9 (act-venv)",
   "language": "python",
   "name": "act-venv"
  },
  "language_info": {
   "codemirror_mode": {
    "name": "ipython",
    "version": 3
   },
   "file_extension": ".py",
   "mimetype": "text/x-python",
   "name": "python",
   "nbconvert_exporter": "python",
   "pygments_lexer": "ipython3",
   "version": "3.9.19"
  }
 },
 "nbformat": 4,
 "nbformat_minor": 2
}
