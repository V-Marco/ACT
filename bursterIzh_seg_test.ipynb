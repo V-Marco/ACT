{
 "cells": [
  {
   "cell_type": "markdown",
   "metadata": {},
   "source": [
    "# Burster Izhikevich - Segregated Pipeline"
   ]
  },
  {
   "cell_type": "code",
   "execution_count": 1,
   "metadata": {},
   "outputs": [
    {
     "name": "stderr",
     "output_type": "stream",
     "text": [
      "/home/mwsrgf/act-venv/lib64/python3.9/site-packages/torch/__init__.py:955: UserWarning: torch.set_default_tensor_type() is deprecated as of PyTorch 2.1, please use torch.set_default_dtype() and torch.set_default_device() as alternatives. (Triggered internally at ../torch/csrc/tensor/python_tensor.cpp:432.)\n",
      "  _C._set_default_tensor_type(t)\n",
      "Warning: no DISPLAY environment variable.\n",
      "--No graphics will be displayed.\n"
     ]
    }
   ],
   "source": [
    "from act.SyntheticGenerator import SyntheticGenerator\n",
    "from act.act_types import SimParams, OptimizationParameters\n",
    "from act.cell_model import TargetCell, ModuleParameters\n",
    "\n",
    "random_seed = 42\n",
    "num_slices_new = 10\n",
    "num_slices_old = 5\n",
    "experiment_folder = f\"output/bursterIzh_seg_test_sl-{num_slices_new}-{num_slices_old}/{random_seed}\"\n",
    "#experiment_folder = f\"output/bursterIzh_seg_surfaceTest_sl-{num_slices_new}/{random_seed}\"\n",
    "target_folder = experiment_folder + \"/target\"\n",
    "\n",
    "# module 1 is for spiking, module 2 for bursting, final for refining all channels\n",
    "module_1_folder = experiment_folder + \"/module_1\"\n",
    "module_2_folder = experiment_folder + \"/module_2\"\n",
    "module_final_folder = experiment_folder + \"/module_final\"\n",
    "\n",
    "# pickled models\n",
    "pickle_module_1 = f\"output/bursterIzh_seg_new_sl-{num_slices_new}-{num_slices_old}/{random_seed}/module_1/trained_rf.pkl\"\n",
    "pickle_module_2 = f\"output/bursterIzh_seg_new_sl-{num_slices_new}-{num_slices_old}/{random_seed}/module_2/trained_rf.pkl\"\n",
    "pickle_module_final = f\"output/bursterIzh_seg_new_sl-{num_slices_new}-{num_slices_old}/{random_seed}/module_final/trained_rf.pkl\"\n",
    "\n",
    "target_cell = TargetCell(\n",
    "    hoc_file=\"/home/mwsrgf/proj/ACT/data/Burster_Izhikevich_test/seg/template.hoc\",\n",
    "    mod_folder=\"/home/mwsrgf/proj/ACT/data/Burster_Izhikevich_test/seg\",\n",
    "    cell_name=\"Burster_Izh\",\n",
    "    g_names = [\"gbar_na3\", \"gkdrbar_kdr\",\"gbar_nap\",\"gmbar_im\", \"glbar_leak\"]\n",
    ")\n",
    "\n",
    "sim_par= SimParams(\n",
    "            h_v_init=-67.0,  # Consistent with nrngui settings\n",
    "            h_tstop=500,     # Simulation time in ms\n",
    "            h_dt=0.1,      # Time step in ms\n",
    "            h_celsius=6.3,   # Temperature in degrees Celsius\n",
    "            CI_type=\"constant\",\n",
    "            CI_amps=[0.1,0.3,0.5],   # Current injection amplitude\n",
    "            CI_dur=300,      # Duration of current injection\n",
    "            CI_delay=100,     # Delay before current injection\n",
    "            set_g_to=[]\n",
    "        )"
   ]
  },
  {
   "cell_type": "markdown",
   "metadata": {},
   "source": [
    "# Generate Synthetic Data"
   ]
  },
  {
   "cell_type": "code",
   "execution_count": 2,
   "metadata": {},
   "outputs": [
    {
     "name": "stdout",
     "output_type": "stream",
     "text": [
      "Blocking: []\n",
      "Total number of jobs: 3\n",
      "Total number of proccessors: 192\n",
      "MECHANISMS already loaded.\n",
      "/home/mwsrgf/proj/ACT/output/bursterIzh_seg_test_sl-10-5/42/target/synthetic_0.1_0.3_0.5_\n"
     ]
    }
   ],
   "source": [
    "sg = SyntheticGenerator(\n",
    "    ModuleParameters(\n",
    "        module_folder_name=target_folder,\n",
    "        cell= target_cell,\n",
    "        sim_params= sim_par,\n",
    "        optim_params = OptimizationParameters(\n",
    "            blocked_channels= []\n",
    "        )\n",
    "    )\n",
    ")\n",
    "\n",
    "sg.generate_synthetic_target_data(\"target_data.csv\")"
   ]
  },
  {
   "cell_type": "code",
   "execution_count": 3,
   "metadata": {},
   "outputs": [
    {
     "name": "stdout",
     "output_type": "stream",
     "text": [
      "Blocking: []\n",
      "Total number of jobs: 1\n",
      "Total number of proccessors: 192\n",
      "MECHANISMS already loaded.\n",
      "/home/mwsrgf/proj/ACT/output/bursterIzh_seg_test_sl-10-5/42/target/synthetic_-1_\n"
     ]
    }
   ],
   "source": [
    "passive_sim_par = SimParams(\n",
    "            h_v_init = -67,\n",
    "            h_tstop = 1500,\n",
    "            h_dt = 0.001,\n",
    "            h_celsius = 6.3,\n",
    "            CI_type = \"constant\",\n",
    "            CI_amps = [-1],    ##################### NEGATIVE CURRENT INJECTION ###################\n",
    "            CI_dur = 1000,\n",
    "            CI_delay = 500,\n",
    "            set_g_to=[]\n",
    "        )\n",
    "\n",
    "sg_passive = SyntheticGenerator(\n",
    "    ModuleParameters(\n",
    "        module_folder_name=target_folder,\n",
    "        cell= target_cell,\n",
    "        sim_params= passive_sim_par,\n",
    "        optim_params = OptimizationParameters(\n",
    "            blocked_channels= []\n",
    "        )\n",
    "    )\n",
    ")\n",
    "\n",
    "sg_passive.generate_synthetic_target_data(\"passive_data.csv\")"
   ]
  },
  {
   "cell_type": "markdown",
   "metadata": {},
   "source": [
    "# Get Passive Properties"
   ]
  },
  {
   "cell_type": "code",
   "execution_count": 4,
   "metadata": {},
   "outputs": [],
   "source": [
    "from act.PassivePropertiesModule import PassivePropertiesModule\n",
    "from act.act_types import SimParams\n",
    "from act.cell_model import TrainCell\n",
    "\n",
    "train_cell = TrainCell(\n",
    "    hoc_file=\"/home/mwsrgf/proj/ACT/data/Burster_Izhikevich_test/seg/template.hoc\",\n",
    "    mod_folder=\"/home/mwsrgf/proj/ACT/data/Burster_Izhikevich_test/seg\",\n",
    "    cell_name=\"Burster_Izh\",\n",
    "    g_names = [\"gbar_na3\", \"gkdrbar_kdr\",\"gbar_nap\",\"gmbar_im\", \"glbar_leak\"]\n",
    ")\n",
    "\n",
    "passive_mod = PassivePropertiesModule(\n",
    "    train_cell=train_cell,\n",
    "    sim_params=passive_sim_par,\n",
    "    trace_filepath=f\"{target_folder}/passive_data.csv\",\n",
    "    leak_conductance_variable=\"glbar_leak\",\n",
    "    leak_reversal_variable=\"el_leak\"\n",
    ")"
   ]
  },
  {
   "cell_type": "code",
   "execution_count": 5,
   "metadata": {},
   "outputs": [
    {
     "name": "stdout",
     "output_type": "stream",
     "text": [
      "MECHANISMS already loaded.\n",
      "Found 1 section(s) in this cell. Calculating the total surface area of the cell.\n",
      "PassiveProperties(V_rest=-70.04364978423007, R_in=245.10914435358546, tau=55.539, Cm=2.4997001130263996, g_bar_leak=4.500801442277317e-05, cell_area=9.064641486925113e-05, leak_conductance_variable='glbar_leak', leak_reversal_variable='el_leak')\n"
     ]
    }
   ],
   "source": [
    "passive_mod.set_passive_properties()\n",
    "print(train_cell.passive_properties)"
   ]
  },
  {
   "cell_type": "markdown",
   "metadata": {},
   "source": [
    "## Run Module 1 (Spiking)"
   ]
  },
  {
   "cell_type": "code",
   "execution_count": 6,
   "metadata": {},
   "outputs": [],
   "source": [
    "from act.ACTModule import ACTModule\n",
    "from act.act_types import OptimizationParameters, OptimizationParam\n",
    "from act.cell_model import ModuleParameters\n",
    "\n",
    "# gmbar_im = 0.0038, gkdrbar_kdr= 0.03, gbar_nap= 0.0004, gbar_na3= 0.05, glbar_leak= 3.6e-5\n",
    "mod1 = ACTModule(\n",
    "    ModuleParameters(\n",
    "        module_folder_name=module_1_folder,\n",
    "        cell= train_cell,\n",
    "        target_traces_file = f\"{target_folder}/target_data.csv\",\n",
    "        sim_params= sim_par,\n",
    "        optim_params= OptimizationParameters(\n",
    "            g_ranges_slices= [\n",
    "                OptimizationParam(param=\"gbar_na3\"),\n",
    "                OptimizationParam(param=\"gkdrbar_kdr\"),\n",
    "                OptimizationParam(param=\"gbar_nap\"),\n",
    "                OptimizationParam(param=\"gmbar_im\"),\n",
    "                OptimizationParam(param=\"glbar_leak\")\n",
    "            ],\n",
    "            train_features=[\"i_trace_stats\", \"number_of_spikes\", \"spike_times\", \"spike_height_stats\", \"trough_times\", \"trough_height_stats\"],\n",
    "            prediction_eval_method='fi_curve',\n",
    "            rf_model=pickle_module_1,\n",
    "            random_state=random_seed,\n",
    "            save_file=f\"{module_1_folder}/results/saved_metrics.json\"\n",
    "        )\n",
    "    )\n",
    ")"
   ]
  },
  {
   "cell_type": "code",
   "execution_count": 7,
   "metadata": {},
   "outputs": [
    {
     "name": "stdout",
     "output_type": "stream",
     "text": [
      "RUNNING THE MODULE\n",
      "LOADING TARGET TRACES\n",
      "Model loaded successfully.\n",
      "Predicted Conductances for each current injection intensity: \n",
      "[[6.08944444e-02 3.79066667e-02 4.00000000e-04 3.80000000e-03\n",
      "  3.60085533e-05]\n",
      " [5.54611111e-02 2.78033333e-02 4.00000000e-04 3.80000000e-03\n",
      "  3.60085533e-05]\n",
      " [6.04666667e-02 3.56033333e-02 4.00000000e-04 3.80000000e-03\n",
      "  3.60085533e-05]]\n",
      "SIMULATING PREDICTIONS\n",
      "Total number of jobs: 9\n",
      "Total number of proccessors: 192\n",
      "MECHANISMS already loaded.\n",
      "/home/mwsrgf/proj/ACT/output/bursterIzh_seg_test_sl-10-5/42/module_1/prediction_eval0\n",
      "/home/mwsrgf/proj/ACT/output/bursterIzh_seg_test_sl-10-5/42/module_1/prediction_eval1\n",
      "/home/mwsrgf/proj/ACT/output/bursterIzh_seg_test_sl-10-5/42/module_1/prediction_eval2\n",
      "SELECTING BEST PREDICTION\n",
      "FI curve MAE for each prediction: \n",
      "[2.2222222222222228, 2.2222222222222228, 2.2222222222222228]\n",
      "{'gbar_na3': 0.0608944444444441, 'gkdrbar_kdr': 0.037906666666666776, 'gbar_nap': 0.00040000000000000734, 'gmbar_im': 0.003800000000000024, 'glbar_leak': 3.600855333548278e-05}\n",
      "Module runtime: 0:00:05.473005\n"
     ]
    }
   ],
   "source": [
    "predicted_g_data_file = mod1.run()"
   ]
  },
  {
   "cell_type": "code",
   "execution_count": 8,
   "metadata": {},
   "outputs": [
    {
     "name": "stdout",
     "output_type": "stream",
     "text": [
      "{'gbar_na3': 0.0608944444444441, 'gkdrbar_kdr': 0.037906666666666776, 'gbar_nap': 0.00040000000000000734, 'gmbar_im': 0.003800000000000024, 'glbar_leak': 3.600855333548278e-05}\n"
     ]
    }
   ],
   "source": [
    "mod1.pickle_rf(mod1.rf_model,f\"{module_1_folder}/trained_rf.pkl\")\n",
    "print(train_cell.predicted_g)"
   ]
  },
  {
   "cell_type": "markdown",
   "metadata": {},
   "source": [
    "## Run Module 2 (Bursting)"
   ]
  },
  {
   "cell_type": "code",
   "execution_count": 9,
   "metadata": {},
   "outputs": [],
   "source": [
    "from act.ACTModule import ACTModule\n",
    "from act.act_types import OptimizationParameters, OptimizationParam\n",
    "from act.cell_model import ModuleParameters\n",
    "\n",
    "# Allow all channels to vary by 20% their predicted value in the previous module\n",
    "bounds_variation = 0.15\n",
    "\n",
    "# gmbar_im = 0.0038, gkdrbar_kdr= 0.03, gbar_nap= 0.0004, gbar_na3= 0.05, glbar_leak= 3.6e-5\n",
    "mod2 = ACTModule(\n",
    "    ModuleParameters(\n",
    "        module_folder_name=module_2_folder,\n",
    "        cell= train_cell,\n",
    "        target_traces_file = f\"{target_folder}/target_data.csv\",\n",
    "        sim_params= sim_par,\n",
    "        optim_params= OptimizationParameters(\n",
    "            g_ranges_slices= [\n",
    "                OptimizationParam(param=\"gbar_na3\"),\n",
    "                OptimizationParam(param=\"gkdrbar_kdr\"),\n",
    "                OptimizationParam(param=\"gbar_nap\"),\n",
    "                OptimizationParam(param=\"gmbar_im\"),\n",
    "                OptimizationParam(param=\"glbar_leak\")\n",
    "            ],\n",
    "            train_features=[\"i_trace_stats\", \"number_of_spikes\", \"spike_times\", \"spike_height_stats\", \"trough_times\", \"trough_height_stats\"],\n",
    "            prediction_eval_method='fi_curve',\n",
    "            rf_model=pickle_module_2,\n",
    "            random_state=random_seed,\n",
    "            save_file=f\"{module_2_folder}/results/saved_metrics.json\"\n",
    "        )\n",
    "    )\n",
    ")"
   ]
  },
  {
   "cell_type": "code",
   "execution_count": 10,
   "metadata": {},
   "outputs": [
    {
     "name": "stdout",
     "output_type": "stream",
     "text": [
      "RUNNING THE MODULE\n",
      "LOADING TARGET TRACES\n",
      "Model loaded successfully.\n",
      "Predicted Conductances for each current injection intensity: \n",
      "[[5.93489583e-02 3.50235000e-02 4.05511111e-04 3.89120000e-03\n",
      "  3.60085533e-05]\n",
      " [5.95442708e-02 3.55806180e-02 4.27333333e-04 3.91906667e-03\n",
      "  3.60085533e-05]\n",
      " [5.97747396e-02 3.67192890e-02 4.29955556e-04 4.27542222e-03\n",
      "  3.60085533e-05]]\n",
      "SIMULATING PREDICTIONS\n",
      "Total number of jobs: 9\n",
      "Total number of proccessors: 192\n",
      "MECHANISMS already loaded.\n",
      "/home/mwsrgf/proj/ACT/output/bursterIzh_seg_test_sl-10-5/42/module_2/prediction_eval0\n",
      "/home/mwsrgf/proj/ACT/output/bursterIzh_seg_test_sl-10-5/42/module_2/prediction_eval1\n",
      "/home/mwsrgf/proj/ACT/output/bursterIzh_seg_test_sl-10-5/42/module_2/prediction_eval2\n",
      "SELECTING BEST PREDICTION\n",
      "FI curve MAE for each prediction: \n",
      "[2.2222222222222228, 2.2222222222222228, 2.2222222222222228]\n",
      "{'gbar_na3': 0.0593489583333339, 'gkdrbar_kdr': 0.03502350000000006, 'gbar_nap': 0.00040551111111111033, 'gmbar_im': 0.0038912000000000157, 'glbar_leak': 3.600855333548278e-05}\n",
      "Module runtime: 0:00:07.283470\n"
     ]
    }
   ],
   "source": [
    "predicted_g_data_file = mod2.run()"
   ]
  },
  {
   "cell_type": "code",
   "execution_count": 11,
   "metadata": {},
   "outputs": [
    {
     "name": "stdout",
     "output_type": "stream",
     "text": [
      "{'gbar_na3': 0.0593489583333339, 'gkdrbar_kdr': 0.03502350000000006, 'gbar_nap': 0.00040551111111111033, 'gmbar_im': 0.0038912000000000157, 'glbar_leak': 3.600855333548278e-05}\n"
     ]
    }
   ],
   "source": [
    "mod2.pickle_rf(mod2.rf_model,f\"{module_2_folder}/trained_rf.pkl\")\n",
    "print(train_cell.predicted_g)"
   ]
  },
  {
   "cell_type": "markdown",
   "metadata": {},
   "source": [
    "## Run Fine Tuning Module"
   ]
  },
  {
   "cell_type": "code",
   "execution_count": 12,
   "metadata": {},
   "outputs": [],
   "source": [
    "from act.ACTModule import ACTModule\n",
    "from act.act_types import OptimizationParameters, OptimizationParam\n",
    "from act.cell_model import ModuleParameters\n",
    "\n",
    "bounds_variation = 0.15\n",
    "\n",
    "final_mod = ACTModule(\n",
    "    ModuleParameters(\n",
    "        module_folder_name=module_final_folder,\n",
    "        cell= train_cell,\n",
    "        target_traces_file = f\"{target_folder}/target_data.csv\",\n",
    "        sim_params= sim_par,\n",
    "        optim_params= OptimizationParameters(\n",
    "            g_ranges_slices= [\n",
    "                OptimizationParam(param=\"gbar_na3\"),\n",
    "                OptimizationParam(param=\"gkdrbar_kdr\"),\n",
    "                OptimizationParam(param=\"gbar_nap\"),\n",
    "                OptimizationParam(param=\"gmbar_im\"),\n",
    "                OptimizationParam(param=\"glbar_leak\")\n",
    "            ],\n",
    "            train_features=[\"i_trace_stats\", \"number_of_spikes\", \"spike_times\", \"spike_height_stats\", \"trough_times\", \"trough_height_stats\"],\n",
    "            prediction_eval_method='fi_curve',\n",
    "            rf_model=pickle_module_final,\n",
    "            random_state=random_seed,\n",
    "            save_file=f\"{module_final_folder}/results/saved_metrics.json\"\n",
    "        )\n",
    "    )\n",
    ")"
   ]
  },
  {
   "cell_type": "code",
   "execution_count": 13,
   "metadata": {},
   "outputs": [
    {
     "name": "stdout",
     "output_type": "stream",
     "text": [
      "RUNNING THE MODULE\n",
      "LOADING TARGET TRACES\n",
      "Model loaded successfully.\n",
      "Predicted Conductances for each current injection intensity: \n",
      "[[5.86044196e-02 3.49417148e-02 4.17320311e-04 3.93350368e-03\n",
      "  3.60085533e-05]\n",
      " [5.85967670e-02 3.50559564e-02 4.37346551e-04 3.84844920e-03\n",
      "  3.60085533e-05]\n",
      " [5.86618136e-02 3.54788933e-02 3.92576351e-04 4.07458381e-03\n",
      "  3.60085533e-05]]\n",
      "SIMULATING PREDICTIONS\n",
      "Total number of jobs: 9\n",
      "Total number of proccessors: 192\n",
      "MECHANISMS already loaded.\n",
      "/home/mwsrgf/proj/ACT/output/bursterIzh_seg_test_sl-10-5/42/module_final/prediction_eval0\n",
      "/home/mwsrgf/proj/ACT/output/bursterIzh_seg_test_sl-10-5/42/module_final/prediction_eval1\n",
      "/home/mwsrgf/proj/ACT/output/bursterIzh_seg_test_sl-10-5/42/module_final/prediction_eval2\n",
      "SELECTING BEST PREDICTION\n",
      "FI curve MAE for each prediction: \n",
      "[2.2222222222222228, 3.333333333333334, 1.1111111111111114]\n",
      "{'gbar_na3': 0.058661813606772334, 'gkdrbar_kdr': 0.03547889326237532, 'gbar_nap': 0.00039257635111110347, 'gmbar_im': 0.004074583809444497, 'glbar_leak': 3.600855333548278e-05}\n",
      "Module runtime: 0:00:07.074089\n"
     ]
    }
   ],
   "source": [
    "final_predicted_g_data_file = final_mod.run()"
   ]
  },
  {
   "cell_type": "code",
   "execution_count": 14,
   "metadata": {},
   "outputs": [
    {
     "name": "stdout",
     "output_type": "stream",
     "text": [
      "{'gbar_na3': 0.058661813606772334, 'gkdrbar_kdr': 0.03547889326237532, 'gbar_nap': 0.00039257635111110347, 'gmbar_im': 0.004074583809444497, 'glbar_leak': 3.600855333548278e-05}\n"
     ]
    }
   ],
   "source": [
    "final_mod.pickle_rf(final_mod.rf_model,f\"{module_final_folder}/trained_rf.pkl\")\n",
    "print(train_cell.predicted_g)"
   ]
  },
  {
   "cell_type": "markdown",
   "metadata": {},
   "source": [
    "# Results & Metrics"
   ]
  },
  {
   "cell_type": "code",
   "execution_count": 15,
   "metadata": {},
   "outputs": [],
   "source": [
    "from act import ACTPlot\n",
    "ACTPlot.plot_v_comparison(\n",
    "    final_predicted_g_data_file, \n",
    "    module_final_folder, \n",
    "    sim_par[\"CI_amps\"],\n",
    "    sim_par[\"h_dt\"]\n",
    "    )\n",
    "\n",
    "ACTPlot.plot_fi_comparison(\n",
    "    module_final_folder, \n",
    "    sim_par[\"CI_amps\"]\n",
    "    )"
   ]
  },
  {
   "cell_type": "code",
   "execution_count": 16,
   "metadata": {},
   "outputs": [
    {
     "name": "stdout",
     "output_type": "stream",
     "text": [
      "Interspike times (Target): [[2.410e+01 2.171e+02 1.000e+06 1.000e+06]\n",
      " [1.900e+01 2.320e+01 2.328e+02 1.000e+06]\n",
      " [1.660e+01 1.810e+01 1.000e+06 1.000e+06]]\n",
      "Interspike times (Prediction): [[3.000e+01 2.112e+02 1.000e+06 1.000e+06]\n",
      " [2.060e+01 2.660e+01 1.000e+06 1.000e+06]\n",
      " [1.750e+01 1.910e+01 1.000e+06 1.000e+06]]\n",
      "MAE for each I injection: [2.950000000000003, 249943.05, 0.475000000000005]\n",
      "Mean interspike-interval MAE: 83315.49166666667\n",
      "Standard Deviation interspike-interval MAE: 117823.47643438951\n",
      "MAE of final g prediction: 0.002884544576163306\n"
     ]
    }
   ],
   "source": [
    "from act.Metrics import Metrics\n",
    "\n",
    "metrics = Metrics()\n",
    "\n",
    "mean, stdev = metrics.print_interspike_interval_comparison(\n",
    "    module_final_folder,\n",
    "    final_predicted_g_data_file,\n",
    "    sim_par[\"CI_amps\"], \n",
    "    sim_par[\"h_dt\"],\n",
    "    first_n_spikes=5,\n",
    "    save_file=f\"{module_final_folder}/results/saved_metrics.json\"\n",
    ")\n",
    "\n",
    "metrics.print_prediction_g_mae(\n",
    "    actual_g={\"gbar_na3\": 0.05, \"gkdrbar_kdr\": 0.03,\"gbar_nap\": 0.0004,\"gmbar_im\": 0.0038, \"glbar_leak\": 3.6e-5},\n",
    "    save_file=f\"{module_final_folder}/results/saved_metrics.json\"\n",
    ")"
   ]
  },
  {
   "cell_type": "code",
   "execution_count": 17,
   "metadata": {},
   "outputs": [
    {
     "name": "stdout",
     "output_type": "stream",
     "text": [
      "Smallest MAE values (gbar_na3, gmbar_im, MAE): \n",
      "[[0.05086863 0.0039204  0.30042288]\n",
      " [0.05086863 0.00367148 0.31626269]\n",
      " [0.05086863 0.00404485 0.36386619]\n",
      " [0.04920081 0.00354703 0.37632402]\n",
      " [0.05086863 0.00354703 0.41885787]\n",
      " [0.04920081 0.00367148 0.42118451]]\n"
     ]
    },
    {
     "data": {
      "image/png": "[encoded data removed]",
      "text/plain": [
       "<Figure size 640x480 with 2 Axes>"
      ]
     },
     "metadata": {},
     "output_type": "display_data"
    }
   ],
   "source": [
    "from act import ACTPlot as actplt\n",
    "from act.act_types import SimParams\n",
    "\n",
    "\n",
    "random_seed = 42\n",
    "num_slices_new = 10\n",
    "experiment_folder = f\"output/bursterIzh_seg_surfaceTest_sl-{num_slices_new}/{random_seed}\"\n",
    "target_folder = experiment_folder + \"/target\"\n",
    "module_final_folder = experiment_folder + \"/module_final\"\n",
    "\n",
    "sim_par= SimParams(\n",
    "            h_v_init=-67.0,  # Consistent with nrngui settings\n",
    "            h_tstop=500,     # Simulation time in ms\n",
    "            h_dt=0.1,      # Time step in ms\n",
    "            h_celsius=6.3,   # Temperature in degrees Celsius\n",
    "            CI_type=\"constant\",\n",
    "            CI_amps=[0.1,0.3,0.5],   # Current injection amplitude\n",
    "            CI_dur=300,      # Duration of current injection\n",
    "            CI_delay=100,     # Delay before current injection\n",
    "            set_g_to=[]\n",
    "        )\n",
    "\n",
    "#[\"gbar_na3\", \"gkdrbar_kdr\",\"gbar_nap\",\"gmbar_im\", \"glbar_leak\"]\n",
    "\n",
    "actplt.plot_training_v_mae_contour_plot(\n",
    "module_final_folder,\n",
    "sim_par[\"CI_amps\"],\n",
    "sim_par[\"CI_delay\"],\n",
    "sim_par[\"h_dt\"],\n",
    "index1=0,\n",
    "index2=3,\n",
    "g_names=[\"gbar_na3\", \"gkdrbar_kdr\",\"gbar_nap\",\"gmbar_im\"],\n",
    "num_levels=100,\n",
    "results_filename=f\"{module_final_folder}/results/V_Trace_Contour_Plot_na3_im.png\"\n",
    ")"
   ]
  }
 ],
 "metadata": {
  "kernelspec": {
   "display_name": "Python 3.9 (act-venv)",
   "language": "python",
   "name": "act-venv"
  },
  "language_info": {
   "codemirror_mode": {
    "name": "ipython",
    "version": 3
   },
   "file_extension": ".py",
   "mimetype": "text/x-python",
   "name": "python",
   "nbconvert_exporter": "python",
   "pygments_lexer": "ipython3",
   "version": "3.9.19"
  }
 },
 "nbformat": 4,
 "nbformat_minor": 2
}
