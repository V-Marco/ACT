{
 "cells": [
  {
   "cell_type": "markdown",
   "metadata": {},
   "source": [
    "<a target=\"_blank\" href=\"https://colab.research.google.com/github/V-Marco/ACT/blob/release_candidate/segregation.ipynb\">\n",
    "  <img src=\"https://colab.research.google.com/assets/colab-badge.svg\" alt=\"Open In Colab\"/>\n",
    "</a>"
   ]
  },
  {
   "cell_type": "markdown",
   "metadata": {
    "id": "LtmrMjy2PHxL"
   },
   "source": [
    "# A Tutorial on Current Segregation Procedure"
   ]
  },
  {
   "cell_type": "markdown",
   "metadata": {
    "id": "Un2OOIqpPHxM"
   },
   "source": [
    "ACT uses the segreagation approach introduced in [Alturki et al., (2016)](https://www.sciencedirect.com/science/article/pii/S0306452216303797). The main idea of the approach is that cell currents can be isolated into distinct functional modules along the voltage axis based on their activation functions. This notebook gives a tutorial on general principles of segregation."
   ]
  },
  {
   "cell_type": "markdown",
   "metadata": {
    "id": "kp8Q4AydPHxM"
   },
   "source": [
    "## Segregation approach"
   ]
  },
  {
   "cell_type": "markdown",
   "metadata": {
    "id": "mph3qYdHPHxN"
   },
   "source": [
    "1. Separate currents into functional modules. As a guideline, the following separating can be used:\n",
    "   - Passive: h\n",
    "   - Spiking: NaT, Kdr\n",
    "   - Bursting / adaptation: KA, CaT, CaS\n",
    "\n",
    "2. Plot activation (m-) functions for active channels and deactivation function for the h channel. Choose a probability threshold (as a guideline, we use 0.16, corresponding to 1 standard deviation of the normal curve) and determine corresponding voltage values for each current. The threshold for the module is set as the minimum of its currents' thresholds.\n",
    "\n",
    "3. To smoothen the transition to 0, linearly extrapolate each activation function in a segment betwenn the cutoff voltage and +2-3 mV to the right (as a guideline, we use 2 mV).\n",
    "   \n",
    "4. Simulate the segregated cell and compare the output to the original. To mitigate discrepancies, one can slightly adjust membrance capacitance or conductances of passive or active channels."
   ]
  },
  {
   "cell_type": "markdown",
   "metadata": {
    "id": "ut7lpgUwQDnX"
   },
   "source": [
    "**Note:** we recommend to restart the kernel when running each new example."
   ]
  },
  {
   "cell_type": "markdown",
   "metadata": {
    "id": "5rpSU5VoPHxN"
   },
   "source": [
    "## Examples"
   ]
  },
  {
   "cell_type": "code",
   "execution_count": null,
   "metadata": {
    "colab": {
     "base_uri": "https://localhost:8080/"
    },
    "id": "2qcY3QIoPORE",
    "outputId": "9de5fa5e-40e0-454c-d31f-d2beeb7f3be6"
   },
   "outputs": [],
   "source": [
    "!git clone https://github.com/V-Marco/ACT.git\n",
    "%cd ACT\n",
    "!git switch release_candidate"
   ]
  },
  {
   "cell_type": "code",
   "execution_count": null,
   "metadata": {
    "colab": {
     "base_uri": "https://localhost:8080/"
    },
    "id": "_7UxPCHYPgNb",
    "outputId": "8ea26cc7-1dd8-4fdd-f864-f4161cdfd122"
   },
   "outputs": [],
   "source": [
    "!pip install neuron"
   ]
  },
  {
   "cell_type": "code",
   "execution_count": 2,
   "metadata": {
    "id": "YR34SbMYPHxN"
   },
   "outputs": [],
   "source": [
    "# from act.cell_model import ACTCellModel\n",
    "# from act.simulator import ACTSimulator\n",
    "# from act.segregation import ACTSegregator\n",
    "# from act.act_types import SimulationParameters, CurrentInjection, PassiveProperties\n",
    "\n",
    "import matplotlib.pyplot as plt\n",
    "import numpy as np"
   ]
  },
  {
   "cell_type": "markdown",
   "metadata": {
    "id": "GBM1bZ5aPHxO"
   },
   "source": [
    "### Spiker\n",
    "\n",
    "Classic Hodgkin-Huxely-based Spiker model.\n",
    "\n",
    "Parameters (both original and segregated):\n",
    "- Cm = 1\n",
    "- gnabar = .12 (S/cm2)\n",
    "- gkbar = .036 (S/cm2)\n",
    "- gl = .0003 (S/cm2)\n",
    "- el = -54.3 (mV)\n",
    "\n",
    "Modules:\n",
    "- Spiking: [gnabar, gkbar], (-77.017; +inf)"
   ]
  },
  {
   "cell_type": "markdown",
   "metadata": {
    "id": "OoStsEZwPHxO"
   },
   "source": [
    "**Step 1.** The spiker model has only 2 modules:\n",
    "- Passive (includes only the leak channel, so no action needed).\n",
    "- Spiking (Na and Kdr channels)."
   ]
  },
  {
   "cell_type": "markdown",
   "metadata": {
    "id": "xJOliJM7PHxP"
   },
   "source": [
    "**Steps 2 and 3.** Transfer the activation functions from the modfiles and plot them. We additionally plot E-leak for reference."
   ]
  },
  {
   "cell_type": "code",
   "execution_count": null,
   "metadata": {
    "colab": {
     "base_uri": "https://localhost:8080/",
     "height": 469
    },
    "id": "1G_rTDp2PHxP",
    "outputId": "e1765ecc-ab34-4fa8-e70a-e4895297ea3f"
   },
   "outputs": [],
   "source": [
    "# From ACT/data/Spiker/orig/modfiles/hh.mod\n",
    "def vtrap(x,y):\n",
    "    if np.any(np.abs(x/y) < 1e-6):\n",
    "        vtrap = y * (1 - x/y/2)\n",
    "    else:\n",
    "        vtrap = x / (np.exp(x/y) - 1)\n",
    "    return vtrap\n",
    "\n",
    "def Na(v):\n",
    "    aNa = 0.1 * vtrap(-(v + 40), 10)\n",
    "    bNa =  4 * np.exp(-(v + 65) / 18)\n",
    "    return aNa / (aNa + bNa)\n",
    "\n",
    "def Kdr(v):\n",
    "    aK = 0.01 * vtrap(-(v + 55),10)\n",
    "    bK = 0.125 * np.exp(-(v + 65) / 80)\n",
    "    return aK / (aK + bK)\n",
    "\n",
    "v = np.linspace(-150, 80, 1000)\n",
    "\n",
    "plt.plot(v, Na(v), label = 'Na')\n",
    "plt.plot(v, Kdr(v), label = 'Kdr')\n",
    "plt.title(\"Original activation curves\")\n",
    "plt.axvline(-54.3, color = 'black', ls = '--', label = \"E-leak\")\n",
    "plt.axhline(0.16, color = 'salmon', ls = '--')\n",
    "plt.legend()"
   ]
  },
  {
   "cell_type": "markdown",
   "metadata": {
    "id": "Kfn2h8f7PHxQ"
   },
   "source": [
    "The segregation procedure above is implemented in `ACTSegregator`. It outputs segregated activation functions together with text to update the modfiles (the text includes cutoff and extrapolation voltages and line parameters)."
   ]
  },
  {
   "cell_type": "code",
   "execution_count": null,
   "metadata": {
    "id": "ad0eT455PHxQ",
    "outputId": "d8365806-6b9f-40dd-d2ea-40a44797b049"
   },
   "outputs": [],
   "source": [
    "segregator = ACTSegregator()\n",
    "seg_Na, seg_Kdr = segregator.segregate(v, [Na(v), Kdr(v)])"
   ]
  },
  {
   "cell_type": "code",
   "execution_count": null,
   "metadata": {
    "id": "GC3_haJlPHxQ",
    "outputId": "29edee43-3204-4d81-f95e-0c2bea973b7f"
   },
   "outputs": [],
   "source": [
    "plt.plot(v, seg_Na, label = 'Na')\n",
    "plt.plot(v, seg_Kdr, label = 'Kdr')\n",
    "plt.title(\"Segregated activation curves\")\n",
    "plt.axvline(-54.3, color = 'black', ls = '--', label = \"E-leak\")\n",
    "plt.axhline(0.16, color = 'salmon', ls = '--')\n",
    "plt.legend()"
   ]
  },
  {
   "cell_type": "markdown",
   "metadata": {
    "id": "EfaqAjFGPHxR"
   },
   "source": [
    "**Step 4.** Make a copy of the original folder with simulation templates and modfiles and name it `seg`. Update the modfile with the segregator's output. Now we simulate the original and segregated cells."
   ]
  },
  {
   "cell_type": "code",
   "execution_count": null,
   "metadata": {
    "colab": {
     "base_uri": "https://localhost:8080/"
    },
    "id": "Z62P8YQTPHxR",
    "outputId": "1af4c770-433a-41df-b788-ef9920cafcbc"
   },
   "outputs": [],
   "source": [
    "orig_cell = ACTCellModel(\n",
    "    path_to_hoc_file = \"/content/ACT/data/Spiker/orig/template.hoc\",\n",
    "    path_to_modfiles = \"/content/ACT/data/Spiker/orig/modfiles\",\n",
    "    active_channels = [\"hh_spiker.gnabar\", \"hh_spiker.gkbar\"],\n",
    "    passive_properties = PassiveProperties(g_leak = \"gl\"),\n",
    "    cell_name = \"Spiker\"\n",
    ")\n",
    "\n",
    "simulator = ACTSimulator(output_folder_name = \"output\")\n",
    "simulator.submit_job(orig_cell, SimulationParameters(sim_name = \"spiker_orig\", sim_idx = 1, h_celsius = 6.3, CI = CurrentInjection(type = \"constant\", amp = 0.1)))\n",
    "simulator.run_jobs(1)"
   ]
  },
  {
   "cell_type": "code",
   "execution_count": null,
   "metadata": {
    "id": "nAYQAWklPHxR"
   },
   "outputs": [],
   "source": [
    "seg_cell = ACTCellModel(\n",
    "    path_to_hoc_file = \"/content/ACT/data/Spiker/seg/template.hoc\",\n",
    "    path_to_modfiles = \"/content/ACT/data/Spiker/seg/modfiles\",\n",
    "    active_channels = [\"hh_spiker.gnabar\", \"hh_spiker.gkbar\"],\n",
    "    passive_properties = PassiveProperties(g_leak = \"gl\"),\n",
    "    cell_name = \"Spiker\"\n",
    ")\n",
    "\n",
    "simulator.submit_job(seg_cell, SimulationParameters(sim_name = \"spiker_seg\", sim_idx = 2, h_celsius = 6.3, CI = CurrentInjection(type = \"constant\", amp = 0.1)))\n",
    "simulator.run_jobs(1)"
   ]
  },
  {
   "cell_type": "code",
   "execution_count": null,
   "metadata": {
    "colab": {
     "base_uri": "https://localhost:8080/",
     "height": 466
    },
    "id": "zhL4KzzUPHxR",
    "outputId": "57f90722-0906-495b-b141-28c0e6121f03"
   },
   "outputs": [],
   "source": [
    "orig_out = np.load(\"output/spiker_orig/out_1.npy\")\n",
    "seg_out = np.load(\"output/spiker_seg/out_2.npy\")\n",
    "\n",
    "plt.plot(orig_out[:, 0], label = \"Original\", c = 'blue')\n",
    "plt.plot(seg_out[:, 0], label = \"Segregated\", ls = '--', c = 'red')\n",
    "plt.ylabel(\"Amplitude (mV)\")\n",
    "plt.xlabel(\"Time (0.1 ms)\")\n",
    "plt.legend()"
   ]
  },
  {
   "cell_type": "markdown",
   "metadata": {
    "id": "5q-ejRzDPHxR"
   },
   "source": [
    "### BursterCa\n",
    "\n",
    "Ca-based burster.\n",
    "\n",
    "Parameters (original / segregated where changed):\n",
    "- eleak = -50\n",
    "- gbar_leak = 4e-05\n",
    "- gbar_na = 0.13 / 0.12\n",
    "- gbar_kdr = 0.1 / 0.2\n",
    "- gbar_cas = 0.01\n",
    "- gbar_ka = 0.17 / 0.11\n",
    "- gbar_cat = 0.005\n",
    "\n",
    "Modules:\n",
    "- Bursting: [gbar_cas, gbar_ka, gbar_cat], (-46.627; +inf)\n",
    "- Spiking: [gnabar, gkbar], (-34.424; +inf)"
   ]
  },
  {
   "cell_type": "code",
   "execution_count": 3,
   "metadata": {
    "colab": {
     "base_uri": "https://localhost:8080/",
     "height": 469
    },
    "id": "CLRctE2iPHxS",
    "outputId": "91e7baba-5e86-4f21-9d39-62c51fe4cb15"
   },
   "outputs": [
    {
     "data": {
      "text/plain": [
       "<matplotlib.legend.Legend at 0x172e055d0>"
      ]
     },
     "execution_count": 3,
     "metadata": {},
     "output_type": "execute_result"
    },
    {
     "data": {
      "image/png": "[encoded data removed]",
      "text/plain": [
       "<Figure size 640x480 with 1 Axes>"
      ]
     },
     "metadata": {},
     "output_type": "display_data"
    }
   ],
   "source": [
    "def Na(v):\n",
    "    return 1.0/(1.0+ (np.exp((v+25.5)/(-5.29))))\n",
    "\n",
    "def Kdr(v):\n",
    "    return 1.0/(1.0 + (np.exp((v+12.3)/(-11.8))))\n",
    "\n",
    "def KA(v):\n",
    "    return 1.0/(1.0+(np.exp((v+27.2)/(-8.7))))\n",
    "\n",
    "def CaT(v):\n",
    "    return 1.0/(1.0+ (np.exp((v+27.1)/(-7.2))))\n",
    "\n",
    "def CaS(v):\n",
    "    return (1.0)/(1+ (np.exp((v+33.0)/(-8.1))))\n",
    "\n",
    "v = np.linspace(-150, 80, 1000)\n",
    "\n",
    "for func, func_name in zip([Na, Kdr, KA, CaT, CaS], [\"Na\", \"Kdr\", \"KA\", \"CaT\", \"CaS\"]):\n",
    "    plt.plot(v, func(v), label = func_name)\n",
    "\n",
    "plt.title(\"Original activation curves\")\n",
    "plt.axvline(-50, color = 'black', ls = '--', label = \"E-leak\")\n",
    "plt.axhline(0.16, color = 'salmon', ls = '--')\n",
    "plt.legend()"
   ]
  },
  {
   "cell_type": "code",
   "execution_count": null,
   "metadata": {
    "id": "HCM4A-1VPHxS",
    "outputId": "c8458039-057e-42b7-cac6-7467b78b68bc"
   },
   "outputs": [],
   "source": [
    "segregator = ACTSegregator()\n",
    "segregated_spiking = segregator.segregate(v, [Na(v), Kdr(v)])"
   ]
  },
  {
   "cell_type": "code",
   "execution_count": null,
   "metadata": {
    "id": "ImC68haWPHxS",
    "outputId": "3fce31ad-c199-433f-af5c-a03f2e7012f4"
   },
   "outputs": [],
   "source": [
    "segregated_bursting = segregator.segregate(v, [KA(v), CaT(v), CaS(v)])"
   ]
  },
  {
   "cell_type": "code",
   "execution_count": null,
   "metadata": {
    "id": "M2yVicb3PHxS",
    "outputId": "34cd88dc-177d-40bd-a703-14cdf2bdb3d0"
   },
   "outputs": [],
   "source": [
    "for ac, ac_name in zip(segregated_spiking, [\"Na\", \"Kdr\"]):\n",
    "    plt.plot(v, ac, label = ac_name)\n",
    "for ac, ac_name in zip(segregated_bursting, [\"KA\", \"CaT\", \"CaS\"]):\n",
    "    plt.plot(v, ac, label = ac_name)\n",
    "\n",
    "plt.title(\"Segregated activation curves\")\n",
    "plt.axvline(-50, color = 'black', ls = '--', label = \"E-leak\")\n",
    "plt.axhline(0.16, color = 'salmon', ls = '--')\n",
    "plt.legend()"
   ]
  },
  {
   "cell_type": "code",
   "execution_count": null,
   "metadata": {
    "colab": {
     "base_uri": "https://localhost:8080/"
    },
    "id": "1m-RvHdvPHxS",
    "outputId": "09f8a189-f6bb-4621-817f-2b2f35370aa7"
   },
   "outputs": [],
   "source": [
    "orig_cell = ACTCellModel(\n",
    "    path_to_hoc_file = \"/content/ACT/data/BursterCa/orig/template.hoc\",\n",
    "    path_to_modfiles = \"/content/ACT/data/BursterCa/orig/modfiles\",\n",
    "    active_channels = [\"gbar_na\", \"gbar_kdr\", \"gbar_ka\", \"gbar_cat\", \"gbar_cas\"],\n",
    "    passive_properties = PassiveProperties(g_leak = \"gbar_leak\"),\n",
    "    cell_name = \"BursterCa\"\n",
    ")\n",
    "\n",
    "simulator = ACTSimulator(output_folder_name = \"output\")\n",
    "simulator.submit_job(orig_cell, SimulationParameters(sim_name = \"burster_orig\", sim_idx = 1, h_celsius = 37, CI = CurrentInjection(type = \"constant\", amp = 0.1)))\n",
    "simulator.run_jobs(1)"
   ]
  },
  {
   "cell_type": "code",
   "execution_count": null,
   "metadata": {
    "colab": {
     "base_uri": "https://localhost:8080/"
    },
    "id": "KtuXREHnPHxS",
    "outputId": "bc9df001-4a7a-40b5-c2d8-a04fb8940baf"
   },
   "outputs": [],
   "source": [
    "seg_cell = ACTCellModel(\n",
    "    path_to_hoc_file = \"/content/ACT/data/BursterCa/seg/template.hoc\",\n",
    "    path_to_modfiles = \"/content/ACT/data/BursterCa/seg/modfiles\",\n",
    "    active_channels = [\"gbar_na\", \"gbar_kdr\", \"gbar_ka\", \"gbar_cat\", \"gbar_cas\"],\n",
    "    passive_properties = PassiveProperties(g_leak = \"gbar_leak\"),\n",
    "    cell_name = \"BursterCa\"\n",
    ")\n",
    "\n",
    "simulator = ACTSimulator(output_folder_name = \"output\")\n",
    "simulator.submit_job(seg_cell, SimulationParameters(sim_name = \"burster_seg\", sim_idx = 1, h_celsius = 37, CI = CurrentInjection(type = \"constant\", amp = 0.1)))\n",
    "simulator.run_jobs(1)"
   ]
  },
  {
   "cell_type": "code",
   "execution_count": null,
   "metadata": {
    "colab": {
     "base_uri": "https://localhost:8080/",
     "height": 466
    },
    "id": "MdXZPGZlPHxS",
    "outputId": "c13770c6-72b7-45c7-af82-9eac40c5a29d"
   },
   "outputs": [],
   "source": [
    "orig_out = np.load(\"output/burster_orig/out_1.npy\")\n",
    "seg_out = np.load(\"output/burster_seg/out_1.npy\")\n",
    "\n",
    "plt.plot(orig_out[:, 0], label = \"Original\", c = 'blue')\n",
    "plt.plot(seg_out[:, 0], label = \"Segregated\", ls = '--', c = 'red')\n",
    "plt.ylabel(\"Amplitude (mV)\")\n",
    "plt.xlabel(\"Time (0.1 ms)\")\n",
    "plt.legend()"
   ]
  },
  {
   "cell_type": "markdown",
   "metadata": {},
   "source": [
    "### L5 Cell (Hay et al., 2011)\n",
    "\n",
    "Neocortical Layer 5b Pyramidal Cell.\n",
    "\n",
    "Parameters (original / segregated where changed):\n",
    "- e_pas = -90\n",
    "- g_pas = 0.0000338\n",
    "- gIhbar_Ih = 0.0002\n",
    "- gCa_LVAstbar_Ca_LVAst = 0.00343 \n",
    "- gCa_HVAbar_Ca_HVA = 0.000992 \n",
    "- gSKv3_1bar_SKv3_1 = 0.693\n",
    "- gK_Tstbar_K_Tst = 0.0812\n",
    "- gK_Pstbar_K_Pst = 0.00223\n",
    "- gNap_Et2bar_Nap_Et2 = 0.00172 \n",
    "- gNaTa_tbar_NaTa_t = 2.04\n",
    "\n",
    "Modules:\n",
    "- Passive: [gIhbar_Ih], (-inf; -60.44)\n",
    "- Bursting: [gNap_Et2bar_Nap_Et2, gCa_LVAstbar_Ca_LVAst], (-60.44; +inf)\n",
    "- Spiking: [gCa_HVAbar_Ca_HVA, gSKv3_1bar_SKv3_1, gK_Tstbar_K_Tst, gK_Pstbar_K_Pst, gNaTa_tbar_NaTa_t], (-44.324, +inf)"
   ]
  },
  {
   "cell_type": "code",
   "execution_count": null,
   "metadata": {},
   "outputs": [],
   "source": [
    "def H(v):\n",
    "    mAlpha = 0.001*6.43*(v+154.9)/(np.exp((v+154.9)/11.9)-1)\n",
    "    mBeta = 0.001*193*np.exp(v/33.1)\n",
    "    return mAlpha/(mAlpha + mBeta)\n",
    "\n",
    "def CaLVA(v):\n",
    "    v = v + 10\n",
    "    return 1.0000/(1+ np.exp((v - -30.000)/-6))\n",
    "\n",
    "def CaHVA(v):\n",
    "    mAlpha =  (0.055*(-27-v))/(np.exp((-27-v)/3.8) - 1)\n",
    "    mBeta  =  (0.94*np.exp((-75-v)/17))\n",
    "    return mAlpha/(mAlpha + mBeta)\n",
    "\n",
    "def SKv3(v): # Shaw-related potassium channel\n",
    "    return 1/(1+np.exp(((v -(18.700))/(-9.700))))\n",
    "\n",
    "def K_T(v): # Transient potassium\n",
    "    return 1/(1 + np.exp(-(v+0)/19))\n",
    "\n",
    "def K_P(v): # Persistent potassium\n",
    "    return (1/(1 + np.exp(-(v+1)/12)))\n",
    "\n",
    "def Nap(v):\n",
    "    return 1.0/(1+np.exp((v- -52.6)/-4.6))\n",
    "\n",
    "def Nat(v):\n",
    "    mAlpha = (0.182 * (v- -32))/(1-(np.exp(-(v- -32)/6)))\n",
    "    mBeta  = (0.124 * (-v -32))/(1-(np.exp(-(-v -32)/6)))\n",
    "    return mAlpha/(mAlpha + mBeta)\n",
    "\n",
    "v = np.linspace(-150, 80, 1000)\n",
    "\n",
    "for func, func_name in zip([H, CaLVA, CaHVA, SKv3, K_T, K_P, Nap, Nat], [\"H\", \"CaLVA\", \"CaHVA\", \"SKv3\", \"K_T\", \"K_P\", \"Nap\", \"Nat\"]):\n",
    "    plt.plot(v, func(v), label = func_name)\n",
    "\n",
    "plt.title(\"Original activation curves\")\n",
    "plt.axvline(-90, color = 'black', ls = '--', label = \"E-leak\")\n",
    "plt.axhline(0.16, color = 'salmon', ls = '--')\n",
    "plt.legend()"
   ]
  },
  {
   "cell_type": "code",
   "execution_count": null,
   "metadata": {},
   "outputs": [],
   "source": [
    "segregator = ACTSegregator()\n",
    "segregated_spiking = segregator.segregate(v, [CaHVA(v), SKv3(v), K_T(v), K_P(v), Nat(v)])\n",
    "segregated_bursting = segregator.segregate(v, [Nap(v), CaLVA(v)])"
   ]
  },
  {
   "cell_type": "code",
   "execution_count": null,
   "metadata": {},
   "outputs": [],
   "source": [
    "segregated_passive = segregator.segregate(v, [H(v)], p_cutoff = 0.0069, on_the_right = False)"
   ]
  },
  {
   "cell_type": "code",
   "execution_count": null,
   "metadata": {},
   "outputs": [],
   "source": [
    "for ac, ac_name in zip(segregated_passive, [\"H\"]):\n",
    "    plt.plot(v, ac, label = ac_name)\n",
    "\n",
    "for ac, ac_name in zip(segregated_spiking, [\"CaHVA\", \"SKv3\", \"K_T\", \"K_P\", \"Nat\"]):\n",
    "    plt.plot(v, ac, label = ac_name)\n",
    "\n",
    "for ac, ac_name in zip(segregated_bursting, [\"Nap\", \"CaLVA\"]):\n",
    "    plt.plot(v, ac, label = ac_name)\n",
    "\n",
    "plt.title(\"Segregated activation curves\")\n",
    "plt.axvline(-50, color = 'black', ls = '--', label = \"E-leak\")\n",
    "plt.axhline(0.16, color = 'salmon', ls = '--')\n",
    "plt.legend()"
   ]
  },
  {
   "cell_type": "code",
   "execution_count": null,
   "metadata": {},
   "outputs": [],
   "source": [
    "import sys\n",
    "sys.path.append(\"/Users/vladimiromelyusik/ACT/data/L5\")\n",
    "\n",
    "# 3D morphology builder for the L5 cell\n",
    "from cell_builder import L5cellbuilder"
   ]
  },
  {
   "cell_type": "code",
   "execution_count": null,
   "metadata": {},
   "outputs": [],
   "source": [
    "orig_cell = ACTCellModel(\n",
    "    path_to_hoc_file = \"/Users/vladimiromelyusik/ACT/data/L5/orig/L5PCtemplate.hoc\",\n",
    "    path_to_mod_files = \"/Users/vladimiromelyusik/ACT/data/L5/orig/modfiles\",\n",
    "    active_channels = [\n",
    "        \"gCa_LVAstbar_Ca_LVAst\", \n",
    "        \"gCa_HVAbar_Ca_HVA\", \n",
    "        \"gSKv3_1bar_SKv3_1\", \n",
    "        \"gK_Tstbar_K_Tst\", \n",
    "        \"gK_Pstbar_K_Pst\", \n",
    "        \"gNap_Et2bar_Nap_Et2\", \n",
    "        \"gNaTa_tbar_NaTa_t\"], # Soma-only for now\n",
    "    passive_properties = PassiveProperties(leak_conductance_variable = \"g_pas\"),\n",
    "    cell_name = \"L5PCtemplate\"\n",
    ")\n",
    "\n",
    "# Set the builder\n",
    "orig_cell.set_custom_cell_builder(L5cellbuilder)\n",
    "\n",
    "simulator = ACTSimulator(output_folder_name = \"output\")\n",
    "simulator.submit_job(orig_cell, SimulationParameters(sim_name = \"L5_orig\", sim_idx = 1, h_celsius = 37, CI = [CurrentInjection(type = \"constant\", amp = 2)]))\n",
    "simulator.run_jobs(1)"
   ]
  },
  {
   "cell_type": "code",
   "execution_count": null,
   "metadata": {},
   "outputs": [],
   "source": [
    "seg_cell = ACTCellModel(\n",
    "    path_to_hoc_file = \"/Users/vladimiromelyusik/ACT/data/L5/seg/L5PCtemplate.hoc\",\n",
    "    path_to_mod_files = \"/Users/vladimiromelyusik/ACT/data/L5/seg/modfiles\",\n",
    "    active_channels = [\n",
    "        \"gCa_LVAstbar_Ca_LVAst\", \n",
    "        \"gCa_HVAbar_Ca_HVA\", \n",
    "        \"gSKv3_1bar_SKv3_1\", \n",
    "        \"gK_Tstbar_K_Tst\", \n",
    "        \"gK_Pstbar_K_Pst\", \n",
    "        \"gNap_Et2bar_Nap_Et2\", \n",
    "        \"gNaTa_tbar_NaTa_t\"], # Soma-only for now\n",
    "    passive_properties = PassiveProperties(leak_conductance_variable = \"g_pas\"),\n",
    "    cell_name = \"L5PCtemplate\"\n",
    ")\n",
    "\n",
    "# Set the builder\n",
    "seg_cell.set_custom_cell_builder(L5cellbuilder)\n",
    "\n",
    "simulator = ACTSimulator(output_folder_name = \"output\")\n",
    "simulator.submit_job(seg_cell, SimulationParameters(sim_name = \"L5_seg\", sim_idx = 1, h_celsius = 37, CI = [CurrentInjection(type = \"constant\", amp = 2)]))\n",
    "simulator.run_jobs(1)"
   ]
  },
  {
   "cell_type": "code",
   "execution_count": null,
   "metadata": {},
   "outputs": [],
   "source": [
    "orig_out = np.load(\"output/L5_orig/out_1.npy\")\n",
    "seg_out = np.load(\"output/L5_seg/out_1.npy\")\n",
    "\n",
    "plt.plot(orig_out, label = \"Original\", c = 'blue')\n",
    "plt.plot(seg_out, label = \"Segregated\", ls = '--', c = 'red')\n",
    "plt.ylabel(\"Amplitude (mV)\")\n",
    "plt.xlabel(\"Time (0.1 ms)\")\n",
    "plt.legend()"
   ]
  },
  {
   "cell_type": "markdown",
   "metadata": {},
   "source": [
    "### LA A Cell\n",
    "\n",
    "Parameters (original / segregated where changed):\n",
    "- el_leak = -70\n",
    "- glbar_leak = 3.5e-5\n",
    "- ghdbar_hd=2.3e-05\n",
    "- gbar_na3=0.03\n",
    "- gkdrbar_kdr=0.003\n",
    "- gbar_nap= 0.0003\n",
    "- gmbar_im = 0.002\n",
    "- gkabar_kap = 0.000843\n",
    "- gcabar_cadyn = 6e-5\n",
    "- gsAHPbar_sAHP = 0.009\n",
    "\n",
    "Modules:\n",
    "- Passive: [], ()\n",
    "- Spiking: [], ()"
   ]
  },
  {
   "cell_type": "code",
   "execution_count": 5,
   "metadata": {},
   "outputs": [
    {
     "data": {
      "text/plain": [
       "<matplotlib.legend.Legend at 0x7f0f04697130>"
      ]
     },
     "execution_count": 5,
     "metadata": {},
     "output_type": "execute_result"
    },
    {
     "data": {
      "image/png": "[encoded data removed]",
      "text/plain": [
       "<Figure size 640x480 with 1 Axes>"
      ]
     },
     "metadata": {},
     "output_type": "display_data"
    }
   ],
   "source": [
    "import numpy as np\n",
    "import matplotlib.pyplot as plt\n",
    "\n",
    "def vtrap(x, y):\n",
    "    if np.any(np.abs(x / y) < 1e-6):\n",
    "        return y * (1 - x / y / 2)\n",
    "    else:\n",
    "        return x / (np.exp(x / y) - 1)\n",
    "\n",
    "#CADYN\n",
    "def cadyn_u(v):\n",
    "    return 1/(np.exp(-(v+24.6)/11.3)+1)\n",
    "\n",
    "def cadyn_z(v):\n",
    "    return 1/(np.exp((v+12.6)/18.9)+1)\n",
    "\n",
    "#H\n",
    "def h(v):\n",
    "    return 1/(1 + np.exp(-(v+81)/-8))\n",
    "\n",
    "#IM\n",
    "def im(v):\n",
    "    return 1 / ( 1 + np.exp( ( - v - 52.7 ) / 10.34 ) )\n",
    "\n",
    "#LEAK\n",
    "\n",
    "#KAP\n",
    "def kap_l(v):\n",
    "    return 1 / ( 1 + np.exp( ( - v - 56 ) / (-8.738) ) )\n",
    "\n",
    "def kap_n(v):\n",
    "    zeta=-2.5/(1+np.exp((v+40)/5))\n",
    "    alpn = np.exp(1.e-3*zeta*(v-11)*9.648e4/(8.315*(273.16+31))) \n",
    "    return 1/(1 + alpn)\n",
    "\n",
    "#KDR\n",
    "def kdr(v):\n",
    "    return 1 / ( 1 + np.exp( ( - v + 13 ) / 8.738 ) )\n",
    "\n",
    "#NA3\n",
    "def na3_m(v):\n",
    "    return 1 / ( 1 + np.exp( ( - v - 38.43 ) / 7.2 ) )\n",
    "\n",
    "def na3_h(v):\n",
    "    return 1 / ( 1 + np.exp( ( v + 50 ) / 4 ) )\n",
    "\n",
    "#NAP\n",
    "def nap(v):\n",
    "    return 1 / ( 1 + np.exp( ( - v - 48 ) / 5 ) )\n",
    "\n",
    "v = np.linspace(-150, 80, 1000)\n",
    "\n",
    "for func, func_name in zip([cadyn_u, h, im, kap_n, kdr, na3_m, nap], [\"cadyn_u\", \"h\", \"im\", \"kap_n\", \"kdr\", \"na3_m\", \"nap\"]):\n",
    "    plt.plot(v, func(v), label = func_name)\n",
    "\n",
    "plt.title(\"Original activation curves\")\n",
    "plt.axvline(-70, color = 'black', ls = '--', label = \"E-leak\")\n",
    "plt.axhline(0.16, color = 'salmon', ls = '--')\n",
    "plt.legend()\n"
   ]
  },
  {
   "cell_type": "code",
   "execution_count": 6,
   "metadata": {},
   "outputs": [
    {
     "name": "stdout",
     "output_type": "stream",
     "text": [
      "Update the modfiles with the following:\n",
      "----------\n",
      "Activation curve 0:\n",
      "\n",
      "        :Segregation\n",
      "        if (v < -48.541) {\n",
      "        replace_with_var_name = 0.097 * v + 4.895\n",
      "        }\n",
      "        if (v < -50.541) {\n",
      "        replace_with_var_name = 0\n",
      "        }\n",
      "        \n",
      "----------\n",
      "Activation curve 1:\n",
      "\n",
      "        :Segregation\n",
      "        if (v < -48.541) {\n",
      "        replace_with_var_name = 0.0 * v + 0.022\n",
      "        }\n",
      "        if (v < -50.541) {\n",
      "        replace_with_var_name = 0\n",
      "        }\n",
      "        \n",
      "Update the modfiles with the following:\n",
      "----------\n",
      "Activation curve 0:\n",
      "\n",
      "        :Segregation\n",
      "        if (v < -67.88) {\n",
      "        replace_with_var_name = 0.01 * v + 0.732\n",
      "        }\n",
      "        if (v < -69.88) {\n",
      "        replace_with_var_name = 0\n",
      "        }\n",
      "        \n",
      "----------\n",
      "Activation curve 1:\n",
      "\n",
      "        :Segregation\n",
      "        if (v < -67.88) {\n",
      "        replace_with_var_name = 0.092 * v + 6.461\n",
      "        }\n",
      "        if (v < -69.88) {\n",
      "        replace_with_var_name = 0\n",
      "        }\n",
      "        \n",
      "----------\n",
      "Activation curve 2:\n",
      "\n",
      "        :Segregation\n",
      "        if (v < -67.88) {\n",
      "        replace_with_var_name = 0.0 * v + 0.019\n",
      "        }\n",
      "        if (v < -69.88) {\n",
      "        replace_with_var_name = 0\n",
      "        }\n",
      "        \n",
      "----------\n",
      "Activation curve 3:\n",
      "\n",
      "        :Segregation\n",
      "        if (v < -67.88) {\n",
      "        replace_with_var_name = 0.009 * v + 0.624\n",
      "        }\n",
      "        if (v < -69.88) {\n",
      "        replace_with_var_name = 0\n",
      "        }\n",
      "        \n",
      "Update the modfiles with the following:\n",
      "----------\n",
      "Activation curve 0:\n",
      "\n",
      "        :Segregation\n",
      "        if (v > -71.189) {\n",
      "        replace_with_var_name = -0.112 * v + -7.727\n",
      "        }\n",
      "        if (v > -69.189) {\n",
      "        replace_with_var_name = 0\n",
      "        }\n",
      "        \n"
     ]
    }
   ],
   "source": [
    "from act.cell_model import ACTCellModel\n",
    "from act.simulator import ACTSimulator\n",
    "from act.segregation import ACTSegregator\n",
    "from act.act_types import SimulationParameters, ConstantCurrentInjection\n",
    "\n",
    "import matplotlib.pyplot as plt\n",
    "import numpy as np\n",
    "segregator = ACTSegregator()\n",
    "segregated_spiking = segregator.segregate(v, [na3_m(v), kdr(v)])\n",
    "segregated_bursting = segregator.segregate(v, [cadyn_u(v), im(v), kap_n(v), nap(v)])\n",
    "segregated_passive = segregator.segregate(v, [h(v)], p_cutoff = 0.19, on_the_right = False)"
   ]
  },
  {
   "cell_type": "code",
   "execution_count": 7,
   "metadata": {},
   "outputs": [
    {
     "data": {
      "text/plain": [
       "<matplotlib.legend.Legend at 0x7f0ee8447b50>"
      ]
     },
     "execution_count": 7,
     "metadata": {},
     "output_type": "execute_result"
    },
    {
     "data": {
      "image/png": "[encoded data removed]",
      "text/plain": [
       "<Figure size 640x480 with 1 Axes>"
      ]
     },
     "metadata": {},
     "output_type": "display_data"
    }
   ],
   "source": [
    "for ac, ac_name in zip(segregated_passive, [\"h(v)\"]):\n",
    "    plt.plot(v, ac, label = ac_name)\n",
    "\n",
    "for ac, ac_name in zip(segregated_spiking, [\"na3_m(v)\", \"kdr(v)\"]):\n",
    "    plt.plot(v, ac, label = ac_name)\n",
    "\n",
    "for ac, ac_name in zip(segregated_bursting, [\"cadyn_u(v)\", \"im(v)\", \"kap_n(v)\", \"nap(v)\"]):\n",
    "    plt.plot(v, ac, label = ac_name)\n",
    "\n",
    "plt.title(\"Segregated activation curves\")\n",
    "plt.axvline(-70, color = 'black', ls = '--', label = \"E-leak\")\n",
    "plt.axhline(0.16, color = 'salmon', ls = '--')\n",
    "plt.legend()"
   ]
  },
  {
   "cell_type": "code",
   "execution_count": 8,
   "metadata": {},
   "outputs": [
    {
     "name": "stdout",
     "output_type": "stream",
     "text": [
      "\n",
      "        ACTSimulator (2024)\n",
      "        ----------\n",
      "        When submitting multiple jobs, note that the cells must share modfiles.\n",
      "        \n"
     ]
    }
   ],
   "source": [
    "orig_cell = ACTCellModel(\n",
    "            path_to_hoc_file=\"/home/ubuntu/ACT/data/LAA/orig/template.hoc\",\n",
    "            path_to_mod_files=\"/home/ubuntu/ACT/data/LAA/orig/modfiles\",\n",
    "            cell_name=\"Cell_A\",\n",
    "            passive=[],\n",
    "            active_channels=[\"gbar_nap\",\n",
    "                            \"gmbar_im\", \n",
    "                            \"gbar_na3\",\n",
    "                            \"gkdrbar_kdr\", \n",
    "                            \"gcabar_cadyn\", \n",
    "                            \"gsAHPbar_sAHP\", \n",
    "                            \"gkabar_kap\",\n",
    "                            \"ghdbar_hd\",\n",
    "                            \"glbar_leak\"]\n",
    "            )\n",
    "\n",
    "simulator = ACTSimulator(output_folder_name = \"output\")\n",
    "simulator.submit_job(orig_cell, SimulationParameters(sim_name = \"LA_A_orig\", sim_idx = 1, h_celsius = 37, CI = [ConstantCurrentInjection(amp = 0.1)]))\n",
    "simulator.run_jobs(1)"
   ]
  },
  {
   "cell_type": "code",
   "execution_count": 9,
   "metadata": {},
   "outputs": [
    {
     "name": "stdout",
     "output_type": "stream",
     "text": [
      "\n",
      "        ACTSimulator (2024)\n",
      "        ----------\n",
      "        When submitting multiple jobs, note that the cells must share modfiles.\n",
      "        \n"
     ]
    }
   ],
   "source": [
    "seg_cell = ACTCellModel(\n",
    "            path_to_hoc_file=\"/home/ubuntu/ACT/data/LAA/seg/template.hoc\",\n",
    "            path_to_mod_files=\"/home/ubuntu/ACT/data/LAA/seg/modfiles\",\n",
    "            cell_name=\"Cell_A\",\n",
    "            passive=[],\n",
    "            active_channels=[\"gbar_nap\",\n",
    "                            \"gmbar_im\", \n",
    "                            \"gbar_na3\",\n",
    "                            \"gkdrbar_kdr\", \n",
    "                            \"gcabar_cadyn\", \n",
    "                            \"gsAHPbar_sAHP\", \n",
    "                            \"gkabar_kap\",\n",
    "                            \"ghdbar_hd\",\n",
    "                            \"glbar_leak\"]\n",
    "            )\n",
    "\n",
    "simulator = ACTSimulator(output_folder_name = \"output\")\n",
    "simulator.submit_job(orig_cell, SimulationParameters(sim_name = \"LA_A_seg\", sim_idx = 1, h_celsius = 37, CI = [ConstantCurrentInjection(amp = 0.1)]))\n",
    "simulator.run_jobs(1)"
   ]
  },
  {
   "cell_type": "code",
   "execution_count": 10,
   "metadata": {},
   "outputs": [
    {
     "data": {
      "text/plain": [
       "<matplotlib.legend.Legend at 0x7f0ee83d2a00>"
      ]
     },
     "execution_count": 10,
     "metadata": {},
     "output_type": "execute_result"
    },
    {
     "data": {
      "image/png": "[encoded data removed]",
      "text/plain": [
       "<Figure size 640x480 with 1 Axes>"
      ]
     },
     "metadata": {},
     "output_type": "display_data"
    }
   ],
   "source": [
    "orig_out = np.load(\"output/LA_A_orig/out_1.npy\")\n",
    "seg_out = np.load(\"output/LA_A_seg/out_1.npy\")\n",
    "\n",
    "plt.plot(orig_out[:, 0], label = \"Original\", c = 'blue')\n",
    "plt.plot(seg_out[:, 0], label = \"Segregated\", ls = '--', c = 'red')\n",
    "plt.ylabel(\"Amplitude (mV)\")\n",
    "plt.xlabel(\"Time (0.1 ms)\")\n",
    "plt.legend()"
   ]
  },
  {
   "cell_type": "markdown",
   "metadata": {},
   "source": [
    "### SST Cell (Allen Database)\n",
    "\n",
    "Layer 2/3 cell from mouse primary visual area.\n",
    "\n",
    "Parameters (original / segregated where changed):\n",
    "- e_pas = -79.65586853027344\n",
    "- g_pas = 0.00093621306427329868\n",
    "- gbar_Ih = 0.0017877435830761807\n",
    "- gbar_Ca_LVA = 0.0026048268426586809 \n",
    "- gbar_Ca_HVA = 0.00088146780066759075 \n",
    "- gbar_K_T = 0.007838697435023162\n",
    "- gbar_Kd = 8.9038380401279538e-11 \n",
    "- gbar_Kv2like = 0.00027257907728697739\n",
    "- gbar_Kv3_1 = 0.10521580755926842\n",
    "- gbar_Im_v2 = 2.8103810231817594e-07\n",
    "\n",
    "Modules:\n",
    "- Passive: [], ()\n",
    "- Spiking: [], ()"
   ]
  },
  {
   "cell_type": "code",
   "execution_count": null,
   "metadata": {},
   "outputs": [],
   "source": [
    "def vtrap(x, y):\n",
    "    if np.any(np.abs(x / y) < 1e-6):\n",
    "        return y * (1 - x / y / 2)\n",
    "    else:\n",
    "        return x / (np.exp(x / y) - 1)\n",
    "\n",
    "def H(v):\n",
    "    mAlpha = 0.001 * 6.43 * vtrap(v + 154.9, 11.9)\n",
    "    mBeta  =  0.001*193*np.exp(v/33.1)\n",
    "    return mAlpha/(mAlpha + mBeta)\n",
    "\n",
    "def CaLVA(v):\n",
    "    return 1.0000/(1+ np.exp((v - -30.000)/-6))\n",
    "\n",
    "def CaHVA(v):\n",
    "    mAlpha = 0.055 * vtrap(-27 - v, 3.8)\n",
    "    mBeta  =  (0.94*np.exp((-75-v)/17))\n",
    "    return mAlpha/(mAlpha + mBeta)\n",
    "\n",
    "def K_T(v): # Transient potassium\n",
    "    return 1/(1 + np.exp(-(v - (-47 + 0)) / 29))\n",
    "\n",
    "def Kd(v):\n",
    "    return 1 - 1 / (1 + np.exp((v - (-43)) / 8))\n",
    "\n",
    "def Kv2like(v):\n",
    "    mAlpha = 0.12 * vtrap( -(v - 43), 11.0)\n",
    "    mBeta = 0.02 * np.exp(-(v + 1.27) / 120)\n",
    "    return mAlpha/(mAlpha + mBeta)\n",
    "\n",
    "def Kv31(v):\n",
    "    return 1/(1+np.exp(((v -(18.700 + 0))/(-9.700))))\n",
    "\n",
    "def Imv2(v):\n",
    "    mAlpha = 3.3e-3*np.exp(2.5*0.04*(v - -35))\n",
    "    mBeta = 3.3e-3*np.exp(-2.5*0.04*(v - -35))\n",
    "    return mAlpha/(mAlpha + mBeta)\n",
    "\n",
    "v = np.linspace(-150, 80, 1000)\n",
    "\n",
    "for func, func_name in zip([H, CaLVA, CaHVA, K_T, Kd, Kv2like, Kv31, Imv2], [\"H\", \"CaLVA\", \"CaHVA\", \"K_T\", \"Kd\", \"Kv2like\", \"Kv31\", \"Imv2\"]):\n",
    "    plt.plot(v, func(v), label = func_name)\n",
    "\n",
    "plt.title(\"Original activation curves\")\n",
    "plt.axvline(-79.65586853027344, color = 'black', ls = '--', label = \"E-leak\")\n",
    "plt.axhline(0.16, color = 'salmon', ls = '--')\n",
    "plt.legend()"
   ]
  },
  {
   "cell_type": "code",
   "execution_count": null,
   "metadata": {},
   "outputs": [],
   "source": [
    "segregator = ACTSegregator()\n",
    "segregated_spiking = segregator.segregate(v, [Kv31(v)])\n",
    "segregated_bursting = segregator.segregate(v, [CaLVA(v), CaHVA(v), K_T(v), Kd(v), Kv2like(v), Imv2(v)])\n",
    "segregated_passive = segregator.segregate(v, [H(v)], p_cutoff = 0.19, on_the_right = False)"
   ]
  },
  {
   "cell_type": "code",
   "execution_count": null,
   "metadata": {},
   "outputs": [],
   "source": [
    "for ac, ac_name in zip(segregated_passive, [\"H\"]):\n",
    "    plt.plot(v, ac, label = ac_name)\n",
    "\n",
    "for ac, ac_name in zip(segregated_spiking, [\"Kv31\"]):\n",
    "    plt.plot(v, ac, label = ac_name)\n",
    "\n",
    "for ac, ac_name in zip(segregated_bursting, [\"CaLVA\", \"CaHVA\", \"K_T\", \"Kd\", \"Kv2like\", \"Imv2\"]):\n",
    "    plt.plot(v, ac, label = ac_name)\n",
    "\n",
    "plt.title(\"Segregated activation curves\")\n",
    "plt.axvline(-50, color = 'black', ls = '--', label = \"E-leak\")\n",
    "plt.axhline(0.16, color = 'salmon', ls = '--')\n",
    "plt.legend()"
   ]
  },
  {
   "cell_type": "code",
   "execution_count": null,
   "metadata": {},
   "outputs": [],
   "source": [
    "import sys\n",
    "sys.path.append(\"/Users/vladimiromelyusik/ACT/data/SST\")\n",
    "\n",
    "# 3D morphology builder for the L5 cell\n",
    "from cell_builder import SSTcellbuilder"
   ]
  },
  {
   "cell_type": "code",
   "execution_count": null,
   "metadata": {},
   "outputs": [],
   "source": [
    "orig_cell = ACTCellModel(\n",
    "    path_to_hoc_file = None,\n",
    "    path_to_mod_files = \"/Users/vladimiromelyusik/ACT/data/SST/orig/modfiles\",\n",
    "    active_channels = [\n",
    "        \"gbar_Ca_LVA\",\n",
    "        \"gbar_Ca_HVA\",\n",
    "        \"gbar_K_T\",\n",
    "        \"gbar_Kd\",\n",
    "        \"gbar_Kv2like\",\n",
    "        \"gbar_Kv3_1\",\n",
    "        \"gbar_Im_v2\"], # Soma-only for now\n",
    "    passive_properties = PassiveProperties(leak_conductance_variable = \"g_pas\"),\n",
    "    cell_name = None\n",
    ")\n",
    "\n",
    "# Set the builder\n",
    "orig_cell.set_custom_cell_builder(SSTcellbuilder)\n",
    "\n",
    "simulator = ACTSimulator(output_folder_name = \"output\")\n",
    "simulator.submit_job(orig_cell, SimulationParameters(sim_name = \"SST_orig\", sim_idx = 1, h_celsius = 37, CI = [CurrentInjection(type = \"constant\", amp = 2)]))\n",
    "simulator.run_jobs(1)"
   ]
  },
  {
   "cell_type": "code",
   "execution_count": null,
   "metadata": {},
   "outputs": [],
   "source": [
    "seg_cell = ACTCellModel(\n",
    "    path_to_hoc_file = None,\n",
    "    path_to_mod_files = \"/Users/vladimiromelyusik/ACT/data/SST/orig/modfiles\",\n",
    "    active_channels = [\n",
    "        \"gbar_Ca_LVA\",\n",
    "        \"gbar_Ca_HVA\",\n",
    "        \"gbar_K_T\",\n",
    "        \"gbar_Kd\",\n",
    "        \"gbar_Kv2like\",\n",
    "        \"gbar_Kv3_1\",\n",
    "        \"gbar_Im_v2\"], # Soma-only for now\n",
    "    passive_properties = PassiveProperties(leak_conductance_variable = \"g_pas\"),\n",
    "    cell_name = None\n",
    ")\n",
    "\n",
    "# Set the builder\n",
    "seg_cell.set_custom_cell_builder(SSTcellbuilder)\n",
    "\n",
    "simulator = ACTSimulator(output_folder_name = \"output\")\n",
    "simulator.submit_job(seg_cell, SimulationParameters(sim_name = \"SST_seg\", sim_idx = 1, h_celsius = 37, CI = [CurrentInjection(type = \"constant\", amp = 2)]))\n",
    "simulator.run_jobs(1)"
   ]
  },
  {
   "cell_type": "code",
   "execution_count": null,
   "metadata": {},
   "outputs": [],
   "source": [
    "orig_out = np.load(\"output/SST_orig/out_1.npy\")\n",
    "seg_out = np.load(\"output/SST_orig/out_1.npy\")\n",
    "\n",
    "plt.plot(orig_out, label = \"Original\", c = 'blue')\n",
    "plt.plot(seg_out, label = \"Segregated\", ls = '--', c = 'red')\n",
    "plt.ylabel(\"Amplitude (mV)\")\n",
    "plt.xlabel(\"Time (0.1 ms)\")\n",
    "plt.legend()"
   ]
  },
  {
   "cell_type": "markdown",
   "metadata": {},
   "source": []
  }
 ],
 "metadata": {
  "colab": {
   "provenance": []
  },
  "kernelspec": {
   "display_name": "simulations",
   "language": "python",
   "name": "python3"
  },
  "language_info": {
   "codemirror_mode": {
    "name": "ipython",
    "version": 3
   },
   "file_extension": ".py",
   "mimetype": "text/x-python",
   "name": "python",
   "nbconvert_exporter": "python",
   "pygments_lexer": "ipython3",
   "version": "3.10.13"
  }
 },
 "nbformat": 4,
 "nbformat_minor": 0
}
