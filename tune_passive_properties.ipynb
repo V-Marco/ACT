{
 "cells": [
  {
   "cell_type": "code",
   "execution_count": 1,
   "metadata": {},
   "outputs": [],
   "source": [
    "from act.cell_model import ACTCellModel\n",
    "from act.simulator import ACTSimulator\n",
    "from act.act_types import SimulationParameters, CurrentInjection\n",
    "from act.passive import ACTPassiveModule\n",
    "\n",
    "import matplotlib.pyplot as plt\n",
    "import numpy as np\n",
    "\n",
    "from cell_builder import SSTcellbuilder"
   ]
  },
  {
   "cell_type": "code",
   "execution_count": 2,
   "metadata": {},
   "outputs": [],
   "source": [
    "cell = ACTCellModel(\n",
    "    path_to_mod_files = \"/Users/vladimiromelyusik/ACT/SST_orig/modfiles\",\n",
    "    passive = [\"g_pas\", \"e_pas\", \"gbar_Ih\"],\n",
    "    active_channels = [\n",
    "        \"gbar_Nap\",\n",
    "        \"gbar_NaTa\",\n",
    "        \"gbar_Ca_LVA\",\n",
    "        \"gbar_Ca_HVA\",\n",
    "        \"gbar_K_T\",\n",
    "        \"gbar_Kd\",\n",
    "        \"gbar_Kv2like\",\n",
    "        \"gbar_SK\",\n",
    "        \"gbar_Kv3_1\"]\n",
    ")"
   ]
  },
  {
   "cell_type": "code",
   "execution_count": 4,
   "metadata": {},
   "outputs": [
    {
     "name": "stdout",
     "output_type": "stream",
     "text": [
      "\n",
      "        ACTSimulator (2024)\n",
      "        ----------\n",
      "        When submitting multiple jobs, note that the cells must share modfiles.\n",
      "        \n",
      "warning ./Sst-IRES-Cre_Ai14-188740.03.02.01_657210399_m.swc: more than one tree:\n",
      "  root at line 4\n",
      "  root at line 14504\n",
      "  root at line 14725\n",
      "  root at line 14798\n",
      "  root at line 15141\n",
      "  root at line 15144\n",
      "  root at line 15156\n",
      "  root at line 15211\n",
      "  root at line 15318\n",
      "  root at line 15496\n",
      "  root at line 15811\n",
      "  root at line 15857\n",
      "  root at line 15883\n",
      "  root at line 16161\n",
      "  root at line 16200\n",
      "  root at line 16210\n",
      "  root at line 16253\n",
      "  root at line 16286\n",
      "  root at line 16301\n",
      "  root at line 16326\n",
      "  root at line 16574\n",
      "  root at line 16613\n",
      "  root at line 16618\n",
      "  root at line 16645\n",
      "  root at line 16695\n",
      "  root at line 16751\n",
      "  root at line 16765\n",
      "  root at line 16768\n",
      "Soma area (cm2): 5.036323076932052e-06\n"
     ]
    }
   ],
   "source": [
    "# Block all active channels\n",
    "cell.block_channels(cell.active_channels)\n",
    "\n",
    "# Set the cell builder\n",
    "cell.set_custom_cell_builder(SSTcellbuilder)\n",
    "\n",
    "# Apply a negative current injection and get a passive trace\n",
    "simulator = ACTSimulator(output_folder_name = \"passive\")\n",
    "simulator.submit_job(\n",
    "    cell,\n",
    "    SimulationParameters(sim_name = \"simulation\", h_tstop = 1000, CI = [CurrentInjection(type = \"constant\", amp = -0.01, delay = 300)]))\n",
    "simulator.run_jobs(1)"
   ]
  },
  {
   "cell_type": "code",
   "execution_count": 5,
   "metadata": {},
   "outputs": [
    {
     "data": {
      "text/plain": [
       "Text(0.5, 1.0, 'Passive voltage with default PP')"
      ]
     },
     "execution_count": 5,
     "metadata": {},
     "output_type": "execute_result"
    },
    {
     "data": {
      "image/png": "[encoded data removed]",
      "text/plain": [
       "<Figure size 640x480 with 1 Axes>"
      ]
     },
     "metadata": {},
     "output_type": "display_data"
    }
   ],
   "source": [
    "passive_V = np.load(\"/Users/vladimiromelyusik/ACT/passive/simulation/out_0.npy\")\n",
    "\n",
    "plt.plot(passive_V[::10], c = 'blue')\n",
    "plt.ylabel(\"Amplitude (mV)\")\n",
    "plt.xlabel(\"Time (ms)\")\n",
    "plt.title(\"Passive voltage with default PP\")"
   ]
  },
  {
   "cell_type": "code",
   "execution_count": 2,
   "metadata": {},
   "outputs": [],
   "source": [
    "computed_soma_area = 5.036323076932052e-06 # (cm2)\n",
    "\n",
    "user_provided_Rin = 195.4 * 10e6 # (Ohm)\n",
    "user_provided_tau = 15.6 * 1e-3 # (s)\n",
    "user_provided_Vrest = -80 # (mV)"
   ]
  },
  {
   "cell_type": "code",
   "execution_count": 3,
   "metadata": {},
   "outputs": [
    {
     "data": {
      "text/plain": [
       "SettablePassiveProperties(Cm=1.5852087355778763, g_bar_leak=0.00010161594458832541, e_rev_leak=-80, g_bar_h=0.0017877435830761807)"
      ]
     },
     "execution_count": 3,
     "metadata": {},
     "output_type": "execute_result"
    }
   ],
   "source": [
    "spp = ACTPassiveModule.compute_spp(user_provided_Rin, computed_soma_area, user_provided_tau, user_provided_Vrest)\n",
    "spp.g_bar_h = 0.0017877435830761807\n",
    "spp"
   ]
  },
  {
   "cell_type": "code",
   "execution_count": 4,
   "metadata": {},
   "outputs": [],
   "source": [
    "cell = ACTCellModel(\n",
    "    path_to_mod_files = \"/Users/vladimiromelyusik/ACT/SST_orig/modfiles\",\n",
    "    passive = [\"g_pas\", \"e_pas\", \"gbar_Ih\"],\n",
    "    active_channels = [\n",
    "        \"gbar_Nap\",\n",
    "        \"gbar_NaTa\",\n",
    "        \"gbar_Ca_LVA\",\n",
    "        \"gbar_Ca_HVA\",\n",
    "        \"gbar_K_T\",\n",
    "        \"gbar_Kd\",\n",
    "        \"gbar_Kv2like\",\n",
    "        \"gbar_SK\",\n",
    "        \"gbar_Kv3_1\"]\n",
    ")"
   ]
  },
  {
   "cell_type": "code",
   "execution_count": 5,
   "metadata": {},
   "outputs": [
    {
     "name": "stdout",
     "output_type": "stream",
     "text": [
      "\n",
      "        ACTSimulator (2024)\n",
      "        ----------\n",
      "        When submitting multiple jobs, note that the cells must share modfiles.\n",
      "        \n",
      "warning ./Sst-IRES-Cre_Ai14-188740.03.02.01_657210399_m.swc: more than one tree:\n",
      "  root at line 4\n",
      "  root at line 14504\n",
      "  root at line 14725\n",
      "  root at line 14798\n",
      "  root at line 15141\n",
      "  root at line 15144\n",
      "  root at line 15156\n",
      "  root at line 15211\n",
      "  root at line 15318\n",
      "  root at line 15496\n",
      "  root at line 15811\n",
      "  root at line 15857\n",
      "  root at line 15883\n",
      "  root at line 16161\n",
      "  root at line 16200\n",
      "  root at line 16210\n",
      "  root at line 16253\n",
      "  root at line 16286\n",
      "  root at line 16301\n",
      "  root at line 16326\n",
      "  root at line 16574\n",
      "  root at line 16613\n",
      "  root at line 16618\n",
      "  root at line 16645\n",
      "  root at line 16695\n",
      "  root at line 16751\n",
      "  root at line 16765\n",
      "  root at line 16768\n",
      "Soma area (cm2): 5.036323076932052e-06\n"
     ]
    }
   ],
   "source": [
    "# Block all active channels\n",
    "cell.block_channels(cell.active_channels)\n",
    "\n",
    "# Set passive properties\n",
    "cell.set_passive_properties(spp)\n",
    "\n",
    "# Set the cell builder\n",
    "cell.set_custom_cell_builder(SSTcellbuilder)\n",
    "\n",
    "# Apply a negative current injection and get a passive trace\n",
    "simulator = ACTSimulator(output_folder_name = \"passive\")\n",
    "simulator.submit_job(\n",
    "    cell,\n",
    "    SimulationParameters(sim_name = \"simulation\", h_tstop = 1000, CI = [CurrentInjection(type = \"constant\", amp = -0.01, delay = 300)]))\n",
    "simulator.run_jobs(1)"
   ]
  },
  {
   "cell_type": "code",
   "execution_count": 7,
   "metadata": {},
   "outputs": [
    {
     "data": {
      "text/plain": [
       "GettablePassiveProperties(R_in=279.21594338700544, tau1=11.5, tau2=53.800000000000004, sag_ratio=0.028550330083950047)"
      ]
     },
     "execution_count": 7,
     "metadata": {},
     "output_type": "execute_result"
    }
   ],
   "source": [
    "passive_V = np.load(\"/Users/vladimiromelyusik/ACT/passive/simulation/out_0.npy\")\n",
    "gpp = ACTPassiveModule.compute_gpp(passive_V, 0.1, 300, 700, -0.01)\n",
    "gpp"
   ]
  },
  {
   "cell_type": "code",
   "execution_count": null,
   "metadata": {},
   "outputs": [],
   "source": []
  }
 ],
 "metadata": {
  "kernelspec": {
   "display_name": "simulations",
   "language": "python",
   "name": "python3"
  },
  "language_info": {
   "codemirror_mode": {
    "name": "ipython",
    "version": 3
   },
   "file_extension": ".py",
   "mimetype": "text/x-python",
   "name": "python",
   "nbconvert_exporter": "python",
   "pygments_lexer": "ipython3",
   "version": "3.10.13"
  }
 },
 "nbformat": 4,
 "nbformat_minor": 2
}
