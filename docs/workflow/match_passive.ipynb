{
 "cells": [
  {
   "cell_type": "markdown",
   "id": "a4326b90",
   "metadata": {},
   "source": [
    "# Match passive properties"
   ]
  },
  {
   "cell_type": "code",
   "execution_count": null,
   "id": "91c2c393",
   "metadata": {},
   "outputs": [],
   "source": [
    "import sys\n",
    "sys.path.append(\"../../\")\n",
    "\n",
    "import numpy as np\n",
    "\n",
    "from cell_builder import L5_seg_cell_builder\n",
    "\n",
    "from act.cell_model import ACTCellModel\n",
    "from act.simulator import ACTSimulator\n",
    "from act.types import SimulationParameters, ConstantCurrentInjection\n",
    "from act.passive import ACTPassiveModule\n",
    "from act.types import SimulationParameters, ConstantCurrentInjection"
   ]
  },
  {
   "cell_type": "markdown",
   "id": "42e1aca4",
   "metadata": {},
   "source": [
    "## Get the soma / cell area\n",
    "\n",
    "ACT asssumes soma parameters to be distributed (i.e., per unit of area). Due to that, we first run a short dummy simulation to find the soma area and the total cell area of our model."
   ]
  },
  {
   "cell_type": "code",
   "execution_count": null,
   "id": "823bb7a4",
   "metadata": {},
   "outputs": [
    {
     "name": "stdout",
     "output_type": "stream",
     "text": [
      "\n",
      "        ACTSimulator (2025)\n",
      "        ----------\n",
      "        When submitting multiple jobs, note that the cells must share modfiles.\n",
      "        \n",
      "Setting g_pas to 0.00083376 in soma\n",
      "Setting e_pas to -60.501 in soma\n",
      "Setting g_pas to 0.00928766 in axon\n",
      "Setting e_pas to -61.4849 in axon\n",
      "Setting g_pas to 0.00140526 in apic\n",
      "Setting e_pas to -80.0882 in apic\n",
      "Setting g_pas to 5.71849e-05 in dend\n",
      "Setting e_pas to -65.1148 in dend\n",
      "Setting cm to 3.56803 in soma\n",
      "Setting Ra to 131.026 in soma\n",
      "Setting cm to 6.72363 in axon\n",
      "Setting Ra to 113.282 in axon\n",
      "Setting cm to 9.89109 in apic\n",
      "Setting Ra to 80.0605 in apic\n",
      "Setting cm to 5.67721 in dend\n",
      "Setting Ra to 88.3083 in dend\n",
      "Adding mechanism K_T to soma\n",
      "Setting gbar_K_T to 0.000540302 in soma\n",
      "Adding mechanism Kd to soma\n",
      "Setting gbar_Kd to 0.000951294 in soma\n",
      "Adding mechanism Kv2like to soma\n",
      "Setting gbar_Kv2like to 0.0686615 in soma\n",
      "Adding mechanism NaTa to soma\n",
      "Setting gbar_NaTa to 0.0173416 in soma\n",
      "Adding mechanism Nap to soma\n",
      "Setting gbar_Nap to 0.0173416 in soma\n",
      "Adding mechanism SK to soma\n",
      "Setting gbar_SK to 0.00194798 in soma\n",
      "Adding mechanism Kv3_1 to soma\n",
      "Setting gbar_Kv3_1 to 0.121136 in soma\n",
      "Adding mechanism Ca_HVA to soma\n",
      "Setting gbar_Ca_HVA to 5.96866e-05 in soma\n",
      "Adding mechanism Ca_LVA to soma\n",
      "Setting gbar_Ca_LVA to 0.000644502 in soma\n",
      "Adding mechanism CaDynamics to soma\n",
      "Setting gamma_CaDynamics to 0.000501565 in soma\n",
      "Adding mechanism CaDynamics to soma\n",
      "Setting decay_CaDynamics to 540.109 in soma\n",
      "Adding mechanism Ih to soma\n",
      "Setting gbar_Ih to 7.63286e-06 in soma\n",
      "Adding mechanism NaTa to apic\n",
      "Setting gbar_NaTa to 0.0442256 in apic\n",
      "Adding mechanism Kv3_1 to apic\n",
      "Setting gbar_Kv3_1 to 0.163391 in apic\n",
      "Adding mechanism Im_v2 to apic\n",
      "Setting gbar_Im_v2 to 0.00918224 in apic\n",
      "Adding mechanism Ih to apic\n",
      "Setting gbar_Ih to 4.80108e-06 in apic\n",
      "Adding mechanism NaTa to dend\n",
      "Setting gbar_NaTa to 0.045746 in dend\n",
      "Adding mechanism Kv3_1 to dend\n",
      "Setting gbar_Kv3_1 to 0.107226 in dend\n",
      "Adding mechanism Im_v2 to dend\n",
      "Setting gbar_Im_v2 to 0.00853122 in dend\n",
      "Adding mechanism Ih to dend\n",
      "Setting gbar_Ih to 5.58119e-06 in dend\n",
      "Setting ek to -107 and ena to 53 in soma\n",
      "Setting ek to -107 and ena to 53 in axon\n",
      "Setting ek to -107 and ena to 53 in apic\n",
      "Setting ek to -107 and ena to 53 in dend\n",
      "Soma diam (um): 14.714599609375002\n",
      "Soma L (um): 14.714599609375\n",
      "Soma area (cm2): 6.802158872916739e-06\n",
      "Total area (cm2): 5.2523997815020434e-05\n"
     ]
    }
   ],
   "source": [
    "seg_cell = ACTCellModel(\n",
    "    cell_name = None,\n",
    "    path_to_hoc_file = None,\n",
    "    path_to_mod_files = \"../../data/L5/seg_tuned/modfiles/\",\n",
    "    passive = [\"g_pas\", \"e_pas\", \"gbar_Ih\"],\n",
    "    active_channels = [\"gbar_Nap\", \"gbar_K_T\", \"gbar_NaTa\", \"gbar_Kd\", \"gbar_Ca_LVA\", \"gbar_Ca_HVA\", \"gbar_Kv2like\", \"gbar_Kv3_1\"]\n",
    ")\n",
    "\n",
    "seg_cell.set_custom_cell_builder(L5_seg_cell_builder)\n",
    "\n",
    "sim_params = SimulationParameters(\n",
    "    sim_name = \"L5_seg\", \n",
    "    sim_idx = 1, \n",
    "    h_celsius = 37,\n",
    "    verbose = True, # Set verbose = True to print the area\n",
    "    CI = [ConstantCurrentInjection(amp = -0.1, dur = 200, delay = 100)])\n",
    "\n",
    "simulator = ACTSimulator(output_folder_name = \"output\")\n",
    "simulator.submit_job(\n",
    "    seg_cell,\n",
    "    sim_params\n",
    ")\n",
    "simulator.run_jobs(1)"
   ]
  },
  {
   "cell_type": "code",
   "execution_count": 579,
   "id": "f8b0c3a7",
   "metadata": {},
   "outputs": [],
   "source": [
    "computed_soma_area = 6.802158872916739e-06 # (cm2)\n",
    "computed_total_area = 5.2523997815020434e-05 # (cm2)"
   ]
  },
  {
   "cell_type": "markdown",
   "id": "765d1e70",
   "metadata": {},
   "source": [
    "## Set target passive properties"
   ]
  },
  {
   "cell_type": "code",
   "execution_count": null,
   "id": "a1e48b54",
   "metadata": {},
   "outputs": [],
   "source": [
    "target_rheobase = 190 # pA\n",
    "target_tau = 26.6 * 1e-3 # (s)\n",
    "target_R_in = 167 * 1e6 # Ohm\n",
    "target_V_rest = -71.7 # mV\n",
    "\n",
    "I = [150, 190, 230, 270, 330]\n",
    "F = [0, 7, 12, 15, 21]"
   ]
  },
  {
   "cell_type": "markdown",
   "id": "9d870284",
   "metadata": {},
   "source": [
    "## Get analytical estimates for passive properties"
   ]
  },
  {
   "cell_type": "markdown",
   "id": "bc6ae182",
   "metadata": {},
   "source": [
    "We use `ACTPassiveModule` to compute settable passive properties (i.e., those that can be directly set in the model's files) from the target passive properties. We recommend using the soma area for simplified cells and the total area for detailed cells and scaling the area (without changing the actual cell area) until a reasonable `Cm` value is obtained. E.g., below we had to scale the total area by 3 to obtain a good estimate for `Cm`."
   ]
  },
  {
   "cell_type": "code",
   "execution_count": 581,
   "id": "9732fd3e",
   "metadata": {},
   "outputs": [
    {
     "data": {
      "text/plain": [
       "SettablePassiveProperties(Cm=1.0108486517388842, g_bar_leak=3.8001829012740004e-05, e_rev_leak=-71.7, g_bar_h=None)"
      ]
     },
     "execution_count": 581,
     "metadata": {},
     "output_type": "execute_result"
    }
   ],
   "source": [
    "ACTPassiveModule.compute_spp(target_R_in, computed_total_area * 3, target_tau, target_V_rest)"
   ]
  },
  {
   "cell_type": "markdown",
   "id": "4766b6f1",
   "metadata": {},
   "source": [
    "Now we manually update the model's files with these estimates. We recommend using the same values for each compartment."
   ]
  },
  {
   "cell_type": "markdown",
   "id": "d7acce19",
   "metadata": {},
   "source": [
    "## Iteratively fine-tune passive properties"
   ]
  },
  {
   "cell_type": "markdown",
   "id": "14d50ba6",
   "metadata": {},
   "source": [
    "Finally, we simulate the updated model providing a negative current injection and comptue the gettable passive properties from the simulated passive traces. We then manually adjust `g-pas` and `Cm` until a sufficient match with the target. In the example below we multiplied `g-pas` by 4.5 since the initial input resistance was too high."
   ]
  },
  {
   "cell_type": "code",
   "execution_count": null,
   "id": "13233623",
   "metadata": {},
   "outputs": [],
   "source": [
    "# Make g-pas higher\n",
    "3.8001829012740004e-05 * 4.5"
   ]
  },
  {
   "cell_type": "code",
   "execution_count": 858,
   "id": "756c898e",
   "metadata": {},
   "outputs": [
    {
     "name": "stdout",
     "output_type": "stream",
     "text": [
      "\n",
      "        ACTSimulator (2025)\n",
      "        ----------\n",
      "        When submitting multiple jobs, note that the cells must share modfiles.\n",
      "        \n",
      "Setting g_pas to 0.000171008 in soma\n",
      "Setting e_pas to -71.7 in soma\n",
      "Setting g_pas to 0.000171008 in axon\n",
      "Setting e_pas to -71.7 in axon\n",
      "Setting g_pas to 0.000171008 in apic\n",
      "Setting e_pas to -71.7 in apic\n",
      "Setting g_pas to 0.000171008 in dend\n",
      "Setting e_pas to -71.7 in dend\n",
      "Setting cm to 1.01085 in soma\n",
      "Setting Ra to 131.026 in soma\n",
      "Setting cm to 1.01085 in axon\n",
      "Setting Ra to 113.282 in axon\n",
      "Setting cm to 1.01085 in apic\n",
      "Setting Ra to 80.0605 in apic\n",
      "Setting cm to 1.01085 in dend\n",
      "Setting Ra to 88.3083 in dend\n",
      "Adding mechanism K_T to soma\n",
      "Setting gbar_K_T to 0.000540302 in soma\n",
      "Adding mechanism Kd to soma\n",
      "Setting gbar_Kd to 0.000951294 in soma\n",
      "Adding mechanism Kv2like to soma\n",
      "Setting gbar_Kv2like to 0.0686615 in soma\n",
      "Adding mechanism NaTa to soma\n",
      "Setting gbar_NaTa to 0.0173416 in soma\n",
      "Adding mechanism Nap to soma\n",
      "Setting gbar_Nap to 0.0173416 in soma\n",
      "Adding mechanism SK to soma\n",
      "Setting gbar_SK to 0.00194798 in soma\n",
      "Adding mechanism Kv3_1 to soma\n",
      "Setting gbar_Kv3_1 to 0.121136 in soma\n",
      "Adding mechanism Ca_HVA to soma\n",
      "Setting gbar_Ca_HVA to 5.96866e-05 in soma\n",
      "Adding mechanism Ca_LVA to soma\n",
      "Setting gbar_Ca_LVA to 0.000644502 in soma\n",
      "Adding mechanism CaDynamics to soma\n",
      "Setting gamma_CaDynamics to 0.000501565 in soma\n",
      "Adding mechanism CaDynamics to soma\n",
      "Setting decay_CaDynamics to 540.109 in soma\n",
      "Adding mechanism Ih to soma\n",
      "Setting gbar_Ih to 7.63286e-06 in soma\n",
      "Adding mechanism NaTa to apic\n",
      "Setting gbar_NaTa to 0.0442256 in apic\n",
      "Adding mechanism Kv3_1 to apic\n",
      "Setting gbar_Kv3_1 to 0.163391 in apic\n",
      "Adding mechanism Im_v2 to apic\n",
      "Setting gbar_Im_v2 to 0.00918224 in apic\n",
      "Adding mechanism Ih to apic\n",
      "Setting gbar_Ih to 4.80108e-06 in apic\n",
      "Adding mechanism NaTa to dend\n",
      "Setting gbar_NaTa to 0.045746 in dend\n",
      "Adding mechanism Kv3_1 to dend\n",
      "Setting gbar_Kv3_1 to 0.107226 in dend\n",
      "Adding mechanism Im_v2 to dend\n",
      "Setting gbar_Im_v2 to 0.00853122 in dend\n",
      "Adding mechanism Ih to dend\n",
      "Setting gbar_Ih to 5.58119e-06 in dend\n",
      "Setting ek to -107 and ena to 53 in soma\n",
      "Setting ek to -107 and ena to 53 in axon\n",
      "Setting ek to -107 and ena to 53 in apic\n",
      "Setting ek to -107 and ena to 53 in dend\n"
     ]
    }
   ],
   "source": [
    "seg_cell = ACTCellModel(\n",
    "    cell_name = None,\n",
    "    path_to_hoc_file = None,\n",
    "    path_to_mod_files = \"../../data/L5/seg_tuned/modfiles/\",\n",
    "    passive = [\"g_pas\", \"e_pas\", \"gbar_Ih\"],\n",
    "    active_channels = [\"gbar_Nap\", \"gbar_K_T\", \"gbar_NaTa\", \"gbar_Kd\", \"gbar_Ca_LVA\", \"gbar_Ca_HVA\", \"gbar_Kv2like\", \"gbar_Kv3_1\"]\n",
    ")\n",
    "\n",
    "seg_cell.set_custom_cell_builder(L5_seg_cell_builder)\n",
    "\n",
    "sim_params = SimulationParameters(\n",
    "    sim_name = \"L5_seg\", \n",
    "    sim_idx = 1, \n",
    "    h_celsius = 37,\n",
    "    verbose = False,\n",
    "    h_tstop = 1000,\n",
    "    CI = [ConstantCurrentInjection(amp = -0.1, dur = 700, delay = 100)])\n",
    "\n",
    "simulator = ACTSimulator(output_folder_name = \"output\")\n",
    "simulator.submit_job(\n",
    "    seg_cell,\n",
    "    sim_params\n",
    ")\n",
    "simulator.run_jobs(1)"
   ]
  },
  {
   "cell_type": "code",
   "execution_count": 859,
   "id": "6b7106c0",
   "metadata": {},
   "outputs": [
    {
     "data": {
      "text/plain": [
       "GettablePassiveProperties(R_in=169.04155867370633, tau1=5.1000000000000005, tau2=70.10000000000001, sag_ratio=0.010980251266292403, V_rest=-71.90341766067336)"
      ]
     },
     "execution_count": 859,
     "metadata": {},
     "output_type": "execute_result"
    }
   ],
   "source": [
    "# Get PP\n",
    "passive_trace = np.load(\"output/L5_seg/out_1.npy\")[:, 0]\n",
    "seg_gpp = ACTPassiveModule.compute_gpp(passive_trace, dt = 0.1, I_t_start = 100, I_t_end = 700, I_amp = -0.1)\n",
    "seg_gpp"
   ]
  }
 ],
 "metadata": {
  "kernelspec": {
   "display_name": "simulations",
   "language": "python",
   "name": "python3"
  },
  "language_info": {
   "codemirror_mode": {
    "name": "ipython",
    "version": 3
   },
   "file_extension": ".py",
   "mimetype": "text/x-python",
   "name": "python",
   "nbconvert_exporter": "python",
   "pygments_lexer": "ipython3",
   "version": "3.10.13"
  }
 },
 "nbformat": 4,
 "nbformat_minor": 5
}
