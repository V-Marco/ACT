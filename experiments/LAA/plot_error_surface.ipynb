{
 "cells": [
  {
   "cell_type": "code",
   "execution_count": 1,
   "id": "c96c4540",
   "metadata": {},
   "outputs": [],
   "source": [
    "import numpy as np\n",
    "import matplotlib.pyplot as plt\n",
    "\n",
    "import sys\n",
    "sys.path.append(\"../../\")\n",
    "from act.cell_model import ACTCellModel\n",
    "from act.simulator import ACTSimulator\n",
    "from act.types import SimulationParameters, ConstantCurrentInjection, ConductanceOptions, FilterParameters, OptimizationParameters\n",
    "from act.data_processing import get_summary_features, combine_data"
   ]
  },
  {
   "cell_type": "code",
   "execution_count": 3,
   "id": "02b46f01",
   "metadata": {},
   "outputs": [],
   "source": [
    "# Define the cell\n",
    "cell = ACTCellModel(\n",
    "    cell_name = \"Cell_A\",\n",
    "    path_to_hoc_file = \"../../data/LAA/orig/target_template.hoc\",\n",
    "    path_to_mod_files = \"../../data/LAA/orig/modfiles/\",\n",
    "    passive = [\"glbar_leak\", \"el_leak\", \"ghdbar_hd\"],\n",
    "    active_channels = [\"gbar_na3\", \"gbar_nap\", \"gkdrbar_kdr\", \"gmbar_im\", \"gkabar_kap\", \"gcabar_cadyn\"],\n",
    ")\n",
    "\n",
    "# Nap, KM\n",
    "target_g = np.array([0.0003, 0.002])"
   ]
  },
  {
   "cell_type": "code",
   "execution_count": 4,
   "id": "68c5c95c",
   "metadata": {},
   "outputs": [],
   "source": [
    "grid_values = np.linspace(target_g - 0.5 * target_g, target_g + 0.5 * target_g, num = 40)"
   ]
  },
  {
   "cell_type": "code",
   "execution_count": 5,
   "id": "5dacd534",
   "metadata": {},
   "outputs": [
    {
     "name": "stdout",
     "output_type": "stream",
     "text": [
      "\n",
      "        ACTSimulator (2025)\n",
      "        ----------\n",
      "        When submitting multiple jobs, note that the cells must share modfiles.\n",
      "        \n"
     ]
    }
   ],
   "source": [
    "# Set simulations\n",
    "simulator = ACTSimulator(output_folder_name = \"output\")\n",
    "\n",
    "index_counter = 0\n",
    "for g_nap_value in grid_values[:, 0]:\n",
    "    for g_km_value in grid_values[:, 1]:\n",
    "            cell = ACTCellModel(\n",
    "            cell_name = \"Cell_A\",\n",
    "            path_to_hoc_file = \"../../data/LAA/orig/target_template.hoc\",\n",
    "            path_to_mod_files = \"../../data/LAA/orig/modfiles/\",\n",
    "            passive = [\"glbar_leak\", \"el_leak\", \"ghdbar_hd\"],\n",
    "            active_channels = [\"gbar_na3\", \"gbar_nap\", \"gkdrbar_kdr\", \"gmbar_im\", \"gkabar_kap\", \"gcabar_cadyn\"],\n",
    "            )\n",
    "            \n",
    "            cell.set_g_bar([\"gbar_nap\", \"gmbar_im\"], [g_nap_value, g_km_value])\n",
    "\n",
    "            sim_params = SimulationParameters(\n",
    "                sim_name = \"cell\",\n",
    "                sim_idx = index_counter,\n",
    "                h_celsius = 37,\n",
    "                h_dt = 0.1,\n",
    "                h_tstop = 1000,\n",
    "                CI = [ConstantCurrentInjection(amp = 0.5, dur = 700, delay = 100)])\n",
    "            index_counter += 1\n",
    "            \n",
    "            simulator.submit_job(cell, sim_params)"
   ]
  },
  {
   "cell_type": "code",
   "execution_count": 6,
   "id": "bc738688",
   "metadata": {},
   "outputs": [],
   "source": [
    "simulator.run_jobs(5)"
   ]
  },
  {
   "cell_type": "code",
   "execution_count": 7,
   "id": "4f297e93",
   "metadata": {},
   "outputs": [
    {
     "name": "stdout",
     "output_type": "stream",
     "text": [
      "output/cell/combined_out.npy\n"
     ]
    }
   ],
   "source": [
    "# Combine simulated traces into one dataset for convenience\n",
    "combine_data(\"output/cell\")"
   ]
  },
  {
   "cell_type": "code",
   "execution_count": 8,
   "id": "32616b6b",
   "metadata": {},
   "outputs": [],
   "source": [
    "data = np.load(\"output/cell/combined_out.npy\")\n",
    "V = data[:, :, 0][:, ::10]\n",
    "I = data[:, :, 1][:, ::10]\n",
    "g = data[:, :2, 2]"
   ]
  },
  {
   "cell_type": "code",
   "execution_count": 9,
   "id": "6928e672",
   "metadata": {},
   "outputs": [],
   "source": [
    "estimated_sf = get_summary_features(V, I, window = (100, 800))"
   ]
  },
  {
   "cell_type": "code",
   "execution_count": 10,
   "id": "d6d0e0e5",
   "metadata": {},
   "outputs": [
    {
     "name": "stdout",
     "output_type": "stream",
     "text": [
      "\n",
      "        ACTSimulator (2025)\n",
      "        ----------\n",
      "        When submitting multiple jobs, note that the cells must share modfiles.\n",
      "        \n"
     ]
    }
   ],
   "source": [
    "simulator = ACTSimulator(output_folder_name = \"output\")\n",
    "\n",
    "cell = ACTCellModel(\n",
    "        cell_name = \"Cell_A\",\n",
    "        path_to_hoc_file = \"../../data/LAA/orig/target_template.hoc\",\n",
    "        path_to_mod_files = \"../../data/LAA/orig/modfiles/\",\n",
    "        passive = [\"glbar_leak\", \"el_leak\", \"ghdbar_hd\"],\n",
    "        active_channels = [\"gbar_na3\", \"gbar_nap\", \"gkdrbar_kdr\", \"gmbar_im\", \"gkabar_kap\", \"gcabar_cadyn\"],\n",
    "        )\n",
    "\n",
    "sim_params = SimulationParameters(\n",
    "sim_name = \"cell\",\n",
    "sim_idx = 9999,\n",
    "h_celsius = 37,\n",
    "h_dt = 0.1,\n",
    "h_tstop = 1000,\n",
    "CI = [ConstantCurrentInjection(amp = 0.5, dur = 700, delay = 100)])\n",
    "\n",
    "simulator.submit_job(cell, sim_params)\n",
    "simulator.run_jobs(1)"
   ]
  },
  {
   "cell_type": "code",
   "execution_count": 11,
   "id": "84c30f13",
   "metadata": {},
   "outputs": [],
   "source": [
    "data = np.load(\"output/cell/out_9999.npy\")\n",
    "V = data[::10, 0].reshape((1, -1))\n",
    "I = data[::10, 1].reshape((1, -1))\n",
    "target_sf = get_summary_features(V, I, window = (100, 800))"
   ]
  },
  {
   "cell_type": "code",
   "execution_count": 12,
   "id": "3793cc01",
   "metadata": {},
   "outputs": [
    {
     "data": {
      "text/html": [
       "<div>\n",
       "<style scoped>\n",
       "    .dataframe tbody tr th:only-of-type {\n",
       "        vertical-align: middle;\n",
       "    }\n",
       "\n",
       "    .dataframe tbody tr th {\n",
       "        vertical-align: top;\n",
       "    }\n",
       "\n",
       "    .dataframe thead th {\n",
       "        text-align: right;\n",
       "    }\n",
       "</style>\n",
       "<table border=\"1\" class=\"dataframe\">\n",
       "  <thead>\n",
       "    <tr style=\"text-align: right;\">\n",
       "      <th></th>\n",
       "      <th>mean_v</th>\n",
       "      <th>std_v</th>\n",
       "      <th>max_ampl_v</th>\n",
       "      <th>n_spikes</th>\n",
       "      <th>spike_frequency</th>\n",
       "      <th>spike_0</th>\n",
       "      <th>spike_1</th>\n",
       "      <th>spike_2</th>\n",
       "      <th>spike_3</th>\n",
       "      <th>spike_4</th>\n",
       "      <th>...</th>\n",
       "      <th>isi_12</th>\n",
       "      <th>isi_13</th>\n",
       "      <th>isi_14</th>\n",
       "      <th>isi_15</th>\n",
       "      <th>isi_16</th>\n",
       "      <th>isi_17</th>\n",
       "      <th>isi_18</th>\n",
       "      <th>main_freq</th>\n",
       "      <th>mean_i</th>\n",
       "      <th>std_i</th>\n",
       "    </tr>\n",
       "  </thead>\n",
       "  <tbody>\n",
       "    <tr>\n",
       "      <th>0</th>\n",
       "      <td>-59.479611</td>\n",
       "      <td>9.152827</td>\n",
       "      <td>104.349618</td>\n",
       "      <td>3</td>\n",
       "      <td>4.285714</td>\n",
       "      <td>110.0</td>\n",
       "      <td>165.0</td>\n",
       "      <td>227.0</td>\n",
       "      <td>NaN</td>\n",
       "      <td>NaN</td>\n",
       "      <td>...</td>\n",
       "      <td>NaN</td>\n",
       "      <td>NaN</td>\n",
       "      <td>NaN</td>\n",
       "      <td>NaN</td>\n",
       "      <td>NaN</td>\n",
       "      <td>NaN</td>\n",
       "      <td>NaN</td>\n",
       "      <td>15.714286</td>\n",
       "      <td>0.5</td>\n",
       "      <td>0.0</td>\n",
       "    </tr>\n",
       "  </tbody>\n",
       "</table>\n",
       "<p>1 rows × 76 columns</p>\n",
       "</div>"
      ],
      "text/plain": [
       "      mean_v     std_v  max_ampl_v  n_spikes  spike_frequency  spike_0  \\\n",
       "0 -59.479611  9.152827  104.349618         3         4.285714    110.0   \n",
       "\n",
       "   spike_1  spike_2  spike_3  spike_4  ...  isi_12  isi_13  isi_14  isi_15  \\\n",
       "0    165.0    227.0      NaN      NaN  ...     NaN     NaN     NaN     NaN   \n",
       "\n",
       "   isi_16  isi_17  isi_18  main_freq  mean_i  std_i  \n",
       "0     NaN     NaN     NaN  15.714286     0.5    0.0  \n",
       "\n",
       "[1 rows x 76 columns]"
      ]
     },
     "execution_count": 12,
     "metadata": {},
     "output_type": "execute_result"
    }
   ],
   "source": [
    "target_sf"
   ]
  },
  {
   "cell_type": "code",
   "execution_count": 13,
   "id": "5de3dfb1",
   "metadata": {},
   "outputs": [
    {
     "name": "stderr",
     "output_type": "stream",
     "text": [
      "/var/folders/gs/_z8_31zd6xz_w20ny978y50w0000gn/T/ipykernel_83767/2791067539.py:3: RuntimeWarning: Mean of empty slice\n",
      "  z_mean = np.nanmean(pred, axis = 0)\n",
      "/opt/anaconda3/envs/simulations/lib/python3.10/site-packages/numpy/lib/nanfunctions.py:1879: RuntimeWarning: Degrees of freedom <= 0 for slice.\n",
      "  var = nanvar(a, axis=axis, dtype=dtype, out=out, ddof=ddof,\n"
     ]
    }
   ],
   "source": [
    "# Z-transform the features\n",
    "pred = estimated_sf.to_numpy()\n",
    "z_mean = np.nanmean(pred, axis = 0)\n",
    "z_std = np.nanstd(pred, axis = 0)\n",
    "\n",
    "z_std[z_std < 1e-10] = 1\n",
    "\n",
    "pred = (pred - z_mean) / z_std\n",
    "pred[np.abs(pred) < 1e-10] = 0\n",
    "\n",
    "# Use sample mean and std for target transformation\n",
    "targ = target_sf.to_numpy() \n",
    "targ = (targ - z_mean) / z_std\n",
    "\n",
    "mae = np.nanmean(np.abs(targ - pred), axis = 1)"
   ]
  },
  {
   "cell_type": "code",
   "execution_count": 14,
   "id": "327ed377",
   "metadata": {},
   "outputs": [
    {
     "data": {
      "image/png": "[encoded data removed]",
      "text/plain": [
       "<Figure size 640x480 with 2 Axes>"
      ]
     },
     "metadata": {},
     "output_type": "display_data"
    }
   ],
   "source": [
    "X, Y = np.meshgrid(grid_values[:, 0], grid_values[:, 1], indexing = 'ij')\n",
    "\n",
    "fig, ax = plt.subplots()\n",
    "contour = ax.contourf(X, Y, mae.reshape((grid_values.shape[0], grid_values.shape[0])), cmap = 'viridis')\n",
    "ax.scatter(target_g[0], target_g[1], marker = \"x\", color = 'red', label = \"Target\")\n",
    "\n",
    "ax.set_xlabel(r\"$\\bar{g}_{Na}$\")\n",
    "ax.set_ylabel(r\"$\\bar{g}_{K}$\")\n",
    "ax.set_title('Summary Features MAE')\n",
    "ax.legend()\n",
    "\n",
    "cbar = fig.colorbar(contour)\n",
    "cbar.set_label('MAE')"
   ]
  },
  {
   "cell_type": "code",
   "execution_count": 20,
   "id": "2e72e27e",
   "metadata": {},
   "outputs": [],
   "source": [
    "case1 = [None, None]\n",
    "case2 = [None, None]\n",
    "case3 = [None, None]\n",
    "case4 = [0.00026593176732231795, 0.0019735918921820563]"
   ]
  },
  {
   "cell_type": "code",
   "execution_count": 24,
   "id": "899a6235",
   "metadata": {},
   "outputs": [
    {
     "data": {
      "image/png": "[encoded data removed]",
      "text/plain": [
       "<Figure size 600x400 with 2 Axes>"
      ]
     },
     "metadata": {},
     "output_type": "display_data"
    }
   ],
   "source": [
    "plt.rcParams.update({\"font.size\": 16})\n",
    "\n",
    "X, Y = np.meshgrid(grid_values[:, 0], grid_values[:, 1], indexing = 'ij')\n",
    "\n",
    "fig, ax = plt.subplots(1, 1, figsize = (6, 4))\n",
    "contour = ax.contourf(X, Y, mae.reshape((grid_values.shape[0], grid_values.shape[0])), cmap = 'viridis')\n",
    "ax.scatter(target_g[0], target_g[1], marker = \"x\", s = 100, color = 'lightskyblue', label = \"Target\")\n",
    "\n",
    "for case, case_color in zip([case1, case2, case3, case4], [\"tab:red\", \"tab:orange\", \"tab:green\", \"tab:pink\"]):\n",
    "    ax.scatter(case[0], case[1], marker = \"x\", s = 100, color = case_color)\n",
    "\n",
    "ax.set_xlabel(r\"$\\bar{g}_{Nap}$\")\n",
    "ax.set_ylabel(r\"$\\bar{g}_{KM}$\")\n",
    "# ax.set_title('SFE')\n",
    "# ax.legend()\n",
    "\n",
    "cbar = fig.colorbar(contour)\n",
    "cbar.set_label('SFE')"
   ]
  },
  {
   "cell_type": "code",
   "execution_count": 25,
   "id": "c5f9fc2d",
   "metadata": {},
   "outputs": [],
   "source": [
    "fig.savefig(\"LAA_error.png\", format = 'png', bbox_inches = \"tight\", dpi = 500)"
   ]
  },
  {
   "cell_type": "code",
   "execution_count": 2,
   "id": "469cc766",
   "metadata": {},
   "outputs": [],
   "source": [
    "from act.module import ACTModule"
   ]
  },
  {
   "cell_type": "code",
   "execution_count": null,
   "id": "59b89be3",
   "metadata": {},
   "outputs": [],
   "source": [
    "cell = ACTCellModel(\n",
    "    cell_name = \"Spiker\",\n",
    "    path_to_hoc_file = \"../../data/Spiker/orig/target_template.hoc\",\n",
    "    path_to_mod_files = \"../../data/Spiker/orig/modfiles/\",\n",
    "    passive = [\"gl\", \"el\", None],\n",
    "    active_channels = [\"hh_spiker.gnabar\", \"hh_spiker.gkbar\"],\n",
    ")\n",
    "\n",
    "target_g = np.array([0.0003, 0.12, 0.036])\n",
    "\n",
    "sim_params = SimulationParameters(\n",
    "        sim_name = \"cell\",\n",
    "        sim_idx = 0,\n",
    "        h_celsius = 6.3,\n",
    "        h_dt = 0.1,\n",
    "        h_tstop = 1000)\n",
    "\n",
    "optim_params = OptimizationParameters(\n",
    "    conductance_options = [\n",
    "        ConductanceOptions(variable_name = \"hh_spiker.gnabar\", low = 0, high = 1, n_slices = 3),\n",
    "        ConductanceOptions(variable_name = \"hh_spiker.gkbar\", low = 0, high = 1, n_slices = 3),  \n",
    "    ],\n",
    "    CI_options = [\n",
    "        ConstantCurrentInjection(amp = 0.1, dur = 700, delay = 100),\n",
    "        ConstantCurrentInjection(amp = 0.5, dur = 700, delay = 100),\n",
    "        ConstantCurrentInjection(amp = 0.7, dur = 700, delay = 100)\n",
    "    ],\n",
    "    filter_parameters = FilterParameters(\n",
    "        saturation_threshold = -55,\n",
    "        window_of_inspection = (100, 800)\n",
    "    )\n",
    ")"
   ]
  },
  {
   "cell_type": "code",
   "execution_count": 4,
   "id": "cc9812da",
   "metadata": {},
   "outputs": [],
   "source": [
    "m = ACTModule(\n",
    "    name = \"orig\",\n",
    "    cell = cell,\n",
    "    simulation_parameters = sim_params,\n",
    "    optimization_parameters = optim_params,\n",
    "    target_file = \"/Users/vladimiromelyusik/ACT/experiments/Spiker/output/target/combined_out.npy\"\n",
    ")"
   ]
  },
  {
   "cell_type": "code",
   "execution_count": 5,
   "id": "cd218b50",
   "metadata": {},
   "outputs": [
    {
     "name": "stdout",
     "output_type": "stream",
     "text": [
      "Running Module 'orig'...\n",
      "----------\n",
      "Simulating train traces...\n",
      "\n",
      "        ACTSimulator (2025)\n",
      "        ----------\n",
      "        When submitting multiple jobs, note that the cells must share modfiles.\n",
      "        \n",
      "/Users/vladimiromelyusik/ACT/experiments/Spiker/module_orig/train/combined_out.npy\n",
      "Training RandomForest...\n",
      "Predicting on target data...\n",
      "\n",
      "        ACTSimulator (2025)\n",
      "        ----------\n",
      "        When submitting multiple jobs, note that the cells must share modfiles.\n",
      "        \n"
     ]
    },
    {
     "name": "stderr",
     "output_type": "stream",
     "text": [
      "/opt/anaconda3/envs/simulations/lib/python3.10/site-packages/sklearn/base.py:486: UserWarning: X has feature names, but RandomForestRegressor was fitted without feature names\n",
      "  warnings.warn(\n"
     ]
    },
    {
     "name": "stdout",
     "output_type": "stream",
     "text": [
      "/Users/vladimiromelyusik/ACT/experiments/Spiker/module_orig/eval/combined_out.npy\n",
      "Evaluating predictions...\n",
      "Predicting on target data...\n",
      "{'hh_spiker.gnabar': 0.7075, 'hh_spiker.gkbar': 0.4455}\n",
      "Done.\n"
     ]
    },
    {
     "name": "stderr",
     "output_type": "stream",
     "text": [
      "/Users/vladimiromelyusik/ACT/experiments/Spiker/../../act/metrics.py:30: RuntimeWarning: Mean of empty slice\n",
      "  z_mean = np.nanmean(sf_pred, axis = 0)\n",
      "/opt/anaconda3/envs/simulations/lib/python3.10/site-packages/numpy/lib/nanfunctions.py:1879: RuntimeWarning: Degrees of freedom <= 0 for slice.\n",
      "  var = nanvar(a, axis=axis, dtype=dtype, out=out, ddof=ddof,\n",
      "/Users/vladimiromelyusik/ACT/experiments/Spiker/../../act/metrics.py:32: RuntimeWarning: invalid value encountered in divide\n",
      "  sf_pred = (sf_pred - z_mean) / z_std\n",
      "/Users/vladimiromelyusik/ACT/experiments/Spiker/../../act/metrics.py:35: RuntimeWarning: divide by zero encountered in divide\n",
      "  sf_target = (sf_target - z_mean) / z_std\n",
      "/Users/vladimiromelyusik/ACT/experiments/Spiker/../../act/metrics.py:35: RuntimeWarning: invalid value encountered in divide\n",
      "  sf_target = (sf_target - z_mean) / z_std\n"
     ]
    },
    {
     "data": {
      "text/html": [
       "<div>\n",
       "<style scoped>\n",
       "    .dataframe tbody tr th:only-of-type {\n",
       "        vertical-align: middle;\n",
       "    }\n",
       "\n",
       "    .dataframe tbody tr th {\n",
       "        vertical-align: top;\n",
       "    }\n",
       "\n",
       "    .dataframe thead th {\n",
       "        text-align: right;\n",
       "    }\n",
       "</style>\n",
       "<table border=\"1\" class=\"dataframe\">\n",
       "  <thead>\n",
       "    <tr style=\"text-align: right;\">\n",
       "      <th></th>\n",
       "      <th>metric</th>\n",
       "      <th>value</th>\n",
       "    </tr>\n",
       "  </thead>\n",
       "  <tbody>\n",
       "    <tr>\n",
       "      <th>0</th>\n",
       "      <td>Train MAE (g)</td>\n",
       "      <td>1.728241e-01</td>\n",
       "    </tr>\n",
       "    <tr>\n",
       "      <th>1</th>\n",
       "      <td>Test SFE (g0)</td>\n",
       "      <td>1.621296e+16</td>\n",
       "    </tr>\n",
       "    <tr>\n",
       "      <th>2</th>\n",
       "      <td>Test SFE (g1)</td>\n",
       "      <td>2.738189e+16</td>\n",
       "    </tr>\n",
       "    <tr>\n",
       "      <th>3</th>\n",
       "      <td>Test SFE (g2)</td>\n",
       "      <td>1.717603e+01</td>\n",
       "    </tr>\n",
       "    <tr>\n",
       "      <th>4</th>\n",
       "      <td>Test MAE (FI)</td>\n",
       "      <td>4.033333e+00</td>\n",
       "    </tr>\n",
       "    <tr>\n",
       "      <th>5</th>\n",
       "      <td>Runtime (s)</td>\n",
       "      <td>1.151400e+01</td>\n",
       "    </tr>\n",
       "  </tbody>\n",
       "</table>\n",
       "</div>"
      ],
      "text/plain": [
       "          metric         value\n",
       "0  Train MAE (g)  1.728241e-01\n",
       "1  Test SFE (g0)  1.621296e+16\n",
       "2  Test SFE (g1)  2.738189e+16\n",
       "3  Test SFE (g2)  1.717603e+01\n",
       "4  Test MAE (FI)  4.033333e+00\n",
       "5    Runtime (s)  1.151400e+01"
      ]
     },
     "execution_count": 5,
     "metadata": {},
     "output_type": "execute_result"
    }
   ],
   "source": [
    "m.run()"
   ]
  },
  {
   "cell_type": "code",
   "execution_count": 6,
   "id": "54fa8333",
   "metadata": {},
   "outputs": [
    {
     "data": {
      "text/plain": [
       "{'hh_spiker.gnabar': 0.7075, 'hh_spiker.gkbar': 0.4455}"
      ]
     },
     "execution_count": 6,
     "metadata": {},
     "output_type": "execute_result"
    }
   ],
   "source": [
    "m.cell.prediction"
   ]
  },
  {
   "cell_type": "code",
   "execution_count": 7,
   "id": "63adbe8e",
   "metadata": {},
   "outputs": [],
   "source": [
    "optim_params2 = OptimizationParameters(\n",
    "    conductance_options = [\n",
    "        ConductanceOptions(variable_name = \"hh_spiker.gnabar\", low = 0, high = 1, n_slices = 3, bounds_variation = 0.2),  \n",
    "    ],\n",
    "    CI_options = [\n",
    "        ConstantCurrentInjection(amp = 0.1, dur = 700, delay = 100, lto_hto = 0),\n",
    "        ConstantCurrentInjection(amp = 0.5, dur = 700, delay = 100, lto_hto = 0),\n",
    "        ConstantCurrentInjection(amp = 0.7, dur = 700, delay = 100, lto_hto = 0)\n",
    "    ],\n",
    "    filter_parameters = FilterParameters(\n",
    "        saturation_threshold = -55,\n",
    "        window_of_inspection = (100, 800)\n",
    "    )\n",
    ")\n",
    "\n",
    "m2 = ACTModule(\n",
    "    name = \"orig2\",\n",
    "    cell = cell,\n",
    "    simulation_parameters = sim_params,\n",
    "    optimization_parameters = optim_params2,\n",
    "    target_file = \"/Users/vladimiromelyusik/ACT/experiments/Spiker/output/target/combined_out.npy\"\n",
    ")"
   ]
  },
  {
   "cell_type": "code",
   "execution_count": 8,
   "id": "1cf3803e",
   "metadata": {},
   "outputs": [
    {
     "name": "stdout",
     "output_type": "stream",
     "text": [
      "Running Module 'orig2'...\n",
      "----------\n",
      "Simulating train traces...\n",
      "\n",
      "        ACTSimulator (2025)\n",
      "        ----------\n",
      "        When submitting multiple jobs, note that the cells must share modfiles.\n",
      "        \n",
      "/Users/vladimiromelyusik/ACT/experiments/Spiker/module_orig2/train/combined_out.npy\n",
      "Training RandomForest...\n",
      "Predicting on target data...\n",
      "\n",
      "        ACTSimulator (2025)\n",
      "        ----------\n",
      "        When submitting multiple jobs, note that the cells must share modfiles.\n",
      "        \n"
     ]
    },
    {
     "name": "stderr",
     "output_type": "stream",
     "text": [
      "/opt/anaconda3/envs/simulations/lib/python3.10/site-packages/sklearn/base.py:486: UserWarning: X has feature names, but RandomForestRegressor was fitted without feature names\n",
      "  warnings.warn(\n"
     ]
    },
    {
     "name": "stdout",
     "output_type": "stream",
     "text": [
      "/Users/vladimiromelyusik/ACT/experiments/Spiker/module_orig2/eval/combined_out.npy\n",
      "Evaluating predictions...\n",
      "Predicting on target data...\n",
      "{'hh_spiker.gnabar': 0.6609327000000043}\n",
      "Done.\n"
     ]
    },
    {
     "name": "stderr",
     "output_type": "stream",
     "text": [
      "/Users/vladimiromelyusik/ACT/experiments/Spiker/../../act/metrics.py:32: RuntimeWarning: invalid value encountered in divide\n",
      "  sf_pred = (sf_pred - z_mean) / z_std\n",
      "/Users/vladimiromelyusik/ACT/experiments/Spiker/../../act/metrics.py:35: RuntimeWarning: divide by zero encountered in divide\n",
      "  sf_target = (sf_target - z_mean) / z_std\n"
     ]
    },
    {
     "data": {
      "text/html": [
       "<div>\n",
       "<style scoped>\n",
       "    .dataframe tbody tr th:only-of-type {\n",
       "        vertical-align: middle;\n",
       "    }\n",
       "\n",
       "    .dataframe tbody tr th {\n",
       "        vertical-align: top;\n",
       "    }\n",
       "\n",
       "    .dataframe thead th {\n",
       "        text-align: right;\n",
       "    }\n",
       "</style>\n",
       "<table border=\"1\" class=\"dataframe\">\n",
       "  <thead>\n",
       "    <tr style=\"text-align: right;\">\n",
       "      <th></th>\n",
       "      <th>metric</th>\n",
       "      <th>value</th>\n",
       "    </tr>\n",
       "  </thead>\n",
       "  <tbody>\n",
       "    <tr>\n",
       "      <th>0</th>\n",
       "      <td>Train MAE (g)</td>\n",
       "      <td>0.005852</td>\n",
       "    </tr>\n",
       "    <tr>\n",
       "      <th>1</th>\n",
       "      <td>Test SFE (g0)</td>\n",
       "      <td>268.633932</td>\n",
       "    </tr>\n",
       "    <tr>\n",
       "      <th>2</th>\n",
       "      <td>Test SFE (g1)</td>\n",
       "      <td>929.489153</td>\n",
       "    </tr>\n",
       "    <tr>\n",
       "      <th>3</th>\n",
       "      <td>Test SFE (g2)</td>\n",
       "      <td>1491.443222</td>\n",
       "    </tr>\n",
       "    <tr>\n",
       "      <th>4</th>\n",
       "      <td>Test MAE (FI)</td>\n",
       "      <td>5.000000</td>\n",
       "    </tr>\n",
       "    <tr>\n",
       "      <th>5</th>\n",
       "      <td>Runtime (s)</td>\n",
       "      <td>10.832000</td>\n",
       "    </tr>\n",
       "  </tbody>\n",
       "</table>\n",
       "</div>"
      ],
      "text/plain": [
       "          metric        value\n",
       "0  Train MAE (g)     0.005852\n",
       "1  Test SFE (g0)   268.633932\n",
       "2  Test SFE (g1)   929.489153\n",
       "3  Test SFE (g2)  1491.443222\n",
       "4  Test MAE (FI)     5.000000\n",
       "5    Runtime (s)    10.832000"
      ]
     },
     "execution_count": 8,
     "metadata": {},
     "output_type": "execute_result"
    }
   ],
   "source": [
    "m2.run()"
   ]
  },
  {
   "cell_type": "code",
   "execution_count": null,
   "id": "8e62aade",
   "metadata": {},
   "outputs": [],
   "source": []
  }
 ],
 "metadata": {
  "kernelspec": {
   "display_name": "simulations",
   "language": "python",
   "name": "python3"
  },
  "language_info": {
   "codemirror_mode": {
    "name": "ipython",
    "version": 3
   },
   "file_extension": ".py",
   "mimetype": "text/x-python",
   "name": "python",
   "nbconvert_exporter": "python",
   "pygments_lexer": "ipython3",
   "version": "3.10.13"
  }
 },
 "nbformat": 4,
 "nbformat_minor": 5
}
