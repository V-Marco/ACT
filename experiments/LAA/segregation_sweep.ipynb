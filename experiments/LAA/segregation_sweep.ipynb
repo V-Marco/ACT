{
 "cells": [
  {
   "cell_type": "code",
   "execution_count": 2,
   "id": "5a5b333b",
   "metadata": {},
   "outputs": [],
   "source": [
    "# Set the path\n",
    "import sys\n",
    "sys.path.append(\"../../\")\n",
    "\n",
    "from act.cell_model import ACTCellModel\n",
    "from act.simulator import ACTSimulator\n",
    "from act.types import SimulationParameters, ConstantCurrentInjection, RampCurrentInjection\n",
    "import act.data_processing as dp\n",
    "\n",
    "import numpy as np\n",
    "import pandas as pd\n",
    "import matplotlib.pyplot as plt\n",
    "\n",
    "from act.passive import ACTPassiveModule\n",
    "from act.segregation import ACTSegregator\n",
    "\n",
    "from sklearn.metrics import mean_absolute_error\n",
    "from act.metrics import summary_features_error\n",
    "import shutil"
   ]
  },
  {
   "cell_type": "markdown",
   "id": "1d1aba03",
   "metadata": {},
   "source": [
    "### Generate target data"
   ]
  },
  {
   "cell_type": "code",
   "execution_count": 87,
   "id": "e130f39c",
   "metadata": {},
   "outputs": [],
   "source": [
    "# Define the \"target\" cell\n",
    "target_cell = ACTCellModel(\n",
    "    cell_name = \"Cell_A\",\n",
    "    path_to_hoc_file = \"../../data/LAA/orig_cutoff_test/template.hoc\",\n",
    "    path_to_mod_files = \"../../data/LAA/orig_cutoff_test/modfiles/\",\n",
    "    passive = [\"glbar_leak\", \"el_leak\", \"ghdbar_hd\"],\n",
    "    active_channels = [\"gbar_na3\", \"gbar_nap\", \"gkdrbar_kdr\", \"gmbar_im\", \"gkabar_kap\", \"gcabar_cadyn\"],\n",
    ")"
   ]
  },
  {
   "cell_type": "code",
   "execution_count": 3,
   "id": "ecbba3c9",
   "metadata": {},
   "outputs": [
    {
     "name": "stdout",
     "output_type": "stream",
     "text": [
      "\n",
      "        ACTSimulator (2025)\n",
      "        ----------\n",
      "        When submitting multiple jobs, note that the cells must share modfiles.\n",
      "        \n"
     ]
    }
   ],
   "source": [
    "# Set simulations\n",
    "simulator = ACTSimulator(output_folder_name = \"output\")\n",
    "\n",
    "# Constant CI targets\n",
    "for amp_idx, amp in enumerate([0, 0.5, 1.0]):\n",
    "    sim_params = SimulationParameters(\n",
    "        sim_name = \"target_constant\",\n",
    "        sim_idx = amp_idx,\n",
    "        h_celsius = 37,\n",
    "        h_dt = 0.1,\n",
    "        h_tstop = 1000,\n",
    "        h_v_init = -40,\n",
    "        CI = [ConstantCurrentInjection(amp = amp, dur = 700, delay = 100)]\n",
    "        )\n",
    "\n",
    "    simulator.submit_job(target_cell, sim_params)\n",
    "\n",
    "# Ramp CI targets\n",
    "for amp_idx, num_steps in enumerate([5, 10, 15]):\n",
    "    sim_params = SimulationParameters(\n",
    "        sim_name = \"target_ramp\",\n",
    "        sim_idx = amp_idx,\n",
    "        h_celsius = 37,\n",
    "        h_dt = 0.1,\n",
    "        h_tstop = 1000,\n",
    "        h_v_init = -40,\n",
    "        CI = [RampCurrentInjection(amp_incr = 0.01, num_steps = num_steps, dur = 300, delay = 100, final_step_add_time = 400)]\n",
    "        )\n",
    "\n",
    "    simulator.submit_job(target_cell, sim_params)\n",
    "\n",
    "simulator.run_jobs(3)"
   ]
  },
  {
   "cell_type": "code",
   "execution_count": 85,
   "id": "a2e9e180",
   "metadata": {},
   "outputs": [
    {
     "data": {
      "text/plain": [
       "[<matplotlib.lines.Line2D at 0x192876290>]"
      ]
     },
     "execution_count": 85,
     "metadata": {},
     "output_type": "execute_result"
    },
    {
     "data": {
      "image/png": "[encoded data removed]",
      "text/plain": [
       "<Figure size 640x480 with 1 Axes>"
      ]
     },
     "metadata": {},
     "output_type": "display_data"
    }
   ],
   "source": [
    "passive_trace = np.load(\"output/target_constant/out_0.npy\")[:, 0]\n",
    "plt.plot(passive_trace[::10])"
   ]
  },
  {
   "cell_type": "code",
   "execution_count": 6,
   "id": "8f4fce32",
   "metadata": {},
   "outputs": [
    {
     "name": "stdout",
     "output_type": "stream",
     "text": [
      "output/target_constant/combined_out.npy\n",
      "output/target_ramp/combined_out.npy\n"
     ]
    }
   ],
   "source": [
    "dp.combine_data(\"output/target_constant\")\n",
    "dp.combine_data(\"output/target_ramp\")"
   ]
  },
  {
   "cell_type": "code",
   "execution_count": 20,
   "id": "22ffbb3c",
   "metadata": {},
   "outputs": [],
   "source": [
    "# Compute the error with respective target summary features\n",
    "summary_features_target = []\n",
    "for sf_type in [\"target_constant\", \"target_ramp\"]:\n",
    "    data = np.load(f\"output/{sf_type}/combined_out.npy\")\n",
    "    V = data[:, ::10, 0].reshape((3, -1))\n",
    "    I = data[:, ::10, 1].reshape((3, -1))\n",
    "    summary_features_target.append(dp.get_summary_features(V, I, window = (100, 800) if sf_type == \"target_constant\" else (400, 800)))\n",
    "\n",
    "summary_features_target = pd.concat(summary_features_target, axis = 0).reset_index(drop = True)"
   ]
  },
  {
   "cell_type": "code",
   "execution_count": 18,
   "id": "290211dc",
   "metadata": {},
   "outputs": [],
   "source": [
    "# LTO: NaP, KM\n",
    "\n",
    "def modify_template(passive_th, lto_th, spiking_th, bursting_th):\n",
    "    \n",
    "    passive = [\n",
    "        (\"h.mod\", 78, passive_th) # modfile, line\n",
    "    ]\n",
    "    lto = [\n",
    "        (\"nap.mod\", 65, lto_th), \n",
    "        (\"im.mod\", 73, lto_th)\n",
    "    ]\n",
    "    spiking = [\n",
    "        (\"na3.mod\", 96, spiking_th), \n",
    "        (\"kdrca1.mod\", 82, spiking_th)\n",
    "    ]\n",
    "    bursting = [\n",
    "        (\"kaprox.mod\", 110, bursting_th), \n",
    "        (\"cadyn.mod\", 57, bursting_th)\n",
    "    ]\n",
    "\n",
    "    for entry in passive + lto + spiking + bursting:\n",
    "        with open(f\"../../data/LAA/orig_cutoff_test/modfiles/{entry[0]}\", \"r\") as file:\n",
    "            mod_file = file.readlines()\n",
    "\n",
    "            sign = '>' if entry in passive else '<'\n",
    "            mod_file[entry[1]] = \"\\t\" + f\"if (v {sign} {entry[2]}) \" + \"{\\n\"\n",
    "\n",
    "        with open(f\"../../data/LAA/orig_cutoff_test/modfiles/{entry[0]}\", \"w\") as file:\n",
    "            file.writelines(mod_file)"
   ]
  },
  {
   "cell_type": "code",
   "execution_count": 62,
   "id": "07fcfb7f",
   "metadata": {},
   "outputs": [],
   "source": [
    "modify_template(-1, -1, -1, -1)"
   ]
  },
  {
   "cell_type": "markdown",
   "id": "f8f389c3",
   "metadata": {},
   "source": [
    "# Experiment"
   ]
  },
  {
   "cell_type": "code",
   "execution_count": 27,
   "id": "0f727e4c",
   "metadata": {},
   "outputs": [],
   "source": [
    "import os\n",
    "\n",
    "def run_eval_single_simulation(current_injection, summary_features_target):\n",
    "\n",
    "    print(os.getcwd())\n",
    "\n",
    "    # Define the cell\n",
    "    cell = ACTCellModel(\n",
    "        cell_name = \"Cell_A\",\n",
    "        path_to_hoc_file = \"../../data/LAA/orig_cutoff_test/template.hoc\",\n",
    "        path_to_mod_files = \"../../data/LAA/orig_cutoff_test/modfiles/\",\n",
    "        passive = [\"glbar_leak\", \"el_leak\", \"ghdbar_hd\"],\n",
    "        active_channels = [\"gbar_na3\", \"gbar_nap\", \"gkdrbar_kdr\", \"gmbar_im\", \"gkabar_kap\", \"gcabar_cadyn\"],\n",
    "    )\n",
    "\n",
    "    # Set simulations\n",
    "    simulator = ACTSimulator(output_folder_name = \"output\")\n",
    "    \n",
    "    for inj_id, inj in enumerate(current_injection):\n",
    "        sim_params = SimulationParameters(\n",
    "            sim_name = \"sim\",\n",
    "            sim_idx = inj_id,\n",
    "            h_celsius = 37,\n",
    "            h_dt = 0.1,\n",
    "            h_tstop = 1000,\n",
    "            h_v_init = -40,\n",
    "            CI = [inj])\n",
    "\n",
    "        simulator.submit_job(cell, sim_params)\n",
    "        \n",
    "    simulator.run_jobs(3)\n",
    "    dp.combine_data(\"output/sim\")\n",
    "\n",
    "    # Get summary features\n",
    "    data = np.load(f\"output/sim/combined_out.npy\")\n",
    "    V = data[:, ::10, 0].reshape((6, -1))\n",
    "    I = data[:, ::10, 1].reshape((6, -1))\n",
    "    summary_features_constant = dp.get_summary_features(V[:3], I[:3], window = (100, 800))\n",
    "    summary_features_ramp = dp.get_summary_features(V[3:], I[3:], window = (400, 800))\n",
    "    summary_features = pd.concat([summary_features_constant, summary_features_ramp], axis = 0).reset_index(drop = True)\n",
    "\n",
    "    # Clean\n",
    "    shutil.rmtree(\"output/sim\")\n",
    "\n",
    "    return np.nanmean(summary_features_error(summary_features_target.to_numpy(), summary_features.to_numpy()))"
   ]
  },
  {
   "cell_type": "code",
   "execution_count": 28,
   "id": "7f68f2ec",
   "metadata": {},
   "outputs": [],
   "source": [
    "# V-rest ~-70\n",
    "all_errors = np.zeros(\n",
    "    (\n",
    "        len(np.arange(-80, -50, 10)), # passive\n",
    "        len(np.arange(-80, -50, 10)), # LTO\n",
    "        len(np.arange(-80, 10, 20)), # Spiking\n",
    "        len(np.arange(-80, 10, 20)) # Bursting\n",
    "    )\n",
    ") * np.nan"
   ]
  },
  {
   "cell_type": "code",
   "execution_count": 29,
   "id": "2a0d5373",
   "metadata": {},
   "outputs": [
    {
     "data": {
      "text/plain": [
       "(3, 3, 5, 5)"
      ]
     },
     "execution_count": 29,
     "metadata": {},
     "output_type": "execute_result"
    }
   ],
   "source": [
    "all_errors.shape"
   ]
  },
  {
   "cell_type": "code",
   "execution_count": null,
   "id": "b116c07b",
   "metadata": {},
   "outputs": [],
   "source": [
    "for idx_1, passive_bound in enumerate(np.arange(-80, -50, 10)):\n",
    "    for idx_2, lto_bound in enumerate(np.arange(-80, -50, 10)):\n",
    "        for idx_3, spiking_bound in enumerate(np.arange(-80, 10, 20)):\n",
    "            for idx_4, bursting_bound in enumerate(np.arange(-80, 10, 20)):\n",
    "                # Set the bounds\n",
    "                modify_template(passive_th = passive_bound, lto_th = lto_bound, spiking_th = spiking_bound, bursting_th = bursting_bound)\n",
    "                \n",
    "                # Run a simulation with constant current injection\n",
    "                error = run_eval_single_simulation(\n",
    "                    [\n",
    "                        ConstantCurrentInjection(amp = 0, dur = 700, delay = 100),\n",
    "                        ConstantCurrentInjection(amp = 0.5, dur = 700, delay = 100),\n",
    "                        ConstantCurrentInjection(amp = 1.0, dur = 700, delay = 100),\n",
    "                        RampCurrentInjection(amp_incr = 0.01, num_steps = 5, dur = 300, delay = 100, final_step_add_time = 400),\n",
    "                        RampCurrentInjection(amp_incr = 0.01, num_steps = 10, dur = 300, delay = 100, final_step_add_time = 400),\n",
    "                        RampCurrentInjection(amp_incr = 0.01, num_steps = 15, dur = 300, delay = 100, final_step_add_time = 400)\n",
    "                    ],\n",
    "                    summary_features_target\n",
    "                )\n",
    "            \n",
    "                all_errors[idx_1, idx_2, idx_3, idx_4] = error\n"
   ]
  },
  {
   "cell_type": "code",
   "execution_count": 36,
   "id": "4f66750b",
   "metadata": {},
   "outputs": [
    {
     "data": {
      "text/plain": [
       "(0, 0, 1, 3)"
      ]
     },
     "execution_count": 36,
     "metadata": {},
     "output_type": "execute_result"
    }
   ],
   "source": [
    "np.unravel_index(np.argmin(all_errors), all_errors.shape)"
   ]
  },
  {
   "cell_type": "code",
   "execution_count": 3,
   "id": "5923e3d8",
   "metadata": {},
   "outputs": [],
   "source": [
    "all_errors = np.load(\"all_errors_3.npy\")"
   ]
  },
  {
   "cell_type": "code",
   "execution_count": 6,
   "id": "3a1935ee",
   "metadata": {},
   "outputs": [],
   "source": [
    "all_errors2 = np.load(\"all_errors_2.npy\")"
   ]
  },
  {
   "cell_type": "code",
   "execution_count": 13,
   "id": "e5ecef6c",
   "metadata": {},
   "outputs": [
    {
     "data": {
      "image/png": "[encoded data removed]",
      "text/plain": [
       "<Figure size 1400x1000 with 12 Axes>"
      ]
     },
     "metadata": {},
     "output_type": "display_data"
    }
   ],
   "source": [
    "fig, ax = plt.subplots(4, 4, figsize = (14, 10))\n",
    "\n",
    "ranges = {\n",
    "    \"Passive\": np.arange(-80, -50, 5),\n",
    "    \"LTO\": np.arange(-80, -50, 5),\n",
    "    \"Spiking\": np.arange(-80, 10, 5),\n",
    "    \"Bursting\": np.arange(-80, 10, 5)\n",
    "}\n",
    "\n",
    "cbars = []\n",
    "for row_idx, module_row in enumerate([\"Passive\", \"LTO\", \"Spiking\", \"Bursting\"]):\n",
    "    for col_idx, module_col in enumerate([\"Passive\", \"LTO\", \"Spiking\", \"Bursting\"]):\n",
    "\n",
    "        ca = ax[row_idx, col_idx]\n",
    "\n",
    "        drop_axes = np.arange(4)[(np.arange(4) != row_idx) & (np.arange(4) != col_idx)]\n",
    "        matrix = np.nanmedian(all_errors, axis = tuple(drop_axes))\n",
    "\n",
    "        if row_idx < col_idx:\n",
    "            im = ca.imshow(\n",
    "                matrix, \n",
    "                origin = 'lower', \n",
    "                extent = [ranges[module_col][0], ranges[module_col][-1], ranges[module_row][0], ranges[module_row][-1]],\n",
    "                aspect = 'auto'\n",
    "                )\n",
    "\n",
    "            ca.set_ylabel(module_row, fontweight = 'bold')\n",
    "            ca.set_xlabel(module_col, fontweight = 'bold')\n",
    "\n",
    "            # ca.set_xticks(np.arange(len(ranges[module_col])))\n",
    "            # ca.set_yticks(np.arange(len(ranges[module_row])))\n",
    "\n",
    "            # ca.set_xticklabels(ranges[module_col])\n",
    "            # ca.set_yticklabels(ranges[module_row])\n",
    "\n",
    "            cbar = fig.colorbar(im, shrink = 0.5)\n",
    "            cbar.ax.set_ylabel(\"Avg. SFE\")\n",
    "            if col_idx == 3:\n",
    "                cbars.append(cbar.ax)\n",
    "\n",
    "            # eleak_pos_x = np.arange(len(ranges[module_col]))[np.argmin(np.abs(ranges[module_col] - -70))]\n",
    "            # eleak_pos_y = np.arange(len(ranges[module_row]))[np.argmin(np.abs(ranges[module_row] - -70))]\n",
    "            ca.axhline(-71, color = \"white\", ls = '--')\n",
    "            ca.axvline(-71, color = \"white\", ls = '--')\n",
    "        else:\n",
    "            fig.delaxes(ca)\n",
    "\n",
    "\n",
    "plt.subplots_adjust(wspace = 0.6, hspace = 0.5)\n",
    "fig.align_ylabels(cbars)"
   ]
  },
  {
   "cell_type": "code",
   "execution_count": 14,
   "id": "63dba3bf",
   "metadata": {},
   "outputs": [],
   "source": [
    "fig.savefig(\"LAA-segregation_sweeps_high_res_v2.png\", bbox_inches = \"tight\", dpi = 500, format = \"png\")"
   ]
  },
  {
   "cell_type": "code",
   "execution_count": null,
   "id": "2ea6ca0d",
   "metadata": {},
   "outputs": [],
   "source": [
    "fig, ax = plt.subplots(2, 3, figsize = (14, 10))\n",
    "\n",
    "ranges = {\n",
    "    \"Passive\": np.arange(-80, -50, 5),\n",
    "    \"LTO\": np.arange(-80, -50, 5),\n",
    "    \"Spiking\": np.arange(-80, 10, 5),\n",
    "    \"Bursting\": np.arange(-80, 10, 5)\n",
    "}\n",
    "\n",
    "cbars = []\n",
    "for row_idx, module_row in enumerate([\"Passive\", \"LTO\", \"Spiking\", \"Bursting\"]):\n",
    "    for col_idx, module_col in enumerate([\"Passive\", \"LTO\", \"Spiking\", \"Bursting\"]):\n",
    "\n",
    "        ca = ax[row_idx, col_idx]\n",
    "\n",
    "        drop_axes = np.arange(4)[(np.arange(4) != row_idx) & (np.arange(4) != col_idx)]\n",
    "        matrix = np.nanmedian(all_errors, axis = tuple(drop_axes))\n",
    "\n",
    "        if row_idx < col_idx:\n",
    "            im = ca.imshow(\n",
    "                matrix, \n",
    "                origin = 'lower', \n",
    "                extent = [ranges[module_col][0], ranges[module_col][-1], ranges[module_row][0], ranges[module_row][-1]],\n",
    "                aspect = 'auto'\n",
    "                )\n",
    "\n",
    "            # ca.set_ylabel(module_row)\n",
    "            # ca.set_xlabel(module_col)\n",
    "\n",
    "            # ca.set_xticks(np.arange(len(ranges[module_col])))\n",
    "            # ca.set_yticks(np.arange(len(ranges[module_row])))\n",
    "\n",
    "            # ca.set_xticklabels(ranges[module_col])\n",
    "            # ca.set_yticklabels(ranges[module_row])\n",
    "\n",
    "            cbar = fig.colorbar(im, shrink = 0.5)\n",
    "            cbar.ax.set_ylabel(\"Avg. SFE\")\n",
    "            if col_idx == 3:\n",
    "                cbars.append(cbar.ax)\n",
    "\n",
    "            # eleak_pos_x = np.arange(len(ranges[module_col]))[np.argmin(np.abs(ranges[module_col] - -70))]\n",
    "            # eleak_pos_y = np.arange(len(ranges[module_row]))[np.argmin(np.abs(ranges[module_row] - -70))]\n",
    "            ca.axhline(-71, color = \"white\", ls = '--')\n",
    "            ca.axvline(-71, color = \"white\", ls = '--')\n",
    "        else:\n",
    "            fig.delaxes(ca)\n",
    "\n",
    "\n",
    "plt.subplots_adjust(wspace = 0.6, hspace = 0.5)\n",
    "fig.align_ylabels(cbars)"
   ]
  }
 ],
 "metadata": {
  "kernelspec": {
   "display_name": "simulations",
   "language": "python",
   "name": "python3"
  },
  "language_info": {
   "codemirror_mode": {
    "name": "ipython",
    "version": 3
   },
   "file_extension": ".py",
   "mimetype": "text/x-python",
   "name": "python",
   "nbconvert_exporter": "python",
   "pygments_lexer": "ipython3",
   "version": "3.10.13"
  }
 },
 "nbformat": 4,
 "nbformat_minor": 5
}
