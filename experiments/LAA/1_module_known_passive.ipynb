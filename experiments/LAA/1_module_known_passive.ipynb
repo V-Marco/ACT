{
 "cells": [
  {
   "cell_type": "markdown",
   "metadata": {},
   "source": [
    "# LAA"
   ]
  },
  {
   "cell_type": "code",
   "execution_count": null,
   "metadata": {},
   "outputs": [],
   "source": [
    "# Set the path\n",
    "import sys\n",
    "sys.path.append(\"../../\")\n",
    "\n",
    "from act.cell_model import ACTCellModel\n",
    "from act.simulator import ACTSimulator\n",
    "from act.types import SimulationParameters, ConstantCurrentInjection, FilterParameters, ConductanceOptions, OptimizationParameters\n",
    "import act.data_processing as dp\n",
    "from act.module import ACTModule\n",
    "\n",
    "import numpy as np\n",
    "import matplotlib.pyplot as plt\n",
    "\n",
    "from act.passive import ACTPassiveModule\n",
    "from act.segregation import ACTSegregator\n",
    "\n",
    "from sklearn.metrics import mean_absolute_error\n",
    "from act.metrics import pp_error"
   ]
  },
  {
   "cell_type": "markdown",
   "metadata": {},
   "source": [
    "## 1. Set the \"target\" model and simulate from it\n",
    "\n",
    "The \"target\" model's output represents the target bio data provided by the user to tune for.\n",
    "\n",
    "Parameters:\n",
    "..."
   ]
  },
  {
   "cell_type": "code",
   "execution_count": null,
   "metadata": {},
   "outputs": [],
   "source": [
    "target_cell = ACTCellModel(\n",
    "    path_to_hoc_file=\"/home/ubuntu/ACT/data/LAA/orig/target_template.hoc\",\n",
    "    path_to_mod_files=\"/home/ubuntu/ACT/data/LAA/orig/modfiles\",\n",
    "    cell_name=\"Cell_A\",\n",
    "    passive=[\"ghdbar_hd\",\"glbar_leak\"],\n",
    "    active_channels=[\"gbar_nap\",\n",
    "                     \"gmbar_im\", \n",
    "                     \"gbar_na3\",\n",
    "                     \"gkdrbar_kdr\", \n",
    "                     \"gcabar_cadyn\", \n",
    "                     \"gsAHPbar_sAHP\", \n",
    "                     \"gkabar_kap\"]\n",
    ")"
   ]
  },
  {
   "cell_type": "code",
   "execution_count": null,
   "metadata": {},
   "outputs": [],
   "source": [
    "target_g = np.array([0.0003, 0.002, 0.03, 0.003, 6e-5, 0.009, 0.000843])"
   ]
  },
  {
   "cell_type": "markdown",
   "metadata": {},
   "source": [
    "### 1.1. Target passive properties"
   ]
  },
  {
   "cell_type": "code",
   "execution_count": null,
   "metadata": {},
   "outputs": [],
   "source": [
    "# Set simulations\n",
    "simulator = ACTSimulator(output_folder_name = \"output\")\n",
    "\n",
    "sim_params = SimulationParameters(\n",
    "    sim_name = \"target\",\n",
    "    sim_idx = 0,\n",
    "    h_v_init=-70,\n",
    "    h_celsius = 6.3,\n",
    "    h_dt = 0.1,\n",
    "    h_tstop = 1000,\n",
    "    CI = [ConstantCurrentInjection(amp = -0.2, dur = 700, delay = 100)])\n",
    "\n",
    "simulator.submit_job(target_cell, sim_params)\n",
    "simulator.run_jobs(1)"
   ]
  },
  {
   "cell_type": "code",
   "execution_count": null,
   "metadata": {},
   "outputs": [],
   "source": [
    "passive_trace = np.load(\"output/target/out_0.npy\")[:, 0]\n",
    "plt.plot(passive_trace[::10])"
   ]
  },
  {
   "cell_type": "code",
   "execution_count": null,
   "metadata": {},
   "outputs": [],
   "source": [
    "target_gpp = ACTPassiveModule.compute_gpp(passive_trace, 0.1, 100, 700, -0.2)\n",
    "target_gpp"
   ]
  },
  {
   "cell_type": "markdown",
   "metadata": {},
   "source": [
    "### 1.2. Target FI curve"
   ]
  },
  {
   "cell_type": "code",
   "execution_count": null,
   "metadata": {},
   "outputs": [],
   "source": [
    "# Set simulations\n",
    "simulator = ACTSimulator(output_folder_name = \"output\")\n",
    "\n",
    "for sim_idx, amp_value in enumerate([0.0, 0.02, 0.03, 0.04, 0.05, 0.06, 0.1, 0.3, 0.5, 0.7, 1.0, 3.0, 5.0, 7.0, 9.0]):\n",
    "    sim_params = SimulationParameters(\n",
    "        sim_name = \"target\",\n",
    "        sim_idx = sim_idx,\n",
    "        h_v_init=-70,\n",
    "        h_celsius = 6.3,\n",
    "        h_dt = 0.1,\n",
    "        h_tstop = 1000,\n",
    "        CI = [ConstantCurrentInjection(amp = amp_value, dur = 700, delay = 100)])\n",
    "\n",
    "    simulator.submit_job(target_cell, sim_params)\n",
    "\n",
    "simulator.run_jobs(3)\n",
    "\n",
    "# Combine simulated traces into one dataset for convenience\n",
    "dp.combine_data(\"output/target\")"
   ]
  },
  {
   "cell_type": "code",
   "execution_count": null,
   "metadata": {},
   "outputs": [],
   "source": [
    "# Plot the traces and the FI curve\n",
    "simulated_data = np.load(\"output/target/combined_out.npy\") # 3 x 10000 x 4; (n_sim x time x [V, I, g, lto_hto])\n",
    "\n",
    "fig, ax = plt.subplots(5, 3, figsize = (10, 12))\n",
    "ax = ax.flatten()\n",
    "\n",
    "for axid, amp in enumerate([0.0, 0.02, 0.03, 0.04, 0.05, 0.06, 0.1, 0.3, 0.5, 0.7, 1.0, 3.0, 5.0, 7.0, 9.0]):\n",
    "    ax[axid].plot(simulated_data[axid, ::10, 0])\n",
    "    ax[axid].set_xlabel(\"Time (ms)\")\n",
    "    ax[axid].set_title(f\"CI = {amp} nA\")\n",
    "\n",
    "ax[0].set_ylabel(\"Voltage (mV)\")\n",
    "\n",
    "plt.tight_layout()\n",
    "plt.show()"
   ]
  },
  {
   "cell_type": "code",
   "execution_count": null,
   "metadata": {},
   "outputs": [],
   "source": [
    "simulated_data = np.load(\"output/target/combined_out.npy\")\n",
    "\n",
    "f = []\n",
    "for trace_id in range(len(simulated_data)):\n",
    "    f.append(len(dp.find_events(simulated_data[trace_id, ::10, 0].flatten())))\n",
    "\n",
    "plt.plot([0.0, 0.02, 0.03, 0.04, 0.05, 0.06, 0.1, 0.3, 0.5, 0.7, 1.0, 3.0, 5.0, 7.0, 9.0], f)\n",
    "plt.xlabel(\"CI (nA)\")\n",
    "plt.ylabel(\"Frequency (Hz)\")\n",
    "plt.title(\"FI Curve\")"
   ]
  },
  {
   "cell_type": "markdown",
   "metadata": {},
   "source": [
    "## 2. Original pipeline - optimize passive and active channels together"
   ]
  },
  {
   "cell_type": "markdown",
   "metadata": {},
   "source": [
    "### 2.1. Set the train cell \n",
    "\n",
    "We assume the train cell was acquired from an external source, e.g., AllenDB. Thus, its parameters do not necesserily match those of the target cell. Here we set these parameters to the target's values +- 10% std."
   ]
  },
  {
   "cell_type": "code",
   "execution_count": null,
   "metadata": {},
   "outputs": [],
   "source": [
    "random_state = np.random.RandomState(123)\n",
    "target_values = np.array([2.5, 0.0003, 0.002, 0.03, 0.003, 6e-5, 0.009, 0.000843, 2.3e-05, 3.5e-5, -70]) \n",
    "\n",
    "#Cm, gbar_nap, gmbar_im, gbar_na3, gkdrbar_kdr, gcabar_cadyn, gsAHPbar_sAHP, gkabar_kap, ghdbar_hd, glbar_leak, el_leak\n",
    "\n",
    "target_values = target_values + random_state.normal(0, np.abs(target_values * 0.1))\n",
    "target_values"
   ]
  },
  {
   "cell_type": "markdown",
   "metadata": {},
   "source": [
    "Train cell (updated in template.hoc):\n",
    "\n",
    "- cm = 2.2286\n",
    "- gbar_nap = 3.299204e-4 (S/cm2)\n",
    "- gmbar_im = 2.056596e-3 (S/cm2)\n",
    "- gbar_na3 =2.548112e-2 (S/cm2)\n",
    "- gkdrbar_kdr = 2.82642e-3 (S/cm2)\n",
    "- gcabar_cadyn =6.99086e-5 (S/cm2)\n",
    "- gsAHPbar_sAHP = 6.81599e-3 (S/cm2)\n",
    "- gkabar_kap = 8.068427e-4 (S/cm2)\n",
    "- ghdbar_hd = 2.591165e-5 (S/cm2)\n",
    "- glbar_leak = 3.196641e-5 (S/cm2)\n",
    "- el_leak = -74.752 (mV)"
   ]
  },
  {
   "cell_type": "code",
   "execution_count": null,
   "metadata": {},
   "outputs": [],
   "source": [
    "# Define the train cell\n",
    "train_cell = ACTCellModel(\n",
    "    path_to_hoc_file=\"/home/ubuntu/ACT/data/LAA/orig/template_known_passive.hoc\",\n",
    "    path_to_mod_files=\"/home/ubuntu/ACT/data/LAA/orig/modfiles\",\n",
    "    cell_name=\"Cell_A\",\n",
    "    passive=[\"ghdbar_hd\",\"glbar_leak\"],\n",
    "    active_channels=[\"gbar_nap\",\n",
    "                     \"gmbar_im\", \n",
    "                     \"gbar_na3\",\n",
    "                     \"gkdrbar_kdr\", \n",
    "                     \"gcabar_cadyn\", \n",
    "                     \"gsAHPbar_sAHP\", \n",
    "                     \"gkabar_kap\"]\n",
    ")"
   ]
  },
  {
   "cell_type": "markdown",
   "metadata": {},
   "source": [
    "### 2.2. Passive properties before tuning"
   ]
  },
  {
   "cell_type": "code",
   "execution_count": null,
   "metadata": {},
   "outputs": [],
   "source": [
    "# Set simulations\n",
    "simulator = ACTSimulator(output_folder_name = \"output\")\n",
    "\n",
    "sim_params = SimulationParameters(\n",
    "    sim_name = \"orig_known_passive\",\n",
    "    sim_idx = 0,\n",
    "    h_v_init=-70,\n",
    "    h_celsius = 6.3,\n",
    "    h_dt = 0.1,\n",
    "    h_tstop = 1000,\n",
    "    CI = [ConstantCurrentInjection(amp = -0.2, dur = 700, delay = 100)])\n",
    "\n",
    "simulator.submit_job(train_cell, sim_params)\n",
    "simulator.run_jobs(1)\n",
    "\n",
    "passive_trace = np.load(\"output/orig_known_passive/out_0.npy\")[:, 0]\n",
    "ACTPassiveModule.compute_gpp(passive_trace, 0.1, 100, 700, -0.2)"
   ]
  },
  {
   "cell_type": "markdown",
   "metadata": {},
   "source": [
    "### 2.3. FI curve before tuning"
   ]
  },
  {
   "cell_type": "code",
   "execution_count": null,
   "metadata": {},
   "outputs": [],
   "source": [
    "# Set simulations\n",
    "simulator = ACTSimulator(output_folder_name = \"output\")\n",
    "\n",
    "for sim_idx, amp_value in enumerate([0.0, 0.02, 0.03, 0.04, 0.05, 0.06, 0.1, 0.3, 0.5, 0.7, 1.0, 3.0, 5.0, 7.0, 9.0]):\n",
    "    sim_params = SimulationParameters(\n",
    "        sim_name = \"orig_known_passive\",\n",
    "        sim_idx = sim_idx,\n",
    "        h_v_init=-70,\n",
    "        h_celsius = 6.3,\n",
    "        h_dt = 0.1,\n",
    "        h_tstop = 1000,\n",
    "        CI = [ConstantCurrentInjection(amp = amp_value, dur = 700, delay = 100)])\n",
    "\n",
    "    simulator.submit_job(train_cell, sim_params)\n",
    "\n",
    "simulator.run_jobs(3)\n",
    "\n",
    "# Combine simulated traces into one dataset for convenience\n",
    "dp.combine_data(\"output/orig_known_passive\")"
   ]
  },
  {
   "cell_type": "code",
   "execution_count": null,
   "metadata": {},
   "outputs": [],
   "source": [
    "simulated_data = np.load(\"output/orig_known_passive/combined_out.npy\")\n",
    "\n",
    "f = []\n",
    "for trace_id in range(len(simulated_data)):\n",
    "    f.append(len(dp.find_events(simulated_data[trace_id, ::10, 0].flatten())))\n",
    "\n",
    "plt.plot([0.0, 0.02, 0.03, 0.04, 0.05, 0.06, 0.1, 0.3, 0.5, 0.7, 1.0, 3.0, 5.0, 7.0, 9.0], f)\n",
    "plt.xlabel(\"CI (nA)\")\n",
    "plt.ylabel(\"Frequency (Hz)\")\n",
    "plt.title(\"FI Curve\")"
   ]
  },
  {
   "cell_type": "markdown",
   "metadata": {},
   "source": [
    "### 2.4 Optimize"
   ]
  },
  {
   "cell_type": "code",
   "execution_count": null,
   "metadata": {},
   "outputs": [],
   "source": [
    "# Parameter ranges as if provided by the user\n",
    "gbar_nap = 3.299204e-4\n",
    "gmbar_im = 2.056596e-3 \n",
    "gbar_na3 =2.548112e-2\n",
    "gkdrbar_kdr = 2.82642e-3 \n",
    "gcabar_cadyn =6.99086e-5 \n",
    "gsAHPbar_sAHP = 6.81599e-3 \n",
    "gkabar_kap = 8.068427e-4 \n",
    "\n",
    "\n",
    "random_state = np.random.RandomState(123)\n",
    "\n",
    "gbar_nap_range = (gbar_nap - random_state.uniform(0, gbar_nap / 2), gbar_nap + random_state.uniform(0, gbar_nap / 2))\n",
    "gmbar_im_range = (gmbar_im - random_state.uniform(0, gmbar_im / 2), gmbar_im + random_state.uniform(0, gmbar_im / 2))\n",
    "gbar_na3_range = (gbar_na3 - random_state.uniform(0, gbar_na3 / 2), gbar_na3 + random_state.uniform(0, gbar_na3 / 2))\n",
    "gkdrbar_kdr_range = (gkdrbar_kdr - random_state.uniform(0, gkdrbar_kdr / 2), gkdrbar_kdr + random_state.uniform(0, gkdrbar_kdr / 2))\n",
    "gcabar_cadyn_range = (gcabar_cadyn - random_state.uniform(0, gcabar_cadyn / 2), gcabar_cadyn + random_state.uniform(0, gcabar_cadyn / 2))\n",
    "gsAHPbar_sAHP_range = (gsAHPbar_sAHP - random_state.uniform(0, gsAHPbar_sAHP / 2), gsAHPbar_sAHP + random_state.uniform(0, gsAHPbar_sAHP / 2))\n",
    "gbar_kap_range = (gkabar_kap - random_state.uniform(0, gkabar_kap / 2), gkabar_kap + random_state.uniform(0, gkabar_kap / 2))\n",
    "\n",
    "\n",
    "print(f\"Nap: {gbar_nap_range}\")\n",
    "print(f\"Nap: {gmbar_im_range}\")\n",
    "print(f\"Na3: {gbar_na3_range}\")\n",
    "print(f\"Kdr: {gkdrbar_kdr_range}\")\n",
    "print(f\"Cadyn: {gcabar_cadyn_range}\")\n",
    "print(f\"sAHP: {gsAHPbar_sAHP_range}\")\n",
    "print(f\"Kap: {gbar_kap_range}\")"
   ]
  },
  {
   "cell_type": "code",
   "execution_count": null,
   "metadata": {},
   "outputs": [],
   "source": [
    "# Possibly adjsut\n",
    "train_cell = ACTCellModel(\n",
    "    path_to_hoc_file=\"/home/ubuntu/ACT/data/LAA/orig/template_known_passive.hoc\",\n",
    "    path_to_mod_files=\"/home/ubuntu/ACT/data/LAA/orig/modfiles\",\n",
    "    cell_name=\"Cell_A\",\n",
    "    passive=[\"ghdbar_hd\", \"glbar_leak\"],\n",
    "    active_channels=[\"gbar_nap\",\n",
    "                     \"gmbar_im\", \n",
    "                     \"gbar_na3\",\n",
    "                     \"gkdrbar_kdr\", \n",
    "                     \"gcabar_cadyn\", \n",
    "                     \"gsAHPbar_sAHP\", \n",
    "                     \"gkabar_kap\"]\n",
    ")"
   ]
  },
  {
   "cell_type": "code",
   "execution_count": null,
   "metadata": {},
   "outputs": [],
   "source": [
    "from multiprocessing import Pool, cpu_count\n",
    "sim_params = SimulationParameters(\n",
    "        sim_name = \"cell\",\n",
    "        sim_idx = 0,\n",
    "        h_v_init=-70,\n",
    "        h_celsius = 6.3,\n",
    "        h_dt = 0.1,\n",
    "        h_tstop = 1000)\n",
    "\n",
    "optim_params = OptimizationParameters(\n",
    "    conductance_options = [\n",
    "        ConductanceOptions(variable_name = \"gbar_nap\", low = gbar_nap_range[0], high = gbar_nap_range[1], n_slices = 3),\n",
    "        ConductanceOptions(variable_name = \"gmbar_im\", low = gmbar_im_range[0], high = gmbar_im_range[1], n_slices = 3),\n",
    "        ConductanceOptions(variable_name = \"gbar_na3\", low = gbar_na3_range[0], high = gbar_na3_range[1], n_slices = 3),\n",
    "        ConductanceOptions(variable_name = \"gkdrbar_kdr\", low = gkdrbar_kdr_range[0], high = gkdrbar_kdr_range[1], n_slices = 3),\n",
    "        ConductanceOptions(variable_name = \"gcabar_cadyn\", low = gcabar_cadyn_range[0], high = gcabar_cadyn_range[1], n_slices = 3),  \n",
    "        ConductanceOptions(variable_name = \"gsAHPbar_sAHP\", low = gsAHPbar_sAHP_range[0], high = gsAHPbar_sAHP_range[1], n_slices = 3),\n",
    "        ConductanceOptions(variable_name = \"gkabar_kap\", low = gbar_kap_range[0], high = gbar_kap_range[1], n_slices = 3)\n",
    "    ],\n",
    "    CI_options = [\n",
    "        ConstantCurrentInjection(amp = 0.0, dur = 700, delay = 100),\n",
    "        ConstantCurrentInjection(amp = 0.02, dur = 700, delay = 100),\n",
    "        ConstantCurrentInjection(amp = 0.03, dur = 700, delay = 100),\n",
    "        ConstantCurrentInjection(amp = 0.04, dur = 700, delay = 100),\n",
    "        ConstantCurrentInjection(amp = 0.05, dur = 700, delay = 100),\n",
    "        ConstantCurrentInjection(amp = 0.06, dur = 700, delay = 100),\n",
    "        ConstantCurrentInjection(amp = 0.1, dur = 700, delay = 100),\n",
    "        ConstantCurrentInjection(amp = 0.3, dur = 700, delay = 100),\n",
    "        ConstantCurrentInjection(amp = 0.5, dur = 700, delay = 100),\n",
    "        ConstantCurrentInjection(amp = 0.7, dur = 700, delay = 100),\n",
    "        ConstantCurrentInjection(amp = 1.0, dur = 700, delay = 100),\n",
    "        ConstantCurrentInjection(amp = 3.0, dur = 700, delay = 100),\n",
    "        ConstantCurrentInjection(amp = 5.0, dur = 700, delay = 100),\n",
    "        ConstantCurrentInjection(amp = 7.0, dur = 700, delay = 100),\n",
    "        ConstantCurrentInjection(amp = 9.0, dur = 700, delay = 100)\n",
    "    ],\n",
    "    filter_parameters = FilterParameters(\n",
    "        saturation_threshold = -55,\n",
    "        window_of_inspection = (100, 700)\n",
    "    ),\n",
    "    n_cpus=30\n",
    ")\n",
    "\n",
    "m = ACTModule(\n",
    "    name = \"orig\",\n",
    "    cell = train_cell,\n",
    "    simulation_parameters = sim_params,\n",
    "    optimization_parameters = optim_params,\n",
    "    target_file = \"output/target/combined_out.npy\"\n",
    ")"
   ]
  },
  {
   "cell_type": "code",
   "execution_count": null,
   "metadata": {},
   "outputs": [],
   "source": [
    "m.run()"
   ]
  },
  {
   "cell_type": "code",
   "execution_count": null,
   "metadata": {},
   "outputs": [],
   "source": [
    "orig_g = np.array(list(m.cell.prediction.values()))"
   ]
  },
  {
   "cell_type": "code",
   "execution_count": null,
   "metadata": {},
   "outputs": [],
   "source": [
    "# Test g error\n",
    "mean_absolute_error(target_g, orig_g)"
   ]
  },
  {
   "cell_type": "markdown",
   "metadata": {},
   "source": [
    "### 2.5. Passive properties after tuning"
   ]
  },
  {
   "cell_type": "code",
   "execution_count": null,
   "metadata": {},
   "outputs": [],
   "source": [
    "train_cell = ACTCellModel(\n",
    "    path_to_hoc_file=\"/home/ubuntu/ACT/data/LAA/orig/template_known_passive.hoc\",\n",
    "    path_to_mod_files=\"/home/ubuntu/ACT/data/LAA/orig/modfiles\",\n",
    "    cell_name=\"Cell_A\",\n",
    "    passive=[\"ghdbar_hd\", \"glbar_leak\"],\n",
    "    active_channels=[\"gbar_nap\",\n",
    "                     \"gmbar_im\", \n",
    "                     \"gbar_na3\",\n",
    "                     \"gkdrbar_kdr\", \n",
    "                     \"gcabar_cadyn\", \n",
    "                     \"gsAHPbar_sAHP\", \n",
    "                     \"gkabar_kap\"]\n",
    ")"
   ]
  },
  {
   "cell_type": "code",
   "execution_count": null,
   "metadata": {},
   "outputs": [],
   "source": [
    "# Set simulations\n",
    "simulator = ACTSimulator(output_folder_name = \"output\")\n",
    "\n",
    "sim_params = SimulationParameters(\n",
    "    sim_name = \"laa_orig_known_passive_after\",\n",
    "    sim_idx = 0,\n",
    "    h_v_init=-70,\n",
    "    h_celsius = 6.3,\n",
    "    h_dt = 0.1,\n",
    "    h_tstop = 1000,\n",
    "    CI = [ConstantCurrentInjection(amp = -0.2, dur = 700, delay = 100)])\n",
    "\n",
    "train_cell.set_g_bar([\"gbar_nap\",\n",
    "                     \"gmbar_im\", \n",
    "                     \"gbar_na3\",\n",
    "                     \"gkdrbar_kdr\", \n",
    "                     \"gcabar_cadyn\", \n",
    "                     \"gsAHPbar_sAHP\", \n",
    "                     \"gkabar_kap\"], orig_g)\n",
    "\n",
    "simulator.submit_job(train_cell, sim_params)\n",
    "simulator.run_jobs(1)\n",
    "\n",
    "passive_trace = np.load(\"output/laa_orig_known_passive_after/out_0.npy\")[:, 0]\n",
    "ACTPassiveModule.compute_gpp(passive_trace, 0.1, 100, 700, -0.2)"
   ]
  },
  {
   "cell_type": "code",
   "execution_count": null,
   "metadata": {},
   "outputs": [],
   "source": [
    "orig_gpp = ACTPassiveModule.compute_gpp(passive_trace, 0.1, 100, 700, -0.2)\n",
    "orig_gpp"
   ]
  },
  {
   "cell_type": "code",
   "execution_count": null,
   "metadata": {},
   "outputs": [],
   "source": [
    "pp_error(target_gpp, orig_gpp)"
   ]
  },
  {
   "cell_type": "markdown",
   "metadata": {},
   "source": [
    "### 2.6. FI curve after tuning"
   ]
  },
  {
   "cell_type": "code",
   "execution_count": null,
   "metadata": {},
   "outputs": [],
   "source": [
    "train_cell = ACTCellModel(\n",
    "    path_to_hoc_file=\"/home/ubuntu/ACT/data/LAA/orig/template_known_passive.hoc\",\n",
    "    path_to_mod_files=\"/home/ubuntu/ACT/data/LAA/orig/modfiles\",\n",
    "    cell_name=\"Cell_A\",\n",
    "    passive=[\"ghdbar_hd\", \"glbar_leak\"],\n",
    "    active_channels=[\"gbar_nap\",\n",
    "                     \"gmbar_im\", \n",
    "                     \"gbar_na3\",\n",
    "                     \"gkdrbar_kdr\", \n",
    "                     \"gcabar_cadyn\", \n",
    "                     \"gsAHPbar_sAHP\", \n",
    "                     \"gkabar_kap\"]\n",
    ")"
   ]
  },
  {
   "cell_type": "code",
   "execution_count": null,
   "metadata": {},
   "outputs": [],
   "source": [
    "# Set simulations\n",
    "simulator = ACTSimulator(output_folder_name = \"output\")\n",
    "\n",
    "\n",
    "for sim_idx, amp_value in enumerate([0.0, 0.02, 0.03, 0.04, 0.05, 0.06, 0.1, 0.3, 0.5, 0.7, 1.0, 3.0, 5.0, 7.0, 9.0]):\n",
    "    sim_params = SimulationParameters(\n",
    "        sim_name = \"laa_orig_known_passive_after\",\n",
    "        sim_idx = sim_idx,\n",
    "        h_v_init=-70,\n",
    "        h_celsius = 6.3,\n",
    "        h_dt = 0.1,\n",
    "        h_tstop = 1000,\n",
    "        CI = [ConstantCurrentInjection(amp = amp_value, dur = 700, delay = 100)])\n",
    "    \n",
    "    train_cell.set_g_bar([\"gbar_nap\",\n",
    "                        \"gmbar_im\", \n",
    "                        \"gbar_na3\",\n",
    "                        \"gkdrbar_kdr\", \n",
    "                        \"gcabar_cadyn\", \n",
    "                        \"gsAHPbar_sAHP\", \n",
    "                        \"gkabar_kap\"], orig_g)\n",
    "\n",
    "\n",
    "    simulator.submit_job(train_cell, sim_params)\n",
    "\n",
    "simulator.run_jobs(3)\n",
    "\n",
    "# Combine simulated traces into one dataset for convenience\n",
    "dp.combine_data(\"output/laa_orig_known_passive_after\")"
   ]
  },
  {
   "cell_type": "code",
   "execution_count": null,
   "metadata": {},
   "outputs": [],
   "source": [
    "simulated_data = np.load(\"output/laa_orig_known_passive_after/combined_out.npy\")\n",
    "\n",
    "f = []\n",
    "for trace_id in range(len(simulated_data)):\n",
    "    f.append(len(dp.find_events(simulated_data[trace_id, ::10, 0].flatten())))\n",
    "\n",
    "plt.plot([0.0, 0.02, 0.03, 0.04, 0.05, 0.06, 0.1, 0.3, 0.5, 0.7, 1.0, 3.0, 5.0, 7.0, 9.0], f)\n",
    "plt.xlabel(\"CI (nA)\")\n",
    "plt.ylabel(\"Frequency (Hz)\")\n",
    "plt.title(\"FI Curve\")"
   ]
  }
 ],
 "metadata": {
  "kernelspec": {
   "display_name": "act-venv",
   "language": "python",
   "name": "python3"
  },
  "language_info": {
   "codemirror_mode": {
    "name": "ipython",
    "version": 3
   },
   "file_extension": ".py",
   "mimetype": "text/x-python",
   "name": "python",
   "nbconvert_exporter": "python",
   "pygments_lexer": "ipython3",
   "version": "3.10.18"
  }
 },
 "nbformat": 4,
 "nbformat_minor": 2
}
