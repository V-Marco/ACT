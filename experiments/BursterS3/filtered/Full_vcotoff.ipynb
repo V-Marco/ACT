{
 "cells": [
  {
   "cell_type": "markdown",
   "metadata": {},
   "source": [
    "# Burster Izhikevich - Segregated Pipeline"
   ]
  },
  {
   "cell_type": "code",
   "execution_count": null,
   "metadata": {},
   "outputs": [],
   "source": [
    "from act.SyntheticGenerator import SyntheticGenerator\n",
    "from act.act_types import SimParams, OptimizationParameters\n",
    "from act.cell_model import TargetCell, ModuleParameters\n",
    "\n",
    "random_seed = 42\n",
    "num_slices_new = 10\n",
    "num_slices_old = 5\n",
    "experiment_folder = f\"output/bursterS3_seg_sl-{num_slices_new}-{num_slices_old}/{random_seed}\"\n",
    "target_folder = experiment_folder + \"/target\"\n",
    "\n",
    "# module 1 is for spiking, module 2 for bursting, final for refining all channels\n",
    "module_1_folder = experiment_folder + \"/module_1\"\n",
    "module_2_folder = experiment_folder + \"/module_2\"\n",
    "module_final_folder = experiment_folder + \"/module_final\"\n",
    "\n",
    "# SEGREGATION VALUES\n",
    "\n",
    "# V < -60: Leak, KCa, CaPool are active\n",
    "# -60 < V < -55: + KA, CaT, CaS are active\n",
    "# V > -55: + Na, Kdr are active\n",
    "\n",
    "target_cell = TargetCell(\n",
    "    hoc_file=\"/home/mwsrgf/proj/ACT/data/Burster_S3/seg/template.hoc\",\n",
    "    mod_folder=\"/home/mwsrgf/proj/ACT/data/Burster_S3/seg\",\n",
    "    cell_name=\"Burster\",\n",
    "    g_names = [\"gbar_na\", \"gbar_kdr\", \"gbar_ka\", \"gbar_cas\", \"gbar_cat\", \"gbar_kca\" \"gbar_leak\"]\n",
    ")\n",
    "\n",
    "sim_par= SimParams(\n",
    "            h_v_init=-67.0,  # Consistent with nrngui settings\n",
    "            h_tstop=500,     # Simulation time in ms\n",
    "            h_dt=0.1,      # Time step in ms\n",
    "            h_celsius=6.3,   # Temperature in degrees Celsius\n",
    "            CI_type=\"constant\",\n",
    "            CI_amps=[0.1,0.3,0.5],   # Current injection amplitude\n",
    "            CI_dur=300,      # Duration of current injection\n",
    "            CI_delay=100,     # Delay before current injection\n",
    "            set_g_to=[]\n",
    "        )"
   ]
  },
  {
   "cell_type": "markdown",
   "metadata": {},
   "source": [
    "# Generate Synthetic Data"
   ]
  },
  {
   "cell_type": "code",
   "execution_count": null,
   "metadata": {},
   "outputs": [],
   "source": [
    "sg = SyntheticGenerator(\n",
    "    ModuleParameters(\n",
    "        module_folder_name=target_folder,\n",
    "        cell= target_cell,\n",
    "        sim_params= sim_par,\n",
    "        optim_params = OptimizationParameters(\n",
    "            blocked_channels= []\n",
    "        )\n",
    "    )\n",
    ")\n",
    "\n",
    "sg.generate_synthetic_target_data(\"target_data.csv\")"
   ]
  },
  {
   "cell_type": "code",
   "execution_count": null,
   "metadata": {},
   "outputs": [],
   "source": [
    "#import matplotlib.pyplot as plt\n",
    "#import numpy as np\n",
    "\n",
    "#data = np.load(\"/home/mwsrgf/proj/ACT/output/bursterIzh_seg_filtered_sl-10/42/module_1/train/combined_out.npy\")\n",
    "\n",
    "#Volt = data[:,:,0]\n",
    "\n",
    "#plt.plot(Volt[1,:])"
   ]
  },
  {
   "cell_type": "code",
   "execution_count": null,
   "metadata": {},
   "outputs": [],
   "source": [
    "passive_sim_par = SimParams(\n",
    "            h_v_init = -67,\n",
    "            h_tstop = 1500,\n",
    "            h_dt = 0.001,\n",
    "            h_celsius = 6.3,\n",
    "            CI_type = \"constant\",\n",
    "            CI_amps = [-1],    ##################### NEGATIVE CURRENT INJECTION ###################\n",
    "            CI_dur = 1000,\n",
    "            CI_delay = 500,\n",
    "            set_g_to=[]\n",
    "        )\n",
    "\n",
    "sg_passive = SyntheticGenerator(\n",
    "    ModuleParameters(\n",
    "        module_folder_name=target_folder,\n",
    "        cell= target_cell,\n",
    "        sim_params= passive_sim_par,\n",
    "        optim_params = OptimizationParameters(\n",
    "            blocked_channels= []\n",
    "        )\n",
    "    )\n",
    ")\n",
    "\n",
    "sg_passive.generate_synthetic_target_data(\"passive_data.csv\")"
   ]
  },
  {
   "cell_type": "markdown",
   "metadata": {},
   "source": [
    "# Get Passive Properties"
   ]
  },
  {
   "cell_type": "code",
   "execution_count": null,
   "metadata": {},
   "outputs": [],
   "source": [
    "from act.PassivePropertiesModule import PassivePropertiesModule\n",
    "from act.act_types import SimParams\n",
    "from act.cell_model import TrainCell\n",
    "\n",
    "train_cell = TrainCell(\n",
    "    hoc_file=\"/home/mwsrgf/proj/ACT/data/Burster_S3/seg/template.hoc\",\n",
    "    mod_folder=\"/home/mwsrgf/proj/ACT/data/Burster_S3/seg\",\n",
    "    cell_name=\"Burster\",\n",
    "    g_names = [\"gbar_na\", \"gbar_kdr\", \"gbar_ka\", \"gbar_cas\", \"gbar_cat\", \"gbar_kca\" \"gbar_leak\"]\n",
    ")\n",
    "\n",
    "passive_mod = PassivePropertiesModule(\n",
    "    train_cell=train_cell,\n",
    "    sim_params=passive_sim_par,\n",
    "    trace_filepath=f\"{target_folder}/passive_data.csv\",\n",
    "    leak_conductance_variable=\"glbar_leak\",\n",
    "    leak_reversal_variable=\"el_leak\"\n",
    ")"
   ]
  },
  {
   "cell_type": "code",
   "execution_count": null,
   "metadata": {},
   "outputs": [],
   "source": [
    "passive_mod.set_passive_properties()\n",
    "print(train_cell.passive_properties)"
   ]
  },
  {
   "cell_type": "markdown",
   "metadata": {},
   "source": [
    "## Run Module 1 (Spiking)"
   ]
  },
  {
   "cell_type": "code",
   "execution_count": null,
   "metadata": {},
   "outputs": [],
   "source": [
    "from act.ACTModule import ACTModule\n",
    "from act.act_types import OptimizationParameters, OptimizationParam\n",
    "from act.cell_model import ModuleParameters\n",
    "\n",
    "# gmbar_im = 0.0038, gkdrbar_kdr= 0.03, gbar_nap= 0.0004, gbar_na3= 0.05, glbar_leak= 3.6e-5\n",
    "mod1 = ACTModule(\n",
    "    ModuleParameters(\n",
    "        module_folder_name=module_1_folder,\n",
    "        cell= train_cell,\n",
    "        target_traces_file = f\"{target_folder}/target_data.csv\",\n",
    "        sim_params= sim_par,\n",
    "        optim_params= OptimizationParameters(\n",
    "            g_ranges_slices= [\n",
    "                OptimizationParam(param=\"gbar_na3\",    low=0.025, high=0.075, n_slices=num_slices_new),\n",
    "                OptimizationParam(param=\"gkdrbar_kdr\", low=0.015, high=0.045, n_slices=num_slices_new),\n",
    "                OptimizationParam(param=\"gbar_nap\", low=0.0002, high=0.0006, n_slices=1),\n",
    "                OptimizationParam(param=\"gmbar_im\", low=0.0019, high=0.0057, n_slices=1),\n",
    "                OptimizationParam(param=\"glbar_leak\", prediction=train_cell.passive_properties.g_bar_leak, bounds_variation=0.0, n_slices=1)\n",
    "            ],\n",
    "            #filtered_out_features = [\"no_spikes\", \"saturated\"],\n",
    "            train_features=[\"i_trace_stats\", \"number_of_spikes\", \"spike_times\", \"spike_height_stats\", \"trough_times\", \"trough_height_stats\"],\n",
    "            prediction_eval_method='fi_curve',\n",
    "            spike_threshold=0,\n",
    "            saturation_threshold=-55,\n",
    "            window_of_inspection=(120,400),\n",
    "            first_n_spikes=20,\n",
    "            random_state=random_seed,\n",
    "            save_file=f\"{module_1_folder}/results/saved_metrics.json\"\n",
    "        )\n",
    "    )\n",
    ")"
   ]
  },
  {
   "cell_type": "code",
   "execution_count": null,
   "metadata": {},
   "outputs": [],
   "source": [
    "predicted_g_data_file = mod1.run()"
   ]
  },
  {
   "cell_type": "code",
   "execution_count": null,
   "metadata": {},
   "outputs": [],
   "source": [
    "mod1.pickle_rf(mod1.rf_model,f\"{module_1_folder}/trained_rf.pkl\")\n",
    "print(train_cell.predicted_g)"
   ]
  },
  {
   "cell_type": "markdown",
   "metadata": {},
   "source": [
    "## Run Module 2 (Bursting)"
   ]
  },
  {
   "cell_type": "code",
   "execution_count": null,
   "metadata": {},
   "outputs": [],
   "source": [
    "from act.ACTModule import ACTModule\n",
    "from act.act_types import OptimizationParameters, OptimizationParam\n",
    "from act.cell_model import ModuleParameters\n",
    "\n",
    "# Allow all channels to vary by 20% their predicted value in the previous module\n",
    "bounds_variation = 0.15\n",
    "\n",
    "# gmbar_im = 0.0038, gkdrbar_kdr= 0.03, gbar_nap= 0.0004, gbar_na3= 0.05, glbar_leak= 3.6e-5\n",
    "mod2 = ACTModule(\n",
    "    ModuleParameters(\n",
    "        module_folder_name=module_2_folder,\n",
    "        cell= train_cell,\n",
    "        target_traces_file = f\"{target_folder}/target_data.csv\",\n",
    "        sim_params= sim_par,\n",
    "        optim_params= OptimizationParameters(\n",
    "            g_ranges_slices= [\n",
    "                OptimizationParam(param=\"gbar_na3\", prediction=train_cell.predicted_g[\"gbar_na3\"], bounds_variation=bounds_variation, n_slices=num_slices_old),\n",
    "                OptimizationParam(param=\"gkdrbar_kdr\", prediction=train_cell.predicted_g[\"gkdrbar_kdr\"], bounds_variation=bounds_variation, n_slices=num_slices_old),\n",
    "                OptimizationParam(param=\"gbar_nap\", low=0.0002, high=0.0006, n_slices=num_slices_new),\n",
    "                OptimizationParam(param=\"gmbar_im\", low=0.0019, high=0.0057, n_slices=num_slices_new),\n",
    "                OptimizationParam(param=\"glbar_leak\", prediction=train_cell.passive_properties.g_bar_leak, bounds_variation=0.0, n_slices=1)\n",
    "            ],\n",
    "            #filtered_out_features = [\"no_spikes\", \"saturated\"],\n",
    "            train_features=[\"i_trace_stats\", \"number_of_spikes\", \"spike_times\", \"spike_height_stats\", \"trough_times\", \"trough_height_stats\"],\n",
    "            prediction_eval_method='fi_curve',\n",
    "            spike_threshold=0,\n",
    "            saturation_threshold=-55,\n",
    "            first_n_spikes=20,\n",
    "            random_state=random_seed,\n",
    "            save_file=f\"{module_2_folder}/results/saved_metrics.json\"\n",
    "        )\n",
    "    )\n",
    ")"
   ]
  },
  {
   "cell_type": "code",
   "execution_count": null,
   "metadata": {},
   "outputs": [],
   "source": [
    "predicted_g_data_file = mod2.run()"
   ]
  },
  {
   "cell_type": "code",
   "execution_count": null,
   "metadata": {},
   "outputs": [],
   "source": [
    "mod2.pickle_rf(mod2.rf_model,f\"{module_2_folder}/trained_rf.pkl\")\n",
    "print(train_cell.predicted_g)"
   ]
  },
  {
   "cell_type": "markdown",
   "metadata": {},
   "source": [
    "## Run Fine Tuning Module"
   ]
  },
  {
   "cell_type": "code",
   "execution_count": null,
   "metadata": {},
   "outputs": [],
   "source": [
    "from act.ACTModule import ACTModule\n",
    "from act.act_types import OptimizationParameters, OptimizationParam\n",
    "from act.cell_model import ModuleParameters\n",
    "\n",
    "bounds_variation = 0.15\n",
    "\n",
    "final_mod = ACTModule(\n",
    "    ModuleParameters(\n",
    "        module_folder_name=module_final_folder,\n",
    "        cell= train_cell,\n",
    "        target_traces_file = f\"{target_folder}/target_data.csv\",\n",
    "        sim_params= sim_par,\n",
    "        optim_params= OptimizationParameters(\n",
    "            g_ranges_slices= [\n",
    "                OptimizationParam(param=\"gbar_na3\", prediction=train_cell.predicted_g[\"gbar_na3\"], bounds_variation=bounds_variation, n_slices=num_slices_old),\n",
    "                OptimizationParam(param=\"gkdrbar_kdr\", prediction=train_cell.predicted_g[\"gkdrbar_kdr\"], bounds_variation=bounds_variation, n_slices=num_slices_old),\n",
    "                OptimizationParam(param=\"gbar_nap\", prediction=train_cell.predicted_g[\"gbar_nap\"], bounds_variation=bounds_variation, n_slices=num_slices_old),\n",
    "                OptimizationParam(param=\"gmbar_im\", prediction=train_cell.predicted_g[\"gmbar_im\"], bounds_variation=bounds_variation, n_slices=num_slices_old),\n",
    "                OptimizationParam(param=\"glbar_leak\", prediction=train_cell.passive_properties.g_bar_leak, bounds_variation=0.0, n_slices=1)\n",
    "            ],\n",
    "            #filtered_out_features = [\"no_spikes\", \"saturated\"],\n",
    "            train_features=[\"i_trace_stats\", \"number_of_spikes\", \"spike_times\", \"spike_height_stats\", \"trough_times\", \"trough_height_stats\"],\n",
    "            spike_threshold=0,\n",
    "            saturation_threshold=-55,\n",
    "            first_n_spikes=20,\n",
    "            prediction_eval_method='fi_curve',\n",
    "            random_state=random_seed,\n",
    "            save_file=f\"{module_final_folder}/results/saved_metrics.json\"\n",
    "        )\n",
    "    )\n",
    ")"
   ]
  },
  {
   "cell_type": "code",
   "execution_count": null,
   "metadata": {},
   "outputs": [],
   "source": [
    "final_predicted_g_data_file = final_mod.run()"
   ]
  },
  {
   "cell_type": "code",
   "execution_count": null,
   "metadata": {},
   "outputs": [],
   "source": [
    "final_mod.pickle_rf(final_mod.rf_model,f\"{module_final_folder}/trained_rf.pkl\")\n",
    "print(train_cell.predicted_g)"
   ]
  },
  {
   "cell_type": "markdown",
   "metadata": {},
   "source": [
    "# Results & Metrics"
   ]
  },
  {
   "cell_type": "code",
   "execution_count": null,
   "metadata": {},
   "outputs": [],
   "source": [
    "from act import ACTPlot\n",
    "ACTPlot.plot_v_comparison(\n",
    "    final_predicted_g_data_file, \n",
    "    module_final_folder, \n",
    "    sim_par[\"CI_amps\"],\n",
    "    sim_par[\"h_dt\"]\n",
    "    )\n",
    "\n",
    "ACTPlot.plot_fi_comparison(\n",
    "    module_final_folder, \n",
    "    sim_par[\"CI_amps\"]\n",
    "    )"
   ]
  },
  {
   "cell_type": "code",
   "execution_count": null,
   "metadata": {},
   "outputs": [],
   "source": [
    "from act.Metrics import Metrics\n",
    "\n",
    "metrics = Metrics()\n",
    "\n",
    "mean, stdev = metrics.save_interspike_interval_comparison(\n",
    "    module_final_folder,\n",
    "    final_predicted_g_data_file,\n",
    "    sim_par[\"CI_amps\"], \n",
    "    sim_par[\"h_dt\"],\n",
    "    first_n_spikes=5,\n",
    "    save_file=f\"{module_final_folder}/results/saved_metrics.json\"\n",
    ")\n",
    "\n",
    "# HighRange\n",
    "#actual_g={\"gbar_na3\": 0.065, \"gkdrbar_kdr\": 0.043,\"gbar_nap\": 0.00055,\"gmbar_im\": 0.0053, \"glbar_leak\": 4.5e-5},\n",
    "# CenterRange\n",
    "#actual_g={\"gbar_na3\": 0.05, \"gkdrbar_kdr\": 0.03,\"gbar_nap\": 0.0004,\"gmbar_im\": 0.0038, \"glbar_leak\": 3.6e-5},\n",
    "# LowRange\n",
    "#actual_g={\"gbar_na3\": 0.035, \"gkdrbar_kdr\": 0.017,\"gbar_nap\": 0.00025,\"gmbar_im\": 0.0023, \"glbar_leak\": 2.7e-5},\n",
    "metrics.save_prediction_g_mae(\n",
    "    actual_g={\"gbar_na3\": 0.065, \"gkdrbar_kdr\": 0.043,\"gbar_nap\": 0.00055,\"gmbar_im\": 0.0053, \"glbar_leak\": 4.5e-5},\n",
    "    save_file=f\"{module_final_folder}/results/saved_metrics.json\"\n",
    ")\n",
    "\n",
    "metrics.save_feature_mae(\n",
    "    module_final_folder,\n",
    "    final_predicted_g_data_file,\n",
    "    [\"i_trace_stats\", \"number_of_spikes\", \"spike_times\", \"spike_height_stats\", \"trough_times\", \"trough_height_stats\"],\n",
    "    sim_par[\"h_dt\"],\n",
    "    first_n_spikes=5,\n",
    "    save_file=f\"{module_final_folder}/results/saved_metrics.json\"\n",
    ")\n"
   ]
  },
  {
   "cell_type": "code",
   "execution_count": null,
   "metadata": {},
   "outputs": [],
   "source": [
    "from act import ACTPlot as actplt\n",
    "from act.act_types import SimParams\n",
    "\n",
    "\n",
    "from act.SyntheticGenerator import SyntheticGenerator\n",
    "from act.act_types import SimParams, OptimizationParameters\n",
    "from act.cell_model import TargetCell, ModuleParameters\n",
    "'''\n",
    "random_seed = 42\n",
    "num_slices_new = 3\n",
    "num_slices_old = 3\n",
    "experiment_folder = f\"output/bursterIzh_seg_metric_sl-{num_slices_new}-{num_slices_old}/{random_seed}\"\n",
    "#experiment_folder = f\"output/bursterIzh_seg_surfaceTest_sl-{num_slices_new}/{random_seed}\"\n",
    "target_folder = experiment_folder + \"/target\"\n",
    "\n",
    "# module 1 is for spiking, module 2 for bursting, final for refining all channels\n",
    "module_1_folder = experiment_folder + \"/module_1\"\n",
    "module_2_folder = experiment_folder + \"/module_2\"\n",
    "module_final_folder = experiment_folder + \"/module_final\"\n",
    "\n",
    "sim_par= SimParams(\n",
    "            h_v_init=-67.0,  # Consistent with nrngui settings\n",
    "            h_tstop=500,     # Simulation time in ms\n",
    "            h_dt=0.1,      # Time step in ms\n",
    "            h_celsius=6.3,   # Temperature in degrees Celsius\n",
    "            CI_type=\"constant\",\n",
    "            CI_amps=[0.1,0.3,0.5],   # Current injection amplitude\n",
    "            CI_dur=300,      # Duration of current injection\n",
    "            CI_delay=100,     # Delay before current injection\n",
    "            set_g_to=[]\n",
    "        )\n",
    "\n",
    "\n",
    "index1 = 0\n",
    "index2 = 2\n",
    "'''\n",
    "g_names = [\"gbar_na3\", \"gkdrbar_kdr\",\"gbar_nap\",\"gmbar_im\"]\n",
    "for i in range(len(g_names)-1):\n",
    "    actplt.plot_training_feature_mae_contour_plot(\n",
    "    module_final_folder,\n",
    "    sim_par[\"CI_amps\"],\n",
    "    sim_par[\"CI_delay\"],\n",
    "    sim_par[\"h_dt\"],\n",
    "    index1=0,\n",
    "    index2=i+1,\n",
    "    g_names=g_names,\n",
    "    train_features=[\"i_trace_stats\", \"number_of_spikes\", \"spike_times\", \"spike_height_stats\", \"trough_times\", \"trough_height_stats\"],\n",
    "    threshold=0,\n",
    "    first_n_spikes=20,\n",
    "    num_levels=100,\n",
    "    results_filename=f\"{module_final_folder}/results/Feature_MAE_Contour_Plot_{g_names[0]}_{g_names[i+1]}.png\"\n",
    "    )"
   ]
  },
  {
   "cell_type": "code",
   "execution_count": null,
   "metadata": {},
   "outputs": [],
   "source": [
    "from act.Metrics import Metrics\n",
    "\n",
    "metrics = Metrics()\n",
    "\n",
    "mean, stdev = metrics.save_interspike_interval_comparison(\n",
    "    module_final_folder,\n",
    "    final_predicted_g_data_file,\n",
    "    sim_par[\"CI_amps\"], \n",
    "    sim_par[\"h_dt\"],\n",
    "    first_n_spikes=5,\n",
    "    save_file=f\"{module_final_folder}/results/saved_metrics.json\"\n",
    ")\n",
    "\n",
    "# HighRange\n",
    "#actual_g={\"gbar_na3\": 0.065, \"gkdrbar_kdr\": 0.043,\"gbar_nap\": 0.00055,\"gmbar_im\": 0.0053, \"glbar_leak\": 4.5e-5},\n",
    "# CenterRange\n",
    "#actual_g={\"gbar_na3\": 0.05, \"gkdrbar_kdr\": 0.03,\"gbar_nap\": 0.0004,\"gmbar_im\": 0.0038, \"glbar_leak\": 3.6e-5},\n",
    "# LowRange\n",
    "#actual_g={\"gbar_na3\": 0.035, \"gkdrbar_kdr\": 0.017,\"gbar_nap\": 0.00025,\"gmbar_im\": 0.0023, \"glbar_leak\": 2.7e-5},\n",
    "if cell_props == \"low\":\n",
    "    actual_g={\"gbar_na3\": 0.035, \"gkdrbar_kdr\": 0.017,\"gbar_nap\": 0.00025,\"gmbar_im\": 0.0023, \"glbar_leak\": 2.7e-5}\n",
    "elif cell_props == \"center\":\n",
    "    actual_g={\"gbar_na3\": 0.05, \"gkdrbar_kdr\": 0.03,\"gbar_nap\": 0.0004,\"gmbar_im\": 0.0038, \"glbar_leak\": 3.6e-5}\n",
    "elif cell_props == \"high\":\n",
    "    actual_g={\"gbar_na3\": 0.065, \"gkdrbar_kdr\": 0.043,\"gbar_nap\": 0.00055,\"gmbar_im\": 0.0053, \"glbar_leak\": 4.5e-5} \n",
    "    \n",
    "metrics.save_prediction_g_mae(\n",
    "    actual_g=actual_g,\n",
    "    save_file=f\"{module_final_folder}/results/saved_metrics.json\"\n",
    ")\n",
    "\n",
    "metrics.save_feature_mae(\n",
    "    module_final_folder,\n",
    "    final_predicted_g_data_file,\n",
    "    [\"i_trace_stats\", \"number_of_spikes\", \"spike_times\", \"spike_height_stats\", \"trough_times\", \"trough_height_stats\"],\n",
    "    sim_par[\"h_dt\"],\n",
    "    first_n_spikes=5,\n",
    "    save_file=f\"{module_final_folder}/results/saved_metrics.json\"\n",
    ")\n"
   ]
  },
  {
   "cell_type": "code",
   "execution_count": null,
   "metadata": {},
   "outputs": [],
   "source": [
    "from act import ACTPlot as actplt\n",
    "\n",
    "g_names = [\"gbar_na3\", \"gkdrbar_kdr\",\"gbar_nap\",\"gmbar_im\"]\n",
    "\n",
    "for i in range(len(g_names)-1):\n",
    "    actplt.plot_training_feature_mae_contour_plot(\n",
    "        module_final_folder,\n",
    "        sim_par[\"CI_amps\"],\n",
    "        sim_par[\"CI_delay\"],\n",
    "        sim_par[\"h_dt\"],\n",
    "        index1=0,\n",
    "        index2=i+1,\n",
    "        g_names=g_names,\n",
    "        train_features=[\"i_trace_stats\", \"number_of_spikes\", \"spike_times\", \"spike_height_stats\", \"trough_times\", \"trough_height_stats\"],\n",
    "        threshold=0,\n",
    "        first_n_spikes=20,\n",
    "        num_levels=100,\n",
    "        results_filename=f\"{module_final_folder}/results/Feature_MAE_Contour_Plot_{g_names[0]}_{g_names[i+1]}.png\"\n",
    "    )"
   ]
  },
  {
   "cell_type": "code",
   "execution_count": null,
   "metadata": {},
   "outputs": [],
   "source": [
    "from act import ACTPlot as actplt\n",
    "\n",
    "g_names = [\"gbar_na3\", \"gkdrbar_kdr\",\"gbar_nap\",\"gmbar_im\"]\n",
    "\n",
    "for i in range(len(g_names)-1):\n",
    "    actplt.plot_training_fi_mae_contour_plot(\n",
    "        module_final_folder,\n",
    "        sim_par[\"CI_amps\"], \n",
    "        sim_par[\"CI_dur\"],\n",
    "        sim_par[\"CI_delay\"],\n",
    "        sim_par[\"h_dt\"],\n",
    "        index1=0,\n",
    "        index2=i+1,\n",
    "        g_names=g_names,\n",
    "        results_filename=f\"{module_final_folder}/results/FI_MAE_Contour_Plot_{g_names[0]}_{g_names[i+1]}.png\"\n",
    "    )"
   ]
  },
  {
   "cell_type": "code",
   "execution_count": null,
   "metadata": {},
   "outputs": [],
   "source": [
    "from act import ACTPlot as actplt\n",
    "\n",
    "g_names = [\"gbar_na3\", \"gkdrbar_kdr\",\"gbar_nap\",\"gmbar_im\"]\n",
    "\n",
    "for i in range(len(g_names)-1):\n",
    "    actplt.plot_training_v_mae_contour_plot(\n",
    "        module_final_folder,\n",
    "        sim_par[\"CI_amps\"], \n",
    "        sim_par[\"CI_delay\"],\n",
    "        sim_par[\"h_dt\"],\n",
    "        index1=0,\n",
    "        index2=i+1,\n",
    "        g_names=g_names,\n",
    "        results_filename=f\"{module_final_folder}/results/Voltage_MAE_Contour_Plot_{g_names[0]}_{g_names[i+1]}.png\"\n",
    "    )"
   ]
  },
  {
   "cell_type": "code",
   "execution_count": null,
   "metadata": {},
   "outputs": [],
   "source": []
  }
 ],
 "metadata": {
  "kernelspec": {
   "display_name": "act-venv",
   "language": "python",
   "name": "python3"
  },
  "language_info": {
   "name": "python",
   "version": "3.9.19"
  }
 },
 "nbformat": 4,
 "nbformat_minor": 2
}
