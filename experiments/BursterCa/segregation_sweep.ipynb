{
 "cells": [
  {
   "cell_type": "code",
   "execution_count": 2,
   "id": "5a5b333b",
   "metadata": {},
   "outputs": [],
   "source": [
    "# Set the path\n",
    "import sys\n",
    "sys.path.append(\"../../\")\n",
    "\n",
    "from act.cell_model import ACTCellModel\n",
    "from act.simulator import ACTSimulator\n",
    "from act.types import SimulationParameters, ConstantCurrentInjection, RampCurrentInjection\n",
    "import act.data_processing as dp\n",
    "\n",
    "import numpy as np\n",
    "import matplotlib.pyplot as plt\n",
    "\n",
    "from act.passive import ACTPassiveModule\n",
    "from act.segregation import ACTSegregator\n",
    "\n",
    "from sklearn.metrics import mean_absolute_error\n",
    "from act.metrics import summary_features_error\n",
    "import shutil"
   ]
  },
  {
   "cell_type": "markdown",
   "id": "1d1aba03",
   "metadata": {},
   "source": [
    "### Generate target data"
   ]
  },
  {
   "cell_type": "code",
   "execution_count": 7,
   "id": "e130f39c",
   "metadata": {},
   "outputs": [],
   "source": [
    "# Define the \"target\" cell\n",
    "target_cell = ACTCellModel(\n",
    "    cell_name = \"BursterCa\",\n",
    "    path_to_hoc_file = \"../../data/BursterCa/orig/template.hoc\",\n",
    "    path_to_mod_files = \"../../data/BursterCa/orig/modfiles/\",\n",
    "    passive = [\"gbar_leak\", \"eleak\"],\n",
    "    active_channels = [\"gbar_na\", \"gbar_kdr\", \"gbar_cas\", \"gbar_ka\", \"gbar_kca\", \"gbar_cat\"],\n",
    ")"
   ]
  },
  {
   "cell_type": "code",
   "execution_count": 38,
   "id": "ecbba3c9",
   "metadata": {},
   "outputs": [
    {
     "name": "stdout",
     "output_type": "stream",
     "text": [
      "\n",
      "        ACTSimulator (2025)\n",
      "        ----------\n",
      "        When submitting multiple jobs, note that the cells must share modfiles.\n",
      "        \n"
     ]
    }
   ],
   "source": [
    "# Set simulations\n",
    "simulator = ACTSimulator(output_folder_name = \"output\")\n",
    "\n",
    "for amp_idx, amp in enumerate([0, 0.5, 1.0]):\n",
    "    sim_params = SimulationParameters(\n",
    "        sim_name = \"target\",\n",
    "        sim_idx = amp_idx,\n",
    "        h_celsius = 37,\n",
    "        h_dt = 0.1,\n",
    "        h_tstop = 1000,\n",
    "        h_v_init = -40,\n",
    "        CI = [ConstantCurrentInjection(amp = amp, dur = 700, delay = 100)]\n",
    "        )\n",
    "\n",
    "    simulator.submit_job(target_cell, sim_params)\n",
    "    \n",
    "simulator.run_jobs(3)"
   ]
  },
  {
   "cell_type": "code",
   "execution_count": 39,
   "id": "e5a6d9f9",
   "metadata": {},
   "outputs": [
    {
     "name": "stdout",
     "output_type": "stream",
     "text": [
      "output/target/combined_out.npy\n"
     ]
    }
   ],
   "source": [
    "dp.combine_data(\"output/target\")"
   ]
  },
  {
   "cell_type": "code",
   "execution_count": 42,
   "id": "a2e9e180",
   "metadata": {},
   "outputs": [
    {
     "data": {
      "text/plain": [
       "[<matplotlib.lines.Line2D at 0x18ee539a0>]"
      ]
     },
     "execution_count": 42,
     "metadata": {},
     "output_type": "execute_result"
    },
    {
     "data": {
      "image/png": "[encoded data removed]",
      "text/plain": [
       "<Figure size 640x480 with 1 Axes>"
      ]
     },
     "metadata": {},
     "output_type": "display_data"
    }
   ],
   "source": [
    "passive_trace = np.load(\"output/target/out_2.npy\")[:, 0]\n",
    "plt.plot(passive_trace[::10])"
   ]
  },
  {
   "cell_type": "code",
   "execution_count": 16,
   "id": "e327937a",
   "metadata": {},
   "outputs": [],
   "source": [
    "# Compute the error with respective target summary features\n",
    "data = np.load(f\"output/target/combined_out.npy\")\n",
    "V = data[:, ::10, 0].reshape((3, -1))\n",
    "I = data[:, ::10, 1].reshape((3, -1))\n",
    "summary_features_target = dp.get_summary_features(V, I, window = (100, 800))"
   ]
  },
  {
   "cell_type": "code",
   "execution_count": 17,
   "id": "290211dc",
   "metadata": {},
   "outputs": [],
   "source": [
    "# LTO: NaP, KM\n",
    "\n",
    "def modify_template(spiking_th, bursting_th):\n",
    "    \n",
    "    spiking = [\n",
    "        (\"na.mod\", 57, spiking_th), \n",
    "        (\"kdr.mod\", 53, spiking_th)\n",
    "    ]\n",
    "    bursting = [\n",
    "        (\"cat.mod\", 56, bursting_th), \n",
    "        (\"cas.mod\", 60, bursting_th),\n",
    "        (\"ka.mod\", 58, bursting_th),\n",
    "        (\"kca.mod\", 57, bursting_th)\n",
    "    ]\n",
    "\n",
    "    for entry in spiking + bursting:\n",
    "        with open(f\"../../data/BursterCa/orig_cutoff_test/modfiles/{entry[0]}\", \"r\") as file:\n",
    "            mod_file = file.readlines()\n",
    "\n",
    "            sign = '<'\n",
    "            mod_file[entry[1]] = \"\\t\" + f\"if (v {sign} {entry[2]}) \" + \"{\\n\"\n",
    "\n",
    "        with open(f\"../../data/BursterCa/orig_cutoff_test/modfiles/{entry[0]}\", \"w\") as file:\n",
    "            file.writelines(mod_file)"
   ]
  },
  {
   "cell_type": "code",
   "execution_count": 18,
   "id": "07fcfb7f",
   "metadata": {},
   "outputs": [],
   "source": [
    "modify_template(-2, -1)"
   ]
  },
  {
   "cell_type": "markdown",
   "id": "f8f389c3",
   "metadata": {},
   "source": [
    "# Experiment"
   ]
  },
  {
   "cell_type": "code",
   "execution_count": 53,
   "id": "0f727e4c",
   "metadata": {},
   "outputs": [],
   "source": [
    "import os\n",
    "\n",
    "def run_eval_single_simulation(current_injection, summary_features_target):\n",
    "\n",
    "    assert len(current_injection) == 3\n",
    "\n",
    "    # Define the cell\n",
    "    cell = ACTCellModel(\n",
    "        cell_name = \"BursterCa\",\n",
    "        path_to_hoc_file = \"../../data/BursterCa/orig_cutoff_test/template.hoc\",\n",
    "        path_to_mod_files = \"../../data/BursterCa/orig_cutoff_test/modfiles/\",\n",
    "        passive = [\"gbar_leak\", \"eleak\"],\n",
    "        active_channels = [\"gbar_na\", \"gbar_kdr\", \"gbar_cas\", \"gbar_ka\", \"gbar_kca\", \"gbar_cat\"],\n",
    "    )\n",
    "\n",
    "    # Set simulations\n",
    "    simulator = ACTSimulator(output_folder_name = \"output\")\n",
    "\n",
    "    for inj_id, inj in enumerate(current_injection):\n",
    "        sim_params = SimulationParameters(\n",
    "            sim_name = \"sim\",\n",
    "            sim_idx = inj_id,\n",
    "            h_celsius = 37,\n",
    "            h_dt = 0.1,\n",
    "            h_tstop = 1000,\n",
    "            h_v_init = -40,\n",
    "            CI = [inj])\n",
    "\n",
    "        simulator.submit_job(cell, sim_params)\n",
    "\n",
    "    simulator.run_jobs(3)\n",
    "    dp.combine_data(\"output/sim\")\n",
    "\n",
    "    # Get summary features\n",
    "    data = np.load(f\"output/sim/combined_out.npy\")\n",
    "    V = data[:, ::10, 0].reshape((3, -1))\n",
    "    I = data[:, ::10, 1].reshape((3, -1))\n",
    "    summary_features = dp.get_summary_features(V, I, window = (100, 800))\n",
    "\n",
    "    # Clean\n",
    "    shutil.rmtree(\"output/sim\")\n",
    "\n",
    "    return np.nanmean(summary_features_error(summary_features_target.to_numpy(), summary_features.to_numpy()))"
   ]
  },
  {
   "cell_type": "code",
   "execution_count": 54,
   "id": "7f68f2ec",
   "metadata": {},
   "outputs": [],
   "source": [
    "# V-rest ~-70\n",
    "all_errors = np.zeros(\n",
    "    (\n",
    "        len(np.arange(-80, 10, 5)), # Spiking\n",
    "        len(np.arange(-80, 10, 5)) # Bursting\n",
    "    )\n",
    ") * np.nan"
   ]
  },
  {
   "cell_type": "code",
   "execution_count": 56,
   "id": "2a0d5373",
   "metadata": {},
   "outputs": [
    {
     "data": {
      "text/plain": [
       "(18, 18)"
      ]
     },
     "execution_count": 56,
     "metadata": {},
     "output_type": "execute_result"
    }
   ],
   "source": [
    "all_errors.shape"
   ]
  },
  {
   "cell_type": "code",
   "execution_count": 64,
   "id": "cb536b12",
   "metadata": {},
   "outputs": [],
   "source": [
    "np.savetxt(\"all_errors.txt\", all_errors)"
   ]
  },
  {
   "cell_type": "code",
   "execution_count": null,
   "id": "b116c07b",
   "metadata": {},
   "outputs": [],
   "source": [
    "for idx_1, spiking_bound in enumerate(np.arange(-80, 10, 5)):\n",
    "    for idx_2, bursting_bound in enumerate(np.arange(-80, 10, 5)):\n",
    "            # Set the bounds\n",
    "            modify_template(spiking_th = spiking_bound, bursting_th = bursting_bound)\n",
    "            \n",
    "            # Run a simulation with constant current injection\n",
    "            error_const = run_eval_single_simulation(\n",
    "                [\n",
    "                    ConstantCurrentInjection(amp = 0, dur = 700, delay = 100),\n",
    "                    ConstantCurrentInjection(amp = 0.5, dur = 700, delay = 100),\n",
    "                    ConstantCurrentInjection(amp = 1.0, dur = 700, delay = 100)\n",
    "                ],\n",
    "                summary_features_target\n",
    "                )\n",
    "\n",
    "            all_errors[idx_1, idx_2] = error_const"
   ]
  },
  {
   "cell_type": "code",
   "execution_count": 11,
   "id": "acea062f",
   "metadata": {},
   "outputs": [],
   "source": [
    "all_errors = np.loadtxt(\"all_errors.txt\")"
   ]
  },
  {
   "cell_type": "code",
   "execution_count": 13,
   "id": "63ef49fe",
   "metadata": {},
   "outputs": [
    {
     "data": {
      "text/plain": [
       "<matplotlib.lines.Line2D at 0x18fe5a950>"
      ]
     },
     "execution_count": 13,
     "metadata": {},
     "output_type": "execute_result"
    },
    {
     "data": {
      "image/png": "[encoded data removed]",
      "text/plain": [
       "<Figure size 500x500 with 2 Axes>"
      ]
     },
     "metadata": {},
     "output_type": "display_data"
    }
   ],
   "source": [
    "fig, ax = plt.subplots(1, 1, figsize = (5, 5))\n",
    "\n",
    "im = ax.imshow(all_errors, origin = 'lower', extent = [-80, 5, -80, 5])\n",
    "\n",
    "ax.set_xlabel(\"Bursting\")\n",
    "ax.set_ylabel(\"Spiking\")\n",
    "\n",
    "# ax.set_xticks(np.arange(18))\n",
    "# ax.set_yticks(np.arange(18))\n",
    "# ax.set_xticklabels(np.arange(-80, 10, 5))\n",
    "# ax.set_yticklabels(np.arange(-80, 10, 5))\n",
    "\n",
    "cbar = fig.colorbar(im, shrink = 0.8)\n",
    "cbar.ax.set_ylabel(\"SFE\")\n",
    "\n",
    "#eleak_pos = np.arange(18)[np.arange(-80, 10, 5) == -50]\n",
    "ax.axhline(-45, color = \"white\", ls = '--')\n",
    "ax.axvline(-45, color = \"white\", ls = '--')\n",
    "# ax.scatter(eleak_pos, eleak_pos, marker = \"x\", color = 'white', label = \"Target\") # E-Leak"
   ]
  },
  {
   "cell_type": "code",
   "execution_count": 14,
   "id": "f7f63eba",
   "metadata": {},
   "outputs": [],
   "source": [
    "fig.savefig(\"BursterCA-segregation_sweeps.png\", bbox_inches = \"tight\", dpi = 500, format = \"png\")"
   ]
  }
 ],
 "metadata": {
  "kernelspec": {
   "display_name": "simulations",
   "language": "python",
   "name": "python3"
  },
  "language_info": {
   "codemirror_mode": {
    "name": "ipython",
    "version": 3
   },
   "file_extension": ".py",
   "mimetype": "text/x-python",
   "name": "python",
   "nbconvert_exporter": "python",
   "pygments_lexer": "ipython3",
   "version": "3.10.13"
  }
 },
 "nbformat": 4,
 "nbformat_minor": 5
}
