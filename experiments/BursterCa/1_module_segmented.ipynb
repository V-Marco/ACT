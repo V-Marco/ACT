{
 "cells": [
  {
   "cell_type": "markdown",
   "metadata": {},
   "source": [
    "# BursterCa \n",
    "\n",
    "A Ca-based burster."
   ]
  },
  {
   "cell_type": "code",
   "execution_count": null,
   "metadata": {},
   "outputs": [],
   "source": [
    "# Set the path\n",
    "import sys\n",
    "sys.path.append(\"../../\")\n",
    "\n",
    "from act.cell_model import ACTCellModel\n",
    "from act.simulator import ACTSimulator\n",
    "from act.types import SimulationParameters, ConstantCurrentInjection, FilterParameters, ConductanceOptions, OptimizationParameters\n",
    "import act.data_processing as dp\n",
    "from act.module import ACTModule\n",
    "\n",
    "import numpy as np\n",
    "import matplotlib.pyplot as plt\n",
    "\n",
    "from act.passive import ACTPassiveModule\n",
    "from act.segregation import ACTSegregator\n",
    "\n",
    "from sklearn.metrics import mean_absolute_error\n",
    "from act.metrics import pp_error"
   ]
  },
  {
   "cell_type": "markdown",
   "metadata": {},
   "source": [
    "## 1. Set the \"target\" model and simulate from it\n",
    "\n",
    "The \"target\" model's output represents the target bio data provided by the user to tune for.\n",
    "\n",
    "Parameters:\n",
    "..."
   ]
  },
  {
   "cell_type": "code",
   "execution_count": null,
   "metadata": {},
   "outputs": [],
   "source": [
    "# Define the \"target\" cell\n",
    "target_cell = ACTCellModel(\n",
    "    cell_name = \"BursterCa\",\n",
    "    path_to_hoc_file = \"../../data/BursterCa/orig/target_template.hoc\",\n",
    "    path_to_mod_files = \"../../data/BursterCa/orig/modfiles/\",\n",
    "    passive = [\"gbar_leak\", \"eleak\", None],\n",
    "    active_channels = [\"gbar_na\", \"gbar_kdr\", \"gbar_cas\", \"gbar_ka\", \"gbar_cat\"]\n",
    ")"
   ]
  },
  {
   "cell_type": "code",
   "execution_count": null,
   "metadata": {},
   "outputs": [],
   "source": [
    "target_g = np.array([4e-05, 0.13, 0.1, 0.01, 0.17, 0.005])"
   ]
  },
  {
   "cell_type": "markdown",
   "metadata": {},
   "source": [
    "### 1.1. Target passive properties"
   ]
  },
  {
   "cell_type": "code",
   "execution_count": null,
   "metadata": {},
   "outputs": [],
   "source": [
    "# Set simulations\n",
    "simulator = ACTSimulator(output_folder_name = \"output\")\n",
    "\n",
    "sim_params = SimulationParameters(\n",
    "    sim_name = \"target\",\n",
    "    sim_idx = 0,\n",
    "    h_celsius = 6.3,\n",
    "    h_dt = 0.1,\n",
    "    h_tstop = 1000,\n",
    "    CI = [ConstantCurrentInjection(amp = -0.2, dur = 700, delay = 100)])\n",
    "\n",
    "simulator.submit_job(target_cell, sim_params)\n",
    "simulator.run_jobs(1)"
   ]
  },
  {
   "cell_type": "code",
   "execution_count": null,
   "metadata": {},
   "outputs": [],
   "source": [
    "passive_trace = np.load(\"output/target/out_0.npy\")[:, 0]\n",
    "plt.plot(passive_trace[::10])"
   ]
  },
  {
   "cell_type": "code",
   "execution_count": null,
   "metadata": {},
   "outputs": [],
   "source": [
    "target_gpp = ACTPassiveModule.compute_gpp(passive_trace, 0.1, 100, 700, -0.2)\n",
    "target_gpp"
   ]
  },
  {
   "cell_type": "markdown",
   "metadata": {},
   "source": [
    "### 1.2. Target FI curve"
   ]
  },
  {
   "cell_type": "code",
   "execution_count": null,
   "metadata": {},
   "outputs": [],
   "source": [
    "# Set simulations\n",
    "simulator = ACTSimulator(output_folder_name = \"output\")\n",
    "\n",
    "for sim_idx, amp_value in enumerate([0.1, 1.0, 3.0]):\n",
    "    sim_params = SimulationParameters(\n",
    "        sim_name = \"target\",\n",
    "        sim_idx = sim_idx,\n",
    "        h_celsius = 6.3,\n",
    "        h_dt = 0.1,\n",
    "        h_tstop = 1000,\n",
    "        CI = [ConstantCurrentInjection(amp = amp_value, dur = 700, delay = 100)])\n",
    "\n",
    "    simulator.submit_job(target_cell, sim_params)\n",
    "\n",
    "simulator.run_jobs(3)\n",
    "\n",
    "# Combine simulated traces into one dataset for convenience\n",
    "dp.combine_data(\"output/target\")"
   ]
  },
  {
   "cell_type": "code",
   "execution_count": null,
   "metadata": {},
   "outputs": [],
   "source": [
    "# Plot the traces and the FI curve\n",
    "simulated_data = np.load(\"output/target/combined_out.npy\") # 3 x 10000 x 4; (n_sim x time x [V, I, g, lto_hto])\n",
    "\n",
    "fig, ax = plt.subplots(1, 3, figsize = (10, 2))\n",
    "for axid, amp in enumerate([0.1, 1.0, 3.0]):\n",
    "    ax[axid].plot(simulated_data[axid, ::10, 0])\n",
    "    ax[axid].set_xlabel(\"Time (ms)\")\n",
    "    ax[axid].set_title(f\"CI = {amp} nA\")\n",
    "\n",
    "ax[0].set_ylabel(\"Voltage (mV)\")"
   ]
  },
  {
   "cell_type": "code",
   "execution_count": null,
   "metadata": {},
   "outputs": [],
   "source": [
    "simulated_data = np.load(\"output/target/combined_out.npy\")\n",
    "\n",
    "f = []\n",
    "for trace_id in range(len(simulated_data)):\n",
    "    f.append(len(dp.find_events(simulated_data[trace_id, ::10, 0].flatten())))\n",
    "\n",
    "plt.plot([0.1, 1.0, 3.0], f)\n",
    "plt.xlabel(\"CI (nA)\")\n",
    "plt.ylabel(\"Frequency (Hz)\")\n",
    "plt.title(\"FI Curve\")"
   ]
  },
  {
   "cell_type": "markdown",
   "metadata": {},
   "source": [
    "## 2. Original pipeline - optimize passive and active channels together"
   ]
  },
  {
   "cell_type": "markdown",
   "metadata": {},
   "source": [
    "### 2.1. Set the train cell \n",
    "\n",
    "We assume the train cell was acquired from an external source, e.g., AllenDB. Thus, its parameters do not necesserily match those of the target cell. Here we set these parameters to the target's values +- 10% std."
   ]
  },
  {
   "cell_type": "code",
   "execution_count": null,
   "metadata": {},
   "outputs": [],
   "source": [
    "random_state = np.random.RandomState(123)\n",
    "target_values = np.array([1, 0.13, 0.1, 0.01, 0.17, 0.005, 4e-05, -50])\n",
    "# Cm, gnabar, gbar_kdr, gbar_cas, gbar_ka, gbar_cat, gbar_leak, eleak\n",
    "target_values = target_values + random_state.normal(0, np.abs(target_values * 0.1))\n",
    "target_values"
   ]
  },
  {
   "cell_type": "markdown",
   "metadata": {},
   "source": [
    "Train cell (updated in template.hoc):\n",
    "\n",
    "- cm = 8.9e-1\n",
    "- gbar_na = 1.42965e-1 (S/cm2)\n",
    "- gbar_kdr = 1.02829e-1 (S/cm2)\n",
    "- gbar_cas = 8.493705e-3 (S/cm2)\n",
    "- gbar_ka = 1.601638e-1 (S/cm2)\n",
    "- gbar_cat = 5.825718e-3 (S/cm2)\n",
    "- gbar_leak = 3.029328e-5 (S/cm2)\n",
    "- eleak = 52.14456 (mV)"
   ]
  },
  {
   "cell_type": "code",
   "execution_count": null,
   "metadata": {},
   "outputs": [],
   "source": [
    "# Define the train cell\n",
    "train_cell = ACTCellModel(\n",
    "    cell_name = \"BursterCa\",\n",
    "    path_to_hoc_file = \"../../data/BursterCa/seg/template.hoc\",\n",
    "    path_to_mod_files = \"../../data/BursterCa/seg/modfiles/\",\n",
    "    passive = [\"eleak\", None],\n",
    "    active_channels = [\"gbar_na\", \"gbar_kdr\", \"gbar_cas\", \"gbar_ka\", \"gbar_cat\", \"gbar_leak\"],\n",
    ")"
   ]
  },
  {
   "cell_type": "markdown",
   "metadata": {},
   "source": [
    "### 2.2. Passive properties before tuning"
   ]
  },
  {
   "cell_type": "code",
   "execution_count": null,
   "metadata": {},
   "outputs": [],
   "source": [
    "# Set simulations\n",
    "simulator = ACTSimulator(output_folder_name = \"output\")\n",
    "\n",
    "sim_params = SimulationParameters(\n",
    "    sim_name = \"seg_orig\",\n",
    "    sim_idx = 0,\n",
    "    h_celsius = 6.3,\n",
    "    h_dt = 0.1,\n",
    "    h_tstop = 1000,\n",
    "    CI = [ConstantCurrentInjection(amp = -0.2, dur = 700, delay = 100)])\n",
    "\n",
    "simulator.submit_job(train_cell, sim_params)\n",
    "simulator.run_jobs(1)\n",
    "\n",
    "passive_trace = np.load(\"output/seg_orig/out_0.npy\")[:, 0]\n",
    "ACTPassiveModule.compute_gpp(passive_trace, 0.1, 100, 700, -0.2)"
   ]
  },
  {
   "cell_type": "markdown",
   "metadata": {},
   "source": [
    "### 2.3. FI curve before tuning"
   ]
  },
  {
   "cell_type": "code",
   "execution_count": null,
   "metadata": {},
   "outputs": [],
   "source": [
    "# Set simulations\n",
    "simulator = ACTSimulator(output_folder_name = \"output\")\n",
    "\n",
    "for sim_idx, amp_value in enumerate([0.1, 1.0, 3.0]):\n",
    "    sim_params = SimulationParameters(\n",
    "        sim_name = \"seg_orig\",\n",
    "        sim_idx = sim_idx,\n",
    "        h_celsius = 6.3,\n",
    "        h_dt = 0.1,\n",
    "        h_tstop = 1000,\n",
    "        CI = [ConstantCurrentInjection(amp = amp_value, dur = 700, delay = 100)])\n",
    "\n",
    "    simulator.submit_job(train_cell, sim_params)\n",
    "\n",
    "simulator.run_jobs(3)\n",
    "\n",
    "# Combine simulated traces into one dataset for convenience\n",
    "dp.combine_data(\"output/seg_orig\")"
   ]
  },
  {
   "cell_type": "code",
   "execution_count": null,
   "metadata": {},
   "outputs": [],
   "source": [
    "simulated_data = np.load(\"output/seg_orig/combined_out.npy\")\n",
    "\n",
    "f = []\n",
    "for trace_id in range(len(simulated_data)):\n",
    "    f.append(len(dp.find_events(simulated_data[trace_id, ::10, 0].flatten())))\n",
    "\n",
    "plt.plot([0.1, 1.0, 3.0], f)\n",
    "plt.xlabel(\"CI (nA)\")\n",
    "plt.ylabel(\"Frequency (Hz)\")\n",
    "plt.title(\"FI Curve\")"
   ]
  },
  {
   "cell_type": "markdown",
   "metadata": {},
   "source": [
    "### 2.4 Optimize"
   ]
  },
  {
   "cell_type": "code",
   "execution_count": null,
   "metadata": {},
   "outputs": [],
   "source": [
    "# Parameter ranges as if provided by the user\n",
    "\n",
    "gbar_leak = 4e-05\n",
    "gbar_na = 0.13\n",
    "gbar_kdr = 0.1\n",
    "gbar_cas = 0.01\n",
    "gbar_ka = 0.17\n",
    "gbar_cat = 0.005\n",
    "\n",
    "random_state = np.random.RandomState(123)\n",
    "gbar_leak_range = (gbar_leak - random_state.uniform(0, gbar_leak / 2), gbar_leak + random_state.uniform(0, gbar_leak / 2))\n",
    "gbar_na_range = (gbar_na - random_state.uniform(0, gbar_na / 2), gbar_na + random_state.uniform(0, gbar_na / 2))\n",
    "gbar_kdr_range = (gbar_kdr - random_state.uniform(0, gbar_kdr / 2), gbar_kdr + random_state.uniform(0, gbar_kdr / 2))\n",
    "gbar_cas_range = (gbar_cas - random_state.uniform(0, gbar_cas / 2), gbar_cas + random_state.uniform(0, gbar_cas / 2))\n",
    "gbar_ka_range = (gbar_ka - random_state.uniform(0, gbar_ka / 2), gbar_ka + random_state.uniform(0, gbar_ka / 2))\n",
    "gbar_cat_range = (gbar_cat - random_state.uniform(0, gbar_cat / 2), gbar_cat + random_state.uniform(0, gbar_cat / 2))\n",
    "\n",
    "\n",
    "print(f\"Leak: {gbar_leak_range}\")\n",
    "print(f\"Na: {gbar_na_range}\")\n",
    "print(f\"Kdr: {gbar_kdr_range}\")\n",
    "print(f\"Cas: {gbar_cas_range}\")\n",
    "print(f\"Ka: {gbar_ka_range}\")\n",
    "print(f\"Cat: {gbar_cat_range}\")"
   ]
  },
  {
   "cell_type": "code",
   "execution_count": null,
   "metadata": {},
   "outputs": [],
   "source": [
    "# Possibly adjsut\n",
    "train_cell = ACTCellModel(\n",
    "    cell_name = \"BursterCa\",\n",
    "    path_to_hoc_file = \"../../data/BursterCa/seg/template.hoc\",\n",
    "    path_to_mod_files = \"../../data/BursterCa/seg/modfiles/\",\n",
    "    passive = [\"eleak\", None],\n",
    "    active_channels = [\"gbar_na\", \"gbar_kdr\", \"gbar_cas\", \"gbar_ka\", \"gbar_cat\", \"gbar_leak\"]\n",
    ")"
   ]
  },
  {
   "cell_type": "code",
   "execution_count": null,
   "metadata": {},
   "outputs": [],
   "source": [
    "sim_params = SimulationParameters(\n",
    "        sim_name = \"cell\",\n",
    "        sim_idx = 0,\n",
    "        h_celsius = 6.3,\n",
    "        h_dt = 0.1,\n",
    "        h_tstop = 1000)\n",
    "\n",
    "optim_params = OptimizationParameters(\n",
    "    conductance_options = [\n",
    "        ConductanceOptions(variable_name = \"gbar_na\", low = gbar_na_range[0], high = gbar_na_range[1], n_slices = 3),\n",
    "        ConductanceOptions(variable_name = \"gbar_kdr\", low = gbar_kdr_range[0], high = gbar_kdr_range[1], n_slices = 3),\n",
    "        ConductanceOptions(variable_name = \"gbar_cas\", low = gbar_cas_range[0], high = gbar_cas_range[1], n_slices = 3),  \n",
    "        ConductanceOptions(variable_name = \"gbar_ka\", low = gbar_ka_range[0], high = gbar_ka_range[1], n_slices = 3),\n",
    "        ConductanceOptions(variable_name = \"gbar_cat\", low = gbar_cat_range[0], high = gbar_cat_range[1], n_slices = 3),\n",
    "        ConductanceOptions(variable_name = \"gbar_leak\", low = gbar_leak_range[0], high = gbar_leak_range[1], n_slices = 3)\n",
    "    ],\n",
    "    CI_options = [\n",
    "        ConstantCurrentInjection(amp = 0.1, dur = 700, delay = 100),\n",
    "        ConstantCurrentInjection(amp = 1.0, dur = 700, delay = 100),\n",
    "        ConstantCurrentInjection(amp = 3.0, dur = 700, delay = 100)\n",
    "    ],\n",
    "    filter_parameters = FilterParameters(\n",
    "        saturation_threshold = -55,\n",
    "        window_of_inspection = (100, 800)\n",
    "    )\n",
    ")\n",
    "\n",
    "m = ACTModule(\n",
    "    name = \"seg_orig\",\n",
    "    cell = train_cell,\n",
    "    simulation_parameters = sim_params,\n",
    "    optimization_parameters = optim_params,\n",
    "    target_file = \"output/target/combined_out.npy\"\n",
    ")"
   ]
  },
  {
   "cell_type": "code",
   "execution_count": null,
   "metadata": {},
   "outputs": [],
   "source": [
    "m.run()"
   ]
  },
  {
   "cell_type": "code",
   "execution_count": null,
   "metadata": {},
   "outputs": [],
   "source": [
    "orig_g = np.array(list(m.cell.prediction.values()))"
   ]
  },
  {
   "cell_type": "code",
   "execution_count": null,
   "metadata": {},
   "outputs": [],
   "source": [
    "# Test g error\n",
    "mean_absolute_error(target_g, orig_g)"
   ]
  },
  {
   "cell_type": "markdown",
   "metadata": {},
   "source": [
    "### 2.5. Passive properties after tuning"
   ]
  },
  {
   "cell_type": "code",
   "execution_count": null,
   "metadata": {},
   "outputs": [],
   "source": [
    "train_cell = ACTCellModel(\n",
    "    cell_name = \"BursterCa\",\n",
    "    path_to_hoc_file = \"../../data/BursterCa/seg/template.hoc\",\n",
    "    path_to_mod_files = \"../../data/BursterCa/seg/modfiles/\",\n",
    "    passive = [\"eleak\", None],\n",
    "    active_channels = [\"gbar_na\", \"gbar_kdr\", \"gbar_cas\", \"gbar_ka\", \"gbar_cat\", \"gbar_leak\"]\n",
    ")"
   ]
  },
  {
   "cell_type": "code",
   "execution_count": null,
   "metadata": {},
   "outputs": [],
   "source": [
    "# Set simulations\n",
    "simulator = ACTSimulator(output_folder_name = \"output\")\n",
    "\n",
    "sim_params = SimulationParameters(\n",
    "    sim_name = \"burster_seg_orig_after\",\n",
    "    sim_idx = 0,\n",
    "    h_celsius = 6.3,\n",
    "    h_dt = 0.1,\n",
    "    h_tstop = 1000,\n",
    "    CI = [ConstantCurrentInjection(amp = -0.2, dur = 700, delay = 100)])\n",
    "\n",
    "train_cell.set_g_bar([\"gbar_na\", \"gbar_kdr\", \"gbar_cas\", \"gbar_ka\", \"gbar_cat\", \"gbar_leak\"], orig_g)\n",
    "\n",
    "simulator.submit_job(train_cell, sim_params)\n",
    "simulator.run_jobs(1)\n",
    "\n",
    "passive_trace = np.load(\"output/burster_seg_orig_after/out_0.npy\")[:, 0]\n",
    "ACTPassiveModule.compute_gpp(passive_trace, 0.1, 100, 700, -0.2)"
   ]
  },
  {
   "cell_type": "code",
   "execution_count": null,
   "metadata": {},
   "outputs": [],
   "source": [
    "orig_gpp = ACTPassiveModule.compute_gpp(passive_trace, 0.1, 100, 700, -0.2)\n",
    "orig_gpp"
   ]
  },
  {
   "cell_type": "code",
   "execution_count": null,
   "metadata": {},
   "outputs": [],
   "source": [
    "pp_error(target_gpp, orig_gpp)"
   ]
  },
  {
   "cell_type": "markdown",
   "metadata": {},
   "source": [
    "### 2.6. FI curve after tuning"
   ]
  },
  {
   "cell_type": "code",
   "execution_count": null,
   "metadata": {},
   "outputs": [],
   "source": [
    "train_cell = ACTCellModel(\n",
    "    cell_name = \"BursterCa\",\n",
    "    path_to_hoc_file = \"../../data/BursterCa/seg/template.hoc\",\n",
    "    path_to_mod_files = \"../../data/BursterCa/seg/modfiles/\",\n",
    "    passive = [\"eleak\", None],\n",
    "    active_channels = [\"gbar_na\", \"gbar_kdr\", \"gbar_cas\", \"gbar_ka\", \"gbar_cat\", \"gbar_leak\"]\n",
    ")"
   ]
  },
  {
   "cell_type": "code",
   "execution_count": null,
   "metadata": {},
   "outputs": [],
   "source": [
    "# Set simulations\n",
    "simulator = ACTSimulator(output_folder_name = \"output\")\n",
    "\n",
    "\n",
    "for sim_idx, amp_value in enumerate([0.1, 1.0, 3.0]):\n",
    "    sim_params = SimulationParameters(\n",
    "        sim_name = \"burster_seg_orig_after\",\n",
    "        sim_idx = sim_idx,\n",
    "        h_celsius = 6.3,\n",
    "        h_dt = 0.1,\n",
    "        h_tstop = 1000,\n",
    "        CI = [ConstantCurrentInjection(amp = amp_value, dur = 700, delay = 100)])\n",
    "    \n",
    "    train_cell.set_g_bar(\n",
    "        [\"gbar_na\", \"gbar_kdr\", \"gbar_cas\", \"gbar_ka\", \"gbar_cat\", \"gbar_leak\"], \n",
    "        orig_g)\n",
    "\n",
    "\n",
    "    simulator.submit_job(train_cell, sim_params)\n",
    "\n",
    "simulator.run_jobs(3)\n",
    "\n",
    "# Combine simulated traces into one dataset for convenience\n",
    "dp.combine_data(\"output/burster_seg_orig_after\")"
   ]
  },
  {
   "cell_type": "code",
   "execution_count": null,
   "metadata": {},
   "outputs": [],
   "source": [
    "simulated_data = np.load(\"output/burster_seg_orig_after/combined_out.npy\")\n",
    "\n",
    "f = []\n",
    "for trace_id in range(len(simulated_data)):\n",
    "    f.append(len(dp.find_events(simulated_data[trace_id, ::10, 0].flatten())))\n",
    "\n",
    "plt.plot([0.1, 1.0, 3.0], f)\n",
    "plt.xlabel(\"CI (nA)\")\n",
    "plt.ylabel(\"Frequency (Hz)\")\n",
    "plt.title(\"FI Curve\")"
   ]
  }
 ],
 "metadata": {
  "kernelspec": {
   "display_name": "act-venv",
   "language": "python",
   "name": "python3"
  },
  "language_info": {
   "codemirror_mode": {
    "name": "ipython",
    "version": 3
   },
   "file_extension": ".py",
   "mimetype": "text/x-python",
   "name": "python",
   "nbconvert_exporter": "python",
   "pygments_lexer": "ipython3",
   "version": "3.10.18"
  }
 },
 "nbformat": 4,
 "nbformat_minor": 2
}
