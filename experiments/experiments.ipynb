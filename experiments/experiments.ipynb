{
 "cells": [
  {
   "cell_type": "code",
   "execution_count": null,
   "metadata": {},
   "outputs": [
    {
     "name": "stdout",
     "output_type": "stream",
     "text": [
      "Saved metrics to: LA_A/not-filtered/output/LAA_original_-25mV-3/LAA_original_-25mV-3_averaged_metrics.json\n"
     ]
    }
   ],
   "source": [
    "from act.Metrics import Metrics\n",
    "\n",
    "metrics = Metrics()\n",
    "\n",
    "seeds = [\"42\",\"43\",\"44\",\"45\",\"46\"]\n",
    "num_slices_new = 3\n",
    "num_slices_old = 5\n",
    "cell = \"LA_A\"\n",
    "cell_short = \"LAA\"\n",
    "cell_props = \"low\" # low, high, center\n",
    "experiment = \"range\" # blocked, range\n",
    "filtering = \"not-filtered\" # filtered, not-filtered\n",
    "protocol = \"original_-50mV\" # Original, Full_vhalf, Qualitative_...\n",
    "\n",
    "\n",
    "\n",
    "if filtering == \"filtered\":\n",
    "    f = \"fsl\"\n",
    "else:\n",
    "    f = \"sl\"    \n",
    "\n",
    "'''\n",
    "if protocol == \"Original\" or protocol == \"Original_passmod\":\n",
    "    module_name = f\"{cell_short}_{protocol}_{f}-{num_slices_new}\"\n",
    "    result_folder = \"module\"\n",
    "else:\n",
    "    module_name = f\"{cell_short}_{protocol}_{f}-{num_slices_new}-{num_slices_old}\"\n",
    "    result_folder = \"module_final\"\n",
    "'''\n",
    "module_name =  f\"{cell_short}_{protocol}-{num_slices_new}\"\n",
    "folder_name = f\"output/{module_name}\"\n",
    "result_folder = \"module_final\"\n",
    "\n",
    "metrics.average_metrics_across_seeds(\n",
    "    [\n",
    "        f\"{cell}/{filtering}/{folder_name}/{seeds[0]}/{result_folder}/results/saved_metrics.json\",\n",
    "        f\"{cell}/{filtering}/{folder_name}/{seeds[1]}/{result_folder}/results/saved_metrics.json\",\n",
    "        f\"{cell}/{filtering}/{folder_name}/{seeds[2]}/{result_folder}/results/saved_metrics.json\",\n",
    "        f\"{cell}/{filtering}/{folder_name}/{seeds[3]}/{result_folder}/results/saved_metrics.json\",\n",
    "        f\"{cell}/{filtering}/{folder_name}/{seeds[4]}/{result_folder}/results/saved_metrics.json\"\n",
    "    ],\n",
    "    f\"{cell}/{filtering}/{folder_name}/{module_name}_averaged_metrics.json\"\n",
    ")"
   ]
  }
 ],
 "metadata": {
  "kernelspec": {
   "display_name": "act-venv",
   "language": "python",
   "name": "python3"
  },
  "language_info": {
   "codemirror_mode": {
    "name": "ipython",
    "version": 3
   },
   "file_extension": ".py",
   "mimetype": "text/x-python",
   "name": "python",
   "nbconvert_exporter": "python",
   "pygments_lexer": "ipython3",
   "version": "3.8.10"
  }
 },
 "nbformat": 4,
 "nbformat_minor": 2
}
