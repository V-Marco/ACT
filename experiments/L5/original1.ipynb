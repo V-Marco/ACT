{
 "cells": [
  {
   "cell_type": "markdown",
   "metadata": {},
   "source": [
    "# L5"
   ]
  },
  {
   "cell_type": "markdown",
   "metadata": {},
   "source": [
    "Parameters (original / segregated where changed):\n",
    "- e_pas = -90\n",
    "- g_pas = 0.0000338\n",
    "- gIhbar_Ih = 0.0002\n",
    "- gCa_LVAstbar_Ca_LVAst = 0.00343 \n",
    "- gCa_HVAbar_Ca_HVA = 0.000992 \n",
    "- gSKv3_1bar_SKv3_1 = 0.693\n",
    "- gK_Tstbar_K_Tst = 0.0812\n",
    "- gK_Pstbar_K_Pst = 0.00223\n",
    "- gNap_Et2bar_Nap_Et2 = 0.00172 \n",
    "- gNaTa_tbar_NaTa_t = 2.04\n",
    "\n",
    "Modules:\n",
    "- Passive: [gIhbar_Ih], (-inf; -60.44)\n",
    "- Bursting: [gNap_Et2bar_Nap_Et2, gCa_LVAstbar_Ca_LVAst], (-60.44; +inf)\n",
    "- Spiking: [gCa_HVAbar_Ca_HVA, gSKv3_1bar_SKv3_1, gK_Tstbar_K_Tst, gK_Pstbar_K_Pst, gNaTa_tbar_NaTa_t], (-44.324, +inf)"
   ]
  },
  {
   "cell_type": "code",
   "execution_count": null,
   "metadata": {},
   "outputs": [],
   "source": []
  }
 ],
 "metadata": {
  "kernelspec": {
   "display_name": "act-venv",
   "language": "python",
   "name": "python3"
  },
  "language_info": {
   "name": "python",
   "version": "3.10.18"
  }
 },
 "nbformat": 4,
 "nbformat_minor": 2
}
