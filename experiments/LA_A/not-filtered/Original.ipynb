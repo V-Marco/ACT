{
 "cells": [
  {
   "cell_type": "code",
   "execution_count": 1,
   "metadata": {},
   "outputs": [
    {
     "name": "stderr",
     "output_type": "stream",
     "text": [
      "Warning: no DISPLAY environment variable.\n",
      "--No graphics will be displayed.\n"
     ]
    }
   ],
   "source": [
    "# Set the path\n",
    "import sys\n",
    "sys.path.append(\"/home/ubuntu/ACT\")\n",
    "\n",
    "from act.cell_model import ACTCellModel\n",
    "from act.simulator import ACTSimulator\n",
    "from act.act_types import SimulationParameters, ConstantCurrentInjection, FilterParameters, ConductanceOptions, OptimizationParameters\n",
    "from act.data_processing import ACTDataProcessor as dp\n",
    "from act.act_module import ACTModule, ACTModuleParameters\n",
    "\n",
    "import numpy as np\n",
    "import matplotlib.pyplot as plt"
   ]
  },
  {
   "cell_type": "code",
   "execution_count": 2,
   "metadata": {},
   "outputs": [],
   "source": [
    "random_seed = 42\n",
    "num_slices = 3\n",
    "experiment_folder = f\"output/LAA_original-{num_slices}/{random_seed}\"\n",
    "target_folder = experiment_folder + \"/target\"\n",
    "module_folder = experiment_folder + \"/module_final\"\n",
    "\n",
    "target_cell = ACTCellModel(\n",
    "    path_to_hoc_file=\"/home/ubuntu/ACT/data/LAA/orig_modfiles/template.hoc\",\n",
    "    path_to_mod_files=\"/home/ubuntu/ACT/data/LAA/orig_modfiles\",\n",
    "    cell_name=\"Cell_A\",\n",
    "    passive=[\"ghdbar_hd\",\"glbar_leak\"],\n",
    "    active_channels=[\"gbar_nap\",\n",
    "                     \"gmbar_im\", \n",
    "                     \"gbar_na3\",\n",
    "                     \"gkdrbar_kdr\", \n",
    "                     \"gcabar_cadyn\", \n",
    "                     \"gsAHPbar_sAHP\", \n",
    "                     \"gkabar_kap\"]\n",
    ")\n",
    "\n",
    "sim_par= SimulationParameters(\n",
    "            h_v_init=-65.0,  # Consistent with nrngui settings\n",
    "            h_tstop=600,     # Simulation time in ms\n",
    "            h_dt=0.1,      # Time step in ms\n",
    "            h_celsius=6.3,   # Temperature in degrees Celsius\n",
    "            CI=[ConstantCurrentInjection(amp=0.040,dur=400,delay=100, lto_hto=1),\n",
    "                ConstantCurrentInjection(amp=0.045,dur=400,delay=100, lto_hto=1),\n",
    "                ConstantCurrentInjection(amp=0.050,dur=400,delay=100, lto_hto=1),\n",
    "                ConstantCurrentInjection(amp=0.055,dur=400,delay=100, lto_hto=1),\n",
    "                ConstantCurrentInjection(amp=0.060,dur=400,delay=100, lto_hto=1),\n",
    "                ConstantCurrentInjection(amp=0.0,dur=400,delay=100),\n",
    "                ConstantCurrentInjection(amp=0.1,dur=400,delay=100),\n",
    "                ConstantCurrentInjection(amp=0.2,dur=400,delay=100),\n",
    "                ConstantCurrentInjection(amp=0.3,dur=400,delay=100),\n",
    "                ConstantCurrentInjection(amp=0.4,dur=400,delay=100),\n",
    "                ConstantCurrentInjection(amp=4.5,dur=400,delay=100, lto_hto=1),\n",
    "                ConstantCurrentInjection(amp=5.0,dur=400,delay=100, lto_hto=1),\n",
    "                ConstantCurrentInjection(amp=5.5,dur=400,delay=100, lto_hto=1),\n",
    "                ConstantCurrentInjection(amp=6.0,dur=400,delay=100, lto_hto=1),\n",
    "                ConstantCurrentInjection(amp=6.5,dur=400,delay=100, lto_hto=1)],\n",
    "            set_g_to=[]\n",
    "        )"
   ]
  },
  {
   "cell_type": "code",
   "execution_count": 3,
   "metadata": {},
   "outputs": [
    {
     "name": "stdout",
     "output_type": "stream",
     "text": [
      "\n",
      "        ACTSimulator (2024)\n",
      "        ----------\n",
      "        When submitting multiple jobs, note that the cells must share modfiles.\n",
      "        \n"
     ]
    }
   ],
   "source": [
    "# Set simulations\n",
    "simulator = ACTSimulator(output_folder_name = \".\")\n",
    "\n",
    "# LTO\n",
    "for sim_idx, amp_value in enumerate([0.04, 0.045, 0.05, 0.055, 0.06]):\n",
    "    sim_params = SimulationParameters(\n",
    "        sim_name = target_folder, \n",
    "        sim_idx = sim_idx, \n",
    "        h_v_init=-65,\n",
    "        h_celsius = 6.3,\n",
    "        h_dt = 0.1,\n",
    "        h_tstop = 1000,\n",
    "        CI = [ConstantCurrentInjection(amp = amp_value, dur = 700, delay = 100, lto_hto = 1)])\n",
    "\n",
    "    simulator.submit_job(target_cell, sim_params)\n",
    "    \n",
    "# Normal\n",
    "for sim_idx, amp_value in enumerate([0.0, 0.1, 0.2, 0.3, 0.4]):\n",
    "    sim_params = SimulationParameters(\n",
    "        sim_name = target_folder, \n",
    "        sim_idx = sim_idx+5, \n",
    "        h_v_init=-65,\n",
    "        h_celsius = 6.3,\n",
    "        h_dt = 0.1,\n",
    "        h_tstop = 1000,\n",
    "        CI = [ConstantCurrentInjection(amp = amp_value, dur = 700, delay = 100, lto_hto = 0)])\n",
    "    \n",
    "    simulator.submit_job(target_cell, sim_params)\n",
    "\n",
    "#HTO\n",
    "for sim_idx, amp_value in enumerate([4.5, 5.0, 5.5, 6.0, 6.5]):\n",
    "    sim_params = SimulationParameters(\n",
    "        sim_name = target_folder, \n",
    "        sim_idx = sim_idx+10, \n",
    "        h_v_init=-65,\n",
    "        h_celsius = 6.3,\n",
    "        h_dt = 0.1,\n",
    "        h_tstop = 1000,\n",
    "        CI = [ConstantCurrentInjection(amp = amp_value, dur = 700, delay = 100, lto_hto = 1)])\n",
    "\n",
    "    simulator.submit_job(target_cell, sim_params)"
   ]
  },
  {
   "cell_type": "code",
   "execution_count": 4,
   "metadata": {},
   "outputs": [],
   "source": [
    "simulator.run_jobs(15)"
   ]
  },
  {
   "cell_type": "code",
   "execution_count": 5,
   "metadata": {},
   "outputs": [
    {
     "name": "stdout",
     "output_type": "stream",
     "text": [
      "output/LAA_original-3/42/target\n"
     ]
    }
   ],
   "source": [
    "# Combine simulated traces into one dataset for convenience\n",
    "dp.combine_data(target_folder)"
   ]
  },
  {
   "cell_type": "code",
   "execution_count": 6,
   "metadata": {},
   "outputs": [],
   "source": [
    "train_cell = ACTCellModel(\n",
    "    path_to_hoc_file=\"/home/ubuntu/ACT/data/LAA/orig_modfiles/template.hoc\",\n",
    "    path_to_mod_files=\"/home/ubuntu/ACT/data/LAA/orig_modfiles\",\n",
    "    cell_name=\"Cell_A\",\n",
    "    passive=[\"ghdbar_hd\",\"glbar_leak\"],\n",
    "    active_channels=[\"gbar_nap\",\n",
    "                     \"gmbar_im\", \n",
    "                     \"gbar_na3\",\n",
    "                     \"gkdrbar_kdr\", \n",
    "                     \"gcabar_cadyn\", \n",
    "                     \"gsAHPbar_sAHP\", \n",
    "                     \"gkabar_kap\"]\n",
    ")"
   ]
  },
  {
   "cell_type": "markdown",
   "metadata": {},
   "source": [
    "# Ion Channel Range Randomizer"
   ]
  },
  {
   "cell_type": "code",
   "execution_count": 7,
   "metadata": {},
   "outputs": [],
   "source": [
    "random_state = np.random.RandomState(123)\n",
    "\n",
    "glbar_leak = 5.5e-5\n",
    "ghdbar_hd=2.3e-05\n",
    "gmbar_im = 0.002\n",
    "gbar_nap= 0.000142\n",
    "gbar_na3=0.03\n",
    "gkdrbar_kdr=0.0015\n",
    "gcabar_cadyn = 6e-5\n",
    "gsAHPbar_sAHP = 0.009\n",
    "gkabar_kap = 0.000843\n",
    "\n",
    "gbar_nap_range = (gbar_nap - random_state.uniform(0, gbar_nap / 2), gbar_nap + random_state.uniform(0, gbar_nap / 2))\n",
    "gmbar_im_range = (gmbar_im - random_state.uniform(0, gmbar_im / 2), gmbar_im + random_state.uniform(0, gmbar_im / 2))\n",
    "gbar_na3_range = (gbar_na3 - random_state.uniform(0, gbar_na3 / 2), gbar_na3 + random_state.uniform(0, gbar_na3 / 2))\n",
    "gkdrbar_kdr_range = (gkdrbar_kdr - random_state.uniform(0, gkdrbar_kdr / 2), gkdrbar_kdr + random_state.uniform(0, gkdrbar_kdr / 2))\n",
    "gcabar_cadyn_range = (gcabar_cadyn - random_state.uniform(0, gcabar_cadyn / 2), gcabar_cadyn + random_state.uniform(0, gcabar_cadyn / 2))\n",
    "gsAHPbar_sAHP_range = (gsAHPbar_sAHP - random_state.uniform(0, gsAHPbar_sAHP / 2), gsAHPbar_sAHP + random_state.uniform(0, gsAHPbar_sAHP / 2))\n",
    "gkabar_kap_range = (gkabar_kap - random_state.uniform(0, gkabar_kap / 2), gkabar_kap + random_state.uniform(0, gkabar_kap / 2))"
   ]
  },
  {
   "cell_type": "code",
   "execution_count": 8,
   "metadata": {},
   "outputs": [],
   "source": [
    "mod = ACTModule(\n",
    "    ACTModuleParameters(\n",
    "        module_folder_name=module_folder,\n",
    "        cell= train_cell,\n",
    "        target_traces_file = f\"{target_folder}/combined_out.npy\",\n",
    "        sim_params= sim_par,\n",
    "        optim_params= OptimizationParameters(\n",
    "            conductance_options = [\n",
    "                ConductanceOptions(variable_name=\"gbar_nap\", low=gbar_nap_range[0], high= gbar_nap_range[1], n_slices=num_slices),\n",
    "                ConductanceOptions(variable_name=\"gmbar_im\", low=gmbar_im_range[0], high= gmbar_im_range[1],  n_slices=num_slices),\n",
    "                ConductanceOptions(variable_name=\"gbar_na3\", low=gbar_na3_range[0], high= gbar_na3_range[1], n_slices=num_slices),\n",
    "                ConductanceOptions(variable_name=\"gbar_kdr\", low=gkdrbar_kdr_range[0], high= gkdrbar_kdr_range[1], n_slices=num_slices),\n",
    "                ConductanceOptions(variable_name=\"gcabar_cadyn\", low= gcabar_cadyn_range[0], high= gcabar_cadyn_range[1], n_slices=num_slices),\n",
    "                ConductanceOptions(variable_name=\"gsAHPbar_sAHP\", low= gsAHPbar_sAHP_range[0], high= gsAHPbar_sAHP_range[1], n_slices=num_slices),\n",
    "                ConductanceOptions(variable_name=\"gkabar_kap\", low= gkabar_kap_range[0], high= gkabar_kap_range[1], n_slices=num_slices)\n",
    "            ],\n",
    "            train_features=[\"i_trace_stats\", \"number_of_spikes\", \"spike_times\", \"spike_height_stats\", \"trough_times\", \"trough_height_stats\", \"lto-hto_amplitude\", \"lto-hto_frequency\"],\n",
    "            prediction_eval_method='features',\n",
    "            save_file=f\"{module_folder}/results/saved_metrics.json\"\n",
    "        )\n",
    "    )\n",
    ")"
   ]
  },
  {
   "cell_type": "code",
   "execution_count": null,
   "metadata": {},
   "outputs": [
    {
     "name": "stdout",
     "output_type": "stream",
     "text": [
      "RUNNING THE MODULE\n",
      "LOADING TARGET TRACES\n",
      "SIMULATING TRAINING DATA\n",
      "\n",
      "        ACTSimulator (2024)\n",
      "        ----------\n",
      "        When submitting multiple jobs, note that the cells must share modfiles.\n",
      "        \n",
      "/home/ubuntu/ACT/experiments/LA_A/not-filtered/output/LAA_original-3/42/module_final/train\n",
      "TRAINING RANDOM FOREST REGRESSOR\n",
      "Extracting features: ['I_mean', 'I_stdev', 'Num Spikes', 'Spike Time 1', 'Spike Time 2', 'Spike Time 3', 'Spike Time 4', 'Spike Time 5', 'Spike Time 6', 'Spike Time 7', 'Spike Time 8', 'Spike Time 9', 'Spike Time 10', 'Spike Time 11', 'Spike Time 12', 'Spike Time 13', 'Spike Time 14', 'Spike Time 15', 'Spike Time 16', 'Spike Time 17', 'Spike Time 18', 'Spike Time 19', 'Spike Time 20', 'Min Spike Height', 'Max Spike Height', 'Avg Spike Height', 'Std Spike Height', 'Trough Time 1', 'Trough Time 2', 'Trough Time 3', 'Trough Time 4', 'Trough Time 5', 'Trough Time 6', 'Trough Time 7', 'Trough Time 8', 'Trough Time 9', 'Trough Time 10', 'Trough Time 11', 'Trough Time 12', 'Trough Time 13', 'Trough Time 14', 'Trough Time 15', 'Trough Time 16', 'Trough Time 17', 'Trough Time 18', 'Trough Time 19', 'Trough Time 20', 'Min Trough Height', 'Max Trough Height', 'Avg Trough Height', 'Std Trough Height', 'lto-hto_frequency', 'lto-hto_amplitude']\n",
      "Evaluating random forest\n",
      "MAE: 0.000416 (0.000007)\n",
      "Saving rf mean/stdev scores to output/LAA_original-3/42/module_final/results/saved_metrics.json\n",
      "Predicted Conductances for each current injection intensity: \n",
      "[[1.27455405e-04 2.16205758e-03 2.77904945e-02 1.38952855e-03\n",
      "  5.86525954e-05 9.86799300e-03 7.63148082e-04]\n",
      " [1.27455405e-04 2.16205758e-03 2.77904945e-02 1.38952855e-03\n",
      "  5.86525954e-05 9.86799300e-03 7.63148082e-04]\n",
      " [1.27457056e-04 2.16182625e-03 2.77936178e-02 1.38845370e-03\n",
      "  5.86567721e-05 9.86591120e-03 7.62928790e-04]\n",
      " [1.27484071e-04 2.16165558e-03 2.77906003e-02 1.38876673e-03\n",
      "  5.86721710e-05 9.86807532e-03 7.62939274e-04]\n",
      " [1.27484071e-04 2.16165558e-03 2.77906003e-02 1.38876673e-03\n",
      "  5.86721710e-05 9.86807532e-03 7.62939274e-04]\n",
      " [1.27455405e-04 2.16205758e-03 2.77904945e-02 1.38952855e-03\n",
      "  5.86525954e-05 9.86799300e-03 7.63148082e-04]\n",
      " [1.05936873e-04 2.12721013e-03 2.83431686e-02 9.91191526e-04\n",
      "  6.44727153e-05 1.04738945e-02 7.06407509e-04]\n",
      " [1.24851978e-04 2.08130237e-03 2.78629743e-02 1.36653906e-03\n",
      "  5.84844439e-05 1.08887040e-02 7.52857407e-04]\n",
      " [1.15956914e-04 2.16106441e-03 2.96796693e-02 1.45773033e-03\n",
      "  5.88380289e-05 8.79946832e-03 7.68923358e-04]\n",
      " [1.55339372e-04 1.99531500e-03 3.08450962e-02 1.53205746e-03\n",
      "  5.93618585e-05 8.35074102e-03 7.78478924e-04]\n",
      " [1.21154422e-04 2.15639541e-03 3.27731922e-02 1.28534135e-03\n",
      "  5.04829459e-05 1.06836405e-02 7.63043010e-04]\n",
      " [1.22375313e-04 2.09492028e-03 3.39557578e-02 1.36466527e-03\n",
      "  4.80602338e-05 9.50633445e-03 7.84149260e-04]\n",
      " [1.22305548e-04 2.29879983e-03 3.34330296e-02 1.14293307e-03\n",
      "  4.62268300e-05 9.94299919e-03 7.47712102e-04]\n",
      " [1.13898841e-04 2.40501952e-03 3.04337691e-02 1.40151653e-03\n",
      "  6.22429216e-05 1.18223463e-02 7.62202960e-04]\n",
      " [1.11212880e-04 2.42175009e-03 2.99795953e-02 1.30283009e-03\n",
      "  6.15488473e-05 1.19284969e-02 7.50337258e-04]]\n",
      "SIMULATING PREDICTIONS\n",
      "\n",
      "        ACTSimulator (2024)\n",
      "        ----------\n",
      "        When submitting multiple jobs, note that the cells must share modfiles.\n",
      "        \n"
     ]
    }
   ],
   "source": [
    "predicted_g_data_file = mod.run()"
   ]
  },
  {
   "cell_type": "code",
   "execution_count": null,
   "metadata": {},
   "outputs": [],
   "source": [
    "mod.pickle_rf(mod.rf_model,f\"{module_folder}/trained_rf.pkl\")\n",
    "print(train_cell.active_channels)"
   ]
  },
  {
   "cell_type": "markdown",
   "metadata": {},
   "source": [
    "# Results & Metrics"
   ]
  },
  {
   "cell_type": "code",
   "execution_count": null,
   "metadata": {},
   "outputs": [],
   "source": [
    "from act import ACTPlot\n",
    "ACTPlot.plot_v_comparison(\n",
    "    module_folder,\n",
    "    predicted_g_data_file, \n",
    "    sim_par.CI,\n",
    "    sim_par.h_dt\n",
    "    )\n",
    "\n",
    "ACTPlot.plot_fi_comparison(\n",
    "    module_folder, \n",
    "    sim_par.CI\n",
    "    )"
   ]
  },
  {
   "cell_type": "code",
   "execution_count": null,
   "metadata": {},
   "outputs": [],
   "source": [
    "from act.Metrics import Metrics\n",
    "\n",
    "metrics = Metrics()\n",
    "\n",
    "mean, stdev = metrics.save_interspike_interval_comparison(\n",
    "    module_folder,\n",
    "    predicted_g_data_file,\n",
    "    sim_par.CI, \n",
    "    sim_par.h_dt,\n",
    "    first_n_spikes=5,\n",
    "    save_file=f\"{module_folder}/results/saved_metrics.json\"\n",
    ")\n",
    "\n",
    "'''\n",
    "gmbar_im = 0.002\n",
    "gbar_nap= 0.000142\n",
    "gbar_na3=0.03\n",
    "gkdrbar_kdr=0.0015\n",
    "gcabar_cadyn = 6e-5\n",
    "gsAHPbar_sAHP = 0.009\n",
    "gkabar_kap = 0.000843\n",
    "'''\n",
    "\n",
    "actual_g={\"gbar_nap\": 0.000142, \"gmbar_im\": 0.002, \"gbar_na3\":0.03,\"gkdrbar_kdr\":0.0015, \"gcabar_cadyn\": 6e-5, \"gsAHPbar_sAHP\": 0.009, \"gkabar_kap\": 0.000843}\n",
    "\n",
    "    \n",
    "metrics.save_prediction_g_mae(\n",
    "    actual_g=actual_g,\n",
    "    save_file=f\"{module_folder}/results/saved_metrics.json\"\n",
    ")\n",
    "\n",
    "metrics.save_feature_mae(\n",
    "    module_folder,\n",
    "    predicted_g_data_file,\n",
    "    [\"i_trace_stats\", \"number_of_spikes\", \"spike_times\", \"spike_height_stats\", \"trough_times\", \"trough_height_stats\", \"lto-hto_amplitude\", \"lto-hto_frequency\"],\n",
    "    sim_par.h_dt,\n",
    "    first_n_spikes=5,\n",
    "    CI_settings=sim_par.CI,\n",
    "    save_file=f\"{module_folder}/results/saved_metrics.json\"\n",
    ")\n"
   ]
  },
  {
   "cell_type": "code",
   "execution_count": null,
   "metadata": {},
   "outputs": [],
   "source": [
    "from act import ACTPlot as actplt\n",
    "\n",
    "g_names = [\"gbar_nap\",\n",
    "            \"gmbar_im\", \n",
    "            \"gbar_na3\",\n",
    "            \"gkdrbar_kdr\", \n",
    "            \"gcabar_cadyn\", \n",
    "            \"gsAHPbar_sAHP\", \n",
    "            \"gkabar_kap\"]\n",
    "\n",
    "for i in range(len(g_names)-1):\n",
    "    actplt.plot_training_feature_mae_contour_plot(\n",
    "        module_folder,\n",
    "        sim_par.CI,\n",
    "        sim_par.CI[0].delay,\n",
    "        sim_par.h_dt,\n",
    "        index1=0,\n",
    "        index2=i+1,\n",
    "        g_names=g_names,\n",
    "        train_features=[\"i_trace_stats\", \"number_of_spikes\", \"spike_times\", \"spike_height_stats\", \"trough_times\", \"trough_height_stats\", \"lto-hto_amplitude\", \"lto-hto_frequency\"],\n",
    "        threshold=0,\n",
    "        first_n_spikes=20,\n",
    "        num_levels=100,\n",
    "        results_filename=f\"{module_folder}/results/Feature_MAE_Contour_Plot_{g_names[0]}_{g_names[i+1]}.png\"\n",
    "    )"
   ]
  },
  {
   "cell_type": "code",
   "execution_count": null,
   "metadata": {},
   "outputs": [],
   "source": [
    "from act import ACTPlot as actplt\n",
    "\n",
    "g_names = [\"gbar_nap\",\n",
    "            \"gmbar_im\", \n",
    "            \"gbar_na3\",\n",
    "            \"gkdrbar_kdr\", \n",
    "            \"gcabar_cadyn\", \n",
    "            \"gsAHPbar_sAHP\", \n",
    "            \"gkabar_kap\"]\n",
    "\n",
    "for i in range(len(g_names)-1):\n",
    "    actplt.plot_training_fi_mae_contour_plot(\n",
    "        module_folder,\n",
    "        sim_par.CI, \n",
    "        sim_par.CI[0].delay,\n",
    "        sim_par.h_dt,\n",
    "        index1=0,\n",
    "        index2=i+1,\n",
    "        g_names=g_names,\n",
    "        spike_threshold=0,\n",
    "        results_filename=f\"{module_folder}/results/FI_MAE_Contour_Plot_{g_names[0]}_{g_names[i+1]}.png\"\n",
    "    )"
   ]
  },
  {
   "cell_type": "code",
   "execution_count": null,
   "metadata": {},
   "outputs": [],
   "source": [
    "from act import ACTPlot as actplt\n",
    "\n",
    "g_names = [\"gbar_na3\", \"gkdrbar_kdr\",\"gbar_nap\",\"gmbar_im\"]\n",
    "\n",
    "for i in range(len(g_names)-1):\n",
    "    actplt.plot_training_v_mae_contour_plot(\n",
    "        module_folder,\n",
    "        sim_par.CI, \n",
    "        sim_par.CI[0].delay,\n",
    "        sim_par.h_dt,\n",
    "        index1=0,\n",
    "        index2=i+1,\n",
    "        g_names=g_names,\n",
    "        results_filename=f\"{module_folder}/results/Voltage_MAE_Contour_Plot_{g_names[0]}_{g_names[i+1]}.png\"\n",
    "    )"
   ]
  }
 ],
 "metadata": {
  "kernelspec": {
   "display_name": "act-venv",
   "language": "python",
   "name": "python3"
  },
  "language_info": {
   "codemirror_mode": {
    "name": "ipython",
    "version": 3
   },
   "file_extension": ".py",
   "mimetype": "text/x-python",
   "name": "python",
   "nbconvert_exporter": "python",
   "pygments_lexer": "ipython3",
   "version": "3.8.10"
  }
 },
 "nbformat": 4,
 "nbformat_minor": 2
}
