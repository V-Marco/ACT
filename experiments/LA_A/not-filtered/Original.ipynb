{
 "cells": [
  {
   "cell_type": "code",
   "execution_count": null,
   "metadata": {},
   "outputs": [],
   "source": [
    "from act.SyntheticGenerator import SyntheticGenerator\n",
    "from act.act_types import SimulationParameters, OptimizationParameters, CurrentInjection, FilterParameters\n",
    "from act.cell_model import TargetCell\n",
    "from act.module_parameters import ModuleParameters\n",
    "\n",
    "random_seed = 42\n",
    "module_name = f\"LA_A_seg_{random_seed}_module_1\"\n",
    "\n",
    "target_cell = TargetCell(\n",
    "    path_to_hoc_file=\"../../data/LAA/orig_modfiles/template.hoc\",\n",
    "    path_to_mod_files=\"../../data/LAA/orig_modfiles\",\n",
    "    cell_name=\"Cell_A\",\n",
    "    active_channels=[]\n",
    ")\n",
    "\n",
    "sim_par= SimulationParameters(\n",
    "            h_v_init=-65.0,  # Consistent with nrngui settings\n",
    "            h_tstop=500,     # Simulation time in ms\n",
    "            h_dt=0.1,      # Time step in ms\n",
    "            h_celsius=6.3,   # Temperature in degrees Celsius\n",
    "            CI=[CurrentInjection(type=\"constant\",amp=0.1,dur=300,delay=100),\n",
    "                CurrentInjection(type=\"constant\",amp=0.2,dur=300,delay=100),\n",
    "                CurrentInjection(type=\"constant\",amp=0.3,dur=300,delay=100)]\n",
    "        )\n",
    "\n",
    "sg = SyntheticGenerator(\n",
    "    ModuleParameters(\n",
    "        module_folder_name=module_name,\n",
    "        cell= target_cell,\n",
    "        sim_params= sim_par\n",
    "    )\n",
    ")\n",
    "\n",
    "sg.generate_synthetic_target_data(\"target_data.csv\")"
   ]
  },
  {
   "cell_type": "code",
   "execution_count": null,
   "metadata": {},
   "outputs": [],
   "source": [
    "passive_sim_par = SimulationParameters(\n",
    "            h_v_init = -65,\n",
    "            h_tstop = 500,\n",
    "            h_dt = 0.1,\n",
    "            h_celsius = 6.3,\n",
    "            CI=[CurrentInjection(type=\"constant\",amp=-0.1,dur=300,delay=100)]\n",
    "        )\n",
    "\n",
    "sg_passive = SyntheticGenerator(\n",
    "    ModuleParameters(\n",
    "        module_folder_name=module_name,\n",
    "        cell= target_cell,\n",
    "        sim_params= passive_sim_par,\n",
    "        optim_params = OptimizationParameters(\n",
    "            blocked_channels= []\n",
    "        )\n",
    "    )\n",
    ")\n",
    "\n",
    "sg_passive.generate_synthetic_target_data(\"passive_data.csv\")"
   ]
  },
  {
   "cell_type": "code",
   "execution_count": null,
   "metadata": {},
   "outputs": [],
   "source": [
    "from act.PassivePropertiesModule import PassivePropertiesModule\n",
    "from act.act_types import SimParams\n",
    "from act.cell_model import TrainCell\n",
    "\n",
    "train_cell = TrainCell(\n",
    "    hoc_file=\"/home/mwsrgf/proj/ACT/data/Spiker/seg/template.hoc\",\n",
    "    mod_folder=\"/home/mwsrgf/proj/ACT/data/Spiker/seg\",\n",
    "    cell_name=\"Simple_Spiker_seg\",\n",
    "    g_names = [\"gnabar_hh_seg\", \"gkbar_hh_seg\", \"gl_hh_seg\"]\n",
    ")\n",
    "\n",
    "passive_mod = PassivePropertiesModule(\n",
    "    train_cell=train_cell,\n",
    "    sim_params=passive_sim_par,\n",
    "    trace_filepath=f\"./model/{module_name}/target/passive_data.csv\",\n",
    "    leak_conductance_variable=\"gl_hh_seg\",\n",
    "    leak_reversal_variable=\"el_hh_seg\"\n",
    ")"
   ]
  },
  {
   "cell_type": "code",
   "execution_count": null,
   "metadata": {},
   "outputs": [],
   "source": [
    "passive_mod.set_passive_properties()\n",
    "print(train_cell.passive_properties)"
   ]
  },
  {
   "cell_type": "code",
   "execution_count": null,
   "metadata": {},
   "outputs": [],
   "source": [
    "from act.ACTModule import ACTModule\n",
    "from act.SyntheticGenerator import SyntheticGenerator\n",
    "from act.act_types import  Cell, SimParams, OptimizationParameters, OptimizationParam\n",
    "from act.cell_model import ModuleParameters\n",
    "from act.PassivePropertiesModule import PassivePropertiesModule\n",
    "from act.act_types import SimParams\n",
    "from act.cell_model import TrainCell\n",
    "\n",
    "mod = ACTModule(\n",
    "    ModuleParameters(\n",
    "        module_folder_name=module_name,\n",
    "        cell= train_cell,\n",
    "        target_traces_file = \"target_data.csv\",\n",
    "        sim_params= sim_par,\n",
    "        optim_params= OptimizationParameters(\n",
    "            g_ranges_slices= [\n",
    "                OptimizationParam(param=\"gnabar_hh_seg\", low=0.06, high=0.18, n_slices=15),\n",
    "                OptimizationParam(param=\"gkbar_hh_seg\", low=0.018, high=0.054, n_slices=15),\n",
    "                OptimizationParam(param=\"gl_hh_seg\", prediction=train_cell.passive_properties.g_bar_leak, bounds_variation=0.0, n_slices=1),\n",
    "                \n",
    "            ],\n",
    "            prediction_eval_method='fi_curve',\n",
    "            random_state=random_seed\n",
    "        )\n",
    "    )\n",
    ")"
   ]
  },
  {
   "cell_type": "code",
   "execution_count": null,
   "metadata": {},
   "outputs": [],
   "source": [
    "predicted_g_data_file = mod.run()"
   ]
  },
  {
   "cell_type": "code",
   "execution_count": null,
   "metadata": {},
   "outputs": [],
   "source": [
    "mod.pickle_rf(mod.rf_model,f\"./model/{module_name}/trained_rf.pkl\")"
   ]
  },
  {
   "cell_type": "code",
   "execution_count": null,
   "metadata": {},
   "outputs": [],
   "source": [
    "from act.ACTModule import ACTModule\n",
    "from act.SyntheticGenerator import SyntheticGenerator\n",
    "from act.act_types import  Cell, SimParams, OptimizationParameters, OptimizationParam\n",
    "from act.cell_model import ModuleParameters\n",
    "from act.PassivePropertiesModule import PassivePropertiesModule\n",
    "from act.act_types import SimParams\n",
    "from act.cell_model import TrainCell\n",
    "\n",
    "mod = ACTModule(\n",
    "    ModuleParameters(\n",
    "        module_folder_name=module_name,\n",
    "        cell= train_cell,\n",
    "        target_traces_file = \"target_data.csv\",\n",
    "        sim_params= sim_par,\n",
    "        optim_params= OptimizationParameters(\n",
    "            g_ranges_slices= [\n",
    "                OptimizationParam(param=\"gnabar_hh_seg\", low=0.06, high=0.18, n_slices=15),\n",
    "                OptimizationParam(param=\"gkbar_hh_seg\", low=0.018, high=0.054, n_slices=15),\n",
    "                OptimizationParam(param=\"gl_hh_seg\", prediction=train_cell.passive_properties.g_bar_leak, bounds_variation=0.0, n_slices=1),\n",
    "                \n",
    "            ],\n",
    "            prediction_eval_method='fi_curve',\n",
    "            random_state=random_seed\n",
    "        )\n",
    "    )\n",
    ")"
   ]
  },
  {
   "cell_type": "code",
   "execution_count": null,
   "metadata": {},
   "outputs": [],
   "source": [
    "predicted_g_data_file = mod.run()"
   ]
  },
  {
   "cell_type": "code",
   "execution_count": null,
   "metadata": {},
   "outputs": [],
   "source": [
    "mod.pickle_rf(mod.rf_model,f\"./model/{module_name}/trained_rf.pkl\")"
   ]
  },
  {
   "cell_type": "code",
   "execution_count": null,
   "metadata": {},
   "outputs": [],
   "source": [
    "from act import ACTPlot\n",
    "ACTPlot.plot_v_comparison(predicted_g_data_file, f\"./model/{module_name}/target\", f\"./model/{module_name}\", sim_par[\"CI_amps\"])\n",
    "ACTPlot.plot_fi_comparison(f\"./model/{module_name}/results/frequency_data.npy\", sim_par[\"CI_amps\"])"
   ]
  }
 ],
 "metadata": {
  "kernelspec": {
   "display_name": "act-venv",
   "language": "python",
   "name": "python3"
  },
  "language_info": {
   "name": "python",
   "version": "3.9.20"
  }
 },
 "nbformat": 4,
 "nbformat_minor": 2
}
