{
 "cells": [
  {
   "cell_type": "code",
   "execution_count": null,
   "id": "0da7b886",
   "metadata": {},
   "outputs": [],
   "source": [
    "import sys\n",
    "sys.path.append(\"../../\")\n",
    "\n",
    "from act.cell_model import ACTCellModel\n",
    "from act.simulator import ACTSimulator\n",
    "from act.types import SimulationParameters, ConstantCurrentInjection\n",
    "\n",
    "import matplotlib.pyplot as plt\n",
    "import numpy as np"
   ]
  },
  {
   "cell_type": "code",
   "execution_count": null,
   "id": "34feddac",
   "metadata": {},
   "outputs": [],
   "source": [
    "import sys\n",
    "sys.path.append(\"data/SST\")\n",
    "\n",
    "# 3D morphology builder for the L5 cell\n",
    "from cell_builder import sst_orig_cell_builder, sst_seg_cell_builder"
   ]
  }
 ],
 "metadata": {
  "language_info": {
   "name": "python"
  }
 },
 "nbformat": 4,
 "nbformat_minor": 5
}
