{
 "cells": [
  {
   "cell_type": "code",
   "execution_count": 1,
   "id": "91c2c393",
   "metadata": {},
   "outputs": [],
   "source": [
    "import sys\n",
    "sys.path.append(\"../../\")\n",
    "from cell_builder import sst_seg_cell_builder\n",
    "\n",
    "from act.cell_model import ACTCellModel\n",
    "from act.simulator import ACTSimulator\n",
    "from act.types import SimulationParameters, ConstantCurrentInjection\n",
    "from act.passive import ACTPassiveModule\n",
    "from act.data_processing import get_summary_features\n",
    "\n",
    "import matplotlib.pyplot as plt\n",
    "import numpy as np\n",
    "from act.types import SimulationParameters, ConstantCurrentInjection, OptimizationParameters, ConductanceOptions, FilterParameters\n",
    "from act.module import ACTModule\n",
    "\n",
    "import act.data_processing as dp"
   ]
  },
  {
   "cell_type": "markdown",
   "id": "42e1aca4",
   "metadata": {},
   "source": [
    "### Get the cell area"
   ]
  },
  {
   "cell_type": "code",
   "execution_count": 2,
   "id": "823bb7a4",
   "metadata": {},
   "outputs": [
    {
     "name": "stdout",
     "output_type": "stream",
     "text": [
      "\n",
      "        ACTSimulator (2025)\n",
      "        ----------\n",
      "        When submitting multiple jobs, note that the cells must share modfiles.\n",
      "        \n",
      "warning ./Sst-IRES-Cre_Ai14-188740.03.02.01_657210399_m.swc: more than one tree:\n",
      "  root at line 4\n",
      "  root at line 14504\n",
      "  root at line 14725\n",
      "  root at line 14798\n",
      "  root at line 15141\n",
      "  root at line 15144\n",
      "  root at line 15156\n",
      "  root at line 15211\n",
      "  root at line 15318\n",
      "  root at line 15496\n",
      "  root at line 15811\n",
      "  root at line 15857\n",
      "  root at line 15883\n",
      "  root at line 16161\n",
      "  root at line 16200\n",
      "  root at line 16210\n",
      "  root at line 16253\n",
      "  root at line 16286\n",
      "  root at line 16301\n",
      "  root at line 16326\n",
      "  root at line 16574\n",
      "  root at line 16613\n",
      "  root at line 16618\n",
      "  root at line 16645\n",
      "  root at line 16695\n",
      "  root at line 16751\n",
      "  root at line 16765\n",
      "  root at line 16768\n",
      "Soma diam (um): 12.661399841308594\n",
      "Soma L (um): 12.661407470703125\n",
      "Soma area (cm2): 5.036323076932052e-06\n",
      "Total area (cm2): 3.6238296823045575e-05\n"
     ]
    }
   ],
   "source": [
    "seg_cell = ACTCellModel(\n",
    "    cell_name = None,\n",
    "    path_to_hoc_file = None,\n",
    "    path_to_mod_files = \"../../data/SST/seg/modfiles/\",\n",
    "    passive = [\"g_pas\", \"e_pas\", \"gbar_Ih\"],\n",
    "    active_channels = [\"gbar_Nap\", \"gbar_Im_v2\", \"gbar_K_T\", \"gbar_NaTa\", \"gbar_Kd\", \"gbar_Ca_LVA\", \"gbar_Ca_HVA\", \"gbar_Kv2like\", \"gbar_Kv3_1\"]\n",
    ")\n",
    "\n",
    "seg_cell.set_custom_cell_builder(sst_seg_cell_builder)\n",
    "\n",
    "sim_params = SimulationParameters(\n",
    "    sim_name = \"SST_seg\", \n",
    "    sim_idx = 1, \n",
    "    h_celsius = 37,\n",
    "    verbose = True, \n",
    "    CI = [ConstantCurrentInjection(amp = -0.1, dur = 200, delay = 100)])\n",
    "\n",
    "simulator = ACTSimulator(output_folder_name = \"output\")\n",
    "simulator.submit_job(\n",
    "    seg_cell,\n",
    "    sim_params\n",
    ")\n",
    "simulator.run_jobs(1)"
   ]
  },
  {
   "cell_type": "code",
   "execution_count": 4,
   "id": "f8b0c3a7",
   "metadata": {},
   "outputs": [],
   "source": [
    "computed_soma_area = 5.036323076932052e-06 # (cm2)\n",
    "computed_total_area = 3.6238296823045575e-05 # (cm2)"
   ]
  },
  {
   "cell_type": "markdown",
   "id": "765d1e70",
   "metadata": {},
   "source": [
    "### Set target PP"
   ]
  },
  {
   "cell_type": "code",
   "execution_count": 5,
   "id": "a1e48b54",
   "metadata": {},
   "outputs": [],
   "source": [
    "# Target (SST from a different mouse)\n",
    "# https://celltypes.brain-map.org/experiment/electrophysiology/488677994\n",
    "\n",
    "target_rheobase = 160 # pA\n",
    "target_tau = 9.2 * 1e-3 # (s)\n",
    "target_R_in = 137 * 1e6 # Ohm\n",
    "target_V_rest = -72.9 # mV\n",
    "\n",
    "I = [150, 160, 210, 290, 350]\n",
    "F = [0, 2, 32, 60, 79]"
   ]
  },
  {
   "cell_type": "code",
   "execution_count": 6,
   "id": "9732fd3e",
   "metadata": {},
   "outputs": [
    {
     "data": {
      "text/plain": [
       "SettablePassiveProperties(Cm=1.8531026720004962, g_bar_leak=0.0002014242034783148, e_rev_leak=-72.9, g_bar_h=None)"
      ]
     },
     "execution_count": 6,
     "metadata": {},
     "output_type": "execute_result"
    }
   ],
   "source": [
    "ACTPassiveModule.compute_spp(target_R_in, computed_total_area, target_tau, target_V_rest)"
   ]
  },
  {
   "cell_type": "code",
   "execution_count": 46,
   "id": "d0ae85f1",
   "metadata": {},
   "outputs": [],
   "source": [
    "# Target summary features\n",
    "sf = get_summary_features(np.zeros((5, 10)), np.zeros((5, 10)))\n",
    "sf['spike_frequency'] = [0, 2, 32, 60, 79]\n",
    "sf['mean_i'] = np.array([150, 160, 210, 290, 350]) / 1000\n",
    "\n",
    "for f in [\"mean_v\", \"std_v\", \"max_ampl_v\", \"n_spikes\", \"main_freq\", \"std_i\"]:\n",
    "    sf[f] = np.nan\n",
    "sf.to_csv(\"target_sf.csv\", index = False)"
   ]
  },
  {
   "cell_type": "markdown",
   "id": "d7acce19",
   "metadata": {},
   "source": [
    "### Tune PP"
   ]
  },
  {
   "cell_type": "code",
   "execution_count": 20,
   "id": "756c898e",
   "metadata": {},
   "outputs": [
    {
     "name": "stdout",
     "output_type": "stream",
     "text": [
      "\n",
      "        ACTSimulator (2025)\n",
      "        ----------\n",
      "        When submitting multiple jobs, note that the cells must share modfiles.\n",
      "        \n",
      "warning ./Sst-IRES-Cre_Ai14-188740.03.02.01_657210399_m.swc: more than one tree:\n",
      "  root at line 4\n",
      "  root at line 14504\n",
      "  root at line 14725\n",
      "  root at line 14798\n",
      "  root at line 15141\n",
      "  root at line 15144\n",
      "  root at line 15156\n",
      "  root at line 15211\n",
      "  root at line 15318\n",
      "  root at line 15496\n",
      "  root at line 15811\n",
      "  root at line 15857\n",
      "  root at line 15883\n",
      "  root at line 16161\n",
      "  root at line 16200\n",
      "  root at line 16210\n",
      "  root at line 16253\n",
      "  root at line 16286\n",
      "  root at line 16301\n",
      "  root at line 16326\n",
      "  root at line 16574\n",
      "  root at line 16613\n",
      "  root at line 16618\n",
      "  root at line 16645\n",
      "  root at line 16695\n",
      "  root at line 16751\n",
      "  root at line 16765\n",
      "  root at line 16768\n"
     ]
    }
   ],
   "source": [
    "seg_cell = ACTCellModel(\n",
    "    cell_name = None,\n",
    "    path_to_hoc_file = None,\n",
    "    path_to_mod_files = \"../../data/SST/seg_tuned/modfiles/\",\n",
    "    passive = [\"g_pas\", \"e_pas\", \"gbar_Ih\"],\n",
    "    active_channels = [\"gbar_Nap\", \"gbar_Im_v2\", \"gbar_K_T\", \"gbar_NaTa\", \"gbar_Kd\", \"gbar_Ca_LVA\", \"gbar_Ca_HVA\", \"gbar_Kv2like\", \"gbar_Kv3_1\"]\n",
    ")\n",
    "\n",
    "seg_cell.set_custom_cell_builder(sst_seg_cell_builder)\n",
    "\n",
    "sim_params = SimulationParameters(\n",
    "    sim_name = \"SST_seg\", \n",
    "    sim_idx = 1, \n",
    "    h_celsius = 37,\n",
    "    verbose = False,\n",
    "    h_tstop = 1000,\n",
    "    CI = [ConstantCurrentInjection(amp = -0.1, dur = 700, delay = 100)])\n",
    "\n",
    "simulator = ACTSimulator(output_folder_name = \"output\")\n",
    "simulator.submit_job(\n",
    "    seg_cell,\n",
    "    sim_params\n",
    ")\n",
    "simulator.run_jobs(1)"
   ]
  },
  {
   "cell_type": "code",
   "execution_count": 21,
   "id": "6b7106c0",
   "metadata": {},
   "outputs": [
    {
     "data": {
      "text/plain": [
       "GettablePassiveProperties(R_in=136.8889075721546, tau1=4.7, tau2=50.0, sag_ratio=0.3164557566943581, V_rest=-74.89997015655686)"
      ]
     },
     "execution_count": 21,
     "metadata": {},
     "output_type": "execute_result"
    }
   ],
   "source": [
    "# Get PP\n",
    "passive_trace = np.load(\"output/SST_seg/out_1.npy\")[:, 0]\n",
    "seg_gpp = ACTPassiveModule.compute_gpp(passive_trace, dt = 0.1, I_t_start = 100, I_t_end = 700, I_amp = -0.1)\n",
    "seg_gpp"
   ]
  },
  {
   "cell_type": "code",
   "execution_count": 22,
   "id": "32f5a5bb",
   "metadata": {},
   "outputs": [
    {
     "data": {
      "text/plain": [
       "0.00023566631806962735"
      ]
     },
     "execution_count": 22,
     "metadata": {},
     "output_type": "execute_result"
    }
   ],
   "source": [
    "# Make g-pas a little bit higher\n",
    "0.000201424203478314 * 1.17"
   ]
  },
  {
   "cell_type": "markdown",
   "id": "6e841d67",
   "metadata": {},
   "source": [
    "### Optimize"
   ]
  },
  {
   "cell_type": "code",
   "execution_count": null,
   "id": "6b49e87a",
   "metadata": {},
   "outputs": [],
   "source": [
    "# Add explanations about which files to run"
   ]
  },
  {
   "cell_type": "markdown",
   "id": "7499a190",
   "metadata": {},
   "source": [
    "### Get the FI curve the original cell downloaded from ADB"
   ]
  },
  {
   "cell_type": "code",
   "execution_count": 1109,
   "id": "872f8d3a",
   "metadata": {},
   "outputs": [],
   "source": [
    "train_cell = ACTCellModel(\n",
    "    cell_name = None,\n",
    "    path_to_hoc_file = None,\n",
    "    path_to_mod_files = \"../../data/SST/orig/modfiles/\",\n",
    "    passive = [\"g_pas\", \"e_pas\", \"gbar_Ih\"],\n",
    "    active_channels = [\"gbar_Nap\", \"gbar_Im_v2\", \"gbar_K_T\", \"gbar_NaTa\", \"gbar_Kd\", \"gbar_Ca_LVA\", \"gbar_Ca_HVA\", \"gbar_Kv2like\", \"gbar_Kv3_1\"]\n",
    ")\n",
    "\n",
    "train_cell.set_custom_cell_builder(sst_seg_cell_builder)"
   ]
  },
  {
   "cell_type": "code",
   "execution_count": 1110,
   "id": "f9231e57",
   "metadata": {},
   "outputs": [
    {
     "name": "stdout",
     "output_type": "stream",
     "text": [
      "\n",
      "        ACTSimulator (2025)\n",
      "        ----------\n",
      "        When submitting multiple jobs, note that the cells must share modfiles.\n",
      "        \n",
      "warning ./Sst-IRES-Cre_Ai14-188740.03.02.01_657210399_m.swc: more than one tree:\n",
      "  root at line 4\n",
      "  root at line 14504\n",
      "  root at line 14725\n",
      "  root at line 14798\n",
      "  root at line 15141\n",
      "  root at line 15144\n",
      "  root at line 15156\n",
      "  root at line 15211\n",
      "  root at line 15318\n",
      "  root at line 15496\n",
      "  root at line 15811\n",
      "  root at line 15857\n",
      "  root at line 15883\n",
      "  root at line 16161\n",
      "  root at line 16200\n",
      "  root at line 16210\n",
      "  root at line 16253\n",
      "  root at line 16286\n",
      "  root at line 16301\n",
      "  root at line 16326\n",
      "  root at line 16574\n",
      "  root at line 16613\n",
      "  root at line 16618\n",
      "  root at line 16645\n",
      "  root at line 16695\n",
      "  root at line 16751\n",
      "  root at line 16765\n",
      "  root at line 16768\n",
      "warning ./Sst-IRES-Cre_Ai14-188740.03.02.01_657210399_m.swc: more than one tree:\n",
      "  root at line 4\n",
      "  root at line 14504\n",
      "  root at line 14725\n",
      "  root at line 14798\n",
      "  root at line 15141\n",
      "  root at line 15144\n",
      "  root at line 15156\n",
      "  root at line 15211\n",
      "  root at line 15318\n",
      "  root at line 15496\n",
      "  root at line 15811\n",
      "  root at line 15857\n",
      "  root at line 15883\n",
      "  root at line 16161\n",
      "  root at line 16200\n",
      "  root at line 16210\n",
      "  root at line 16253\n",
      "  root at line 16286\n",
      "  root at line 16301\n",
      "  root at line 16326\n",
      "  root at line 16574\n",
      "  root at line 16613\n",
      "  root at line 16618\n",
      "  root at line 16645\n",
      "  root at line 16695\n",
      "  root at line 16751\n",
      "  root at line 16765\n",
      "  root at line 16768\n",
      "warning ./Sst-IRES-Cre_Ai14-188740.03.02.01_657210399_m.swc: more than one tree:\n",
      "  root at line 4\n",
      "  root at line 14504\n",
      "  root at line 14725\n",
      "  root at line 14798\n",
      "  root at line 15141\n",
      "  root at line 15144\n",
      "  root at line 15156\n",
      "  root at line 15211\n",
      "  root at line 15318\n",
      "  root at line 15496\n",
      "  root at line 15811\n",
      "  root at line 15857\n",
      "  root at line 15883\n",
      "  root at line 16161\n",
      "  root at line 16200\n",
      "  root at line 16210\n",
      "  root at line 16253\n",
      "  root at line 16286\n",
      "  root at line 16301\n",
      "  root at line 16326\n",
      "  root at line 16574\n",
      "  root at line 16613\n",
      "  root at line 16618\n",
      "  root at line 16645\n",
      "  root at line 16695\n",
      "  root at line 16751\n",
      "  root at line 16765\n",
      "  root at line 16768\n",
      "warning ./Sst-IRES-Cre_Ai14-188740.03.02.01_657210399_m.swc: more than one tree:\n",
      "  root at line 4\n",
      "  root at line 14504\n",
      "  root at line 14725\n",
      "  root at line 14798\n",
      "  root at line 15141\n",
      "  root at line 15144\n",
      "  root at line 15156\n",
      "  root at line 15211\n",
      "  root at line 15318\n",
      "  root at line 15496\n",
      "  root at line 15811\n",
      "  root at line 15857\n",
      "  root at line 15883\n",
      "  root at line 16161\n",
      "  root at line 16200\n",
      "  root at line 16210\n",
      "  root at line 16253\n",
      "  root at line 16286\n",
      "  root at line 16301\n",
      "  root at line 16326\n",
      "  root at line 16574\n",
      "  root at line 16613\n",
      "  root at line 16618\n",
      "  root at line 16645\n",
      "  root at line 16695\n",
      "  root at line 16751\n",
      "  root at line 16765\n",
      "  root at line 16768\n",
      "warning ./Sst-IRES-Cre_Ai14-188740.03.02.01_657210399_m.swc: more than one tree:\n",
      "  root at line 4\n",
      "  root at line 14504\n",
      "  root at line 14725\n",
      "  root at line 14798\n",
      "  root at line 15141\n",
      "  root at line 15144\n",
      "  root at line 15156\n",
      "  root at line 15211\n",
      "  root at line 15318\n",
      "  root at line 15496\n",
      "  root at line 15811\n",
      "  root at line 15857\n",
      "  root at line 15883\n",
      "  root at line 16161\n",
      "  root at line 16200\n",
      "  root at line 16210\n",
      "  root at line 16253\n",
      "  root at line 16286\n",
      "  root at line 16301\n",
      "  root at line 16326\n",
      "  root at line 16574\n",
      "  root at line 16613\n",
      "  root at line 16618\n",
      "  root at line 16645\n",
      "  root at line 16695\n",
      "  root at line 16751\n",
      "  root at line 16765\n",
      "  root at line 16768\n",
      "output/SST_orig/combined_out.npy\n"
     ]
    }
   ],
   "source": [
    "# Set simulations\n",
    "simulator = ACTSimulator(output_folder_name = \"output\")\n",
    "\n",
    "for sim_idx, amp_value in enumerate([0.15, 0.2, 0.25, 0.3, 0.35]):\n",
    "    sim_params = SimulationParameters(\n",
    "        sim_name = \"SST_orig\",\n",
    "        sim_idx = sim_idx,\n",
    "        h_celsius = 37,\n",
    "        h_dt = 0.1,\n",
    "        h_tstop = 1000,\n",
    "        CI = [ConstantCurrentInjection(amp = amp_value, dur = 700, delay = 100)])\n",
    "\n",
    "    simulator.submit_job(train_cell, sim_params)\n",
    "\n",
    "simulator.run_jobs(3)\n",
    "\n",
    "# Combine simulated traces into one dataset for convenience\n",
    "dp.combine_data(\"output/SST_orig\")"
   ]
  },
  {
   "cell_type": "code",
   "execution_count": 1111,
   "id": "93caa701",
   "metadata": {},
   "outputs": [],
   "source": [
    "orig_data = np.load(\"output/SST_orig/combined_out.npy\")\n",
    "\n",
    "f_orig = []\n",
    "for trace_id in range(len(orig_data)):\n",
    "    f_orig.append(len(dp.find_events(orig_data[trace_id, ::10, 0].flatten())) / 700 * 1000)"
   ]
  },
  {
   "cell_type": "markdown",
   "id": "4d934772",
   "metadata": {},
   "source": [
    "### Evaluate"
   ]
  },
  {
   "cell_type": "code",
   "execution_count": 2,
   "id": "a95fc7db",
   "metadata": {},
   "outputs": [],
   "source": [
    "train_cell = ACTCellModel(\n",
    "    cell_name = None,\n",
    "    path_to_hoc_file = None,\n",
    "    path_to_mod_files = \"../../data/SST/seg_tuned/modfiles/\",\n",
    "    passive = [\"g_pas\", \"e_pas\", \"gbar_Ih\"],\n",
    "    active_channels = [\"gbar_Nap\", \"gbar_Im_v2\", \"gbar_K_T\", \"gbar_NaTa\", \"gbar_Kd\", \"gbar_Ca_LVA\", \"gbar_Ca_HVA\", \"gbar_Kv2like\", \"gbar_Kv3_1\"]\n",
    ")\n",
    "\n",
    "train_cell.set_custom_cell_builder(sst_seg_cell_builder)"
   ]
  },
  {
   "cell_type": "code",
   "execution_count": 3,
   "id": "02dfd386",
   "metadata": {},
   "outputs": [
    {
     "name": "stdout",
     "output_type": "stream",
     "text": [
      "\n",
      "        ACTSimulator (2025)\n",
      "        ----------\n",
      "        When submitting multiple jobs, note that the cells must share modfiles.\n",
      "        \n",
      "warning ./Sst-IRES-Cre_Ai14-188740.03.02.01_657210399_m.swc: more than one tree:\n",
      "  root at line 4\n",
      "  root at line 14504\n",
      "warning ./Sst-IRES-Cre_Ai14-188740.03.02.01_657210399_m.swc: more than one tree:\n",
      "  root at line 14725\n",
      "  root at line 14798\n",
      "  root at line 15141\n",
      "  root at line 15144\n",
      "  root at line 15156\n",
      "  root at line 15211\n",
      "  root at line 15318\n",
      "  root at line 15496\n",
      "  root at line 4\n",
      "  root at line 15811\n",
      "  root at line 15857\n",
      "  root at line 14504\n",
      "  root at line 15883\n",
      "  root at line 14725\n",
      "  root at line 16161\n",
      "  root at line 14798\n",
      "  root at line 16200\n",
      "  root at line 15141\n",
      "  root at line 16210\n",
      "  root at line 15144\n",
      "  root at line 16253\n",
      "  root at line 15156\n",
      "  root at line 16286\n",
      "  root at line 15211\n",
      "  root at line 16301\n",
      "  root at line 15318\n",
      "  root at line 16326\n",
      "  root at line 15496\n",
      "  root at line 16574\n",
      "  root at line 15811\n",
      "  root at line 16613\n",
      "  root at line 15857\n",
      "  root at line 16618\n",
      "  root at line 15883\n",
      "  root at line 16645\n",
      "  root at line 16161\n",
      "  root at line 16695\n",
      "  root at line 16200\n",
      "  root at line 16751\n",
      "  root at line 16210\n",
      "  root at line 16765\n",
      "  root at line 16253\n",
      "  root at line 16768\n",
      "  root at line 16286\n",
      "  root at line 16301\n",
      "  root at line 16326\n",
      "  root at line 16574\n",
      "  root at line 16613\n",
      "  root at line 16618\n",
      "  root at line 16645\n",
      "  root at line 16695\n",
      "  root at line 16751\n",
      "  root at line 16765\n",
      "  root at line 16768\n",
      "warning ./Sst-IRES-Cre_Ai14-188740.03.02.01_657210399_m.swc: more than one tree:\n",
      "  root at line 4\n",
      "  root at line 14504\n",
      "  root at line 14725\n",
      "  root at line 14798\n",
      "  root at line 15141\n",
      "  root at line 15144\n",
      "  root at line 15156\n",
      "  root at line 15211\n",
      "  root at line 15318\n",
      "  root at line 15496\n",
      "  root at line 15811\n",
      "  root at line 15857\n",
      "  root at line 15883\n",
      "  root at line 16161\n",
      "  root at line 16200\n",
      "  root at line 16210\n",
      "  root at line 16253\n",
      "  root at line 16286\n",
      "  root at line 16301\n",
      "  root at line 16326\n",
      "  root at line 16574\n",
      "  root at line 16613\n",
      "  root at line 16618\n",
      "  root at line 16645\n",
      "  root at line 16695\n",
      "  root at line 16751\n",
      "  root at line 16765\n",
      "  root at line 16768\n",
      "warning ./Sst-IRES-Cre_Ai14-188740.03.02.01_657210399_m.swc: more than one tree:\n",
      "  root at line 4\n",
      "  root at line 14504\n",
      "  root at line 14725\n",
      "  root at line 14798\n",
      "  root at line 15141\n",
      "  root at line 15144\n",
      "  root at line 15156\n",
      "  root at line 15211\n",
      "  root at line 15318\n",
      "  root at line 15496\n",
      "  root at line 15811\n",
      "  root at line 15857\n",
      "  root at line 15883\n",
      "  root at line 16161\n",
      "  root at line 16200\n",
      "  root at line 16210\n",
      "  root at line 16253\n",
      "  root at line 16286\n",
      "  root at line 16301\n",
      "  root at line 16326\n",
      "  root at line 16574\n",
      "  root at line 16613\n",
      "  root at line 16618\n",
      "  root at line 16645\n",
      "  root at line 16695\n",
      "  root at line 16751\n",
      "  root at line 16765\n",
      "  root at line 16768\n",
      "warning ./Sst-IRES-Cre_Ai14-188740.03.02.01_657210399_m.swc: more than one tree:\n",
      "  root at line 4\n",
      "  root at line 14504\n",
      "  root at line 14725\n",
      "  root at line 14798\n",
      "  root at line 15141\n",
      "  root at line 15144\n",
      "  root at line 15156\n",
      "  root at line 15211\n",
      "  root at line 15318\n",
      "  root at line 15496\n",
      "  root at line 15811\n",
      "  root at line 15857\n",
      "  root at line 15883\n",
      "  root at line 16161\n",
      "  root at line 16200\n",
      "  root at line 16210\n",
      "  root at line 16253\n",
      "  root at line 16286\n",
      "  root at line 16301\n",
      "  root at line 16326\n",
      "  root at line 16574\n",
      "  root at line 16613\n",
      "  root at line 16618\n",
      "  root at line 16645\n",
      "  root at line 16695\n",
      "  root at line 16751\n",
      "  root at line 16765\n",
      "  root at line 16768\n",
      "output/SST_after_ACT/combined_out.npy\n"
     ]
    }
   ],
   "source": [
    "# Set simulations\n",
    "simulator = ACTSimulator(output_folder_name = \"output\")\n",
    "\n",
    "for sim_idx, amp_value in enumerate(np.array([150, 160, 210, 290, 350]) / 1000):\n",
    "    sim_params = SimulationParameters(\n",
    "        sim_name = \"SST_after_ACT\",\n",
    "        sim_idx = sim_idx,\n",
    "        h_celsius = 37,\n",
    "        h_dt = 0.1,\n",
    "        h_tstop = 1200,\n",
    "        CI = [ConstantCurrentInjection(amp = amp_value, dur = 1000, delay = 100)])\n",
    "\n",
    "    simulator.submit_job(train_cell, sim_params)\n",
    "\n",
    "simulator.run_jobs(3)\n",
    "\n",
    "# Combine simulated traces into one dataset for convenience\n",
    "dp.combine_data(\"output/SST_after_ACT\")"
   ]
  },
  {
   "cell_type": "code",
   "execution_count": 4,
   "id": "74090bec",
   "metadata": {},
   "outputs": [
    {
     "data": {
      "text/plain": [
       "<matplotlib.legend.Legend at 0x10f9e3e20>"
      ]
     },
     "execution_count": 4,
     "metadata": {},
     "output_type": "execute_result"
    },
    {
     "data": {
      "image/png": "[encoded data removed]",
      "text/plain": [
       "<Figure size 640x480 with 1 Axes>"
      ]
     },
     "metadata": {},
     "output_type": "display_data"
    }
   ],
   "source": [
    "I = [150, 160, 210, 290, 350]\n",
    "\n",
    "# Calibrated\n",
    "simulated_data = np.load(\"output/SST_after_ACT/combined_out.npy\")\n",
    "\n",
    "f = []\n",
    "for trace_id in range(len(simulated_data)):\n",
    "    f.append(len(dp.find_events(simulated_data[trace_id, ::10, 0].flatten(), -14)))\n",
    "# ---\n",
    "\n",
    "F = [0, 2, 32, 60, 79]\n",
    "plt.plot(I, F, label = \"Target\", c = 'blue')\n",
    "plt.scatter(I, F, c = 'blue', s = 20)\n",
    "\n",
    "# plt.plot(I, f_orig, label = \"Before calibration\", c = 'gray')\n",
    "# plt.scatter(I, f_orig, c = 'gray', s = 20)\n",
    "\n",
    "plt.plot(I, f, label = \"Calibrated\", c = 'red')\n",
    "plt.scatter(I, f, c = 'red', s = 20)\n",
    "\n",
    "plt.xlabel(\"CI (nA)\")\n",
    "plt.ylabel(\"Frequency (Hz)\")\n",
    "plt.title(\"FI Curve\")\n",
    "\n",
    "plt.legend()"
   ]
  },
  {
   "cell_type": "code",
   "execution_count": 5,
   "id": "5efd787e",
   "metadata": {},
   "outputs": [
    {
     "data": {
      "text/plain": [
       "[<matplotlib.lines.Line2D at 0x14b8ba380>]"
      ]
     },
     "execution_count": 5,
     "metadata": {},
     "output_type": "execute_result"
    },
    {
     "data": {
      "image/png": "[encoded data removed]",
      "text/plain": [
       "<Figure size 640x480 with 1 Axes>"
      ]
     },
     "metadata": {},
     "output_type": "display_data"
    }
   ],
   "source": [
    "plt.plot(simulated_data[-2, ::10, 0])"
   ]
  },
  {
   "cell_type": "code",
   "execution_count": 1144,
   "id": "646c600c",
   "metadata": {},
   "outputs": [
    {
     "data": {
      "text/plain": [
       "[0, 4, 37, 61, 78]"
      ]
     },
     "execution_count": 1144,
     "metadata": {},
     "output_type": "execute_result"
    }
   ],
   "source": [
    "f"
   ]
  },
  {
   "cell_type": "code",
   "execution_count": 7,
   "id": "56e91531",
   "metadata": {},
   "outputs": [
    {
     "data": {
      "text/plain": [
       "0.24474406820072434"
      ]
     },
     "execution_count": 7,
     "metadata": {},
     "output_type": "execute_result"
    }
   ],
   "source": [
    "0.2224946074552039 * 1.1"
   ]
  },
  {
   "cell_type": "code",
   "execution_count": null,
   "id": "f0c7d973",
   "metadata": {},
   "outputs": [],
   "source": []
  }
 ],
 "metadata": {
  "kernelspec": {
   "display_name": "simulations",
   "language": "python",
   "name": "python3"
  },
  "language_info": {
   "codemirror_mode": {
    "name": "ipython",
    "version": 3
   },
   "file_extension": ".py",
   "mimetype": "text/x-python",
   "name": "python",
   "nbconvert_exporter": "python",
   "pygments_lexer": "ipython3",
   "version": "3.10.13"
  }
 },
 "nbformat": 4,
 "nbformat_minor": 5
}
