{
 "cells": [
  {
   "cell_type": "code",
   "execution_count": 10,
   "id": "91c2c393",
   "metadata": {},
   "outputs": [],
   "source": [
    "import sys\n",
    "sys.path.append(\"../../\")\n",
    "from cell_builder import sst_seg_cell_builder\n",
    "\n",
    "from act.cell_model import ACTCellModel\n",
    "from act.simulator import ACTSimulator\n",
    "from act.types import SimulationParameters, ConstantCurrentInjection\n",
    "from act.passive import ACTPassiveModule\n",
    "from act.data_processing import get_summary_features\n",
    "\n",
    "import matplotlib.pyplot as plt\n",
    "import numpy as np"
   ]
  },
  {
   "cell_type": "code",
   "execution_count": 2,
   "id": "823bb7a4",
   "metadata": {},
   "outputs": [
    {
     "name": "stdout",
     "output_type": "stream",
     "text": [
      "\n",
      "        ACTSimulator (2025)\n",
      "        ----------\n",
      "        When submitting multiple jobs, note that the cells must share modfiles.\n",
      "        \n",
      "warning ./Sst-IRES-Cre_Ai14-188740.03.02.01_657210399_m.swc: more than one tree:\n",
      "  root at line 4\n",
      "  root at line 14504\n",
      "  root at line 14725\n",
      "  root at line 14798\n",
      "  root at line 15141\n",
      "  root at line 15144\n",
      "  root at line 15156\n",
      "  root at line 15211\n",
      "  root at line 15318\n",
      "  root at line 15496\n",
      "  root at line 15811\n",
      "  root at line 15857\n",
      "  root at line 15883\n",
      "  root at line 16161\n",
      "  root at line 16200\n",
      "  root at line 16210\n",
      "  root at line 16253\n",
      "  root at line 16286\n",
      "  root at line 16301\n",
      "  root at line 16326\n",
      "  root at line 16574\n",
      "  root at line 16613\n",
      "  root at line 16618\n",
      "  root at line 16645\n",
      "  root at line 16695\n",
      "  root at line 16751\n",
      "  root at line 16765\n",
      "  root at line 16768\n",
      "Soma diam (um): 12.661399841308594\n",
      "Soma L (um): 12.661407470703125\n",
      "Soma area (cm2): 5.036323076932052e-06\n",
      "Total area (cm2): 3.6238296823045575e-05\n"
     ]
    }
   ],
   "source": [
    "seg_cell = ACTCellModel(\n",
    "    cell_name = None,\n",
    "    path_to_hoc_file = None,\n",
    "    path_to_mod_files = \"../../data/SST/seg/modfiles/\",\n",
    "    passive = [\"g_pas\", \"e_pas\", \"gbar_Ih\"],\n",
    "    active_channels = [\"gbar_Nap\", \"gbar_Im_v2\", \"gbar_K_T\", \"gbar_NaTa\", \"gbar_Kd\", \"gbar_Ca_LVA\", \"gbar_Ca_HVA\", \"gbar_Kv2like\", \"gbar_Kv3_1\"]\n",
    ")\n",
    "\n",
    "seg_cell.set_custom_cell_builder(sst_seg_cell_builder)\n",
    "\n",
    "sim_params = SimulationParameters(\n",
    "    sim_name = \"SST_seg\", \n",
    "    sim_idx = 1, \n",
    "    h_celsius = 37,\n",
    "    verbose = True, \n",
    "    CI = [ConstantCurrentInjection(amp = -0.1, dur = 200, delay = 100)])\n",
    "\n",
    "simulator = ACTSimulator(output_folder_name = \"output\")\n",
    "simulator.submit_job(\n",
    "    seg_cell,\n",
    "    sim_params\n",
    ")\n",
    "simulator.run_jobs(1)"
   ]
  },
  {
   "cell_type": "code",
   "execution_count": 3,
   "id": "f8b0c3a7",
   "metadata": {},
   "outputs": [],
   "source": [
    "computed_soma_area = 5.036323076932052e-06 # (cm2)\n",
    "computed_total_area = 3.6238296823045575e-05 # (cm2)"
   ]
  },
  {
   "cell_type": "code",
   "execution_count": null,
   "id": "a1e48b54",
   "metadata": {},
   "outputs": [],
   "source": [
    "# Target (SST from a different mouse)\n",
    "# https://celltypes.brain-map.org/experiment/electrophysiology/488677994\n",
    "\n",
    "target_rheobase = 160 # pA\n",
    "target_tau = 9.2 * 1e-3 # (s)\n",
    "target_R_in = 137 * 1e6 # Ohm\n",
    "target_V_rest = -72.9 # mV\n",
    "\n",
    "I = [150, 200, 250, 300, 350]\n",
    "F = [0, 18, 39, 60, 70]"
   ]
  },
  {
   "cell_type": "code",
   "execution_count": 7,
   "id": "9732fd3e",
   "metadata": {},
   "outputs": [
    {
     "data": {
      "text/plain": [
       "SettablePassiveProperties(Cm=1.8531026720004962, g_bar_leak=0.0002014242034783148, e_rev_leak=-72.9, g_bar_h=None)"
      ]
     },
     "execution_count": 7,
     "metadata": {},
     "output_type": "execute_result"
    }
   ],
   "source": [
    "ACTPassiveModule.compute_spp(target_R_in, computed_total_area, target_tau, target_V_rest)"
   ]
  },
  {
   "cell_type": "code",
   "execution_count": null,
   "id": "d0ae85f1",
   "metadata": {},
   "outputs": [],
   "source": [
    "# Target summary features\n",
    "sf = get_summary_features(np.zeros((5, 10)), np.zeros((5, 10)))\n",
    "sf['spike_frequency'] = [0, 18, 39, 60, 70]\n",
    "sf['mean_i'] = [0.150, 0.200, 0.250, 0.300, 0.350]\n",
    "\n",
    "for f in [\"mean_v\", \"std_v\", \"max_ampl_v\", \"n_spikes\", \"main_freq\", \"std_i\"]:\n",
    "    sf[f] = np.nan\n",
    "sf.to_csv(\"target_sf.csv\", index = False)"
   ]
  },
  {
   "cell_type": "code",
   "execution_count": null,
   "id": "756c898e",
   "metadata": {},
   "outputs": [],
   "source": []
  }
 ],
 "metadata": {
  "kernelspec": {
   "display_name": "simulations",
   "language": "python",
   "name": "python3"
  },
  "language_info": {
   "codemirror_mode": {
    "name": "ipython",
    "version": 3
   },
   "file_extension": ".py",
   "mimetype": "text/x-python",
   "name": "python",
   "nbconvert_exporter": "python",
   "pygments_lexer": "ipython3",
   "version": "3.10.13"
  }
 },
 "nbformat": 4,
 "nbformat_minor": 5
}
