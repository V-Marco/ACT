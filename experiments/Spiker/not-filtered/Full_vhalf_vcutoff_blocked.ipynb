{
 "cells": [
  {
   "cell_type": "markdown",
   "metadata": {},
   "source": [
    "# Spiker Cell - Fully Separated - V1/2"
   ]
  },
  {
   "cell_type": "code",
   "execution_count": 1,
   "metadata": {},
   "outputs": [
    {
     "name": "stderr",
     "output_type": "stream",
     "text": [
      "/home/mwsrgf/act-venv/lib64/python3.9/site-packages/torch/__init__.py:955: UserWarning: torch.set_default_tensor_type() is deprecated as of PyTorch 2.1, please use torch.set_default_dtype() and torch.set_default_device() as alternatives. (Triggered internally at ../torch/csrc/tensor/python_tensor.cpp:432.)\n",
      "  _C._set_default_tensor_type(t)\n",
      "Warning: no DISPLAY environment variable.\n",
      "--No graphics will be displayed.\n"
     ]
    }
   ],
   "source": [
    "from act.SyntheticGenerator import SyntheticGenerator\n",
    "from act.act_types import SimulationParameters, OptimizationParameters, CurrentInjection\n",
    "from act.cell_model import TargetCell\n",
    "from act.module_parameters import ModuleParameters\n",
    "\n",
    "random_seed = 42\n",
    "num_slices_new = 10\n",
    "num_slices_old = 5\n",
    "experiment_folder = f\"output/Spiker_Full_vhalf_vcutoff_blocked_sl-{num_slices_new}_{num_slices_old}/{random_seed}\"\n",
    "target_folder = experiment_folder + \"/target\"\n",
    "\n",
    "# module 1 is for spiking, final is a refinement of all previous modules (except passive props)\n",
    "module_1_folder = experiment_folder + \"/module_1\"\n",
    "module_2_folder = experiment_folder + \"/module_2\"\n",
    "module_final_folder = experiment_folder + \"/module_final\"\n",
    "\n",
    "target_cell = TargetCell(\n",
    "    hoc_file=\"/home/mwsrgf/proj/ACT/data/Spiker_Izhikevich/seg/template.hoc\",\n",
    "    mod_folder=\"/home/mwsrgf/proj/ACT/data/Spiker_Izhikevich/seg\",\n",
    "    cell_name=\"Spiker_Izhikevich_seg\",\n",
    "    g_names = [\"gnabar_hh_seg\", \"gkbar_hh_seg\", \"gl_hh_seg\"]\n",
    ")\n",
    "\n",
    "sim_par= SimulationParameters(\n",
    "            h_v_init=-65.0,  # Consistent with nrngui settings\n",
    "            h_tstop=500,     # Simulation time in ms\n",
    "            h_dt=0.1,      # Time step in ms\n",
    "            h_celsius=6.3,   # Temperature in degrees Celsius\n",
    "            CI=CurrentInjection\n",
    "            (\n",
    "                type='constant',\n",
    "                amps=[0.1,0.2,0.3],\n",
    "                dur=300,\n",
    "                delay=100\n",
    "            ),\n",
    "            set_g_to=[]\n",
    "        )"
   ]
  },
  {
   "cell_type": "markdown",
   "metadata": {},
   "source": [
    "# Generate Synthetic Data"
   ]
  },
  {
   "cell_type": "code",
   "execution_count": 2,
   "metadata": {},
   "outputs": [
    {
     "name": "stdout",
     "output_type": "stream",
     "text": [
      "<act.cell_model.TargetCell object at 0x7f0bb5086f40>\n",
      "\n",
      "        ACTSimulator (2024)\n",
      "        ----------\n",
      "        When submitting multiple jobs, note that the cells must share modfiles.\n",
      "        \n"
     ]
    },
    {
     "ename": "TypeError",
     "evalue": "run() missing 1 required positional argument: 'parameters'",
     "output_type": "error",
     "traceback": [
      "\u001b[0;31m---------------------------------------------------------------------------\u001b[0m",
      "\u001b[0;31mTypeError\u001b[0m                                 Traceback (most recent call last)",
      "Cell \u001b[0;32mIn[2], line 9\u001b[0m\n\u001b[1;32m      1\u001b[0m sg \u001b[38;5;241m=\u001b[39m SyntheticGenerator(\n\u001b[1;32m      2\u001b[0m     ModuleParameters(\n\u001b[1;32m      3\u001b[0m         module_folder_name\u001b[38;5;241m=\u001b[39mtarget_folder,\n\u001b[0;32m   (...)\u001b[0m\n\u001b[1;32m      6\u001b[0m     )\n\u001b[1;32m      7\u001b[0m )\n\u001b[0;32m----> 9\u001b[0m \u001b[43msg\u001b[49m\u001b[38;5;241;43m.\u001b[39;49m\u001b[43mgenerate_synthetic_target_data\u001b[49m\u001b[43m(\u001b[49m\u001b[38;5;124;43m\"\u001b[39;49m\u001b[38;5;124;43mtarget_data.csv\u001b[39;49m\u001b[38;5;124;43m\"\u001b[39;49m\u001b[43m)\u001b[49m\n",
      "File \u001b[0;32m~/proj/ACT/act/SyntheticGenerator.py:29\u001b[0m, in \u001b[0;36mSyntheticGenerator.generate_synthetic_target_data\u001b[0;34m(self, filename)\u001b[0m\n\u001b[1;32m     27\u001b[0m \u001b[38;5;28;01mdef\u001b[39;00m \u001b[38;5;21mgenerate_synthetic_target_data\u001b[39m(\u001b[38;5;28mself\u001b[39m, filename):\n\u001b[0;32m---> 29\u001b[0m     \u001b[38;5;28;43mself\u001b[39;49m\u001b[38;5;241;43m.\u001b[39;49m\u001b[43msimulate_target_cell\u001b[49m\u001b[43m(\u001b[49m\u001b[43m)\u001b[49m\n\u001b[1;32m     31\u001b[0m     \u001b[38;5;28mself\u001b[39m\u001b[38;5;241m.\u001b[39msave_voltage_current_to_csv(filename)\n",
      "File \u001b[0;32m~/proj/ACT/act/SyntheticGenerator.py:57\u001b[0m, in \u001b[0;36mSyntheticGenerator.simulate_target_cell\u001b[0;34m(self)\u001b[0m\n\u001b[1;32m     35\u001b[0m \u001b[38;5;28;01mfor\u001b[39;00m i, intensity \u001b[38;5;129;01min\u001b[39;00m \u001b[38;5;28menumerate\u001b[39m(\u001b[38;5;28mself\u001b[39m\u001b[38;5;241m.\u001b[39msim_params\u001b[38;5;241m.\u001b[39mCI\u001b[38;5;241m.\u001b[39mamps):\n\u001b[1;32m     36\u001b[0m     simulator\u001b[38;5;241m.\u001b[39msubmit_job(\n\u001b[1;32m     37\u001b[0m         \u001b[38;5;28mself\u001b[39m\u001b[38;5;241m.\u001b[39mtarget_cell,\n\u001b[1;32m     38\u001b[0m         SimulationParameters(\n\u001b[0;32m   (...)\u001b[0m\n\u001b[1;32m     53\u001b[0m         )\n\u001b[1;32m     54\u001b[0m     )\n\u001b[0;32m---> 57\u001b[0m \u001b[43msimulator\u001b[49m\u001b[38;5;241;43m.\u001b[39;49m\u001b[43mrun\u001b[49m\u001b[43m(\u001b[49m\u001b[38;5;28;43mself\u001b[39;49m\u001b[38;5;241;43m.\u001b[39;49m\u001b[43mtarget_cell\u001b[49m\u001b[38;5;241;43m.\u001b[39;49m\u001b[43mmod_folder\u001b[49m\u001b[43m)\u001b[49m\n\u001b[1;32m     60\u001b[0m dp \u001b[38;5;241m=\u001b[39m DataProcessor()\n\u001b[1;32m     61\u001b[0m dp\u001b[38;5;241m.\u001b[39mcombine_data(\u001b[38;5;28mself\u001b[39m\u001b[38;5;241m.\u001b[39moutput_folder_name \u001b[38;5;241m+\u001b[39m \u001b[38;5;28mself\u001b[39m\u001b[38;5;241m.\u001b[39mjob_name)\n",
      "\u001b[0;31mTypeError\u001b[0m: run() missing 1 required positional argument: 'parameters'"
     ]
    }
   ],
   "source": [
    "sg = SyntheticGenerator(\n",
    "    ModuleParameters(\n",
    "        module_folder_name=target_folder,\n",
    "        cell= target_cell,\n",
    "        sim_params= sim_par\n",
    "    )\n",
    ")\n",
    "\n",
    "sg.generate_synthetic_target_data(\"target_data.csv\")"
   ]
  },
  {
   "cell_type": "code",
   "execution_count": null,
   "metadata": {},
   "outputs": [],
   "source": [
    "passive_sim_par = SimulationParameters(\n",
    "            h_v_init = -65,\n",
    "            h_tstop = 1500,\n",
    "            h_dt = 0.001,\n",
    "            h_celsius = 6.3,\n",
    "            CI_type = \"constant\",\n",
    "            CI_amps = [-0.1],    ##################### NEGATIVE CURRENT INJECTION ###################\n",
    "            CI_dur = 1000,\n",
    "            CI_delay = 500,\n",
    "            set_g_to=[]\n",
    "        )\n",
    "\n",
    "sg_passive = SyntheticGenerator(\n",
    "    ModuleParameters(\n",
    "        module_folder_name=target_folder,\n",
    "        cell= target_cell,\n",
    "        sim_params= passive_sim_par,\n",
    "        optim_params = OptimizationParameters(\n",
    "            blocked_channels= []\n",
    "        )\n",
    "    )\n",
    ")\n",
    "\n",
    "sg_passive.generate_synthetic_target_data(\"passive_data.csv\")"
   ]
  },
  {
   "cell_type": "markdown",
   "metadata": {},
   "source": [
    "# Get Passive Properties"
   ]
  },
  {
   "cell_type": "code",
   "execution_count": null,
   "metadata": {},
   "outputs": [],
   "source": [
    "from act.PassivePropertiesModule import PassivePropertiesModule\n",
    "from act.act_types import SimulationParameters\n",
    "from act.cell_model import TrainCell\n",
    "\n",
    "train_cell = TrainCell(\n",
    "    hoc_file=\"/home/mwsrgf/proj/ACT/data/Spiker_Izhikevich/seg/template.hoc\",\n",
    "    mod_folder=\"/home/mwsrgf/proj/ACT/data/Spiker_Izhikevich/seg\",\n",
    "    cell_name=\"Spiker_Izhikevich_seg\",\n",
    "    g_names = [\"gnabar_hh_seg\", \"gkbar_hh_seg\", \"gl_hh_seg\"]\n",
    ")\n",
    "\n",
    "passive_mod = PassivePropertiesModule(\n",
    "    train_cell=train_cell,\n",
    "    sim_params=passive_sim_par,\n",
    "    trace_filepath=f\"{target_folder}/passive_data.csv\",\n",
    "    leak_conductance_variable=\"gl_hh_seg\",\n",
    "    leak_reversal_variable=\"el_hh_seg\"\n",
    ")"
   ]
  },
  {
   "cell_type": "code",
   "execution_count": null,
   "metadata": {},
   "outputs": [],
   "source": [
    "passive_mod.set_passive_properties()\n",
    "print(train_cell.passive_properties)"
   ]
  },
  {
   "cell_type": "markdown",
   "metadata": {},
   "source": [
    "## Run Module 1 kdr"
   ]
  },
  {
   "cell_type": "code",
   "execution_count": null,
   "metadata": {},
   "outputs": [],
   "source": [
    "from act.ACTModule import ACTModule\n",
    "from act.act_types import OptimizationParameters, OptimizationParam\n",
    "from act.module_parameters import ModuleParameters\n",
    "\n",
    "mod1 = ACTModule(\n",
    "    ModuleParameters(\n",
    "        module_folder_name=module_1_folder,\n",
    "        cell= train_cell,\n",
    "        target_traces_file = f\"{target_folder}/target_data.csv\",\n",
    "        sim_params= sim_par,\n",
    "        optim_params= OptimizationParameters(\n",
    "            g_ranges_slices= [\n",
    "                OptimizationParam(param=\"gnabar_hh_seg\", low=0.06, high=0.18, blocked=True, n_slices=1),\n",
    "                OptimizationParam(param=\"gkbar_hh_seg\", low=0.018, high=0.054, n_slices=num_slices_new),\n",
    "                OptimizationParam(param=\"gl_hh_seg\", prediction=train_cell.passive_properties.g_bar_leak, bounds_variation=0.0, n_slices=1)\n",
    "            ],\n",
    "            #filtered_out_features = [\"no_spikes\", \"saturated\"],\n",
    "            train_features=[\"i_trace_stats\", \"number_of_spikes\", \"spike_times\", \"spike_height_stats\", \"number_of_troughs\", \"trough_times\", \"trough_height_stats\"],\n",
    "            prediction_eval_method='fi_curve',\n",
    "            spike_threshold=0,\n",
    "            saturation_threshold=-65,\n",
    "            first_n_spikes=20,\n",
    "            random_state=random_seed,\n",
    "            save_file=f\"{module_1_folder}/results/saved_metrics.json\"\n",
    "        )\n",
    "    )\n",
    ")"
   ]
  },
  {
   "cell_type": "code",
   "execution_count": null,
   "metadata": {},
   "outputs": [],
   "source": [
    "predicted_g_data_file = mod1.run()"
   ]
  },
  {
   "cell_type": "code",
   "execution_count": null,
   "metadata": {},
   "outputs": [],
   "source": [
    "mod1.pickle_rf(mod1.rf_model,f\"{module_1_folder}/trained_rf.pkl\")"
   ]
  },
  {
   "cell_type": "markdown",
   "metadata": {},
   "source": [
    "# Module 2 na"
   ]
  },
  {
   "cell_type": "code",
   "execution_count": null,
   "metadata": {},
   "outputs": [],
   "source": [
    "from act.ACTModule import ACTModule\n",
    "from act.act_types import OptimizationParameters, OptimizationParam\n",
    "from act.module_parameters import ModuleParameters\n",
    "\n",
    "bounds_variation = 0.15\n",
    "\n",
    "mod2 = ACTModule(\n",
    "    ModuleParameters(\n",
    "        module_folder_name=module_2_folder,\n",
    "        cell= train_cell,\n",
    "        target_traces_file = f\"{target_folder}/target_data.csv\",\n",
    "        sim_params= sim_par,\n",
    "        optim_params= OptimizationParameters(\n",
    "            g_ranges_slices= [\n",
    "                OptimizationParam(param=\"gnabar_hh_seg\",  low=0.06, high=0.18, n_slices=num_slices_new),\n",
    "                OptimizationParam(param=\"gkbar_hh_seg\", prediction=train_cell.predicted_g[\"gkbar_hh_seg\"], bounds_variation=train_cell.predicted_g[\"gkbar_hh_seg\"] * bounds_variation, n_slices=num_slices_old),\n",
    "                OptimizationParam(param=\"gl_hh_seg\", prediction=train_cell.passive_properties.g_bar_leak, bounds_variation=0.0, n_slices=1)\n",
    "            ],\n",
    "            #filtered_out_features = [\"no_spikes\", \"saturated\"],\n",
    "            train_features=[\"i_trace_stats\", \"number_of_spikes\", \"spike_times\", \"spike_height_stats\", \"number_of_troughs\", \"trough_times\", \"trough_height_stats\"],\n",
    "            prediction_eval_method='fi_curve',\n",
    "            spike_threshold=0,\n",
    "            saturation_threshold=-65,\n",
    "            first_n_spikes=20,\n",
    "            random_state=random_seed,\n",
    "            save_file=f\"{module_2_folder}/results/saved_metrics.json\"\n",
    "        )\n",
    "    )\n",
    ")"
   ]
  },
  {
   "cell_type": "code",
   "execution_count": null,
   "metadata": {},
   "outputs": [],
   "source": [
    "predicted_g_data_file = mod2.run()"
   ]
  },
  {
   "cell_type": "code",
   "execution_count": null,
   "metadata": {},
   "outputs": [],
   "source": [
    "mod2.pickle_rf(mod2.rf_model,f\"{module_2_folder}/trained_rf.pkl\")"
   ]
  },
  {
   "cell_type": "markdown",
   "metadata": {},
   "source": [
    "## Run Fine Tuning Module"
   ]
  },
  {
   "cell_type": "code",
   "execution_count": null,
   "metadata": {},
   "outputs": [],
   "source": [
    "from act.ACTModule import ACTModule\n",
    "from act.act_types import OptimizationParameters, OptimizationParam\n",
    "from act.module_parameters import ModuleParameters\n",
    "\n",
    "bounds_variation = 0.15\n",
    "\n",
    "\n",
    "final_mod = ACTModule(\n",
    "    ModuleParameters(\n",
    "        module_folder_name=module_final_folder,\n",
    "        cell= train_cell,\n",
    "        target_traces_file = f\"{target_folder}/target_data.csv\",\n",
    "        sim_params= sim_par,\n",
    "        optim_params= OptimizationParameters(\n",
    "            g_ranges_slices= [\n",
    "                OptimizationParam(param=\"gnabar_hh_seg\", prediction=train_cell.predicted_g[\"gnabar_hh_seg\"],bounds_variation=train_cell.predicted_g[\"gnabar_hh_seg\"] * bounds_variation, n_slices=num_slices_old),\n",
    "                OptimizationParam(param=\"gkbar_hh_seg\", prediction=train_cell.predicted_g[\"gkbar_hh_seg\"], bounds_variation=train_cell.predicted_g[\"gkbar_hh_seg\"] * bounds_variation, n_slices=num_slices_old),\n",
    "                OptimizationParam(param=\"gl_hh_seg\", prediction=train_cell.passive_properties.g_bar_leak, bounds_variation=0.0, n_slices=1)\n",
    "            ],\n",
    "            #filtered_out_features = [\"no_spikes\", \"saturated\"],\n",
    "            train_features=[\"i_trace_stats\", \"number_of_spikes\", \"spike_times\", \"spike_height_stats\", \"number_of_troughs\", \"trough_times\", \"trough_height_stats\"],\n",
    "            spike_threshold=0,\n",
    "            saturation_threshold=-65,\n",
    "            first_n_spikes=20,\n",
    "            prediction_eval_method='fi_curve',\n",
    "            random_state=random_seed,\n",
    "            previous_modules=[\"module_1\",\"module_2\"],\n",
    "            save_file=f\"{module_final_folder}/results/saved_metrics.json\"\n",
    "        )\n",
    "    )\n",
    ")"
   ]
  },
  {
   "cell_type": "code",
   "execution_count": null,
   "metadata": {},
   "outputs": [],
   "source": [
    "final_predicted_g_data_file = final_mod.run()"
   ]
  },
  {
   "cell_type": "code",
   "execution_count": null,
   "metadata": {},
   "outputs": [],
   "source": [
    "final_mod.pickle_rf(final_mod.rf_model,f\"{module_final_folder}/trained_rf.pkl\")"
   ]
  },
  {
   "cell_type": "markdown",
   "metadata": {},
   "source": [
    "# Results & Metrics"
   ]
  },
  {
   "cell_type": "code",
   "execution_count": null,
   "metadata": {},
   "outputs": [],
   "source": [
    "from act import ACTPlot\n",
    "ACTPlot.plot_v_comparison(\n",
    "    final_predicted_g_data_file, \n",
    "    module_final_folder, \n",
    "    sim_par[\"CI_amps\"],\n",
    "    sim_par[\"h_dt\"]\n",
    "    )\n",
    "\n",
    "ACTPlot.plot_fi_comparison(\n",
    "    module_final_folder, \n",
    "    sim_par[\"CI_amps\"]\n",
    "    )"
   ]
  },
  {
   "cell_type": "code",
   "execution_count": null,
   "metadata": {},
   "outputs": [],
   "source": [
    "from act.Metrics import Metrics\n",
    "\n",
    "metrics = Metrics()\n",
    "\n",
    "mean, stdev = metrics.save_interspike_interval_comparison(\n",
    "    module_final_folder,\n",
    "    final_predicted_g_data_file,\n",
    "    sim_par[\"CI_amps\"], \n",
    "    sim_par[\"h_dt\"],\n",
    "    first_n_spikes=5,\n",
    "    save_file=f\"{module_final_folder}/results/saved_metrics.json\"\n",
    ")\n",
    "\n",
    "\n",
    "metrics.save_prediction_g_mae(\n",
    "    actual_g={'gnabar_hh_seg': 0.12, 'gkbar_hh_seg': 0.036, 'gl_hh_seg': 0.00046907},\n",
    "    save_file=f\"{module_final_folder}/results/saved_metrics.json\"\n",
    ")\n",
    "\n",
    "metrics.save_feature_mae(\n",
    "    module_final_folder,\n",
    "    final_predicted_g_data_file,\n",
    "    [\"i_trace_stats\", \"number_of_spikes\", \"spike_times\", \"spike_height_stats\", \"number_of_troughs\", \"trough_times\", \"trough_height_stats\"],\n",
    "    sim_par[\"h_dt\"],\n",
    "    first_n_spikes=5,\n",
    "    save_file=f\"{module_final_folder}/results/saved_metrics.json\"\n",
    ")\n"
   ]
  },
  {
   "cell_type": "code",
   "execution_count": null,
   "metadata": {},
   "outputs": [],
   "source": [
    "from act import ACTPlot as actplt\n",
    "\n",
    "g_names = [\"gkbar_hh_seg\", \"gl_hh_seg\"]\n",
    "\n",
    "actplt.plot_training_fi_mae_contour_plot(\n",
    "module_final_folder,\n",
    "sim_par[\"CI_amps\"],\n",
    "sim_par[\"CI_dur\"],\n",
    "sim_par[\"CI_delay\"],\n",
    "sim_par[\"h_dt\"],\n",
    "index1=0,\n",
    "index2=1,\n",
    "g_names=g_names,\n",
    "num_levels=100,\n",
    "results_filename=f\"{module_final_folder}/results/Fi_MAE_Contour_Plot.png\"\n",
    ")"
   ]
  },
  {
   "cell_type": "code",
   "execution_count": null,
   "metadata": {},
   "outputs": [],
   "source": [
    "from act import ACTPlot as actplt\n",
    "\n",
    "g_names = [\"gkbar_hh_seg\", \"gl_hh_seg\"]\n",
    "\n",
    "actplt.plot_training_v_mae_contour_plot(\n",
    "module_final_folder,\n",
    "sim_par[\"CI_amps\"],\n",
    "sim_par[\"CI_delay\"],\n",
    "sim_par[\"h_dt\"],\n",
    "index1=0,\n",
    "index2=1,\n",
    "g_names=g_names,\n",
    "num_levels=100,\n",
    "results_filename=f\"{module_final_folder}/results/V_Trace_Contour_Plot.png\"\n",
    ")"
   ]
  },
  {
   "cell_type": "code",
   "execution_count": null,
   "metadata": {},
   "outputs": [],
   "source": [
    "from act import ACTPlot as actplt\n",
    "\n",
    "g_names = [\"gkbar_hh_seg\", \"gl_hh_seg\"]\n",
    "\n",
    "\n",
    "actplt.plot_training_feature_mae_contour_plot(\n",
    "    module_final_folder,\n",
    "    sim_par[\"CI_amps\"],\n",
    "    sim_par[\"CI_delay\"],\n",
    "    sim_par[\"h_dt\"],\n",
    "    index1=0,\n",
    "    index2=1,\n",
    "    g_names=g_names,\n",
    "    train_features=[\"i_trace_stats\", \"number_of_spikes\", \"spike_times\", \"spike_height_stats\", \"number_of_troughs\", \"trough_times\", \"trough_height_stats\"],\n",
    "    threshold=0,\n",
    "    first_n_spikes=20,\n",
    "    num_levels=100,\n",
    "    results_filename=f\"{module_final_folder}/results/Feature_MAE_Contour_Plot_{g_names[0]}_{g_names[1]}.png\"\n",
    ")"
   ]
  }
 ],
 "metadata": {
  "kernelspec": {
   "display_name": "act-venv",
   "language": "python",
   "name": "python3"
  },
  "language_info": {
   "codemirror_mode": {
    "name": "ipython",
    "version": 3
   },
   "file_extension": ".py",
   "mimetype": "text/x-python",
   "name": "python",
   "nbconvert_exporter": "python",
   "pygments_lexer": "ipython3",
   "version": "3.9.20"
  }
 },
 "nbformat": 4,
 "nbformat_minor": 2
}
