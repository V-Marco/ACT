{
 "cells": [
  {
   "cell_type": "markdown",
   "metadata": {},
   "source": [
    "# Spiker \n",
    "\n",
    "Classic Hodgkin-Huxely-based Spiker model."
   ]
  },
  {
   "cell_type": "code",
   "execution_count": 1,
   "metadata": {},
   "outputs": [],
   "source": [
    "# Set the path\n",
    "import sys\n",
    "sys.path.append(\"../../\")\n",
    "\n",
    "from act.cell_model import ACTCellModel\n",
    "from act.simulator import ACTSimulator\n",
    "from act.types import SimulationParameters, ConstantCurrentInjection, FilterParameters, ConductanceOptions, OptimizationParameters\n",
    "import act.data_processing as dp\n",
    "from act.module import ACTModule\n",
    "\n",
    "import numpy as np\n",
    "import matplotlib.pyplot as plt\n",
    "\n",
    "from act.passive import ACTPassiveModule\n",
    "from act.segregation import ACTSegregator\n",
    "\n",
    "from sklearn.metrics import mean_absolute_error\n",
    "from act.metrics import pp_error"
   ]
  },
  {
   "cell_type": "markdown",
   "metadata": {},
   "source": [
    "## 1. Set the \"target\" model and simulate from it\n",
    "\n",
    "The \"target\" model's output represents the target bio data provided by the user to tune for.\n",
    "\n",
    "Parameters:\n",
    "- Cm = 1\n",
    "- gnabar = .12 (S/cm2)\n",
    "- gkbar = .036 (S/cm2)\n",
    "- gl = .0003 (S/cm2)\n",
    "- el = -54.3 (mV)"
   ]
  },
  {
   "cell_type": "code",
   "execution_count": 5,
   "metadata": {},
   "outputs": [],
   "source": [
    "# Define the \"target\" cell\n",
    "target_cell = ACTCellModel(\n",
    "    cell_name = \"Spiker\",\n",
    "    path_to_hoc_file = \"../../data/Spiker/orig/target_template.hoc\",\n",
    "    path_to_mod_files = \"../../data/Spiker/orig/modfiles/\",\n",
    "    passive = [\"gl\", \"el\", None],\n",
    "    active_channels = [\"hh_spiker.gnabar\", \"hh_spiker.gkbar\"],\n",
    ")"
   ]
  },
  {
   "cell_type": "code",
   "execution_count": 18,
   "metadata": {},
   "outputs": [],
   "source": [
    "target_g = np.array([0.0003, 0.12, 0.036])"
   ]
  },
  {
   "cell_type": "code",
   "execution_count": 2,
   "metadata": {},
   "outputs": [
    {
     "name": "stdout",
     "output_type": "stream",
     "text": [
      "Python 3.10.13\n"
     ]
    }
   ],
   "source": [
    "!python -V"
   ]
  },
  {
   "cell_type": "markdown",
   "metadata": {},
   "source": [
    "### 1.1. Target passive properties"
   ]
  },
  {
   "cell_type": "code",
   "execution_count": 8,
   "metadata": {},
   "outputs": [
    {
     "name": "stdout",
     "output_type": "stream",
     "text": [
      "\n",
      "        ACTSimulator (2025)\n",
      "        ----------\n",
      "        When submitting multiple jobs, note that the cells must share modfiles.\n",
      "        \n"
     ]
    }
   ],
   "source": [
    "# Set simulations\n",
    "simulator = ACTSimulator(output_folder_name = \"output\")\n",
    "\n",
    "sim_params = SimulationParameters(\n",
    "    sim_name = \"target\",\n",
    "    sim_idx = 0,\n",
    "    h_celsius = 6.3,\n",
    "    h_dt = 0.1,\n",
    "    h_tstop = 1000,\n",
    "    CI = [ConstantCurrentInjection(amp = -0.2, dur = 700, delay = 100)])\n",
    "\n",
    "simulator.submit_job(target_cell, sim_params)\n",
    "simulator.run_jobs(1)"
   ]
  },
  {
   "cell_type": "code",
   "execution_count": 7,
   "metadata": {},
   "outputs": [
    {
     "data": {
      "text/plain": [
       "[<matplotlib.lines.Line2D at 0x181e74af0>]"
      ]
     },
     "execution_count": 7,
     "metadata": {},
     "output_type": "execute_result"
    },
    {
     "data": {
      "image/png": "[encoded data removed]",
      "text/plain": [
       "<Figure size 640x480 with 1 Axes>"
      ]
     },
     "metadata": {},
     "output_type": "display_data"
    }
   ],
   "source": [
    "passive_trace = np.load(\"output/target/out_0.npy\")[:, 0]\n",
    "plt.plot(passive_trace[::10])"
   ]
  },
  {
   "cell_type": "code",
   "execution_count": 8,
   "metadata": {},
   "outputs": [
    {
     "data": {
      "text/plain": [
       "GettablePassiveProperties(R_in=246.82388046911376, tau1=4.1000000000000005, tau2=544.9, sag_ratio=0.0, V_rest=-64.97367898269046)"
      ]
     },
     "execution_count": 8,
     "metadata": {},
     "output_type": "execute_result"
    }
   ],
   "source": [
    "target_gpp = ACTPassiveModule.compute_gpp(passive_trace, 0.1, 100, 700, -0.2)\n",
    "target_gpp"
   ]
  },
  {
   "cell_type": "markdown",
   "metadata": {},
   "source": [
    "### 1.2. Target FI curve"
   ]
  },
  {
   "cell_type": "code",
   "execution_count": null,
   "metadata": {},
   "outputs": [
    {
     "name": "stdout",
     "output_type": "stream",
     "text": [
      "\n",
      "        ACTSimulator (2024)\n",
      "        ----------\n",
      "        When submitting multiple jobs, note that the cells must share modfiles.\n",
      "        \n",
      "output/target\n"
     ]
    }
   ],
   "source": [
    "# Set simulations\n",
    "simulator = ACTSimulator(output_folder_name = \"output\")\n",
    "\n",
    "for sim_idx, amp_value in enumerate([0.1, 0.5, 1.0]):\n",
    "    sim_params = SimulationParameters(\n",
    "        sim_name = \"target\",\n",
    "        sim_idx = sim_idx,\n",
    "        h_celsius = 6.3,\n",
    "        h_dt = 0.1,\n",
    "        h_tstop = 1000,\n",
    "        CI = [ConstantCurrentInjection(amp = amp_value, dur = 700, delay = 100)])\n",
    "\n",
    "    simulator.submit_job(target_cell, sim_params)\n",
    "\n",
    "simulator.run_jobs(3)\n",
    "\n",
    "# Combine simulated traces into one dataset for convenience\n",
    "dp.combine_data(\"output/target\")"
   ]
  },
  {
   "cell_type": "code",
   "execution_count": 10,
   "metadata": {},
   "outputs": [
    {
     "data": {
      "text/plain": [
       "Text(0, 0.5, 'Voltage (mV)')"
      ]
     },
     "execution_count": 10,
     "metadata": {},
     "output_type": "execute_result"
    },
    {
     "data": {
      "image/png": "[encoded data removed]",
      "text/plain": [
       "<Figure size 1000x200 with 3 Axes>"
      ]
     },
     "metadata": {},
     "output_type": "display_data"
    }
   ],
   "source": [
    "# Plot the traces and the FI curve\n",
    "simulated_data = np.load(\"output/target/combined_out.npy\") # 3 x 10000 x 4; (n_sim x time x [V, I, g, lto_hto])\n",
    "\n",
    "fig, ax = plt.subplots(1, 3, figsize = (10, 2))\n",
    "for axid, amp in enumerate([0.1, 0.5, 1.0]):\n",
    "    ax[axid].plot(simulated_data[axid, ::10, 0])\n",
    "    ax[axid].set_xlabel(\"Time (ms)\")\n",
    "    ax[axid].set_title(f\"CI = {amp} nA\")\n",
    "\n",
    "ax[0].set_ylabel(\"Voltage (mV)\")"
   ]
  },
  {
   "cell_type": "code",
   "execution_count": null,
   "metadata": {},
   "outputs": [],
   "source": [
    "simulated_data = np.load(\"output/target/combined_out.npy\")\n",
    "\n",
    "f = []\n",
    "for trace_id in range(len(simulated_data)):\n",
    "    f.append(len(dp.find_events(simulated_data[trace_id, ::10, 0].flatten())))\n",
    "\n",
    "plt.plot([0.1, 0.5, 1.0], f)\n",
    "plt.xlabel(\"CI (nA)\")\n",
    "plt.ylabel(\"Frequency (Hz)\")\n",
    "plt.title(\"FI Curve\")"
   ]
  },
  {
   "cell_type": "markdown",
   "metadata": {},
   "source": [
    "## 2. Original pipeline - optimize passive and active channels together"
   ]
  },
  {
   "cell_type": "markdown",
   "metadata": {},
   "source": [
    "### 2.1. Set the train cell \n",
    "\n",
    "We assume the train cell was acquired from an external source, e.g., AllenDB. Thus, its parameters do not necesserily match those of the target cell. Here we set these parameters to the target's values +- 10% std."
   ]
  },
  {
   "cell_type": "code",
   "execution_count": 11,
   "metadata": {},
   "outputs": [
    {
     "data": {
      "text/plain": [
       "array([ 8.91436940e-01,  1.31968145e-01,  3.70187226e-02,  2.54811159e-04,\n",
       "       -5.74417994e+01])"
      ]
     },
     "execution_count": 11,
     "metadata": {},
     "output_type": "execute_result"
    }
   ],
   "source": [
    "random_state = np.random.RandomState(123)\n",
    "target_values = np.array([1, 0.12, 0.036, 0.0003, -54.3]) # Cm, gnabar, gkbar, gl, el\n",
    "target_values = target_values + random_state.normal(0, np.abs(target_values * 0.1))\n",
    "target_values"
   ]
  },
  {
   "cell_type": "markdown",
   "metadata": {},
   "source": [
    "Train cell (updated in template.hoc):\n",
    "\n",
    "- Cm = 0.89\n",
    "- gnabar = 0.132 (S/cm2)\n",
    "- gkbar = 0.037 (S/cm2)\n",
    "- gl = 0.00025 (S/cm2)\n",
    "- el = -57.4 (mV)"
   ]
  },
  {
   "cell_type": "code",
   "execution_count": 12,
   "metadata": {},
   "outputs": [],
   "source": [
    "# Define the train cell\n",
    "train_cell = ACTCellModel(\n",
    "    cell_name = \"Spiker\",\n",
    "    path_to_hoc_file = \"../../data/Spiker/orig/template.hoc\",\n",
    "    path_to_mod_files = \"../../data/Spiker/orig/modfiles/\",\n",
    "    passive = [\"gl\", \"el\", None],\n",
    "    active_channels = [\"hh_spiker.gnabar\", \"hh_spiker.gkbar\"],\n",
    ")"
   ]
  },
  {
   "cell_type": "markdown",
   "metadata": {},
   "source": [
    "### 2.2. Passive properties before tuning"
   ]
  },
  {
   "cell_type": "code",
   "execution_count": 14,
   "metadata": {},
   "outputs": [
    {
     "name": "stdout",
     "output_type": "stream",
     "text": [
      "\n",
      "        ACTSimulator (2025)\n",
      "        ----------\n",
      "        When submitting multiple jobs, note that the cells must share modfiles.\n",
      "        \n"
     ]
    },
    {
     "data": {
      "text/plain": [
       "GettablePassiveProperties(R_in=315.86372513098706, tau1=4.4, tau2=543.6, sag_ratio=0.0, V_rest=-66.27239858673221)"
      ]
     },
     "execution_count": 14,
     "metadata": {},
     "output_type": "execute_result"
    }
   ],
   "source": [
    "# Set simulations\n",
    "simulator = ACTSimulator(output_folder_name = \"output\")\n",
    "\n",
    "sim_params = SimulationParameters(\n",
    "    sim_name = \"orig\",\n",
    "    sim_idx = 0,\n",
    "    h_celsius = 6.3,\n",
    "    h_dt = 0.1,\n",
    "    h_tstop = 1000,\n",
    "    CI = [ConstantCurrentInjection(amp = -0.2, dur = 700, delay = 100)])\n",
    "\n",
    "simulator.submit_job(train_cell, sim_params)\n",
    "simulator.run_jobs(1)\n",
    "\n",
    "passive_trace = np.load(\"output/orig/out_0.npy\")[:, 0]\n",
    "ACTPassiveModule.compute_gpp(passive_trace, 0.1, 100, 700, -0.2)"
   ]
  },
  {
   "cell_type": "markdown",
   "metadata": {},
   "source": [
    "### 2.3. FI curve before tuning"
   ]
  },
  {
   "cell_type": "code",
   "execution_count": 15,
   "metadata": {},
   "outputs": [
    {
     "name": "stdout",
     "output_type": "stream",
     "text": [
      "\n",
      "        ACTSimulator (2025)\n",
      "        ----------\n",
      "        When submitting multiple jobs, note that the cells must share modfiles.\n",
      "        \n",
      "output/orig/combined_out.npy\n"
     ]
    }
   ],
   "source": [
    "# Set simulations\n",
    "simulator = ACTSimulator(output_folder_name = \"output\")\n",
    "\n",
    "for sim_idx, amp_value in enumerate([0.1, 0.5, 1.0]):\n",
    "    sim_params = SimulationParameters(\n",
    "        sim_name = \"orig\",\n",
    "        sim_idx = sim_idx,\n",
    "        h_celsius = 6.3,\n",
    "        h_dt = 0.1,\n",
    "        h_tstop = 1000,\n",
    "        CI = [ConstantCurrentInjection(amp = amp_value, dur = 700, delay = 100)])\n",
    "\n",
    "    simulator.submit_job(train_cell, sim_params)\n",
    "\n",
    "simulator.run_jobs(3)\n",
    "\n",
    "# Combine simulated traces into one dataset for convenience\n",
    "dp.combine_data(\"output/orig\")"
   ]
  },
  {
   "cell_type": "code",
   "execution_count": 29,
   "metadata": {},
   "outputs": [
    {
     "data": {
      "text/plain": [
       "Text(0.5, 1.0, 'FI Curve')"
      ]
     },
     "execution_count": 29,
     "metadata": {},
     "output_type": "execute_result"
    },
    {
     "data": {
      "image/png": "[encoded data removed]",
      "text/plain": [
       "<Figure size 640x480 with 1 Axes>"
      ]
     },
     "metadata": {},
     "output_type": "display_data"
    }
   ],
   "source": [
    "simulated_data = np.load(\"output/orig/combined_out.npy\")\n",
    "\n",
    "f = []\n",
    "for trace_id in range(len(simulated_data)):\n",
    "    f.append(len(dp.find_events(simulated_data[trace_id, ::10, 0].flatten())))\n",
    "\n",
    "plt.plot([0.1, 0.5, 1.0], f)\n",
    "plt.xlabel(\"CI (nA)\")\n",
    "plt.ylabel(\"Frequency (Hz)\")\n",
    "plt.title(\"FI Curve\")"
   ]
  },
  {
   "cell_type": "markdown",
   "metadata": {},
   "source": [
    "### 2.4 Optimize"
   ]
  },
  {
   "cell_type": "code",
   "execution_count": 30,
   "metadata": {},
   "outputs": [
    {
     "name": "stdout",
     "output_type": "stream",
     "text": [
      "Leak: (0.0001629413518002673, 0.00028576741686879743)\n",
      "Na: (0.1170278040647626, 0.16838677475947084)\n",
      "Kdr: (0.02368982405896708, 0.04482746951230253)\n"
     ]
    }
   ],
   "source": [
    "# Parameter ranges as if provided by the user\n",
    "gbar_leak = 0.00025\n",
    "gbar_na = 0.132\n",
    "gbar_kdr = 0.037\n",
    "\n",
    "random_state = np.random.RandomState(123)\n",
    "gbar_leak_range = (gbar_leak - random_state.uniform(0, gbar_leak / 2), gbar_leak + random_state.uniform(0, gbar_leak / 2))\n",
    "gbar_na_range = (gbar_na - random_state.uniform(0, gbar_na / 2), gbar_na + random_state.uniform(0, gbar_na / 2))\n",
    "gbar_kdr_range = (gbar_kdr - random_state.uniform(0, gbar_kdr / 2), gbar_kdr + random_state.uniform(0, gbar_kdr / 2))\n",
    "\n",
    "print(f\"Leak: {gbar_leak_range}\")\n",
    "print(f\"Na: {gbar_na_range}\")\n",
    "print(f\"Kdr: {gbar_kdr_range}\")"
   ]
  },
  {
   "cell_type": "code",
   "execution_count": 39,
   "metadata": {},
   "outputs": [],
   "source": [
    "# Possibly adjsut\n",
    "train_cell = ACTCellModel(\n",
    "    cell_name = \"Spiker\",\n",
    "    path_to_hoc_file = \"../../data/Spiker/orig/template.hoc\",\n",
    "    path_to_mod_files = \"../../data/Spiker/orig/modfiles/\",\n",
    "    passive = [\"gl\", \"el\", None],\n",
    "    active_channels = [\"hh_spiker.gl\", \"hh_spiker.gnabar\", \"hh_spiker.gkbar\"], # \"Trick\" to optimize for g_leak too\n",
    ")"
   ]
  },
  {
   "cell_type": "code",
   "execution_count": 42,
   "metadata": {},
   "outputs": [],
   "source": [
    "sim_params = SimulationParameters(\n",
    "        sim_name = \"cell\",\n",
    "        sim_idx = 0,\n",
    "        h_celsius = 6.3,\n",
    "        h_dt = 0.1,\n",
    "        h_tstop = 1000)\n",
    "\n",
    "optim_params = OptimizationParameters(\n",
    "    conductance_options = [\n",
    "        ConductanceOptions(variable_name = \"hh_spiker.gl\", low = gbar_leak_range[0], high = gbar_leak_range[1], n_slices = 3),\n",
    "        ConductanceOptions(variable_name = \"hh_spiker.gnabar\", low = gbar_na_range[0], high = gbar_na_range[1], n_slices = 3),\n",
    "        ConductanceOptions(variable_name = \"hh_spiker.gkbar\", low = gbar_kdr_range[0], high = gbar_kdr_range[1], n_slices = 3),  \n",
    "    ],\n",
    "    CI_options = [\n",
    "        ConstantCurrentInjection(amp = 0.1, dur = 700, delay = 100),\n",
    "        ConstantCurrentInjection(amp = 0.5, dur = 700, delay = 100),\n",
    "        ConstantCurrentInjection(amp = 0.7, dur = 700, delay = 100)\n",
    "    ],\n",
    "    filter_parameters = FilterParameters(\n",
    "        saturation_threshold = -55,\n",
    "        window_of_inspection = (100, 800)\n",
    "    )\n",
    ")\n",
    "\n",
    "m = ACTModule(\n",
    "    name = \"orig\",\n",
    "    cell = train_cell,\n",
    "    simulation_parameters = sim_params,\n",
    "    optimization_parameters = optim_params,\n",
    "    target_file = \"/Users/vladimiromelyusik/ACT/experiments/Spiker/output/target/combined_out.npy\"\n",
    ")"
   ]
  },
  {
   "cell_type": "code",
   "execution_count": 43,
   "metadata": {},
   "outputs": [
    {
     "name": "stdout",
     "output_type": "stream",
     "text": [
      "Running Module 'orig'...\n",
      "----------\n",
      "Simulating train traces...\n",
      "\n",
      "        ACTSimulator (2025)\n",
      "        ----------\n",
      "        When submitting multiple jobs, note that the cells must share modfiles.\n",
      "        \n",
      "/Users/vladimiromelyusik/ACT/experiments/Spiker/module_orig/train/combined_out.npy\n",
      "Training RandomForest...\n",
      "Predicting on target data...\n",
      "\n",
      "        ACTSimulator (2025)\n",
      "        ----------\n",
      "        When submitting multiple jobs, note that the cells must share modfiles.\n",
      "        \n"
     ]
    },
    {
     "name": "stderr",
     "output_type": "stream",
     "text": [
      "/opt/anaconda3/envs/simulations/lib/python3.10/site-packages/sklearn/base.py:486: UserWarning: X has feature names, but RandomForestRegressor was fitted without feature names\n",
      "  warnings.warn(\n"
     ]
    },
    {
     "name": "stdout",
     "output_type": "stream",
     "text": [
      "/Users/vladimiromelyusik/ACT/experiments/Spiker/module_orig/eval/combined_out.npy\n",
      "Evaluating predictions...\n",
      "Predicting on target data...\n",
      "{'hh_spiker.gl': 0.0002671592680109186, 'hh_spiker.gnabar': 0.13068929026955436, 'hh_spiker.gkbar': 0.03583340137190821}\n",
      "Done.\n"
     ]
    },
    {
     "data": {
      "text/html": [
       "<div>\n",
       "<style scoped>\n",
       "    .dataframe tbody tr th:only-of-type {\n",
       "        vertical-align: middle;\n",
       "    }\n",
       "\n",
       "    .dataframe tbody tr th {\n",
       "        vertical-align: top;\n",
       "    }\n",
       "\n",
       "    .dataframe thead th {\n",
       "        text-align: right;\n",
       "    }\n",
       "</style>\n",
       "<table border=\"1\" class=\"dataframe\">\n",
       "  <thead>\n",
       "    <tr style=\"text-align: right;\">\n",
       "      <th></th>\n",
       "      <th>metric</th>\n",
       "      <th>value</th>\n",
       "    </tr>\n",
       "  </thead>\n",
       "  <tbody>\n",
       "    <tr>\n",
       "      <th>0</th>\n",
       "      <td>Train MAE (g)</td>\n",
       "      <td>0.001182</td>\n",
       "    </tr>\n",
       "    <tr>\n",
       "      <th>1</th>\n",
       "      <td>Test SFE (g0)</td>\n",
       "      <td>1.058307</td>\n",
       "    </tr>\n",
       "    <tr>\n",
       "      <th>2</th>\n",
       "      <td>Test SFE (g1)</td>\n",
       "      <td>1.019069</td>\n",
       "    </tr>\n",
       "    <tr>\n",
       "      <th>3</th>\n",
       "      <td>Test SFE (g2)</td>\n",
       "      <td>4.467425</td>\n",
       "    </tr>\n",
       "    <tr>\n",
       "      <th>4</th>\n",
       "      <td>Test MAE (FI)</td>\n",
       "      <td>3.000000</td>\n",
       "    </tr>\n",
       "    <tr>\n",
       "      <th>5</th>\n",
       "      <td>Runtime (s)</td>\n",
       "      <td>15.023000</td>\n",
       "    </tr>\n",
       "  </tbody>\n",
       "</table>\n",
       "</div>"
      ],
      "text/plain": [
       "          metric      value\n",
       "0  Train MAE (g)   0.001182\n",
       "1  Test SFE (g0)   1.058307\n",
       "2  Test SFE (g1)   1.019069\n",
       "3  Test SFE (g2)   4.467425\n",
       "4  Test MAE (FI)   3.000000\n",
       "5    Runtime (s)  15.023000"
      ]
     },
     "execution_count": 43,
     "metadata": {},
     "output_type": "execute_result"
    }
   ],
   "source": [
    "m.run()"
   ]
  },
  {
   "cell_type": "code",
   "execution_count": 61,
   "metadata": {},
   "outputs": [],
   "source": [
    "orig_g = np.array(list(m.cell.prediction.values()))"
   ]
  },
  {
   "cell_type": "code",
   "execution_count": 62,
   "metadata": {},
   "outputs": [
    {
     "data": {
      "text/plain": [
       "0.003629576543211745"
      ]
     },
     "execution_count": 62,
     "metadata": {},
     "output_type": "execute_result"
    }
   ],
   "source": [
    "# Test g error\n",
    "mean_absolute_error(target_g, orig_g)"
   ]
  },
  {
   "cell_type": "markdown",
   "metadata": {},
   "source": [
    "### 2.5. Passive properties after tuning"
   ]
  },
  {
   "cell_type": "code",
   "execution_count": 51,
   "metadata": {},
   "outputs": [],
   "source": [
    "train_cell = ACTCellModel(\n",
    "    cell_name = \"Spiker\",\n",
    "    path_to_hoc_file = \"../../data/Spiker/orig/template.hoc\",\n",
    "    path_to_mod_files = \"../../data/Spiker/orig/modfiles/\",\n",
    "    passive = [\"gl\", \"el\", None],\n",
    "    active_channels = [\"hh_spiker.gnabar\", \"hh_spiker.gkbar\"],\n",
    ")"
   ]
  },
  {
   "cell_type": "code",
   "execution_count": 57,
   "metadata": {},
   "outputs": [
    {
     "name": "stdout",
     "output_type": "stream",
     "text": [
      "\n",
      "        ACTSimulator (2025)\n",
      "        ----------\n",
      "        When submitting multiple jobs, note that the cells must share modfiles.\n",
      "        \n"
     ]
    },
    {
     "data": {
      "text/plain": [
       "GettablePassiveProperties(R_in=294.0469306566938, tau1=4.1000000000000005, tau2=551.1, sag_ratio=0.0, V_rest=-66.0087548817479)"
      ]
     },
     "execution_count": 57,
     "metadata": {},
     "output_type": "execute_result"
    }
   ],
   "source": [
    "# Set simulations\n",
    "simulator = ACTSimulator(output_folder_name = \"output\")\n",
    "\n",
    "sim_params = SimulationParameters(\n",
    "    sim_name = \"spiker_orig_after\",\n",
    "    sim_idx = 0,\n",
    "    h_celsius = 6.3,\n",
    "    h_dt = 0.1,\n",
    "    h_tstop = 1000,\n",
    "    CI = [ConstantCurrentInjection(amp = -0.2, dur = 700, delay = 100)])\n",
    "\n",
    "train_cell.set_g_bar([\"hh_spiker.gl\", \"hh_spiker.gnabar\", \"hh_spiker.gkbar\"], orig_g)\n",
    "\n",
    "simulator.submit_job(train_cell, sim_params)\n",
    "simulator.run_jobs(1)\n",
    "\n",
    "passive_trace = np.load(\"output/spiker_orig_after/out_0.npy\")[:, 0]\n",
    "ACTPassiveModule.compute_gpp(passive_trace, 0.1, 100, 700, -0.2)"
   ]
  },
  {
   "cell_type": "code",
   "execution_count": 58,
   "metadata": {},
   "outputs": [
    {
     "data": {
      "text/plain": [
       "GettablePassiveProperties(R_in=294.0469306566938, tau1=4.1000000000000005, tau2=551.1, sag_ratio=0.0, V_rest=-66.0087548817479)"
      ]
     },
     "execution_count": 58,
     "metadata": {},
     "output_type": "execute_result"
    }
   ],
   "source": [
    "orig_gpp = ACTPassiveModule.compute_gpp(passive_trace, 0.1, 100, 700, -0.2)\n",
    "orig_gpp"
   ]
  },
  {
   "cell_type": "code",
   "execution_count": 59,
   "metadata": {},
   "outputs": [
    {
     "data": {
      "text/plain": [
       "[('R_in', 47.22305018758004),\n",
       " ('tau1', 0.0),\n",
       " ('tau2', 6.2000000000000455),\n",
       " ('sag_ratio', 0.0),\n",
       " ('V_rest', 1.0350758990574462)]"
      ]
     },
     "execution_count": 59,
     "metadata": {},
     "output_type": "execute_result"
    }
   ],
   "source": [
    "pp_error(target_gpp, orig_gpp)"
   ]
  },
  {
   "cell_type": "markdown",
   "metadata": {},
   "source": [
    "### 2.6. FI curve after tuning"
   ]
  },
  {
   "cell_type": "code",
   "execution_count": 63,
   "metadata": {},
   "outputs": [],
   "source": [
    "train_cell = ACTCellModel(\n",
    "    cell_name = \"Spiker\",\n",
    "    path_to_hoc_file = \"../../data/Spiker/orig/template.hoc\",\n",
    "    path_to_mod_files = \"../../data/Spiker/orig/modfiles/\",\n",
    "    passive = [\"gl\", \"el\", None],\n",
    "    active_channels = [\"hh_spiker.gnabar\", \"hh_spiker.gkbar\"],\n",
    ")"
   ]
  },
  {
   "cell_type": "code",
   "execution_count": 65,
   "metadata": {},
   "outputs": [
    {
     "name": "stdout",
     "output_type": "stream",
     "text": [
      "\n",
      "        ACTSimulator (2025)\n",
      "        ----------\n",
      "        When submitting multiple jobs, note that the cells must share modfiles.\n",
      "        \n",
      "output/spiker_orig_after/combined_out.npy\n"
     ]
    }
   ],
   "source": [
    "# Set simulations\n",
    "simulator = ACTSimulator(output_folder_name = \"output\")\n",
    "\n",
    "\n",
    "for sim_idx, amp_value in enumerate([0.1, 0.5, 1.0]):\n",
    "    sim_params = SimulationParameters(\n",
    "        sim_name = \"spiker_orig_after\",\n",
    "        sim_idx = sim_idx,\n",
    "        h_celsius = 6.3,\n",
    "        h_dt = 0.1,\n",
    "        h_tstop = 1000,\n",
    "        CI = [ConstantCurrentInjection(amp = amp_value, dur = 700, delay = 100)])\n",
    "    \n",
    "    train_cell.set_g_bar(\n",
    "        [\"hh_spiker.gl\", \"hh_spiker.gnabar\", \"hh_spiker.gkbar\"], \n",
    "        orig_g)\n",
    "\n",
    "\n",
    "    simulator.submit_job(train_cell, sim_params)\n",
    "\n",
    "simulator.run_jobs(3)\n",
    "\n",
    "# Combine simulated traces into one dataset for convenience\n",
    "dp.combine_data(\"output/spiker_orig_after\")"
   ]
  },
  {
   "cell_type": "code",
   "execution_count": 67,
   "metadata": {},
   "outputs": [
    {
     "data": {
      "text/plain": [
       "Text(0.5, 1.0, 'FI Curve')"
      ]
     },
     "execution_count": 67,
     "metadata": {},
     "output_type": "execute_result"
    },
    {
     "data": {
      "image/png": "[encoded data removed]",
      "text/plain": [
       "<Figure size 640x480 with 1 Axes>"
      ]
     },
     "metadata": {},
     "output_type": "display_data"
    }
   ],
   "source": [
    "simulated_data = np.load(\"output/spiker_orig_after/combined_out.npy\")\n",
    "\n",
    "f = []\n",
    "for trace_id in range(len(simulated_data)):\n",
    "    f.append(len(dp.find_events(simulated_data[trace_id, ::10, 0].flatten())))\n",
    "\n",
    "plt.plot([0.1, 0.5, 1.0], f)\n",
    "plt.xlabel(\"CI (nA)\")\n",
    "plt.ylabel(\"Frequency (Hz)\")\n",
    "plt.title(\"FI Curve\")"
   ]
  },
  {
   "cell_type": "markdown",
   "metadata": {},
   "source": [
    "## 3. Segregated pipeline"
   ]
  },
  {
   "cell_type": "markdown",
   "metadata": {},
   "source": [
    "### 3.1. Segregate channels into functional modules"
   ]
  },
  {
   "cell_type": "code",
   "execution_count": 69,
   "metadata": {},
   "outputs": [
    {
     "data": {
      "text/plain": [
       "<matplotlib.legend.Legend at 0x1876537f0>"
      ]
     },
     "execution_count": 69,
     "metadata": {},
     "output_type": "execute_result"
    },
    {
     "data": {
      "image/png": "[encoded data removed]",
      "text/plain": [
       "<Figure size 640x480 with 1 Axes>"
      ]
     },
     "metadata": {},
     "output_type": "display_data"
    }
   ],
   "source": [
    "# From ACT/data/Spiker/orig/modfiles/hh.mod\n",
    "def vtrap(x,y):\n",
    "    if np.any(np.abs(x/y) < 1e-6):\n",
    "        vtrap = y * (1 - x/y/2)\n",
    "    else:\n",
    "        vtrap = x / (np.exp(x/y) - 1)\n",
    "    return vtrap\n",
    "\n",
    "def Na(v):\n",
    "    aNa = 0.1 * vtrap(-(v + 40), 10)\n",
    "    bNa =  4 * np.exp(-(v + 65) / 18)\n",
    "    return aNa / (aNa + bNa)\n",
    "\n",
    "def Kdr(v):\n",
    "    aK = 0.01 * vtrap(-(v + 55),10)\n",
    "    bK = 0.125 * np.exp(-(v + 65) / 80)\n",
    "    return aK / (aK + bK)\n",
    "\n",
    "v = np.linspace(-150, 80, 1000)\n",
    "\n",
    "plt.plot(v, Na(v), label = 'Na')\n",
    "plt.plot(v, Kdr(v), label = 'Kdr')\n",
    "plt.title(\"Original activation curves\")\n",
    "plt.axvline(-54.3, color = 'black', ls = '--', label = \"E-leak\")\n",
    "plt.axhline(0.16, color = 'salmon', ls = '--')\n",
    "plt.legend()"
   ]
  },
  {
   "cell_type": "code",
   "execution_count": 70,
   "metadata": {},
   "outputs": [
    {
     "name": "stdout",
     "output_type": "stream",
     "text": [
      "Update the modfiles with the following:\n",
      "----------\n",
      "Activation curve 0:\n",
      "\n",
      "        :Segregation\n",
      "        if (v < -61) {\n",
      "        replace_with_var_name = 0.041 * v + 2.602\n",
      "        }\n",
      "        if (v < -63) {\n",
      "        replace_with_var_name = 0\n",
      "        }\n",
      "        \n",
      "----------\n",
      "Activation curve 1:\n",
      "\n",
      "        :Segregation\n",
      "        if (v < -61) {\n",
      "        replace_with_var_name = 0.189 * v + 11.915\n",
      "        }\n",
      "        if (v < -63) {\n",
      "        replace_with_var_name = 0\n",
      "        }\n",
      "        \n"
     ]
    }
   ],
   "source": [
    "segregator = ACTSegregator()\n",
    "seg_Na, seg_Kdr = segregator.segregate(v = v, activation_curves = [Na(v), Kdr(v)], v_rest = -65, dv_from_rest = 2)"
   ]
  },
  {
   "cell_type": "code",
   "execution_count": 71,
   "metadata": {},
   "outputs": [
    {
     "data": {
      "text/plain": [
       "<matplotlib.legend.Legend at 0x1876e63e0>"
      ]
     },
     "execution_count": 71,
     "metadata": {},
     "output_type": "execute_result"
    },
    {
     "data": {
      "image/png": "[encoded data removed]",
      "text/plain": [
       "<Figure size 640x480 with 1 Axes>"
      ]
     },
     "metadata": {},
     "output_type": "display_data"
    }
   ],
   "source": [
    "plt.plot(v, seg_Na, label = 'Na')\n",
    "plt.plot(v, seg_Kdr, label = 'Kdr')\n",
    "plt.title(\"Segregated activation curves\")\n",
    "plt.axvline(-65, color = 'black', ls = '--', label = \"V-rest\")\n",
    "plt.legend()"
   ]
  },
  {
   "cell_type": "markdown",
   "metadata": {},
   "source": [
    "### 3.2. Run the passive module"
   ]
  },
  {
   "cell_type": "code",
   "execution_count": 2,
   "metadata": {},
   "outputs": [],
   "source": [
    "train_cell = ACTCellModel(\n",
    "    cell_name = \"Spiker\",\n",
    "    path_to_hoc_file = \"../../data/Spiker/seg/template.hoc\",\n",
    "    path_to_mod_files = \"../../data/Spiker/seg/modfiles/\",\n",
    "    passive = [\"gl\", \"el\", None],\n",
    "    active_channels = [\"hh_spiker.gnabar\", \"hh_spiker.gkbar\"],\n",
    ")"
   ]
  },
  {
   "cell_type": "code",
   "execution_count": 3,
   "metadata": {},
   "outputs": [
    {
     "name": "stdout",
     "output_type": "stream",
     "text": [
      "\n",
      "        ACTSimulator (2025)\n",
      "        ----------\n",
      "        When submitting multiple jobs, note that the cells must share modfiles.\n",
      "        \n",
      "Soma area: 1110.3645074847766\n",
      "Soma diam: 18.8\n",
      "Soma L: 18.8\n"
     ]
    },
    {
     "data": {
      "text/plain": [
       "<act.cell_model.ACTCellModel at 0x10d42bf40>"
      ]
     },
     "execution_count": 3,
     "metadata": {},
     "output_type": "execute_result"
    }
   ],
   "source": [
    "simulator = ACTSimulator(output_folder_name = \"output\")\n",
    "\n",
    "sim_params = SimulationParameters(\n",
    "    sim_name = \"spiker_dummy\",\n",
    "    sim_idx = 0,\n",
    "    h_tstop = 10,\n",
    "    CI = [],\n",
    "    verbose = True\n",
    "    )\n",
    "\n",
    "simulator.run(train_cell, sim_params)"
   ]
  },
  {
   "cell_type": "code",
   "execution_count": 4,
   "metadata": {},
   "outputs": [
    {
     "data": {
      "text/plain": [
       "SettablePassiveProperties(Cm=1.4959983332281186, g_bar_leak=0.0003648776422507606, e_rev_leak=-64.97367898269046, g_bar_h=None)"
      ]
     },
     "execution_count": 4,
     "metadata": {},
     "output_type": "execute_result"
    }
   ],
   "source": [
    "user_provided_Rin = 246.82388046911376 * 1e6 # (Ohm) \n",
    "computed_soma_area = 1110.3645074847766 * 1e-8 # pi * diam * L + pi * diam^2 / 2 ; (cm2)\n",
    "user_provided_tau = 4.1000000000000005 * 1e-3 # (sec)\n",
    "user_provided_Vrest = -64.97367898269046 # (mV)\n",
    "\n",
    "ACTPassiveModule.compute_spp(user_provided_Rin, computed_soma_area, user_provided_tau, user_provided_Vrest)"
   ]
  },
  {
   "cell_type": "markdown",
   "metadata": {},
   "source": [
    "**NOTE:** adjust these in the hoc file manually."
   ]
  },
  {
   "cell_type": "code",
   "execution_count": null,
   "metadata": {},
   "outputs": [
    {
     "name": "stdout",
     "output_type": "stream",
     "text": [
      "\n",
      "        ACTSimulator (2025)\n",
      "        ----------\n",
      "        When submitting multiple jobs, note that the cells must share modfiles.\n",
      "        \n"
     ]
    },
    {
     "data": {
      "text/plain": [
       "GettablePassiveProperties(R_in=246.74113850695056, tau1=4.3, tau2=564.3000000000001, sag_ratio=0.0, V_rest=-65.00000000094045)"
      ]
     },
     "execution_count": 5,
     "metadata": {},
     "output_type": "execute_result"
    }
   ],
   "source": [
    "# Set simulations\n",
    "simulator = ACTSimulator(output_folder_name = \"output\")\n",
    "\n",
    "sim_params = SimulationParameters(\n",
    "    sim_name = \"seg\",\n",
    "    sim_idx = 0,\n",
    "    h_celsius = 6.3,\n",
    "    h_dt = 0.1,\n",
    "    h_tstop = 1000,\n",
    "    CI = [ConstantCurrentInjection(amp = -0.2, dur = 700, delay = 100)])\n",
    "\n",
    "simulator.submit_job(train_cell, sim_params)\n",
    "simulator.run_jobs(1)\n",
    "\n",
    "passive_trace = np.load(\"output/seg/out_0.npy\")[:, 0]\n",
    "seg_gpp = ACTPassiveModule.compute_gpp(passive_trace, 0.1, 100, 700, -0.2)\n",
    "seg_gpp"
   ]
  },
  {
   "cell_type": "code",
   "execution_count": 9,
   "metadata": {},
   "outputs": [
    {
     "data": {
      "text/plain": [
       "[('R_in', 0.08274196216319751),\n",
       " ('tau1', 0.1999999999999993),\n",
       " ('tau2', 19.40000000000009),\n",
       " ('sag_ratio', 0.0),\n",
       " ('V_rest', 0.02632101824998756)]"
      ]
     },
     "execution_count": 9,
     "metadata": {},
     "output_type": "execute_result"
    }
   ],
   "source": [
    "pp_error(target_gpp, seg_gpp)"
   ]
  },
  {
   "cell_type": "markdown",
   "metadata": {},
   "source": [
    "### 3.3. Optimize active channels"
   ]
  },
  {
   "cell_type": "code",
   "execution_count": null,
   "metadata": {},
   "outputs": [
    {
     "name": "stdout",
     "output_type": "stream",
     "text": [
      "Leak: (0.0001629413518002673, 0.00028576741686879743)\n",
      "Na: (0.1170278040647626, 0.16838677475947084)\n",
      "Kdr: (0.02368982405896708, 0.04482746951230253)\n"
     ]
    }
   ],
   "source": [
    "# Parameter ranges as if provided by the user\n",
    "gbar_leak = 0.00025\n",
    "gbar_na = 0.132\n",
    "gbar_kdr = 0.037\n",
    "\n",
    "random_state = np.random.RandomState(123)\n",
    "gbar_na_range = (gbar_na - random_state.uniform(0, gbar_na / 2), gbar_na + random_state.uniform(0, gbar_na / 2))\n",
    "gbar_kdr_range = (gbar_kdr - random_state.uniform(0, gbar_kdr / 2), gbar_kdr + random_state.uniform(0, gbar_kdr / 2))\n",
    "\n",
    "print(f\"Leak: {gbar_leak_range}\")\n",
    "print(f\"Na: {gbar_na_range}\")\n",
    "print(f\"Kdr: {gbar_kdr_range}\")"
   ]
  },
  {
   "cell_type": "code",
   "execution_count": 14,
   "metadata": {},
   "outputs": [],
   "source": [
    "# Possibly adjsut\n",
    "train_cell = ACTCellModel(\n",
    "    cell_name = \"Spiker\",\n",
    "    path_to_hoc_file = \"../../data/Spiker/seg/template.hoc\",\n",
    "    path_to_mod_files = \"../../data/Spiker/seg/modfiles/\",\n",
    "    passive = [\"gl\", \"el\", None],\n",
    "    active_channels = [\"hh_spiker.gnabar\", \"hh_spiker.gkbar\"],\n",
    ")"
   ]
  },
  {
   "cell_type": "code",
   "execution_count": 15,
   "metadata": {},
   "outputs": [],
   "source": [
    "sim_params = SimulationParameters(\n",
    "        sim_name = \"cell\",\n",
    "        sim_idx = 0,\n",
    "        h_celsius = 6.3,\n",
    "        h_dt = 0.1,\n",
    "        h_tstop = 1000)\n",
    "\n",
    "optim_params = OptimizationParameters(\n",
    "    conductance_options = [\n",
    "        ConductanceOptions(variable_name = \"hh_spiker.gnabar\", low = gbar_na_range[0], high = gbar_na_range[1], n_slices = 3),\n",
    "        ConductanceOptions(variable_name = \"hh_spiker.gkbar\", low = gbar_kdr_range[0], high = gbar_kdr_range[1], n_slices = 3),  \n",
    "    ],\n",
    "    CI_options = [\n",
    "        ConstantCurrentInjection(amp = 0.1, dur = 700, delay = 100),\n",
    "        ConstantCurrentInjection(amp = 0.5, dur = 700, delay = 100),\n",
    "        ConstantCurrentInjection(amp = 0.7, dur = 700, delay = 100)\n",
    "    ],\n",
    "    filter_parameters = FilterParameters(\n",
    "        saturation_threshold = -55,\n",
    "        window_of_inspection = (100, 800)\n",
    "    )\n",
    ")\n",
    "\n",
    "m = ACTModule(\n",
    "    name = \"seg\",\n",
    "    cell = train_cell,\n",
    "    simulation_parameters = sim_params,\n",
    "    optimization_parameters = optim_params,\n",
    "    target_file = \"/Users/vladimiromelyusik/ACT/experiments/Spiker/output/target/combined_out.npy\"\n",
    ")"
   ]
  },
  {
   "cell_type": "code",
   "execution_count": 16,
   "metadata": {},
   "outputs": [
    {
     "name": "stdout",
     "output_type": "stream",
     "text": [
      "Running Module 'seg'...\n",
      "----------\n",
      "Simulating train traces...\n",
      "\n",
      "        ACTSimulator (2025)\n",
      "        ----------\n",
      "        When submitting multiple jobs, note that the cells must share modfiles.\n",
      "        \n",
      "/Users/vladimiromelyusik/ACT/experiments/Spiker/module_seg/train/combined_out.npy\n",
      "Training RandomForest...\n",
      "Predicting on target data...\n",
      "\n",
      "        ACTSimulator (2025)\n",
      "        ----------\n",
      "        When submitting multiple jobs, note that the cells must share modfiles.\n",
      "        \n"
     ]
    },
    {
     "name": "stderr",
     "output_type": "stream",
     "text": [
      "/opt/anaconda3/envs/simulations/lib/python3.10/site-packages/sklearn/base.py:486: UserWarning: X has feature names, but RandomForestRegressor was fitted without feature names\n",
      "  warnings.warn(\n"
     ]
    },
    {
     "name": "stdout",
     "output_type": "stream",
     "text": [
      "/Users/vladimiromelyusik/ACT/experiments/Spiker/module_seg/eval/combined_out.npy\n",
      "Evaluating predictions...\n",
      "Predicting on target data...\n",
      "{'hh_spiker.gnabar': 0.1368523667529198, 'hh_spiker.gkbar': 0.034586280290161274}\n",
      "Done.\n"
     ]
    },
    {
     "data": {
      "text/html": [
       "<div>\n",
       "<style scoped>\n",
       "    .dataframe tbody tr th:only-of-type {\n",
       "        vertical-align: middle;\n",
       "    }\n",
       "\n",
       "    .dataframe tbody tr th {\n",
       "        vertical-align: top;\n",
       "    }\n",
       "\n",
       "    .dataframe thead th {\n",
       "        text-align: right;\n",
       "    }\n",
       "</style>\n",
       "<table border=\"1\" class=\"dataframe\">\n",
       "  <thead>\n",
       "    <tr style=\"text-align: right;\">\n",
       "      <th></th>\n",
       "      <th>metric</th>\n",
       "      <th>value</th>\n",
       "    </tr>\n",
       "  </thead>\n",
       "  <tbody>\n",
       "    <tr>\n",
       "      <th>0</th>\n",
       "      <td>Train MAE (g)</td>\n",
       "      <td>0.004034</td>\n",
       "    </tr>\n",
       "    <tr>\n",
       "      <th>1</th>\n",
       "      <td>Test SFE (g0)</td>\n",
       "      <td>4.479008</td>\n",
       "    </tr>\n",
       "    <tr>\n",
       "      <th>2</th>\n",
       "      <td>Test SFE (g1)</td>\n",
       "      <td>3.398640</td>\n",
       "    </tr>\n",
       "    <tr>\n",
       "      <th>3</th>\n",
       "      <td>Test SFE (g2)</td>\n",
       "      <td>6.060767</td>\n",
       "    </tr>\n",
       "    <tr>\n",
       "      <th>4</th>\n",
       "      <td>Test MAE (FI)</td>\n",
       "      <td>1.100000</td>\n",
       "    </tr>\n",
       "    <tr>\n",
       "      <th>5</th>\n",
       "      <td>Runtime (s)</td>\n",
       "      <td>11.520000</td>\n",
       "    </tr>\n",
       "  </tbody>\n",
       "</table>\n",
       "</div>"
      ],
      "text/plain": [
       "          metric      value\n",
       "0  Train MAE (g)   0.004034\n",
       "1  Test SFE (g0)   4.479008\n",
       "2  Test SFE (g1)   3.398640\n",
       "3  Test SFE (g2)   6.060767\n",
       "4  Test MAE (FI)   1.100000\n",
       "5    Runtime (s)  11.520000"
      ]
     },
     "execution_count": 16,
     "metadata": {},
     "output_type": "execute_result"
    }
   ],
   "source": [
    "m.run()"
   ]
  },
  {
   "cell_type": "code",
   "execution_count": 19,
   "metadata": {},
   "outputs": [
    {
     "data": {
      "text/plain": [
       "0.0061103213683364336"
      ]
     },
     "execution_count": 19,
     "metadata": {},
     "output_type": "execute_result"
    }
   ],
   "source": [
    "seg_g = np.array([0.0003648776422507606, 0.1368523667529198,  0.034586280290161274])\n",
    "mean_absolute_error(target_g, seg_g)"
   ]
  },
  {
   "cell_type": "markdown",
   "metadata": {},
   "source": [
    "### 3.4. FI curve after optimization"
   ]
  },
  {
   "cell_type": "code",
   "execution_count": 20,
   "metadata": {},
   "outputs": [],
   "source": [
    "train_cell = ACTCellModel(\n",
    "    cell_name = \"Spiker\",\n",
    "    path_to_hoc_file = \"../../data/Spiker/seg/template.hoc\",\n",
    "    path_to_mod_files = \"../../data/Spiker/seg/modfiles/\",\n",
    "    passive = [\"gl\", \"el\", None],\n",
    "    active_channels = [\"hh_spiker.gnabar\", \"hh_spiker.gkbar\"],\n",
    ")"
   ]
  },
  {
   "cell_type": "code",
   "execution_count": 21,
   "metadata": {},
   "outputs": [
    {
     "name": "stdout",
     "output_type": "stream",
     "text": [
      "\n",
      "        ACTSimulator (2025)\n",
      "        ----------\n",
      "        When submitting multiple jobs, note that the cells must share modfiles.\n",
      "        \n",
      "output/spiker_seg_after/combined_out.npy\n"
     ]
    }
   ],
   "source": [
    "# Set simulations\n",
    "simulator = ACTSimulator(output_folder_name = \"output\")\n",
    "\n",
    "\n",
    "for sim_idx, amp_value in enumerate([0.1, 0.5, 1.0]):\n",
    "    sim_params = SimulationParameters(\n",
    "        sim_name = \"spiker_seg_after\",\n",
    "        sim_idx = sim_idx,\n",
    "        h_celsius = 6.3,\n",
    "        h_dt = 0.1,\n",
    "        h_tstop = 1000,\n",
    "        CI = [ConstantCurrentInjection(amp = amp_value, dur = 700, delay = 100)])\n",
    "    \n",
    "    train_cell.set_g_bar(\n",
    "        [\"hh_spiker.gnabar\", \"hh_spiker.gkbar\"], \n",
    "        seg_g[1:])\n",
    "\n",
    "\n",
    "    simulator.submit_job(train_cell, sim_params)\n",
    "\n",
    "simulator.run_jobs(3)\n",
    "\n",
    "# Combine simulated traces into one dataset for convenience\n",
    "dp.combine_data(\"output/spiker_seg_after\")"
   ]
  },
  {
   "cell_type": "code",
   "execution_count": 23,
   "metadata": {},
   "outputs": [
    {
     "data": {
      "text/plain": [
       "Text(0.5, 1.0, 'FI Curve')"
      ]
     },
     "execution_count": 23,
     "metadata": {},
     "output_type": "execute_result"
    },
    {
     "data": {
      "image/png": "[encoded data removed]",
      "text/plain": [
       "<Figure size 640x480 with 1 Axes>"
      ]
     },
     "metadata": {},
     "output_type": "display_data"
    }
   ],
   "source": [
    "simulated_data = np.load(\"output/spiker_seg_after/combined_out.npy\")\n",
    "\n",
    "f = []\n",
    "for trace_id in range(len(simulated_data)):\n",
    "    f.append(len(dp.find_events(simulated_data[trace_id, ::10, 0].flatten())))\n",
    "\n",
    "plt.plot([0.1, 0.5, 1.0], f)\n",
    "plt.xlabel(\"CI (nA)\")\n",
    "plt.ylabel(\"Frequency (Hz)\")\n",
    "plt.title(\"FI Curve\")"
   ]
  }
 ],
 "metadata": {
  "kernelspec": {
   "display_name": "simulations",
   "language": "python",
   "name": "python3"
  },
  "language_info": {
   "codemirror_mode": {
    "name": "ipython",
    "version": 3
   },
   "file_extension": ".py",
   "mimetype": "text/x-python",
   "name": "python",
   "nbconvert_exporter": "python",
   "pygments_lexer": "ipython3",
   "version": "3.10.13"
  }
 },
 "nbformat": 4,
 "nbformat_minor": 2
}
