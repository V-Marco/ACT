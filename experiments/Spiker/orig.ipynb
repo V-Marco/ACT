{
 "cells": [
  {
   "cell_type": "markdown",
   "metadata": {},
   "source": [
    "# Spiker "
   ]
  },
  {
   "cell_type": "code",
   "execution_count": null,
   "metadata": {},
   "outputs": [],
   "source": [
    "# Set the path\n",
    "import sys\n",
    "sys.path.append(\"/home/ubuntu/ACT\")\n",
    "\n",
    "from act.cell_model import ACTCellModel\n",
    "from act.simulator import ACTSimulator\n",
    "from act.act_types import SimulationParameters, ConstantCurrentInjection, FilterParameters, ConductanceOptions, OptimizationParameters\n",
    "from act.data_processing import *\n",
    "from act.act_module import ACTModule, ACTModuleParameters\n",
    "\n",
    "import numpy as np\n",
    "import matplotlib.pyplot as plt"
   ]
  },
  {
   "cell_type": "markdown",
   "metadata": {},
   "source": [
    "1. Generate target traces to tune to (as if they were provided by the user)."
   ]
  },
  {
   "cell_type": "code",
   "execution_count": null,
   "metadata": {},
   "outputs": [],
   "source": [
    "# Define the \"target\" cell\n",
    "target_cell = ACTCellModel(\n",
    "    cell_name = \"Spiker\",\n",
    "    path_to_hoc_file = \"/home/ubuntu/ACT/data/Spiker/orig/template.hoc\",\n",
    "    path_to_mod_files = \"/home/ubuntu/ACT/data/Spiker/orig/modfiles/\",\n",
    "    passive = [\"gl\", \"el\", None],\n",
    "    active_channels = [\"hh_spiker.gnabar\", \"hh_spiker.gkbar\"],\n",
    ")"
   ]
  },
  {
   "cell_type": "code",
   "execution_count": null,
   "metadata": {},
   "outputs": [],
   "source": [
    "# Set simulations\n",
    "simulator = ACTSimulator(output_folder_name = \"output\")\n",
    "\n",
    "for sim_idx, amp_value in enumerate([0.1, 0.5, 1.0]):\n",
    "    sim_params = SimulationParameters(\n",
    "        sim_name = \"spiker_orig/target\",\n",
    "        sim_idx = sim_idx,\n",
    "        h_celsius = 6.3,\n",
    "        h_dt = 0.1,\n",
    "        h_tstop = 1000,\n",
    "        CI = [ConstantCurrentInjection(amp = amp_value, dur = 700, delay = 100, lto_hto = 0)])\n",
    "\n",
    "    simulator.submit_job(target_cell, sim_params)"
   ]
  },
  {
   "cell_type": "code",
   "execution_count": null,
   "metadata": {},
   "outputs": [],
   "source": [
    "simulator.run_jobs(3)"
   ]
  },
  {
   "cell_type": "code",
   "execution_count": null,
   "metadata": {},
   "outputs": [],
   "source": [
    "# Combine simulated traces into one dataset for convenience\n",
    "combine_data(\"output/spiker_orig/target\")"
   ]
  },
  {
   "cell_type": "code",
   "execution_count": null,
   "metadata": {},
   "outputs": [],
   "source": [
    "# Plot the traces and the FI curve\n",
    "simulated_data = np.load(\"output/spiker_orig/target/combined_out.npy\") # 3 x 10000 x 4; (n_sim x time x [V, I, g, lto_hto])"
   ]
  },
  {
   "cell_type": "code",
   "execution_count": null,
   "metadata": {},
   "outputs": [],
   "source": [
    "fig, ax = plt.subplots(1, 3, figsize = (10, 2))\n",
    "for axid, amp in enumerate([0.1, 0.5, 1.0]):\n",
    "    ax[axid].plot(simulated_data[axid, ::10, 0])\n",
    "    ax[axid].set_xlabel(\"Time (ms)\")\n",
    "    ax[axid].set_title(f\"CI = {amp} nA\")\n",
    "\n",
    "ax[0].set_ylabel(\"Voltage (mV)\")"
   ]
  },
  {
   "cell_type": "code",
   "execution_count": null,
   "metadata": {},
   "outputs": [],
   "source": [
    "frequencies = get_fi_curve(\n",
    "    simulated_data[:, ::10, 0],\n",
    "    -30,\n",
    "    [ConstantCurrentInjection(amp = 0.1, dur = 700, delay = 100, lto_hto = 0),\n",
    "     ConstantCurrentInjection(amp = 0.5, dur = 700, delay = 100, lto_hto = 0),\n",
    "     ConstantCurrentInjection(amp = 1.0, dur = 700, delay = 100, lto_hto = 0),\n",
    "    ]\n",
    ")"
   ]
  },
  {
   "cell_type": "code",
   "execution_count": null,
   "metadata": {},
   "outputs": [],
   "source": [
    "plt.plot([0.1, 0.5, 1.0], frequencies)\n",
    "plt.xlabel(\"CI (nA)\")\n",
    "plt.ylabel(\"Frequency (Hz)\")\n",
    "plt.title(\"FI Curve\")"
   ]
  },
  {
   "cell_type": "markdown",
   "metadata": {},
   "source": [
    "2. Assume passive properties are optimized offline (see the notebook on PP tuning). Optimize active channels."
   ]
  },
  {
   "cell_type": "code",
   "execution_count": null,
   "metadata": {},
   "outputs": [],
   "source": [
    "random_state = np.random.RandomState(123)"
   ]
  },
  {
   "cell_type": "code",
   "execution_count": null,
   "metadata": {},
   "outputs": [],
   "source": [
    "# Parameter ranges as if provided by the user\n",
    "gbar_na = 0.12\n",
    "gbar_kdr = 0.036\n",
    "\n",
    "gbar_na_range = (gbar_na - random_state.uniform(0, gbar_na / 2), gbar_na + random_state.uniform(0, gbar_na / 2))\n",
    "gbar_kdr_range = (gbar_kdr - random_state.uniform(0, gbar_kdr / 2), gbar_kdr + random_state.uniform(0, gbar_kdr / 2))\n",
    "\n",
    "print(f\"Na: {gbar_na_range}\")\n",
    "print(f\"Kdr: {gbar_kdr_range}\")"
   ]
  },
  {
   "cell_type": "code",
   "execution_count": null,
   "metadata": {},
   "outputs": [],
   "source": [
    "# Define the train cell\n",
    "train_cell = ACTCellModel(\n",
    "    cell_name = \"Spiker\",\n",
    "    path_to_hoc_file = \"/home/ubuntu/ACT/data/Spiker/orig/template.hoc\",\n",
    "    path_to_mod_files = \"/home/ubuntu/ACT/data/Spiker/orig/modfiles/\",\n",
    "    passive = [\"gl\", \"el\", None],\n",
    "    active_channels = [\"hh_spiker.gnabar\", \"hh_spiker.gkbar\"],\n",
    ")"
   ]
  },
  {
   "cell_type": "code",
   "execution_count": null,
   "metadata": {},
   "outputs": [],
   "source": [
    "sim_params = SimulationParameters(\n",
    "    sim_name = \"spiker_orig_train\",\n",
    "    h_celsius = 6.3,\n",
    "    h_dt = 0.1,\n",
    "    h_tstop = 1000,\n",
    "    CI = [ConstantCurrentInjection(amp = 0.1, dur = 700, delay = 100, lto_hto = 0),\n",
    "          ConstantCurrentInjection(amp = 0.5, dur = 700, delay = 100, lto_hto = 0),\n",
    "          ConstantCurrentInjection(amp = 1.0, dur = 700, delay = 100, lto_hto = 0)])\n",
    "\n",
    "optim_params = OptimizationParameters(\n",
    "    conductance_options = [\n",
    "        ConductanceOptions(variable_name = \"hh_spiker.gnabar\", low = gbar_na_range[0], high = gbar_na_range[1], n_slices = 3),\n",
    "        ConductanceOptions(variable_name = \"hh_spiker.gkbar\", low = gbar_kdr_range[0], high = gbar_kdr_range[1], n_slices = 3),  \n",
    "    ],\n",
    "    train_features = \n",
    "    [\"i_trace_stats\", \"number_of_spikes\", \"spike_times\", \"spike_height_stats\", \"number_of_troughs\", \"trough_times\", \"trough_height_stats\"],\n",
    "    prediction_eval_method = 'fi_curve',\n",
    "    spike_threshold = 0,\n",
    "    filter_parameters = FilterParameters(\n",
    "        saturation_threshold = -55,\n",
    "        window_of_inspection = (100, 800)\n",
    "    ),\n",
    "    first_n_spikes = 20,\n",
    "    random_state = 123,\n",
    "    save_file = f\"output/spiker_orig/results/saved_metrics.json\"\n",
    ")\n",
    "\n",
    "original_module = ACTModule(\n",
    "    ACTModuleParameters(\n",
    "        module_folder_name = \"output/spiker_orig\",\n",
    "        cell = train_cell,\n",
    "        target_traces_file = f\"output/spiker_orig/target/combined_out.npy\",\n",
    "        sim_params = sim_params,\n",
    "        optim_params = optim_params\n",
    "    )\n",
    ")"
   ]
  },
  {
   "cell_type": "code",
   "execution_count": null,
   "metadata": {},
   "outputs": [],
   "source": [
    "predicted_g_data_file = original_module.run()"
   ]
  },
  {
   "cell_type": "code",
   "execution_count": null,
   "metadata": {},
   "outputs": [],
   "source": [
    "pickle_rf(original_module.rf_model,f\"output/spiker_orig/results/trained_rf.pkl\")"
   ]
  },
  {
   "cell_type": "markdown",
   "metadata": {},
   "source": [
    "# Results and Metrics"
   ]
  },
  {
   "cell_type": "code",
   "execution_count": null,
   "metadata": {},
   "outputs": [],
   "source": [
    "final_folder = \"output/spiker_orig\"\n",
    "\n",
    "from act.act_plot import *\n",
    "plot_v_comparison(\n",
    "    final_folder,\n",
    "    predicted_g_data_file, \n",
    "    sim_params.CI,\n",
    "    sim_params.h_dt\n",
    "    )\n",
    "\n",
    "plot_fi_comparison(\n",
    "    final_folder, \n",
    "    sim_params.CI\n",
    "    )"
   ]
  },
  {
   "cell_type": "code",
   "execution_count": null,
   "metadata": {},
   "outputs": [],
   "source": [
    "from act.metrics import *\n",
    "\n",
    "mean, stdev = save_interspike_interval_comparison(\n",
    "    final_folder,\n",
    "    predicted_g_data_file,\n",
    "    sim_params.CI, \n",
    "    sim_params.h_dt,\n",
    "    first_n_spikes=5,\n",
    "    save_file=f\"{final_folder}/results/saved_metrics.json\"\n",
    ")\n",
    "\n",
    "'''\n",
    "\"gnabar_hh_orig\" = 0.12\n",
    "\"gkbar_hh_orig\"=0.036\n",
    "\"gl_hh_orig\"=0.0003\n",
    "'''\n",
    "\n",
    "actual_g={\"gnabar_hh_spiker\": 0.12,\"gkbar_hh_spiker\": 0.036}\n",
    "\n",
    "    \n",
    "save_prediction_g_mae(\n",
    "    actual_g=actual_g,\n",
    "    save_file=f\"{final_folder}/results/saved_metrics.json\"\n",
    ")\n",
    "\n",
    "save_feature_mae(\n",
    "    final_folder,\n",
    "    predicted_g_data_file,\n",
    "    [\"i_trace_stats\", \"number_of_spikes\", \"spike_times\", \"spike_height_stats\", \"trough_times\", \"trough_height_stats\", \"lto-hto_amplitude\", \"lto-hto_frequency\"],\n",
    "    sim_params.h_dt,\n",
    "    first_n_spikes=5,\n",
    "    CI_settings=sim_params.CI,\n",
    "    save_file=f\"{final_folder}/results/saved_metrics.json\"\n",
    ")\n",
    "\n",
    "clear_directory(final_folder + \"/train/\")\n"
   ]
  }
 ],
 "metadata": {
  "kernelspec": {
   "display_name": "act-venv",
   "language": "python",
   "name": "python3"
  },
  "language_info": {
   "codemirror_mode": {
    "name": "ipython",
    "version": 3
   },
   "file_extension": ".py",
   "mimetype": "text/x-python",
   "name": "python",
   "nbconvert_exporter": "python",
   "pygments_lexer": "ipython3",
   "version": "3.8.10"
  }
 },
 "nbformat": 4,
 "nbformat_minor": 2
}
