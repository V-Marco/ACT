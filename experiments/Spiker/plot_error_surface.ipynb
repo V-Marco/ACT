{
 "cells": [
  {
   "cell_type": "code",
   "execution_count": 1,
   "id": "c96c4540",
   "metadata": {},
   "outputs": [],
   "source": [
    "import numpy as np\n",
    "import matplotlib.pyplot as plt\n",
    "\n",
    "import sys\n",
    "sys.path.append(\"../../\")\n",
    "from act.cell_model import ACTCellModel\n",
    "from act.simulator import ACTSimulator\n",
    "from act.types import SimulationParameters, ConstantCurrentInjection, ConductanceOptions, FilterParameters, OptimizationParameters\n",
    "from act.data_processing import get_summary_features, combine_data"
   ]
  },
  {
   "cell_type": "code",
   "execution_count": 2,
   "id": "02b46f01",
   "metadata": {},
   "outputs": [],
   "source": [
    "# Define the cell\n",
    "cell = ACTCellModel(\n",
    "    cell_name = \"Spiker\",\n",
    "    path_to_hoc_file = \"../../data/Spiker/orig/target_template.hoc\",\n",
    "    path_to_mod_files = \"../../data/Spiker/orig/modfiles/\",\n",
    "    passive = [\"gl\", \"el\", None],\n",
    "    active_channels = [\"hh_spiker.gnabar\", \"hh_spiker.gkbar\"],\n",
    ")\n",
    "\n",
    "target_g = np.array([0.0003, 0.12, 0.036])"
   ]
  },
  {
   "cell_type": "code",
   "execution_count": 60,
   "id": "68c5c95c",
   "metadata": {},
   "outputs": [],
   "source": [
    "grid_values = np.linspace(target_g - 0.5 * target_g, target_g + 0.5 * target_g, num = 40)"
   ]
  },
  {
   "cell_type": "code",
   "execution_count": null,
   "id": "5dacd534",
   "metadata": {},
   "outputs": [
    {
     "name": "stdout",
     "output_type": "stream",
     "text": [
      "\n",
      "        ACTSimulator (2025)\n",
      "        ----------\n",
      "        When submitting multiple jobs, note that the cells must share modfiles.\n",
      "        \n"
     ]
    }
   ],
   "source": [
    "# Set simulations\n",
    "simulator = ACTSimulator(output_folder_name = \"output\")\n",
    "\n",
    "index_counter = 0\n",
    "for g_na_value in grid_values[:, 1]:\n",
    "    for g_k_value in grid_values[:, 2]:\n",
    "        cell = ACTCellModel(\n",
    "        cell_name = \"Spiker\",\n",
    "        path_to_hoc_file = \"../../data/Spiker/orig/target_template.hoc\",\n",
    "        path_to_mod_files = \"../../data/Spiker/orig/modfiles/\",\n",
    "        passive = [\"gl\", \"el\", None],\n",
    "        active_channels = [\"hh_spiker.gnabar\", \"hh_spiker.gkbar\"],\n",
    "        )\n",
    "        \n",
    "        cell.set_g_bar([\"hh_spiker.gnabar\", \"hh_spiker.gkbar\"], [g_na_value, g_k_value])\n",
    "\n",
    "        sim_params = SimulationParameters(\n",
    "            sim_name = \"cell\",\n",
    "            sim_idx = index_counter,\n",
    "            h_celsius = 6.3,\n",
    "            h_dt = 0.1,\n",
    "            h_tstop = 1000,\n",
    "            CI = [ConstantCurrentInjection(amp = 0.5, dur = 700, delay = 100, lto_hto = 0)])\n",
    "        index_counter += 1\n",
    "        \n",
    "        simulator.submit_job(cell, sim_params)"
   ]
  },
  {
   "cell_type": "code",
   "execution_count": 62,
   "id": "bc738688",
   "metadata": {},
   "outputs": [],
   "source": [
    "simulator.run_jobs(5)"
   ]
  },
  {
   "cell_type": "code",
   "execution_count": 63,
   "id": "4f297e93",
   "metadata": {},
   "outputs": [
    {
     "name": "stdout",
     "output_type": "stream",
     "text": [
      "output/cell/combined_out.npy\n"
     ]
    }
   ],
   "source": [
    "# Combine simulated traces into one dataset for convenience\n",
    "combine_data(\"output/cell\")"
   ]
  },
  {
   "cell_type": "code",
   "execution_count": 64,
   "id": "32616b6b",
   "metadata": {},
   "outputs": [],
   "source": [
    "data = np.load(\"output/cell/combined_out.npy\")\n",
    "V = data[:, :, 0][:, ::10]\n",
    "g = data[:, :2, 2]"
   ]
  },
  {
   "cell_type": "code",
   "execution_count": 65,
   "id": "6928e672",
   "metadata": {},
   "outputs": [],
   "source": [
    "estimated_sf = get_summary_features(V, [ConstantCurrentInjection(amp = 0.5, dur = 700, delay = 100, lto_hto = 0)] * len(g))"
   ]
  },
  {
   "cell_type": "code",
   "execution_count": 66,
   "id": "d6d0e0e5",
   "metadata": {},
   "outputs": [
    {
     "name": "stdout",
     "output_type": "stream",
     "text": [
      "\n",
      "        ACTSimulator (2025)\n",
      "        ----------\n",
      "        When submitting multiple jobs, note that the cells must share modfiles.\n",
      "        \n"
     ]
    }
   ],
   "source": [
    "simulator = ACTSimulator(output_folder_name = \"output\")\n",
    "\n",
    "cell = ACTCellModel(\n",
    "        cell_name = \"Spiker\",\n",
    "        path_to_hoc_file = \"../../data/Spiker/orig/target_template.hoc\",\n",
    "        path_to_mod_files = \"../../data/Spiker/orig/modfiles/\",\n",
    "        passive = [\"gl\", \"el\", None],\n",
    "        active_channels = [\"hh_spiker.gnabar\", \"hh_spiker.gkbar\"],\n",
    "        )\n",
    "\n",
    "sim_params = SimulationParameters(\n",
    "sim_name = \"cell\",\n",
    "sim_idx = 999,\n",
    "h_celsius = 6.3,\n",
    "h_dt = 0.1,\n",
    "h_tstop = 1000,\n",
    "CI = [ConstantCurrentInjection(amp = 0.5, dur = 700, delay = 100, lto_hto = 0)])\n",
    "\n",
    "simulator.submit_job(cell, sim_params)\n",
    "simulator.run_jobs(1)"
   ]
  },
  {
   "cell_type": "code",
   "execution_count": 67,
   "id": "84c30f13",
   "metadata": {},
   "outputs": [],
   "source": [
    "data = np.load(\"output/cell/out_999.npy\")\n",
    "V = data[::10, 0].reshape((1, -1))\n",
    "target_sf = get_summary_features(V, [ConstantCurrentInjection(amp = 0.5, dur = 700, delay = 100, lto_hto = 0)])"
   ]
  },
  {
   "cell_type": "code",
   "execution_count": 160,
   "id": "5de3dfb1",
   "metadata": {},
   "outputs": [
    {
     "name": "stderr",
     "output_type": "stream",
     "text": [
      "/var/folders/gs/_z8_31zd6xz_w20ny978y50w0000gn/T/ipykernel_81040/157144236.py:6: RuntimeWarning: invalid value encountered in divide\n",
      "  pred = (pred - z_mean) / z_std\n",
      "/var/folders/gs/_z8_31zd6xz_w20ny978y50w0000gn/T/ipykernel_81040/157144236.py:10: RuntimeWarning: invalid value encountered in divide\n",
      "  targ = (targ - z_mean) / z_std\n"
     ]
    }
   ],
   "source": [
    "# Z-transform the features\n",
    "pred = estimated_sf.to_numpy()\n",
    "z_mean = np.nanmean(pred, axis = 0)\n",
    "z_std = np.nanstd(pred, axis = 0)\n",
    "\n",
    "pred = (pred - z_mean) / z_std\n",
    "\n",
    "# Use sample mean and std for target transformation\n",
    "targ = target_sf.to_numpy() \n",
    "targ = (targ - z_mean) / z_std\n",
    "\n",
    "mae = np.nanmean(np.abs(targ - pred), axis = 1)"
   ]
  },
  {
   "cell_type": "code",
   "execution_count": 169,
   "id": "327ed377",
   "metadata": {},
   "outputs": [
    {
     "data": {
      "image/png": "[encoded data removed]",
      "text/plain": [
       "<Figure size 640x480 with 2 Axes>"
      ]
     },
     "metadata": {},
     "output_type": "display_data"
    }
   ],
   "source": [
    "X, Y = np.meshgrid(grid_values[:, 1], grid_values[:, 2], indexing = 'ij')\n",
    "\n",
    "fig, ax = plt.subplots()\n",
    "contour = ax.contourf(X, Y, mae.reshape((grid_values.shape[0], grid_values.shape[0])), cmap = 'viridis')\n",
    "ax.scatter(target_g[1], target_g[2], marker = \"x\", color = 'red', label = \"Target\")\n",
    "\n",
    "ax.set_xlabel(r\"$\\bar{g}_{Na}$\")\n",
    "ax.set_ylabel(r\"$\\bar{g}_{K}$\")\n",
    "ax.set_title('Summary Features MAE')\n",
    "ax.legend()\n",
    "\n",
    "cbar = fig.colorbar(contour)\n",
    "cbar.set_label('MAE')"
   ]
  },
  {
   "cell_type": "code",
   "execution_count": 2,
   "id": "469cc766",
   "metadata": {},
   "outputs": [],
   "source": [
    "from act.module import ACTModule"
   ]
  },
  {
   "cell_type": "code",
   "execution_count": null,
   "id": "59b89be3",
   "metadata": {},
   "outputs": [],
   "source": [
    "cell = ACTCellModel(\n",
    "    cell_name = \"Spiker\",\n",
    "    path_to_hoc_file = \"../../data/Spiker/orig/target_template.hoc\",\n",
    "    path_to_mod_files = \"../../data/Spiker/orig/modfiles/\",\n",
    "    passive = [\"gl\", \"el\", None],\n",
    "    active_channels = [\"hh_spiker.gnabar\", \"hh_spiker.gkbar\"],\n",
    ")\n",
    "\n",
    "target_g = np.array([0.0003, 0.12, 0.036])\n",
    "\n",
    "sim_params = SimulationParameters(\n",
    "        sim_name = \"cell\",\n",
    "        sim_idx = 0,\n",
    "        h_celsius = 6.3,\n",
    "        h_dt = 0.1,\n",
    "        h_tstop = 1000,\n",
    "        CI = [ConstantCurrentInjection(amp = 0.5, dur = 700, delay = 100, lto_hto = 0)])\n",
    "\n",
    "optim_params = OptimizationParameters(\n",
    "    conductance_options = [\n",
    "        ConductanceOptions(variable_name = \"hh_spiker.gl\", low = 0, high = 1, n_slices = 3),\n",
    "        ConductanceOptions(variable_name = \"hh_spiker.gnabar\", low = 0, high = 1, n_slices = 3),\n",
    "        ConductanceOptions(variable_name = \"hh_spiker.gkbar\", low = 0, high = 1, n_slices = 3),  \n",
    "    ],\n",
    "    train_features = None,\n",
    "    prediction_eval_method = 'fi_curve',\n",
    "    spike_threshold = 0,\n",
    "    filter_parameters = FilterParameters(\n",
    "        saturation_threshold = -55,\n",
    "        window_of_inspection = (100, 800)\n",
    "    ),\n",
    "    first_n_spikes = 20,\n",
    "    random_state = 123,\n",
    "    save_file = f\"output/spiker_orig/results/saved_metrics.json\"\n",
    ")"
   ]
  },
  {
   "cell_type": "code",
   "execution_count": 4,
   "id": "cc9812da",
   "metadata": {},
   "outputs": [],
   "source": [
    "m = ACTModule(\n",
    "    name = \"orig_module\",\n",
    "    cell = cell,\n",
    "    simulation_parameters = sim_params,\n",
    "    optimization_parameters = optim_params,\n",
    "    target_file = \"/Users/vladimiromelyusik/ACT/experiments/Spiker/output/target/combined_out.npy\"\n",
    ")"
   ]
  },
  {
   "cell_type": "code",
   "execution_count": 5,
   "id": "cd218b50",
   "metadata": {},
   "outputs": [
    {
     "name": "stdout",
     "output_type": "stream",
     "text": [
      "Running Module orig_module...\n",
      "----------\n",
      "Simulating train traces...\n",
      "\n",
      "        ACTSimulator (2025)\n",
      "        ----------\n",
      "        When submitting multiple jobs, note that the cells must share modfiles.\n",
      "        \n",
      "[(0.0, 0.0, 0.0), (0.0, 0.0, 0.5), (0.0, 0.0, 1.0), (0.0, 0.5, 0.0), (0.0, 0.5, 0.5), (0.0, 0.5, 1.0), (0.0, 1.0, 0.0), (0.0, 1.0, 0.5), (0.0, 1.0, 1.0), (0.5, 0.0, 0.0), (0.5, 0.0, 0.5), (0.5, 0.0, 1.0), (0.5, 0.5, 0.0), (0.5, 0.5, 0.5), (0.5, 0.5, 1.0), (0.5, 1.0, 0.0), (0.5, 1.0, 0.5), (0.5, 1.0, 1.0), (1.0, 0.0, 0.0), (1.0, 0.0, 0.5), (1.0, 0.0, 1.0), (1.0, 0.5, 0.0), (1.0, 0.5, 0.5), (1.0, 0.5, 1.0), (1.0, 1.0, 0.0), (1.0, 1.0, 0.5), (1.0, 1.0, 1.0)]\n",
      "[(<act.cell_model.ACTCellModel object at 0x14b4690c0>, SimulationParameters(sim_name='train', sim_idx=0, h_v_init=-50, h_tstop=1000, h_dt=0.1, h_celsius=6.3, CI=[ConstantCurrentInjection(amp=0.5, dur=700, delay=100, lto_hto=0)], random_seed=42, _path='/Users/vladimiromelyusik/ACT/experiments/Spiker/module_orig_module/train')), (<act.cell_model.ACTCellModel object at 0x14b469f00>, SimulationParameters(sim_name='train', sim_idx=1, h_v_init=-50, h_tstop=1000, h_dt=0.1, h_celsius=6.3, CI=[ConstantCurrentInjection(amp=0.5, dur=700, delay=100, lto_hto=0)], random_seed=42, _path='/Users/vladimiromelyusik/ACT/experiments/Spiker/module_orig_module/train')), (<act.cell_model.ACTCellModel object at 0x14b46bb20>, SimulationParameters(sim_name='train', sim_idx=2, h_v_init=-50, h_tstop=1000, h_dt=0.1, h_celsius=6.3, CI=[ConstantCurrentInjection(amp=0.5, dur=700, delay=100, lto_hto=0)], random_seed=42, _path='/Users/vladimiromelyusik/ACT/experiments/Spiker/module_orig_module/train')), (<act.cell_model.ACTCellModel object at 0x14b46b910>, SimulationParameters(sim_name='train', sim_idx=3, h_v_init=-50, h_tstop=1000, h_dt=0.1, h_celsius=6.3, CI=[ConstantCurrentInjection(amp=0.5, dur=700, delay=100, lto_hto=0)], random_seed=42, _path='/Users/vladimiromelyusik/ACT/experiments/Spiker/module_orig_module/train')), (<act.cell_model.ACTCellModel object at 0x14b46a0b0>, SimulationParameters(sim_name='train', sim_idx=4, h_v_init=-50, h_tstop=1000, h_dt=0.1, h_celsius=6.3, CI=[ConstantCurrentInjection(amp=0.5, dur=700, delay=100, lto_hto=0)], random_seed=42, _path='/Users/vladimiromelyusik/ACT/experiments/Spiker/module_orig_module/train')), (<act.cell_model.ACTCellModel object at 0x14b46a050>, SimulationParameters(sim_name='train', sim_idx=5, h_v_init=-50, h_tstop=1000, h_dt=0.1, h_celsius=6.3, CI=[ConstantCurrentInjection(amp=0.5, dur=700, delay=100, lto_hto=0)], random_seed=42, _path='/Users/vladimiromelyusik/ACT/experiments/Spiker/module_orig_module/train')), (<act.cell_model.ACTCellModel object at 0x14b469ff0>, SimulationParameters(sim_name='train', sim_idx=6, h_v_init=-50, h_tstop=1000, h_dt=0.1, h_celsius=6.3, CI=[ConstantCurrentInjection(amp=0.5, dur=700, delay=100, lto_hto=0)], random_seed=42, _path='/Users/vladimiromelyusik/ACT/experiments/Spiker/module_orig_module/train')), (<act.cell_model.ACTCellModel object at 0x14b46ba30>, SimulationParameters(sim_name='train', sim_idx=7, h_v_init=-50, h_tstop=1000, h_dt=0.1, h_celsius=6.3, CI=[ConstantCurrentInjection(amp=0.5, dur=700, delay=100, lto_hto=0)], random_seed=42, _path='/Users/vladimiromelyusik/ACT/experiments/Spiker/module_orig_module/train')), (<act.cell_model.ACTCellModel object at 0x14b46ba00>, SimulationParameters(sim_name='train', sim_idx=8, h_v_init=-50, h_tstop=1000, h_dt=0.1, h_celsius=6.3, CI=[ConstantCurrentInjection(amp=0.5, dur=700, delay=100, lto_hto=0)], random_seed=42, _path='/Users/vladimiromelyusik/ACT/experiments/Spiker/module_orig_module/train')), (<act.cell_model.ACTCellModel object at 0x14b469f60>, SimulationParameters(sim_name='train', sim_idx=9, h_v_init=-50, h_tstop=1000, h_dt=0.1, h_celsius=6.3, CI=[ConstantCurrentInjection(amp=0.5, dur=700, delay=100, lto_hto=0)], random_seed=42, _path='/Users/vladimiromelyusik/ACT/experiments/Spiker/module_orig_module/train')), (<act.cell_model.ACTCellModel object at 0x14b46a380>, SimulationParameters(sim_name='train', sim_idx=10, h_v_init=-50, h_tstop=1000, h_dt=0.1, h_celsius=6.3, CI=[ConstantCurrentInjection(amp=0.5, dur=700, delay=100, lto_hto=0)], random_seed=42, _path='/Users/vladimiromelyusik/ACT/experiments/Spiker/module_orig_module/train')), (<act.cell_model.ACTCellModel object at 0x14b46b8e0>, SimulationParameters(sim_name='train', sim_idx=11, h_v_init=-50, h_tstop=1000, h_dt=0.1, h_celsius=6.3, CI=[ConstantCurrentInjection(amp=0.5, dur=700, delay=100, lto_hto=0)], random_seed=42, _path='/Users/vladimiromelyusik/ACT/experiments/Spiker/module_orig_module/train')), (<act.cell_model.ACTCellModel object at 0x14b46b880>, SimulationParameters(sim_name='train', sim_idx=12, h_v_init=-50, h_tstop=1000, h_dt=0.1, h_celsius=6.3, CI=[ConstantCurrentInjection(amp=0.5, dur=700, delay=100, lto_hto=0)], random_seed=42, _path='/Users/vladimiromelyusik/ACT/experiments/Spiker/module_orig_module/train')), (<act.cell_model.ACTCellModel object at 0x14b46b820>, SimulationParameters(sim_name='train', sim_idx=13, h_v_init=-50, h_tstop=1000, h_dt=0.1, h_celsius=6.3, CI=[ConstantCurrentInjection(amp=0.5, dur=700, delay=100, lto_hto=0)], random_seed=42, _path='/Users/vladimiromelyusik/ACT/experiments/Spiker/module_orig_module/train')), (<act.cell_model.ACTCellModel object at 0x14b46b5b0>, SimulationParameters(sim_name='train', sim_idx=14, h_v_init=-50, h_tstop=1000, h_dt=0.1, h_celsius=6.3, CI=[ConstantCurrentInjection(amp=0.5, dur=700, delay=100, lto_hto=0)], random_seed=42, _path='/Users/vladimiromelyusik/ACT/experiments/Spiker/module_orig_module/train')), (<act.cell_model.ACTCellModel object at 0x14b46b520>, SimulationParameters(sim_name='train', sim_idx=15, h_v_init=-50, h_tstop=1000, h_dt=0.1, h_celsius=6.3, CI=[ConstantCurrentInjection(amp=0.5, dur=700, delay=100, lto_hto=0)], random_seed=42, _path='/Users/vladimiromelyusik/ACT/experiments/Spiker/module_orig_module/train')), (<act.cell_model.ACTCellModel object at 0x14b46b4c0>, SimulationParameters(sim_name='train', sim_idx=16, h_v_init=-50, h_tstop=1000, h_dt=0.1, h_celsius=6.3, CI=[ConstantCurrentInjection(amp=0.5, dur=700, delay=100, lto_hto=0)], random_seed=42, _path='/Users/vladimiromelyusik/ACT/experiments/Spiker/module_orig_module/train')), (<act.cell_model.ACTCellModel object at 0x14b46b460>, SimulationParameters(sim_name='train', sim_idx=17, h_v_init=-50, h_tstop=1000, h_dt=0.1, h_celsius=6.3, CI=[ConstantCurrentInjection(amp=0.5, dur=700, delay=100, lto_hto=0)], random_seed=42, _path='/Users/vladimiromelyusik/ACT/experiments/Spiker/module_orig_module/train')), (<act.cell_model.ACTCellModel object at 0x14b46b400>, SimulationParameters(sim_name='train', sim_idx=18, h_v_init=-50, h_tstop=1000, h_dt=0.1, h_celsius=6.3, CI=[ConstantCurrentInjection(amp=0.5, dur=700, delay=100, lto_hto=0)], random_seed=42, _path='/Users/vladimiromelyusik/ACT/experiments/Spiker/module_orig_module/train')), (<act.cell_model.ACTCellModel object at 0x14b46be20>, SimulationParameters(sim_name='train', sim_idx=19, h_v_init=-50, h_tstop=1000, h_dt=0.1, h_celsius=6.3, CI=[ConstantCurrentInjection(amp=0.5, dur=700, delay=100, lto_hto=0)], random_seed=42, _path='/Users/vladimiromelyusik/ACT/experiments/Spiker/module_orig_module/train')), (<act.cell_model.ACTCellModel object at 0x14b46b3d0>, SimulationParameters(sim_name='train', sim_idx=20, h_v_init=-50, h_tstop=1000, h_dt=0.1, h_celsius=6.3, CI=[ConstantCurrentInjection(amp=0.5, dur=700, delay=100, lto_hto=0)], random_seed=42, _path='/Users/vladimiromelyusik/ACT/experiments/Spiker/module_orig_module/train')), (<act.cell_model.ACTCellModel object at 0x14b46b310>, SimulationParameters(sim_name='train', sim_idx=21, h_v_init=-50, h_tstop=1000, h_dt=0.1, h_celsius=6.3, CI=[ConstantCurrentInjection(amp=0.5, dur=700, delay=100, lto_hto=0)], random_seed=42, _path='/Users/vladimiromelyusik/ACT/experiments/Spiker/module_orig_module/train')), (<act.cell_model.ACTCellModel object at 0x14b46b2b0>, SimulationParameters(sim_name='train', sim_idx=22, h_v_init=-50, h_tstop=1000, h_dt=0.1, h_celsius=6.3, CI=[ConstantCurrentInjection(amp=0.5, dur=700, delay=100, lto_hto=0)], random_seed=42, _path='/Users/vladimiromelyusik/ACT/experiments/Spiker/module_orig_module/train')), (<act.cell_model.ACTCellModel object at 0x14b46b220>, SimulationParameters(sim_name='train', sim_idx=23, h_v_init=-50, h_tstop=1000, h_dt=0.1, h_celsius=6.3, CI=[ConstantCurrentInjection(amp=0.5, dur=700, delay=100, lto_hto=0)], random_seed=42, _path='/Users/vladimiromelyusik/ACT/experiments/Spiker/module_orig_module/train')), (<act.cell_model.ACTCellModel object at 0x14b46b1c0>, SimulationParameters(sim_name='train', sim_idx=24, h_v_init=-50, h_tstop=1000, h_dt=0.1, h_celsius=6.3, CI=[ConstantCurrentInjection(amp=0.5, dur=700, delay=100, lto_hto=0)], random_seed=42, _path='/Users/vladimiromelyusik/ACT/experiments/Spiker/module_orig_module/train')), (<act.cell_model.ACTCellModel object at 0x14b46b160>, SimulationParameters(sim_name='train', sim_idx=25, h_v_init=-50, h_tstop=1000, h_dt=0.1, h_celsius=6.3, CI=[ConstantCurrentInjection(amp=0.5, dur=700, delay=100, lto_hto=0)], random_seed=42, _path='/Users/vladimiromelyusik/ACT/experiments/Spiker/module_orig_module/train')), (<act.cell_model.ACTCellModel object at 0x14b46b100>, SimulationParameters(sim_name='train', sim_idx=26, h_v_init=-50, h_tstop=1000, h_dt=0.1, h_celsius=6.3, CI=[ConstantCurrentInjection(amp=0.5, dur=700, delay=100, lto_hto=0)], random_seed=42, _path='/Users/vladimiromelyusik/ACT/experiments/Spiker/module_orig_module/train'))]\n"
     ]
    },
    {
     "ename": "ValueError",
     "evalue": "",
     "output_type": "error",
     "traceback": [
      "\u001b[0;31m---------------------------------------------------------------------------\u001b[0m",
      "\u001b[0;31mValueError\u001b[0m                                Traceback (most recent call last)",
      "Cell \u001b[0;32mIn[5], line 1\u001b[0m\n\u001b[0;32m----> 1\u001b[0m \u001b[43mm\u001b[49m\u001b[38;5;241;43m.\u001b[39;49m\u001b[43mrun\u001b[49m\u001b[43m(\u001b[49m\u001b[43m)\u001b[49m\n",
      "File \u001b[0;32m~/ACT/experiments/Spiker/../../act/module.py:54\u001b[0m, in \u001b[0;36mACTModule.run\u001b[0;34m(self)\u001b[0m\n\u001b[1;32m     51\u001b[0m \u001b[38;5;28mprint\u001b[39m(\u001b[38;5;124m\"\u001b[39m\u001b[38;5;124m----------\u001b[39m\u001b[38;5;124m\"\u001b[39m)\n\u001b[1;32m     53\u001b[0m \u001b[38;5;28mprint\u001b[39m(\u001b[38;5;124m\"\u001b[39m\u001b[38;5;124mSimulating train traces...\u001b[39m\u001b[38;5;124m\"\u001b[39m)\n\u001b[0;32m---> 54\u001b[0m \u001b[38;5;28;43mself\u001b[39;49m\u001b[38;5;241;43m.\u001b[39;49m\u001b[43msimulate_train_cells\u001b[49m\u001b[43m(\u001b[49m\u001b[38;5;28;43mself\u001b[39;49m\u001b[38;5;241;43m.\u001b[39;49m\u001b[43mcell\u001b[49m\u001b[43m)\u001b[49m\n\u001b[1;32m     55\u001b[0m \u001b[38;5;28mself\u001b[39m\u001b[38;5;241m.\u001b[39mfilter_data()\n\u001b[1;32m     57\u001b[0m \u001b[38;5;28mprint\u001b[39m(\u001b[38;5;124m\"\u001b[39m\u001b[38;5;124mPredicting and evaluating...\u001b[39m\u001b[38;5;124m\"\u001b[39m)\n",
      "File \u001b[0;32m~/ACT/experiments/Spiker/../../act/module.py:211\u001b[0m, in \u001b[0;36mACTModule.simulate_train_cells\u001b[0;34m(self, train_cell)\u001b[0m\n\u001b[1;32m    196\u001b[0m     simulator\u001b[38;5;241m.\u001b[39msubmit_job(\n\u001b[1;32m    197\u001b[0m         specific_train_cell, \n\u001b[1;32m    198\u001b[0m         SimulationParameters(\n\u001b[0;32m   (...)\u001b[0m\n\u001b[1;32m    206\u001b[0m         )\n\u001b[1;32m    207\u001b[0m     )\n\u001b[1;32m    209\u001b[0m \u001b[38;5;28mprint\u001b[39m(simulator\u001b[38;5;241m.\u001b[39mpool)\n\u001b[0;32m--> 211\u001b[0m \u001b[38;5;28;01mraise\u001b[39;00m \u001b[38;5;167;01mValueError\u001b[39;00m\n\u001b[1;32m    212\u001b[0m simulator\u001b[38;5;241m.\u001b[39mrun_jobs()\n\u001b[1;32m    213\u001b[0m combine_data(os\u001b[38;5;241m.\u001b[39mpath\u001b[38;5;241m.\u001b[39mjoin(\u001b[38;5;28mself\u001b[39m\u001b[38;5;241m.\u001b[39moutput_folder_name, \u001b[38;5;124mf\u001b[39m\u001b[38;5;124m\"\u001b[39m\u001b[38;5;124mtrain\u001b[39m\u001b[38;5;124m\"\u001b[39m))\n",
      "\u001b[0;31mValueError\u001b[0m: "
     ]
    }
   ],
   "source": [
    "m.run()"
   ]
  },
  {
   "cell_type": "code",
   "execution_count": null,
   "id": "54fa8333",
   "metadata": {},
   "outputs": [],
   "source": []
  }
 ],
 "metadata": {
  "kernelspec": {
   "display_name": "simulations",
   "language": "python",
   "name": "python3"
  },
  "language_info": {
   "codemirror_mode": {
    "name": "ipython",
    "version": 3
   },
   "file_extension": ".py",
   "mimetype": "text/x-python",
   "name": "python",
   "nbconvert_exporter": "python",
   "pygments_lexer": "ipython3",
   "version": "3.10.13"
  }
 },
 "nbformat": 4,
 "nbformat_minor": 5
}
