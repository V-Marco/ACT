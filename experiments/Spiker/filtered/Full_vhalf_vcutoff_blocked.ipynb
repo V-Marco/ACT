{
 "cells": [
  {
   "cell_type": "markdown",
   "metadata": {},
   "source": [
    "# Spiker Cell - Fully Separated - V1/2"
   ]
  },
  {
   "cell_type": "code",
   "execution_count": 1,
   "metadata": {},
   "outputs": [
    {
     "name": "stderr",
     "output_type": "stream",
     "text": [
      "/home/mwsrgf/act-venv/lib64/python3.9/site-packages/torch/__init__.py:955: UserWarning: torch.set_default_tensor_type() is deprecated as of PyTorch 2.1, please use torch.set_default_dtype() and torch.set_default_device() as alternatives. (Triggered internally at ../torch/csrc/tensor/python_tensor.cpp:432.)\n",
      "  _C._set_default_tensor_type(t)\n",
      "Warning: no DISPLAY environment variable.\n",
      "--No graphics will be displayed.\n"
     ]
    }
   ],
   "source": [
    "from act.SyntheticGenerator import SyntheticGenerator\n",
    "from act.act_types import SimParams, OptimizationParameters\n",
    "from act.cell_model import TargetCell, ModuleParameters\n",
    "\n",
    "random_seed = 42\n",
    "num_slices_new = 10\n",
    "num_slices_old = 5\n",
    "experiment_folder = f\"output/Spiker_Full_vhalf_vcutoff_blocked_fsl-{num_slices_new}_{num_slices_old}/{random_seed}\"\n",
    "target_folder = experiment_folder + \"/target\"\n",
    "\n",
    "# module 1 is for spiking, final is a refinement of all previous modules (except passive props)\n",
    "module_1_folder = experiment_folder + \"/module_1\"\n",
    "module_2_folder = experiment_folder + \"/module_2\"\n",
    "module_final_folder = experiment_folder + \"/module_final\"\n",
    "\n",
    "target_cell = TargetCell(\n",
    "    hoc_file=\"/home/mwsrgf/proj/ACT/data/Spiker_Izhikevich/seg/template.hoc\",\n",
    "    mod_folder=\"/home/mwsrgf/proj/ACT/data/Spiker_Izhikevich/seg\",\n",
    "    cell_name=\"Spiker_Izhikevich_seg\",\n",
    "    g_names = [\"gnabar_hh_seg\", \"gkbar_hh_seg\", \"gl_hh_seg\"]\n",
    ")\n",
    "\n",
    "sim_par= SimParams(\n",
    "            h_v_init=-65.0,  # Consistent with nrngui settings\n",
    "            h_tstop=500,     # Simulation time in ms\n",
    "            h_dt=0.1,      # Time step in ms\n",
    "            h_celsius=6.3,   # Temperature in degrees Celsius\n",
    "            CI_type=\"constant\",\n",
    "            CI_amps=[0.1,0.2,0.3],   # Current injection amplitude\n",
    "            CI_dur=300,      # Duration of current injection\n",
    "            CI_delay=100,     # Delay before current injection\n",
    "            set_g_to=[]\n",
    "        )"
   ]
  },
  {
   "cell_type": "markdown",
   "metadata": {},
   "source": [
    "# Generate Synthetic Data"
   ]
  },
  {
   "cell_type": "code",
   "execution_count": 2,
   "metadata": {},
   "outputs": [
    {
     "name": "stdout",
     "output_type": "stream",
     "text": [
      "Blocking: []\n",
      "Total number of jobs: 3\n",
      "Total number of proccessors: 192\n",
      "/home/mwsrgf/proj/ACT/experiments/Spiker/filtered/output/Spiker_Full_vhalf_vcutoff_blocked_fsl-10_5/42/target/synthetic_0.1_0.2_0.3_\n"
     ]
    }
   ],
   "source": [
    "sg = SyntheticGenerator(\n",
    "    ModuleParameters(\n",
    "        module_folder_name=target_folder,\n",
    "        cell= target_cell,\n",
    "        sim_params= sim_par,\n",
    "        optim_params = OptimizationParameters(\n",
    "            blocked_channels= []\n",
    "        )\n",
    "    )\n",
    ")\n",
    "\n",
    "sg.generate_synthetic_target_data(\"target_data.csv\")"
   ]
  },
  {
   "cell_type": "code",
   "execution_count": 3,
   "metadata": {},
   "outputs": [
    {
     "name": "stdout",
     "output_type": "stream",
     "text": [
      "Blocking: []\n",
      "Total number of jobs: 1\n",
      "Total number of proccessors: 192\n",
      "MECHANISMS already loaded.\n",
      "/home/mwsrgf/proj/ACT/experiments/Spiker/filtered/output/Spiker_Full_vhalf_vcutoff_blocked_fsl-10_5/42/target/synthetic_-0.1_\n"
     ]
    }
   ],
   "source": [
    "passive_sim_par = SimParams(\n",
    "            h_v_init = -65,\n",
    "            h_tstop = 1500,\n",
    "            h_dt = 0.001,\n",
    "            h_celsius = 6.3,\n",
    "            CI_type = \"constant\",\n",
    "            CI_amps = [-0.1],    ##################### NEGATIVE CURRENT INJECTION ###################\n",
    "            CI_dur = 1000,\n",
    "            CI_delay = 500,\n",
    "            set_g_to=[]\n",
    "        )\n",
    "\n",
    "sg_passive = SyntheticGenerator(\n",
    "    ModuleParameters(\n",
    "        module_folder_name=target_folder,\n",
    "        cell= target_cell,\n",
    "        sim_params= passive_sim_par,\n",
    "        optim_params = OptimizationParameters(\n",
    "            blocked_channels= []\n",
    "        )\n",
    "    )\n",
    ")\n",
    "\n",
    "sg_passive.generate_synthetic_target_data(\"passive_data.csv\")"
   ]
  },
  {
   "cell_type": "markdown",
   "metadata": {},
   "source": [
    "# Get Passive Properties"
   ]
  },
  {
   "cell_type": "code",
   "execution_count": 4,
   "metadata": {},
   "outputs": [],
   "source": [
    "from act.PassivePropertiesModule import PassivePropertiesModule\n",
    "from act.act_types import SimParams\n",
    "from act.cell_model import TrainCell\n",
    "\n",
    "train_cell = TrainCell(\n",
    "    hoc_file=\"/home/mwsrgf/proj/ACT/data/Spiker_Izhikevich/seg/template.hoc\",\n",
    "    mod_folder=\"/home/mwsrgf/proj/ACT/data/Spiker_Izhikevich/seg\",\n",
    "    cell_name=\"Spiker_Izhikevich_seg\",\n",
    "    g_names = [\"gnabar_hh_seg\", \"gkbar_hh_seg\", \"gl_hh_seg\"]\n",
    ")\n",
    "\n",
    "passive_mod = PassivePropertiesModule(\n",
    "    train_cell=train_cell,\n",
    "    sim_params=passive_sim_par,\n",
    "    trace_filepath=f\"{target_folder}/passive_data.csv\",\n",
    "    leak_conductance_variable=\"gl_hh_seg\",\n",
    "    leak_reversal_variable=\"el_hh_seg\"\n",
    ")"
   ]
  },
  {
   "cell_type": "code",
   "execution_count": 5,
   "metadata": {},
   "outputs": [
    {
     "name": "stdout",
     "output_type": "stream",
     "text": [
      "MECHANISMS already loaded.\n",
      "Found 1 section(s) in this cell. Calculating the total surface area of the cell.\n",
      "PassiveProperties(V_rest=-65.0, R_in=191.9980291996248, tau=2.575, Cm=1.2078552500011506, g_bar_leak=0.00046907000000044683, cell_area=1.1103645074847766e-05, leak_conductance_variable='gl_hh_seg', leak_reversal_variable='el_hh_seg')\n"
     ]
    }
   ],
   "source": [
    "passive_mod.set_passive_properties()\n",
    "print(train_cell.passive_properties)"
   ]
  },
  {
   "cell_type": "markdown",
   "metadata": {},
   "source": [
    "## Run Module 1 kdr"
   ]
  },
  {
   "cell_type": "code",
   "execution_count": 6,
   "metadata": {},
   "outputs": [],
   "source": [
    "from act.ACTModule import ACTModule\n",
    "from act.act_types import OptimizationParameters, OptimizationParam\n",
    "from act.cell_model import ModuleParameters\n",
    "\n",
    "mod1 = ACTModule(\n",
    "    ModuleParameters(\n",
    "        module_folder_name=module_1_folder,\n",
    "        cell= train_cell,\n",
    "        target_traces_file = f\"{target_folder}/target_data.csv\",\n",
    "        sim_params= sim_par,\n",
    "        optim_params= OptimizationParameters(\n",
    "            g_ranges_slices= [\n",
    "                OptimizationParam(param=\"gnabar_hh_seg\", low=0.06, high=0.18, blocked=True, n_slices=1),\n",
    "                OptimizationParam(param=\"gkbar_hh_seg\", low=0.018, high=0.054, n_slices=num_slices_new),\n",
    "                OptimizationParam(param=\"gl_hh_seg\", prediction=train_cell.passive_properties.g_bar_leak, bounds_variation=0.0, n_slices=1)\n",
    "            ],\n",
    "            filtered_out_features = [\"no_spikes\", \"saturated\"],\n",
    "            train_features=[\"i_trace_stats\", \"number_of_spikes\", \"spike_times\", \"spike_height_stats\", \"number_of_troughs\", \"trough_times\", \"trough_height_stats\"],\n",
    "            prediction_eval_method='fi_curve',\n",
    "            spike_threshold=0,\n",
    "            saturation_threshold=-65,\n",
    "            first_n_spikes=20,\n",
    "            random_state=random_seed,\n",
    "            save_file=f\"{module_1_folder}/results/saved_metrics.json\"\n",
    "        )\n",
    "    )\n",
    ")"
   ]
  },
  {
   "cell_type": "code",
   "execution_count": 7,
   "metadata": {},
   "outputs": [
    {
     "name": "stdout",
     "output_type": "stream",
     "text": [
      "RUNNING THE MODULE\n",
      "LOADING TARGET TRACES\n",
      "SIMULATING TRAINING DATA\n",
      "Total number of jobs: 30\n",
      "Total number of proccessors: 192\n",
      "MECHANISMS already loaded.\n",
      "/home/mwsrgf/proj/ACT/experiments/Spiker/filtered/output/Spiker_Full_vhalf_vcutoff_blocked_fsl-10_5/42/module_1/train\n",
      "FILTERING DATA\n",
      "Dropping 30 traces where: All values in the window (3100:4000) are saturated (above -65 mV).\n",
      "Dropping 0 traces where: No spikes are in the voltage trace.\n",
      "Dataset size after filtering: 0. Saving to /home/mwsrgf/proj/ACT/experiments/Spiker/filtered/output/Spiker_Full_vhalf_vcutoff_blocked_fsl-10_5/42/module_1/train/filtered_out.npy\n",
      "TRAINING RANDOM FOREST REGRESSOR\n",
      "Training Random Forest on Filtered Data\n"
     ]
    },
    {
     "ename": "ValueError",
     "evalue": "need at least one array to stack",
     "output_type": "error",
     "traceback": [
      "\u001b[0;31m---------------------------------------------------------------------------\u001b[0m",
      "\u001b[0;31mValueError\u001b[0m                                Traceback (most recent call last)",
      "Cell \u001b[0;32mIn[7], line 1\u001b[0m\n\u001b[0;32m----> 1\u001b[0m predicted_g_data_file \u001b[38;5;241m=\u001b[39m \u001b[43mmod1\u001b[49m\u001b[38;5;241;43m.\u001b[39;49m\u001b[43mrun\u001b[49m\u001b[43m(\u001b[49m\u001b[43m)\u001b[49m\n",
      "File \u001b[0;32m~/proj/ACT/act/ACTModule.py:44\u001b[0m, in \u001b[0;36mACTModule.run\u001b[0;34m(self)\u001b[0m\n\u001b[1;32m     40\u001b[0m     \u001b[38;5;28mself\u001b[39m\u001b[38;5;241m.\u001b[39msimulate_train_cells(\u001b[38;5;28mself\u001b[39m\u001b[38;5;241m.\u001b[39mtrain_cell)\n\u001b[1;32m     41\u001b[0m     \u001b[38;5;28mself\u001b[39m\u001b[38;5;241m.\u001b[39mfilter_data()\n\u001b[0;32m---> 44\u001b[0m prediction \u001b[38;5;241m=\u001b[39m \u001b[38;5;28;43mself\u001b[39;49m\u001b[38;5;241;43m.\u001b[39;49m\u001b[43mget_rf_prediction\u001b[49m\u001b[43m(\u001b[49m\u001b[43m)\u001b[49m\n\u001b[1;32m     46\u001b[0m \u001b[38;5;28mprint\u001b[39m(\u001b[38;5;124m\"\u001b[39m\u001b[38;5;124mSIMULATING PREDICTIONS\u001b[39m\u001b[38;5;124m\"\u001b[39m)\n\u001b[1;32m     47\u001b[0m \u001b[38;5;28mself\u001b[39m\u001b[38;5;241m.\u001b[39msimulate_eval_cells(\u001b[38;5;28mself\u001b[39m\u001b[38;5;241m.\u001b[39mtrain_cell, prediction)\n",
      "File \u001b[0;32m~/proj/ACT/act/ACTModule.py:273\u001b[0m, in \u001b[0;36mACTModule.get_rf_prediction\u001b[0;34m(self)\u001b[0m\n\u001b[1;32m    270\u001b[0m I_train \u001b[38;5;241m=\u001b[39m dataset_train[:,:,\u001b[38;5;241m1\u001b[39m]\n\u001b[1;32m    272\u001b[0m \u001b[38;5;66;03m# TODO: [\"i_mean_stdev\", \"v_spike_stats\", \"v_mean_potential\", \"v_amplitude_frequency\", \"v_arima_coefs\"]\u001b[39;00m\n\u001b[0;32m--> 273\u001b[0m features_train, columns_train \u001b[38;5;241m=\u001b[39m \u001b[43mdp\u001b[49m\u001b[38;5;241;43m.\u001b[39;49m\u001b[43mextract_features\u001b[49m\u001b[43m(\u001b[49m\u001b[43mtrain_features\u001b[49m\u001b[38;5;241;43m=\u001b[39;49m\u001b[38;5;28;43mself\u001b[39;49m\u001b[38;5;241;43m.\u001b[39;49m\u001b[43moptim_params\u001b[49m\u001b[38;5;241;43m.\u001b[39;49m\u001b[43mget\u001b[49m\u001b[43m(\u001b[49m\u001b[38;5;124;43m'\u001b[39;49m\u001b[38;5;124;43mtrain_features\u001b[39;49m\u001b[38;5;124;43m'\u001b[39;49m\u001b[43m,\u001b[49m\u001b[38;5;28;43;01mNone\u001b[39;49;00m\u001b[43m)\u001b[49m\u001b[43m,\u001b[49m\u001b[43mV\u001b[49m\u001b[38;5;241;43m=\u001b[39;49m\u001b[43mV_train\u001b[49m\u001b[43m,\u001b[49m\u001b[43mI\u001b[49m\u001b[38;5;241;43m=\u001b[39;49m\u001b[43mI_train\u001b[49m\u001b[43m,\u001b[49m\u001b[43mthreshold\u001b[49m\u001b[38;5;241;43m=\u001b[39;49m\u001b[43mthreshold\u001b[49m\u001b[43m,\u001b[49m\u001b[43mnum_spikes\u001b[49m\u001b[38;5;241;43m=\u001b[39;49m\u001b[43mfirst_n_spikes\u001b[49m\u001b[43m,\u001b[49m\u001b[43mdt\u001b[49m\u001b[38;5;241;43m=\u001b[39;49m\u001b[43mdt\u001b[49m\u001b[43m)\u001b[49m\n\u001b[1;32m    274\u001b[0m \u001b[38;5;28mprint\u001b[39m(\u001b[38;5;124mf\u001b[39m\u001b[38;5;124m\"\u001b[39m\u001b[38;5;124mExtracting features: \u001b[39m\u001b[38;5;132;01m{\u001b[39;00mcolumns_train\u001b[38;5;132;01m}\u001b[39;00m\u001b[38;5;124m\"\u001b[39m)\n\u001b[1;32m    276\u001b[0m \u001b[38;5;66;03m# Train Model on data\u001b[39;00m\n",
      "File \u001b[0;32m~/proj/ACT/act/DataProcessor.py:64\u001b[0m, in \u001b[0;36mDataProcessor.extract_features\u001b[0;34m(self, train_features, V, I, arima_file, threshold, num_spikes, dt, n_steps, step_time, dur, delay)\u001b[0m\n\u001b[1;32m     62\u001b[0m \u001b[38;5;66;03m# Mean and StdDev of the current input trace as features\u001b[39;00m\n\u001b[1;32m     63\u001b[0m \u001b[38;5;28;01mif\u001b[39;00m \u001b[38;5;124m\"\u001b[39m\u001b[38;5;124mi_trace_stats\u001b[39m\u001b[38;5;124m\"\u001b[39m \u001b[38;5;129;01min\u001b[39;00m train_features \u001b[38;5;129;01mand\u001b[39;00m I \u001b[38;5;129;01mis\u001b[39;00m \u001b[38;5;129;01mnot\u001b[39;00m \u001b[38;5;28;01mNone\u001b[39;00m:\n\u001b[0;32m---> 64\u001b[0m     features, column_names \u001b[38;5;241m=\u001b[39m \u001b[38;5;28;43mself\u001b[39;49m\u001b[38;5;241;43m.\u001b[39;49m\u001b[43mget_current_stats\u001b[49m\u001b[43m(\u001b[49m\u001b[43mI\u001b[49m\u001b[43m)\u001b[49m\n\u001b[1;32m     65\u001b[0m     columns \u001b[38;5;241m+\u001b[39m\u001b[38;5;241m=\u001b[39m column_names\n\u001b[1;32m     66\u001b[0m     summary_features \u001b[38;5;241m=\u001b[39m concatenate_features(summary_features, features)\n",
      "File \u001b[0;32m~/proj/ACT/act/DataProcessor.py:270\u001b[0m, in \u001b[0;36mDataProcessor.get_current_stats\u001b[0;34m(self, I, decimate_factor)\u001b[0m\n\u001b[1;32m    267\u001b[0m \u001b[38;5;28;01mdef\u001b[39;00m \u001b[38;5;21mget_current_stats\u001b[39m(\u001b[38;5;28mself\u001b[39m, I, decimate_factor\u001b[38;5;241m=\u001b[39m\u001b[38;5;28;01mNone\u001b[39;00m):\n\u001b[1;32m    268\u001b[0m     I \u001b[38;5;241m=\u001b[39m \u001b[38;5;28mself\u001b[39m\u001b[38;5;241m.\u001b[39mapply_decimate_factor(I, decimate_factor)\n\u001b[0;32m--> 270\u001b[0m     features \u001b[38;5;241m=\u001b[39m \u001b[38;5;28;43mself\u001b[39;49m\u001b[38;5;241;43m.\u001b[39;49m\u001b[43mextract_i_traces_stats\u001b[49m\u001b[43m(\u001b[49m\u001b[43mI\u001b[49m\u001b[43m)\u001b[49m\n\u001b[1;32m    271\u001b[0m     column_names \u001b[38;5;241m=\u001b[39m [\u001b[38;5;124m\"\u001b[39m\u001b[38;5;124mI_mean\u001b[39m\u001b[38;5;124m\"\u001b[39m, \u001b[38;5;124m\"\u001b[39m\u001b[38;5;124mI_stdev\u001b[39m\u001b[38;5;124m\"\u001b[39m]\n\u001b[1;32m    273\u001b[0m     \u001b[38;5;28;01mreturn\u001b[39;00m features, column_names\n",
      "File \u001b[0;32m~/proj/ACT/act/DataProcessor.py:280\u001b[0m, in \u001b[0;36mDataProcessor.extract_i_traces_stats\u001b[0;34m(self, I)\u001b[0m\n\u001b[1;32m    278\u001b[0m     sample_features \u001b[38;5;241m=\u001b[39m np\u001b[38;5;241m.\u001b[39marray([np\u001b[38;5;241m.\u001b[39mmean(i_trace), np\u001b[38;5;241m.\u001b[39mstd(i_trace)])\n\u001b[1;32m    279\u001b[0m     I_features\u001b[38;5;241m.\u001b[39mappend(sample_features)\n\u001b[0;32m--> 280\u001b[0m \u001b[38;5;28;01mreturn\u001b[39;00m \u001b[43mnp\u001b[49m\u001b[38;5;241;43m.\u001b[39;49m\u001b[43mstack\u001b[49m\u001b[43m(\u001b[49m\u001b[43mI_features\u001b[49m\u001b[43m)\u001b[49m\n",
      "File \u001b[0;32m<__array_function__ internals>:180\u001b[0m, in \u001b[0;36mstack\u001b[0;34m(*args, **kwargs)\u001b[0m\n",
      "File \u001b[0;32m~/act-venv/lib64/python3.9/site-packages/numpy/core/shape_base.py:422\u001b[0m, in \u001b[0;36mstack\u001b[0;34m(arrays, axis, out)\u001b[0m\n\u001b[1;32m    420\u001b[0m arrays \u001b[38;5;241m=\u001b[39m [asanyarray(arr) \u001b[38;5;28;01mfor\u001b[39;00m arr \u001b[38;5;129;01min\u001b[39;00m arrays]\n\u001b[1;32m    421\u001b[0m \u001b[38;5;28;01mif\u001b[39;00m \u001b[38;5;129;01mnot\u001b[39;00m arrays:\n\u001b[0;32m--> 422\u001b[0m     \u001b[38;5;28;01mraise\u001b[39;00m \u001b[38;5;167;01mValueError\u001b[39;00m(\u001b[38;5;124m'\u001b[39m\u001b[38;5;124mneed at least one array to stack\u001b[39m\u001b[38;5;124m'\u001b[39m)\n\u001b[1;32m    424\u001b[0m shapes \u001b[38;5;241m=\u001b[39m {arr\u001b[38;5;241m.\u001b[39mshape \u001b[38;5;28;01mfor\u001b[39;00m arr \u001b[38;5;129;01min\u001b[39;00m arrays}\n\u001b[1;32m    425\u001b[0m \u001b[38;5;28;01mif\u001b[39;00m \u001b[38;5;28mlen\u001b[39m(shapes) \u001b[38;5;241m!=\u001b[39m \u001b[38;5;241m1\u001b[39m:\n",
      "\u001b[0;31mValueError\u001b[0m: need at least one array to stack"
     ]
    }
   ],
   "source": [
    "predicted_g_data_file = mod1.run()"
   ]
  },
  {
   "cell_type": "code",
   "execution_count": 8,
   "metadata": {},
   "outputs": [],
   "source": [
    "mod1.pickle_rf(mod1.rf_model,f\"{module_1_folder}/trained_rf.pkl\")"
   ]
  },
  {
   "cell_type": "markdown",
   "metadata": {},
   "source": [
    "# Module 2 na"
   ]
  },
  {
   "cell_type": "code",
   "execution_count": 9,
   "metadata": {},
   "outputs": [],
   "source": [
    "from act.ACTModule import ACTModule\n",
    "from act.act_types import OptimizationParameters, OptimizationParam\n",
    "from act.cell_model import ModuleParameters\n",
    "\n",
    "bounds_variation = 0.15\n",
    "\n",
    "mod2 = ACTModule(\n",
    "    ModuleParameters(\n",
    "        module_folder_name=module_2_folder,\n",
    "        cell= train_cell,\n",
    "        target_traces_file = f\"{target_folder}/target_data.csv\",\n",
    "        sim_params= sim_par,\n",
    "        optim_params= OptimizationParameters(\n",
    "            g_ranges_slices= [\n",
    "                OptimizationParam(param=\"gnabar_hh_seg\",  low=0.06, high=0.18, n_slices=num_slices_new),\n",
    "                OptimizationParam(param=\"gkbar_hh_seg\", prediction=train_cell.predicted_g[\"gkbar_hh_seg\"], bounds_variation=train_cell.predicted_g[\"gkbar_hh_seg\"] * bounds_variation, n_slices=num_slices_old),\n",
    "                OptimizationParam(param=\"gl_hh_seg\", prediction=train_cell.passive_properties.g_bar_leak, bounds_variation=0.0, n_slices=1)\n",
    "            ],\n",
    "            filtered_out_features = [\"no_spikes\", \"saturated\"],\n",
    "            train_features=[\"i_trace_stats\", \"number_of_spikes\", \"spike_times\", \"spike_height_stats\", \"number_of_troughs\", \"trough_times\", \"trough_height_stats\"],\n",
    "            prediction_eval_method='fi_curve',\n",
    "            spike_threshold=0,\n",
    "            saturation_threshold=-65,\n",
    "            first_n_spikes=20,\n",
    "            random_state=random_seed,\n",
    "            save_file=f\"{module_2_folder}/results/saved_metrics.json\"\n",
    "        )\n",
    "    )\n",
    ")"
   ]
  },
  {
   "cell_type": "code",
   "execution_count": null,
   "metadata": {},
   "outputs": [],
   "source": [
    "predicted_g_data_file = mod2.run()"
   ]
  },
  {
   "cell_type": "code",
   "execution_count": 11,
   "metadata": {},
   "outputs": [],
   "source": [
    "mod2.pickle_rf(mod2.rf_model,f\"{module_2_folder}/trained_rf.pkl\")"
   ]
  },
  {
   "cell_type": "markdown",
   "metadata": {},
   "source": [
    "## Run Fine Tuning Module"
   ]
  },
  {
   "cell_type": "code",
   "execution_count": 12,
   "metadata": {},
   "outputs": [],
   "source": [
    "from act.ACTModule import ACTModule\n",
    "from act.act_types import OptimizationParameters, OptimizationParam\n",
    "from act.cell_model import ModuleParameters\n",
    "\n",
    "bounds_variation = 0.15\n",
    "\n",
    "\n",
    "final_mod = ACTModule(\n",
    "    ModuleParameters(\n",
    "        module_folder_name=module_final_folder,\n",
    "        cell= train_cell,\n",
    "        target_traces_file = f\"{target_folder}/target_data.csv\",\n",
    "        sim_params= sim_par,\n",
    "        optim_params= OptimizationParameters(\n",
    "            g_ranges_slices= [\n",
    "                OptimizationParam(param=\"gnabar_hh_seg\", prediction=train_cell.predicted_g[\"gnabar_hh_seg\"],bounds_variation=train_cell.predicted_g[\"gnabar_hh_seg\"] * bounds_variation, n_slices=num_slices_old),\n",
    "                OptimizationParam(param=\"gkbar_hh_seg\", prediction=train_cell.predicted_g[\"gkbar_hh_seg\"], bounds_variation=train_cell.predicted_g[\"gkbar_hh_seg\"] * bounds_variation, n_slices=num_slices_old),\n",
    "                OptimizationParam(param=\"gl_hh_seg\", prediction=train_cell.passive_properties.g_bar_leak, bounds_variation=0.0, n_slices=1)\n",
    "            ],\n",
    "            filtered_out_features = [\"no_spikes\", \"saturated\"],\n",
    "            train_features=[\"i_trace_stats\", \"number_of_spikes\", \"spike_times\", \"spike_height_stats\", \"number_of_troughs\", \"trough_times\", \"trough_height_stats\"],\n",
    "            spike_threshold=0,\n",
    "            saturation_threshold=-65,\n",
    "            first_n_spikes=20,\n",
    "            prediction_eval_method='fi_curve',\n",
    "            random_state=random_seed,\n",
    "            previous_modules=[\"module_1\",\"module_2\"],\n",
    "            save_file=f\"{module_final_folder}/results/saved_metrics.json\"\n",
    "        )\n",
    "    )\n",
    ")"
   ]
  },
  {
   "cell_type": "code",
   "execution_count": null,
   "metadata": {},
   "outputs": [],
   "source": [
    "final_predicted_g_data_file = final_mod.run()"
   ]
  },
  {
   "cell_type": "code",
   "execution_count": 14,
   "metadata": {},
   "outputs": [],
   "source": [
    "final_mod.pickle_rf(final_mod.rf_model,f\"{module_final_folder}/trained_rf.pkl\")"
   ]
  },
  {
   "cell_type": "markdown",
   "metadata": {},
   "source": [
    "# Results & Metrics"
   ]
  },
  {
   "cell_type": "code",
   "execution_count": 15,
   "metadata": {},
   "outputs": [],
   "source": [
    "from act import ACTPlot\n",
    "ACTPlot.plot_v_comparison(\n",
    "    final_predicted_g_data_file, \n",
    "    module_final_folder, \n",
    "    sim_par[\"CI_amps\"],\n",
    "    sim_par[\"h_dt\"]\n",
    "    )\n",
    "\n",
    "ACTPlot.plot_fi_comparison(\n",
    "    module_final_folder, \n",
    "    sim_par[\"CI_amps\"]\n",
    "    )"
   ]
  },
  {
   "cell_type": "code",
   "execution_count": null,
   "metadata": {},
   "outputs": [],
   "source": [
    "from act.Metrics import Metrics\n",
    "\n",
    "metrics = Metrics()\n",
    "\n",
    "mean, stdev = metrics.save_interspike_interval_comparison(\n",
    "    module_final_folder,\n",
    "    final_predicted_g_data_file,\n",
    "    sim_par[\"CI_amps\"], \n",
    "    sim_par[\"h_dt\"],\n",
    "    first_n_spikes=5,\n",
    "    save_file=f\"{module_final_folder}/results/saved_metrics.json\"\n",
    ")\n",
    "\n",
    "\n",
    "metrics.save_prediction_g_mae(\n",
    "    actual_g={'gnabar_hh_seg': 0.12, 'gkbar_hh_seg': 0.036, 'gl_hh_seg': 0.00046907},\n",
    "    save_file=f\"{module_final_folder}/results/saved_metrics.json\"\n",
    ")\n",
    "\n",
    "metrics.save_feature_mae(\n",
    "    module_final_folder,\n",
    "    final_predicted_g_data_file,\n",
    "    [\"i_trace_stats\", \"number_of_spikes\", \"spike_times\", \"spike_height_stats\", \"number_of_troughs\", \"trough_times\", \"trough_height_stats\"],\n",
    "    sim_par[\"h_dt\"],\n",
    "    first_n_spikes=5,\n",
    "    save_file=f\"{module_final_folder}/results/saved_metrics.json\"\n",
    ")\n"
   ]
  },
  {
   "cell_type": "code",
   "execution_count": null,
   "metadata": {},
   "outputs": [],
   "source": [
    "from act import ACTPlot as actplt\n",
    "\n",
    "g_names = [\"gkbar_hh_seg\", \"gl_hh_seg\"]\n",
    "\n",
    "actplt.plot_training_fi_mae_contour_plot(\n",
    "module_final_folder,\n",
    "sim_par[\"CI_amps\"],\n",
    "sim_par[\"CI_dur\"],\n",
    "sim_par[\"CI_delay\"],\n",
    "sim_par[\"h_dt\"],\n",
    "index1=0,\n",
    "index2=1,\n",
    "g_names=g_names,\n",
    "num_levels=100,\n",
    "results_filename=f\"{module_final_folder}/results/Fi_MAE_Contour_Plot.png\"\n",
    ")"
   ]
  },
  {
   "cell_type": "code",
   "execution_count": null,
   "metadata": {},
   "outputs": [],
   "source": [
    "from act import ACTPlot as actplt\n",
    "\n",
    "g_names = [\"gkbar_hh_seg\", \"gl_hh_seg\"]\n",
    "\n",
    "actplt.plot_training_v_mae_contour_plot(\n",
    "module_final_folder,\n",
    "sim_par[\"CI_amps\"],\n",
    "sim_par[\"CI_delay\"],\n",
    "sim_par[\"h_dt\"],\n",
    "index1=0,\n",
    "index2=1,\n",
    "g_names=g_names,\n",
    "num_levels=100,\n",
    "results_filename=f\"{module_final_folder}/results/V_Trace_Contour_Plot.png\"\n",
    ")"
   ]
  },
  {
   "cell_type": "code",
   "execution_count": null,
   "metadata": {},
   "outputs": [],
   "source": [
    "from act import ACTPlot as actplt\n",
    "\n",
    "g_names = [\"gkbar_hh_seg\", \"gl_hh_seg\"]\n",
    "\n",
    "\n",
    "actplt.plot_training_feature_mae_contour_plot(\n",
    "    module_final_folder,\n",
    "    sim_par[\"CI_amps\"],\n",
    "    sim_par[\"CI_delay\"],\n",
    "    sim_par[\"h_dt\"],\n",
    "    index1=0,\n",
    "    index2=1,\n",
    "    g_names=g_names,\n",
    "    train_features=[\"i_trace_stats\", \"number_of_spikes\", \"spike_times\", \"spike_height_stats\", \"number_of_troughs\", \"trough_times\", \"trough_height_stats\"],\n",
    "    threshold=0,\n",
    "    first_n_spikes=20,\n",
    "    num_levels=100,\n",
    "    results_filename=f\"{module_final_folder}/results/Feature_MAE_Contour_Plot_{g_names[0]}_{g_names[1]}.png\"\n",
    ")"
   ]
  }
 ],
 "metadata": {
  "kernelspec": {
   "display_name": "act-venv",
   "language": "python",
   "name": "python3"
  },
  "language_info": {
   "codemirror_mode": {
    "name": "ipython",
    "version": 3
   },
   "file_extension": ".py",
   "mimetype": "text/x-python",
   "name": "python",
   "nbconvert_exporter": "python",
   "pygments_lexer": "ipython3",
   "version": "3.9.19"
  }
 },
 "nbformat": 4,
 "nbformat_minor": 2
}
