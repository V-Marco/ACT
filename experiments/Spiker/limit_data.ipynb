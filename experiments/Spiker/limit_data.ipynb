{
 "cells": [
  {
   "cell_type": "markdown",
   "metadata": {},
   "source": [
    "# Spiker \n",
    "\n",
    "Classic Hodgkin-Huxely-based Spiker model."
   ]
  },
  {
   "cell_type": "code",
   "execution_count": 1,
   "metadata": {},
   "outputs": [
    {
     "name": "stderr",
     "output_type": "stream",
     "text": [
      "Warning: no DISPLAY environment variable.\n",
      "--No graphics will be displayed.\n"
     ]
    }
   ],
   "source": [
    "# Set the path\n",
    "import sys\n",
    "sys.path.append(\"../../\")\n",
    "\n",
    "from act.cell_model import ACTCellModel\n",
    "from act.simulator import ACTSimulator\n",
    "from act.types import SimulationParameters, ConstantCurrentInjection, FilterParameters, ConductanceOptions, OptimizationParameters\n",
    "import act.data_processing as dp\n",
    "from act.module import ACTModule\n",
    "\n",
    "import numpy as np\n",
    "import matplotlib.pyplot as plt\n",
    "\n",
    "from act.passive import ACTPassiveModule\n",
    "from act.segregation import ACTSegregator\n",
    "\n",
    "from sklearn.metrics import mean_absolute_error\n",
    "from act.metrics import pp_error"
   ]
  },
  {
   "cell_type": "markdown",
   "metadata": {},
   "source": [
    "## 1. Set the \"target\" model and simulate from it\n",
    "\n",
    "The \"target\" model's output represents the target bio data provided by the user to tune for.\n",
    "\n",
    "Parameters:\n",
    "- Cm = 1\n",
    "- gnabar = .12 (S/cm2)\n",
    "- gkbar = .036 (S/cm2)\n",
    "- gl = .0003 (S/cm2)\n",
    "- el = -54.3 (mV)"
   ]
  },
  {
   "cell_type": "code",
   "execution_count": 2,
   "metadata": {},
   "outputs": [],
   "source": [
    "# Define the \"target\" cell\n",
    "target_cell = ACTCellModel(\n",
    "    cell_name = \"Spiker\",\n",
    "    path_to_hoc_file = \"../../data/Spiker/orig/target_template.hoc\",\n",
    "    path_to_mod_files = \"../../data/Spiker/orig/modfiles/\",\n",
    "    passive = [\"gl\", \"el\", None],\n",
    "    active_channels = [\"hh_spiker.gnabar\", \"hh_spiker.gkbar\"],\n",
    ")"
   ]
  },
  {
   "cell_type": "code",
   "execution_count": 3,
   "metadata": {},
   "outputs": [],
   "source": [
    "target_g = np.array([0.0003, 0.12, 0.036])"
   ]
  },
  {
   "cell_type": "markdown",
   "metadata": {},
   "source": [
    "### 1.1. Target passive properties"
   ]
  },
  {
   "cell_type": "code",
   "execution_count": 4,
   "metadata": {},
   "outputs": [
    {
     "name": "stdout",
     "output_type": "stream",
     "text": [
      "\n",
      "        ACTSimulator (2025)\n",
      "        ----------\n",
      "        When submitting multiple jobs, note that the cells must share modfiles.\n",
      "        \n"
     ]
    }
   ],
   "source": [
    "# Set simulations\n",
    "simulator = ACTSimulator(output_folder_name = \"output\")\n",
    "\n",
    "sim_params = SimulationParameters(\n",
    "    sim_name = \"target\",\n",
    "    sim_idx = 0,\n",
    "    h_celsius = 6.3,\n",
    "    h_dt = 0.1,\n",
    "    h_tstop = 1000,\n",
    "    CI = [ConstantCurrentInjection(amp = -0.2, dur = 700, delay = 100)])\n",
    "\n",
    "simulator.submit_job(target_cell, sim_params)\n",
    "simulator.run_jobs(1)"
   ]
  },
  {
   "cell_type": "code",
   "execution_count": 5,
   "metadata": {},
   "outputs": [
    {
     "data": {
      "text/plain": [
       "[<matplotlib.lines.Line2D at 0x7ff5614d6290>]"
      ]
     },
     "execution_count": 5,
     "metadata": {},
     "output_type": "execute_result"
    },
    {
     "data": {
      "image/png": "[encoded data removed]",
      "text/plain": [
       "<Figure size 640x480 with 1 Axes>"
      ]
     },
     "metadata": {},
     "output_type": "display_data"
    }
   ],
   "source": [
    "passive_trace = np.load(\"output/target/out_0.npy\")[:, 0]\n",
    "plt.plot(passive_trace[::10])"
   ]
  },
  {
   "cell_type": "code",
   "execution_count": 6,
   "metadata": {},
   "outputs": [
    {
     "data": {
      "text/plain": [
       "GettablePassiveProperties(R_in=np.float64(246.82388046911376), tau1=4.1000000000000005, tau2=544.9, sag_ratio=np.float64(0.0), V_rest=np.float64(-64.97367898269046))"
      ]
     },
     "execution_count": 6,
     "metadata": {},
     "output_type": "execute_result"
    }
   ],
   "source": [
    "target_gpp = ACTPassiveModule.compute_gpp(passive_trace, 0.1, 100, 700, -0.2)\n",
    "target_gpp"
   ]
  },
  {
   "cell_type": "markdown",
   "metadata": {},
   "source": [
    "### 1.2. Target FI curve"
   ]
  },
  {
   "cell_type": "code",
   "execution_count": 7,
   "metadata": {},
   "outputs": [
    {
     "name": "stdout",
     "output_type": "stream",
     "text": [
      "\n",
      "        ACTSimulator (2025)\n",
      "        ----------\n",
      "        When submitting multiple jobs, note that the cells must share modfiles.\n",
      "        \n",
      "output/target/combined_out.npy\n"
     ]
    }
   ],
   "source": [
    "# Set simulations\n",
    "simulator = ACTSimulator(output_folder_name = \"output\")\n",
    "\n",
    "for sim_idx, amp_value in enumerate([0.1, 0.3, 0.5]):\n",
    "    sim_params = SimulationParameters(\n",
    "        sim_name = \"target\",\n",
    "        sim_idx = sim_idx,\n",
    "        h_celsius = 6.3,\n",
    "        h_dt = 0.1,\n",
    "        h_tstop = 1000,\n",
    "        CI = [ConstantCurrentInjection(amp = amp_value, dur = 700, delay = 100)])\n",
    "\n",
    "    simulator.submit_job(target_cell, sim_params)\n",
    "\n",
    "simulator.run_jobs(3)\n",
    "\n",
    "# Combine simulated traces into one dataset for convenience\n",
    "dp.combine_data(\"output/target\")"
   ]
  },
  {
   "cell_type": "code",
   "execution_count": 8,
   "metadata": {},
   "outputs": [
    {
     "data": {
      "text/plain": [
       "Text(0, 0.5, 'Voltage (mV)')"
      ]
     },
     "execution_count": 8,
     "metadata": {},
     "output_type": "execute_result"
    },
    {
     "data": {
      "image/png": "[encoded data removed]",
      "text/plain": [
       "<Figure size 1000x200 with 3 Axes>"
      ]
     },
     "metadata": {},
     "output_type": "display_data"
    }
   ],
   "source": [
    "# Plot the traces and the FI curve\n",
    "simulated_data = np.load(\"output/target/combined_out.npy\") # 3 x 10000 x 4; (n_sim x time x [V, I, g, lto_hto])\n",
    "\n",
    "fig, ax = plt.subplots(1, 3, figsize = (10, 2))\n",
    "for axid, amp in enumerate([0.1, 0.3, 0.5]):\n",
    "    ax[axid].plot(simulated_data[axid, ::10, 0])\n",
    "    ax[axid].set_xlabel(\"Time (ms)\")\n",
    "    ax[axid].set_title(f\"CI = {amp} nA\")\n",
    "\n",
    "ax[0].set_ylabel(\"Voltage (mV)\")"
   ]
  },
  {
   "cell_type": "code",
   "execution_count": 9,
   "metadata": {},
   "outputs": [
    {
     "data": {
      "text/plain": [
       "Text(0.5, 1.0, 'FI Curve')"
      ]
     },
     "execution_count": 9,
     "metadata": {},
     "output_type": "execute_result"
    },
    {
     "data": {
      "image/png": "[encoded data removed]",
      "text/plain": [
       "<Figure size 640x480 with 1 Axes>"
      ]
     },
     "metadata": {},
     "output_type": "display_data"
    }
   ],
   "source": [
    "simulated_data = np.load(\"output/target/combined_out.npy\")\n",
    "\n",
    "f = []\n",
    "for trace_id in range(len(simulated_data)):\n",
    "    f.append(len(dp.find_events(simulated_data[trace_id, ::10, 0].flatten())))\n",
    "\n",
    "plt.plot([0.1, 0.3, 0.5], f)\n",
    "plt.xlabel(\"CI (nA)\")\n",
    "plt.ylabel(\"Frequency (Hz)\")\n",
    "plt.title(\"FI Curve\")"
   ]
  },
  {
   "cell_type": "markdown",
   "metadata": {},
   "source": [
    "## 2. Original pipeline - optimize passive and active channels together"
   ]
  },
  {
   "cell_type": "markdown",
   "metadata": {},
   "source": [
    "### 2.1. Set the train cell \n",
    "\n",
    "We assume the train cell was acquired from an external source, e.g., AllenDB. Thus, its parameters do not necesserily match those of the target cell. Here we set these parameters to the target's values +- 10% std."
   ]
  },
  {
   "cell_type": "code",
   "execution_count": 10,
   "metadata": {},
   "outputs": [
    {
     "data": {
      "text/plain": [
       "array([ 8.91436940e-01,  1.31968145e-01,  3.70187226e-02,  2.54811159e-04,\n",
       "       -5.74417994e+01])"
      ]
     },
     "execution_count": 10,
     "metadata": {},
     "output_type": "execute_result"
    }
   ],
   "source": [
    "random_state = np.random.RandomState(123)\n",
    "target_values = np.array([1, 0.12, 0.036, 0.0003, -54.3]) # Cm, gnabar, gkbar, gl, el\n",
    "target_values = target_values + random_state.normal(0, np.abs(target_values * 0.1))\n",
    "target_values"
   ]
  },
  {
   "cell_type": "markdown",
   "metadata": {},
   "source": [
    "Train cell (updated in template.hoc):\n",
    "\n",
    "- Cm = 0.89\n",
    "- gnabar = 0.132 (S/cm2)\n",
    "- gkbar = 0.037 (S/cm2)\n",
    "- gl = 0.00025 (S/cm2)\n",
    "- el = -57.4 (mV)"
   ]
  },
  {
   "cell_type": "code",
   "execution_count": 11,
   "metadata": {},
   "outputs": [],
   "source": [
    "# Define the train cell\n",
    "train_cell = ACTCellModel(\n",
    "    cell_name = \"Spiker\",\n",
    "    path_to_hoc_file = \"../../data/Spiker/orig/template.hoc\",\n",
    "    path_to_mod_files = \"../../data/Spiker/orig/modfiles/\",\n",
    "    passive = [\"gl\", \"el\", None],\n",
    "    active_channels = [\"hh_spiker.gnabar\", \"hh_spiker.gkbar\"],\n",
    ")"
   ]
  },
  {
   "cell_type": "markdown",
   "metadata": {},
   "source": [
    "### 2.2. Passive properties before tuning"
   ]
  },
  {
   "cell_type": "code",
   "execution_count": 12,
   "metadata": {},
   "outputs": [
    {
     "name": "stdout",
     "output_type": "stream",
     "text": [
      "\n",
      "        ACTSimulator (2025)\n",
      "        ----------\n",
      "        When submitting multiple jobs, note that the cells must share modfiles.\n",
      "        \n"
     ]
    },
    {
     "data": {
      "text/plain": [
       "GettablePassiveProperties(R_in=np.float64(315.86372513098706), tau1=4.4, tau2=543.6, sag_ratio=np.float64(0.0), V_rest=np.float64(-66.27239858673221))"
      ]
     },
     "execution_count": 12,
     "metadata": {},
     "output_type": "execute_result"
    }
   ],
   "source": [
    "# Set simulations\n",
    "simulator = ACTSimulator(output_folder_name = \"output\")\n",
    "\n",
    "sim_params = SimulationParameters(\n",
    "    sim_name = \"orig\",\n",
    "    sim_idx = 0,\n",
    "    h_celsius = 6.3,\n",
    "    h_dt = 0.1,\n",
    "    h_tstop = 1000,\n",
    "    CI = [ConstantCurrentInjection(amp = -0.2, dur = 700, delay = 100)])\n",
    "\n",
    "simulator.submit_job(train_cell, sim_params)\n",
    "simulator.run_jobs(1)\n",
    "\n",
    "passive_trace = np.load(\"output/orig/out_0.npy\")[:, 0]\n",
    "ACTPassiveModule.compute_gpp(passive_trace, 0.1, 100, 700, -0.2)"
   ]
  },
  {
   "cell_type": "markdown",
   "metadata": {},
   "source": [
    "### 2.3. FI curve before tuning"
   ]
  },
  {
   "cell_type": "code",
   "execution_count": 13,
   "metadata": {},
   "outputs": [
    {
     "name": "stdout",
     "output_type": "stream",
     "text": [
      "\n",
      "        ACTSimulator (2025)\n",
      "        ----------\n",
      "        When submitting multiple jobs, note that the cells must share modfiles.\n",
      "        \n",
      "output/orig/combined_out.npy\n"
     ]
    }
   ],
   "source": [
    "# Set simulations\n",
    "simulator = ACTSimulator(output_folder_name = \"output\")\n",
    "\n",
    "for sim_idx, amp_value in enumerate([0.1, 0.3, 0.5]):\n",
    "    sim_params = SimulationParameters(\n",
    "        sim_name = \"orig\",\n",
    "        sim_idx = sim_idx,\n",
    "        h_celsius = 6.3,\n",
    "        h_dt = 0.1,\n",
    "        h_tstop = 1000,\n",
    "        CI = [ConstantCurrentInjection(amp = amp_value, dur = 700, delay = 100)])\n",
    "\n",
    "    simulator.submit_job(train_cell, sim_params)\n",
    "\n",
    "simulator.run_jobs(3)\n",
    "\n",
    "# Combine simulated traces into one dataset for convenience\n",
    "dp.combine_data(\"output/orig\")"
   ]
  },
  {
   "cell_type": "code",
   "execution_count": 14,
   "metadata": {},
   "outputs": [
    {
     "data": {
      "text/plain": [
       "Text(0.5, 1.0, 'FI Curve')"
      ]
     },
     "execution_count": 14,
     "metadata": {},
     "output_type": "execute_result"
    },
    {
     "data": {
      "image/png": "[encoded data removed]",
      "text/plain": [
       "<Figure size 640x480 with 1 Axes>"
      ]
     },
     "metadata": {},
     "output_type": "display_data"
    }
   ],
   "source": [
    "simulated_data = np.load(\"output/orig/combined_out.npy\")\n",
    "\n",
    "f = []\n",
    "for trace_id in range(len(simulated_data)):\n",
    "    f.append(len(dp.find_events(simulated_data[trace_id, ::10, 0].flatten())))\n",
    "\n",
    "plt.plot([0.1, 0.3, 0.5], f)\n",
    "plt.xlabel(\"CI (nA)\")\n",
    "plt.ylabel(\"Frequency (Hz)\")\n",
    "plt.title(\"FI Curve\")"
   ]
  },
  {
   "cell_type": "markdown",
   "metadata": {},
   "source": [
    "### 2.4 Optimize"
   ]
  },
  {
   "cell_type": "code",
   "execution_count": 15,
   "metadata": {},
   "outputs": [
    {
     "name": "stdout",
     "output_type": "stream",
     "text": [
      "Leak: (0.0001629413518002673, 0.00028576741686879743)\n",
      "Na: (0.1170278040647626, 0.16838677475947084)\n",
      "Kdr: (0.02368982405896708, 0.04482746951230253)\n"
     ]
    }
   ],
   "source": [
    "# Parameter ranges as if provided by the user\n",
    "gbar_leak = 0.00025\n",
    "gbar_na = 0.132\n",
    "gbar_kdr = 0.037\n",
    "\n",
    "random_state = np.random.RandomState(123)\n",
    "gbar_leak_range = (gbar_leak - random_state.uniform(0, gbar_leak / 2), gbar_leak + random_state.uniform(0, gbar_leak / 2))\n",
    "gbar_na_range = (gbar_na - random_state.uniform(0, gbar_na / 2), gbar_na + random_state.uniform(0, gbar_na / 2))\n",
    "gbar_kdr_range = (gbar_kdr - random_state.uniform(0, gbar_kdr / 2), gbar_kdr + random_state.uniform(0, gbar_kdr / 2))\n",
    "\n",
    "print(f\"Leak: {gbar_leak_range}\")\n",
    "print(f\"Na: {gbar_na_range}\")\n",
    "print(f\"Kdr: {gbar_kdr_range}\")"
   ]
  },
  {
   "cell_type": "code",
   "execution_count": 16,
   "metadata": {},
   "outputs": [],
   "source": [
    "# Possibly adjsut\n",
    "train_cell = ACTCellModel(\n",
    "    cell_name = \"Spiker\",\n",
    "    path_to_hoc_file = \"../../data/Spiker/orig/template.hoc\",\n",
    "    path_to_mod_files = \"../../data/Spiker/orig/modfiles/\",\n",
    "    passive = [\"gl\", \"el\", None],\n",
    "    active_channels = [\"hh_spiker.gl\", \"hh_spiker.gnabar\", \"hh_spiker.gkbar\"], # \"Trick\" to optimize for g_leak too\n",
    ")"
   ]
  },
  {
   "cell_type": "code",
   "execution_count": 17,
   "metadata": {},
   "outputs": [],
   "source": [
    "sim_params = SimulationParameters(\n",
    "        sim_name = \"cell\",\n",
    "        sim_idx = 0,\n",
    "        h_celsius = 6.3,\n",
    "        h_dt = 0.1,\n",
    "        h_tstop = 1000)\n",
    "\n",
    "optim_params = OptimizationParameters(\n",
    "    conductance_options = [\n",
    "        ConductanceOptions(variable_name = \"hh_spiker.gl\", low = gbar_leak_range[0], high = gbar_leak_range[1], n_slices = 3),\n",
    "        ConductanceOptions(variable_name = \"hh_spiker.gnabar\", low = gbar_na_range[0], high = gbar_na_range[1], n_slices = 3),\n",
    "        ConductanceOptions(variable_name = \"hh_spiker.gkbar\", low = gbar_kdr_range[0], high = gbar_kdr_range[1], n_slices = 3),  \n",
    "    ],\n",
    "    CI_options = [\n",
    "        ConstantCurrentInjection(amp = 0.1, dur = 700, delay = 100),\n",
    "        ConstantCurrentInjection(amp = 0.3, dur = 700, delay = 100),\n",
    "        ConstantCurrentInjection(amp = 0.5, dur = 700, delay = 100)\n",
    "    ],\n",
    "    filter_parameters = FilterParameters(\n",
    "        saturation_threshold = -55,\n",
    "        window_of_inspection = (100, 800)\n",
    "    ),\n",
    "    train_features=[\"spike_frequency\"]\n",
    ")\n",
    "\n",
    "m = ACTModule(\n",
    "    name = \"orig_fi\",\n",
    "    cell = train_cell,\n",
    "    simulation_parameters = sim_params,\n",
    "    optimization_parameters = optim_params,\n",
    "    target_file = \"output/target/combined_out.npy\"\n",
    ")"
   ]
  },
  {
   "cell_type": "code",
   "execution_count": 18,
   "metadata": {},
   "outputs": [
    {
     "name": "stdout",
     "output_type": "stream",
     "text": [
      "Running Module 'orig_fi'...\n",
      "----------\n",
      "Simulating train traces...\n",
      "\n",
      "        ACTSimulator (2025)\n",
      "        ----------\n",
      "        When submitting multiple jobs, note that the cells must share modfiles.\n",
      "        \n",
      "/home/ubuntu/ACT/experiments/Spiker/module_orig_fi/train/combined_out.npy\n",
      "Training RandomForest...\n",
      "Predicting on target data...\n",
      "\n",
      "        ACTSimulator (2025)\n",
      "        ----------\n",
      "        When submitting multiple jobs, note that the cells must share modfiles.\n",
      "        \n"
     ]
    },
    {
     "name": "stderr",
     "output_type": "stream",
     "text": [
      "/home/ubuntu/act-venv/lib/python3.10/site-packages/sklearn/utils/validation.py:2742: UserWarning: X has feature names, but RandomForestRegressor was fitted without feature names\n",
      "  warnings.warn(\n"
     ]
    },
    {
     "name": "stdout",
     "output_type": "stream",
     "text": [
      "/home/ubuntu/ACT/experiments/Spiker/module_orig_fi/eval/combined_out.npy\n",
      "Evaluating predictions...\n",
      "Predicting on target data...\n",
      "{'hh_spiker.gl': np.float64(0.0002612173865214702), 'hh_spiker.gnabar': np.float64(0.1508856552205634), 'hh_spiker.gkbar': np.float64(0.04123659875353075)}\n",
      "Done.\n"
     ]
    },
    {
     "data": {
      "text/html": [
       "<div>\n",
       "<style scoped>\n",
       "    .dataframe tbody tr th:only-of-type {\n",
       "        vertical-align: middle;\n",
       "    }\n",
       "\n",
       "    .dataframe tbody tr th {\n",
       "        vertical-align: top;\n",
       "    }\n",
       "\n",
       "    .dataframe thead th {\n",
       "        text-align: right;\n",
       "    }\n",
       "</style>\n",
       "<table border=\"1\" class=\"dataframe\">\n",
       "  <thead>\n",
       "    <tr style=\"text-align: right;\">\n",
       "      <th></th>\n",
       "      <th>metric</th>\n",
       "      <th>value</th>\n",
       "    </tr>\n",
       "  </thead>\n",
       "  <tbody>\n",
       "    <tr>\n",
       "      <th>0</th>\n",
       "      <td>Train MAE (g)</td>\n",
       "      <td>0.004374</td>\n",
       "    </tr>\n",
       "    <tr>\n",
       "      <th>1</th>\n",
       "      <td>Test SFE (g0)</td>\n",
       "      <td>0.000000</td>\n",
       "    </tr>\n",
       "    <tr>\n",
       "      <th>2</th>\n",
       "      <td>Test SFE (g1)</td>\n",
       "      <td>0.071878</td>\n",
       "    </tr>\n",
       "    <tr>\n",
       "      <th>3</th>\n",
       "      <td>Test SFE (g2)</td>\n",
       "      <td>0.215635</td>\n",
       "    </tr>\n",
       "    <tr>\n",
       "      <th>4</th>\n",
       "      <td>Test MAE (FI)</td>\n",
       "      <td>0.133333</td>\n",
       "    </tr>\n",
       "    <tr>\n",
       "      <th>5</th>\n",
       "      <td>Runtime (s)</td>\n",
       "      <td>5.315000</td>\n",
       "    </tr>\n",
       "  </tbody>\n",
       "</table>\n",
       "</div>"
      ],
      "text/plain": [
       "          metric     value\n",
       "0  Train MAE (g)  0.004374\n",
       "1  Test SFE (g0)  0.000000\n",
       "2  Test SFE (g1)  0.071878\n",
       "3  Test SFE (g2)  0.215635\n",
       "4  Test MAE (FI)  0.133333\n",
       "5    Runtime (s)  5.315000"
      ]
     },
     "execution_count": 18,
     "metadata": {},
     "output_type": "execute_result"
    }
   ],
   "source": [
    "m.run()"
   ]
  },
  {
   "cell_type": "code",
   "execution_count": 19,
   "metadata": {},
   "outputs": [],
   "source": [
    "orig_g = np.array(list(m.cell.prediction.values()))"
   ]
  },
  {
   "cell_type": "code",
   "execution_count": 20,
   "metadata": {},
   "outputs": [
    {
     "data": {
      "text/plain": [
       "0.01205367886252423"
      ]
     },
     "execution_count": 20,
     "metadata": {},
     "output_type": "execute_result"
    }
   ],
   "source": [
    "# Test g error\n",
    "mean_absolute_error(target_g, orig_g)"
   ]
  },
  {
   "cell_type": "markdown",
   "metadata": {},
   "source": [
    "### 2.5. Passive properties after tuning"
   ]
  },
  {
   "cell_type": "code",
   "execution_count": 21,
   "metadata": {},
   "outputs": [],
   "source": [
    "train_cell = ACTCellModel(\n",
    "    cell_name = \"Spiker\",\n",
    "    path_to_hoc_file = \"../../data/Spiker/orig/template.hoc\",\n",
    "    path_to_mod_files = \"../../data/Spiker/orig/modfiles/\",\n",
    "    passive = [\"gl\", \"el\", None],\n",
    "    active_channels = [\"hh_spiker.gnabar\", \"hh_spiker.gkbar\"],\n",
    ")"
   ]
  },
  {
   "cell_type": "code",
   "execution_count": 22,
   "metadata": {},
   "outputs": [
    {
     "name": "stdout",
     "output_type": "stream",
     "text": [
      "\n",
      "        ACTSimulator (2025)\n",
      "        ----------\n",
      "        When submitting multiple jobs, note that the cells must share modfiles.\n",
      "        \n"
     ]
    },
    {
     "data": {
      "text/plain": [
       "GettablePassiveProperties(R_in=np.float64(299.7354570957491), tau1=4.3, tau2=550.9, sag_ratio=np.float64(0.0), V_rest=np.float64(-66.40408382583072))"
      ]
     },
     "execution_count": 22,
     "metadata": {},
     "output_type": "execute_result"
    }
   ],
   "source": [
    "# Set simulations\n",
    "simulator = ACTSimulator(output_folder_name = \"output\")\n",
    "\n",
    "sim_params = SimulationParameters(\n",
    "    sim_name = \"spiker_orig_after\",\n",
    "    sim_idx = 0,\n",
    "    h_celsius = 6.3,\n",
    "    h_dt = 0.1,\n",
    "    h_tstop = 1000,\n",
    "    CI = [ConstantCurrentInjection(amp = -0.2, dur = 700, delay = 100)])\n",
    "\n",
    "train_cell.set_g_bar([\"hh_spiker.gl\", \"hh_spiker.gnabar\", \"hh_spiker.gkbar\"], orig_g)\n",
    "\n",
    "simulator.submit_job(train_cell, sim_params)\n",
    "simulator.run_jobs(1)\n",
    "\n",
    "passive_trace = np.load(\"output/spiker_orig_after/out_0.npy\")[:, 0]\n",
    "ACTPassiveModule.compute_gpp(passive_trace, 0.1, 100, 700, -0.2)"
   ]
  },
  {
   "cell_type": "code",
   "execution_count": 23,
   "metadata": {},
   "outputs": [
    {
     "data": {
      "text/plain": [
       "GettablePassiveProperties(R_in=np.float64(299.7354570957491), tau1=4.3, tau2=550.9, sag_ratio=np.float64(0.0), V_rest=np.float64(-66.40408382583072))"
      ]
     },
     "execution_count": 23,
     "metadata": {},
     "output_type": "execute_result"
    }
   ],
   "source": [
    "orig_gpp = ACTPassiveModule.compute_gpp(passive_trace, 0.1, 100, 700, -0.2)\n",
    "orig_gpp"
   ]
  },
  {
   "cell_type": "code",
   "execution_count": 24,
   "metadata": {},
   "outputs": [
    {
     "data": {
      "text/plain": [
       "[('R_in', np.float64(52.91157662663534)),\n",
       " ('tau1', np.float64(0.1999999999999993)),\n",
       " ('tau2', np.float64(6.0)),\n",
       " ('sag_ratio', np.float64(0.0)),\n",
       " ('V_rest', np.float64(1.4304048431402663))]"
      ]
     },
     "execution_count": 24,
     "metadata": {},
     "output_type": "execute_result"
    }
   ],
   "source": [
    "pp_error(target_gpp, orig_gpp)"
   ]
  },
  {
   "cell_type": "markdown",
   "metadata": {},
   "source": [
    "### 2.6. FI curve after tuning"
   ]
  },
  {
   "cell_type": "code",
   "execution_count": 25,
   "metadata": {},
   "outputs": [],
   "source": [
    "train_cell = ACTCellModel(\n",
    "    cell_name = \"Spiker\",\n",
    "    path_to_hoc_file = \"../../data/Spiker/orig/template.hoc\",\n",
    "    path_to_mod_files = \"../../data/Spiker/orig/modfiles/\",\n",
    "    passive = [\"gl\", \"el\", None],\n",
    "    active_channels = [\"hh_spiker.gnabar\", \"hh_spiker.gkbar\"],\n",
    ")"
   ]
  },
  {
   "cell_type": "code",
   "execution_count": 26,
   "metadata": {},
   "outputs": [
    {
     "name": "stdout",
     "output_type": "stream",
     "text": [
      "\n",
      "        ACTSimulator (2025)\n",
      "        ----------\n",
      "        When submitting multiple jobs, note that the cells must share modfiles.\n",
      "        \n",
      "output/spiker_orig_after/combined_out.npy\n"
     ]
    }
   ],
   "source": [
    "# Set simulations\n",
    "simulator = ACTSimulator(output_folder_name = \"output\")\n",
    "\n",
    "\n",
    "for sim_idx, amp_value in enumerate([0.1, 0.3, 0.5]):\n",
    "    sim_params = SimulationParameters(\n",
    "        sim_name = \"spiker_orig_after\",\n",
    "        sim_idx = sim_idx,\n",
    "        h_celsius = 6.3,\n",
    "        h_dt = 0.1,\n",
    "        h_tstop = 1000,\n",
    "        CI = [ConstantCurrentInjection(amp = amp_value, dur = 700, delay = 100)])\n",
    "    \n",
    "    train_cell.set_g_bar(\n",
    "        [\"hh_spiker.gl\", \"hh_spiker.gnabar\", \"hh_spiker.gkbar\"], \n",
    "        orig_g)\n",
    "\n",
    "\n",
    "    simulator.submit_job(train_cell, sim_params)\n",
    "\n",
    "simulator.run_jobs(3)\n",
    "\n",
    "# Combine simulated traces into one dataset for convenience\n",
    "dp.combine_data(\"output/spiker_orig_after\")"
   ]
  },
  {
   "cell_type": "code",
   "execution_count": 27,
   "metadata": {},
   "outputs": [
    {
     "data": {
      "text/plain": [
       "Text(0.5, 1.0, 'FI Curve')"
      ]
     },
     "execution_count": 27,
     "metadata": {},
     "output_type": "execute_result"
    },
    {
     "data": {
      "image/png": "[encoded data removed]",
      "text/plain": [
       "<Figure size 640x480 with 1 Axes>"
      ]
     },
     "metadata": {},
     "output_type": "display_data"
    }
   ],
   "source": [
    "simulated_data = np.load(\"output/spiker_orig_after/combined_out.npy\")\n",
    "\n",
    "f = []\n",
    "for trace_id in range(len(simulated_data)):\n",
    "    f.append(len(dp.find_events(simulated_data[trace_id, ::10, 0].flatten())))\n",
    "\n",
    "plt.plot([0.1, 0.3, 0.5], f)\n",
    "plt.xlabel(\"CI (nA)\")\n",
    "plt.ylabel(\"Frequency (Hz)\")\n",
    "plt.title(\"FI Curve\")"
   ]
  }
 ],
 "metadata": {
  "kernelspec": {
   "display_name": "act-venv",
   "language": "python",
   "name": "python3"
  },
  "language_info": {
   "codemirror_mode": {
    "name": "ipython",
    "version": 3
   },
   "file_extension": ".py",
   "mimetype": "text/x-python",
   "name": "python",
   "nbconvert_exporter": "python",
   "pygments_lexer": "ipython3",
   "version": "3.10.18"
  }
 },
 "nbformat": 4,
 "nbformat_minor": 2
}
