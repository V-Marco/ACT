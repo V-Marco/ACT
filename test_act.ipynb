{
 "cells": [
  {
   "cell_type": "code",
   "execution_count": null,
   "metadata": {},
   "outputs": [],
   "source": [
    "from act.cell_model import TargetCell, TrainCell\n",
    "from act.simulator import Simulator\n",
    "from act.act_types import SimulationParameters\n",
    "# /Users/vladimiromelyusik/ACT/data/Burster/Izhikevich_p307_orig/template.hoc\n",
    "# /Users/vladimiromelyusik/ACT/data/Burster/Izhikevich_p307_orig/modfiles\n",
    "hoc_file = \"/home/mwsrgf/proj/ACT/data/Burster/Izhikevich_p307_orig/template.hoc\"\n",
    "mod_folder = \"/home/mwsrgf/proj/ACT/data/Burster/Izhikevich_p307_orig/modfiles\""
   ]
  },
  {
   "cell_type": "markdown",
   "metadata": {},
   "source": [
    "### 1. Generate target data"
   ]
  },
  {
   "cell_type": "code",
   "execution_count": null,
   "metadata": {},
   "outputs": [],
   "source": [
    "import numpy as np\n",
    "\n",
    "num_samples = 10 # times 3 for each amp split\n",
    "\n",
    "amps = []\n",
    "for i in range(num_samples):\n",
    "    amps.append(1)\n",
    "\n",
    "for i in range(num_samples):\n",
    "    amps.append(5)\n",
    "\n",
    "for i in range(num_samples):\n",
    "    amps.append(10)\n",
    "\n",
    "print(len(amps))\n",
    "# nap range: \"high\": 0.0006, \"low\": 0.0001\n",
    "# kdr range: \"high\": 0.056, \"low\": 0.01\n",
    "g_bars_nap = np.linspace(0.0001,0.0006,num_samples)\n",
    "g_bars_kdr = np.linspace(0.01,0.056,num_samples)\n",
    "\n",
    "gbars = []\n",
    "for i in range(len(g_bars_kdr)):\n",
    "    gbars.append([g_bars_nap[i],g_bars_kdr[i]])\n",
    "\n",
    "\n",
    "gbars = gbars + gbars + gbars\n",
    "print(len(gbars))"
   ]
  },
  {
   "cell_type": "code",
   "execution_count": null,
   "metadata": {},
   "outputs": [],
   "source": [
    "# Init the cell\n",
    "target_cell = TargetCell(\n",
    "    hoc_file = hoc_file,\n",
    "    cell_name = \"Burster_Izh\",\n",
    "    g_names = [\"gbar_nap\", \"gkdrbar_kdr\", \"glbar_leak\"]\n",
    ")"
   ]
  },
  {
   "cell_type": "code",
   "execution_count": null,
   "metadata": {},
   "outputs": [],
   "source": [
    "# Simulate a voltage trace\n",
    "simulator = Simulator()\n",
    "for i in range(len(gbars)):\n",
    "    simulator.submit_job(\n",
    "        target_cell,\n",
    "        SimulationParameters(\n",
    "            sim_name = \"target1\",\n",
    "            h_v_init = -70, # (mV)\n",
    "            h_tstop = 300,  # (ms)\n",
    "            h_dt = 0.01, # (ms)\n",
    "            h_celsius = 37, # (deg C)\n",
    "            CI = {\n",
    "                \"type\": \"constant\",\n",
    "                \"amp\": amps[i],\n",
    "                \"dur\": 290,\n",
    "                \"delay\": 10\n",
    "            }\n",
    "        )\n",
    "    )\n",
    "# simulator.submit_job(...)\n",
    "# simulator.submit_job(...)"
   ]
  },
  {
   "cell_type": "code",
   "execution_count": null,
   "metadata": {},
   "outputs": [],
   "source": [
    "# Run\n",
    "simulator.run(mod_folder)"
   ]
  },
  {
   "cell_type": "markdown",
   "metadata": {},
   "source": [
    "### 2. Generate simulated data"
   ]
  },
  {
   "cell_type": "code",
   "execution_count": 1,
   "metadata": {},
   "outputs": [
    {
     "name": "stderr",
     "output_type": "stream",
     "text": [
      "/home/mwsrgf/act-venv/lib64/python3.9/site-packages/torch/__init__.py:614: UserWarning: torch.set_default_tensor_type() is deprecated as of PyTorch 2.1, please use torch.set_default_dtype() and torch.set_default_device() as alternatives. (Triggered internally at ../torch/csrc/tensor/python_tensor.cpp:451.)\n",
      "  _C._set_default_tensor_type(t)\n",
      "Warning: no DISPLAY environment variable.\n",
      "--No graphics will be displayed.\n"
     ]
    },
    {
     "name": "stdout",
     "output_type": "stream",
     "text": [
      "Total number of jobs: 1\n",
      "Total number of proccessors: 192\n",
      "Found 1 section(s) in this cell. Calculating the total surface area of the cell.\n"
     ]
    },
    {
     "data": {
      "text/plain": [
       "[<matplotlib.lines.Line2D at 0x7fa58847ec40>]"
      ]
     },
     "execution_count": 1,
     "metadata": {},
     "output_type": "execute_result"
    },
    {
     "data": {
      "image/png": "[encoded data removed]",
      "text/plain": [
       "<Figure size 640x480 with 1 Axes>"
      ]
     },
     "metadata": {},
     "output_type": "display_data"
    }
   ],
   "source": [
    "# Predict passive properties\n",
    "from act.DataProcessor import DataProcessor\n",
    "from act.cell_model import TrainCell\n",
    "import matplotlib.pyplot as plt\n",
    "import numpy as np\n",
    "\n",
    "# Init the cell\n",
    "train_cell = TrainCell(\n",
    "    hoc_file = hoc_file,\n",
    "    mod_folder= mod_folder,\n",
    "    cell_name = \"Burster_Izh\",\n",
    "    g_names = [\"gbar_nap\", \"gkdrbar_kdr\", \"gbar_na3\", \"gmbar_im\", \"glbar_leak\"]\n",
    ")\n",
    "\n",
    "# Simulate a negative current injection and get all of the data needed to calculate the passive properties.\n",
    "# This is a stand in for data from a target cell.\n",
    "dp = DataProcessor()\n",
    "(\n",
    "V,\n",
    "dt, \n",
    "h_tstop, \n",
    "I_tstart, \n",
    "I_intensity,\n",
    "cell_area\n",
    ") = dp.simulate_negative_CI(train_cell, \"glbar_leak\")\n",
    "\n",
    "plt.plot(V)"
   ]
  },
  {
   "cell_type": "code",
   "execution_count": 3,
   "metadata": {},
   "outputs": [
    {
     "name": "stdout",
     "output_type": "stream",
     "text": [
      " v_rest: -70.0 v_final: -101.51961883559213\n",
      "v_diff: 31.519618835592127 v_t_const: -89.92039910409423\n",
      "index_v_tau: 72\n",
      "{'leak_conductance_variable': 'glbar_leak', 'g_bar_leak': 3.500002954275104e-05, 'r_in': 315.19618835592127, 'tau': 72.0, 'v_rest': -70.0, 'Cm': 0.2284291582825145}\n"
     ]
    }
   ],
   "source": [
    "dp = DataProcessor()\n",
    "props = dp.calculate_passive_properties(V, dt,h_tstop,I_tstart,I_intensity,cell_area,\"glbar_leak\")\n",
    "\n",
    "print(props)"
   ]
  },
  {
   "cell_type": "code",
   "execution_count": null,
   "metadata": {},
   "outputs": [],
   "source": [
    "from act.cell_model import TrainCell\n",
    "\n",
    "# Init the cell\n",
    "train_cell = TrainCell(\n",
    "    hoc_file = hoc_file,\n",
    "    mod_folder= mod_folder,\n",
    "    cell_name = \"Burster_Izh\",\n",
    "    g_names = [\"gbar_nap\", \"gkdrbar_kdr\", \"gbar_na3\", \"gmbar_im\", \"glbar_leak\"]\n",
    ")\n"
   ]
  },
  {
   "cell_type": "code",
   "execution_count": null,
   "metadata": {},
   "outputs": [],
   "source": [
    "# Simulate voltage traces\n",
    "simulator = Simulator()\n",
    "\n",
    "for i in range(len(gbars)):\n",
    "    # Set parameters from the grid\n",
    "    train_cell.set_g([\"gbar_nap\", \"gkdrbar_kdr\"], gbars[i])\n",
    "    simulator.submit_job(\n",
    "        train_cell, \n",
    "        SimulationParameters(\n",
    "            sim_name = \"train1\",\n",
    "            h_v_init = -70, # (mV)\n",
    "            h_tstop = 300,  # (ms)\n",
    "            h_dt = 0.01, # (ms)\n",
    "            h_celsius = 37, # (deg C)\n",
    "            CI = {\n",
    "                \"type\": \"constant\",\n",
    "                \"amp\": amps[i],\n",
    "                \"dur\": 290,\n",
    "                \"delay\": 10\n",
    "            }\n",
    "        )\n",
    "    )\n",
    "# simulator.submit_job(...)\n",
    "# simulator.submit_job(...)"
   ]
  },
  {
   "cell_type": "code",
   "execution_count": null,
   "metadata": {},
   "outputs": [],
   "source": [
    "# Run\n",
    "simulator.run(mod_folder)"
   ]
  },
  {
   "cell_type": "code",
   "execution_count": null,
   "metadata": {},
   "outputs": [],
   "source": [
    "# MatchFilter will go over saved data and create a dataset of the traces that match,\n",
    "# deleting others"
   ]
  },
  {
   "cell_type": "markdown",
   "metadata": {},
   "source": [
    "## 3. Train the model"
   ]
  },
  {
   "cell_type": "code",
   "execution_count": null,
   "metadata": {},
   "outputs": [],
   "source": [
    "import numpy as np\n",
    "from act.DataProcessor import DataProcessor\n",
    "import matplotlib.pyplot as plt\n",
    "import torch\n",
    "\n",
    "# /home/mwsrgf/proj/ACT/model/train1/out.npy\n",
    "data = np.load(\"/home/mwsrgf/proj/ACT/model/train1/out.npy\")\n",
    "\n",
    "# placeholder to show multiple runs\n",
    "dataset =np.array([data,data,data,data,data])\n",
    "\n",
    "def get_g(sample):\n",
    "    conductances = sample[:, :, 2]\n",
    "    trimmed_g = []\n",
    "    for g in conductances:\n",
    "        trimmed_g.append(np.nonzero(g))\n",
    "    return torch.Tensor(trimmed_g)\n",
    "\n",
    "print(dataset.shape)\n",
    "#print(dataset)\n",
    "#plt.plot(dataset[:,0])\n",
    "\n",
    "\n",
    "V = dataset[:,:,0]\n",
    "I = dataset[:,:,1]\n",
    "g = get_g(dataset)\n",
    "#print(dataset[:,:,2])\n",
    "#print(V)\n",
    "print(V.shape)\n",
    "print(I.shape)\n",
    "\n",
    "print(g)\n",
    "\n",
    "dataprocessor = DataProcessor()\n",
    "#summary_features, column_names = dataprocessor.extract_features(V, I, inj_dur=290, inj_start=10, fs=10)\n",
    "\n",
    "#print(column_names)\n",
    "#print(summary_features)\n"
   ]
  },
  {
   "cell_type": "code",
   "execution_count": null,
   "metadata": {},
   "outputs": [],
   "source": [
    "import torch\n",
    "def extract_spike_features(V: torch.Tensor, spike_threshold=0, n_spikes=20):\n",
    "    # Get the number of threshold crossings\n",
    "    threshold_crossings = torch.diff(V > spike_threshold, dim=1)\n",
    "\n",
    "    # Get the number of spikes\n",
    "    num_spikes = torch.round(torch.sum(threshold_crossings, dim=1) * 0.5)\n",
    "\n",
    "    # Get the interspike times\n",
    "    interspike_times = torch.zeros((V.shape[0], 1))\n",
    "    for i in range(threshold_crossings.shape[0]):\n",
    "        interspike_times[i, :] = torch.mean(\n",
    "            torch.diff(\n",
    "                torch.arange(threshold_crossings.shape[1])[threshold_crossings[i, :]]\n",
    "            ).float()\n",
    "        )\n",
    "    interspike_times[torch.isnan(interspike_times)] = 0\n",
    "\n",
    "    \n",
    "    first_n_spikes = torch.zeros((V.shape[0], n_spikes)) * V.shape[1]\n",
    "    avg_spike_min = torch.zeros((V.shape[0], 1))\n",
    "    avg_spike_max = torch.zeros((V.shape[0], 1))\n",
    "    for i in range(threshold_crossings.shape[0]):\n",
    "        threshold_crossing_times = torch.arange(threshold_crossings.shape[1])[\n",
    "            threshold_crossings[i, :]\n",
    "        ]\n",
    "        spike_times = []\n",
    "        spike_mins = []\n",
    "        spike_maxes = []\n",
    "        for j in range(0, threshold_crossing_times.shape[0], 2):\n",
    "            spike_times.append(threshold_crossing_times[j])\n",
    "            ind = threshold_crossing_times[j : j + 2].cpu().tolist()\n",
    "            end_ind = ind[1] if len(ind) == 2 else V.shape[1]\n",
    "            spike_maxes.append(\n",
    "                V[i][max(0, ind[0] - 1) : min(end_ind + 5, V.shape[1])].max()\n",
    "            )\n",
    "            spike_mins.append(\n",
    "                V[i][max(0, ind[0] - 1) : min(end_ind + 5, V.shape[1])].min()\n",
    "            )\n",
    "        first_n_spikes[i][: min(n_spikes, len(spike_times))] = torch.tensor(\n",
    "            spike_times\n",
    "        ).flatten()[: min(n_spikes, len(spike_times))]\n",
    "        avg_spike_max[i] = torch.mean(torch.tensor(spike_maxes).flatten())\n",
    "        avg_spike_min[i] = torch.mean(torch.tensor(spike_mins).flatten())\n",
    "        first_n_spikes_scaled = (\n",
    "            first_n_spikes / V.shape[1]\n",
    "        )  # may be good to return this\n",
    "    return num_spikes, interspike_times, first_n_spikes_scaled, avg_spike_min, avg_spike_max\n",
    "\n",
    "    "
   ]
  },
  {
   "cell_type": "code",
   "execution_count": null,
   "metadata": {},
   "outputs": [],
   "source": [
    "import matplotlib.pyplot as plt\n",
    "import numpy as np\n",
    "import torch\n",
    "test_trace = np.load(\"test_trace.npy\")\n",
    "trace = []\n",
    "for i in test_trace:\n",
    "    i = i/1000\n",
    "    trace.append(i)\n",
    "\n",
    "\n",
    "trace = torch.tensor(trace).unsqueeze(0)\n",
    "\n",
    "\n",
    "print(trace)\n",
    "\n",
    "# Print the shape to confirm it's now a 2D tensor\n",
    "#print(trace_2d.shape)\n",
    "\n",
    "plt.plot(trace[0].cpu().numpy())\n",
    "\n",
    "\n",
    "(   num_spikes_simulated,\n",
    "    simulated_interspike_times,\n",
    "    first_n_spikes, \n",
    "    avg_spike_min,\n",
    "    avg_spike_max\n",
    ") = extract_spike_features(trace)\n",
    "\n",
    "print(num_spikes_simulated)\n",
    "print(simulated_interspike_times)\n",
    "print(first_n_spikes)\n",
    "print(avg_spike_max)\n",
    "print(avg_spike_min)"
   ]
  },
  {
   "cell_type": "code",
   "execution_count": null,
   "metadata": {},
   "outputs": [],
   "source": [
    "import numpy as np\n",
    "import matplotlib.pyplot as plt\n",
    "\n",
    "# Define the time parameters\n",
    "total_time = 1.0  # total time in seconds\n",
    "step_start_time = 0.1  # step start time in seconds\n",
    "step_end_time = 0.75  # step end time in seconds\n",
    "step_value = 500  # step value in pA\n",
    "\n",
    "# Define the sampling rate and create a time array\n",
    "sampling_rate = 10000  # samples per second\n",
    "time_array = np.linspace(0, total_time, int(total_time * sampling_rate))\n",
    "\n",
    "# Generate the step input signal\n",
    "step_input = np.zeros_like(time_array)\n",
    "step_input[(time_array >= step_start_time) & (time_array <= step_end_time)] = step_value\n",
    "\n",
    "# Plot the step input signal\n",
    "plt.plot(time_array, step_input)\n",
    "plt.xlabel('Time (s)')\n",
    "plt.ylabel('Amplitude (pA)')\n",
    "plt.title('Step Input Signal')\n",
    "plt.grid(True)\n",
    "plt.show()"
   ]
  },
  {
   "cell_type": "code",
   "execution_count": null,
   "metadata": {},
   "outputs": [],
   "source": [
    "from act.DataProcessor import DataProcessor as dp\n",
    "import matplotlib.pyplot as plt\n",
    "import numpy as np\n",
    "import torch\n",
    "test_trace = np.load(\"test_trace.npy\")\n",
    "trace = []\n",
    "for i in test_trace:\n",
    "    i = i/1000\n",
    "    trace.append(i)\n",
    "\n",
    "\n",
    "trace = torch.tensor(trace).unsqueeze(0)\n",
    "\n",
    "print(trace)\n",
    "\n",
    "\n",
    "\n",
    "features, columns = dp.get_spike_stats(dp, trace)\n",
    "\n",
    "print(columns)\n",
    "print(features)"
   ]
  },
  {
   "cell_type": "code",
   "execution_count": null,
   "metadata": {},
   "outputs": [],
   "source": [
    "from act.DataProcessor import DataProcessor\n",
    "import matplotlib.pyplot as plt\n",
    "import numpy as np\n",
    "import torch\n",
    "\n",
    "# Voltage Trace\n",
    "test_trace = np.load(\"test_trace.npy\")\n",
    "trace = []\n",
    "for i in test_trace:\n",
    "    i = i/1000\n",
    "    trace.append(i)\n",
    "\n",
    "\n",
    "trace = torch.tensor(trace).unsqueeze(0)\n",
    "\n",
    "#print(trace)\n",
    "\n",
    "# Current Input\n",
    "total_time = 1.0 \n",
    "step_start_time = 0.1  \n",
    "step_end_time = 0.75  \n",
    "step_value = 500  \n",
    "\n",
    "sampling_rate = 10000  \n",
    "time_array = np.linspace(0, total_time, int(total_time * sampling_rate))\n",
    "\n",
    "\n",
    "step_input = np.zeros_like(time_array)\n",
    "step_input[(time_array >= step_start_time) & (time_array <= step_end_time)] = step_value\n",
    "\n",
    "step_input = torch.Tensor(step_input)\n",
    "# Test Dataprocessor\n",
    "dp = DataProcessor()\n",
    "features_to_extract = [\"spikes\",\"current\"]\n",
    "features, columns = dp.extract_features(features_to_extract, V=trace, I=step_input)\n",
    "\n",
    "print(columns)\n",
    "print(features)"
   ]
  },
  {
   "cell_type": "code",
   "execution_count": null,
   "metadata": {},
   "outputs": [],
   "source": []
  }
 ],
 "metadata": {
  "kernelspec": {
   "display_name": "simulations",
   "language": "python",
   "name": "python3"
  },
  "language_info": {
   "codemirror_mode": {
    "name": "ipython",
    "version": 3
   },
   "file_extension": ".py",
   "mimetype": "text/x-python",
   "name": "python",
   "nbconvert_exporter": "python",
   "pygments_lexer": "ipython3",
   "version": "3.9.19"
  }
 },
 "nbformat": 4,
 "nbformat_minor": 2
}
