{
 "cells": [
  {
   "cell_type": "code",
   "execution_count": 1,
   "metadata": {},
   "outputs": [
    {
     "name": "stderr",
     "output_type": "stream",
     "text": [
      "/home/mwsrgf/act-venv/lib64/python3.9/site-packages/torch/__init__.py:614: UserWarning: torch.set_default_tensor_type() is deprecated as of PyTorch 2.1, please use torch.set_default_dtype() and torch.set_default_device() as alternatives. (Triggered internally at ../torch/csrc/tensor/python_tensor.cpp:451.)\n",
      "  _C._set_default_tensor_type(t)\n",
      "Warning: no DISPLAY environment variable.\n",
      "--No graphics will be displayed.\n"
     ]
    }
   ],
   "source": [
    "from act.cell_model import TargetCell, TrainCell\n",
    "from act.simulator import Simulator\n",
    "from act.act_types import SimulationParameters\n",
    "# /Users/vladimiromelyusik/ACT/data/Burster/Izhikevich_p307_orig/template.hoc\n",
    "# /Users/vladimiromelyusik/ACT/data/Burster/Izhikevich_p307_orig/modfiles\n",
    "hoc_file = \"/home/mwsrgf/proj/ACT/data/Burster/Izhikevich_p307_orig/template.hoc\"\n",
    "mod_folder = \"/home/mwsrgf/proj/ACT/data/Burster/Izhikevich_p307_orig/modfiles\""
   ]
  },
  {
   "cell_type": "markdown",
   "metadata": {},
   "source": [
    "### 1. Generate target data"
   ]
  },
  {
   "cell_type": "code",
   "execution_count": 2,
   "metadata": {},
   "outputs": [],
   "source": [
    "# Init the cell\n",
    "target_cell = TargetCell(\n",
    "    hoc_file = hoc_file,\n",
    "    mod_folder= mod_folder,\n",
    "    cell_name = \"Burster_Izh\",\n",
    "    g_names = [\"gbar_nap\", \"gkdrbar_kdr\", \"gbar_na3\", \"gmbar_im\", \"glbar_leak\"]\n",
    ")\n",
    "\n",
    "current_intensities = [0.1, 0.2, 0.3]"
   ]
  },
  {
   "cell_type": "code",
   "execution_count": 3,
   "metadata": {},
   "outputs": [],
   "source": [
    "# Simulate a voltage trace\n",
    "simulator = Simulator()\n",
    "for i in range(len(current_intensities)):\n",
    "    simulator.submit_job(\n",
    "        target_cell,\n",
    "        SimulationParameters(\n",
    "            sim_name = \"target1\",\n",
    "            sim_idx=i,\n",
    "            h_v_init = -70, # (mV)\n",
    "            h_tstop = 300,  # (ms)\n",
    "            h_dt = 0.01, # (ms)\n",
    "            h_celsius = 37, # (deg C)\n",
    "            CI = {\n",
    "                \"type\": \"constant\",\n",
    "                \"amp\": current_intensities[i],\n",
    "                \"dur\": 290,\n",
    "                \"delay\": 10\n",
    "            }\n",
    "        )\n",
    "    )\n",
    "# simulator.submit_job(...)\n",
    "# simulator.submit_job(...)"
   ]
  },
  {
   "cell_type": "code",
   "execution_count": 4,
   "metadata": {},
   "outputs": [
    {
     "name": "stdout",
     "output_type": "stream",
     "text": [
      "Total number of jobs: 3\n",
      "Total number of proccessors: 192\n"
     ]
    }
   ],
   "source": [
    "# Run\n",
    "simulator.run(mod_folder)\n",
    "\n",
    "from act.DataProcessor import DataProcessor\n",
    "dp = DataProcessor()\n",
    "dp.combine_data(\"./model/target1\")\n"
   ]
  },
  {
   "cell_type": "code",
   "execution_count": 5,
   "metadata": {},
   "outputs": [
    {
     "name": "stdout",
     "output_type": "stream",
     "text": [
      "[[0.  0.  0.  0.  0.  0.  0.  0.  0.  0.  0.1 0.1 0.1 0.1 0.1 0.1 0.1 0.1\n",
      "  0.1 0.1 0.1 0.1 0.1 0.1 0.1 0.1 0.1 0.1 0.1 0.1 0.1 0.1 0.1 0.1 0.1 0.1\n",
      "  0.1 0.1 0.1 0.1 0.1 0.1 0.1 0.1 0.1 0.1 0.1 0.1 0.1 0.1 0.1 0.1 0.1 0.1\n",
      "  0.1 0.1 0.1 0.1 0.1 0.1 0.1 0.1 0.1 0.1 0.1 0.1 0.1 0.1 0.1 0.1 0.1 0.1\n",
      "  0.1 0.1 0.1 0.1 0.1 0.1 0.1 0.1 0.1 0.1 0.1 0.1 0.1 0.1 0.1 0.1 0.1 0.1\n",
      "  0.1 0.1 0.1 0.1 0.1 0.1 0.1 0.1 0.1 0.1 0.1 0.1 0.1 0.1 0.1 0.1 0.1 0.1\n",
      "  0.1 0.1 0.1 0.1 0.1 0.1 0.1 0.1 0.1 0.1 0.1 0.1 0.1 0.1 0.1 0.1 0.1 0.1\n",
      "  0.1 0.1 0.1 0.1 0.1 0.1 0.1 0.1 0.1 0.1 0.1 0.1 0.1 0.1 0.1 0.1 0.1 0.1\n",
      "  0.1 0.1 0.1 0.1 0.1 0.1 0.1 0.1 0.1 0.1 0.1 0.1 0.1 0.1 0.1 0.1 0.1 0.1\n",
      "  0.1 0.1 0.1 0.1 0.1 0.1 0.1 0.1 0.1 0.1 0.1 0.1 0.1 0.1 0.1 0.1 0.1 0.1\n",
      "  0.1 0.1 0.1 0.1 0.1 0.1 0.1 0.1 0.1 0.1 0.1 0.1 0.1 0.1 0.1 0.1 0.1 0.1\n",
      "  0.1 0.1 0.1 0.1 0.1 0.1 0.1 0.1 0.1 0.1 0.1 0.1 0.1 0.1 0.1 0.1 0.1 0.1\n",
      "  0.1 0.1 0.1 0.1 0.1 0.1 0.1 0.1 0.1 0.1 0.1 0.1 0.1 0.1 0.1 0.1 0.1 0.1\n",
      "  0.1 0.1 0.1 0.1 0.1 0.1 0.1 0.1 0.1 0.1 0.1 0.1 0.1 0.1 0.1 0.1 0.1 0.1\n",
      "  0.1 0.1 0.1 0.1 0.1 0.1 0.1 0.1 0.1 0.1 0.1 0.1 0.1 0.1 0.1 0.1 0.1 0.1\n",
      "  0.1 0.1 0.1 0.1 0.1 0.1 0.1 0.1 0.1 0.1 0.1 0.1 0.1 0.1 0.1 0.1 0.1 0.1\n",
      "  0.1 0.1 0.1 0.1 0.1 0.1 0.1 0.1 0.1 0.1 0.1 0.1]\n",
      " [0.  0.  0.  0.  0.  0.  0.  0.  0.  0.  0.2 0.2 0.2 0.2 0.2 0.2 0.2 0.2\n",
      "  0.2 0.2 0.2 0.2 0.2 0.2 0.2 0.2 0.2 0.2 0.2 0.2 0.2 0.2 0.2 0.2 0.2 0.2\n",
      "  0.2 0.2 0.2 0.2 0.2 0.2 0.2 0.2 0.2 0.2 0.2 0.2 0.2 0.2 0.2 0.2 0.2 0.2\n",
      "  0.2 0.2 0.2 0.2 0.2 0.2 0.2 0.2 0.2 0.2 0.2 0.2 0.2 0.2 0.2 0.2 0.2 0.2\n",
      "  0.2 0.2 0.2 0.2 0.2 0.2 0.2 0.2 0.2 0.2 0.2 0.2 0.2 0.2 0.2 0.2 0.2 0.2\n",
      "  0.2 0.2 0.2 0.2 0.2 0.2 0.2 0.2 0.2 0.2 0.2 0.2 0.2 0.2 0.2 0.2 0.2 0.2\n",
      "  0.2 0.2 0.2 0.2 0.2 0.2 0.2 0.2 0.2 0.2 0.2 0.2 0.2 0.2 0.2 0.2 0.2 0.2\n",
      "  0.2 0.2 0.2 0.2 0.2 0.2 0.2 0.2 0.2 0.2 0.2 0.2 0.2 0.2 0.2 0.2 0.2 0.2\n",
      "  0.2 0.2 0.2 0.2 0.2 0.2 0.2 0.2 0.2 0.2 0.2 0.2 0.2 0.2 0.2 0.2 0.2 0.2\n",
      "  0.2 0.2 0.2 0.2 0.2 0.2 0.2 0.2 0.2 0.2 0.2 0.2 0.2 0.2 0.2 0.2 0.2 0.2\n",
      "  0.2 0.2 0.2 0.2 0.2 0.2 0.2 0.2 0.2 0.2 0.2 0.2 0.2 0.2 0.2 0.2 0.2 0.2\n",
      "  0.2 0.2 0.2 0.2 0.2 0.2 0.2 0.2 0.2 0.2 0.2 0.2 0.2 0.2 0.2 0.2 0.2 0.2\n",
      "  0.2 0.2 0.2 0.2 0.2 0.2 0.2 0.2 0.2 0.2 0.2 0.2 0.2 0.2 0.2 0.2 0.2 0.2\n",
      "  0.2 0.2 0.2 0.2 0.2 0.2 0.2 0.2 0.2 0.2 0.2 0.2 0.2 0.2 0.2 0.2 0.2 0.2\n",
      "  0.2 0.2 0.2 0.2 0.2 0.2 0.2 0.2 0.2 0.2 0.2 0.2 0.2 0.2 0.2 0.2 0.2 0.2\n",
      "  0.2 0.2 0.2 0.2 0.2 0.2 0.2 0.2 0.2 0.2 0.2 0.2 0.2 0.2 0.2 0.2 0.2 0.2\n",
      "  0.2 0.2 0.2 0.2 0.2 0.2 0.2 0.2 0.2 0.2 0.2 0.2]\n",
      " [0.  0.  0.  0.  0.  0.  0.  0.  0.  0.  0.3 0.3 0.3 0.3 0.3 0.3 0.3 0.3\n",
      "  0.3 0.3 0.3 0.3 0.3 0.3 0.3 0.3 0.3 0.3 0.3 0.3 0.3 0.3 0.3 0.3 0.3 0.3\n",
      "  0.3 0.3 0.3 0.3 0.3 0.3 0.3 0.3 0.3 0.3 0.3 0.3 0.3 0.3 0.3 0.3 0.3 0.3\n",
      "  0.3 0.3 0.3 0.3 0.3 0.3 0.3 0.3 0.3 0.3 0.3 0.3 0.3 0.3 0.3 0.3 0.3 0.3\n",
      "  0.3 0.3 0.3 0.3 0.3 0.3 0.3 0.3 0.3 0.3 0.3 0.3 0.3 0.3 0.3 0.3 0.3 0.3\n",
      "  0.3 0.3 0.3 0.3 0.3 0.3 0.3 0.3 0.3 0.3 0.3 0.3 0.3 0.3 0.3 0.3 0.3 0.3\n",
      "  0.3 0.3 0.3 0.3 0.3 0.3 0.3 0.3 0.3 0.3 0.3 0.3 0.3 0.3 0.3 0.3 0.3 0.3\n",
      "  0.3 0.3 0.3 0.3 0.3 0.3 0.3 0.3 0.3 0.3 0.3 0.3 0.3 0.3 0.3 0.3 0.3 0.3\n",
      "  0.3 0.3 0.3 0.3 0.3 0.3 0.3 0.3 0.3 0.3 0.3 0.3 0.3 0.3 0.3 0.3 0.3 0.3\n",
      "  0.3 0.3 0.3 0.3 0.3 0.3 0.3 0.3 0.3 0.3 0.3 0.3 0.3 0.3 0.3 0.3 0.3 0.3\n",
      "  0.3 0.3 0.3 0.3 0.3 0.3 0.3 0.3 0.3 0.3 0.3 0.3 0.3 0.3 0.3 0.3 0.3 0.3\n",
      "  0.3 0.3 0.3 0.3 0.3 0.3 0.3 0.3 0.3 0.3 0.3 0.3 0.3 0.3 0.3 0.3 0.3 0.3\n",
      "  0.3 0.3 0.3 0.3 0.3 0.3 0.3 0.3 0.3 0.3 0.3 0.3 0.3 0.3 0.3 0.3 0.3 0.3\n",
      "  0.3 0.3 0.3 0.3 0.3 0.3 0.3 0.3 0.3 0.3 0.3 0.3 0.3 0.3 0.3 0.3 0.3 0.3\n",
      "  0.3 0.3 0.3 0.3 0.3 0.3 0.3 0.3 0.3 0.3 0.3 0.3 0.3 0.3 0.3 0.3 0.3 0.3\n",
      "  0.3 0.3 0.3 0.3 0.3 0.3 0.3 0.3 0.3 0.3 0.3 0.3 0.3 0.3 0.3 0.3 0.3 0.3\n",
      "  0.3 0.3 0.3 0.3 0.3 0.3 0.3 0.3 0.3 0.3 0.3 0.3]]\n"
     ]
    }
   ],
   "source": [
    "import numpy as np\n",
    "dataset = np.load(\"./model/target1/combined_out.npy\")\n",
    "\n",
    "dp = DataProcessor()\n",
    "g = dp.clean_g_bars(dataset)\n",
    "\n",
    "print(dataset[:,:,1])"
   ]
  },
  {
   "cell_type": "markdown",
   "metadata": {},
   "source": [
    "### 2. Generate simulated data"
   ]
  },
  {
   "cell_type": "markdown",
   "metadata": {},
   "source": [
    "#### Get Passive Properties"
   ]
  },
  {
   "cell_type": "code",
   "execution_count": 6,
   "metadata": {},
   "outputs": [
    {
     "name": "stdout",
     "output_type": "stream",
     "text": [
      "Total number of jobs: 1\n",
      "Total number of proccessors: 192\n",
      "MECHANISMS already loaded.\n",
      "Found 1 section(s) in this cell. Calculating the total surface area of the cell.\n"
     ]
    },
    {
     "data": {
      "text/plain": [
       "[<matplotlib.lines.Line2D at 0x7f2bb7527550>]"
      ]
     },
     "execution_count": 6,
     "metadata": {},
     "output_type": "execute_result"
    },
    {
     "data": {
      "image/png": "[encoded data removed]",
      "text/plain": [
       "<Figure size 640x480 with 1 Axes>"
      ]
     },
     "metadata": {},
     "output_type": "display_data"
    }
   ],
   "source": [
    "# Predict passive properties\n",
    "from act.DataProcessor import DataProcessor\n",
    "from act.cell_model import TrainCell\n",
    "import matplotlib.pyplot as plt\n",
    "import numpy as np\n",
    "\n",
    "# Init the cell\n",
    "train_cell = TrainCell(\n",
    "    hoc_file = hoc_file,\n",
    "    mod_folder= mod_folder,\n",
    "    cell_name = \"Burster_Izh\",\n",
    "    g_names = [\"gbar_nap\", \"gkdrbar_kdr\", \"gbar_na3\", \"gmbar_im\", \"glbar_leak\"]\n",
    ")\n",
    "\n",
    "# Simulate a negative current injection and get all of the data needed to calculate the passive properties.\n",
    "# This is a stand in for data from a target cell.\n",
    "dp = DataProcessor()\n",
    "(\n",
    "V,\n",
    "dt, \n",
    "h_tstop, \n",
    "I_tstart, \n",
    "I_intensity,\n",
    "cell_area\n",
    ") = dp.simulate_negative_CI(train_cell, \"glbar_leak\")\n",
    "\n",
    "plt.plot(V)"
   ]
  },
  {
   "cell_type": "code",
   "execution_count": 7,
   "metadata": {},
   "outputs": [
    {
     "name": "stdout",
     "output_type": "stream",
     "text": [
      "{'leak_conductance_variable': 'glbar_leak', 'g_bar_leak': 3.500002954275104e-05, 'r_in': 315.19618835592127, 'tau': 72.0, 'v_rest': -70.0, 'Cm': 0.2284291582825145}\n"
     ]
    }
   ],
   "source": [
    "dp = DataProcessor()\n",
    "props = dp.calculate_passive_properties(V, dt,h_tstop,I_tstart,I_intensity,cell_area,\"glbar_leak\")\n",
    "\n",
    "print(props)"
   ]
  },
  {
   "cell_type": "code",
   "execution_count": 8,
   "metadata": {},
   "outputs": [],
   "source": [
    "from act.cell_model import TrainCell\n",
    "\n",
    "# Init the cell\n",
    "train_cell = TrainCell(\n",
    "    hoc_file = hoc_file,\n",
    "    mod_folder= mod_folder,\n",
    "    cell_name = \"Burster_Izh\",\n",
    "    g_names = [\"gbar_nap\", \"gkdrbar_kdr\", \"gbar_na3\", \"gmbar_im\", \"glbar_leak\"]\n",
    ")\n",
    "'''\n",
    "{\"channel\": \"gbar_nap\", \"high\": 0.0006, \"low\": 0.0001},\n",
    "{\"channel\": \"gmbar_im\", \"high\": 0.0033, \"low\": 0.00066667},\n",
    "{\"channel\": \"gbar_na3\", \"high\": 0.06, \"low\": 0.01},\n",
    "{\"channel\": \"gkdrbar_kdr\", \"high\": 0.056, \"low\": 0.01},\n",
    "'''\n",
    "channel_ranges = [\n",
    "    (0.0001, 0.0006),  \n",
    "    (0.01, 0.056),\n",
    "    (0.01, 0.06),\n",
    "    (0.00066667, 0.0033),\n",
    "    (props['g_bar_leak'],props['g_bar_leak']) # We know this conductance\n",
    "]\n",
    "channel_samples = [2, 3, 2, 2, 1]\n",
    "#current_intensities = [0.1, 0.2, 0.3] # same as target_cell. comment out if wanting one control spot\n",
    "conductance_groups, current_settings = train_cell.generate_I_g_combinations(channel_ranges, channel_samples, current_intensities)"
   ]
  },
  {
   "cell_type": "code",
   "execution_count": 9,
   "metadata": {},
   "outputs": [
    {
     "name": "stdout",
     "output_type": "stream",
     "text": [
      "72\n",
      "(0.0001, 0.01, 0.01, 0.00066667, 3.500002954275104e-05)\n",
      "(0.0006, 0.056, 0.06, 0.0033, 3.500002954275104e-05)\n"
     ]
    }
   ],
   "source": [
    "print(len(conductance_groups))\n",
    "print(conductance_groups[0])\n",
    "print(conductance_groups[71])\n"
   ]
  },
  {
   "cell_type": "code",
   "execution_count": 10,
   "metadata": {},
   "outputs": [],
   "source": [
    "# Simulate voltage traces\n",
    "simulator = Simulator()\n",
    "\n",
    "for i in range(len(conductance_groups)):\n",
    "        # Set parameters from the grid\n",
    "        train_cell.set_g([\"gbar_nap\", \"gkdrbar_kdr\", \"gbar_na3\", \"gmbar_im\", \"glbar_leak\"], conductance_groups[i])\n",
    "        simulator.submit_job(\n",
    "            train_cell, \n",
    "            SimulationParameters(\n",
    "                sim_name = \"train1\",\n",
    "                sim_idx = i,\n",
    "                h_v_init = -70, # (mV)\n",
    "                h_tstop = 300,  # (ms)\n",
    "                h_dt = 0.01, # (ms)\n",
    "                h_celsius = 37, # (deg C)\n",
    "                CI = {\n",
    "                    \"type\": \"constant\",\n",
    "                    \"amp\": current_settings[i],\n",
    "                    \"dur\": 290,\n",
    "                    \"delay\": 10\n",
    "                }\n",
    "            )\n",
    "        )\n",
    "# simulator.submit_job(...)\n",
    "# simulator.submit_job(...)"
   ]
  },
  {
   "cell_type": "code",
   "execution_count": 11,
   "metadata": {},
   "outputs": [
    {
     "name": "stdout",
     "output_type": "stream",
     "text": [
      "Total number of jobs: 72\n",
      "Total number of proccessors: 192\n",
      "MECHANISMS already loaded.\n"
     ]
    }
   ],
   "source": [
    "# Run\n",
    "simulator.run(mod_folder)\n",
    "\n",
    "from act.DataProcessor import DataProcessor\n",
    "dp = DataProcessor()\n",
    "dp.combine_data(\"./model/train1\")"
   ]
  },
  {
   "cell_type": "code",
   "execution_count": null,
   "metadata": {},
   "outputs": [],
   "source": [
    "# MatchFilter will go over saved data and create a dataset of the traces that match,\n",
    "# deleting others"
   ]
  },
  {
   "cell_type": "markdown",
   "metadata": {},
   "source": [
    "## 3. Train the model"
   ]
  },
  {
   "cell_type": "code",
   "execution_count": 1,
   "metadata": {},
   "outputs": [
    {
     "name": "stderr",
     "output_type": "stream",
     "text": [
      "/home/mwsrgf/act-venv/lib64/python3.9/site-packages/torch/__init__.py:614: UserWarning: torch.set_default_tensor_type() is deprecated as of PyTorch 2.1, please use torch.set_default_dtype() and torch.set_default_device() as alternatives. (Triggered internally at ../torch/csrc/tensor/python_tensor.cpp:451.)\n",
      "  _C._set_default_tensor_type(t)\n",
      "Warning: no DISPLAY environment variable.\n",
      "--No graphics will be displayed.\n"
     ]
    },
    {
     "name": "stdout",
     "output_type": "stream",
     "text": [
      "(72, 300, 3)\n"
     ]
    }
   ],
   "source": [
    "# Check that the target data is shaped correctly\n",
    "import numpy as np\n",
    "from act.DataProcessor import DataProcessor\n",
    "dataset = np.load(\"./model/train1/combined_out.npy\")\n",
    "print(dataset.shape)\n",
    "#print(dataset[:,:,2])\n",
    "    \n",
    "# Function to remove NaNs from a single row\n",
    "\n",
    "dp = DataProcessor()\n",
    "g = dp.clean_g_bars(dataset)\n",
    "\n",
    "\n",
    "\n",
    "\n",
    "\n",
    "\n"
   ]
  },
  {
   "cell_type": "code",
   "execution_count": 8,
   "metadata": {},
   "outputs": [
    {
     "name": "stdout",
     "output_type": "stream",
     "text": [
      "(300,)\n",
      "[-70.         -70.01278198 -70.02530184 -70.03756983 -70.04959575\n",
      " -70.06138899 -70.07295851 -70.08431279 -70.09545973 -70.10640667\n",
      " -70.11716055 -69.6911089  -69.27381251 -68.86489962 -68.46400592\n",
      " -68.07077264 -67.68484663 -67.30587984 -66.93352892 -66.56745438\n",
      " -66.20731986 -65.85279109 -65.50353504 -65.15921873 -64.81950812\n",
      " -64.48406695 -64.15255524 -63.824628   -63.49993362 -63.17811194\n",
      " -62.85879246 -62.54159207 -62.22611239 -61.91193691 -61.59862762\n",
      " -61.28572104 -60.97272338 -60.65910504 -60.34429397 -60.02766753\n",
      " -59.70854242 -59.38616264 -59.05968432 -58.7281565  -58.39049677\n",
      " -58.0454601  -57.69159762 -57.32720225 -56.95023527 -56.55822459\n",
      " -56.1481223  -55.71609778 -55.25723024 -54.76503422 -54.23069693\n",
      " -53.64178897 -52.9799458  -52.21635725 -51.30204366 -50.14372255\n",
      " -48.53019779 -45.81801441 -38.29985965   3.25668264   9.99586436\n",
      "   1.65629294  -9.04404436 -18.78516923 -26.76662315 -32.875491\n",
      " -37.31383025 -40.52134969 -42.89403228 -44.66420872 -45.95563971\n",
      " -46.84539699 -47.39247657 -47.64466453 -47.63783666 -47.39336727\n",
      " -46.91372184 -46.17311961 -45.09501574 -43.49246641 -40.89378119\n",
      " -36.03770799 -27.00974744 -19.72454891 -18.87179736 -20.61149721\n",
      " -22.99196992 -25.38061063 -27.54722896 -29.39912165 -30.90819546\n",
      " -32.0837993  -32.95590556 -33.56333591 -33.94698725 -34.14707461\n",
      " -34.2026129  -34.15150655 -34.03014888 -33.87209651 -33.70605046\n",
      " -33.55390508 -33.42969434 -33.33986815 -33.28473069 -33.26046914\n",
      " -33.26116147 -33.28036946 -33.31218046 -33.35174739 -33.39545725\n",
      " -33.44086662 -33.48651496 -33.53169133 -33.57620566 -33.6201898\n",
      " -33.66393973 -33.70780174 -33.75209651 -33.79707572 -33.842905\n",
      " -33.88966461 -33.9373616  -33.9859479  -34.03533742 -34.08542279\n",
      " -34.13608945 -34.18722657 -34.23873508 -34.29053012 -34.3425419\n",
      " -34.39471508 -34.44700774 -34.49938982 -34.5518393  -34.60433963\n",
      " -34.65687774 -34.70944348 -34.76202855 -34.81462464 -34.86722289\n",
      " -34.91981386 -34.97238878 -35.0249391  -35.07745586 -35.12992985\n",
      " -35.18235212 -35.23471525 -35.28701239 -35.33923686 -35.39138214\n",
      " -35.44344245 -35.49541346 -35.54729113 -35.59907138 -35.65075005\n",
      " -35.70232367 -35.75378976 -35.80514573 -35.85638875 -35.90751575\n",
      " -35.95852438 -36.00941297 -36.06017966 -36.11082227 -36.16133844\n",
      " -36.21172655 -36.26198557 -36.31211426 -36.36211106 -36.41197423\n",
      " -36.4617028  -36.51129631 -36.56075405 -36.61007506 -36.6592581\n",
      " -36.70830264 -36.75720867 -36.80597595 -36.85460394 -36.90309183\n",
      " -36.95143932 -36.99964675 -37.04771426 -37.09564168 -37.14342855\n",
      " -37.1910747  -37.23858072 -37.28594706 -37.33317392 -37.38026119\n",
      " -37.42720874 -37.47401728 -37.52068759 -37.56722018 -37.61361527\n",
      " -37.65987286 -37.70599358 -37.75197846 -37.7978283  -37.84354365\n",
      " -37.88912474 -37.93457199 -37.97988655 -38.0250695  -38.07012167\n",
      " -38.11504361 -38.15983566 -38.2044988  -38.24903432 -38.29344335\n",
      " -38.33772672 -38.38188503 -38.42591887 -38.46982958 -38.51361851\n",
      " -38.55728682 -38.60083539 -38.64426486 -38.68757615 -38.73077077\n",
      " -38.77385013 -38.81681542 -38.8596676  -38.90240738 -38.94503596\n",
      " -38.98755494 -39.0299658  -39.07226981 -39.11446799 -39.15656117\n",
      " -39.19855074 -39.24043838 -39.28222567 -39.32391395 -39.36550435\n",
      " -39.40699784 -39.44839592 -39.48970037 -39.53091287 -39.5720349\n",
      " -39.61306773 -39.65401244 -39.69487062 -39.73564417 -39.77633491\n",
      " -39.81694448 -39.85747432 -39.89792576 -39.938302   -39.97860837\n",
      " -40.01885078 -40.05903554 -40.09916912 -40.13925804 -40.17931045\n",
      " -40.21933733 -40.25935044 -40.29936177 -40.33938332 -40.37942675\n",
      " -40.41950344 -40.45962483 -40.49980174 -40.54004404 -40.58036048\n",
      " -40.62075858 -40.66124477 -40.7018251  -40.74250491 -40.7832886\n",
      " -40.82417979 -40.86518138 -40.90629582 -40.94752611 -40.98887566\n",
      " -41.03034825 -41.07194817 -41.11368045 -41.15555114 -41.19756836\n",
      " -41.2397422  -41.28208464 -41.32460966 -41.36733341 -41.41027453\n",
      " -41.45345515 -41.49690062 -41.54063943 -41.58470332 -41.62912743\n",
      " -41.67395084 -41.71921748 -41.76497579 -41.81127882 -41.85818459]\n",
      "Reducing dataset by 1x\n",
      "['Num Spikes', 'Interspike Interval', 'Avg Min Spike Height', 'Avg Max Spike Height']\n",
      "tensor([[  1.0000],\n",
      "        [  3.0000],\n",
      "        [-47.7079],\n",
      "        [ 12.2298]])\n"
     ]
    },
    {
     "data": {
      "image/png": "[encoded data removed]",
      "text/plain": [
       "<Figure size 640x480 with 1 Axes>"
      ]
     },
     "metadata": {},
     "output_type": "display_data"
    }
   ],
   "source": [
    "import torch\n",
    "import matplotlib.pyplot as plt\n",
    "dp = DataProcessor()\n",
    "V = dataset[:,:,0]\n",
    "I = dataset[:,:,1]\n",
    "\n",
    "print(V[0].shape)\n",
    "print(V[0])\n",
    "\n",
    "V_sample = torch.Tensor(V[0]).unsqueeze(0)\n",
    "\n",
    "plt.plot(V[0])\n",
    "#summary_features, column_names = dp.extract_features(V, I, inj_dur=290, inj_start=10, fs=10)\n",
    "features, columns = dp.get_spike_stats(V_sample, 1)\n",
    "\n",
    "print(columns)\n",
    "print(features)"
   ]
  },
  {
   "cell_type": "code",
   "execution_count": 16,
   "metadata": {},
   "outputs": [
    {
     "name": "stdout",
     "output_type": "stream",
     "text": [
      "(72, 300)\n"
     ]
    }
   ],
   "source": [
    "print(V.shape)"
   ]
  },
  {
   "cell_type": "code",
   "execution_count": 23,
   "metadata": {},
   "outputs": [],
   "source": [
    "import torch\n",
    "def extract_spike_features(V: torch.Tensor, spike_threshold=0, n_spikes=20):\n",
    "    # Get the number of threshold crossings\n",
    "    threshold_crossings = torch.diff(V > spike_threshold, dim=1)\n",
    "\n",
    "    # Get the number of spikes\n",
    "    num_spikes = torch.round(torch.sum(threshold_crossings, dim=1) * 0.5)\n",
    "\n",
    "    # Get the interspike times\n",
    "    interspike_times = torch.zeros((V.shape[0], 1))\n",
    "    for i in range(threshold_crossings.shape[0]):\n",
    "        interspike_times[i, :] = torch.mean(\n",
    "            torch.diff(\n",
    "                torch.arange(threshold_crossings.shape[1])[threshold_crossings[i, :]]\n",
    "            ).float()\n",
    "        )\n",
    "    interspike_times[torch.isnan(interspike_times)] = 0\n",
    "\n",
    "    \n",
    "    first_n_spikes = torch.zeros((V.shape[0], n_spikes)) * V.shape[1]\n",
    "    avg_spike_min = torch.zeros((V.shape[0], 1))\n",
    "    avg_spike_max = torch.zeros((V.shape[0], 1))\n",
    "    for i in range(threshold_crossings.shape[0]):\n",
    "        threshold_crossing_times = torch.arange(threshold_crossings.shape[1])[\n",
    "            threshold_crossings[i, :]\n",
    "        ]\n",
    "        spike_times = []\n",
    "        spike_mins = []\n",
    "        spike_maxes = []\n",
    "        for j in range(0, threshold_crossing_times.shape[0], 2):\n",
    "            spike_times.append(threshold_crossing_times[j])\n",
    "            ind = threshold_crossing_times[j : j + 2].cpu().tolist()\n",
    "            end_ind = ind[1] if len(ind) == 2 else V.shape[1]\n",
    "            spike_maxes.append(\n",
    "                V[i][max(0, ind[0] - 1) : min(end_ind + 5, V.shape[1])].max()\n",
    "            )\n",
    "            spike_mins.append(\n",
    "                V[i][max(0, ind[0] - 1) : min(end_ind + 5, V.shape[1])].min()\n",
    "            )\n",
    "        first_n_spikes[i][: min(n_spikes, len(spike_times))] = torch.tensor(\n",
    "            spike_times\n",
    "        ).flatten()[: min(n_spikes, len(spike_times))]\n",
    "        avg_spike_max[i] = torch.mean(torch.tensor(spike_maxes).flatten())\n",
    "        avg_spike_min[i] = torch.mean(torch.tensor(spike_mins).flatten())\n",
    "        first_n_spikes_scaled = (\n",
    "            first_n_spikes / V.shape[1]\n",
    "        )  # may be good to return this\n",
    "    return num_spikes, interspike_times, first_n_spikes_scaled, avg_spike_min, avg_spike_max\n",
    "\n",
    "    "
   ]
  },
  {
   "cell_type": "code",
   "execution_count": 24,
   "metadata": {},
   "outputs": [
    {
     "name": "stdout",
     "output_type": "stream",
     "text": [
      "tensor([[-0.0650, -0.0645, -0.0640,  ..., -0.0636, -0.0636, -0.0636]],\n",
      "       dtype=torch.float64)\n",
      "tensor([12.])\n",
      "tensor([[415.5218]])\n",
      "tensor([[0.0076, 0.1024, 0.1890, 0.2748, 0.3603, 0.4458, 0.5311, 0.6166, 0.7021,\n",
      "         0.7876, 0.8730, 0.9585, 0.0000, 0.0000, 0.0000, 0.0000, 0.0000, 0.0000,\n",
      "         0.0000, 0.0000]])\n",
      "tensor([[0.0113]])\n",
      "tensor([[-0.0020]])\n"
     ]
    },
    {
     "data": {
      "image/png": "[encoded data removed]",
      "text/plain": [
       "<Figure size 640x480 with 1 Axes>"
      ]
     },
     "metadata": {},
     "output_type": "display_data"
    }
   ],
   "source": [
    "import matplotlib.pyplot as plt\n",
    "import numpy as np\n",
    "import torch\n",
    "test_trace = np.load(\"test_trace.npy\")\n",
    "trace = []\n",
    "for i in test_trace:\n",
    "    i = i/1000\n",
    "    trace.append(i)\n",
    "\n",
    "\n",
    "trace = torch.tensor(trace).unsqueeze(0)\n",
    "\n",
    "\n",
    "print(trace)\n",
    "\n",
    "# Print the shape to confirm it's now a 2D tensor\n",
    "#print(trace_2d.shape)\n",
    "\n",
    "plt.plot(trace[0].cpu().numpy())\n",
    "\n",
    "\n",
    "(   num_spikes_simulated,\n",
    "    simulated_interspike_times,\n",
    "    first_n_spikes, \n",
    "    avg_spike_min,\n",
    "    avg_spike_max\n",
    ") = extract_spike_features(trace)\n",
    "\n",
    "print(num_spikes_simulated)\n",
    "print(simulated_interspike_times)\n",
    "print(first_n_spikes)\n",
    "print(avg_spike_max)\n",
    "print(avg_spike_min)"
   ]
  },
  {
   "cell_type": "code",
   "execution_count": null,
   "metadata": {},
   "outputs": [],
   "source": [
    "import numpy as np\n",
    "import matplotlib.pyplot as plt\n",
    "\n",
    "# Define the time parameters\n",
    "total_time = 1.0  # total time in seconds\n",
    "step_start_time = 0.1  # step start time in seconds\n",
    "step_end_time = 0.75  # step end time in seconds\n",
    "step_value = 500  # step value in pA\n",
    "\n",
    "# Define the sampling rate and create a time array\n",
    "sampling_rate = 10000  # samples per second\n",
    "time_array = np.linspace(0, total_time, int(total_time * sampling_rate))\n",
    "\n",
    "# Generate the step input signal\n",
    "step_input = np.zeros_like(time_array)\n",
    "step_input[(time_array >= step_start_time) & (time_array <= step_end_time)] = step_value\n",
    "\n",
    "# Plot the step input signal\n",
    "plt.plot(time_array, step_input)\n",
    "plt.xlabel('Time (s)')\n",
    "plt.ylabel('Amplitude (pA)')\n",
    "plt.title('Step Input Signal')\n",
    "plt.grid(True)\n",
    "plt.show()"
   ]
  },
  {
   "cell_type": "code",
   "execution_count": null,
   "metadata": {},
   "outputs": [],
   "source": [
    "from act.DataProcessor import DataProcessor as dp\n",
    "import matplotlib.pyplot as plt\n",
    "import numpy as np\n",
    "import torch\n",
    "test_trace = np.load(\"test_trace.npy\")\n",
    "trace = []\n",
    "for i in test_trace:\n",
    "    i = i/1000\n",
    "    trace.append(i)\n",
    "\n",
    "\n",
    "trace = torch.tensor(trace).unsqueeze(0)\n",
    "\n",
    "print(trace)\n",
    "\n",
    "\n",
    "\n",
    "features, columns = dp.get_spike_stats(dp, trace)\n",
    "\n",
    "print(columns)\n",
    "print(features)"
   ]
  },
  {
   "cell_type": "code",
   "execution_count": null,
   "metadata": {},
   "outputs": [],
   "source": [
    "from act.DataProcessor import DataProcessor\n",
    "import matplotlib.pyplot as plt\n",
    "import numpy as np\n",
    "import torch\n",
    "\n",
    "# Voltage Trace\n",
    "test_trace = np.load(\"test_trace.npy\")\n",
    "trace = []\n",
    "for i in test_trace:\n",
    "    i = i/1000\n",
    "    trace.append(i)\n",
    "\n",
    "\n",
    "trace = torch.tensor(trace).unsqueeze(0)\n",
    "\n",
    "#print(trace)\n",
    "\n",
    "# Current Input\n",
    "total_time = 1.0 \n",
    "step_start_time = 0.1  \n",
    "step_end_time = 0.75  \n",
    "step_value = 500  \n",
    "\n",
    "sampling_rate = 10000  \n",
    "time_array = np.linspace(0, total_time, int(total_time * sampling_rate))\n",
    "\n",
    "\n",
    "step_input = np.zeros_like(time_array)\n",
    "step_input[(time_array >= step_start_time) & (time_array <= step_end_time)] = step_value\n",
    "\n",
    "step_input = torch.Tensor(step_input)\n",
    "# Test Dataprocessor\n",
    "dp = DataProcessor()\n",
    "features_to_extract = [\"spikes\",\"current\"]\n",
    "features, columns = dp.extract_features(features_to_extract, V=trace, I=step_input)\n",
    "\n",
    "print(columns)\n",
    "print(features)"
   ]
  },
  {
   "cell_type": "code",
   "execution_count": null,
   "metadata": {},
   "outputs": [],
   "source": []
  }
 ],
 "metadata": {
  "kernelspec": {
   "display_name": "simulations",
   "language": "python",
   "name": "python3"
  },
  "language_info": {
   "codemirror_mode": {
    "name": "ipython",
    "version": 3
   },
   "file_extension": ".py",
   "mimetype": "text/x-python",
   "name": "python",
   "nbconvert_exporter": "python",
   "pygments_lexer": "ipython3",
   "version": "3.9.19"
  }
 },
 "nbformat": 4,
 "nbformat_minor": 2
}
