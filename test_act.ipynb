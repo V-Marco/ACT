{
 "cells": [
  {
   "cell_type": "code",
   "execution_count": 1,
   "metadata": {},
   "outputs": [],
   "source": [
    "from act.cell_model import TargetCell, TrainCell\n",
    "from act.simulator import Simulator\n",
    "from act.act_types import SimulationParameters"
   ]
  },
  {
   "cell_type": "markdown",
   "metadata": {},
   "source": [
    "### 1. Generate target data"
   ]
  },
  {
   "cell_type": "code",
   "execution_count": 2,
   "metadata": {},
   "outputs": [],
   "source": [
    "# Init the cell\n",
    "target_cell = TargetCell(\n",
    "    hoc_file = \"/Users/vladimiromelyusik/ACT/data/Burster/Izhikevich_p307_orig/template.hoc\",\n",
    "    cell_name = \"Burster_Izh\",\n",
    "    g_names = [\"gbar_nap\", \"gkdrbar_kdr\", \"glbar_leak\"]\n",
    ")"
   ]
  },
  {
   "cell_type": "code",
   "execution_count": 3,
   "metadata": {},
   "outputs": [],
   "source": [
    "# Simulate a voltage trace\n",
    "simulator = Simulator()\n",
    "simulator.submit_job(\n",
    "    target_cell,\n",
    "    SimulationParameters(\n",
    "        sim_name = \"target1\",\n",
    "        h_v_init = -70, # (mV)\n",
    "        h_tstop = 300,  # (ms)\n",
    "        h_dt = 0.01, # (ms)\n",
    "        h_celsius = 37, # (deg C)\n",
    "        CI = {\n",
    "            \"type\": \"constant\",\n",
    "            \"amp\": 10,\n",
    "            \"dur\": 290,\n",
    "            \"delay\": 10\n",
    "        }\n",
    "    )\n",
    ")\n",
    "# simulator.submit_job(...)\n",
    "# simulator.submit_job(...)"
   ]
  },
  {
   "cell_type": "code",
   "execution_count": 4,
   "metadata": {},
   "outputs": [
    {
     "name": "stdout",
     "output_type": "stream",
     "text": [
      "Total number of jobs: 1\n",
      "Total number of proccessors: 8\n"
     ]
    }
   ],
   "source": [
    "# Run\n",
    "simulator.run(\"/Users/vladimiromelyusik/ACT/data/Burster/Izhikevich_p307_orig/modfiles\")"
   ]
  },
  {
   "cell_type": "markdown",
   "metadata": {},
   "source": [
    "### 2. Generate simulated data"
   ]
  },
  {
   "cell_type": "code",
   "execution_count": 5,
   "metadata": {},
   "outputs": [],
   "source": [
    "# Init the cell\n",
    "train_cell = TrainCell(\n",
    "    hoc_file = \"/Users/vladimiromelyusik/ACT/data/Burster/Izhikevich_p307_orig/template.hoc\",\n",
    "    cell_name = \"Burster_Izh\",\n",
    "    g_names = [\"gbar_nap\", \"gkdrbar_kdr\", \"glbar_leak\"]\n",
    ")"
   ]
  },
  {
   "cell_type": "code",
   "execution_count": 6,
   "metadata": {},
   "outputs": [],
   "source": [
    "# Predict passive properties\n",
    "# ..."
   ]
  },
  {
   "cell_type": "code",
   "execution_count": 7,
   "metadata": {},
   "outputs": [],
   "source": [
    "# Simulate a voltage trace\n",
    "simulator = Simulator()\n",
    "\n",
    "# Set parameters from the grid\n",
    "train_cell.set_g([\"gbar_nap\", \"gkdrbar_kdr\"], [0.01, 0.02])\n",
    "\n",
    "simulator.submit_job(\n",
    "    train_cell, \n",
    "    SimulationParameters(\n",
    "        sim_name = \"train1\",\n",
    "        h_v_init = -70, # (mV)\n",
    "        h_tstop = 300,  # (ms)\n",
    "        h_dt = 0.01, # (ms)\n",
    "        h_celsius = 37, # (deg C)\n",
    "        CI = {\n",
    "            \"type\": \"constant\",\n",
    "            \"amp\": 10,\n",
    "            \"dur\": 290,\n",
    "            \"delay\": 10\n",
    "        }\n",
    "    )\n",
    ")\n",
    "# simulator.submit_job(...)\n",
    "# simulator.submit_job(...)"
   ]
  },
  {
   "cell_type": "code",
   "execution_count": 8,
   "metadata": {},
   "outputs": [
    {
     "name": "stdout",
     "output_type": "stream",
     "text": [
      "Total number of jobs: 1\n",
      "Total number of proccessors: 8\n"
     ]
    }
   ],
   "source": [
    "# Run\n",
    "simulator.run(\"/Users/vladimiromelyusik/ACT/data/Burster/Izhikevich_p307_orig/modfiles\")"
   ]
  },
  {
   "cell_type": "code",
   "execution_count": null,
   "metadata": {},
   "outputs": [],
   "source": [
    "# MatchFilter will go over saved data and create a dataset of the traces that match,\n",
    "# deleting others"
   ]
  },
  {
   "cell_type": "code",
   "execution_count": null,
   "metadata": {},
   "outputs": [],
   "source": []
  },
  {
   "cell_type": "markdown",
   "metadata": {},
   "source": [
    "## 3. Train the model"
   ]
  },
  {
   "cell_type": "code",
   "execution_count": null,
   "metadata": {},
   "outputs": [],
   "source": [
    "dataset = ..."
   ]
  }
 ],
 "metadata": {
  "kernelspec": {
   "display_name": "simulations",
   "language": "python",
   "name": "python3"
  },
  "language_info": {
   "codemirror_mode": {
    "name": "ipython",
    "version": 3
   },
   "file_extension": ".py",
   "mimetype": "text/x-python",
   "name": "python",
   "nbconvert_exporter": "python",
   "pygments_lexer": "ipython3",
   "version": "3.10.13"
  }
 },
 "nbformat": 4,
 "nbformat_minor": 2
}
