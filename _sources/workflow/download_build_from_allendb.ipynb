{
  "cells": [
    {
      "cell_type": "markdown",
      "metadata": {
        "id": "ya_Dey7zuksy"
      },
      "source": [
        "# Download and build the cell\n",
        "\n",
        "We start with searching the [Allen Cell Types Database](http://celltypes.brain-map.org/data) for a detailed biophysical cell model that could faithfully represent the provided biological data. This step can be skipped if the cell model was already obtained from a different source."
      ]
    },
    {
      "cell_type": "markdown",
      "metadata": {
        "id": "nLm0naZ1vfRB"
      },
      "source": [
        "## Find and download the cell"
      ]
    },
    {
      "cell_type": "markdown",
      "metadata": {},
      "source": [
        "We found that [the cell from specimen 480351780](https://celltypes.brain-map.org/experiment/electrophysiology/480351780) has a biophysical model with active channels in the dendrites that was constructed to represent data from the same general area of the mouse brain. To download the model, we first use `specimen_id` to view all models available for that specimen."
      ]
    },
    {
      "cell_type": "code",
      "execution_count": null,
      "metadata": {
        "colab": {
          "base_uri": "https://localhost:8080/"
        },
        "id": "jz0Svcsdlxk7",
        "outputId": "b5c48faf-bdd3-46a9-a559-bba31192f2e8"
      },
      "outputs": [
        {
          "data": {
            "text/plain": [
              "[{'id': 482529696,\n",
              "  'name': 'Biophysical - perisomatic_Rorb-IRES2-Cre-D;Ai14-197851.04.01.01',\n",
              "  'neuron_reconstruction_id': 491770985,\n",
              "  'neuronal_model_template_id': 329230710,\n",
              "  'specimen_id': 480351780},\n",
              " {'id': 497232429,\n",
              "  'name': 'Biophysical - all active_Rorb-IRES2-Cre-D;Ai14-197851.04.01.01',\n",
              "  'neuron_reconstruction_id': 491770985,\n",
              "  'neuronal_model_template_id': 491455321,\n",
              "  'specimen_id': 480351780}]"
            ]
          },
          "execution_count": 2,
          "metadata": {},
          "output_type": "execute_result"
        }
      ],
      "source": [
        "from allensdk.api.queries.biophysical_api import BiophysicalApi\n",
        "\n",
        "bp = BiophysicalApi()\n",
        "bp.get_neuronal_models(480351780)\n",
        "\n",
        "# Note\n",
        "# ----\n",
        "# perisomatic – passive dendrites\n",
        "# all active - active dendrites"
      ]
    },
    {
      "cell_type": "markdown",
      "metadata": {},
      "source": [
        "We then use cell id (`id`) to download the cell data to `working_directory`."
      ]
    },
    {
      "cell_type": "code",
      "execution_count": null,
      "metadata": {
        "colab": {
          "base_uri": "https://localhost:8080/"
        },
        "id": "TiL4l6WVl8eN",
        "outputId": "9d87e58f-179f-4912-cab0-82ef9ee9df37"
      },
      "outputs": [
        {
          "name": "stderr",
          "output_type": "stream",
          "text": [
            "2025-07-04 17:14:26,944 allensdk.api.api.retrieve_file_over_http INFO     Downloading URL: http://api.brain-map.org/api/v2/well_known_file_download/491770987\n",
            "2025-07-04 17:14:27,425 allensdk.api.api.retrieve_file_over_http INFO     Downloading URL: http://api.brain-map.org/api/v2/well_known_file_download/496605092\n",
            "2025-07-04 17:14:27,654 allensdk.api.api.retrieve_file_over_http INFO     Downloading URL: http://api.brain-map.org/api/v2/well_known_file_download/395337019\n",
            "2025-07-04 17:14:27,862 allensdk.api.api.retrieve_file_over_http INFO     Downloading URL: http://api.brain-map.org/api/v2/well_known_file_download/395337225\n",
            "2025-07-04 17:14:28,049 allensdk.api.api.retrieve_file_over_http INFO     Downloading URL: http://api.brain-map.org/api/v2/well_known_file_download/395337054\n",
            "2025-07-04 17:14:28,251 allensdk.api.api.retrieve_file_over_http INFO     Downloading URL: http://api.brain-map.org/api/v2/well_known_file_download/395337070\n",
            "2025-07-04 17:14:28,431 allensdk.api.api.retrieve_file_over_http INFO     Downloading URL: http://api.brain-map.org/api/v2/well_known_file_download/491113425\n",
            "2025-07-04 17:14:28,625 allensdk.api.api.retrieve_file_over_http INFO     Downloading URL: http://api.brain-map.org/api/v2/well_known_file_download/395337062\n",
            "2025-07-04 17:14:28,817 allensdk.api.api.retrieve_file_over_http INFO     Downloading URL: http://api.brain-map.org/api/v2/well_known_file_download/395337293\n",
            "2025-07-04 17:14:28,999 allensdk.api.api.retrieve_file_over_http INFO     Downloading URL: http://api.brain-map.org/api/v2/well_known_file_download/395337007\n",
            "2025-07-04 17:14:29,200 allensdk.api.api.retrieve_file_over_http INFO     Downloading URL: http://api.brain-map.org/api/v2/well_known_file_download/464138096\n",
            "2025-07-04 17:14:29,414 allensdk.api.api.retrieve_file_over_http INFO     Downloading URL: http://api.brain-map.org/api/v2/well_known_file_download/395337066\n",
            "2025-07-04 17:14:29,623 allensdk.api.api.retrieve_file_over_http INFO     Downloading URL: http://api.brain-map.org/api/v2/well_known_file_download/395337015\n",
            "2025-07-04 17:14:29,871 allensdk.api.api.retrieve_file_over_http INFO     Downloading URL: http://api.brain-map.org/api/v2/well_known_file_download/395337011\n",
            "2025-07-04 17:14:30,042 allensdk.api.api.retrieve_file_over_http INFO     Downloading URL: http://api.brain-map.org/api/v2/well_known_file_download/395337046\n",
            "2025-07-04 17:14:30,230 allensdk.api.api.retrieve_file_over_http INFO     Downloading URL: http://api.brain-map.org/api/v2/well_known_file_download/395337042\n",
            "2025-07-04 17:14:30,451 allensdk.api.api.retrieve_file_over_http INFO     Downloading URL: http://api.brain-map.org/api/v2/well_known_file_download/395337050\n",
            "2025-07-04 17:14:30,652 allensdk.api.api.retrieve_file_over_http INFO     Downloading URL: http://api.brain-map.org/api/v2/well_known_file_download/395337003\n",
            "2025-07-04 17:14:30,846 allensdk.api.api.retrieve_file_over_http INFO     Downloading URL: http://api.brain-map.org/api/v2/well_known_file_download/568152694\n"
          ]
        }
      ],
      "source": [
        "# Download the cell\n",
        "bp.cache_stimulus = False # False = do not download the large stimulus NWB file\n",
        "bp.cache_data(497232429, working_directory = 'L5') # The cell will be downloaded to `working_directory`"
      ]
    },
    {
      "cell_type": "markdown",
      "metadata": {
        "id": "L6EW-xKqvmWg"
      },
      "source": [
        "## Build the cell\n",
        "\n",
        "`ACT` can flexibly build custom cell models, including those downloaded from ACTD, by processing a cell builder function provided by the user (see [an example](https://github.com/V-Marco/ACT/blob/main/experiments/L5/cell_builder.py) of specifying such a function for the downloaded cell).\n",
        "\n",
        "``` python\n",
        "def L5_cell_builder():\n",
        "    from allensdk.model.biophys_sim.config import Config\n",
        "    from allensdk.model.biophysical.utils import AllActiveUtils\n",
        "    import os\n",
        "\n",
        "    # Create the h object\n",
        "    current_dir = os.getcwd()\n",
        "    os.chdir(\"../../data/L5/orig\")\n",
        "    description = Config().load('manifest.json')\n",
        "    utils = AllActiveUtils(description, axon_type = \"stub\")\n",
        "    h = utils.h\n",
        "\n",
        "    # Configure morphology\n",
        "    morphology_path = description.manifest.get_path('MORPHOLOGY')\n",
        "    utils.generate_morphology(morphology_path.encode('ascii', 'ignore'))\n",
        "    utils.load_cell_parameters()\n",
        "    os.chdir(current_dir)\n",
        "\n",
        "    return h\n",
        "```"
      ]
    },
    {
      "cell_type": "markdown",
      "metadata": {},
      "source": [
        "## Additional resources by Allen Institute\n",
        "\n",
        "The following resources could be useful:\n",
        "\n",
        "- [Tutorial on downloading biophysical models](https://allensdk.readthedocs.io/en/latest/biophysical_models.html)\n",
        "- [Example on building cell models](https://alleninstitute.github.io/AllenSDK/_static/examples/nb/pulse_stimulus.html)"
      ]
    }
  ],
  "metadata": {
    "colab": {
      "provenance": []
    },
    "kernelspec": {
      "display_name": "simulations",
      "language": "python",
      "name": "python3"
    },
    "language_info": {
      "codemirror_mode": {
        "name": "ipython",
        "version": 3
      },
      "file_extension": ".py",
      "mimetype": "text/x-python",
      "name": "python",
      "nbconvert_exporter": "python",
      "pygments_lexer": "ipython3",
      "version": "3.10.13"
    }
  },
  "nbformat": 4,
  "nbformat_minor": 0
}
