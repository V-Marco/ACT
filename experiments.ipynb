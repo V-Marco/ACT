{
 "cells": [
  {
   "cell_type": "code",
   "execution_count": 9,
   "metadata": {},
   "outputs": [
    {
     "name": "stdout",
     "output_type": "stream",
     "text": [
      "Saved metrics to: experiments/Spiker/not-filtered/output/Spiker_Qualitative_passive_spike_sl-10_5/Spiker_Qualitative_passive_spike_sl-10_5_averaged_metrics.json\n"
     ]
    }
   ],
   "source": [
    "from act.Metrics import Metrics\n",
    "\n",
    "metrics = Metrics()\n",
    "\n",
    "seeds = [\"42\",\"43\",\"44\",\"45\",\"46\"]\n",
    "num_slices_new = 10\n",
    "num_slices_old = 5\n",
    "cell = \"Spiker\"\n",
    "cell_props = \"low\" # low, high, center\n",
    "experiment = \"range\" # blocked, range\n",
    "filtering = \"not-filtered\" # filtered, not-filtered\n",
    "protocol = \"Qualitative_passive_spike\" # Original, Full_vhalf, Qualitative_...\n",
    "\n",
    "\n",
    "\n",
    "if filtering == \"filtered\":\n",
    "    f = \"fsl\"\n",
    "else:\n",
    "    f = \"sl\"    \n",
    "\n",
    "if protocol == \"Original\":\n",
    "    module_name = f\"{cell}_{protocol}_{f}-{num_slices_new}\"\n",
    "    result_folder = \"final\"\n",
    "else:\n",
    "    module_name = f\"{cell}_{protocol}_{f}-{num_slices_new}_{num_slices_old}\"\n",
    "    result_folder = \"module_final\"\n",
    "    \n",
    "folder_name = f\"output/{module_name}\"\n",
    "\n",
    "metrics.average_metrics_across_seeds(\n",
    "    [\n",
    "        f\"experiments/{cell}/{filtering}/{folder_name}/{seeds[0]}/{result_folder}/results/saved_metrics.json\",\n",
    "        f\"experiments/{cell}/{filtering}/{folder_name}/{seeds[1]}/{result_folder}/results/saved_metrics.json\",\n",
    "        f\"experiments/{cell}/{filtering}/{folder_name}/{seeds[2]}/{result_folder}/results/saved_metrics.json\",\n",
    "        f\"experiments/{cell}/{filtering}/{folder_name}/{seeds[3]}/{result_folder}/results/saved_metrics.json\",\n",
    "        f\"experiments/{cell}/{filtering}/{folder_name}/{seeds[4]}/{result_folder}/results/saved_metrics.json\"\n",
    "    ],\n",
    "    f\"experiments/{cell}/{filtering}/{folder_name}/{module_name}_averaged_metrics.json\"\n",
    ")"
   ]
  }
 ],
 "metadata": {
  "kernelspec": {
   "display_name": "act-venv",
   "language": "python",
   "name": "python3"
  },
  "language_info": {
   "codemirror_mode": {
    "name": "ipython",
    "version": 3
   },
   "file_extension": ".py",
   "mimetype": "text/x-python",
   "name": "python",
   "nbconvert_exporter": "python",
   "pygments_lexer": "ipython3",
   "version": "3.9.19"
  }
 },
 "nbformat": 4,
 "nbformat_minor": 2
}
