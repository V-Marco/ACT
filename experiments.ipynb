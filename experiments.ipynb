{
 "cells": [
  {
   "cell_type": "code",
   "execution_count": 3,
   "metadata": {},
   "outputs": [
    {
     "name": "stdout",
     "output_type": "stream",
     "text": [
      "Saved metrics to: output/spiker_seg_sl-10/averaged_metrics.json\n"
     ]
    }
   ],
   "source": [
    "from act.Metrics import Metrics\n",
    "\n",
    "metrics = Metrics()\n",
    "\n",
    "num_slices = 10\n",
    "\n",
    "module_name = f\"output/spiker_seg_sl-{num_slices}\"\n",
    "\n",
    "metrics.average_metrics_across_seeds(\n",
    "    [\n",
    "        f\"{module_name}/42/module_final/results/saved_metrics.json\",\n",
    "        f\"{module_name}/43/module_final/results/saved_metrics.json\",\n",
    "        f\"{module_name}/44/module_final/results/saved_metrics.json\",\n",
    "        f\"{module_name}/45/module_final/results/saved_metrics.json\",\n",
    "        f\"{module_name}/46/module_final/results/saved_metrics.json\"\n",
    "    ],\n",
    "    f\"{module_name}/averaged_metrics.json\"\n",
    ")"
   ]
  }
 ],
 "metadata": {
  "kernelspec": {
   "display_name": "act-venv",
   "language": "python",
   "name": "python3"
  },
  "language_info": {
   "codemirror_mode": {
    "name": "ipython",
    "version": 3
   },
   "file_extension": ".py",
   "mimetype": "text/x-python",
   "name": "python",
   "nbconvert_exporter": "python",
   "pygments_lexer": "ipython3",
   "version": "3.9.19"
  }
 },
 "nbformat": 4,
 "nbformat_minor": 2
}
