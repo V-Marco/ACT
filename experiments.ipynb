{
 "cells": [
  {
   "cell_type": "code",
   "execution_count": 1,
   "metadata": {},
   "outputs": [
    {
     "name": "stderr",
     "output_type": "stream",
     "text": [
      "/home/mwsrgf/act-venv/lib64/python3.9/site-packages/torch/__init__.py:955: UserWarning: torch.set_default_tensor_type() is deprecated as of PyTorch 2.1, please use torch.set_default_dtype() and torch.set_default_device() as alternatives. (Triggered internally at ../torch/csrc/tensor/python_tensor.cpp:432.)\n",
      "  _C._set_default_tensor_type(t)\n"
     ]
    },
    {
     "name": "stdout",
     "output_type": "stream",
     "text": [
      "Saved metrics to: output/spiker_seg_filtered_sl-10/averaged_metrics.json\n"
     ]
    },
    {
     "name": "stderr",
     "output_type": "stream",
     "text": [
      "Warning: no DISPLAY environment variable.\n",
      "--No graphics will be displayed.\n"
     ]
    }
   ],
   "source": [
    "from act.Metrics import Metrics\n",
    "\n",
    "metrics = Metrics()\n",
    "\n",
    "num_slices = 10\n",
    "\n",
    "module_name = f\"output/spiker_seg_filtered_sl-{num_slices}\"\n",
    "\n",
    "metrics.average_metrics_across_seeds(\n",
    "    [\n",
    "        f\"{module_name}/42/module_final/results/saved_metrics.json\",\n",
    "        f\"{module_name}/43/module_final/results/saved_metrics.json\",\n",
    "        f\"{module_name}/44/module_final/results/saved_metrics.json\",\n",
    "        f\"{module_name}/45/module_final/results/saved_metrics.json\",\n",
    "        f\"{module_name}/46/module_final/results/saved_metrics.json\"\n",
    "    ],\n",
    "    f\"{module_name}/averaged_metrics.json\"\n",
    ")"
   ]
  }
 ],
 "metadata": {
  "kernelspec": {
   "display_name": "act-venv",
   "language": "python",
   "name": "python3"
  },
  "language_info": {
   "codemirror_mode": {
    "name": "ipython",
    "version": 3
   },
   "file_extension": ".py",
   "mimetype": "text/x-python",
   "name": "python",
   "nbconvert_exporter": "python",
   "pygments_lexer": "ipython3",
   "version": "3.9.19"
  }
 },
 "nbformat": 4,
 "nbformat_minor": 2
}
