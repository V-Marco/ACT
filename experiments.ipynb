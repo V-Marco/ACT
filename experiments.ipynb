{
 "cells": [
  {
   "cell_type": "code",
   "execution_count": 6,
   "metadata": {},
   "outputs": [
    {
     "name": "stdout",
     "output_type": "stream",
     "text": [
      "Saved metrics to: output/bursterIzh_seg_highblocked_sl-10-5/bursterIzh_seg_highblocked_sl-10-5_averaged_metrics.json\n"
     ]
    }
   ],
   "source": [
    "from act.Metrics import Metrics\n",
    "\n",
    "metrics = Metrics()\n",
    "\n",
    "num_slices_new = 10\n",
    "num_slices_old = 5\n",
    "cell_props = \"high\" # low, high, center\n",
    "experiment = \"blocked\" # blocked, range\n",
    "module_name = f\"bursterIzh_seg_{cell_props}{experiment}_sl-{num_slices_new}-{num_slices_old}\"\n",
    "folder_name = f\"output/{module_name}\"\n",
    "\n",
    "metrics.average_metrics_across_seeds(\n",
    "    [\n",
    "        f\"{folder_name}/42/module_final/results/saved_metrics.json\",\n",
    "        f\"{folder_name}/43/module_final/results/saved_metrics.json\",\n",
    "        f\"{folder_name}/44/module_final/results/saved_metrics.json\",\n",
    "        f\"{folder_name}/45/module_final/results/saved_metrics.json\",\n",
    "        f\"{folder_name}/46/module_final/results/saved_metrics.json\"\n",
    "    ],\n",
    "    f\"{folder_name}/{module_name}_averaged_metrics.json\"\n",
    ")"
   ]
  }
 ],
 "metadata": {
  "kernelspec": {
   "display_name": "act-venv",
   "language": "python",
   "name": "python3"
  },
  "language_info": {
   "codemirror_mode": {
    "name": "ipython",
    "version": 3
   },
   "file_extension": ".py",
   "mimetype": "text/x-python",
   "name": "python",
   "nbconvert_exporter": "python",
   "pygments_lexer": "ipython3",
   "version": "3.9.19"
  }
 },
 "nbformat": 4,
 "nbformat_minor": 2
}
