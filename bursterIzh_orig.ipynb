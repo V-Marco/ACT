{
 "cells": [
  {
   "cell_type": "markdown",
   "metadata": {},
   "source": [
    "# Burster Izhikevich - Original Pipeline"
   ]
  },
  {
   "cell_type": "code",
   "execution_count": 1,
   "metadata": {},
   "outputs": [
    {
     "name": "stderr",
     "output_type": "stream",
     "text": [
      "/home/mwsrgf/act-venv/lib64/python3.9/site-packages/torch/__init__.py:955: UserWarning: torch.set_default_tensor_type() is deprecated as of PyTorch 2.1, please use torch.set_default_dtype() and torch.set_default_device() as alternatives. (Triggered internally at ../torch/csrc/tensor/python_tensor.cpp:432.)\n",
      "  _C._set_default_tensor_type(t)\n",
      "Warning: no DISPLAY environment variable.\n",
      "--No graphics will be displayed.\n"
     ]
    }
   ],
   "source": [
    "from act.SyntheticGenerator import SyntheticGenerator\n",
    "from act.act_types import SimParams, OptimizationParameters\n",
    "from act.cell_model import TargetCell, ModuleParameters\n",
    "\n",
    "random_seed = 46\n",
    "num_slices = 10\n",
    "experiment_folder = f\"output/bursterIzh_orig_sl-{num_slices}/{random_seed}\"\n",
    "target_folder = experiment_folder + \"/target\"\n",
    "\n",
    "module_folder = experiment_folder + \"/module\"\n",
    "\n",
    "target_cell = TargetCell(\n",
    "    hoc_file=\"/home/mwsrgf/proj/ACT/data/Burster_Izhikevich/seg/template.hoc\",\n",
    "    mod_folder=\"/home/mwsrgf/proj/ACT/data/Burster_Izhikevich/seg\",\n",
    "    cell_name=\"Burster_Izh\",\n",
    "    g_names = [\"gbar_na3\", \"gkdrbar_kdr\",\"gbar_nap\",\"gmbar_im\", \"glbar_leak\"]\n",
    ")\n",
    "\n",
    "sim_par= SimParams(\n",
    "            h_v_init=-67.0,  # Consistent with nrngui settings\n",
    "            h_tstop=500,     # Simulation time in ms\n",
    "            h_dt=0.1,      # Time step in ms\n",
    "            h_celsius=6.3,   # Temperature in degrees Celsius\n",
    "            CI_type=\"constant\",\n",
    "            CI_amps=[0.1,0.3,0.5],   # Current injection amplitude\n",
    "            CI_dur=300,      # Duration of current injection\n",
    "            CI_delay=100,     # Delay before current injection\n",
    "            set_g_to=[]\n",
    "        )"
   ]
  },
  {
   "cell_type": "markdown",
   "metadata": {},
   "source": [
    "# Generating Synthetic Data"
   ]
  },
  {
   "cell_type": "code",
   "execution_count": 2,
   "metadata": {},
   "outputs": [
    {
     "name": "stdout",
     "output_type": "stream",
     "text": [
      "Blocking: []\n",
      "Total number of jobs: 3\n",
      "Total number of proccessors: 192\n",
      "/home/mwsrgf/proj/ACT/output/bursterIzh_orig_sl-10/46/target/synthetic_0.1_0.3_0.5_\n"
     ]
    }
   ],
   "source": [
    "sg = SyntheticGenerator(\n",
    "    ModuleParameters(\n",
    "        module_folder_name=target_folder,\n",
    "        cell= target_cell,\n",
    "        sim_params= sim_par,\n",
    "        optim_params = OptimizationParameters(\n",
    "            blocked_channels= []\n",
    "        )\n",
    "    )\n",
    ")\n",
    "\n",
    "sg.generate_synthetic_target_data(\"target_data.csv\")"
   ]
  },
  {
   "cell_type": "code",
   "execution_count": 3,
   "metadata": {},
   "outputs": [
    {
     "name": "stdout",
     "output_type": "stream",
     "text": [
      "Blocking: []\n",
      "Total number of jobs: 1\n",
      "Total number of proccessors: 192\n",
      "MECHANISMS already loaded.\n",
      "/home/mwsrgf/proj/ACT/output/bursterIzh_orig_sl-10/46/target/synthetic_-1_\n"
     ]
    }
   ],
   "source": [
    "passive_sim_par = SimParams(\n",
    "            h_v_init = -67,\n",
    "            h_tstop = 1500,\n",
    "            h_dt = 0.001,\n",
    "            h_celsius = 6.3,\n",
    "            CI_type = \"constant\",\n",
    "            CI_amps = [-1],    ##################### NEGATIVE CURRENT INJECTION ###################\n",
    "            CI_dur = 1000,\n",
    "            CI_delay = 500,\n",
    "            set_g_to=[]\n",
    "        )\n",
    "\n",
    "sg_passive = SyntheticGenerator(\n",
    "    ModuleParameters(\n",
    "        module_folder_name=target_folder,\n",
    "        cell= target_cell,\n",
    "        sim_params= passive_sim_par,\n",
    "        optim_params = OptimizationParameters(\n",
    "            blocked_channels= []\n",
    "        )\n",
    "    )\n",
    ")\n",
    "\n",
    "sg_passive.generate_synthetic_target_data(\"passive_data.csv\")"
   ]
  },
  {
   "cell_type": "markdown",
   "metadata": {},
   "source": [
    "# Calculating Passive Property"
   ]
  },
  {
   "cell_type": "code",
   "execution_count": 4,
   "metadata": {},
   "outputs": [],
   "source": [
    "from act.PassivePropertiesModule import PassivePropertiesModule\n",
    "from act.act_types import SimParams\n",
    "from act.cell_model import TrainCell\n",
    "\n",
    "train_cell = TrainCell(\n",
    "    hoc_file=\"/home/mwsrgf/proj/ACT/data/Burster_Izhikevich/seg/template.hoc\",\n",
    "    mod_folder=\"/home/mwsrgf/proj/ACT/data/Burster_Izhikevich/seg\",\n",
    "    cell_name=\"Burster_Izh\",\n",
    "    g_names = [\"gbar_na3\", \"gkdrbar_kdr\",\"gbar_nap\",\"gmbar_im\", \"glbar_leak\"]\n",
    ")\n",
    "\n",
    "passive_mod = PassivePropertiesModule(\n",
    "    train_cell=train_cell,\n",
    "    sim_params=passive_sim_par,\n",
    "    trace_filepath=f\"{target_folder}/passive_data.csv\",\n",
    "    leak_conductance_variable=\"glbar_leak\",\n",
    "    leak_reversal_variable=\"el_leak\"\n",
    ")"
   ]
  },
  {
   "cell_type": "code",
   "execution_count": 5,
   "metadata": {},
   "outputs": [
    {
     "name": "stdout",
     "output_type": "stream",
     "text": [
      "MECHANISMS already loaded.\n",
      "Found 1 section(s) in this cell. Calculating the total surface area of the cell.\n",
      "PassiveProperties(V_rest=-70.07262004640518, R_in=306.36820650467416, tau=69.423, Cm=2.499821798209222, g_bar_leak=3.60085533354828e-05, cell_area=9.064641486925113e-05, leak_conductance_variable='glbar_leak', leak_reversal_variable='el_leak')\n"
     ]
    }
   ],
   "source": [
    "passive_mod.set_passive_properties()\n",
    "print(train_cell.passive_properties)"
   ]
  },
  {
   "cell_type": "markdown",
   "metadata": {},
   "source": [
    "# Running Module"
   ]
  },
  {
   "cell_type": "code",
   "execution_count": 6,
   "metadata": {},
   "outputs": [],
   "source": [
    "from act.ACTModule import ACTModule\n",
    "from act.act_types import OptimizationParameters, OptimizationParam\n",
    "from act.cell_model import ModuleParameters\n",
    "\n",
    "\n",
    "mod = ACTModule(\n",
    "    ModuleParameters(\n",
    "        module_folder_name=module_folder,\n",
    "        cell= train_cell,\n",
    "        target_traces_file = f\"{target_folder}/target_data.csv\",\n",
    "        sim_params= sim_par,\n",
    "        optim_params= OptimizationParameters(\n",
    "            g_ranges_slices= [\n",
    "                OptimizationParam(param=\"gbar_na3\", low=0.025, high=0.075, n_slices=num_slices),\n",
    "                OptimizationParam(param=\"gkdrbar_kdr\", low=0.015, high=0.045, n_slices=num_slices),\n",
    "                OptimizationParam(param=\"gbar_nap\", low=0.0002, high=0.0006, n_slices=num_slices),\n",
    "                OptimizationParam(param=\"gmbar_im\", low=0.0019, high=0.0057, n_slices=num_slices),\n",
    "                OptimizationParam(param=\"glbar_leak\", prediction=train_cell.passive_properties.g_bar_leak, bounds_variation=0.0, n_slices=1)\n",
    "            ],\n",
    "            #filtered_out_features = [\"no_spikes\", \"saturated\"],\n",
    "            train_features=[\"i_trace_stats\", \"number_of_spikes\", \"spike_times\", \"spike_height_stats\", \"trough_times\", \"trough_height_stats\"],\n",
    "            spike_threshold=0,\n",
    "            saturation_threshold=-55,\n",
    "            first_n_spikes=20,\n",
    "            prediction_eval_method='fi_curve',\n",
    "            random_state=random_seed,\n",
    "            save_file=f\"{module_folder}/results/saved_metrics.json\"\n",
    "        )\n",
    "    )\n",
    ")"
   ]
  },
  {
   "cell_type": "code",
   "execution_count": 7,
   "metadata": {},
   "outputs": [
    {
     "name": "stdout",
     "output_type": "stream",
     "text": [
      "RUNNING THE MODULE\n",
      "LOADING TARGET TRACES\n",
      "SIMULATING TRAINING DATA\n",
      "Total number of jobs: 30000\n",
      "Total number of proccessors: 192\n",
      "MECHANISMS already loaded.\n",
      "/home/mwsrgf/proj/ACT/output/bursterIzh_orig_sl-10/46/module/train\n",
      "FILTERING DATA\n",
      "TRAINING RANDOM FOREST REGRESSOR\n",
      "Extracting features: ['I_mean', 'I_stdev', 'Num Spikes', 'Spike Time 1', 'Spike Time 2', 'Spike Time 3', 'Spike Time 4', 'Spike Time 5', 'Spike Time 6', 'Spike Time 7', 'Spike Time 8', 'Spike Time 9', 'Spike Time 10', 'Spike Time 11', 'Spike Time 12', 'Spike Time 13', 'Spike Time 14', 'Spike Time 15', 'Spike Time 16', 'Spike Time 17', 'Spike Time 18', 'Spike Time 19', 'Spike Time 20', 'Min Spike Height', 'Max Spike Height', 'Avg Spike Height', 'Std Spike Height', 'Trough Time 1', 'Trough Time 2', 'Trough Time 3', 'Trough Time 4', 'Trough Time 5', 'Trough Time 6', 'Trough Time 7', 'Trough Time 8', 'Trough Time 9', 'Trough Time 10', 'Trough Time 11', 'Trough Time 12', 'Trough Time 13', 'Trough Time 14', 'Trough Time 15', 'Trough Time 16', 'Trough Time 17', 'Trough Time 18', 'Trough Time 19', 'Trough Time 20', 'Min Trough Height', 'Max Trough Height', 'Avg Trough Height', 'Std Trough Height']\n",
      "Evaluating random forest\n",
      "MAE: 0.000684 (0.000016)\n",
      "Saving rf mean/stdev scores to output/bursterIzh_orig_sl-10/46/module/results/saved_metrics.json\n",
      "Predicted Conductances for each current injection intensity: \n",
      "[[5.00333333e-02 3.15100000e-02 4.09111111e-04 3.86122222e-03\n",
      "  3.60085533e-05]\n",
      " [5.13611111e-02 3.18933333e-02 4.42222222e-04 4.26866667e-03\n",
      "  3.60085533e-05]\n",
      " [5.12388889e-02 3.23966667e-02 4.78444444e-04 4.24248889e-03\n",
      "  3.60085533e-05]]\n",
      "SIMULATING PREDICTIONS\n",
      "Total number of jobs: 9\n",
      "Total number of proccessors: 192\n",
      "MECHANISMS already loaded.\n",
      "/home/mwsrgf/proj/ACT/output/bursterIzh_orig_sl-10/46/module/prediction_eval0\n",
      "/home/mwsrgf/proj/ACT/output/bursterIzh_orig_sl-10/46/module/prediction_eval1\n",
      "/home/mwsrgf/proj/ACT/output/bursterIzh_orig_sl-10/46/module/prediction_eval2\n",
      "SELECTING BEST PREDICTION\n",
      "FI curve MAE for each prediction: \n",
      "[0.0, 0.0, 1.1111111111111114]\n",
      "{'gbar_na3': 0.05003333333333325, 'gkdrbar_kdr': 0.03150999999999991, 'gbar_nap': 0.0004091111111111102, 'gmbar_im': 0.0038612222222222394, 'glbar_leak': 3.600855333548278e-05}\n",
      "Module runtime: 0:17:03.299465\n"
     ]
    }
   ],
   "source": [
    "final_predicted_g_data_file = mod.run()"
   ]
  },
  {
   "cell_type": "code",
   "execution_count": 8,
   "metadata": {},
   "outputs": [
    {
     "name": "stdout",
     "output_type": "stream",
     "text": [
      "{'gbar_na3': 0.05003333333333325, 'gkdrbar_kdr': 0.03150999999999991, 'gbar_nap': 0.0004091111111111102, 'gmbar_im': 0.0038612222222222394, 'glbar_leak': 3.600855333548278e-05}\n"
     ]
    }
   ],
   "source": [
    "mod.pickle_rf(mod.rf_model,f\"{module_folder}/trained_rf.pkl\")\n",
    "print(train_cell.predicted_g)"
   ]
  },
  {
   "cell_type": "markdown",
   "metadata": {},
   "source": [
    "# Metrics"
   ]
  },
  {
   "cell_type": "code",
   "execution_count": 9,
   "metadata": {},
   "outputs": [],
   "source": [
    "from act import ACTPlot\n",
    "ACTPlot.plot_v_comparison(\n",
    "    final_predicted_g_data_file, \n",
    "    module_folder, \n",
    "    sim_par[\"CI_amps\"],\n",
    "    sim_par[\"h_dt\"]\n",
    "    )\n",
    "\n",
    "ACTPlot.plot_fi_comparison(\n",
    "    module_folder, \n",
    "    sim_par[\"CI_amps\"]\n",
    "    )"
   ]
  },
  {
   "cell_type": "code",
   "execution_count": 10,
   "metadata": {},
   "outputs": [
    {
     "name": "stdout",
     "output_type": "stream",
     "text": [
      "Interspike times (Target): [[2.61e+01 2.18e+02 1.00e+06 1.00e+06]\n",
      " [1.97e+01 2.32e+01 1.00e+06 1.00e+06]\n",
      " [1.69e+01 1.81e+01 2.61e+01 1.00e+06]]\n",
      "Interspike times (Prediction): [[2.580e+01 2.192e+02 1.000e+06 1.000e+06]\n",
      " [1.960e+01 2.290e+01 1.000e+06 1.000e+06]\n",
      " [1.690e+01 1.790e+01 2.490e+01 1.000e+06]]\n",
      "MAE for each I injection: [0.3749999999999929, 0.09999999999999432, 0.3499999999999943]\n",
      "Mean interspike-interval MAE: 0.27499999999999386\n",
      "Standard Deviation interspike-interval MAE: 0.12416387021459412\n",
      "MAE of final g prediction: 0.0003227350440003986\n"
     ]
    }
   ],
   "source": [
    "from act.Metrics import Metrics\n",
    "\n",
    "metrics = Metrics()\n",
    "\n",
    "mean, stdev = metrics.print_interspike_interval_comparison(\n",
    "    module_folder,\n",
    "    final_predicted_g_data_file,\n",
    "    sim_par[\"CI_amps\"], \n",
    "    sim_par[\"h_dt\"],\n",
    "    first_n_spikes=5,\n",
    "    save_file=f\"{module_folder}/results/saved_metrics.json\"\n",
    ")\n",
    "\n",
    "metrics.print_prediction_g_mae(\n",
    "    actual_g={\"gbar_na3\": 0.05, \"gkdrbar_kdr\": 0.03,\"gbar_nap\": 0.0004,\"gmbar_im\": 0.0038, \"glbar_leak\": 3.6e-5},\n",
    "    save_file=f\"{module_folder}/results/saved_metrics.json\"\n",
    ")"
   ]
  }
 ],
 "metadata": {
  "kernelspec": {
   "display_name": "Python 3.9 (act-venv)",
   "language": "python",
   "name": "act-venv"
  },
  "language_info": {
   "codemirror_mode": {
    "name": "ipython",
    "version": 3
   },
   "file_extension": ".py",
   "mimetype": "text/x-python",
   "name": "python",
   "nbconvert_exporter": "python",
   "pygments_lexer": "ipython3",
   "version": "3.9.19"
  }
 },
 "nbformat": 4,
 "nbformat_minor": 2
}
